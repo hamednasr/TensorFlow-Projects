{
  "nbformat": 4,
  "nbformat_minor": 0,
  "metadata": {
    "colab": {
      "provenance": [],
      "collapsed_sections": [],
      "authorship_tag": "ABX9TyNI/b6LcDVURul/BVfKr3iH",
      "include_colab_link": true
    },
    "kernelspec": {
      "name": "python3",
      "display_name": "Python 3"
    },
    "language_info": {
      "name": "python"
    }
  },
  "cells": [
    {
      "cell_type": "markdown",
      "metadata": {
        "id": "view-in-github",
        "colab_type": "text"
      },
      "source": [
        "<a href=\"https://colab.research.google.com/github/hamednasr/TensorFlow-Projects/blob/main/potato_disease_classification.ipynb\" target=\"_parent\"><img src=\"https://colab.research.google.com/assets/colab-badge.svg\" alt=\"Open In Colab\"/></a>"
      ]
    },
    {
      "cell_type": "markdown",
      "source": [
        "# Deep Learning Model to detect potato diseases"
      ],
      "metadata": {
        "id": "jffQJ9VwUn9f"
      }
    },
    {
      "cell_type": "code",
      "execution_count": 6,
      "metadata": {
        "id": "rlyejKsZFvZA"
      },
      "outputs": [],
      "source": [
        "import tensorflow as tf\n",
        "import numpy as np\n",
        "import matplotlib.pyplot as plt"
      ]
    },
    {
      "cell_type": "code",
      "source": [
        "from google.colab import drive\n",
        "drive.mount('/content/drive')"
      ],
      "metadata": {
        "colab": {
          "base_uri": "https://localhost:8080/"
        },
        "id": "Otswx_4oTMyp",
        "outputId": "e28420e1-3746-4c83-a54e-70e0d6ec0715"
      },
      "execution_count": 4,
      "outputs": [
        {
          "output_type": "stream",
          "name": "stdout",
          "text": [
            "Mounted at /content/drive\n"
          ]
        }
      ]
    },
    {
      "cell_type": "code",
      "source": [
        "potato_dataset = tf.keras.preprocessing.image_dataset_from_directory('/content/drive/MyDrive/Colab Notebooks/Computer Vision/potato disease/train',\n",
        "                                                    labels='inferred',\n",
        "                                                    label_mode='int',\n",
        "                                                    batch_size=32,\n",
        "                                                    image_size=(256, 256),\n",
        "                                                    shuffle=True,\n",
        "                                                    validation_split=0.1,\n",
        "                                                    subset=\"training\",\n",
        "                                                    seed=55)"
      ],
      "metadata": {
        "id": "zH8z3K95HBUw",
        "colab": {
          "base_uri": "https://localhost:8080/"
        },
        "outputId": "5358e216-3448-4613-92ed-2523f95e7490"
      },
      "execution_count": 11,
      "outputs": [
        {
          "output_type": "stream",
          "name": "stdout",
          "text": [
            "Found 2152 files belonging to 3 classes.\n",
            "Using 1937 files for training.\n"
          ]
        }
      ]
    },
    {
      "cell_type": "code",
      "source": [
        "potato_dataset"
      ],
      "metadata": {
        "colab": {
          "base_uri": "https://localhost:8080/"
        },
        "id": "iRu4y6SjWMnc",
        "outputId": "db45a5c7-a894-4144-f93d-ec9c485b1e76"
      },
      "execution_count": 13,
      "outputs": [
        {
          "output_type": "execute_result",
          "data": {
            "text/plain": [
              "<BatchDataset element_spec=(TensorSpec(shape=(None, 256, 256, 3), dtype=tf.float32, name=None), TensorSpec(shape=(None,), dtype=tf.int32, name=None))>"
            ]
          },
          "metadata": {},
          "execution_count": 13
        }
      ]
    },
    {
      "cell_type": "code",
      "source": [
        "classes = potato_dataset.class_names\n",
        "classes"
      ],
      "metadata": {
        "colab": {
          "base_uri": "https://localhost:8080/"
        },
        "id": "EmqK_afoTPg0",
        "outputId": "d0c70cc4-0f20-4a0e-940a-68aba633465e"
      },
      "execution_count": 19,
      "outputs": [
        {
          "output_type": "execute_result",
          "data": {
            "text/plain": [
              "['Early_blight', 'Late_blight', 'healthy']"
            ]
          },
          "metadata": {},
          "execution_count": 19
        }
      ]
    },
    {
      "cell_type": "code",
      "source": [
        "for images, labels in potato_dataset.take(1):\n",
        "  print(images.shape)\n",
        "  print(labels)"
      ],
      "metadata": {
        "colab": {
          "base_uri": "https://localhost:8080/"
        },
        "id": "yokGUQ0pTPeG",
        "outputId": "584bf432-95d6-414e-ec75-4d3897d30af1"
      },
      "execution_count": 17,
      "outputs": [
        {
          "output_type": "stream",
          "name": "stdout",
          "text": [
            "(32, 256, 256, 3)\n",
            "tf.Tensor([0 1 0 1 1 1 1 0 0 2 1 1 0 1 2 0 1 0 0 0 1 0 1 1 1 0 0 1 0 0 0 1], shape=(32,), dtype=int32)\n"
          ]
        }
      ]
    },
    {
      "cell_type": "code",
      "source": [
        "potato_dataset."
      ],
      "metadata": {
        "id": "BADRvH4XWYfp"
      },
      "execution_count": null,
      "outputs": []
    },
    {
      "cell_type": "code",
      "source": [],
      "metadata": {
        "id": "OQq0NVDxXBn4"
      },
      "execution_count": null,
      "outputs": []
    }
  ]
}