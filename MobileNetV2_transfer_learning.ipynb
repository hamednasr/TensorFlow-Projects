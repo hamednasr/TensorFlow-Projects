{
  "nbformat": 4,
  "nbformat_minor": 0,
  "metadata": {
    "colab": {
      "name": "MobileNetV2 transfer learning.ipynb",
      "provenance": [],
      "collapsed_sections": [],
      "authorship_tag": "ABX9TyOUBtB7y61b7zLgfpdswVLK",
      "include_colab_link": true
    },
    "kernelspec": {
      "name": "python3",
      "display_name": "Python 3"
    },
    "language_info": {
      "name": "python"
    }
  },
  "cells": [
    {
      "cell_type": "markdown",
      "metadata": {
        "id": "view-in-github",
        "colab_type": "text"
      },
      "source": [
        "<a href=\"https://colab.research.google.com/github/hamednasr/TensorFlow-Projects/blob/main/MobileNetV2_transfer_learning.ipynb\" target=\"_parent\"><img src=\"https://colab.research.google.com/assets/colab-badge.svg\" alt=\"Open In Colab\"/></a>"
      ]
    },
    {
      "cell_type": "markdown",
      "source": [
        "# MobileNetv2 feature extraction transfer learning"
      ],
      "metadata": {
        "id": "hJwOLF0H9Wt2"
      }
    },
    {
      "cell_type": "markdown",
      "source": [
        "### **mission** :we want to classify the images of ten different foods, using the MobileNetv2 and transfer learning, using only 10% of the training data which is only 75 photos in each class, the test set contains 250 images in each class. "
      ],
      "metadata": {
        "id": "VYjPb5x7_6Uh"
      }
    },
    {
      "cell_type": "code",
      "execution_count": 6,
      "metadata": {
        "id": "LGfbwCxm8nl3"
      },
      "outputs": [],
      "source": [
        "import tensorflow as tf\n",
        "import tensorflow_hub as hub\n",
        "import zipfile\n",
        "import os\n",
        "from tensorflow.keras.preprocessing.image import ImageDataGenerator\n",
        "import datetime\n",
        "from tensorflow.keras import layers, optimizers"
      ]
    },
    {
      "cell_type": "markdown",
      "source": [
        "##load data:"
      ],
      "metadata": {
        "id": "yRTLB_q8_2hI"
      }
    },
    {
      "cell_type": "code",
      "source": [
        "!wget https://storage.googleapis.com/ztm_tf_course/food_vision/10_food_classes_10_percent.zip"
      ],
      "metadata": {
        "colab": {
          "base_uri": "https://localhost:8080/"
        },
        "id": "ExBwyZ4I_Uto",
        "outputId": "5cb81790-95f9-4bcd-e395-7ada6fec33d5"
      },
      "execution_count": 2,
      "outputs": [
        {
          "output_type": "stream",
          "name": "stdout",
          "text": [
            "--2022-02-28 06:17:58--  https://storage.googleapis.com/ztm_tf_course/food_vision/10_food_classes_10_percent.zip\n",
            "Resolving storage.googleapis.com (storage.googleapis.com)... 142.250.153.128, 142.250.145.128, 173.194.69.128, ...\n",
            "Connecting to storage.googleapis.com (storage.googleapis.com)|142.250.153.128|:443... connected.\n",
            "HTTP request sent, awaiting response... 200 OK\n",
            "Length: 168546183 (161M) [application/zip]\n",
            "Saving to: ‘10_food_classes_10_percent.zip’\n",
            "\n",
            "10_food_classes_10_ 100%[===================>] 160.74M  68.8MB/s    in 2.3s    \n",
            "\n",
            "2022-02-28 06:18:00 (68.8 MB/s) - ‘10_food_classes_10_percent.zip’ saved [168546183/168546183]\n",
            "\n"
          ]
        }
      ]
    },
    {
      "cell_type": "code",
      "source": [
        "zip_ref = zipfile.ZipFile('10_food_classes_10_percent.zip')\n",
        "zip_ref.extractall()\n",
        "zip_ref.close()"
      ],
      "metadata": {
        "id": "0O0sU0oO_Wan"
      },
      "execution_count": 3,
      "outputs": []
    },
    {
      "cell_type": "code",
      "source": [
        "for dirpath, dirnames,filenames in os.walk('10_food_classes_10_percent'):\n",
        "  print(f'there are {len(dirnames)} folders and {len(filenames)} images in {dirpath}')"
      ],
      "metadata": {
        "colab": {
          "base_uri": "https://localhost:8080/"
        },
        "id": "rTnHjBLA_WYX",
        "outputId": "21ab1991-97be-42fb-c270-bb9c5f5eaf4d"
      },
      "execution_count": 4,
      "outputs": [
        {
          "output_type": "stream",
          "name": "stdout",
          "text": [
            "there are 2 folders and 0 images in 10_food_classes_10_percent\n",
            "there are 10 folders and 0 images in 10_food_classes_10_percent/train\n",
            "there are 0 folders and 75 images in 10_food_classes_10_percent/train/ice_cream\n",
            "there are 0 folders and 75 images in 10_food_classes_10_percent/train/fried_rice\n",
            "there are 0 folders and 75 images in 10_food_classes_10_percent/train/grilled_salmon\n",
            "there are 0 folders and 75 images in 10_food_classes_10_percent/train/hamburger\n",
            "there are 0 folders and 75 images in 10_food_classes_10_percent/train/chicken_curry\n",
            "there are 0 folders and 75 images in 10_food_classes_10_percent/train/pizza\n",
            "there are 0 folders and 75 images in 10_food_classes_10_percent/train/sushi\n",
            "there are 0 folders and 75 images in 10_food_classes_10_percent/train/ramen\n",
            "there are 0 folders and 75 images in 10_food_classes_10_percent/train/steak\n",
            "there are 0 folders and 75 images in 10_food_classes_10_percent/train/chicken_wings\n",
            "there are 10 folders and 0 images in 10_food_classes_10_percent/test\n",
            "there are 0 folders and 250 images in 10_food_classes_10_percent/test/ice_cream\n",
            "there are 0 folders and 250 images in 10_food_classes_10_percent/test/fried_rice\n",
            "there are 0 folders and 250 images in 10_food_classes_10_percent/test/grilled_salmon\n",
            "there are 0 folders and 250 images in 10_food_classes_10_percent/test/hamburger\n",
            "there are 0 folders and 250 images in 10_food_classes_10_percent/test/chicken_curry\n",
            "there are 0 folders and 250 images in 10_food_classes_10_percent/test/pizza\n",
            "there are 0 folders and 250 images in 10_food_classes_10_percent/test/sushi\n",
            "there are 0 folders and 250 images in 10_food_classes_10_percent/test/ramen\n",
            "there are 0 folders and 250 images in 10_food_classes_10_percent/test/steak\n",
            "there are 0 folders and 250 images in 10_food_classes_10_percent/test/chicken_wings\n"
          ]
        }
      ]
    },
    {
      "cell_type": "markdown",
      "source": [
        "## Preprocess data:"
      ],
      "metadata": {
        "id": "S8ozWNXoBnRq"
      }
    },
    {
      "cell_type": "code",
      "source": [
        "train_datagen = ImageDataGenerator(rescale=1/255)\n",
        "test_datagen = ImageDataGenerator(rescale=1/255)"
      ],
      "metadata": {
        "id": "xCEHixpz_zB4"
      },
      "execution_count": 7,
      "outputs": []
    },
    {
      "cell_type": "code",
      "source": [
        "train_dir = '10_food_classes_10_percent/train'\n",
        "test_dir = '10_food_classes_10_percent/test'"
      ],
      "metadata": {
        "id": "NFtrfPSKEgbU"
      },
      "execution_count": 8,
      "outputs": []
    },
    {
      "cell_type": "code",
      "source": [
        "train_data = train_datagen.flow_from_directory(train_dir,target_size=(224,224))\n",
        "test_data = test_datagen.flow_from_directory(test_dir,target_size=(224,224))"
      ],
      "metadata": {
        "colab": {
          "base_uri": "https://localhost:8080/"
        },
        "id": "e-4bOXNd_z3y",
        "outputId": "ad2495c5-176b-4635-df16-3465781557dc"
      },
      "execution_count": 9,
      "outputs": [
        {
          "output_type": "stream",
          "name": "stdout",
          "text": [
            "Found 750 images belonging to 10 classes.\n",
            "Found 2500 images belonging to 10 classes.\n"
          ]
        }
      ]
    },
    {
      "cell_type": "code",
      "source": [
        ""
      ],
      "metadata": {
        "id": "r63qBdvo_z1G"
      },
      "execution_count": null,
      "outputs": []
    },
    {
      "cell_type": "code",
      "source": [
        ""
      ],
      "metadata": {
        "id": "hBoGm68Q_y-M"
      },
      "execution_count": null,
      "outputs": []
    },
    {
      "cell_type": "code",
      "source": [
        ""
      ],
      "metadata": {
        "id": "I-LMzSCN_y6n"
      },
      "execution_count": null,
      "outputs": []
    },
    {
      "cell_type": "code",
      "source": [
        ""
      ],
      "metadata": {
        "id": "U7W7HLI2_y3w"
      },
      "execution_count": null,
      "outputs": []
    },
    {
      "cell_type": "code",
      "source": [
        "https://tfhub.dev/google/imagenet/mobilenet_v2_100_224/feature_vector/5"
      ],
      "metadata": {
        "id": "wkm85n-W9Otp"
      },
      "execution_count": null,
      "outputs": []
    }
  ]
}