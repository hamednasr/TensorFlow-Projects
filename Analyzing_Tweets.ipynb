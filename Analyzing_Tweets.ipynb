{
  "nbformat": 4,
  "nbformat_minor": 0,
  "metadata": {
    "colab": {
      "name": "Analyzing Tweets.ipynb",
      "provenance": [],
      "collapsed_sections": [],
      "authorship_tag": "ABX9TyO4Dxmdv6pUZVsfWXrj91wU",
      "include_colab_link": true
    },
    "kernelspec": {
      "name": "python3",
      "display_name": "Python 3"
    },
    "language_info": {
      "name": "python"
    }
  },
  "cells": [
    {
      "cell_type": "markdown",
      "metadata": {
        "id": "view-in-github",
        "colab_type": "text"
      },
      "source": [
        "<a href=\"https://colab.research.google.com/github/hamednasr/TensorFlow-Projects/blob/main/Analyzing_Tweets.ipynb\" target=\"_parent\"><img src=\"https://colab.research.google.com/assets/colab-badge.svg\" alt=\"Open In Colab\"/></a>"
      ]
    },
    {
      "cell_type": "markdown",
      "source": [
        "# Predicting Tweet`s overal message(disaster or not?):\n",
        "## This is a kaggle competition.\n",
        "https://www.kaggle.com/competitions/nlp-getting-started/data"
      ],
      "metadata": {
        "id": "ol97k-HW8Wg2"
      }
    },
    {
      "cell_type": "code",
      "execution_count": 1,
      "metadata": {
        "id": "yM5I8_f83-kJ"
      },
      "outputs": [],
      "source": [
        "import tensorflow as tf\n",
        "import pandas as pd\n",
        "import random\n",
        "from sklearn.model_selection import train_test_split"
      ]
    },
    {
      "cell_type": "code",
      "source": [
        "!wget https://raw.githubusercontent.com/mrdbourke/tensorflow-deep-learning/main/extras/helper_functions.py"
      ],
      "metadata": {
        "colab": {
          "base_uri": "https://localhost:8080/"
        },
        "id": "cOynL78r7eSi",
        "outputId": "96a593ca-fbfa-49c9-beb5-baabe809c880"
      },
      "execution_count": 2,
      "outputs": [
        {
          "output_type": "stream",
          "name": "stdout",
          "text": [
            "--2022-08-30 12:09:24--  https://raw.githubusercontent.com/mrdbourke/tensorflow-deep-learning/main/extras/helper_functions.py\n",
            "Resolving raw.githubusercontent.com (raw.githubusercontent.com)... 185.199.108.133, 185.199.109.133, 185.199.110.133, ...\n",
            "Connecting to raw.githubusercontent.com (raw.githubusercontent.com)|185.199.108.133|:443... connected.\n",
            "HTTP request sent, awaiting response... 200 OK\n",
            "Length: 10246 (10K) [text/plain]\n",
            "Saving to: ‘helper_functions.py’\n",
            "\n",
            "\rhelper_functions.py   0%[                    ]       0  --.-KB/s               \rhelper_functions.py 100%[===================>]  10.01K  --.-KB/s    in 0s      \n",
            "\n",
            "2022-08-30 12:09:24 (131 MB/s) - ‘helper_functions.py’ saved [10246/10246]\n",
            "\n"
          ]
        }
      ]
    },
    {
      "cell_type": "code",
      "source": [
        "from helper_functions import unzip_data, plot_loss_curves, compare_historys"
      ],
      "metadata": {
        "id": "H9qihhzF7eM-"
      },
      "execution_count": 3,
      "outputs": []
    },
    {
      "cell_type": "code",
      "source": [
        "!wget https://storage.googleapis.com/ztm_tf_course/nlp_getting_started.zip"
      ],
      "metadata": {
        "colab": {
          "base_uri": "https://localhost:8080/"
        },
        "id": "4HQKwtV77N6J",
        "outputId": "09672d5f-526d-4e74-ac79-845bb9e1537c"
      },
      "execution_count": 4,
      "outputs": [
        {
          "output_type": "stream",
          "name": "stdout",
          "text": [
            "--2022-08-30 12:09:24--  https://storage.googleapis.com/ztm_tf_course/nlp_getting_started.zip\n",
            "Resolving storage.googleapis.com (storage.googleapis.com)... 142.251.45.112, 142.250.81.208, 142.251.163.128, ...\n",
            "Connecting to storage.googleapis.com (storage.googleapis.com)|142.251.45.112|:443... connected.\n",
            "HTTP request sent, awaiting response... 200 OK\n",
            "Length: 607343 (593K) [application/zip]\n",
            "Saving to: ‘nlp_getting_started.zip’\n",
            "\n",
            "\rnlp_getting_started   0%[                    ]       0  --.-KB/s               \rnlp_getting_started 100%[===================>] 593.11K  --.-KB/s    in 0.004s  \n",
            "\n",
            "2022-08-30 12:09:24 (147 MB/s) - ‘nlp_getting_started.zip’ saved [607343/607343]\n",
            "\n"
          ]
        }
      ]
    },
    {
      "cell_type": "code",
      "source": [
        "unzip_data('/content/nlp_getting_started.zip')"
      ],
      "metadata": {
        "id": "HEJN23LU7dME"
      },
      "execution_count": 5,
      "outputs": []
    },
    {
      "cell_type": "markdown",
      "source": [
        "## Data Exploration:"
      ],
      "metadata": {
        "id": "g2vkVn6LKQNz"
      }
    },
    {
      "cell_type": "code",
      "source": [
        "train_data = pd.read_csv('train.csv')\n",
        "train_data"
      ],
      "metadata": {
        "colab": {
          "base_uri": "https://localhost:8080/",
          "height": 424
        },
        "id": "nED_2Sbp73WI",
        "outputId": "b30a59e3-dfd0-49a6-9073-d9a27adfed6f"
      },
      "execution_count": 6,
      "outputs": [
        {
          "output_type": "execute_result",
          "data": {
            "text/plain": [
              "         id keyword location  \\\n",
              "0         1     NaN      NaN   \n",
              "1         4     NaN      NaN   \n",
              "2         5     NaN      NaN   \n",
              "3         6     NaN      NaN   \n",
              "4         7     NaN      NaN   \n",
              "...     ...     ...      ...   \n",
              "7608  10869     NaN      NaN   \n",
              "7609  10870     NaN      NaN   \n",
              "7610  10871     NaN      NaN   \n",
              "7611  10872     NaN      NaN   \n",
              "7612  10873     NaN      NaN   \n",
              "\n",
              "                                                   text  target  \n",
              "0     Our Deeds are the Reason of this #earthquake M...       1  \n",
              "1                Forest fire near La Ronge Sask. Canada       1  \n",
              "2     All residents asked to 'shelter in place' are ...       1  \n",
              "3     13,000 people receive #wildfires evacuation or...       1  \n",
              "4     Just got sent this photo from Ruby #Alaska as ...       1  \n",
              "...                                                 ...     ...  \n",
              "7608  Two giant cranes holding a bridge collapse int...       1  \n",
              "7609  @aria_ahrary @TheTawniest The out of control w...       1  \n",
              "7610  M1.94 [01:04 UTC]?5km S of Volcano Hawaii. htt...       1  \n",
              "7611  Police investigating after an e-bike collided ...       1  \n",
              "7612  The Latest: More Homes Razed by Northern Calif...       1  \n",
              "\n",
              "[7613 rows x 5 columns]"
            ],
            "text/html": [
              "\n",
              "  <div id=\"df-0ad07d6d-fd17-4a58-9924-bfd3e3a013c0\">\n",
              "    <div class=\"colab-df-container\">\n",
              "      <div>\n",
              "<style scoped>\n",
              "    .dataframe tbody tr th:only-of-type {\n",
              "        vertical-align: middle;\n",
              "    }\n",
              "\n",
              "    .dataframe tbody tr th {\n",
              "        vertical-align: top;\n",
              "    }\n",
              "\n",
              "    .dataframe thead th {\n",
              "        text-align: right;\n",
              "    }\n",
              "</style>\n",
              "<table border=\"1\" class=\"dataframe\">\n",
              "  <thead>\n",
              "    <tr style=\"text-align: right;\">\n",
              "      <th></th>\n",
              "      <th>id</th>\n",
              "      <th>keyword</th>\n",
              "      <th>location</th>\n",
              "      <th>text</th>\n",
              "      <th>target</th>\n",
              "    </tr>\n",
              "  </thead>\n",
              "  <tbody>\n",
              "    <tr>\n",
              "      <th>0</th>\n",
              "      <td>1</td>\n",
              "      <td>NaN</td>\n",
              "      <td>NaN</td>\n",
              "      <td>Our Deeds are the Reason of this #earthquake M...</td>\n",
              "      <td>1</td>\n",
              "    </tr>\n",
              "    <tr>\n",
              "      <th>1</th>\n",
              "      <td>4</td>\n",
              "      <td>NaN</td>\n",
              "      <td>NaN</td>\n",
              "      <td>Forest fire near La Ronge Sask. Canada</td>\n",
              "      <td>1</td>\n",
              "    </tr>\n",
              "    <tr>\n",
              "      <th>2</th>\n",
              "      <td>5</td>\n",
              "      <td>NaN</td>\n",
              "      <td>NaN</td>\n",
              "      <td>All residents asked to 'shelter in place' are ...</td>\n",
              "      <td>1</td>\n",
              "    </tr>\n",
              "    <tr>\n",
              "      <th>3</th>\n",
              "      <td>6</td>\n",
              "      <td>NaN</td>\n",
              "      <td>NaN</td>\n",
              "      <td>13,000 people receive #wildfires evacuation or...</td>\n",
              "      <td>1</td>\n",
              "    </tr>\n",
              "    <tr>\n",
              "      <th>4</th>\n",
              "      <td>7</td>\n",
              "      <td>NaN</td>\n",
              "      <td>NaN</td>\n",
              "      <td>Just got sent this photo from Ruby #Alaska as ...</td>\n",
              "      <td>1</td>\n",
              "    </tr>\n",
              "    <tr>\n",
              "      <th>...</th>\n",
              "      <td>...</td>\n",
              "      <td>...</td>\n",
              "      <td>...</td>\n",
              "      <td>...</td>\n",
              "      <td>...</td>\n",
              "    </tr>\n",
              "    <tr>\n",
              "      <th>7608</th>\n",
              "      <td>10869</td>\n",
              "      <td>NaN</td>\n",
              "      <td>NaN</td>\n",
              "      <td>Two giant cranes holding a bridge collapse int...</td>\n",
              "      <td>1</td>\n",
              "    </tr>\n",
              "    <tr>\n",
              "      <th>7609</th>\n",
              "      <td>10870</td>\n",
              "      <td>NaN</td>\n",
              "      <td>NaN</td>\n",
              "      <td>@aria_ahrary @TheTawniest The out of control w...</td>\n",
              "      <td>1</td>\n",
              "    </tr>\n",
              "    <tr>\n",
              "      <th>7610</th>\n",
              "      <td>10871</td>\n",
              "      <td>NaN</td>\n",
              "      <td>NaN</td>\n",
              "      <td>M1.94 [01:04 UTC]?5km S of Volcano Hawaii. htt...</td>\n",
              "      <td>1</td>\n",
              "    </tr>\n",
              "    <tr>\n",
              "      <th>7611</th>\n",
              "      <td>10872</td>\n",
              "      <td>NaN</td>\n",
              "      <td>NaN</td>\n",
              "      <td>Police investigating after an e-bike collided ...</td>\n",
              "      <td>1</td>\n",
              "    </tr>\n",
              "    <tr>\n",
              "      <th>7612</th>\n",
              "      <td>10873</td>\n",
              "      <td>NaN</td>\n",
              "      <td>NaN</td>\n",
              "      <td>The Latest: More Homes Razed by Northern Calif...</td>\n",
              "      <td>1</td>\n",
              "    </tr>\n",
              "  </tbody>\n",
              "</table>\n",
              "<p>7613 rows × 5 columns</p>\n",
              "</div>\n",
              "      <button class=\"colab-df-convert\" onclick=\"convertToInteractive('df-0ad07d6d-fd17-4a58-9924-bfd3e3a013c0')\"\n",
              "              title=\"Convert this dataframe to an interactive table.\"\n",
              "              style=\"display:none;\">\n",
              "        \n",
              "  <svg xmlns=\"http://www.w3.org/2000/svg\" height=\"24px\"viewBox=\"0 0 24 24\"\n",
              "       width=\"24px\">\n",
              "    <path d=\"M0 0h24v24H0V0z\" fill=\"none\"/>\n",
              "    <path d=\"M18.56 5.44l.94 2.06.94-2.06 2.06-.94-2.06-.94-.94-2.06-.94 2.06-2.06.94zm-11 1L8.5 8.5l.94-2.06 2.06-.94-2.06-.94L8.5 2.5l-.94 2.06-2.06.94zm10 10l.94 2.06.94-2.06 2.06-.94-2.06-.94-.94-2.06-.94 2.06-2.06.94z\"/><path d=\"M17.41 7.96l-1.37-1.37c-.4-.4-.92-.59-1.43-.59-.52 0-1.04.2-1.43.59L10.3 9.45l-7.72 7.72c-.78.78-.78 2.05 0 2.83L4 21.41c.39.39.9.59 1.41.59.51 0 1.02-.2 1.41-.59l7.78-7.78 2.81-2.81c.8-.78.8-2.07 0-2.86zM5.41 20L4 18.59l7.72-7.72 1.47 1.35L5.41 20z\"/>\n",
              "  </svg>\n",
              "      </button>\n",
              "      \n",
              "  <style>\n",
              "    .colab-df-container {\n",
              "      display:flex;\n",
              "      flex-wrap:wrap;\n",
              "      gap: 12px;\n",
              "    }\n",
              "\n",
              "    .colab-df-convert {\n",
              "      background-color: #E8F0FE;\n",
              "      border: none;\n",
              "      border-radius: 50%;\n",
              "      cursor: pointer;\n",
              "      display: none;\n",
              "      fill: #1967D2;\n",
              "      height: 32px;\n",
              "      padding: 0 0 0 0;\n",
              "      width: 32px;\n",
              "    }\n",
              "\n",
              "    .colab-df-convert:hover {\n",
              "      background-color: #E2EBFA;\n",
              "      box-shadow: 0px 1px 2px rgba(60, 64, 67, 0.3), 0px 1px 3px 1px rgba(60, 64, 67, 0.15);\n",
              "      fill: #174EA6;\n",
              "    }\n",
              "\n",
              "    [theme=dark] .colab-df-convert {\n",
              "      background-color: #3B4455;\n",
              "      fill: #D2E3FC;\n",
              "    }\n",
              "\n",
              "    [theme=dark] .colab-df-convert:hover {\n",
              "      background-color: #434B5C;\n",
              "      box-shadow: 0px 1px 3px 1px rgba(0, 0, 0, 0.15);\n",
              "      filter: drop-shadow(0px 1px 2px rgba(0, 0, 0, 0.3));\n",
              "      fill: #FFFFFF;\n",
              "    }\n",
              "  </style>\n",
              "\n",
              "      <script>\n",
              "        const buttonEl =\n",
              "          document.querySelector('#df-0ad07d6d-fd17-4a58-9924-bfd3e3a013c0 button.colab-df-convert');\n",
              "        buttonEl.style.display =\n",
              "          google.colab.kernel.accessAllowed ? 'block' : 'none';\n",
              "\n",
              "        async function convertToInteractive(key) {\n",
              "          const element = document.querySelector('#df-0ad07d6d-fd17-4a58-9924-bfd3e3a013c0');\n",
              "          const dataTable =\n",
              "            await google.colab.kernel.invokeFunction('convertToInteractive',\n",
              "                                                     [key], {});\n",
              "          if (!dataTable) return;\n",
              "\n",
              "          const docLinkHtml = 'Like what you see? Visit the ' +\n",
              "            '<a target=\"_blank\" href=https://colab.research.google.com/notebooks/data_table.ipynb>data table notebook</a>'\n",
              "            + ' to learn more about interactive tables.';\n",
              "          element.innerHTML = '';\n",
              "          dataTable['output_type'] = 'display_data';\n",
              "          await google.colab.output.renderOutput(dataTable, element);\n",
              "          const docLink = document.createElement('div');\n",
              "          docLink.innerHTML = docLinkHtml;\n",
              "          element.appendChild(docLink);\n",
              "        }\n",
              "      </script>\n",
              "    </div>\n",
              "  </div>\n",
              "  "
            ]
          },
          "metadata": {},
          "execution_count": 6
        }
      ]
    },
    {
      "cell_type": "code",
      "source": [
        "train_data['target'].value_counts()"
      ],
      "metadata": {
        "colab": {
          "base_uri": "https://localhost:8080/"
        },
        "id": "2d3N-WWWEbeE",
        "outputId": "3d4b9dd2-a8ae-47eb-9e53-b89d39a24883"
      },
      "execution_count": 7,
      "outputs": [
        {
          "output_type": "execute_result",
          "data": {
            "text/plain": [
              "0    4342\n",
              "1    3271\n",
              "Name: target, dtype: int64"
            ]
          },
          "metadata": {},
          "execution_count": 7
        }
      ]
    },
    {
      "cell_type": "code",
      "source": [
        "test_data = pd.read_csv('test.csv')\n",
        "test_data"
      ],
      "metadata": {
        "colab": {
          "base_uri": "https://localhost:8080/",
          "height": 424
        },
        "id": "T4KQ8uEEER2T",
        "outputId": "7dcd452f-f0af-48dd-b0c6-7711fa57168e"
      },
      "execution_count": 8,
      "outputs": [
        {
          "output_type": "execute_result",
          "data": {
            "text/plain": [
              "         id keyword location  \\\n",
              "0         0     NaN      NaN   \n",
              "1         2     NaN      NaN   \n",
              "2         3     NaN      NaN   \n",
              "3         9     NaN      NaN   \n",
              "4        11     NaN      NaN   \n",
              "...     ...     ...      ...   \n",
              "3258  10861     NaN      NaN   \n",
              "3259  10865     NaN      NaN   \n",
              "3260  10868     NaN      NaN   \n",
              "3261  10874     NaN      NaN   \n",
              "3262  10875     NaN      NaN   \n",
              "\n",
              "                                                   text  \n",
              "0                    Just happened a terrible car crash  \n",
              "1     Heard about #earthquake is different cities, s...  \n",
              "2     there is a forest fire at spot pond, geese are...  \n",
              "3              Apocalypse lighting. #Spokane #wildfires  \n",
              "4         Typhoon Soudelor kills 28 in China and Taiwan  \n",
              "...                                                 ...  \n",
              "3258  EARTHQUAKE SAFETY LOS ANGELES ÛÒ SAFETY FASTE...  \n",
              "3259  Storm in RI worse than last hurricane. My city...  \n",
              "3260  Green Line derailment in Chicago http://t.co/U...  \n",
              "3261  MEG issues Hazardous Weather Outlook (HWO) htt...  \n",
              "3262  #CityofCalgary has activated its Municipal Eme...  \n",
              "\n",
              "[3263 rows x 4 columns]"
            ],
            "text/html": [
              "\n",
              "  <div id=\"df-1d61aabc-7f49-4ef7-a5df-2b1d449e4df4\">\n",
              "    <div class=\"colab-df-container\">\n",
              "      <div>\n",
              "<style scoped>\n",
              "    .dataframe tbody tr th:only-of-type {\n",
              "        vertical-align: middle;\n",
              "    }\n",
              "\n",
              "    .dataframe tbody tr th {\n",
              "        vertical-align: top;\n",
              "    }\n",
              "\n",
              "    .dataframe thead th {\n",
              "        text-align: right;\n",
              "    }\n",
              "</style>\n",
              "<table border=\"1\" class=\"dataframe\">\n",
              "  <thead>\n",
              "    <tr style=\"text-align: right;\">\n",
              "      <th></th>\n",
              "      <th>id</th>\n",
              "      <th>keyword</th>\n",
              "      <th>location</th>\n",
              "      <th>text</th>\n",
              "    </tr>\n",
              "  </thead>\n",
              "  <tbody>\n",
              "    <tr>\n",
              "      <th>0</th>\n",
              "      <td>0</td>\n",
              "      <td>NaN</td>\n",
              "      <td>NaN</td>\n",
              "      <td>Just happened a terrible car crash</td>\n",
              "    </tr>\n",
              "    <tr>\n",
              "      <th>1</th>\n",
              "      <td>2</td>\n",
              "      <td>NaN</td>\n",
              "      <td>NaN</td>\n",
              "      <td>Heard about #earthquake is different cities, s...</td>\n",
              "    </tr>\n",
              "    <tr>\n",
              "      <th>2</th>\n",
              "      <td>3</td>\n",
              "      <td>NaN</td>\n",
              "      <td>NaN</td>\n",
              "      <td>there is a forest fire at spot pond, geese are...</td>\n",
              "    </tr>\n",
              "    <tr>\n",
              "      <th>3</th>\n",
              "      <td>9</td>\n",
              "      <td>NaN</td>\n",
              "      <td>NaN</td>\n",
              "      <td>Apocalypse lighting. #Spokane #wildfires</td>\n",
              "    </tr>\n",
              "    <tr>\n",
              "      <th>4</th>\n",
              "      <td>11</td>\n",
              "      <td>NaN</td>\n",
              "      <td>NaN</td>\n",
              "      <td>Typhoon Soudelor kills 28 in China and Taiwan</td>\n",
              "    </tr>\n",
              "    <tr>\n",
              "      <th>...</th>\n",
              "      <td>...</td>\n",
              "      <td>...</td>\n",
              "      <td>...</td>\n",
              "      <td>...</td>\n",
              "    </tr>\n",
              "    <tr>\n",
              "      <th>3258</th>\n",
              "      <td>10861</td>\n",
              "      <td>NaN</td>\n",
              "      <td>NaN</td>\n",
              "      <td>EARTHQUAKE SAFETY LOS ANGELES ÛÒ SAFETY FASTE...</td>\n",
              "    </tr>\n",
              "    <tr>\n",
              "      <th>3259</th>\n",
              "      <td>10865</td>\n",
              "      <td>NaN</td>\n",
              "      <td>NaN</td>\n",
              "      <td>Storm in RI worse than last hurricane. My city...</td>\n",
              "    </tr>\n",
              "    <tr>\n",
              "      <th>3260</th>\n",
              "      <td>10868</td>\n",
              "      <td>NaN</td>\n",
              "      <td>NaN</td>\n",
              "      <td>Green Line derailment in Chicago http://t.co/U...</td>\n",
              "    </tr>\n",
              "    <tr>\n",
              "      <th>3261</th>\n",
              "      <td>10874</td>\n",
              "      <td>NaN</td>\n",
              "      <td>NaN</td>\n",
              "      <td>MEG issues Hazardous Weather Outlook (HWO) htt...</td>\n",
              "    </tr>\n",
              "    <tr>\n",
              "      <th>3262</th>\n",
              "      <td>10875</td>\n",
              "      <td>NaN</td>\n",
              "      <td>NaN</td>\n",
              "      <td>#CityofCalgary has activated its Municipal Eme...</td>\n",
              "    </tr>\n",
              "  </tbody>\n",
              "</table>\n",
              "<p>3263 rows × 4 columns</p>\n",
              "</div>\n",
              "      <button class=\"colab-df-convert\" onclick=\"convertToInteractive('df-1d61aabc-7f49-4ef7-a5df-2b1d449e4df4')\"\n",
              "              title=\"Convert this dataframe to an interactive table.\"\n",
              "              style=\"display:none;\">\n",
              "        \n",
              "  <svg xmlns=\"http://www.w3.org/2000/svg\" height=\"24px\"viewBox=\"0 0 24 24\"\n",
              "       width=\"24px\">\n",
              "    <path d=\"M0 0h24v24H0V0z\" fill=\"none\"/>\n",
              "    <path d=\"M18.56 5.44l.94 2.06.94-2.06 2.06-.94-2.06-.94-.94-2.06-.94 2.06-2.06.94zm-11 1L8.5 8.5l.94-2.06 2.06-.94-2.06-.94L8.5 2.5l-.94 2.06-2.06.94zm10 10l.94 2.06.94-2.06 2.06-.94-2.06-.94-.94-2.06-.94 2.06-2.06.94z\"/><path d=\"M17.41 7.96l-1.37-1.37c-.4-.4-.92-.59-1.43-.59-.52 0-1.04.2-1.43.59L10.3 9.45l-7.72 7.72c-.78.78-.78 2.05 0 2.83L4 21.41c.39.39.9.59 1.41.59.51 0 1.02-.2 1.41-.59l7.78-7.78 2.81-2.81c.8-.78.8-2.07 0-2.86zM5.41 20L4 18.59l7.72-7.72 1.47 1.35L5.41 20z\"/>\n",
              "  </svg>\n",
              "      </button>\n",
              "      \n",
              "  <style>\n",
              "    .colab-df-container {\n",
              "      display:flex;\n",
              "      flex-wrap:wrap;\n",
              "      gap: 12px;\n",
              "    }\n",
              "\n",
              "    .colab-df-convert {\n",
              "      background-color: #E8F0FE;\n",
              "      border: none;\n",
              "      border-radius: 50%;\n",
              "      cursor: pointer;\n",
              "      display: none;\n",
              "      fill: #1967D2;\n",
              "      height: 32px;\n",
              "      padding: 0 0 0 0;\n",
              "      width: 32px;\n",
              "    }\n",
              "\n",
              "    .colab-df-convert:hover {\n",
              "      background-color: #E2EBFA;\n",
              "      box-shadow: 0px 1px 2px rgba(60, 64, 67, 0.3), 0px 1px 3px 1px rgba(60, 64, 67, 0.15);\n",
              "      fill: #174EA6;\n",
              "    }\n",
              "\n",
              "    [theme=dark] .colab-df-convert {\n",
              "      background-color: #3B4455;\n",
              "      fill: #D2E3FC;\n",
              "    }\n",
              "\n",
              "    [theme=dark] .colab-df-convert:hover {\n",
              "      background-color: #434B5C;\n",
              "      box-shadow: 0px 1px 3px 1px rgba(0, 0, 0, 0.15);\n",
              "      filter: drop-shadow(0px 1px 2px rgba(0, 0, 0, 0.3));\n",
              "      fill: #FFFFFF;\n",
              "    }\n",
              "  </style>\n",
              "\n",
              "      <script>\n",
              "        const buttonEl =\n",
              "          document.querySelector('#df-1d61aabc-7f49-4ef7-a5df-2b1d449e4df4 button.colab-df-convert');\n",
              "        buttonEl.style.display =\n",
              "          google.colab.kernel.accessAllowed ? 'block' : 'none';\n",
              "\n",
              "        async function convertToInteractive(key) {\n",
              "          const element = document.querySelector('#df-1d61aabc-7f49-4ef7-a5df-2b1d449e4df4');\n",
              "          const dataTable =\n",
              "            await google.colab.kernel.invokeFunction('convertToInteractive',\n",
              "                                                     [key], {});\n",
              "          if (!dataTable) return;\n",
              "\n",
              "          const docLinkHtml = 'Like what you see? Visit the ' +\n",
              "            '<a target=\"_blank\" href=https://colab.research.google.com/notebooks/data_table.ipynb>data table notebook</a>'\n",
              "            + ' to learn more about interactive tables.';\n",
              "          element.innerHTML = '';\n",
              "          dataTable['output_type'] = 'display_data';\n",
              "          await google.colab.output.renderOutput(dataTable, element);\n",
              "          const docLink = document.createElement('div');\n",
              "          docLink.innerHTML = docLinkHtml;\n",
              "          element.appendChild(docLink);\n",
              "        }\n",
              "      </script>\n",
              "    </div>\n",
              "  </div>\n",
              "  "
            ]
          },
          "metadata": {},
          "execution_count": 8
        }
      ]
    },
    {
      "cell_type": "code",
      "source": [
        "random_data = train_data.sample(frac=0.0006)\n",
        "for i in range(len(random_data)):\n",
        "  print(f'tweet number {i+1} :')\n",
        "  if random_data.iloc[i, 4]==1:\n",
        "    target = 'a Disaster'\n",
        "  else:\n",
        "    target = 'NOT Disaster'\n",
        "  print(f'{random_data.iloc[i, 3]} : This is {target} tweet')\n",
        "  print('------------------------------------\\n')\n"
      ],
      "metadata": {
        "colab": {
          "base_uri": "https://localhost:8080/"
        },
        "id": "E4uHcGoQEYVB",
        "outputId": "0ede5b93-3922-48a6-a35c-0cdc03e550a0"
      },
      "execution_count": 9,
      "outputs": [
        {
          "output_type": "stream",
          "name": "stdout",
          "text": [
            "tweet number 1 :\n",
            "Ladies here's how to recover from a #date you totally BOMBED... according to men http://t.co/c5GGSZUGw1 http://t.co/2PiMg9BIcE : This is NOT Disaster tweet\n",
            "------------------------------------\n",
            "\n",
            "tweet number 2 :\n",
            "Remove the http://t.co/2nS5TfnxpA and Linkury Browser Hijacker http://t.co/W2kVScbTLp http://t.co/tn8o00NrLP : This is NOT Disaster tweet\n",
            "------------------------------------\n",
            "\n",
            "tweet number 3 :\n",
            "OMFG??\n",
            "Didnt expect Drag Me Down to be the first song Pandora played \n",
            "\n",
            "OMFG I SCREAMED SO LOUD\n",
            "My coworker is scared http://t.co/VzcvAdkcQp : This is a Disaster tweet\n",
            "------------------------------------\n",
            "\n",
            "tweet number 4 :\n",
            "So today I fell off a rock scraped my whole butt and nearly drowned #summer2k15 : This is NOT Disaster tweet\n",
            "------------------------------------\n",
            "\n",
            "tweet number 5 :\n",
            "Iranian warship points weapon at American helicopter... http://t.co/cgFZk8Ha1R : This is a Disaster tweet\n",
            "------------------------------------\n",
            "\n"
          ]
        }
      ]
    },
    {
      "cell_type": "markdown",
      "source": [
        "## Extract validation data from train data:"
      ],
      "metadata": {
        "id": "RiGYjpD3LOB8"
      }
    },
    {
      "cell_type": "code",
      "source": [
        "train_data['text'].to_numpy()"
      ],
      "metadata": {
        "colab": {
          "base_uri": "https://localhost:8080/"
        },
        "id": "TDEGSE5qMzH4",
        "outputId": "0fe204b0-8fcf-4c47-d831-cd76167ed05d"
      },
      "execution_count": 10,
      "outputs": [
        {
          "output_type": "execute_result",
          "data": {
            "text/plain": [
              "array(['Our Deeds are the Reason of this #earthquake May ALLAH Forgive us all',\n",
              "       'Forest fire near La Ronge Sask. Canada',\n",
              "       \"All residents asked to 'shelter in place' are being notified by officers. No other evacuation or shelter in place orders are expected\",\n",
              "       ...,\n",
              "       'M1.94 [01:04 UTC]?5km S of Volcano Hawaii. http://t.co/zDtoyd8EbJ',\n",
              "       'Police investigating after an e-bike collided with a car in Little Portugal. E-bike rider suffered serious non-life threatening injuries.',\n",
              "       'The Latest: More Homes Razed by Northern California Wildfire - ABC News http://t.co/YmY4rSkQ3d'],\n",
              "      dtype=object)"
            ]
          },
          "metadata": {},
          "execution_count": 10
        }
      ]
    },
    {
      "cell_type": "code",
      "source": [
        "train_data['target'].to_numpy()"
      ],
      "metadata": {
        "colab": {
          "base_uri": "https://localhost:8080/"
        },
        "id": "9E9Bh7DONeeh",
        "outputId": "f4468298-70ba-4414-bb0d-6b0aa07f064a"
      },
      "execution_count": 11,
      "outputs": [
        {
          "output_type": "execute_result",
          "data": {
            "text/plain": [
              "array([1, 1, 1, ..., 1, 1, 1])"
            ]
          },
          "metadata": {},
          "execution_count": 11
        }
      ]
    },
    {
      "cell_type": "code",
      "source": [
        "train_data, val_data, train_label, val_label = train_test_split(train_data['text'].to_numpy(), train_data['target'].to_numpy(), \n",
        "                                                                test_size=0.15, \n",
        "                                                                random_state=42)"
      ],
      "metadata": {
        "id": "ihBhXs9YG2FG"
      },
      "execution_count": 12,
      "outputs": []
    },
    {
      "cell_type": "code",
      "source": [
        "val_data[:10], val_label[:10]"
      ],
      "metadata": {
        "colab": {
          "base_uri": "https://localhost:8080/"
        },
        "id": "UT_cUffWNkdm",
        "outputId": "60bff22c-3c3e-44b9-969c-5136c0f0ab61"
      },
      "execution_count": 13,
      "outputs": [
        {
          "output_type": "execute_result",
          "data": {
            "text/plain": [
              "(array(['So you have a new weapon that can cause un-imaginable destruction.',\n",
              "        'The f$&amp;@ing things I do for #GISHWHES Just got soaked in a deluge going for pads and tampons. Thx @mishacollins @/@',\n",
              "        'DT @georgegalloway: RT @Galloway4Mayor: \\x89ÛÏThe CoL police can catch a pickpocket in Liverpool Stree... http://t.co/vXIn1gOq4Q',\n",
              "        'Aftershock back to school kick off was great. I want to thank everyone for making it possible. What a great night.',\n",
              "        'in response to trauma Children of Addicts develop a defensive self - one that decreases vulnerability. (3',\n",
              "        '@Calum5SOS you look like you got caught in a rainstorm this is amazing and disgusting at the same time',\n",
              "        'my favorite lady came to our volunteer meeting\\nhopefully joining her youth collision and i am excite http://t.co/Ij0wQ490cS',\n",
              "        '@brianroemmele UX fail of EMV - people want to insert and remove quickly like a gas pump stripe reader. 1 person told me it crashed the POS',\n",
              "        \"Can't find my ariana grande shirt  this is a fucking tragedy\",\n",
              "        'The Murderous Story Of America\\x89Ûªs First Hijacking http://t.co/EYUGk6byxr'],\n",
              "       dtype=object), array([1, 0, 1, 0, 0, 0, 1, 1, 0, 1]))"
            ]
          },
          "metadata": {},
          "execution_count": 13
        }
      ]
    },
    {
      "cell_type": "markdown",
      "source": [
        "## Tokenization (Vectorization):"
      ],
      "metadata": {
        "id": "oZdleV07g5m8"
      }
    },
    {
      "cell_type": "code",
      "source": [
        "sum([len(tweet.split()) for tweet in train_data])"
      ],
      "metadata": {
        "colab": {
          "base_uri": "https://localhost:8080/"
        },
        "id": "dBwN2uYD2GEH",
        "outputId": "398ea247-5c42-4bea-cb2f-14ed9c457b09"
      },
      "execution_count": 14,
      "outputs": [
        {
          "output_type": "execute_result",
          "data": {
            "text/plain": [
              "96401"
            ]
          },
          "metadata": {},
          "execution_count": 14
        }
      ]
    },
    {
      "cell_type": "code",
      "source": [
        "round(sum([len(tweet.split()) for tweet in train_data])/len(train_data))"
      ],
      "metadata": {
        "colab": {
          "base_uri": "https://localhost:8080/"
        },
        "id": "vAr6BqkV0fnm",
        "outputId": "705f6e4e-c77f-43ed-9975-46bc5f0780a3"
      },
      "execution_count": 15,
      "outputs": [
        {
          "output_type": "execute_result",
          "data": {
            "text/plain": [
              "15"
            ]
          },
          "metadata": {},
          "execution_count": 15
        }
      ]
    },
    {
      "cell_type": "code",
      "source": [
        "text_vectorizer = tf.keras.layers.TextVectorization(max_tokens=10000,\n",
        "                                                       output_mode='int', \n",
        "                                                       output_sequence_length=15)"
      ],
      "metadata": {
        "id": "nX1891FjNoHS"
      },
      "execution_count": 16,
      "outputs": []
    },
    {
      "cell_type": "code",
      "source": [
        "text_vectorizer.adapt(train_data)"
      ],
      "metadata": {
        "id": "rrPEZ-cpvKUF"
      },
      "execution_count": 17,
      "outputs": []
    },
    {
      "cell_type": "code",
      "source": [
        "sample_tweet = 'my name is hamed i am happy to meet you!'\n",
        "text_vectorizer(sample_tweet)"
      ],
      "metadata": {
        "colab": {
          "base_uri": "https://localhost:8080/"
        },
        "id": "GvlFWQgb5PE5",
        "outputId": "e322e174-b0bf-490d-dd66-855d7cb888a1"
      },
      "execution_count": 18,
      "outputs": [
        {
          "output_type": "execute_result",
          "data": {
            "text/plain": [
              "<tf.Tensor: shape=(15,), dtype=int64, numpy=\n",
              "array([  13,  736,    9,    1,    8,  161,  681,    5, 1732,   12,    0,\n",
              "          0,    0,    0,    0])>"
            ]
          },
          "metadata": {},
          "execution_count": 18
        }
      ]
    },
    {
      "cell_type": "code",
      "source": [
        "random_tweet = random.choice(train_data)\n",
        "print('tweet: ', random_tweet,'\\n\\n')\n",
        "print('vectorized tweet: ', text_vectorizer(random_tweet))"
      ],
      "metadata": {
        "colab": {
          "base_uri": "https://localhost:8080/"
        },
        "id": "_4LVOt3r50nF",
        "outputId": "8ce489d2-35e5-409e-dd65-1bb0fab474fe"
      },
      "execution_count": 19,
      "outputs": [
        {
          "output_type": "stream",
          "name": "stdout",
          "text": [
            "tweet:  INFO R. CURFEW IN OPER UNTIL 2030 Z. TAXIWAYS FOXTROT 5 &amp; FOXTROT 6 NAVBL. WND: 060/5. EXP INST APCH. RWY 05. DAMP. TMP: 10. QNH: 1028. \n",
            "\n",
            "\n",
            "vectorized tweet:  tf.Tensor(\n",
            "[1331  941  393    4 4765  272 4018 3089 4288 2865  184   34 2865  429\n",
            " 4829], shape=(15,), dtype=int64)\n"
          ]
        }
      ]
    },
    {
      "cell_type": "code",
      "source": [
        "#unique words\n",
        "unique_words = text_vectorizer.get_vocabulary()\n",
        "print(len(unique_words))\n",
        "print(unique_words[:10])\n",
        "print(unique_words[-10:])"
      ],
      "metadata": {
        "colab": {
          "base_uri": "https://localhost:8080/"
        },
        "id": "pz1D29W_6gMu",
        "outputId": "57bc8d75-dec4-4f4c-c824-2bb2f330a001"
      },
      "execution_count": 20,
      "outputs": [
        {
          "output_type": "stream",
          "name": "stdout",
          "text": [
            "10000\n",
            "['', '[UNK]', 'the', 'a', 'in', 'to', 'of', 'and', 'i', 'is']\n",
            "['nkulw', 'njenga', 'nj36', 'nittys', 'nitroglycerin', 'nitishkumar', 'nite', 'nissannews', 'nissan', 'niqqa']\n"
          ]
        }
      ]
    },
    {
      "cell_type": "markdown",
      "source": [
        "## Embedding:"
      ],
      "metadata": {
        "id": "NOWUfElgCc9K"
      }
    },
    {
      "cell_type": "code",
      "source": [
        "embedding = tf.keras.layers.Embedding(input_dim = 10000, output_dim =32, input_length=None)"
      ],
      "metadata": {
        "id": "q8V1ge7R8-uB"
      },
      "execution_count": 119,
      "outputs": []
    },
    {
      "cell_type": "code",
      "source": [
        "sample_embed = embedding(text_vectorizer(random_tweet))\n",
        "sample_embed"
      ],
      "metadata": {
        "colab": {
          "base_uri": "https://localhost:8080/"
        },
        "id": "tLIAWQIV8taE",
        "outputId": "503b77cf-bdcb-46b4-873a-9734deb42499"
      },
      "execution_count": 120,
      "outputs": [
        {
          "output_type": "execute_result",
          "data": {
            "text/plain": [
              "<tf.Tensor: shape=(15, 32), dtype=float32, numpy=\n",
              "array([[-0.03065368, -0.00160731, -0.00378092, -0.0102633 ,  0.0056429 ,\n",
              "        -0.01120039, -0.00998706, -0.04122064,  0.00414877, -0.04312373,\n",
              "        -0.03098418,  0.03872221, -0.04859742,  0.01214924, -0.01979053,\n",
              "        -0.01954125, -0.04196383, -0.02229447, -0.01900027,  0.00428777,\n",
              "        -0.01131141, -0.04307914, -0.04558872, -0.02391795, -0.04347851,\n",
              "         0.00046134,  0.00386969, -0.00011862, -0.02349777,  0.00172243,\n",
              "        -0.02721879, -0.01300786],\n",
              "       [ 0.03369469, -0.01236475,  0.04156986,  0.00523894, -0.00994968,\n",
              "        -0.01541388, -0.00217867, -0.01777349, -0.03675556, -0.04174706,\n",
              "         0.04363487,  0.00833612,  0.03336246,  0.0166719 ,  0.04852393,\n",
              "         0.00512532,  0.01739409,  0.02597547, -0.03710799, -0.01361191,\n",
              "         0.04865995, -0.01827974,  0.00860094, -0.02562027,  0.0104692 ,\n",
              "         0.02576934,  0.00056911,  0.02250001,  0.02970457,  0.0180905 ,\n",
              "         0.01309771, -0.00387897],\n",
              "       [-0.02632365, -0.00454907, -0.01508462, -0.03002236, -0.04116613,\n",
              "         0.03725947,  0.03850419,  0.01187517,  0.00288906,  0.01502991,\n",
              "         0.0272747 ,  0.03044907,  0.03617892,  0.0490018 ,  0.03780173,\n",
              "        -0.02553411, -0.00872567,  0.01975412,  0.04001064,  0.02976468,\n",
              "        -0.00718139,  0.02665864, -0.0376788 , -0.02820471, -0.00674962,\n",
              "        -0.0406819 , -0.01591586,  0.02497948, -0.04831134, -0.01974032,\n",
              "        -0.04418131,  0.00564889],\n",
              "       [-0.00910381,  0.034637  ,  0.02157917,  0.01143456,  0.02772922,\n",
              "         0.01686801, -0.04184026, -0.0076017 , -0.00103415,  0.03156621,\n",
              "         0.00384665, -0.04873316, -0.01001927, -0.02210529,  0.00157051,\n",
              "         0.03642801, -0.03216928, -0.00642784, -0.00731272, -0.02223747,\n",
              "        -0.02772062, -0.03811731,  0.03259012, -0.00427177, -0.03173497,\n",
              "         0.03070546,  0.00503123,  0.02770031,  0.04948186,  0.01937922,\n",
              "         0.04204516,  0.02011874],\n",
              "       [-0.02404944, -0.01465859, -0.00496259, -0.01959677, -0.01527607,\n",
              "        -0.00812832, -0.03327183, -0.02652415, -0.0247038 , -0.03109672,\n",
              "        -0.0293118 , -0.04627372,  0.01761235, -0.01100572,  0.00550457,\n",
              "         0.03761661, -0.04344813,  0.00695352, -0.0117823 , -0.00881001,\n",
              "        -0.0067929 ,  0.0179924 ,  0.01283873,  0.0128555 , -0.04867259,\n",
              "        -0.02313422,  0.04165966,  0.00312703,  0.04524994,  0.00557215,\n",
              "         0.00840854, -0.01030722],\n",
              "       [-0.03022207,  0.00156545, -0.00078362, -0.03965228, -0.01258578,\n",
              "        -0.01758425,  0.01694587,  0.01681248,  0.0459781 ,  0.04519268,\n",
              "         0.04182741, -0.04836203, -0.02142742, -0.00651916,  0.01038214,\n",
              "         0.00975736, -0.01134872, -0.01010447,  0.02956799,  0.03753215,\n",
              "        -0.00072172, -0.00611221,  0.04132105, -0.03638412, -0.02597449,\n",
              "         0.0023352 , -0.00726447,  0.02941301, -0.04601811,  0.02900124,\n",
              "         0.01946918, -0.01925974],\n",
              "       [-0.03184753,  0.03361632, -0.02480516, -0.04483454,  0.02577522,\n",
              "        -0.04653393,  0.03948173,  0.02291017,  0.03919857, -0.04375011,\n",
              "        -0.0336527 , -0.00982113,  0.03009691, -0.0256748 ,  0.04783854,\n",
              "         0.00889074, -0.01181703,  0.013845  ,  0.04711962, -0.00792288,\n",
              "         0.04897083, -0.01536731, -0.00535981,  0.03777524,  0.03868965,\n",
              "        -0.01162754,  0.00805474,  0.02052542,  0.04300204, -0.03265508,\n",
              "         0.02546087,  0.02513803],\n",
              "       [-0.04081439,  0.04655619,  0.03250258, -0.0134781 ,  0.04495006,\n",
              "         0.02284917, -0.03028678, -0.0494325 ,  0.03646458,  0.00430068,\n",
              "        -0.00271655,  0.0062607 , -0.03724704,  0.0466373 ,  0.0351277 ,\n",
              "         0.03903725,  0.04112195,  0.04957959,  0.03913993,  0.00570061,\n",
              "        -0.0440976 ,  0.01185656,  0.00785821,  0.0291322 , -0.04720908,\n",
              "         0.03767432, -0.00181416, -0.04373622,  0.00015388,  0.04546176,\n",
              "        -0.02682667, -0.04575954],\n",
              "       [-0.02560381, -0.02978919,  0.02622939, -0.02733358,  0.0477203 ,\n",
              "         0.02298867,  0.04098708,  0.01892859,  0.01193445, -0.04878428,\n",
              "        -0.03872029, -0.0289029 ,  0.04383976, -0.03465186,  0.00537245,\n",
              "        -0.00547947, -0.00983202, -0.00442011, -0.02866118, -0.03260779,\n",
              "        -0.01136179,  0.02020565,  0.03590239,  0.04805783,  0.04788503,\n",
              "         0.0028596 , -0.0236388 ,  0.04533944,  0.0106191 , -0.00228937,\n",
              "        -0.04180664, -0.02624782],\n",
              "       [-0.01746669, -0.0234216 ,  0.04815731,  0.00214828, -0.04610317,\n",
              "         0.01280103,  0.04625047, -0.02301445,  0.02611053, -0.00168992,\n",
              "         0.03836444, -0.02485088,  0.04107473,  0.03399307,  0.0369058 ,\n",
              "        -0.01239266, -0.02324858, -0.00889276, -0.02002292, -0.02757205,\n",
              "         0.03398954,  0.01227485, -0.04716003, -0.00661551,  0.02385951,\n",
              "        -0.01868403,  0.01628793, -0.02335574,  0.01210315,  0.02964144,\n",
              "         0.04386221, -0.03259672],\n",
              "       [-0.01929784, -0.03564391, -0.04767646, -0.04964458, -0.02464682,\n",
              "         0.04606006,  0.04416374, -0.00038191,  0.01555301,  0.04454387,\n",
              "        -0.0242738 ,  0.01533583, -0.01649046, -0.02221395,  0.03168435,\n",
              "        -0.0379704 , -0.01481106, -0.0276996 ,  0.0445518 , -0.02889972,\n",
              "        -0.0364579 , -0.02037555, -0.01815772,  0.00050846,  0.03816077,\n",
              "         0.03555847, -0.01486253,  0.00698074,  0.01100885, -0.01215937,\n",
              "         0.04346805, -0.00950944],\n",
              "       [ 0.04823602, -0.0211617 , -0.01594745, -0.02527956, -0.01683904,\n",
              "         0.02405787, -0.00656009,  0.0376497 ,  0.04470583,  0.0164281 ,\n",
              "         0.02463396,  0.03332304,  0.00030638, -0.00892838,  0.00788925,\n",
              "         0.01799065, -0.00642438,  0.01937575, -0.00750539,  0.00106571,\n",
              "         0.04784597, -0.01020131, -0.03100236, -0.04292425,  0.04655249,\n",
              "        -0.03096347, -0.02184781, -0.02211007,  0.03199631, -0.01633991,\n",
              "        -0.02813299,  0.04034284],\n",
              "       [-0.01746669, -0.0234216 ,  0.04815731,  0.00214828, -0.04610317,\n",
              "         0.01280103,  0.04625047, -0.02301445,  0.02611053, -0.00168992,\n",
              "         0.03836444, -0.02485088,  0.04107473,  0.03399307,  0.0369058 ,\n",
              "        -0.01239266, -0.02324858, -0.00889276, -0.02002292, -0.02757205,\n",
              "         0.03398954,  0.01227485, -0.04716003, -0.00661551,  0.02385951,\n",
              "        -0.01868403,  0.01628793, -0.02335574,  0.01210315,  0.02964144,\n",
              "         0.04386221, -0.03259672],\n",
              "       [-0.03990702, -0.02342154,  0.02194715, -0.03471268, -0.03760854,\n",
              "        -0.03183813,  0.02900479,  0.01323879,  0.00749178, -0.0473645 ,\n",
              "         0.0046111 ,  0.00580665,  0.00309274,  0.02153908,  0.04645472,\n",
              "        -0.03237306,  0.01396077, -0.0205788 ,  0.04265567, -0.02729456,\n",
              "        -0.04175363,  0.02080056,  0.04904288, -0.0361106 , -0.01019799,\n",
              "        -0.04152497,  0.02162172, -0.02509586,  0.01184658,  0.04853728,\n",
              "         0.03488458,  0.04812315],\n",
              "       [ 0.04486158, -0.00877874,  0.03560723, -0.04084931,  0.00224252,\n",
              "         0.0236741 ,  0.04849584, -0.01518178, -0.00094188, -0.02001441,\n",
              "         0.03552083, -0.01227585,  0.02777984, -0.04732728, -0.03688582,\n",
              "         0.00288657, -0.00699135,  0.0400102 , -0.0269419 ,  0.01993075,\n",
              "        -0.00076871,  0.02755115, -0.03851044,  0.02244416, -0.02995976,\n",
              "         0.02802826, -0.00923443, -0.03843626, -0.0295062 ,  0.01511247,\n",
              "        -0.0335775 , -0.03501064]], dtype=float32)>"
            ]
          },
          "metadata": {},
          "execution_count": 120
        }
      ]
    },
    {
      "cell_type": "markdown",
      "source": [
        "## Analyze with Naive Bayes using TF-IDF:"
      ],
      "metadata": {
        "id": "zLSl6TnnVWTQ"
      }
    },
    {
      "cell_type": "code",
      "source": [
        "from sklearn.feature_extraction.text import TfidfVectorizer\n",
        "from sklearn.naive_bayes import MultinomialNB\n",
        "from sklearn.pipeline import Pipeline\n",
        "from sklearn.metrics import accuracy_score, classification_report"
      ],
      "metadata": {
        "id": "rQvF8mI-9Ei7"
      },
      "execution_count": 121,
      "outputs": []
    },
    {
      "cell_type": "code",
      "source": [
        "model_0 = Pipeline([\n",
        "                    ('tfidf', TfidfVectorizer()),\n",
        "                    ('clf', MultinomialNB())\n",
        "])\n",
        "\n",
        "model_0.fit(train_data,train_label)"
      ],
      "metadata": {
        "colab": {
          "base_uri": "https://localhost:8080/"
        },
        "id": "eujQFWfsVsPw",
        "outputId": "bf0f024f-a5dd-4a68-a4e0-04c4efd6ede1"
      },
      "execution_count": 122,
      "outputs": [
        {
          "output_type": "execute_result",
          "data": {
            "text/plain": [
              "Pipeline(steps=[('tfidf', TfidfVectorizer()), ('clf', MultinomialNB())])"
            ]
          },
          "metadata": {},
          "execution_count": 122
        }
      ]
    },
    {
      "cell_type": "code",
      "source": [
        "val_pred = model_0.predict(val_data)\n",
        "val_pred"
      ],
      "metadata": {
        "colab": {
          "base_uri": "https://localhost:8080/"
        },
        "id": "LDbu8EzFXBsa",
        "outputId": "9a9bf78c-cf45-4454-c1ea-72b777069bad"
      },
      "execution_count": 123,
      "outputs": [
        {
          "output_type": "execute_result",
          "data": {
            "text/plain": [
              "array([0, 0, 0, ..., 1, 0, 0])"
            ]
          },
          "metadata": {},
          "execution_count": 123
        }
      ]
    },
    {
      "cell_type": "code",
      "source": [
        "val_label"
      ],
      "metadata": {
        "colab": {
          "base_uri": "https://localhost:8080/"
        },
        "id": "36pZya2qXXm1",
        "outputId": "e1a1d708-f56b-4492-d69c-46fa5b0d79da"
      },
      "execution_count": 124,
      "outputs": [
        {
          "output_type": "execute_result",
          "data": {
            "text/plain": [
              "array([1, 0, 1, ..., 1, 0, 0])"
            ]
          },
          "metadata": {},
          "execution_count": 124
        }
      ]
    },
    {
      "cell_type": "code",
      "source": [
        "accuracy_score(val_label, val_pred)"
      ],
      "metadata": {
        "colab": {
          "base_uri": "https://localhost:8080/"
        },
        "id": "DIcwlAlyXaCW",
        "outputId": "7c273e54-3b85-459f-e946-12ebae25bf5d"
      },
      "execution_count": 125,
      "outputs": [
        {
          "output_type": "execute_result",
          "data": {
            "text/plain": [
              "0.7863397548161121"
            ]
          },
          "metadata": {},
          "execution_count": 125
        }
      ]
    },
    {
      "cell_type": "code",
      "source": [
        "print(classification_report(val_label, val_pred))"
      ],
      "metadata": {
        "colab": {
          "base_uri": "https://localhost:8080/"
        },
        "id": "qA58DXXQXlx6",
        "outputId": "677eefdd-d44a-4c1f-a638-29084b9a2a24"
      },
      "execution_count": 126,
      "outputs": [
        {
          "output_type": "stream",
          "name": "stdout",
          "text": [
            "              precision    recall  f1-score   support\n",
            "\n",
            "           0       0.76      0.92      0.83       651\n",
            "           1       0.85      0.61      0.71       491\n",
            "\n",
            "    accuracy                           0.79      1142\n",
            "   macro avg       0.80      0.76      0.77      1142\n",
            "weighted avg       0.80      0.79      0.78      1142\n",
            "\n"
          ]
        }
      ]
    },
    {
      "cell_type": "markdown",
      "source": [
        "## Analyze with Vanilla Neural Network:"
      ],
      "metadata": {
        "id": "aKLoyZ2-73qI"
      }
    },
    {
      "cell_type": "code",
      "source": [
        "from helper_functions import create_tensorboard_callback"
      ],
      "metadata": {
        "id": "y9P2vMYU9ySx"
      },
      "execution_count": 127,
      "outputs": []
    },
    {
      "cell_type": "code",
      "source": [
        "inputs = tf.keras.layers.Input(shape= (1,), dtype = tf.string)\n",
        "\n",
        "x = text_vectorizer(inputs)\n",
        "\n",
        "x = embedding(x)\n",
        "\n",
        "# x = tf.transpose(x , perm = [0,2,1])\n",
        "\n",
        "# print(x.shape)\n",
        "\n",
        "x = tf.keras.layers.GlobalAveragePooling1D()(x)\n",
        "\n",
        "x = tf.keras.layers.Dense(10, activation='relu')(x)\n",
        "\n",
        "outputs = tf.keras.layers.Dense(1, activation='sigmoid')(x)\n",
        "\n",
        "model_1 = tf.keras.Model(inputs,outputs, name='ANN')"
      ],
      "metadata": {
        "id": "yvsEiUlGPYkI"
      },
      "execution_count": 128,
      "outputs": []
    },
    {
      "cell_type": "code",
      "source": [
        "model_1.summary()"
      ],
      "metadata": {
        "colab": {
          "base_uri": "https://localhost:8080/"
        },
        "id": "XQR0a3l1RYjX",
        "outputId": "58dd5416-6fdb-4500-a2ac-a1fc771bd7fd"
      },
      "execution_count": 129,
      "outputs": [
        {
          "output_type": "stream",
          "name": "stdout",
          "text": [
            "Model: \"ANN\"\n",
            "_________________________________________________________________\n",
            " Layer (type)                Output Shape              Param #   \n",
            "=================================================================\n",
            " input_5 (InputLayer)        [(None, 1)]               0         \n",
            "                                                                 \n",
            " text_vectorization (TextVec  (None, 15)               0         \n",
            " torization)                                                     \n",
            "                                                                 \n",
            " embedding_4 (Embedding)     (None, 15, 32)            320000    \n",
            "                                                                 \n",
            " global_average_pooling1d_4   (None, 32)               0         \n",
            " (GlobalAveragePooling1D)                                        \n",
            "                                                                 \n",
            " dense_8 (Dense)             (None, 10)                330       \n",
            "                                                                 \n",
            " dense_9 (Dense)             (None, 1)                 11        \n",
            "                                                                 \n",
            "=================================================================\n",
            "Total params: 320,341\n",
            "Trainable params: 320,341\n",
            "Non-trainable params: 0\n",
            "_________________________________________________________________\n"
          ]
        }
      ]
    },
    {
      "cell_type": "code",
      "source": [
        "model_1.compile(loss = tf.keras.losses.BinaryCrossentropy(),\n",
        "                 optimizer = tf.keras.optimizers.Adam(),\n",
        "                 metrics= ['accuracy'])"
      ],
      "metadata": {
        "id": "2SeRFBI7YYDW"
      },
      "execution_count": 130,
      "outputs": []
    },
    {
      "cell_type": "code",
      "source": [
        "train_label.shape"
      ],
      "metadata": {
        "colab": {
          "base_uri": "https://localhost:8080/"
        },
        "id": "KpzpyMV3Ul2q",
        "outputId": "2e10642e-83ab-4fcb-c702-7359b53ba0f9"
      },
      "execution_count": 131,
      "outputs": [
        {
          "output_type": "execute_result",
          "data": {
            "text/plain": [
              "(6471,)"
            ]
          },
          "metadata": {},
          "execution_count": 131
        }
      ]
    },
    {
      "cell_type": "code",
      "source": [
        "train_data.shape"
      ],
      "metadata": {
        "colab": {
          "base_uri": "https://localhost:8080/"
        },
        "id": "HzbQ7dLIURgt",
        "outputId": "6f8449b1-e07e-4ad1-f219-4504cd25af2e"
      },
      "execution_count": 132,
      "outputs": [
        {
          "output_type": "execute_result",
          "data": {
            "text/plain": [
              "(6471,)"
            ]
          },
          "metadata": {},
          "execution_count": 132
        }
      ]
    },
    {
      "cell_type": "code",
      "source": [
        "# !rm -rf './tensorboard/ANN'"
      ],
      "metadata": {
        "id": "OOFNhm_8bHx3"
      },
      "execution_count": 154,
      "outputs": []
    },
    {
      "cell_type": "code",
      "source": [
        "history_1 = model_1.fit(train_data, \n",
        "            train_label, \n",
        "            validation_data = (val_data,val_label), \n",
        "            epochs=10, \n",
        "            callbacks=[create_tensorboard_callback('tensorboard','ANN')])"
      ],
      "metadata": {
        "colab": {
          "base_uri": "https://localhost:8080/"
        },
        "id": "Vg8TwjcZNbtc",
        "outputId": "736d050a-efda-4a67-c46a-75614b1aec45"
      },
      "execution_count": 134,
      "outputs": [
        {
          "output_type": "stream",
          "name": "stdout",
          "text": [
            "Saving TensorBoard log files to: tensorboard/ANN/20220830-121809\n",
            "Epoch 1/10\n",
            "203/203 [==============================] - 1s 4ms/step - loss: 0.6364 - accuracy: 0.6557 - val_loss: 0.5562 - val_accuracy: 0.7758\n",
            "Epoch 2/10\n",
            "203/203 [==============================] - 1s 6ms/step - loss: 0.4434 - accuracy: 0.8204 - val_loss: 0.4579 - val_accuracy: 0.8021\n",
            "Epoch 3/10\n",
            "203/203 [==============================] - 1s 3ms/step - loss: 0.3149 - accuracy: 0.8761 - val_loss: 0.4602 - val_accuracy: 0.7986\n",
            "Epoch 4/10\n",
            "203/203 [==============================] - 1s 3ms/step - loss: 0.2401 - accuracy: 0.9087 - val_loss: 0.4912 - val_accuracy: 0.7907\n",
            "Epoch 5/10\n",
            "203/203 [==============================] - 1s 3ms/step - loss: 0.1863 - accuracy: 0.9332 - val_loss: 0.5330 - val_accuracy: 0.7767\n",
            "Epoch 6/10\n",
            "203/203 [==============================] - 1s 3ms/step - loss: 0.1489 - accuracy: 0.9478 - val_loss: 0.5788 - val_accuracy: 0.7793\n",
            "Epoch 7/10\n",
            "203/203 [==============================] - 1s 3ms/step - loss: 0.1202 - accuracy: 0.9595 - val_loss: 0.6282 - val_accuracy: 0.7592\n",
            "Epoch 8/10\n",
            "203/203 [==============================] - 1s 3ms/step - loss: 0.1001 - accuracy: 0.9668 - val_loss: 0.6831 - val_accuracy: 0.7636\n",
            "Epoch 9/10\n",
            "203/203 [==============================] - 1s 3ms/step - loss: 0.0859 - accuracy: 0.9696 - val_loss: 0.7158 - val_accuracy: 0.7767\n",
            "Epoch 10/10\n",
            "203/203 [==============================] - 1s 3ms/step - loss: 0.0776 - accuracy: 0.9747 - val_loss: 0.7620 - val_accuracy: 0.7723\n"
          ]
        },
        {
          "output_type": "execute_result",
          "data": {
            "text/plain": [
              "<keras.callbacks.History at 0x7f681874e810>"
            ]
          },
          "metadata": {},
          "execution_count": 134
        }
      ]
    },
    {
      "cell_type": "code",
      "source": [
        "model_1.evaluate(val_data,val_label)"
      ],
      "metadata": {
        "colab": {
          "base_uri": "https://localhost:8080/"
        },
        "id": "E_kkLm5BbeAx",
        "outputId": "ff1bdcaf-204b-403d-a89a-6d53a550ca85"
      },
      "execution_count": 135,
      "outputs": [
        {
          "output_type": "stream",
          "name": "stdout",
          "text": [
            "36/36 [==============================] - 0s 1ms/step - loss: 0.7620 - accuracy: 0.7723\n"
          ]
        },
        {
          "output_type": "execute_result",
          "data": {
            "text/plain": [
              "[0.7620260715484619, 0.7723292708396912]"
            ]
          },
          "metadata": {},
          "execution_count": 135
        }
      ]
    },
    {
      "cell_type": "code",
      "source": [],
      "metadata": {
        "id": "AexbWseepUY7"
      },
      "execution_count": 135,
      "outputs": []
    },
    {
      "cell_type": "code",
      "source": [
        "tweets=['earthquake hit california minutes ago', \n",
        "        'my car on fire now', \n",
        "        'I need a blue car']"
      ],
      "metadata": {
        "id": "UTc9X6MSlQ2R"
      },
      "execution_count": 136,
      "outputs": []
    },
    {
      "cell_type": "code",
      "source": [
        "model_0.predict_proba(tweets)"
      ],
      "metadata": {
        "colab": {
          "base_uri": "https://localhost:8080/"
        },
        "id": "WKNu12AsnDey",
        "outputId": "2a7ae41b-9f31-4b0c-e93b-57e2e289ac29"
      },
      "execution_count": 137,
      "outputs": [
        {
          "output_type": "execute_result",
          "data": {
            "text/plain": [
              "array([[0.20651409, 0.79348591],\n",
              "       [0.58784876, 0.41215124],\n",
              "       [0.70686811, 0.29313189]])"
            ]
          },
          "metadata": {},
          "execution_count": 137
        }
      ]
    },
    {
      "cell_type": "code",
      "source": [
        "model_0.predict(tweets)"
      ],
      "metadata": {
        "colab": {
          "base_uri": "https://localhost:8080/"
        },
        "id": "YP5R5at5lBaj",
        "outputId": "b306f35b-15d1-45cf-fb9c-b5289f088fbe"
      },
      "execution_count": 138,
      "outputs": [
        {
          "output_type": "execute_result",
          "data": {
            "text/plain": [
              "array([1, 0, 0])"
            ]
          },
          "metadata": {},
          "execution_count": 138
        }
      ]
    },
    {
      "cell_type": "code",
      "source": [
        "model_1.predict(tweets)"
      ],
      "metadata": {
        "colab": {
          "base_uri": "https://localhost:8080/"
        },
        "id": "OhzkcaCXlBWY",
        "outputId": "df6e70eb-1d39-40f8-92b9-d50f35dd1d0a"
      },
      "execution_count": 139,
      "outputs": [
        {
          "output_type": "stream",
          "name": "stderr",
          "text": [
            "WARNING:tensorflow:5 out of the last 7 calls to <function Model.make_predict_function.<locals>.predict_function at 0x7f6818574d40> triggered tf.function retracing. Tracing is expensive and the excessive number of tracings could be due to (1) creating @tf.function repeatedly in a loop, (2) passing tensors with different shapes, (3) passing Python objects instead of tensors. For (1), please define your @tf.function outside of the loop. For (2), @tf.function has experimental_relax_shapes=True option that relaxes argument shapes that can avoid unnecessary retracing. For (3), please refer to https://www.tensorflow.org/guide/function#controlling_retracing and https://www.tensorflow.org/api_docs/python/tf/function for  more details.\n"
          ]
        },
        {
          "output_type": "execute_result",
          "data": {
            "text/plain": [
              "array([[0.9929359 ],\n",
              "       [0.79661655],\n",
              "       [0.10055774]], dtype=float32)"
            ]
          },
          "metadata": {},
          "execution_count": 139
        }
      ]
    },
    {
      "cell_type": "markdown",
      "source": [
        "## Retrieve the trained word embeddings:"
      ],
      "metadata": {
        "id": "4jHHRrvj0pcr"
      }
    },
    {
      "cell_type": "code",
      "source": [
        "weights = model_1.get_layer('embedding_4').get_weights()[0]\n",
        "weights"
      ],
      "metadata": {
        "colab": {
          "base_uri": "https://localhost:8080/"
        },
        "id": "M9sc4sf0pUVs",
        "outputId": "e91f168d-e347-4119-d028-4251eed17592"
      },
      "execution_count": 141,
      "outputs": [
        {
          "output_type": "execute_result",
          "data": {
            "text/plain": [
              "array([[-0.03967533,  0.01003422, -0.03398962, ...,  0.2527167 ,\n",
              "        -0.01202833, -0.03339047],\n",
              "       [ 0.01940476, -0.03045962, -0.0123709 , ...,  0.31293422,\n",
              "         0.01446598,  0.00281063],\n",
              "       [ 0.00396632,  0.03246471,  0.05505633, ...,  0.33442026,\n",
              "        -0.01857412, -0.01999387],\n",
              "       ...,\n",
              "       [ 0.14182653,  0.0884058 ,  0.10687743, ..., -0.08671025,\n",
              "         0.0817781 ,  0.1151053 ],\n",
              "       [-0.0792477 , -0.05400255, -0.07878293, ...,  0.12293543,\n",
              "        -0.05214369, -0.04940571],\n",
              "       [ 0.00728525, -0.07506175,  0.01403932, ...,  0.0820969 ,\n",
              "        -0.01809017, -0.05030951]], dtype=float32)"
            ]
          },
          "metadata": {},
          "execution_count": 141
        }
      ]
    },
    {
      "cell_type": "code",
      "source": [
        "weights.shape"
      ],
      "metadata": {
        "colab": {
          "base_uri": "https://localhost:8080/"
        },
        "id": "LYur0NNc0UJp",
        "outputId": "06d331e0-2d35-49c9-bd8d-955f94cc6c8c"
      },
      "execution_count": 143,
      "outputs": [
        {
          "output_type": "execute_result",
          "data": {
            "text/plain": [
              "(10000, 32)"
            ]
          },
          "metadata": {},
          "execution_count": 143
        }
      ]
    },
    {
      "cell_type": "code",
      "source": [
        "vocab = text_vectorizer.get_vocabulary()\n",
        "vocab[:10]"
      ],
      "metadata": {
        "colab": {
          "base_uri": "https://localhost:8080/"
        },
        "id": "gQooUcMe0ob1",
        "outputId": "5b30ed50-5443-4755-971b-a0d228d387cf"
      },
      "execution_count": 144,
      "outputs": [
        {
          "output_type": "execute_result",
          "data": {
            "text/plain": [
              "['', '[UNK]', 'the', 'a', 'in', 'to', 'of', 'and', 'i', 'is']"
            ]
          },
          "metadata": {},
          "execution_count": 144
        }
      ]
    },
    {
      "cell_type": "code",
      "source": [
        "import io\n",
        "out_v = io.open('vectors.tsv', 'w', encoding='utf-8')\n",
        "out_m = io.open('metadata.tsv', 'w', encoding='utf-8')\n",
        "\n",
        "for index, word in enumerate(vocab):\n",
        "  if index == 0:\n",
        "    continue  # skip 0, it's padding.\n",
        "  vec = weights[index]\n",
        "  out_v.write('\\t'.join([str(x) for x in vec]) + \"\\n\")\n",
        "  out_m.write(word + \"\\n\")\n",
        "out_v.close()\n",
        "out_m.close()"
      ],
      "metadata": {
        "id": "Ln_QVjQ_Ieig"
      },
      "execution_count": null,
      "outputs": []
    },
    {
      "cell_type": "code",
      "source": [
        "# try:\n",
        "#   from google.colab import files\n",
        "#   files.download('vectors.tsv')\n",
        "#   files.download('metadata.tsv')\n",
        "# except Exception:\n",
        "#   pass"
      ],
      "metadata": {
        "id": "7XH4_JyrItP-"
      },
      "execution_count": null,
      "outputs": []
    },
    {
      "cell_type": "markdown",
      "source": [
        "Then, use [Embedding Projector](http://projector.tensorflow.org/) to Visualize the embeddings"
      ],
      "metadata": {
        "id": "Rz0TllBkI6_E"
      }
    },
    {
      "cell_type": "markdown",
      "source": [
        "## Analyzie with LSTM model:"
      ],
      "metadata": {
        "id": "Se_weCsVw0NK"
      }
    },
    {
      "cell_type": "code",
      "source": [
        "inputs = tf.keras.layers.Input(shape= (1), dtype = tf.string)\n",
        "\n",
        "x = text_vectorizer(inputs)\n",
        "\n",
        "x = embedding(x)\n",
        "\n",
        "# x = tf.transpose(x , perm = [0,2,1])\n",
        "\n",
        "# print(x.shape)\n",
        "\n",
        "# x = tf.keras.layers.Flatten()(x)\n",
        "\n",
        "x = tf.keras.layers.LSTM(64,  return_sequences=True)(x)\n",
        "x = tf.keras.layers.LSTM(32)(x)\n",
        "\n",
        "x = tf.keras.layers.Dense(16, activation='relu')(x)\n",
        "outputs = tf.keras.layers.Dense(1, activation='sigmoid')(x)\n",
        "\n",
        "model_2 = tf.keras.Model(inputs,outputs, name='LSTM')"
      ],
      "metadata": {
        "id": "96Qi40rIw5GI"
      },
      "execution_count": 188,
      "outputs": []
    },
    {
      "cell_type": "code",
      "source": [
        "model_2.summary()"
      ],
      "metadata": {
        "colab": {
          "base_uri": "https://localhost:8080/"
        },
        "outputId": "4712f3df-5899-4131-e77c-4b2421c9d134",
        "id": "vKSzooeIw5GJ"
      },
      "execution_count": 189,
      "outputs": [
        {
          "output_type": "stream",
          "name": "stdout",
          "text": [
            "Model: \"RNN\"\n",
            "_________________________________________________________________\n",
            " Layer (type)                Output Shape              Param #   \n",
            "=================================================================\n",
            " input_15 (InputLayer)       [(None, 1)]               0         \n",
            "                                                                 \n",
            " text_vectorization (TextVec  (None, 15)               0         \n",
            " torization)                                                     \n",
            "                                                                 \n",
            " embedding_4 (Embedding)     (None, 15, 32)            320000    \n",
            "                                                                 \n",
            " lstm_12 (LSTM)              (None, 15, 64)            24832     \n",
            "                                                                 \n",
            " lstm_13 (LSTM)              (None, 32)                12416     \n",
            "                                                                 \n",
            " dense_16 (Dense)            (None, 16)                528       \n",
            "                                                                 \n",
            " dense_17 (Dense)            (None, 1)                 17        \n",
            "                                                                 \n",
            "=================================================================\n",
            "Total params: 357,793\n",
            "Trainable params: 357,793\n",
            "Non-trainable params: 0\n",
            "_________________________________________________________________\n"
          ]
        }
      ]
    },
    {
      "cell_type": "code",
      "source": [
        "model_2.compile(loss = tf.keras.losses.BinaryCrossentropy(),\n",
        "                 optimizer = tf.keras.optimizers.Adam(),\n",
        "                 metrics= ['accuracy'])"
      ],
      "metadata": {
        "id": "ewHkj2ZXw5GJ"
      },
      "execution_count": 190,
      "outputs": []
    },
    {
      "cell_type": "code",
      "source": [
        "# !rm -rf './tensorboard/RNN'"
      ],
      "metadata": {
        "id": "LpIUPzhiw5GK"
      },
      "execution_count": 191,
      "outputs": []
    },
    {
      "cell_type": "code",
      "source": [
        "history_2 = model_2.fit(train_data, \n",
        "            train_label, \n",
        "            validation_data = (val_data,val_label), \n",
        "            epochs=10, \n",
        "            callbacks=[create_tensorboard_callback('tensorboard','LSTM')])"
      ],
      "metadata": {
        "colab": {
          "base_uri": "https://localhost:8080/"
        },
        "outputId": "4dbfb153-6857-47d5-98f7-4afedfe7e5b0",
        "id": "PSI6IaAhw5GK"
      },
      "execution_count": 192,
      "outputs": [
        {
          "output_type": "stream",
          "name": "stdout",
          "text": [
            "Saving TensorBoard log files to: tensorboard/RNN/20220830-133234\n",
            "Epoch 1/10\n",
            "203/203 [==============================] - 5s 15ms/step - loss: 0.1093 - accuracy: 0.9679 - val_loss: 1.2629 - val_accuracy: 0.7469\n",
            "Epoch 2/10\n",
            "203/203 [==============================] - 2s 12ms/step - loss: 0.0317 - accuracy: 0.9845 - val_loss: 1.6927 - val_accuracy: 0.7391\n",
            "Epoch 3/10\n",
            "203/203 [==============================] - 3s 12ms/step - loss: 0.0319 - accuracy: 0.9844 - val_loss: 1.3932 - val_accuracy: 0.7347\n",
            "Epoch 4/10\n",
            "203/203 [==============================] - 3s 13ms/step - loss: 0.0307 - accuracy: 0.9853 - val_loss: 1.6676 - val_accuracy: 0.7469\n",
            "Epoch 5/10\n",
            "203/203 [==============================] - 2s 12ms/step - loss: 0.0287 - accuracy: 0.9858 - val_loss: 1.6588 - val_accuracy: 0.7443\n",
            "Epoch 6/10\n",
            "203/203 [==============================] - 2s 12ms/step - loss: 0.0272 - accuracy: 0.9853 - val_loss: 2.1739 - val_accuracy: 0.7163\n",
            "Epoch 7/10\n",
            "203/203 [==============================] - 3s 13ms/step - loss: 0.0323 - accuracy: 0.9835 - val_loss: 1.5082 - val_accuracy: 0.7294\n",
            "Epoch 8/10\n",
            "203/203 [==============================] - 3s 12ms/step - loss: 0.0302 - accuracy: 0.9855 - val_loss: 1.9172 - val_accuracy: 0.7478\n",
            "Epoch 9/10\n",
            "203/203 [==============================] - 2s 12ms/step - loss: 0.0289 - accuracy: 0.9844 - val_loss: 2.0167 - val_accuracy: 0.7478\n",
            "Epoch 10/10\n",
            "203/203 [==============================] - 3s 13ms/step - loss: 0.0304 - accuracy: 0.9835 - val_loss: 1.7510 - val_accuracy: 0.7303\n"
          ]
        }
      ]
    },
    {
      "cell_type": "code",
      "source": [
        "model_2.evaluate(val_data,val_label)"
      ],
      "metadata": {
        "colab": {
          "base_uri": "https://localhost:8080/"
        },
        "outputId": "7e5843d8-b5c5-445f-b943-66906509372f",
        "id": "mjcfDDe9w5GK"
      },
      "execution_count": 196,
      "outputs": [
        {
          "output_type": "stream",
          "name": "stdout",
          "text": [
            "36/36 [==============================] - 0s 3ms/step - loss: 1.7510 - accuracy: 0.7303\n"
          ]
        },
        {
          "output_type": "execute_result",
          "data": {
            "text/plain": [
              "[1.7510497570037842, 0.7302977442741394]"
            ]
          },
          "metadata": {},
          "execution_count": 196
        }
      ]
    },
    {
      "cell_type": "code",
      "source": [],
      "metadata": {
        "id": "NM4rRrVPw5GK"
      },
      "execution_count": 196,
      "outputs": []
    },
    {
      "cell_type": "markdown",
      "source": [
        "### custom tweets:"
      ],
      "metadata": {
        "id": "BBYFxBg89rOA"
      }
    },
    {
      "cell_type": "code",
      "source": [
        "tweets=['earthquake hit california minutes ago', \n",
        "        'my car on fire now', \n",
        "        'I need a blue car']"
      ],
      "metadata": {
        "id": "idKzKyOyw5GL"
      },
      "execution_count": 197,
      "outputs": []
    },
    {
      "cell_type": "code",
      "source": [
        "model_2.predict(tweets)"
      ],
      "metadata": {
        "colab": {
          "base_uri": "https://localhost:8080/"
        },
        "id": "uHeDjk2jyevi",
        "outputId": "ab6be7a0-19e4-4a95-dbf2-cf4a56f1615e"
      },
      "execution_count": 198,
      "outputs": [
        {
          "output_type": "execute_result",
          "data": {
            "text/plain": [
              "array([[9.9992967e-01],\n",
              "       [9.9605358e-01],\n",
              "       [5.6755543e-04]], dtype=float32)"
            ]
          },
          "metadata": {},
          "execution_count": 198
        }
      ]
    },
    {
      "cell_type": "code",
      "source": [],
      "metadata": {
        "id": "A7Dt-XsZ9f1V"
      },
      "execution_count": null,
      "outputs": []
    },
    {
      "cell_type": "markdown",
      "source": [
        "## Analyzie with GRU model:"
      ],
      "metadata": {
        "id": "3ZDWKXF0BFJk"
      }
    },
    {
      "cell_type": "code",
      "source": [
        "inputs = tf.keras.layers.Input(shape= (1), dtype = tf.string)\n",
        "\n",
        "x = text_vectorizer(inputs)\n",
        "\n",
        "x = embedding(x)\n",
        "\n",
        "# x = tf.transpose(x , perm = [0,2,1])\n",
        "\n",
        "# print(x.shape)\n",
        "\n",
        "# x = tf.keras.layers.Flatten()(x)\n",
        "\n",
        "x = tf.keras.layers.GRU(64,  return_sequences=True)(x)\n",
        "x = tf.keras.layers.GRU(32)(x)\n",
        "\n",
        "x = tf.keras.layers.Dense(16, activation='relu')(x)\n",
        "outputs = tf.keras.layers.Dense(1, activation='sigmoid')(x)\n",
        "\n",
        "model_3 = tf.keras.Model(inputs,outputs, name='GRU')"
      ],
      "metadata": {
        "id": "Ld1eX0UYBFJw"
      },
      "execution_count": null,
      "outputs": []
    },
    {
      "cell_type": "code",
      "source": [
        "model_3.summary()"
      ],
      "metadata": {
        "colab": {
          "base_uri": "https://localhost:8080/"
        },
        "outputId": "60476021-daed-4e83-f269-68d6ee567898",
        "id": "W0udNZXqBFJx"
      },
      "execution_count": null,
      "outputs": [
        {
          "output_type": "stream",
          "name": "stdout",
          "text": [
            "Model: \"RNN\"\n",
            "_________________________________________________________________\n",
            " Layer (type)                Output Shape              Param #   \n",
            "=================================================================\n",
            " input_17 (InputLayer)       [(None, 1)]               0         \n",
            "                                                                 \n",
            " text_vectorization (TextVec  (None, 15)               0         \n",
            " torization)                                                     \n",
            "                                                                 \n",
            " embedding_4 (Embedding)     (None, 15, 32)            320000    \n",
            "                                                                 \n",
            " gru_2 (GRU)                 (None, 15, 64)            18816     \n",
            "                                                                 \n",
            " gru_3 (GRU)                 (None, 32)                9408      \n",
            "                                                                 \n",
            " dense_20 (Dense)            (None, 16)                528       \n",
            "                                                                 \n",
            " dense_21 (Dense)            (None, 1)                 17        \n",
            "                                                                 \n",
            "=================================================================\n",
            "Total params: 348,769\n",
            "Trainable params: 348,769\n",
            "Non-trainable params: 0\n",
            "_________________________________________________________________\n"
          ]
        }
      ]
    },
    {
      "cell_type": "code",
      "source": [
        "model_3.compile(loss = tf.keras.losses.BinaryCrossentropy(),\n",
        "                 optimizer = tf.keras.optimizers.Adam(),\n",
        "                 metrics= ['accuracy'])"
      ],
      "metadata": {
        "id": "FM8D4MAjBFJx"
      },
      "execution_count": null,
      "outputs": []
    },
    {
      "cell_type": "code",
      "source": [
        "# !rm -rf './tensorboard/RNN'"
      ],
      "metadata": {
        "id": "CzkqipA3BFJy"
      },
      "execution_count": null,
      "outputs": []
    },
    {
      "cell_type": "code",
      "source": [
        "history_3 = model_3.fit(train_data, \n",
        "            train_label, \n",
        "            validation_data = (val_data,val_label), \n",
        "            epochs=10, \n",
        "            callbacks=[create_tensorboard_callback('tensorboard','GRU')])"
      ],
      "metadata": {
        "colab": {
          "base_uri": "https://localhost:8080/"
        },
        "outputId": "5efff37a-5d9e-41bf-8990-e9778ac6b6e3",
        "id": "GE7mHiR0BFJy"
      },
      "execution_count": null,
      "outputs": [
        {
          "output_type": "stream",
          "name": "stdout",
          "text": [
            "Saving TensorBoard log files to: tensorboard/RNN/20220830-135100\n",
            "Epoch 1/10\n",
            "203/203 [==============================] - 6s 16ms/step - loss: 0.1485 - accuracy: 0.9369 - val_loss: 1.0379 - val_accuracy: 0.7478\n",
            "Epoch 2/10\n",
            "203/203 [==============================] - 2s 12ms/step - loss: 0.0457 - accuracy: 0.9828 - val_loss: 1.1582 - val_accuracy: 0.7154\n",
            "Epoch 3/10\n",
            "203/203 [==============================] - 2s 12ms/step - loss: 0.0312 - accuracy: 0.9836 - val_loss: 1.2814 - val_accuracy: 0.7250\n",
            "Epoch 4/10\n",
            "203/203 [==============================] - 2s 12ms/step - loss: 0.0333 - accuracy: 0.9839 - val_loss: 0.9270 - val_accuracy: 0.7644\n",
            "Epoch 5/10\n",
            "203/203 [==============================] - 2s 12ms/step - loss: 0.0325 - accuracy: 0.9844 - val_loss: 1.5189 - val_accuracy: 0.7364\n",
            "Epoch 6/10\n",
            "203/203 [==============================] - 2s 12ms/step - loss: 0.0273 - accuracy: 0.9852 - val_loss: 1.7820 - val_accuracy: 0.7522\n",
            "Epoch 7/10\n",
            "203/203 [==============================] - 2s 12ms/step - loss: 0.0268 - accuracy: 0.9856 - val_loss: 1.5913 - val_accuracy: 0.7592\n",
            "Epoch 8/10\n",
            "203/203 [==============================] - 2s 12ms/step - loss: 0.0279 - accuracy: 0.9849 - val_loss: 1.7931 - val_accuracy: 0.7469\n",
            "Epoch 9/10\n",
            "203/203 [==============================] - 2s 12ms/step - loss: 0.0279 - accuracy: 0.9847 - val_loss: 1.8656 - val_accuracy: 0.7443\n",
            "Epoch 10/10\n",
            "203/203 [==============================] - 2s 12ms/step - loss: 0.0261 - accuracy: 0.9862 - val_loss: 1.8151 - val_accuracy: 0.7504\n"
          ]
        }
      ]
    },
    {
      "cell_type": "code",
      "source": [
        "model_3.evaluate(val_data,val_label)"
      ],
      "metadata": {
        "colab": {
          "base_uri": "https://localhost:8080/"
        },
        "outputId": "47556c31-707a-4ad7-9972-7f1bf8fd0f24",
        "id": "EQSrAuvnBFJy"
      },
      "execution_count": null,
      "outputs": [
        {
          "output_type": "stream",
          "name": "stdout",
          "text": [
            "36/36 [==============================] - 0s 3ms/step - loss: 1.8151 - accuracy: 0.7504\n"
          ]
        },
        {
          "output_type": "execute_result",
          "data": {
            "text/plain": [
              "[1.8151158094406128, 0.75043785572052]"
            ]
          },
          "metadata": {},
          "execution_count": 209
        }
      ]
    },
    {
      "cell_type": "code",
      "source": [],
      "metadata": {
        "id": "2EljkEvZBFJz"
      },
      "execution_count": null,
      "outputs": []
    },
    {
      "cell_type": "markdown",
      "source": [
        "### custom tweets:"
      ],
      "metadata": {
        "id": "giM2haACBFJz"
      }
    },
    {
      "cell_type": "code",
      "source": [
        "tweets=['earthquake hit california minutes ago', \n",
        "        'my car on fire now', \n",
        "        'I need a blue car']"
      ],
      "metadata": {
        "id": "WimAgDgPBFJz"
      },
      "execution_count": null,
      "outputs": []
    },
    {
      "cell_type": "code",
      "source": [
        "model_3.predict(tweets)"
      ],
      "metadata": {
        "colab": {
          "base_uri": "https://localhost:8080/"
        },
        "outputId": "db30bb8f-2ee1-4e9e-dbf3-4b5a45f6031f",
        "id": "Na1chl1DBFJz"
      },
      "execution_count": null,
      "outputs": [
        {
          "output_type": "execute_result",
          "data": {
            "text/plain": [
              "array([[9.9998200e-01],\n",
              "       [9.9980426e-01],\n",
              "       [2.8124452e-04]], dtype=float32)"
            ]
          },
          "metadata": {},
          "execution_count": 211
        }
      ]
    },
    {
      "cell_type": "code",
      "source": [],
      "metadata": {
        "id": "lwqKsiKmBmPF"
      },
      "execution_count": null,
      "outputs": []
    },
    {
      "cell_type": "markdown",
      "source": [
        "## Analyzie with Bidirectional LSTM model:"
      ],
      "metadata": {
        "id": "dG8bfSq4Ij4e"
      }
    },
    {
      "cell_type": "code",
      "source": [
        "inputs = tf.keras.layers.Input(shape= (1), dtype = tf.string)\n",
        "\n",
        "x = text_vectorizer(inputs)\n",
        "\n",
        "x = embedding(x)\n",
        "\n",
        "# x = tf.transpose(x , perm = [0,2,1])\n",
        "\n",
        "# print(x.shape)\n",
        "\n",
        "# x = tf.keras.layers.Flatten()(x)\n",
        "\n",
        "x = tf.keras.layers.Bidirectional(tf.keras.layers.LSTM(64,  return_sequences=True))(x)\n",
        "x = tf.keras.layers.Bidirectional(tf.keras.layers.LSTM(32))(x)\n",
        "\n",
        "\n",
        "x = tf.keras.layers.Dense(16, activation='relu')(x)\n",
        "outputs = tf.keras.layers.Dense(1, activation='sigmoid')(x)\n",
        "\n",
        "model_4 = tf.keras.Model(inputs,outputs, name='Bidirectional-LSTM')"
      ],
      "metadata": {
        "id": "1Aori1liIj4r"
      },
      "execution_count": 212,
      "outputs": []
    },
    {
      "cell_type": "code",
      "source": [
        "model_4.summary()"
      ],
      "metadata": {
        "colab": {
          "base_uri": "https://localhost:8080/"
        },
        "outputId": "7b5b6a89-8b05-49a3-8aaa-aa19f4fada7f",
        "id": "K89-Rp0lIj4s"
      },
      "execution_count": 213,
      "outputs": [
        {
          "output_type": "stream",
          "name": "stdout",
          "text": [
            "Model: \"Bidirectional-LSTM\"\n",
            "_________________________________________________________________\n",
            " Layer (type)                Output Shape              Param #   \n",
            "=================================================================\n",
            " input_18 (InputLayer)       [(None, 1)]               0         \n",
            "                                                                 \n",
            " text_vectorization (TextVec  (None, 15)               0         \n",
            " torization)                                                     \n",
            "                                                                 \n",
            " embedding_4 (Embedding)     (None, 15, 32)            320000    \n",
            "                                                                 \n",
            " bidirectional (Bidirectiona  (None, 15, 128)          49664     \n",
            " l)                                                              \n",
            "                                                                 \n",
            " bidirectional_1 (Bidirectio  (None, 64)               41216     \n",
            " nal)                                                            \n",
            "                                                                 \n",
            " dense_22 (Dense)            (None, 16)                1040      \n",
            "                                                                 \n",
            " dense_23 (Dense)            (None, 1)                 17        \n",
            "                                                                 \n",
            "=================================================================\n",
            "Total params: 411,937\n",
            "Trainable params: 411,937\n",
            "Non-trainable params: 0\n",
            "_________________________________________________________________\n"
          ]
        }
      ]
    },
    {
      "cell_type": "code",
      "source": [
        "model_4.compile(loss = tf.keras.losses.BinaryCrossentropy(),\n",
        "                 optimizer = tf.keras.optimizers.Adam(),\n",
        "                 metrics= ['accuracy'])"
      ],
      "metadata": {
        "id": "dw5ywdyXIj4s"
      },
      "execution_count": 214,
      "outputs": []
    },
    {
      "cell_type": "code",
      "source": [
        "# !rm -rf './tensorboard/RNN'"
      ],
      "metadata": {
        "id": "4kmDBN-FIj4s"
      },
      "execution_count": 215,
      "outputs": []
    },
    {
      "cell_type": "code",
      "source": [
        "history_4 = model_4.fit(train_data, \n",
        "            train_label, \n",
        "            validation_data = (val_data,val_label), \n",
        "            epochs=10, \n",
        "            callbacks=[create_tensorboard_callback('tensorboard','Bidirectional-LSTM')])"
      ],
      "metadata": {
        "colab": {
          "base_uri": "https://localhost:8080/"
        },
        "outputId": "685c96fb-2e61-420c-ed8c-03272ef04817",
        "id": "NCWr2KYoIj4s"
      },
      "execution_count": 216,
      "outputs": [
        {
          "output_type": "stream",
          "name": "stdout",
          "text": [
            "Saving TensorBoard log files to: tensorboard/RNN/20220830-142613\n",
            "Epoch 1/10\n",
            "203/203 [==============================] - 9s 24ms/step - loss: 0.0884 - accuracy: 0.9734 - val_loss: 1.2831 - val_accuracy: 0.7557\n",
            "Epoch 2/10\n",
            "203/203 [==============================] - 4s 19ms/step - loss: 0.0319 - accuracy: 0.9845 - val_loss: 1.5075 - val_accuracy: 0.7496\n",
            "Epoch 3/10\n",
            "203/203 [==============================] - 4s 19ms/step - loss: 0.0282 - accuracy: 0.9849 - val_loss: 1.8980 - val_accuracy: 0.7399\n",
            "Epoch 4/10\n",
            "203/203 [==============================] - 4s 20ms/step - loss: 0.0264 - accuracy: 0.9850 - val_loss: 2.0657 - val_accuracy: 0.7364\n",
            "Epoch 5/10\n",
            "203/203 [==============================] - 4s 20ms/step - loss: 0.0302 - accuracy: 0.9841 - val_loss: 1.4312 - val_accuracy: 0.7023\n",
            "Epoch 6/10\n",
            "203/203 [==============================] - 5s 24ms/step - loss: 0.0315 - accuracy: 0.9849 - val_loss: 1.6043 - val_accuracy: 0.7478\n",
            "Epoch 7/10\n",
            "203/203 [==============================] - 4s 22ms/step - loss: 0.0354 - accuracy: 0.9836 - val_loss: 1.2199 - val_accuracy: 0.7513\n",
            "Epoch 8/10\n",
            "203/203 [==============================] - 4s 19ms/step - loss: 0.0295 - accuracy: 0.9853 - val_loss: 1.5322 - val_accuracy: 0.7461\n",
            "Epoch 9/10\n",
            "203/203 [==============================] - 4s 20ms/step - loss: 0.0274 - accuracy: 0.9847 - val_loss: 1.8500 - val_accuracy: 0.7461\n",
            "Epoch 10/10\n",
            "203/203 [==============================] - 4s 19ms/step - loss: 0.0255 - accuracy: 0.9861 - val_loss: 1.9325 - val_accuracy: 0.7426\n"
          ]
        }
      ]
    },
    {
      "cell_type": "code",
      "source": [
        "model_4.evaluate(val_data,val_label)"
      ],
      "metadata": {
        "colab": {
          "base_uri": "https://localhost:8080/"
        },
        "outputId": "54977a7b-7760-4430-aaa9-51f0cb788ef0",
        "id": "Hz81WvjzIj4s"
      },
      "execution_count": 217,
      "outputs": [
        {
          "output_type": "stream",
          "name": "stdout",
          "text": [
            "36/36 [==============================] - 0s 5ms/step - loss: 1.9325 - accuracy: 0.7426\n"
          ]
        },
        {
          "output_type": "execute_result",
          "data": {
            "text/plain": [
              "[1.9324778318405151, 0.7425569295883179]"
            ]
          },
          "metadata": {},
          "execution_count": 217
        }
      ]
    },
    {
      "cell_type": "code",
      "source": [],
      "metadata": {
        "id": "HCKNG6feIj4t"
      },
      "execution_count": 217,
      "outputs": []
    },
    {
      "cell_type": "markdown",
      "source": [
        "### custom tweets:"
      ],
      "metadata": {
        "id": "4ZxyGjzKIj4t"
      }
    },
    {
      "cell_type": "code",
      "source": [
        "tweets=['earthquake hit california minutes ago', \n",
        "        'my car on fire now', \n",
        "        'I need a blue car']"
      ],
      "metadata": {
        "id": "n16CzxO9Ij4t"
      },
      "execution_count": 218,
      "outputs": []
    },
    {
      "cell_type": "code",
      "source": [
        "model_4.predict(tweets)"
      ],
      "metadata": {
        "colab": {
          "base_uri": "https://localhost:8080/"
        },
        "outputId": "7ed93290-e0c3-4665-caf0-0d113f3b3a64",
        "id": "shnCstY6Ij4u"
      },
      "execution_count": 219,
      "outputs": [
        {
          "output_type": "execute_result",
          "data": {
            "text/plain": [
              "array([[9.9996984e-01],\n",
              "       [9.9641371e-01],\n",
              "       [3.7804246e-04]], dtype=float32)"
            ]
          },
          "metadata": {},
          "execution_count": 219
        }
      ]
    },
    {
      "cell_type": "code",
      "source": [],
      "metadata": {
        "id": "vrSBDvF6BmG9"
      },
      "execution_count": 219,
      "outputs": []
    }
  ]
}