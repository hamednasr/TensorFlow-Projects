{
  "nbformat": 4,
  "nbformat_minor": 0,
  "metadata": {
    "colab": {
      "provenance": [],
      "collapsed_sections": [],
      "authorship_tag": "ABX9TyOyNDZ12vVMIOWKKosxHT29",
      "include_colab_link": true
    },
    "kernelspec": {
      "name": "python3",
      "display_name": "Python 3"
    },
    "language_info": {
      "name": "python"
    }
  },
  "cells": [
    {
      "cell_type": "markdown",
      "metadata": {
        "id": "view-in-github",
        "colab_type": "text"
      },
      "source": [
        "<a href=\"https://colab.research.google.com/github/hamednasr/TensorFlow-Projects/blob/main/Analyzing_Tweets.ipynb\" target=\"_parent\"><img src=\"https://colab.research.google.com/assets/colab-badge.svg\" alt=\"Open In Colab\"/></a>"
      ]
    },
    {
      "cell_type": "markdown",
      "source": [
        "# Predicting Tweet`s Overal Message:\n",
        "## This is a kaggle competition.\n",
        "https://www.kaggle.com/competitions/nlp-getting-started/data"
      ],
      "metadata": {
        "id": "ol97k-HW8Wg2"
      }
    },
    {
      "cell_type": "code",
      "execution_count": 118,
      "metadata": {
        "id": "yM5I8_f83-kJ"
      },
      "outputs": [],
      "source": [
        "import tensorflow as tf\n",
        "import numpy as np\n",
        "import pandas as pd\n",
        "import random\n",
        "from sklearn.model_selection import train_test_split"
      ]
    },
    {
      "cell_type": "code",
      "source": [
        "!wget https://raw.githubusercontent.com/mrdbourke/tensorflow-deep-learning/main/extras/helper_functions.py"
      ],
      "metadata": {
        "colab": {
          "base_uri": "https://localhost:8080/"
        },
        "id": "cOynL78r7eSi",
        "outputId": "2576f685-e496-4fc8-e754-9c8b47aa5b22"
      },
      "execution_count": 104,
      "outputs": [
        {
          "output_type": "stream",
          "name": "stdout",
          "text": [
            "--2022-09-01 05:39:57--  https://raw.githubusercontent.com/mrdbourke/tensorflow-deep-learning/main/extras/helper_functions.py\n",
            "Resolving raw.githubusercontent.com (raw.githubusercontent.com)... 185.199.109.133, 185.199.110.133, 185.199.108.133, ...\n",
            "Connecting to raw.githubusercontent.com (raw.githubusercontent.com)|185.199.109.133|:443... connected.\n",
            "HTTP request sent, awaiting response... 200 OK\n",
            "Length: 10246 (10K) [text/plain]\n",
            "Saving to: ‘helper_functions.py.3’\n",
            "\n",
            "\rhelper_functions.py   0%[                    ]       0  --.-KB/s               \rhelper_functions.py 100%[===================>]  10.01K  --.-KB/s    in 0s      \n",
            "\n",
            "2022-09-01 05:39:57 (80.9 MB/s) - ‘helper_functions.py.3’ saved [10246/10246]\n",
            "\n"
          ]
        }
      ]
    },
    {
      "cell_type": "code",
      "source": [
        "from helper_functions import unzip_data, plot_loss_curves, compare_historys"
      ],
      "metadata": {
        "id": "H9qihhzF7eM-"
      },
      "execution_count": 105,
      "outputs": []
    },
    {
      "cell_type": "code",
      "source": [
        "!wget https://storage.googleapis.com/ztm_tf_course/nlp_getting_started.zip"
      ],
      "metadata": {
        "colab": {
          "base_uri": "https://localhost:8080/"
        },
        "id": "4HQKwtV77N6J",
        "outputId": "f5cf2a45-9867-4e08-d675-8efae5f149e1"
      },
      "execution_count": 106,
      "outputs": [
        {
          "output_type": "stream",
          "name": "stdout",
          "text": [
            "--2022-09-01 05:39:57--  https://storage.googleapis.com/ztm_tf_course/nlp_getting_started.zip\n",
            "Resolving storage.googleapis.com (storage.googleapis.com)... 173.194.214.128, 173.194.215.128, 173.194.216.128, ...\n",
            "Connecting to storage.googleapis.com (storage.googleapis.com)|173.194.214.128|:443... connected.\n",
            "HTTP request sent, awaiting response... 200 OK\n",
            "Length: 607343 (593K) [application/zip]\n",
            "Saving to: ‘nlp_getting_started.zip.3’\n",
            "\n",
            "\r          nlp_getti   0%[                    ]       0  --.-KB/s               \rnlp_getting_started 100%[===================>] 593.11K  --.-KB/s    in 0.004s  \n",
            "\n",
            "2022-09-01 05:39:57 (139 MB/s) - ‘nlp_getting_started.zip.3’ saved [607343/607343]\n",
            "\n"
          ]
        }
      ]
    },
    {
      "cell_type": "code",
      "source": [
        "unzip_data('/content/nlp_getting_started.zip')"
      ],
      "metadata": {
        "id": "HEJN23LU7dME"
      },
      "execution_count": 107,
      "outputs": []
    },
    {
      "cell_type": "markdown",
      "source": [
        "## Data Exploration:"
      ],
      "metadata": {
        "id": "g2vkVn6LKQNz"
      }
    },
    {
      "cell_type": "code",
      "source": [
        "train_df = pd.read_csv('train.csv')\n",
        "train_df"
      ],
      "metadata": {
        "colab": {
          "base_uri": "https://localhost:8080/",
          "height": 424
        },
        "id": "nED_2Sbp73WI",
        "outputId": "df8eedea-35aa-48ad-891d-28f4a824771d"
      },
      "execution_count": 108,
      "outputs": [
        {
          "output_type": "execute_result",
          "data": {
            "text/plain": [
              "         id keyword location  \\\n",
              "0         1     NaN      NaN   \n",
              "1         4     NaN      NaN   \n",
              "2         5     NaN      NaN   \n",
              "3         6     NaN      NaN   \n",
              "4         7     NaN      NaN   \n",
              "...     ...     ...      ...   \n",
              "7608  10869     NaN      NaN   \n",
              "7609  10870     NaN      NaN   \n",
              "7610  10871     NaN      NaN   \n",
              "7611  10872     NaN      NaN   \n",
              "7612  10873     NaN      NaN   \n",
              "\n",
              "                                                   text  target  \n",
              "0     Our Deeds are the Reason of this #earthquake M...       1  \n",
              "1                Forest fire near La Ronge Sask. Canada       1  \n",
              "2     All residents asked to 'shelter in place' are ...       1  \n",
              "3     13,000 people receive #wildfires evacuation or...       1  \n",
              "4     Just got sent this photo from Ruby #Alaska as ...       1  \n",
              "...                                                 ...     ...  \n",
              "7608  Two giant cranes holding a bridge collapse int...       1  \n",
              "7609  @aria_ahrary @TheTawniest The out of control w...       1  \n",
              "7610  M1.94 [01:04 UTC]?5km S of Volcano Hawaii. htt...       1  \n",
              "7611  Police investigating after an e-bike collided ...       1  \n",
              "7612  The Latest: More Homes Razed by Northern Calif...       1  \n",
              "\n",
              "[7613 rows x 5 columns]"
            ],
            "text/html": [
              "\n",
              "  <div id=\"df-993afee0-efc7-40f5-a61d-651bb510c1f3\">\n",
              "    <div class=\"colab-df-container\">\n",
              "      <div>\n",
              "<style scoped>\n",
              "    .dataframe tbody tr th:only-of-type {\n",
              "        vertical-align: middle;\n",
              "    }\n",
              "\n",
              "    .dataframe tbody tr th {\n",
              "        vertical-align: top;\n",
              "    }\n",
              "\n",
              "    .dataframe thead th {\n",
              "        text-align: right;\n",
              "    }\n",
              "</style>\n",
              "<table border=\"1\" class=\"dataframe\">\n",
              "  <thead>\n",
              "    <tr style=\"text-align: right;\">\n",
              "      <th></th>\n",
              "      <th>id</th>\n",
              "      <th>keyword</th>\n",
              "      <th>location</th>\n",
              "      <th>text</th>\n",
              "      <th>target</th>\n",
              "    </tr>\n",
              "  </thead>\n",
              "  <tbody>\n",
              "    <tr>\n",
              "      <th>0</th>\n",
              "      <td>1</td>\n",
              "      <td>NaN</td>\n",
              "      <td>NaN</td>\n",
              "      <td>Our Deeds are the Reason of this #earthquake M...</td>\n",
              "      <td>1</td>\n",
              "    </tr>\n",
              "    <tr>\n",
              "      <th>1</th>\n",
              "      <td>4</td>\n",
              "      <td>NaN</td>\n",
              "      <td>NaN</td>\n",
              "      <td>Forest fire near La Ronge Sask. Canada</td>\n",
              "      <td>1</td>\n",
              "    </tr>\n",
              "    <tr>\n",
              "      <th>2</th>\n",
              "      <td>5</td>\n",
              "      <td>NaN</td>\n",
              "      <td>NaN</td>\n",
              "      <td>All residents asked to 'shelter in place' are ...</td>\n",
              "      <td>1</td>\n",
              "    </tr>\n",
              "    <tr>\n",
              "      <th>3</th>\n",
              "      <td>6</td>\n",
              "      <td>NaN</td>\n",
              "      <td>NaN</td>\n",
              "      <td>13,000 people receive #wildfires evacuation or...</td>\n",
              "      <td>1</td>\n",
              "    </tr>\n",
              "    <tr>\n",
              "      <th>4</th>\n",
              "      <td>7</td>\n",
              "      <td>NaN</td>\n",
              "      <td>NaN</td>\n",
              "      <td>Just got sent this photo from Ruby #Alaska as ...</td>\n",
              "      <td>1</td>\n",
              "    </tr>\n",
              "    <tr>\n",
              "      <th>...</th>\n",
              "      <td>...</td>\n",
              "      <td>...</td>\n",
              "      <td>...</td>\n",
              "      <td>...</td>\n",
              "      <td>...</td>\n",
              "    </tr>\n",
              "    <tr>\n",
              "      <th>7608</th>\n",
              "      <td>10869</td>\n",
              "      <td>NaN</td>\n",
              "      <td>NaN</td>\n",
              "      <td>Two giant cranes holding a bridge collapse int...</td>\n",
              "      <td>1</td>\n",
              "    </tr>\n",
              "    <tr>\n",
              "      <th>7609</th>\n",
              "      <td>10870</td>\n",
              "      <td>NaN</td>\n",
              "      <td>NaN</td>\n",
              "      <td>@aria_ahrary @TheTawniest The out of control w...</td>\n",
              "      <td>1</td>\n",
              "    </tr>\n",
              "    <tr>\n",
              "      <th>7610</th>\n",
              "      <td>10871</td>\n",
              "      <td>NaN</td>\n",
              "      <td>NaN</td>\n",
              "      <td>M1.94 [01:04 UTC]?5km S of Volcano Hawaii. htt...</td>\n",
              "      <td>1</td>\n",
              "    </tr>\n",
              "    <tr>\n",
              "      <th>7611</th>\n",
              "      <td>10872</td>\n",
              "      <td>NaN</td>\n",
              "      <td>NaN</td>\n",
              "      <td>Police investigating after an e-bike collided ...</td>\n",
              "      <td>1</td>\n",
              "    </tr>\n",
              "    <tr>\n",
              "      <th>7612</th>\n",
              "      <td>10873</td>\n",
              "      <td>NaN</td>\n",
              "      <td>NaN</td>\n",
              "      <td>The Latest: More Homes Razed by Northern Calif...</td>\n",
              "      <td>1</td>\n",
              "    </tr>\n",
              "  </tbody>\n",
              "</table>\n",
              "<p>7613 rows × 5 columns</p>\n",
              "</div>\n",
              "      <button class=\"colab-df-convert\" onclick=\"convertToInteractive('df-993afee0-efc7-40f5-a61d-651bb510c1f3')\"\n",
              "              title=\"Convert this dataframe to an interactive table.\"\n",
              "              style=\"display:none;\">\n",
              "        \n",
              "  <svg xmlns=\"http://www.w3.org/2000/svg\" height=\"24px\"viewBox=\"0 0 24 24\"\n",
              "       width=\"24px\">\n",
              "    <path d=\"M0 0h24v24H0V0z\" fill=\"none\"/>\n",
              "    <path d=\"M18.56 5.44l.94 2.06.94-2.06 2.06-.94-2.06-.94-.94-2.06-.94 2.06-2.06.94zm-11 1L8.5 8.5l.94-2.06 2.06-.94-2.06-.94L8.5 2.5l-.94 2.06-2.06.94zm10 10l.94 2.06.94-2.06 2.06-.94-2.06-.94-.94-2.06-.94 2.06-2.06.94z\"/><path d=\"M17.41 7.96l-1.37-1.37c-.4-.4-.92-.59-1.43-.59-.52 0-1.04.2-1.43.59L10.3 9.45l-7.72 7.72c-.78.78-.78 2.05 0 2.83L4 21.41c.39.39.9.59 1.41.59.51 0 1.02-.2 1.41-.59l7.78-7.78 2.81-2.81c.8-.78.8-2.07 0-2.86zM5.41 20L4 18.59l7.72-7.72 1.47 1.35L5.41 20z\"/>\n",
              "  </svg>\n",
              "      </button>\n",
              "      \n",
              "  <style>\n",
              "    .colab-df-container {\n",
              "      display:flex;\n",
              "      flex-wrap:wrap;\n",
              "      gap: 12px;\n",
              "    }\n",
              "\n",
              "    .colab-df-convert {\n",
              "      background-color: #E8F0FE;\n",
              "      border: none;\n",
              "      border-radius: 50%;\n",
              "      cursor: pointer;\n",
              "      display: none;\n",
              "      fill: #1967D2;\n",
              "      height: 32px;\n",
              "      padding: 0 0 0 0;\n",
              "      width: 32px;\n",
              "    }\n",
              "\n",
              "    .colab-df-convert:hover {\n",
              "      background-color: #E2EBFA;\n",
              "      box-shadow: 0px 1px 2px rgba(60, 64, 67, 0.3), 0px 1px 3px 1px rgba(60, 64, 67, 0.15);\n",
              "      fill: #174EA6;\n",
              "    }\n",
              "\n",
              "    [theme=dark] .colab-df-convert {\n",
              "      background-color: #3B4455;\n",
              "      fill: #D2E3FC;\n",
              "    }\n",
              "\n",
              "    [theme=dark] .colab-df-convert:hover {\n",
              "      background-color: #434B5C;\n",
              "      box-shadow: 0px 1px 3px 1px rgba(0, 0, 0, 0.15);\n",
              "      filter: drop-shadow(0px 1px 2px rgba(0, 0, 0, 0.3));\n",
              "      fill: #FFFFFF;\n",
              "    }\n",
              "  </style>\n",
              "\n",
              "      <script>\n",
              "        const buttonEl =\n",
              "          document.querySelector('#df-993afee0-efc7-40f5-a61d-651bb510c1f3 button.colab-df-convert');\n",
              "        buttonEl.style.display =\n",
              "          google.colab.kernel.accessAllowed ? 'block' : 'none';\n",
              "\n",
              "        async function convertToInteractive(key) {\n",
              "          const element = document.querySelector('#df-993afee0-efc7-40f5-a61d-651bb510c1f3');\n",
              "          const dataTable =\n",
              "            await google.colab.kernel.invokeFunction('convertToInteractive',\n",
              "                                                     [key], {});\n",
              "          if (!dataTable) return;\n",
              "\n",
              "          const docLinkHtml = 'Like what you see? Visit the ' +\n",
              "            '<a target=\"_blank\" href=https://colab.research.google.com/notebooks/data_table.ipynb>data table notebook</a>'\n",
              "            + ' to learn more about interactive tables.';\n",
              "          element.innerHTML = '';\n",
              "          dataTable['output_type'] = 'display_data';\n",
              "          await google.colab.output.renderOutput(dataTable, element);\n",
              "          const docLink = document.createElement('div');\n",
              "          docLink.innerHTML = docLinkHtml;\n",
              "          element.appendChild(docLink);\n",
              "        }\n",
              "      </script>\n",
              "    </div>\n",
              "  </div>\n",
              "  "
            ]
          },
          "metadata": {},
          "execution_count": 108
        }
      ]
    },
    {
      "cell_type": "code",
      "source": [
        "train_df['target'].value_counts()"
      ],
      "metadata": {
        "colab": {
          "base_uri": "https://localhost:8080/"
        },
        "id": "2d3N-WWWEbeE",
        "outputId": "2aacec4b-b440-4765-c4bb-6592013d541b"
      },
      "execution_count": 119,
      "outputs": [
        {
          "output_type": "execute_result",
          "data": {
            "text/plain": [
              "0    4342\n",
              "1    3271\n",
              "Name: target, dtype: int64"
            ]
          },
          "metadata": {},
          "execution_count": 119
        }
      ]
    },
    {
      "cell_type": "code",
      "source": [
        "test_df = pd.read_csv('test.csv')\n",
        "test_df"
      ],
      "metadata": {
        "colab": {
          "base_uri": "https://localhost:8080/",
          "height": 424
        },
        "id": "T4KQ8uEEER2T",
        "outputId": "7fe58545-2f29-49c3-b2e8-4938ac198245"
      },
      "execution_count": 110,
      "outputs": [
        {
          "output_type": "execute_result",
          "data": {
            "text/plain": [
              "         id keyword location  \\\n",
              "0         0     NaN      NaN   \n",
              "1         2     NaN      NaN   \n",
              "2         3     NaN      NaN   \n",
              "3         9     NaN      NaN   \n",
              "4        11     NaN      NaN   \n",
              "...     ...     ...      ...   \n",
              "3258  10861     NaN      NaN   \n",
              "3259  10865     NaN      NaN   \n",
              "3260  10868     NaN      NaN   \n",
              "3261  10874     NaN      NaN   \n",
              "3262  10875     NaN      NaN   \n",
              "\n",
              "                                                   text  \n",
              "0                    Just happened a terrible car crash  \n",
              "1     Heard about #earthquake is different cities, s...  \n",
              "2     there is a forest fire at spot pond, geese are...  \n",
              "3              Apocalypse lighting. #Spokane #wildfires  \n",
              "4         Typhoon Soudelor kills 28 in China and Taiwan  \n",
              "...                                                 ...  \n",
              "3258  EARTHQUAKE SAFETY LOS ANGELES ÛÒ SAFETY FASTE...  \n",
              "3259  Storm in RI worse than last hurricane. My city...  \n",
              "3260  Green Line derailment in Chicago http://t.co/U...  \n",
              "3261  MEG issues Hazardous Weather Outlook (HWO) htt...  \n",
              "3262  #CityofCalgary has activated its Municipal Eme...  \n",
              "\n",
              "[3263 rows x 4 columns]"
            ],
            "text/html": [
              "\n",
              "  <div id=\"df-f2cea2e4-3e78-4fcb-a8c5-e97154d91028\">\n",
              "    <div class=\"colab-df-container\">\n",
              "      <div>\n",
              "<style scoped>\n",
              "    .dataframe tbody tr th:only-of-type {\n",
              "        vertical-align: middle;\n",
              "    }\n",
              "\n",
              "    .dataframe tbody tr th {\n",
              "        vertical-align: top;\n",
              "    }\n",
              "\n",
              "    .dataframe thead th {\n",
              "        text-align: right;\n",
              "    }\n",
              "</style>\n",
              "<table border=\"1\" class=\"dataframe\">\n",
              "  <thead>\n",
              "    <tr style=\"text-align: right;\">\n",
              "      <th></th>\n",
              "      <th>id</th>\n",
              "      <th>keyword</th>\n",
              "      <th>location</th>\n",
              "      <th>text</th>\n",
              "    </tr>\n",
              "  </thead>\n",
              "  <tbody>\n",
              "    <tr>\n",
              "      <th>0</th>\n",
              "      <td>0</td>\n",
              "      <td>NaN</td>\n",
              "      <td>NaN</td>\n",
              "      <td>Just happened a terrible car crash</td>\n",
              "    </tr>\n",
              "    <tr>\n",
              "      <th>1</th>\n",
              "      <td>2</td>\n",
              "      <td>NaN</td>\n",
              "      <td>NaN</td>\n",
              "      <td>Heard about #earthquake is different cities, s...</td>\n",
              "    </tr>\n",
              "    <tr>\n",
              "      <th>2</th>\n",
              "      <td>3</td>\n",
              "      <td>NaN</td>\n",
              "      <td>NaN</td>\n",
              "      <td>there is a forest fire at spot pond, geese are...</td>\n",
              "    </tr>\n",
              "    <tr>\n",
              "      <th>3</th>\n",
              "      <td>9</td>\n",
              "      <td>NaN</td>\n",
              "      <td>NaN</td>\n",
              "      <td>Apocalypse lighting. #Spokane #wildfires</td>\n",
              "    </tr>\n",
              "    <tr>\n",
              "      <th>4</th>\n",
              "      <td>11</td>\n",
              "      <td>NaN</td>\n",
              "      <td>NaN</td>\n",
              "      <td>Typhoon Soudelor kills 28 in China and Taiwan</td>\n",
              "    </tr>\n",
              "    <tr>\n",
              "      <th>...</th>\n",
              "      <td>...</td>\n",
              "      <td>...</td>\n",
              "      <td>...</td>\n",
              "      <td>...</td>\n",
              "    </tr>\n",
              "    <tr>\n",
              "      <th>3258</th>\n",
              "      <td>10861</td>\n",
              "      <td>NaN</td>\n",
              "      <td>NaN</td>\n",
              "      <td>EARTHQUAKE SAFETY LOS ANGELES ÛÒ SAFETY FASTE...</td>\n",
              "    </tr>\n",
              "    <tr>\n",
              "      <th>3259</th>\n",
              "      <td>10865</td>\n",
              "      <td>NaN</td>\n",
              "      <td>NaN</td>\n",
              "      <td>Storm in RI worse than last hurricane. My city...</td>\n",
              "    </tr>\n",
              "    <tr>\n",
              "      <th>3260</th>\n",
              "      <td>10868</td>\n",
              "      <td>NaN</td>\n",
              "      <td>NaN</td>\n",
              "      <td>Green Line derailment in Chicago http://t.co/U...</td>\n",
              "    </tr>\n",
              "    <tr>\n",
              "      <th>3261</th>\n",
              "      <td>10874</td>\n",
              "      <td>NaN</td>\n",
              "      <td>NaN</td>\n",
              "      <td>MEG issues Hazardous Weather Outlook (HWO) htt...</td>\n",
              "    </tr>\n",
              "    <tr>\n",
              "      <th>3262</th>\n",
              "      <td>10875</td>\n",
              "      <td>NaN</td>\n",
              "      <td>NaN</td>\n",
              "      <td>#CityofCalgary has activated its Municipal Eme...</td>\n",
              "    </tr>\n",
              "  </tbody>\n",
              "</table>\n",
              "<p>3263 rows × 4 columns</p>\n",
              "</div>\n",
              "      <button class=\"colab-df-convert\" onclick=\"convertToInteractive('df-f2cea2e4-3e78-4fcb-a8c5-e97154d91028')\"\n",
              "              title=\"Convert this dataframe to an interactive table.\"\n",
              "              style=\"display:none;\">\n",
              "        \n",
              "  <svg xmlns=\"http://www.w3.org/2000/svg\" height=\"24px\"viewBox=\"0 0 24 24\"\n",
              "       width=\"24px\">\n",
              "    <path d=\"M0 0h24v24H0V0z\" fill=\"none\"/>\n",
              "    <path d=\"M18.56 5.44l.94 2.06.94-2.06 2.06-.94-2.06-.94-.94-2.06-.94 2.06-2.06.94zm-11 1L8.5 8.5l.94-2.06 2.06-.94-2.06-.94L8.5 2.5l-.94 2.06-2.06.94zm10 10l.94 2.06.94-2.06 2.06-.94-2.06-.94-.94-2.06-.94 2.06-2.06.94z\"/><path d=\"M17.41 7.96l-1.37-1.37c-.4-.4-.92-.59-1.43-.59-.52 0-1.04.2-1.43.59L10.3 9.45l-7.72 7.72c-.78.78-.78 2.05 0 2.83L4 21.41c.39.39.9.59 1.41.59.51 0 1.02-.2 1.41-.59l7.78-7.78 2.81-2.81c.8-.78.8-2.07 0-2.86zM5.41 20L4 18.59l7.72-7.72 1.47 1.35L5.41 20z\"/>\n",
              "  </svg>\n",
              "      </button>\n",
              "      \n",
              "  <style>\n",
              "    .colab-df-container {\n",
              "      display:flex;\n",
              "      flex-wrap:wrap;\n",
              "      gap: 12px;\n",
              "    }\n",
              "\n",
              "    .colab-df-convert {\n",
              "      background-color: #E8F0FE;\n",
              "      border: none;\n",
              "      border-radius: 50%;\n",
              "      cursor: pointer;\n",
              "      display: none;\n",
              "      fill: #1967D2;\n",
              "      height: 32px;\n",
              "      padding: 0 0 0 0;\n",
              "      width: 32px;\n",
              "    }\n",
              "\n",
              "    .colab-df-convert:hover {\n",
              "      background-color: #E2EBFA;\n",
              "      box-shadow: 0px 1px 2px rgba(60, 64, 67, 0.3), 0px 1px 3px 1px rgba(60, 64, 67, 0.15);\n",
              "      fill: #174EA6;\n",
              "    }\n",
              "\n",
              "    [theme=dark] .colab-df-convert {\n",
              "      background-color: #3B4455;\n",
              "      fill: #D2E3FC;\n",
              "    }\n",
              "\n",
              "    [theme=dark] .colab-df-convert:hover {\n",
              "      background-color: #434B5C;\n",
              "      box-shadow: 0px 1px 3px 1px rgba(0, 0, 0, 0.15);\n",
              "      filter: drop-shadow(0px 1px 2px rgba(0, 0, 0, 0.3));\n",
              "      fill: #FFFFFF;\n",
              "    }\n",
              "  </style>\n",
              "\n",
              "      <script>\n",
              "        const buttonEl =\n",
              "          document.querySelector('#df-f2cea2e4-3e78-4fcb-a8c5-e97154d91028 button.colab-df-convert');\n",
              "        buttonEl.style.display =\n",
              "          google.colab.kernel.accessAllowed ? 'block' : 'none';\n",
              "\n",
              "        async function convertToInteractive(key) {\n",
              "          const element = document.querySelector('#df-f2cea2e4-3e78-4fcb-a8c5-e97154d91028');\n",
              "          const dataTable =\n",
              "            await google.colab.kernel.invokeFunction('convertToInteractive',\n",
              "                                                     [key], {});\n",
              "          if (!dataTable) return;\n",
              "\n",
              "          const docLinkHtml = 'Like what you see? Visit the ' +\n",
              "            '<a target=\"_blank\" href=https://colab.research.google.com/notebooks/data_table.ipynb>data table notebook</a>'\n",
              "            + ' to learn more about interactive tables.';\n",
              "          element.innerHTML = '';\n",
              "          dataTable['output_type'] = 'display_data';\n",
              "          await google.colab.output.renderOutput(dataTable, element);\n",
              "          const docLink = document.createElement('div');\n",
              "          docLink.innerHTML = docLinkHtml;\n",
              "          element.appendChild(docLink);\n",
              "        }\n",
              "      </script>\n",
              "    </div>\n",
              "  </div>\n",
              "  "
            ]
          },
          "metadata": {},
          "execution_count": 110
        }
      ]
    },
    {
      "cell_type": "code",
      "source": [
        "random_data = train_df.sample(frac=0.0006)\n",
        "for i in range(len(random_data)):\n",
        "  print(f'tweet number {i+1} :')\n",
        "  if random_data.iloc[i, 4]==1:\n",
        "    target = 'a Disaster'\n",
        "  else:\n",
        "    target = 'NOT Disaster'\n",
        "  print(f'{random_data.iloc[i, 3]} : This is {target} tweet')\n",
        "  print('------------------------------------\\n')\n"
      ],
      "metadata": {
        "colab": {
          "base_uri": "https://localhost:8080/"
        },
        "id": "E4uHcGoQEYVB",
        "outputId": "feda0c95-7ca3-4597-cf29-9b9ff90c994c"
      },
      "execution_count": 111,
      "outputs": [
        {
          "output_type": "stream",
          "name": "stdout",
          "text": [
            "tweet number 1 :\n",
            "#np Avenged Sevenfold - Hail To The King : This is NOT Disaster tweet\n",
            "------------------------------------\n",
            "\n",
            "tweet number 2 :\n",
            "@_minimehh @cjoyner I must be overlooking the burning buildings? #BlackLivesMatter : This is a Disaster tweet\n",
            "------------------------------------\n",
            "\n",
            "tweet number 3 :\n",
            "incident with injury:I-495  inner loop Exit 31 - MD 97/Georgia Ave Silver Spring : This is a Disaster tweet\n",
            "------------------------------------\n",
            "\n",
            "tweet number 4 :\n",
            "#SBNation #Flames What Makes a Good Penalty Killer? http://t.co/xYi5fDacxO http://t.co/SjtvzgGcXU : This is NOT Disaster tweet\n",
            "------------------------------------\n",
            "\n",
            "tweet number 5 :\n",
            "@thoutaylorbrown I feel like accidents are just drawn to you but I'm happy you've survived all of them. Hope you're okay!!! : This is NOT Disaster tweet\n",
            "------------------------------------\n",
            "\n"
          ]
        }
      ]
    },
    {
      "cell_type": "markdown",
      "source": [
        "## Extract validation data from train data:"
      ],
      "metadata": {
        "id": "RiGYjpD3LOB8"
      }
    },
    {
      "cell_type": "code",
      "source": [
        "train_df['text'].to_numpy()"
      ],
      "metadata": {
        "colab": {
          "base_uri": "https://localhost:8080/"
        },
        "id": "TDEGSE5qMzH4",
        "outputId": "1716da22-32c4-485a-e3da-034aef36e22a"
      },
      "execution_count": 122,
      "outputs": [
        {
          "output_type": "execute_result",
          "data": {
            "text/plain": [
              "array(['Our Deeds are the Reason of this #earthquake May ALLAH Forgive us all',\n",
              "       'Forest fire near La Ronge Sask. Canada',\n",
              "       \"All residents asked to 'shelter in place' are being notified by officers. No other evacuation or shelter in place orders are expected\",\n",
              "       ...,\n",
              "       'M1.94 [01:04 UTC]?5km S of Volcano Hawaii. http://t.co/zDtoyd8EbJ',\n",
              "       'Police investigating after an e-bike collided with a car in Little Portugal. E-bike rider suffered serious non-life threatening injuries.',\n",
              "       'The Latest: More Homes Razed by Northern California Wildfire - ABC News http://t.co/YmY4rSkQ3d'],\n",
              "      dtype=object)"
            ]
          },
          "metadata": {},
          "execution_count": 122
        }
      ]
    },
    {
      "cell_type": "code",
      "source": [
        "train_df['target'].to_numpy()"
      ],
      "metadata": {
        "colab": {
          "base_uri": "https://localhost:8080/"
        },
        "id": "9E9Bh7DONeeh",
        "outputId": "4f3cadec-1273-4b96-85d2-2fa44ce61bda"
      },
      "execution_count": 101,
      "outputs": [
        {
          "output_type": "execute_result",
          "data": {
            "text/plain": [
              "array([1, 1, 1, ..., 1, 1, 1])"
            ]
          },
          "metadata": {},
          "execution_count": 101
        }
      ]
    },
    {
      "cell_type": "code",
      "source": [
        "train_data, val_data, train_label, val_label = train_test_split(train_df['text'].to_numpy(), train_df['target'].to_numpy(), \n",
        "                                                                test_size=0.1, \n",
        "                                                                random_state=42)"
      ],
      "metadata": {
        "id": "ihBhXs9YG2FG"
      },
      "execution_count": 128,
      "outputs": []
    },
    {
      "cell_type": "code",
      "source": [
        "random_num = np.random.choice(len(train_data),size=761,replace=False)\n",
        "random_num"
      ],
      "metadata": {
        "colab": {
          "base_uri": "https://localhost:8080/"
        },
        "id": "BySd5It5pxAF",
        "outputId": "f985f557-6778-47dd-e75c-d4e6c36ff192"
      },
      "execution_count": 155,
      "outputs": [
        {
          "output_type": "execute_result",
          "data": {
            "text/plain": [
              "array([ 542, 6449, 6426, 5114, 4572, 3338, 6195, 2190, 2221,  381, 4206,\n",
              "       2150,  269, 4252,  555, 2218,  545,  130, 6819, 6756, 1793, 6269,\n",
              "       1903, 2573, 5765, 2068, 1894, 2287, 5828, 3090,   97, 5639, 4715,\n",
              "       2975, 4153, 2777, 2521,  436, 1860, 6240, 6055, 3237, 3174, 2324,\n",
              "       1266, 1019, 3279,  672, 2371, 4256, 4205, 5851,  504, 2596, 2852,\n",
              "       5212, 3651, 3974, 3957, 3198, 6712, 3776, 2911, 1677, 5013, 2352,\n",
              "       3263, 3649, 1256, 3012, 6128, 5321, 1558, 2648,  114, 4360, 5055,\n",
              "       3377, 3485, 5935, 5611, 5328, 1035, 3985,  430, 2514, 3324, 6666,\n",
              "       6491, 3186, 4769, 6152,  523, 2881, 5869, 1730, 3192, 2155, 1326,\n",
              "       4449, 6067, 6768, 3860, 5915, 1288, 1559, 2231, 5305, 4868, 1032,\n",
              "       4536, 3648, 3834, 1539, 4652, 2769, 4599, 6590, 5783,  239, 1197,\n",
              "        444, 6658, 1410, 5721, 4657, 4414, 5823,  232, 4940, 4165, 2076,\n",
              "        333, 6679, 4514, 6317, 4194, 2077, 4223, 1960,  373, 6688, 4606,\n",
              "       6608,  922, 2052, 5575, 3855, 4920,  324, 3896, 1018, 6083, 2885,\n",
              "       4612,  598, 5730, 4903, 6453, 5497, 2098, 2472, 5641, 3983,  944,\n",
              "       1505, 2193,  449, 3997, 1692, 1984,  774, 3895, 3230,  559, 4444,\n",
              "       1453, 1200, 1011, 1799,  274, 3993, 1239, 6174, 2812,  743, 5830,\n",
              "        720,  760, 4259, 5385, 2853, 5762, 6039, 4870, 1380, 4752, 2171,\n",
              "        417,  786, 5877, 3928, 6164, 6299, 1900, 3305, 3561, 4502, 5985,\n",
              "       1222, 5407, 5785, 5060, 6376, 4857, 2399, 5173, 4889, 2858,  991,\n",
              "       6624, 2305, 4863, 6380, 2838, 5876, 4098, 4412, 1175, 3005, 3484,\n",
              "       1618, 2793, 1879, 4230, 5259, 1224, 5184,   49, 2048, 4333, 3327,\n",
              "        272, 1383, 5622, 1073, 4655, 5474, 3471, 1338, 1341, 4314,  849,\n",
              "       1324, 6389, 1901,  597, 2330, 2695, 6769, 2334,  144, 1022, 5603,\n",
              "       4986,  319, 5806, 5381,  152,  877, 2219,  182, 6623, 5966, 6845,\n",
              "       6789, 4261, 5133,   75, 1431,  264, 4190, 4592, 5085, 5434,  810,\n",
              "        683, 3686, 2639,  908, 4363, 4330, 5350, 1977, 1726, 4187,  423,\n",
              "       4242, 6241, 1066, 4488, 2154, 3065, 2487, 5110, 4925, 5843, 6387,\n",
              "       4270, 2825, 6284, 5793,  907, 3518, 2387,  694, 6767, 3720, 3523,\n",
              "       2534, 2962, 5441, 5093, 6617, 6327, 6013, 3207, 4284, 6417, 6189,\n",
              "       6165,  115, 4329, 3197, 5518, 3340, 2744, 5666, 5334, 6023, 6644,\n",
              "       1953, 3850, 1440,  467, 4189, 5552, 4896,  936, 2260, 1475, 3646,\n",
              "       2166, 5064, 3096, 3851, 2645, 6058, 1822, 3537, 4550, 2094, 6053,\n",
              "       2619, 5171,  607, 6350,  937, 4844, 5588, 3166, 4313,  730, 6244,\n",
              "       1498, 5476, 4161, 1084, 5266,   86, 3328, 5482, 4293, 1684, 1219,\n",
              "         57, 6096, 4891, 2259, 6006, 2006, 5875, 1751, 2124, 6794, 1849,\n",
              "        782, 2856, 4004, 1166, 2529, 6255,  775, 5270, 6430, 4608, 1285,\n",
              "       1287,  989, 2660, 6402, 1297, 2675, 3704, 4549, 3397,  162, 2437,\n",
              "       4148, 3452, 3609, 5198, 4146, 2578,  764, 1898, 2532, 6616, 1701,\n",
              "       5984, 5591, 6733, 5656,  571, 4937,  473, 2060, 1476,  224, 4144,\n",
              "       6070, 3700, 1349, 5543, 4691,  508, 5626, 2922, 6540, 3064,  735,\n",
              "       2828, 3274, 3123,  902,  351,  787, 5689, 1963, 6294, 1616, 5773,\n",
              "       1890,  798, 4489, 5572, 1610, 2030,  932, 4813, 1185, 3800, 2698,\n",
              "        344, 1463, 5279, 5560, 2416, 3482, 2267,  419, 1461, 2239,  583,\n",
              "       3496, 5293, 5500, 4029, 3558, 1601, 5669, 3787, 3626, 1137, 2804,\n",
              "       2046, 5294, 1882, 2591, 4624, 1522, 3275, 2797, 6480, 6297, 6204,\n",
              "       3680, 3885, 6377, 4247, 6129, 1424, 6093, 5928, 2279, 1455, 4074,\n",
              "        602, 3571, 3660, 6361, 5038, 3464,  517, 5397, 5255, 6016, 5662,\n",
              "       1387, 3233, 1867, 4960, 2271, 6744, 1270, 4773, 5195, 1113,  548,\n",
              "        202, 3612, 2895, 5989, 3725, 3109,  906, 6408, 5094, 3390,  151,\n",
              "       6668,  251, 4257, 4707,  749, 3995,  310, 5078, 3298, 6028, 5811,\n",
              "        397,  638, 5512,   29, 2469, 2827,  997, 6233, 4564, 4740, 1273,\n",
              "       5724, 1821, 5141, 6585,  614,  963, 4517, 3914, 5632, 6040, 5477,\n",
              "        149,  121,  153, 5887, 6632, 1848, 6783, 4164, 2226, 2213, 2942,\n",
              "       4350, 6615, 6762, 6805, 1738,  955, 2704, 5663,  515, 6200, 4272,\n",
              "       3903,  223,  645, 6573, 2637, 5584, 1304, 2527, 6100, 2958,  748,\n",
              "       2109, 4751, 4798, 3873, 1599,   68, 5302, 4907,   74, 6516, 4436,\n",
              "       5158,  667, 3526,   80, 2441, 5189, 2210, 1804, 4155, 2854, 1829,\n",
              "       5911, 6776,  288, 3507, 5095, 1525,  703, 4651, 6125, 6124, 6291,\n",
              "       6405, 4553,  802, 2158, 3058, 6296, 5347, 2383, 3771, 4339, 4349,\n",
              "       2021,  610, 1608, 6167, 3966, 4694, 2720, 6686,  327, 6433, 2141,\n",
              "         71, 3640,  677, 3570, 3276, 1832, 6687, 1851, 4336, 2123, 2157,\n",
              "       3140, 5046,  265, 2829, 4658, 5297, 3447,  332, 3018, 1524, 5870,\n",
              "       1042, 5520, 3133, 4770, 5509, 1178, 1450, 3268, 2552, 6842, 1320,\n",
              "       6177, 3355, 3498, 3190, 6646, 5606, 5282, 1674, 2397, 1083, 1654,\n",
              "       1731, 4973, 4007,  215, 1183, 6493, 5304, 5399, 4451, 5844, 3840,\n",
              "       2507, 4453,  986, 2201, 6527, 6010, 2657, 2116, 4060, 4110, 5236,\n",
              "       1054, 1395, 5924, 3637,    2, 5205, 2488, 5422, 5636, 3627, 4643,\n",
              "       3438, 5579, 4063, 4895, 3416, 2350,  765, 5488, 4229, 4441, 6618,\n",
              "       4061, 6801])"
            ]
          },
          "metadata": {},
          "execution_count": 155
        }
      ]
    },
    {
      "cell_type": "code",
      "source": [
        "train_label_10_percent = train_label[random_num]"
      ],
      "metadata": {
        "id": "iPFVEG0tsT9H"
      },
      "execution_count": 158,
      "outputs": []
    },
    {
      "cell_type": "code",
      "source": [
        "train_data_10_percent = train_data[random_num]"
      ],
      "metadata": {
        "id": "5XfJkpptrWUd"
      },
      "execution_count": 159,
      "outputs": []
    },
    {
      "cell_type": "code",
      "source": [
        "val_data[:10], val_label[:10]"
      ],
      "metadata": {
        "colab": {
          "base_uri": "https://localhost:8080/"
        },
        "id": "UT_cUffWNkdm",
        "outputId": "28ff7784-2dcc-46cc-fe2c-0da23af997be"
      },
      "execution_count": 44,
      "outputs": [
        {
          "output_type": "execute_result",
          "data": {
            "text/plain": [
              "(array(['So you have a new weapon that can cause un-imaginable destruction.',\n",
              "        'The f$&amp;@ing things I do for #GISHWHES Just got soaked in a deluge going for pads and tampons. Thx @mishacollins @/@',\n",
              "        'DT @georgegalloway: RT @Galloway4Mayor: \\x89ÛÏThe CoL police can catch a pickpocket in Liverpool Stree... http://t.co/vXIn1gOq4Q',\n",
              "        'Aftershock back to school kick off was great. I want to thank everyone for making it possible. What a great night.',\n",
              "        'in response to trauma Children of Addicts develop a defensive self - one that decreases vulnerability. (3',\n",
              "        '@Calum5SOS you look like you got caught in a rainstorm this is amazing and disgusting at the same time',\n",
              "        'my favorite lady came to our volunteer meeting\\nhopefully joining her youth collision and i am excite http://t.co/Ij0wQ490cS',\n",
              "        '@brianroemmele UX fail of EMV - people want to insert and remove quickly like a gas pump stripe reader. 1 person told me it crashed the POS',\n",
              "        \"Can't find my ariana grande shirt  this is a fucking tragedy\",\n",
              "        'The Murderous Story Of America\\x89Ûªs First Hijacking http://t.co/EYUGk6byxr'],\n",
              "       dtype=object), array([1, 0, 1, 0, 0, 0, 1, 1, 0, 1]))"
            ]
          },
          "metadata": {},
          "execution_count": 44
        }
      ]
    },
    {
      "cell_type": "markdown",
      "source": [
        "## Tokenization (Vectorization):"
      ],
      "metadata": {
        "id": "oZdleV07g5m8"
      }
    },
    {
      "cell_type": "code",
      "source": [
        "sum([len(tweet.split()) for tweet in train_data])"
      ],
      "metadata": {
        "colab": {
          "base_uri": "https://localhost:8080/"
        },
        "id": "dBwN2uYD2GEH",
        "outputId": "eeedbe02-9842-459f-9f43-1392def225dd"
      },
      "execution_count": 45,
      "outputs": [
        {
          "output_type": "execute_result",
          "data": {
            "text/plain": [
              "101905"
            ]
          },
          "metadata": {},
          "execution_count": 45
        }
      ]
    },
    {
      "cell_type": "code",
      "source": [
        "round(sum([len(tweet.split()) for tweet in train_data])/len(train_data))"
      ],
      "metadata": {
        "colab": {
          "base_uri": "https://localhost:8080/"
        },
        "id": "vAr6BqkV0fnm",
        "outputId": "121d5560-356d-4df6-b218-7bd21fa2c360"
      },
      "execution_count": 46,
      "outputs": [
        {
          "output_type": "execute_result",
          "data": {
            "text/plain": [
              "15"
            ]
          },
          "metadata": {},
          "execution_count": 46
        }
      ]
    },
    {
      "cell_type": "code",
      "source": [
        "text_vectorizer = tf.keras.layers.TextVectorization(max_tokens=10000,\n",
        "                                                       output_mode='int', \n",
        "                                                       output_sequence_length=15)"
      ],
      "metadata": {
        "id": "nX1891FjNoHS"
      },
      "execution_count": 47,
      "outputs": []
    },
    {
      "cell_type": "code",
      "source": [
        "text_vectorizer.adapt(train_data)"
      ],
      "metadata": {
        "id": "rrPEZ-cpvKUF"
      },
      "execution_count": 48,
      "outputs": []
    },
    {
      "cell_type": "code",
      "source": [
        "sample_tweet = 'my name is hamed i am happy to meet you!'\n",
        "text_vectorizer(sample_tweet)"
      ],
      "metadata": {
        "colab": {
          "base_uri": "https://localhost:8080/"
        },
        "id": "GvlFWQgb5PE5",
        "outputId": "9dfbc910-51de-439e-9551-b37fd734d4f3"
      },
      "execution_count": 49,
      "outputs": [
        {
          "output_type": "execute_result",
          "data": {
            "text/plain": [
              "<tf.Tensor: shape=(15,), dtype=int64, numpy=\n",
              "array([  13,  707,    9,    1,    8,  171,  714,    5, 1815,   12,    0,\n",
              "          0,    0,    0,    0])>"
            ]
          },
          "metadata": {},
          "execution_count": 49
        }
      ]
    },
    {
      "cell_type": "code",
      "source": [
        "random_tweet = random.choice(train_data)\n",
        "print('tweet: ', random_tweet,'\\n\\n')\n",
        "print('vectorized tweet: ', text_vectorizer(random_tweet))"
      ],
      "metadata": {
        "colab": {
          "base_uri": "https://localhost:8080/"
        },
        "id": "_4LVOt3r50nF",
        "outputId": "d70dd27a-d5a5-4c8e-cae5-dc3e1a7561eb"
      },
      "execution_count": 50,
      "outputs": [
        {
          "output_type": "stream",
          "name": "stdout",
          "text": [
            "tweet:  when things become terrible more than the great Ethiopian famine... \n",
            "\n",
            "\n",
            "vectorized tweet:  tf.Tensor(\n",
            "[  45  380  822 1964   50   78    2  191 5651  486    0    0    0    0\n",
            "    0], shape=(15,), dtype=int64)\n"
          ]
        }
      ]
    },
    {
      "cell_type": "code",
      "source": [
        "#unique words\n",
        "unique_words = text_vectorizer.get_vocabulary()\n",
        "print(len(unique_words))\n",
        "print(unique_words[:10])\n",
        "print(unique_words[-10:])"
      ],
      "metadata": {
        "colab": {
          "base_uri": "https://localhost:8080/"
        },
        "id": "pz1D29W_6gMu",
        "outputId": "f8363c0c-e549-4e07-b359-eae546f06c52"
      },
      "execution_count": 51,
      "outputs": [
        {
          "output_type": "stream",
          "name": "stdout",
          "text": [
            "10000\n",
            "['', '[UNK]', 'the', 'a', 'in', 'to', 'of', 'and', 'i', 'is']\n",
            "['palm', 'palinfoen', 'palestinian\\x89Û', 'palermo', 'pale', 'pakthey', 'pakistan\\x89Ûªs', 'pakistans', 'pajamas', 'paints']\n"
          ]
        }
      ]
    },
    {
      "cell_type": "markdown",
      "source": [
        "## Embedding:"
      ],
      "metadata": {
        "id": "NOWUfElgCc9K"
      }
    },
    {
      "cell_type": "code",
      "source": [
        "embedding = tf.keras.layers.Embedding(input_dim = 10000, output_dim =32, input_length=None)"
      ],
      "metadata": {
        "id": "q8V1ge7R8-uB"
      },
      "execution_count": 52,
      "outputs": []
    },
    {
      "cell_type": "code",
      "source": [
        "sample_embed = embedding(text_vectorizer(random_tweet))\n",
        "sample_embed"
      ],
      "metadata": {
        "colab": {
          "base_uri": "https://localhost:8080/"
        },
        "id": "tLIAWQIV8taE",
        "outputId": "4dd3a2c3-7594-4d05-eb62-11748a847a78"
      },
      "execution_count": 53,
      "outputs": [
        {
          "output_type": "execute_result",
          "data": {
            "text/plain": [
              "<tf.Tensor: shape=(15, 32), dtype=float32, numpy=\n",
              "array([[-0.00141915,  0.00370733,  0.03474445, -0.04192179, -0.02048619,\n",
              "        -0.00869516,  0.04004619, -0.03916598,  0.0157127 ,  0.01956853,\n",
              "        -0.02866615,  0.03803643, -0.02646535, -0.0047574 , -0.0251094 ,\n",
              "        -0.01520016, -0.03481402, -0.02327779,  0.00966324, -0.00404912,\n",
              "         0.00881076, -0.04248139,  0.00235955, -0.03617594,  0.04347483,\n",
              "        -0.02485937, -0.02984872,  0.02158963, -0.03088179, -0.03307908,\n",
              "        -0.0257238 , -0.02629236],\n",
              "       [ 0.01818227,  0.03268112,  0.04193315,  0.04428772, -0.02928338,\n",
              "        -0.00459876, -0.03770386,  0.01450906, -0.00532839, -0.01146779,\n",
              "        -0.02845788,  0.01317834, -0.00816841,  0.00548853,  0.04323598,\n",
              "        -0.02623789,  0.02908159, -0.01549195,  0.00700921,  0.04684554,\n",
              "         0.00412595,  0.03450534,  0.036614  , -0.03646196, -0.00582768,\n",
              "        -0.02896266, -0.03818249,  0.00480633, -0.04022126, -0.00610018,\n",
              "        -0.01367217, -0.02976644],\n",
              "       [-0.01687967,  0.04327029,  0.03134432,  0.04452907,  0.01417966,\n",
              "         0.03379091,  0.00206346, -0.03593051,  0.01434435, -0.01463239,\n",
              "        -0.03157575,  0.02994103, -0.02282171, -0.01657035,  0.04299701,\n",
              "         0.0379003 , -0.04458758, -0.00423785,  0.00835054,  0.01492243,\n",
              "         0.01131137, -0.03520913, -0.01596018,  0.00501364, -0.0335844 ,\n",
              "        -0.00736749,  0.00336526, -0.00987992, -0.0381066 ,  0.04048905,\n",
              "         0.04911946, -0.02191755],\n",
              "       [ 0.02503096,  0.01989945, -0.00070957,  0.01790843,  0.01226645,\n",
              "         0.02196372, -0.03983761,  0.02322122,  0.01366146,  0.02937121,\n",
              "        -0.03367274, -0.0445524 , -0.03029569,  0.03332242, -0.00307595,\n",
              "        -0.02259747,  0.03144214,  0.04799409, -0.03401656,  0.00303509,\n",
              "        -0.00404565,  0.0128183 ,  0.01370025,  0.02701921, -0.00187354,\n",
              "         0.00598328,  0.00425776, -0.00931202, -0.01767012,  0.02787136,\n",
              "        -0.0187621 ,  0.00744572],\n",
              "       [ 0.03388864,  0.01631876, -0.01515394,  0.0231276 , -0.00538599,\n",
              "         0.0029338 , -0.0363505 , -0.01354209, -0.00851379,  0.01838872,\n",
              "        -0.00799379, -0.03845446,  0.01417753, -0.04968392,  0.02330453,\n",
              "         0.01538977, -0.01895279, -0.00091339, -0.03973734, -0.01250755,\n",
              "        -0.01990417,  0.03755928, -0.04799843, -0.03052939, -0.0478144 ,\n",
              "        -0.03684564,  0.01732801, -0.00874323,  0.0219841 , -0.01626657,\n",
              "         0.02803605,  0.03065297],\n",
              "       [-0.00726184, -0.01238824,  0.04421576, -0.04430014,  0.01757539,\n",
              "        -0.01026555,  0.04981739,  0.01414979,  0.03691925,  0.04328907,\n",
              "         0.03535742, -0.01101881,  0.01790928,  0.02031273,  0.02506914,\n",
              "         0.00707562,  0.00527253, -0.01242027,  0.02412525,  0.0001756 ,\n",
              "        -0.00977782, -0.01489571,  0.03951475,  0.03287012, -0.04363803,\n",
              "        -0.04758301,  0.02029655, -0.01758178,  0.01806239, -0.00405411,\n",
              "        -0.04813321,  0.02857981],\n",
              "       [ 0.00875229,  0.01038551,  0.00725256, -0.04476683, -0.00847743,\n",
              "         0.03847976, -0.02962312, -0.00482053,  0.04809849, -0.0105281 ,\n",
              "        -0.01297506,  0.04148452, -0.02716185,  0.00860695, -0.04990042,\n",
              "        -0.02138524, -0.00276919, -0.04960766, -0.04164244, -0.00175562,\n",
              "        -0.03720908,  0.04120917,  0.00928135,  0.03375757,  0.01862032,\n",
              "        -0.03550135, -0.01643026, -0.04463415, -0.02633667,  0.02623155,\n",
              "         0.0486219 ,  0.04585982],\n",
              "       [ 0.0321706 ,  0.0043192 ,  0.00163807,  0.01167823, -0.03227867,\n",
              "        -0.02055635,  0.01802674, -0.00889969,  0.0379276 , -0.00374842,\n",
              "        -0.00444799,  0.04330859, -0.02987585,  0.04610476, -0.04073584,\n",
              "        -0.01679251, -0.02261672, -0.03570724,  0.00611131, -0.02586683,\n",
              "         0.0174304 , -0.00175625, -0.03949741,  0.03727632,  0.03509774,\n",
              "         0.0016204 ,  0.02251382,  0.03438014,  0.04125552, -0.0473009 ,\n",
              "         0.03867697,  0.03451785],\n",
              "       [-0.03105031,  0.01589907,  0.01770229,  0.02507751, -0.03958346,\n",
              "        -0.02655358,  0.00337738,  0.00015401,  0.00604581, -0.04110112,\n",
              "        -0.03154739,  0.04124996,  0.02288315,  0.03084029, -0.01245999,\n",
              "         0.02243073, -0.01497815, -0.00602945, -0.005957  , -0.04843304,\n",
              "        -0.03416982, -0.00783933, -0.02378056, -0.01300801,  0.01435467,\n",
              "        -0.00112386,  0.03539399,  0.01060246,  0.03864929, -0.04998903,\n",
              "         0.01252377,  0.00025743],\n",
              "       [ 0.04129764,  0.00436666,  0.03655138, -0.01562037, -0.00379716,\n",
              "        -0.03296622, -0.00631043, -0.0440176 , -0.04323105, -0.03028513,\n",
              "         0.04682222,  0.0063418 , -0.01952802,  0.00876413,  0.00028526,\n",
              "         0.04165181, -0.0028263 , -0.0133245 , -0.02619337, -0.00811136,\n",
              "        -0.00169619, -0.01233234,  0.01554649,  0.01286321, -0.0328614 ,\n",
              "         0.04250964, -0.038315  , -0.04605345,  0.04476199,  0.00329975,\n",
              "         0.04286451,  0.02453219],\n",
              "       [-0.01562929, -0.01363792, -0.00770416, -0.0398616 , -0.04879364,\n",
              "        -0.04369518,  0.04267079, -0.00680319,  0.03057015, -0.03297   ,\n",
              "         0.00528917,  0.03826114,  0.01199912, -0.0309101 , -0.0276994 ,\n",
              "         0.04899383,  0.03488313, -0.03990359, -0.00826436, -0.04752698,\n",
              "         0.0029647 ,  0.04677416,  0.01225143, -0.00324802, -0.0082571 ,\n",
              "        -0.0446621 , -0.0028805 , -0.00118574, -0.04285263, -0.02046702,\n",
              "        -0.02666719,  0.00902703],\n",
              "       [-0.01562929, -0.01363792, -0.00770416, -0.0398616 , -0.04879364,\n",
              "        -0.04369518,  0.04267079, -0.00680319,  0.03057015, -0.03297   ,\n",
              "         0.00528917,  0.03826114,  0.01199912, -0.0309101 , -0.0276994 ,\n",
              "         0.04899383,  0.03488313, -0.03990359, -0.00826436, -0.04752698,\n",
              "         0.0029647 ,  0.04677416,  0.01225143, -0.00324802, -0.0082571 ,\n",
              "        -0.0446621 , -0.0028805 , -0.00118574, -0.04285263, -0.02046702,\n",
              "        -0.02666719,  0.00902703],\n",
              "       [-0.01562929, -0.01363792, -0.00770416, -0.0398616 , -0.04879364,\n",
              "        -0.04369518,  0.04267079, -0.00680319,  0.03057015, -0.03297   ,\n",
              "         0.00528917,  0.03826114,  0.01199912, -0.0309101 , -0.0276994 ,\n",
              "         0.04899383,  0.03488313, -0.03990359, -0.00826436, -0.04752698,\n",
              "         0.0029647 ,  0.04677416,  0.01225143, -0.00324802, -0.0082571 ,\n",
              "        -0.0446621 , -0.0028805 , -0.00118574, -0.04285263, -0.02046702,\n",
              "        -0.02666719,  0.00902703],\n",
              "       [-0.01562929, -0.01363792, -0.00770416, -0.0398616 , -0.04879364,\n",
              "        -0.04369518,  0.04267079, -0.00680319,  0.03057015, -0.03297   ,\n",
              "         0.00528917,  0.03826114,  0.01199912, -0.0309101 , -0.0276994 ,\n",
              "         0.04899383,  0.03488313, -0.03990359, -0.00826436, -0.04752698,\n",
              "         0.0029647 ,  0.04677416,  0.01225143, -0.00324802, -0.0082571 ,\n",
              "        -0.0446621 , -0.0028805 , -0.00118574, -0.04285263, -0.02046702,\n",
              "        -0.02666719,  0.00902703],\n",
              "       [-0.01562929, -0.01363792, -0.00770416, -0.0398616 , -0.04879364,\n",
              "        -0.04369518,  0.04267079, -0.00680319,  0.03057015, -0.03297   ,\n",
              "         0.00528917,  0.03826114,  0.01199912, -0.0309101 , -0.0276994 ,\n",
              "         0.04899383,  0.03488313, -0.03990359, -0.00826436, -0.04752698,\n",
              "         0.0029647 ,  0.04677416,  0.01225143, -0.00324802, -0.0082571 ,\n",
              "        -0.0446621 , -0.0028805 , -0.00118574, -0.04285263, -0.02046702,\n",
              "        -0.02666719,  0.00902703]], dtype=float32)>"
            ]
          },
          "metadata": {},
          "execution_count": 53
        }
      ]
    },
    {
      "cell_type": "markdown",
      "source": [
        "## Analyze with Naive Bayes using TF-IDF:"
      ],
      "metadata": {
        "id": "zLSl6TnnVWTQ"
      }
    },
    {
      "cell_type": "code",
      "source": [
        "from sklearn.feature_extraction.text import TfidfVectorizer\n",
        "from sklearn.naive_bayes import MultinomialNB\n",
        "from sklearn.pipeline import Pipeline\n",
        "from sklearn.metrics import accuracy_score, classification_report"
      ],
      "metadata": {
        "id": "rQvF8mI-9Ei7"
      },
      "execution_count": 54,
      "outputs": []
    },
    {
      "cell_type": "code",
      "source": [
        "model_0 = Pipeline([\n",
        "                    ('tfidf', TfidfVectorizer()),\n",
        "                    ('clf', MultinomialNB())\n",
        "])\n",
        "\n",
        "model_0.fit(train_data,train_label)"
      ],
      "metadata": {
        "colab": {
          "base_uri": "https://localhost:8080/"
        },
        "id": "eujQFWfsVsPw",
        "outputId": "5eb4d5be-0b18-488e-a5c8-eb4809ca9b2f"
      },
      "execution_count": 55,
      "outputs": [
        {
          "output_type": "execute_result",
          "data": {
            "text/plain": [
              "Pipeline(steps=[('tfidf', TfidfVectorizer()), ('clf', MultinomialNB())])"
            ]
          },
          "metadata": {},
          "execution_count": 55
        }
      ]
    },
    {
      "cell_type": "code",
      "source": [
        "val_pred = model_0.predict(val_data)\n",
        "val_pred[:10]"
      ],
      "metadata": {
        "colab": {
          "base_uri": "https://localhost:8080/"
        },
        "id": "LDbu8EzFXBsa",
        "outputId": "f0b0d5b0-6041-4f6d-cceb-6bb3af697d9f"
      },
      "execution_count": 56,
      "outputs": [
        {
          "output_type": "execute_result",
          "data": {
            "text/plain": [
              "array([0, 0, 0, 0, 0, 0, 0, 0, 0, 1])"
            ]
          },
          "metadata": {},
          "execution_count": 56
        }
      ]
    },
    {
      "cell_type": "code",
      "source": [
        "val_label[:10]"
      ],
      "metadata": {
        "colab": {
          "base_uri": "https://localhost:8080/"
        },
        "id": "36pZya2qXXm1",
        "outputId": "d7ff6644-f8cf-48cb-f4d5-cdda895293af"
      },
      "execution_count": 57,
      "outputs": [
        {
          "output_type": "execute_result",
          "data": {
            "text/plain": [
              "array([1, 0, 1, 0, 0, 0, 1, 1, 0, 1])"
            ]
          },
          "metadata": {},
          "execution_count": 57
        }
      ]
    },
    {
      "cell_type": "code",
      "source": [
        "accuracy_score(val_label, val_pred)"
      ],
      "metadata": {
        "colab": {
          "base_uri": "https://localhost:8080/"
        },
        "id": "DIcwlAlyXaCW",
        "outputId": "d77a08d1-8c3d-4ff8-d8c9-6fd0beaa7f4d"
      },
      "execution_count": 58,
      "outputs": [
        {
          "output_type": "execute_result",
          "data": {
            "text/plain": [
              "0.7782152230971129"
            ]
          },
          "metadata": {},
          "execution_count": 58
        }
      ]
    },
    {
      "cell_type": "code",
      "source": [
        "print(classification_report(val_label, val_pred))"
      ],
      "metadata": {
        "colab": {
          "base_uri": "https://localhost:8080/"
        },
        "id": "qA58DXXQXlx6",
        "outputId": "70b7709e-a7e4-496b-937a-1bdc429b97e7"
      },
      "execution_count": 59,
      "outputs": [
        {
          "output_type": "stream",
          "name": "stdout",
          "text": [
            "              precision    recall  f1-score   support\n",
            "\n",
            "           0       0.74      0.92      0.82       426\n",
            "           1       0.86      0.60      0.70       336\n",
            "\n",
            "    accuracy                           0.78       762\n",
            "   macro avg       0.80      0.76      0.76       762\n",
            "weighted avg       0.79      0.78      0.77       762\n",
            "\n"
          ]
        }
      ]
    },
    {
      "cell_type": "code",
      "source": [
        "tweets=['earthquake hit california minutes ago', \n",
        "        'my car on fire now', \n",
        "        'I need a blue car']"
      ],
      "metadata": {
        "id": "AZmZc_PeN5_B"
      },
      "execution_count": 60,
      "outputs": []
    },
    {
      "cell_type": "code",
      "source": [
        "model_0.predict_proba(tweets)"
      ],
      "metadata": {
        "colab": {
          "base_uri": "https://localhost:8080/"
        },
        "outputId": "a2b7507d-a0e4-4621-92a8-6e37ce423984",
        "id": "7fsCAGqqN5_C"
      },
      "execution_count": 61,
      "outputs": [
        {
          "output_type": "execute_result",
          "data": {
            "text/plain": [
              "array([[0.22063312, 0.77936688],\n",
              "       [0.58453661, 0.41546339],\n",
              "       [0.71572258, 0.28427742]])"
            ]
          },
          "metadata": {},
          "execution_count": 61
        }
      ]
    },
    {
      "cell_type": "code",
      "source": [
        "model_0.predict(tweets)"
      ],
      "metadata": {
        "colab": {
          "base_uri": "https://localhost:8080/"
        },
        "outputId": "adf64857-6c00-49aa-c021-b2fa5ee7a3b5",
        "id": "2M8DnTOoN5_D"
      },
      "execution_count": 62,
      "outputs": [
        {
          "output_type": "execute_result",
          "data": {
            "text/plain": [
              "array([1, 0, 0])"
            ]
          },
          "metadata": {},
          "execution_count": 62
        }
      ]
    },
    {
      "cell_type": "markdown",
      "source": [
        "## Analyze with Vanilla Neural Network:"
      ],
      "metadata": {
        "id": "aKLoyZ2-73qI"
      }
    },
    {
      "cell_type": "code",
      "source": [
        "from helper_functions import create_tensorboard_callback"
      ],
      "metadata": {
        "id": "y9P2vMYU9ySx"
      },
      "execution_count": 63,
      "outputs": []
    },
    {
      "cell_type": "code",
      "source": [
        "# sequential API\n",
        "\n",
        "# model_1 = tf.keras.Sequential([\n",
        "#     tf.keras.layers.Input(shape= (1,), dtype = tf.string),\n",
        "#     text_vectorizer,\n",
        "#     embedding,\n",
        "#     tf.keras.layers.GlobalAveragePooling1D(),\n",
        "#     tf.keras.layers.Dense(10, activation='relu'),\n",
        "#     tf.keras.layers.Dense(1, activation='sigmoid')    \n",
        "# ])\n",
        "\n",
        "# model_1.compile(loss = tf.keras.losses.BinaryCrossentropy(),\n",
        "#                  optimizer = tf.keras.optimizers.Adam(),\n",
        "#                  metrics= ['accuracy'])"
      ],
      "metadata": {
        "id": "Qok-aN-GYfZe"
      },
      "execution_count": 84,
      "outputs": []
    },
    {
      "cell_type": "code",
      "source": [
        "# Functional API\n",
        "\n",
        "inputs = tf.keras.layers.Input(shape= (1,), dtype = tf.string)\n",
        "\n",
        "x = text_vectorizer(inputs)\n",
        "\n",
        "x = embedding(x)\n",
        "\n",
        "# x = tf.transpose(x , perm = [0,2,1])\n",
        "\n",
        "# print(x.shape)\n",
        "\n",
        "x = tf.keras.layers.GlobalAveragePooling1D()(x)\n",
        "\n",
        "x = tf.keras.layers.Dense(10, activation='relu')(x)\n",
        "\n",
        "outputs = tf.keras.layers.Dense(1, activation='sigmoid')(x)\n",
        "\n",
        "model_1 = tf.keras.Model(inputs,outputs, name='ANN')"
      ],
      "metadata": {
        "id": "yvsEiUlGPYkI"
      },
      "execution_count": 165,
      "outputs": []
    },
    {
      "cell_type": "code",
      "source": [
        "model_1.summary()"
      ],
      "metadata": {
        "colab": {
          "base_uri": "https://localhost:8080/"
        },
        "id": "XQR0a3l1RYjX",
        "outputId": "da0e097a-9f11-4a18-fb49-a65bdfb6a0bf"
      },
      "execution_count": 166,
      "outputs": [
        {
          "output_type": "stream",
          "name": "stdout",
          "text": [
            "Model: \"ANN\"\n",
            "_________________________________________________________________\n",
            " Layer (type)                Output Shape              Param #   \n",
            "=================================================================\n",
            " input_9 (InputLayer)        [(None, 1)]               0         \n",
            "                                                                 \n",
            " text_vectorization_1 (TextV  (None, 15)               0         \n",
            " ectorization)                                                   \n",
            "                                                                 \n",
            " embedding_1 (Embedding)     (None, 15, 32)            320000    \n",
            "                                                                 \n",
            " global_average_pooling1d_9   (None, 32)               0         \n",
            " (GlobalAveragePooling1D)                                        \n",
            "                                                                 \n",
            " dense_18 (Dense)            (None, 10)                330       \n",
            "                                                                 \n",
            " dense_19 (Dense)            (None, 1)                 11        \n",
            "                                                                 \n",
            "=================================================================\n",
            "Total params: 320,341\n",
            "Trainable params: 320,341\n",
            "Non-trainable params: 0\n",
            "_________________________________________________________________\n"
          ]
        }
      ]
    },
    {
      "cell_type": "code",
      "source": [
        "model_1.compile(loss = tf.keras.losses.BinaryCrossentropy(),\n",
        "                 optimizer = tf.keras.optimizers.Adam(),\n",
        "                 metrics= ['accuracy'])"
      ],
      "metadata": {
        "id": "2SeRFBI7YYDW"
      },
      "execution_count": 167,
      "outputs": []
    },
    {
      "cell_type": "code",
      "source": [
        "# !rm -rf './tensorboard/ANN'"
      ],
      "metadata": {
        "id": "OOFNhm_8bHx3"
      },
      "execution_count": 168,
      "outputs": []
    },
    {
      "cell_type": "code",
      "source": [
        "model_1.fit(train_data_10_percent, \n",
        "            train_label_10_percent, \n",
        "            validation_data = (val_data,val_label), \n",
        "            epochs=10, \n",
        "            callbacks=[create_tensorboard_callback('tensorboard','ANN')])"
      ],
      "metadata": {
        "colab": {
          "base_uri": "https://localhost:8080/"
        },
        "id": "ZEoda4bFtAdQ",
        "outputId": "2aa36f74-15c9-4ca7-dde6-ee1c55f98ea6"
      },
      "execution_count": 171,
      "outputs": [
        {
          "output_type": "stream",
          "name": "stdout",
          "text": [
            "Saving TensorBoard log files to: tensorboard/ANN/20220901-062035\n",
            "Epoch 1/10\n",
            "24/24 [==============================] - 0s 12ms/step - loss: 0.0439 - accuracy: 0.9803 - val_loss: 1.0258 - val_accuracy: 0.7375\n",
            "Epoch 2/10\n",
            "24/24 [==============================] - 0s 10ms/step - loss: 0.0345 - accuracy: 0.9908 - val_loss: 1.0437 - val_accuracy: 0.7323\n",
            "Epoch 3/10\n",
            "24/24 [==============================] - 0s 11ms/step - loss: 0.0290 - accuracy: 0.9908 - val_loss: 1.0485 - val_accuracy: 0.7310\n",
            "Epoch 4/10\n",
            "24/24 [==============================] - 0s 11ms/step - loss: 0.0259 - accuracy: 0.9934 - val_loss: 1.0509 - val_accuracy: 0.7336\n",
            "Epoch 5/10\n",
            "24/24 [==============================] - 0s 10ms/step - loss: 0.0234 - accuracy: 0.9934 - val_loss: 1.0535 - val_accuracy: 0.7349\n",
            "Epoch 6/10\n",
            "24/24 [==============================] - 0s 12ms/step - loss: 0.0215 - accuracy: 0.9947 - val_loss: 1.0657 - val_accuracy: 0.7349\n",
            "Epoch 7/10\n",
            "24/24 [==============================] - 0s 12ms/step - loss: 0.0202 - accuracy: 0.9947 - val_loss: 1.0706 - val_accuracy: 0.7349\n",
            "Epoch 8/10\n",
            "24/24 [==============================] - 0s 15ms/step - loss: 0.0186 - accuracy: 0.9934 - val_loss: 1.0751 - val_accuracy: 0.7349\n",
            "Epoch 9/10\n",
            "24/24 [==============================] - 0s 19ms/step - loss: 0.0172 - accuracy: 0.9947 - val_loss: 1.0830 - val_accuracy: 0.7323\n",
            "Epoch 10/10\n",
            "24/24 [==============================] - 0s 20ms/step - loss: 0.0159 - accuracy: 0.9947 - val_loss: 1.0844 - val_accuracy: 0.7336\n"
          ]
        },
        {
          "output_type": "execute_result",
          "data": {
            "text/plain": [
              "<keras.callbacks.History at 0x7f3b3e1f7c50>"
            ]
          },
          "metadata": {},
          "execution_count": 171
        }
      ]
    },
    {
      "cell_type": "code",
      "source": [
        "history_1 = model_1.fit(train_data, \n",
        "            train_label, \n",
        "            validation_data = (val_data,val_label), \n",
        "            epochs=10, \n",
        "            callbacks=[create_tensorboard_callback('tensorboard','ANN')])"
      ],
      "metadata": {
        "colab": {
          "base_uri": "https://localhost:8080/"
        },
        "id": "Vg8TwjcZNbtc",
        "outputId": "1f4d50c0-4d7f-4a56-f84f-b869ae9164f7"
      },
      "execution_count": 170,
      "outputs": [
        {
          "output_type": "stream",
          "name": "stdout",
          "text": [
            "Saving TensorBoard log files to: tensorboard/ANN/20220901-062004\n",
            "Epoch 1/10\n",
            "215/215 [==============================] - 2s 8ms/step - loss: 0.1730 - accuracy: 0.9485 - val_loss: 0.5580 - val_accuracy: 0.7651\n",
            "Epoch 2/10\n",
            "215/215 [==============================] - 2s 7ms/step - loss: 0.1232 - accuracy: 0.9587 - val_loss: 0.6345 - val_accuracy: 0.7533\n",
            "Epoch 3/10\n",
            "215/215 [==============================] - 2s 7ms/step - loss: 0.1004 - accuracy: 0.9648 - val_loss: 0.7081 - val_accuracy: 0.7415\n",
            "Epoch 4/10\n",
            "215/215 [==============================] - 2s 7ms/step - loss: 0.0865 - accuracy: 0.9699 - val_loss: 0.7571 - val_accuracy: 0.7493\n",
            "Epoch 5/10\n",
            "215/215 [==============================] - 2s 7ms/step - loss: 0.0772 - accuracy: 0.9730 - val_loss: 0.8133 - val_accuracy: 0.7441\n",
            "Epoch 6/10\n",
            "215/215 [==============================] - 2s 7ms/step - loss: 0.0696 - accuracy: 0.9745 - val_loss: 0.8624 - val_accuracy: 0.7415\n",
            "Epoch 7/10\n",
            "215/215 [==============================] - 2s 7ms/step - loss: 0.0638 - accuracy: 0.9765 - val_loss: 0.8948 - val_accuracy: 0.7428\n",
            "Epoch 8/10\n",
            "215/215 [==============================] - 2s 8ms/step - loss: 0.0603 - accuracy: 0.9774 - val_loss: 0.9361 - val_accuracy: 0.7441\n",
            "Epoch 9/10\n",
            "215/215 [==============================] - 2s 9ms/step - loss: 0.0562 - accuracy: 0.9780 - val_loss: 0.9664 - val_accuracy: 0.7441\n",
            "Epoch 10/10\n",
            "215/215 [==============================] - 2s 7ms/step - loss: 0.0542 - accuracy: 0.9790 - val_loss: 1.0062 - val_accuracy: 0.7441\n"
          ]
        }
      ]
    },
    {
      "cell_type": "code",
      "source": [
        "model_1.evaluate(val_data,val_label)"
      ],
      "metadata": {
        "colab": {
          "base_uri": "https://localhost:8080/"
        },
        "id": "E_kkLm5BbeAx",
        "outputId": "5c60aa3d-2181-4cac-b802-d503a4a56be3"
      },
      "execution_count": null,
      "outputs": [
        {
          "output_type": "stream",
          "name": "stdout",
          "text": [
            "24/24 [==============================] - 0s 3ms/step - loss: 0.8235 - accuracy: 0.7402\n"
          ]
        },
        {
          "output_type": "execute_result",
          "data": {
            "text/plain": [
              "[0.8235107064247131, 0.7401574850082397]"
            ]
          },
          "metadata": {},
          "execution_count": 40
        }
      ]
    },
    {
      "cell_type": "code",
      "source": [
        "tweets=['earthquake hit california minutes ago', \n",
        "        'my car on fire now', \n",
        "        'I need a blue car']"
      ],
      "metadata": {
        "id": "UTc9X6MSlQ2R"
      },
      "execution_count": null,
      "outputs": []
    },
    {
      "cell_type": "code",
      "source": [
        "model_1.predict(tweets)"
      ],
      "metadata": {
        "colab": {
          "base_uri": "https://localhost:8080/"
        },
        "id": "OhzkcaCXlBWY",
        "outputId": "895198bc-1cce-4f23-93c9-db1d24dc74f6"
      },
      "execution_count": null,
      "outputs": [
        {
          "output_type": "execute_result",
          "data": {
            "text/plain": [
              "array([[0.9784072 ],\n",
              "       [0.7917726 ],\n",
              "       [0.08460793]], dtype=float32)"
            ]
          },
          "metadata": {},
          "execution_count": 42
        }
      ]
    },
    {
      "cell_type": "markdown",
      "source": [
        "## Retrieve the trained word embeddings:"
      ],
      "metadata": {
        "id": "4jHHRrvj0pcr"
      }
    },
    {
      "cell_type": "code",
      "source": [
        "weights = model_1.get_layer('embedding').get_weights()[0]\n",
        "weights"
      ],
      "metadata": {
        "colab": {
          "base_uri": "https://localhost:8080/"
        },
        "id": "M9sc4sf0pUVs",
        "outputId": "d89d6bde-adbf-4090-b3db-e3c722e7c768"
      },
      "execution_count": null,
      "outputs": [
        {
          "output_type": "execute_result",
          "data": {
            "text/plain": [
              "array([[ 0.25929037, -0.06279013, -0.06148194, ...,  0.14954968,\n",
              "         0.10060261,  0.0653062 ],\n",
              "       [ 0.24403132, -0.03507703, -0.0686942 , ...,  0.12375301,\n",
              "         0.10604884,  0.02397103],\n",
              "       [ 0.26330766, -0.00792165,  0.00596493, ...,  0.15860574,\n",
              "         0.17530532,  0.0099184 ],\n",
              "       ...,\n",
              "       [ 0.08522397,  0.05309212,  0.0784494 , ...,  0.00166323,\n",
              "        -0.00641821, -0.00086374],\n",
              "       [ 0.01429316,  0.00259889, -0.01726699, ..., -0.02082995,\n",
              "        -0.01213987, -0.01905471],\n",
              "       [ 0.04047877, -0.02340493, -0.01548165, ...,  0.00393052,\n",
              "         0.012569  , -0.03269402]], dtype=float32)"
            ]
          },
          "metadata": {},
          "execution_count": 43
        }
      ]
    },
    {
      "cell_type": "code",
      "source": [
        "weights.shape"
      ],
      "metadata": {
        "colab": {
          "base_uri": "https://localhost:8080/"
        },
        "id": "LYur0NNc0UJp",
        "outputId": "8c6b6dc4-6e73-4e06-b503-43520dbd5ae7"
      },
      "execution_count": null,
      "outputs": [
        {
          "output_type": "execute_result",
          "data": {
            "text/plain": [
              "(10000, 32)"
            ]
          },
          "metadata": {},
          "execution_count": 44
        }
      ]
    },
    {
      "cell_type": "code",
      "source": [
        "vocab = text_vectorizer.get_vocabulary()\n",
        "vocab[:10]"
      ],
      "metadata": {
        "colab": {
          "base_uri": "https://localhost:8080/"
        },
        "id": "gQooUcMe0ob1",
        "outputId": "e73b4b66-9267-47a6-8a06-0d6783d0a5d6"
      },
      "execution_count": null,
      "outputs": [
        {
          "output_type": "execute_result",
          "data": {
            "text/plain": [
              "['', '[UNK]', 'the', 'a', 'in', 'to', 'of', 'and', 'i', 'is']"
            ]
          },
          "metadata": {},
          "execution_count": 45
        }
      ]
    },
    {
      "cell_type": "code",
      "source": [
        "import io\n",
        "out_v = io.open('vectors.tsv', 'w', encoding='utf-8')\n",
        "out_m = io.open('metadata.tsv', 'w', encoding='utf-8')\n",
        "\n",
        "for index, word in enumerate(vocab):\n",
        "  if index == 0:\n",
        "    continue  # skip 0, it's padding.\n",
        "  vec = weights[index]\n",
        "  out_v.write('\\t'.join([str(x) for x in vec]) + \"\\n\")\n",
        "  out_m.write(word + \"\\n\")\n",
        "out_v.close()\n",
        "out_m.close()"
      ],
      "metadata": {
        "id": "Ln_QVjQ_Ieig"
      },
      "execution_count": null,
      "outputs": []
    },
    {
      "cell_type": "code",
      "source": [
        "# try:\n",
        "#   from google.colab import files\n",
        "#   files.download('vectors.tsv')\n",
        "#   files.download('metadata.tsv')\n",
        "# except Exception:\n",
        "#   pass"
      ],
      "metadata": {
        "id": "7XH4_JyrItP-"
      },
      "execution_count": null,
      "outputs": []
    },
    {
      "cell_type": "markdown",
      "source": [
        "Then, use [Embedding Projector](http://projector.tensorflow.org/) to Visualize the embeddings"
      ],
      "metadata": {
        "id": "Rz0TllBkI6_E"
      }
    },
    {
      "cell_type": "markdown",
      "source": [
        "## Analyze with LSTM model:"
      ],
      "metadata": {
        "id": "Se_weCsVw0NK"
      }
    },
    {
      "cell_type": "code",
      "source": [
        "inputs = tf.keras.layers.Input(shape= (1), dtype = tf.string)\n",
        "\n",
        "x = text_vectorizer(inputs)\n",
        "\n",
        "x = embedding(x)\n",
        "\n",
        "x = tf.keras.layers.LSTM(64,  return_sequences=True)(x)\n",
        "x = tf.keras.layers.LSTM(32)(x)\n",
        "\n",
        "x = tf.keras.layers.Dense(16, activation='relu')(x)\n",
        "outputs = tf.keras.layers.Dense(1, activation='sigmoid')(x)\n",
        "\n",
        "model_2 = tf.keras.Model(inputs,outputs, name='LSTM')"
      ],
      "metadata": {
        "id": "96Qi40rIw5GI"
      },
      "execution_count": null,
      "outputs": []
    },
    {
      "cell_type": "code",
      "source": [
        "model_2.summary()"
      ],
      "metadata": {
        "colab": {
          "base_uri": "https://localhost:8080/"
        },
        "outputId": "de1528db-10db-48c6-a739-36849a0f4df8",
        "id": "vKSzooeIw5GJ"
      },
      "execution_count": null,
      "outputs": [
        {
          "output_type": "stream",
          "name": "stdout",
          "text": [
            "Model: \"LSTM\"\n",
            "_________________________________________________________________\n",
            " Layer (type)                Output Shape              Param #   \n",
            "=================================================================\n",
            " input_2 (InputLayer)        [(None, 1)]               0         \n",
            "                                                                 \n",
            " text_vectorization (TextVec  (None, 15)               0         \n",
            " torization)                                                     \n",
            "                                                                 \n",
            " embedding (Embedding)       (None, 15, 32)            320000    \n",
            "                                                                 \n",
            " lstm (LSTM)                 (None, 15, 64)            24832     \n",
            "                                                                 \n",
            " lstm_1 (LSTM)               (None, 32)                12416     \n",
            "                                                                 \n",
            " dense_2 (Dense)             (None, 16)                528       \n",
            "                                                                 \n",
            " dense_3 (Dense)             (None, 1)                 17        \n",
            "                                                                 \n",
            "=================================================================\n",
            "Total params: 357,793\n",
            "Trainable params: 357,793\n",
            "Non-trainable params: 0\n",
            "_________________________________________________________________\n"
          ]
        }
      ]
    },
    {
      "cell_type": "code",
      "source": [
        "model_2.compile(loss = tf.keras.losses.BinaryCrossentropy(),\n",
        "                 optimizer = tf.keras.optimizers.Adam(),\n",
        "                 metrics= ['accuracy'])"
      ],
      "metadata": {
        "id": "ewHkj2ZXw5GJ"
      },
      "execution_count": null,
      "outputs": []
    },
    {
      "cell_type": "code",
      "source": [
        "# !rm -rf './tensorboard/LSTM'"
      ],
      "metadata": {
        "id": "LpIUPzhiw5GK"
      },
      "execution_count": null,
      "outputs": []
    },
    {
      "cell_type": "code",
      "source": [
        "history_2 = model_2.fit(train_data, \n",
        "            train_label, \n",
        "            validation_data = (val_data,val_label), \n",
        "            epochs=10, \n",
        "            callbacks=[create_tensorboard_callback('tensorboard','LSTM')])"
      ],
      "metadata": {
        "colab": {
          "base_uri": "https://localhost:8080/"
        },
        "outputId": "cf3dd192-90fd-4f66-8567-dc7b54342778",
        "id": "PSI6IaAhw5GK"
      },
      "execution_count": null,
      "outputs": [
        {
          "output_type": "stream",
          "name": "stdout",
          "text": [
            "Saving TensorBoard log files to: tensorboard/LSTM/20220831-192716\n",
            "Epoch 1/10\n",
            "215/215 [==============================] - 11s 30ms/step - loss: 0.1997 - accuracy: 0.9218 - val_loss: 0.8313 - val_accuracy: 0.7507\n",
            "Epoch 2/10\n",
            "215/215 [==============================] - 6s 26ms/step - loss: 0.0811 - accuracy: 0.9685 - val_loss: 0.8949 - val_accuracy: 0.7388\n",
            "Epoch 3/10\n",
            "215/215 [==============================] - 5s 25ms/step - loss: 0.0639 - accuracy: 0.9749 - val_loss: 1.2104 - val_accuracy: 0.7441\n",
            "Epoch 4/10\n",
            "215/215 [==============================] - 6s 27ms/step - loss: 0.0608 - accuracy: 0.9737 - val_loss: 1.0866 - val_accuracy: 0.7178\n",
            "Epoch 5/10\n",
            "215/215 [==============================] - 6s 26ms/step - loss: 0.0509 - accuracy: 0.9772 - val_loss: 1.2095 - val_accuracy: 0.7362\n",
            "Epoch 6/10\n",
            "215/215 [==============================] - 5s 24ms/step - loss: 0.0468 - accuracy: 0.9793 - val_loss: 1.5439 - val_accuracy: 0.7362\n",
            "Epoch 7/10\n",
            "215/215 [==============================] - 5s 25ms/step - loss: 0.0448 - accuracy: 0.9772 - val_loss: 1.4275 - val_accuracy: 0.7244\n",
            "Epoch 8/10\n",
            "215/215 [==============================] - 6s 26ms/step - loss: 0.0397 - accuracy: 0.9813 - val_loss: 1.7005 - val_accuracy: 0.7152\n",
            "Epoch 9/10\n",
            "215/215 [==============================] - 9s 40ms/step - loss: 0.0407 - accuracy: 0.9801 - val_loss: 1.7176 - val_accuracy: 0.7480\n",
            "Epoch 10/10\n",
            "215/215 [==============================] - 6s 26ms/step - loss: 0.0389 - accuracy: 0.9812 - val_loss: 1.8930 - val_accuracy: 0.7139\n"
          ]
        }
      ]
    },
    {
      "cell_type": "code",
      "source": [
        "model_2.evaluate(val_data,val_label)"
      ],
      "metadata": {
        "colab": {
          "base_uri": "https://localhost:8080/"
        },
        "outputId": "b0351271-aef9-43c4-ba7b-f21a64dbcb18",
        "id": "mjcfDDe9w5GK"
      },
      "execution_count": null,
      "outputs": [
        {
          "output_type": "stream",
          "name": "stdout",
          "text": [
            "24/24 [==============================] - 0s 7ms/step - loss: 1.8930 - accuracy: 0.7139\n"
          ]
        },
        {
          "output_type": "execute_result",
          "data": {
            "text/plain": [
              "[1.8929849863052368, 0.7139107584953308]"
            ]
          },
          "metadata": {},
          "execution_count": 53
        }
      ]
    },
    {
      "cell_type": "markdown",
      "source": [
        "### custom tweets:"
      ],
      "metadata": {
        "id": "BBYFxBg89rOA"
      }
    },
    {
      "cell_type": "code",
      "source": [
        "tweets=['earthquake hit california minutes ago', \n",
        "        'my car on fire now', \n",
        "        'I need a blue car']"
      ],
      "metadata": {
        "id": "idKzKyOyw5GL"
      },
      "execution_count": null,
      "outputs": []
    },
    {
      "cell_type": "code",
      "source": [
        "model_2.predict(tweets)"
      ],
      "metadata": {
        "colab": {
          "base_uri": "https://localhost:8080/"
        },
        "id": "uHeDjk2jyevi",
        "outputId": "0bdfa182-c23d-41ef-b8ce-2585bd93c38d"
      },
      "execution_count": null,
      "outputs": [
        {
          "output_type": "execute_result",
          "data": {
            "text/plain": [
              "array([[0.9999676 ],\n",
              "       [0.9162924 ],\n",
              "       [0.00160667]], dtype=float32)"
            ]
          },
          "metadata": {},
          "execution_count": 55
        }
      ]
    },
    {
      "cell_type": "code",
      "source": [],
      "metadata": {
        "id": "A7Dt-XsZ9f1V"
      },
      "execution_count": null,
      "outputs": []
    },
    {
      "cell_type": "markdown",
      "source": [
        "## Analyze with GRU model:"
      ],
      "metadata": {
        "id": "3ZDWKXF0BFJk"
      }
    },
    {
      "cell_type": "code",
      "source": [
        "inputs = tf.keras.layers.Input(shape= (1), dtype = tf.string)\n",
        "\n",
        "x = text_vectorizer(inputs)\n",
        "\n",
        "x = embedding(x)\n",
        "\n",
        "x = tf.keras.layers.GRU(64,  return_sequences=True)(x)\n",
        "x = tf.keras.layers.GRU(32)(x)\n",
        "\n",
        "x = tf.keras.layers.Dense(16, activation='relu')(x)\n",
        "outputs = tf.keras.layers.Dense(1, activation='sigmoid')(x)\n",
        "\n",
        "model_3 = tf.keras.Model(inputs,outputs, name='GRU')"
      ],
      "metadata": {
        "id": "Ld1eX0UYBFJw"
      },
      "execution_count": null,
      "outputs": []
    },
    {
      "cell_type": "code",
      "source": [
        "model_3.summary()"
      ],
      "metadata": {
        "colab": {
          "base_uri": "https://localhost:8080/"
        },
        "outputId": "99dbd687-76ee-427d-d753-039fbdca45d7",
        "id": "W0udNZXqBFJx"
      },
      "execution_count": null,
      "outputs": [
        {
          "output_type": "stream",
          "name": "stdout",
          "text": [
            "Model: \"GRU\"\n",
            "_________________________________________________________________\n",
            " Layer (type)                Output Shape              Param #   \n",
            "=================================================================\n",
            " input_3 (InputLayer)        [(None, 1)]               0         \n",
            "                                                                 \n",
            " text_vectorization (TextVec  (None, 15)               0         \n",
            " torization)                                                     \n",
            "                                                                 \n",
            " embedding (Embedding)       (None, 15, 32)            320000    \n",
            "                                                                 \n",
            " gru (GRU)                   (None, 15, 64)            18816     \n",
            "                                                                 \n",
            " gru_1 (GRU)                 (None, 32)                9408      \n",
            "                                                                 \n",
            " dense_4 (Dense)             (None, 16)                528       \n",
            "                                                                 \n",
            " dense_5 (Dense)             (None, 1)                 17        \n",
            "                                                                 \n",
            "=================================================================\n",
            "Total params: 348,769\n",
            "Trainable params: 348,769\n",
            "Non-trainable params: 0\n",
            "_________________________________________________________________\n"
          ]
        }
      ]
    },
    {
      "cell_type": "code",
      "source": [
        "model_3.compile(loss = tf.keras.losses.BinaryCrossentropy(),\n",
        "                 optimizer = tf.keras.optimizers.Adam(),\n",
        "                 metrics= ['accuracy'])"
      ],
      "metadata": {
        "id": "FM8D4MAjBFJx"
      },
      "execution_count": null,
      "outputs": []
    },
    {
      "cell_type": "code",
      "source": [
        "# !rm -rf './tensorboard/RNN'"
      ],
      "metadata": {
        "id": "CzkqipA3BFJy"
      },
      "execution_count": null,
      "outputs": []
    },
    {
      "cell_type": "code",
      "source": [
        "history_3 = model_3.fit(train_data, \n",
        "            train_label, \n",
        "            validation_data = (val_data,val_label), \n",
        "            epochs=10, \n",
        "            callbacks=[create_tensorboard_callback('tensorboard','GRU')])"
      ],
      "metadata": {
        "colab": {
          "base_uri": "https://localhost:8080/"
        },
        "outputId": "1ca2a6c1-d398-4ad6-da83-194da63398e2",
        "id": "GE7mHiR0BFJy"
      },
      "execution_count": null,
      "outputs": [
        {
          "output_type": "stream",
          "name": "stdout",
          "text": [
            "Saving TensorBoard log files to: tensorboard/GRU/20220831-192822\n",
            "Epoch 1/10\n",
            "215/215 [==============================] - 11s 29ms/step - loss: 0.1503 - accuracy: 0.9431 - val_loss: 0.9846 - val_accuracy: 0.7087\n",
            "Epoch 2/10\n",
            "215/215 [==============================] - 5s 24ms/step - loss: 0.0608 - accuracy: 0.9781 - val_loss: 0.8491 - val_accuracy: 0.7205\n",
            "Epoch 3/10\n",
            "215/215 [==============================] - 5s 25ms/step - loss: 0.0526 - accuracy: 0.9785 - val_loss: 1.0873 - val_accuracy: 0.7493\n",
            "Epoch 4/10\n",
            "215/215 [==============================] - 5s 24ms/step - loss: 0.0416 - accuracy: 0.9822 - val_loss: 1.8826 - val_accuracy: 0.7152\n",
            "Epoch 5/10\n",
            "215/215 [==============================] - 5s 25ms/step - loss: 0.0450 - accuracy: 0.9812 - val_loss: 1.4369 - val_accuracy: 0.7283\n",
            "Epoch 6/10\n",
            "215/215 [==============================] - 5s 25ms/step - loss: 0.0381 - accuracy: 0.9813 - val_loss: 1.6457 - val_accuracy: 0.7283\n",
            "Epoch 7/10\n",
            "215/215 [==============================] - 5s 25ms/step - loss: 0.0348 - accuracy: 0.9813 - val_loss: 1.7859 - val_accuracy: 0.7533\n",
            "Epoch 8/10\n",
            "215/215 [==============================] - 6s 26ms/step - loss: 0.0375 - accuracy: 0.9818 - val_loss: 1.3072 - val_accuracy: 0.7533\n",
            "Epoch 9/10\n",
            "215/215 [==============================] - 6s 26ms/step - loss: 0.0359 - accuracy: 0.9822 - val_loss: 1.8789 - val_accuracy: 0.7336\n",
            "Epoch 10/10\n",
            "215/215 [==============================] - 6s 26ms/step - loss: 0.0320 - accuracy: 0.9828 - val_loss: 1.9038 - val_accuracy: 0.7415\n"
          ]
        }
      ]
    },
    {
      "cell_type": "code",
      "source": [
        "model_3.evaluate(val_data,val_label)"
      ],
      "metadata": {
        "colab": {
          "base_uri": "https://localhost:8080/"
        },
        "outputId": "eda1d6c0-b91c-40cc-c24d-e9822bda88a1",
        "id": "EQSrAuvnBFJy"
      },
      "execution_count": null,
      "outputs": [
        {
          "output_type": "stream",
          "name": "stdout",
          "text": [
            "24/24 [==============================] - 0s 6ms/step - loss: 1.9038 - accuracy: 0.7415\n"
          ]
        },
        {
          "output_type": "execute_result",
          "data": {
            "text/plain": [
              "[1.903810977935791, 0.7414698004722595]"
            ]
          },
          "metadata": {},
          "execution_count": 61
        }
      ]
    },
    {
      "cell_type": "code",
      "source": [],
      "metadata": {
        "id": "2EljkEvZBFJz"
      },
      "execution_count": null,
      "outputs": []
    },
    {
      "cell_type": "markdown",
      "source": [
        "### custom tweets:"
      ],
      "metadata": {
        "id": "giM2haACBFJz"
      }
    },
    {
      "cell_type": "code",
      "source": [
        "tweets=['earthquake hit california minutes ago', \n",
        "        'my car on fire now', \n",
        "        'I need a blue car']"
      ],
      "metadata": {
        "id": "WimAgDgPBFJz"
      },
      "execution_count": null,
      "outputs": []
    },
    {
      "cell_type": "code",
      "source": [
        "model_3.predict(tweets)"
      ],
      "metadata": {
        "colab": {
          "base_uri": "https://localhost:8080/"
        },
        "outputId": "5e3d1dbb-3c13-487e-dce1-51e3074a2e9f",
        "id": "Na1chl1DBFJz"
      },
      "execution_count": null,
      "outputs": [
        {
          "output_type": "execute_result",
          "data": {
            "text/plain": [
              "array([[9.9997842e-01],\n",
              "       [9.9813539e-01],\n",
              "       [7.9515576e-04]], dtype=float32)"
            ]
          },
          "metadata": {},
          "execution_count": 63
        }
      ]
    },
    {
      "cell_type": "code",
      "source": [],
      "metadata": {
        "id": "lwqKsiKmBmPF"
      },
      "execution_count": null,
      "outputs": []
    },
    {
      "cell_type": "markdown",
      "source": [
        "## Analyzie with Bidirectional LSTM model:"
      ],
      "metadata": {
        "id": "dG8bfSq4Ij4e"
      }
    },
    {
      "cell_type": "code",
      "source": [
        "inputs = tf.keras.layers.Input(shape= (1), dtype = tf.string)\n",
        "\n",
        "x = text_vectorizer(inputs)\n",
        "\n",
        "x = embedding(x)\n",
        "\n",
        "x = tf.keras.layers.Bidirectional(tf.keras.layers.LSTM(64,  return_sequences=True))(x)\n",
        "x = tf.keras.layers.Bidirectional(tf.keras.layers.LSTM(32))(x)\n",
        "\n",
        "\n",
        "x = tf.keras.layers.Dense(16, activation='relu')(x)\n",
        "outputs = tf.keras.layers.Dense(1, activation='sigmoid')(x)\n",
        "\n",
        "model_4 = tf.keras.Model(inputs,outputs, name='Bidirectional-LSTM')"
      ],
      "metadata": {
        "id": "1Aori1liIj4r"
      },
      "execution_count": null,
      "outputs": []
    },
    {
      "cell_type": "code",
      "source": [
        "model_4.summary()"
      ],
      "metadata": {
        "colab": {
          "base_uri": "https://localhost:8080/"
        },
        "outputId": "737cbd6f-c1e4-4526-da8f-c8b6adf77eae",
        "id": "K89-Rp0lIj4s"
      },
      "execution_count": null,
      "outputs": [
        {
          "output_type": "stream",
          "name": "stdout",
          "text": [
            "Model: \"Bidirectional-LSTM\"\n",
            "_________________________________________________________________\n",
            " Layer (type)                Output Shape              Param #   \n",
            "=================================================================\n",
            " input_4 (InputLayer)        [(None, 1)]               0         \n",
            "                                                                 \n",
            " text_vectorization (TextVec  (None, 15)               0         \n",
            " torization)                                                     \n",
            "                                                                 \n",
            " embedding (Embedding)       (None, 15, 32)            320000    \n",
            "                                                                 \n",
            " bidirectional (Bidirectiona  (None, 15, 128)          49664     \n",
            " l)                                                              \n",
            "                                                                 \n",
            " bidirectional_1 (Bidirectio  (None, 64)               41216     \n",
            " nal)                                                            \n",
            "                                                                 \n",
            " dense_6 (Dense)             (None, 16)                1040      \n",
            "                                                                 \n",
            " dense_7 (Dense)             (None, 1)                 17        \n",
            "                                                                 \n",
            "=================================================================\n",
            "Total params: 411,937\n",
            "Trainable params: 411,937\n",
            "Non-trainable params: 0\n",
            "_________________________________________________________________\n"
          ]
        }
      ]
    },
    {
      "cell_type": "code",
      "source": [
        "model_4.compile(loss = tf.keras.losses.BinaryCrossentropy(),\n",
        "                 optimizer = tf.keras.optimizers.Adam(),\n",
        "                 metrics= ['accuracy'])"
      ],
      "metadata": {
        "id": "dw5ywdyXIj4s"
      },
      "execution_count": null,
      "outputs": []
    },
    {
      "cell_type": "code",
      "source": [
        "# !rm -rf './tensorboard/RNN'"
      ],
      "metadata": {
        "id": "4kmDBN-FIj4s"
      },
      "execution_count": null,
      "outputs": []
    },
    {
      "cell_type": "code",
      "source": [
        "history_4 = model_4.fit(train_data, \n",
        "            train_label, \n",
        "            validation_data = (val_data,val_label), \n",
        "            epochs=10, \n",
        "            callbacks=[create_tensorboard_callback('tensorboard','Bidirectional-LSTM')])"
      ],
      "metadata": {
        "colab": {
          "base_uri": "https://localhost:8080/"
        },
        "outputId": "0448bd68-a52f-4ba7-d052-c85b999d147c",
        "id": "NCWr2KYoIj4s"
      },
      "execution_count": null,
      "outputs": [
        {
          "output_type": "stream",
          "name": "stdout",
          "text": [
            "Saving TensorBoard log files to: tensorboard/Bidirectional-LSTM/20220831-192923\n",
            "Epoch 1/10\n",
            "215/215 [==============================] - 18s 45ms/step - loss: 0.1011 - accuracy: 0.9629 - val_loss: 1.1875 - val_accuracy: 0.7454\n",
            "Epoch 2/10\n",
            "215/215 [==============================] - 8s 37ms/step - loss: 0.0400 - accuracy: 0.9818 - val_loss: 1.4493 - val_accuracy: 0.7205\n",
            "Epoch 3/10\n",
            "215/215 [==============================] - 8s 38ms/step - loss: 0.0398 - accuracy: 0.9803 - val_loss: 1.3763 - val_accuracy: 0.7467\n",
            "Epoch 4/10\n",
            "215/215 [==============================] - 8s 38ms/step - loss: 0.0375 - accuracy: 0.9809 - val_loss: 1.6042 - val_accuracy: 0.7441\n",
            "Epoch 5/10\n",
            "215/215 [==============================] - 9s 44ms/step - loss: 0.0369 - accuracy: 0.9813 - val_loss: 1.8181 - val_accuracy: 0.7310\n",
            "Epoch 6/10\n",
            "215/215 [==============================] - 8s 37ms/step - loss: 0.0357 - accuracy: 0.9822 - val_loss: 1.6126 - val_accuracy: 0.7441\n",
            "Epoch 7/10\n",
            "215/215 [==============================] - 8s 37ms/step - loss: 0.0324 - accuracy: 0.9831 - val_loss: 1.6012 - val_accuracy: 0.7283\n",
            "Epoch 8/10\n",
            "215/215 [==============================] - 8s 37ms/step - loss: 0.0321 - accuracy: 0.9829 - val_loss: 1.9510 - val_accuracy: 0.7323\n",
            "Epoch 9/10\n",
            "215/215 [==============================] - 8s 38ms/step - loss: 0.0306 - accuracy: 0.9835 - val_loss: 1.9698 - val_accuracy: 0.7349\n",
            "Epoch 10/10\n",
            "215/215 [==============================] - 8s 37ms/step - loss: 0.0329 - accuracy: 0.9825 - val_loss: 1.5350 - val_accuracy: 0.7349\n"
          ]
        }
      ]
    },
    {
      "cell_type": "code",
      "source": [
        "model_4.evaluate(val_data,val_label)"
      ],
      "metadata": {
        "colab": {
          "base_uri": "https://localhost:8080/"
        },
        "outputId": "49021323-f193-42a0-b08e-1a388e1fb568",
        "id": "Hz81WvjzIj4s"
      },
      "execution_count": null,
      "outputs": [
        {
          "output_type": "stream",
          "name": "stdout",
          "text": [
            "24/24 [==============================] - 0s 10ms/step - loss: 1.5350 - accuracy: 0.7349\n"
          ]
        },
        {
          "output_type": "execute_result",
          "data": {
            "text/plain": [
              "[1.5350419282913208, 0.7349081635475159]"
            ]
          },
          "metadata": {},
          "execution_count": 69
        }
      ]
    },
    {
      "cell_type": "code",
      "source": [],
      "metadata": {
        "id": "HCKNG6feIj4t"
      },
      "execution_count": null,
      "outputs": []
    },
    {
      "cell_type": "markdown",
      "source": [
        "### custom tweets:"
      ],
      "metadata": {
        "id": "4ZxyGjzKIj4t"
      }
    },
    {
      "cell_type": "code",
      "source": [
        "tweets=['earthquake hit california minutes ago', \n",
        "        'my car on fire now', \n",
        "        'I need a blue car']"
      ],
      "metadata": {
        "id": "n16CzxO9Ij4t"
      },
      "execution_count": null,
      "outputs": []
    },
    {
      "cell_type": "code",
      "source": [
        "model_4.predict(tweets)"
      ],
      "metadata": {
        "colab": {
          "base_uri": "https://localhost:8080/"
        },
        "outputId": "d6e1f724-fb25-4eb2-f5f1-b460087de105",
        "id": "shnCstY6Ij4u"
      },
      "execution_count": null,
      "outputs": [
        {
          "output_type": "execute_result",
          "data": {
            "text/plain": [
              "array([[7.7287161e-01],\n",
              "       [4.7660515e-01],\n",
              "       [7.0527196e-04]], dtype=float32)"
            ]
          },
          "metadata": {},
          "execution_count": 71
        }
      ]
    },
    {
      "cell_type": "code",
      "source": [],
      "metadata": {
        "id": "vrSBDvF6BmG9"
      },
      "execution_count": null,
      "outputs": []
    },
    {
      "cell_type": "markdown",
      "source": [
        "## Analyze with Convolutional 1D model:"
      ],
      "metadata": {
        "id": "NGmhMl5XLRID"
      }
    },
    {
      "cell_type": "code",
      "source": [
        "inputs = tf.keras.layers.Input(shape= (1), dtype = tf.string)\n",
        "\n",
        "x = text_vectorizer(inputs)\n",
        "\n",
        "x = embedding(x)\n",
        "\n",
        "# x = tf.transpose(x , perm = [0,2,1])\n",
        "\n",
        "# print(x.shape)\n",
        "\n",
        "# x = tf.keras.layers.Flatten()(x)\n",
        "print(x.shape)\n",
        "\n",
        "x = tf.keras.layers.Conv1D(filters=64, kernel_size=3,padding= 'valid')(x)\n",
        "print(x.shape)\n",
        "x = tf.keras.layers.Conv1D(filters=128, kernel_size=3,padding= 'valid')(x)\n",
        "print(x.shape)\n",
        "\n",
        "x = tf.keras.layers.GlobalAveragePooling1D()(x)\n",
        "x = tf.keras.layers.Dense(16, activation='relu')(x)\n",
        "outputs = tf.keras.layers.Dense(1, activation='sigmoid')(x)\n",
        "\n",
        "model_5 = tf.keras.Model(inputs,outputs, name='Bidirectional-LSTM')"
      ],
      "metadata": {
        "colab": {
          "base_uri": "https://localhost:8080/"
        },
        "id": "m0_DjJQMLRIV",
        "outputId": "057047dc-0156-42c9-9398-ebd9c83b0904"
      },
      "execution_count": null,
      "outputs": [
        {
          "output_type": "stream",
          "name": "stdout",
          "text": [
            "(None, 15, 32)\n",
            "(None, 13, 64)\n",
            "(None, 11, 128)\n"
          ]
        }
      ]
    },
    {
      "cell_type": "code",
      "source": [
        "model_5.summary()"
      ],
      "metadata": {
        "colab": {
          "base_uri": "https://localhost:8080/"
        },
        "outputId": "eed9897b-b0c7-4b0a-908e-0a45ba8815a7",
        "id": "fuBsX9TqLRIV"
      },
      "execution_count": null,
      "outputs": [
        {
          "output_type": "stream",
          "name": "stdout",
          "text": [
            "Model: \"Bidirectional-LSTM\"\n",
            "_________________________________________________________________\n",
            " Layer (type)                Output Shape              Param #   \n",
            "=================================================================\n",
            " input_5 (InputLayer)        [(None, 1)]               0         \n",
            "                                                                 \n",
            " text_vectorization (TextVec  (None, 15)               0         \n",
            " torization)                                                     \n",
            "                                                                 \n",
            " embedding (Embedding)       (None, 15, 32)            320000    \n",
            "                                                                 \n",
            " conv1d (Conv1D)             (None, 13, 64)            6208      \n",
            "                                                                 \n",
            " conv1d_1 (Conv1D)           (None, 11, 128)           24704     \n",
            "                                                                 \n",
            " global_average_pooling1d_1   (None, 128)              0         \n",
            " (GlobalAveragePooling1D)                                        \n",
            "                                                                 \n",
            " dense_8 (Dense)             (None, 16)                2064      \n",
            "                                                                 \n",
            " dense_9 (Dense)             (None, 1)                 17        \n",
            "                                                                 \n",
            "=================================================================\n",
            "Total params: 352,993\n",
            "Trainable params: 352,993\n",
            "Non-trainable params: 0\n",
            "_________________________________________________________________\n"
          ]
        }
      ]
    },
    {
      "cell_type": "code",
      "source": [
        "model_5.compile(loss = tf.keras.losses.BinaryCrossentropy(),\n",
        "                 optimizer = tf.keras.optimizers.Adam(),\n",
        "                 metrics= ['accuracy'])"
      ],
      "metadata": {
        "id": "gZCydmCELRIW"
      },
      "execution_count": null,
      "outputs": []
    },
    {
      "cell_type": "code",
      "source": [
        "# !rm -rf './tensorboard/RNN'"
      ],
      "metadata": {
        "id": "4gOQ70YcLRIW"
      },
      "execution_count": null,
      "outputs": []
    },
    {
      "cell_type": "code",
      "source": [
        "history_5 = model_5.fit(train_data, \n",
        "            train_label, \n",
        "            validation_data = (val_data,val_label), \n",
        "            epochs=10, \n",
        "            callbacks=[create_tensorboard_callback('tensorboard','Bidirectional-LSTM')])"
      ],
      "metadata": {
        "colab": {
          "base_uri": "https://localhost:8080/"
        },
        "outputId": "7af67245-bd72-466c-9cc0-1b8cdb090676",
        "id": "q-hAiYEkLRIW"
      },
      "execution_count": null,
      "outputs": [
        {
          "output_type": "stream",
          "name": "stdout",
          "text": [
            "Saving TensorBoard log files to: tensorboard/Bidirectional-LSTM/20220831-193057\n",
            "Epoch 1/10\n",
            "215/215 [==============================] - 3s 12ms/step - loss: 0.1365 - accuracy: 0.9499 - val_loss: 0.9928 - val_accuracy: 0.7349\n",
            "Epoch 2/10\n",
            "215/215 [==============================] - 2s 11ms/step - loss: 0.0646 - accuracy: 0.9740 - val_loss: 1.2160 - val_accuracy: 0.7192\n",
            "Epoch 3/10\n",
            "215/215 [==============================] - 2s 11ms/step - loss: 0.0466 - accuracy: 0.9774 - val_loss: 1.4520 - val_accuracy: 0.7362\n",
            "Epoch 4/10\n",
            "215/215 [==============================] - 2s 11ms/step - loss: 0.0400 - accuracy: 0.9804 - val_loss: 1.6313 - val_accuracy: 0.7362\n",
            "Epoch 5/10\n",
            "215/215 [==============================] - 2s 10ms/step - loss: 0.0388 - accuracy: 0.9812 - val_loss: 1.8688 - val_accuracy: 0.7231\n",
            "Epoch 6/10\n",
            "215/215 [==============================] - 2s 11ms/step - loss: 0.0356 - accuracy: 0.9799 - val_loss: 1.9609 - val_accuracy: 0.7244\n",
            "Epoch 7/10\n",
            "215/215 [==============================] - 2s 11ms/step - loss: 0.0338 - accuracy: 0.9812 - val_loss: 2.3632 - val_accuracy: 0.7178\n",
            "Epoch 8/10\n",
            "215/215 [==============================] - 2s 11ms/step - loss: 0.0339 - accuracy: 0.9820 - val_loss: 2.2395 - val_accuracy: 0.7336\n",
            "Epoch 9/10\n",
            "215/215 [==============================] - 2s 10ms/step - loss: 0.0306 - accuracy: 0.9823 - val_loss: 2.6873 - val_accuracy: 0.7375\n",
            "Epoch 10/10\n",
            "215/215 [==============================] - 2s 11ms/step - loss: 0.0332 - accuracy: 0.9822 - val_loss: 2.6490 - val_accuracy: 0.7034\n"
          ]
        }
      ]
    },
    {
      "cell_type": "code",
      "source": [
        "model_5.evaluate(val_data,val_label)"
      ],
      "metadata": {
        "colab": {
          "base_uri": "https://localhost:8080/"
        },
        "outputId": "693cadde-f603-42f7-f4bd-83aa838a4988",
        "id": "-_9MOlsjLRIX"
      },
      "execution_count": null,
      "outputs": [
        {
          "output_type": "stream",
          "name": "stdout",
          "text": [
            "24/24 [==============================] - 0s 3ms/step - loss: 2.6490 - accuracy: 0.7034\n"
          ]
        },
        {
          "output_type": "execute_result",
          "data": {
            "text/plain": [
              "[2.6489670276641846, 0.7034120559692383]"
            ]
          },
          "metadata": {},
          "execution_count": 77
        }
      ]
    },
    {
      "cell_type": "code",
      "source": [],
      "metadata": {
        "id": "iGKX_POcLRIX"
      },
      "execution_count": null,
      "outputs": []
    },
    {
      "cell_type": "markdown",
      "source": [
        "### custom tweets:"
      ],
      "metadata": {
        "id": "4c3Rns-8LRIY"
      }
    },
    {
      "cell_type": "code",
      "source": [
        "tweets=['earthquake hit california minutes ago', \n",
        "        'my car on fire now', \n",
        "        'I need a blue car']"
      ],
      "metadata": {
        "id": "SjqL2o1ZLRIY"
      },
      "execution_count": null,
      "outputs": []
    },
    {
      "cell_type": "code",
      "source": [
        "model_5.predict(tweets)"
      ],
      "metadata": {
        "colab": {
          "base_uri": "https://localhost:8080/"
        },
        "outputId": "619f2805-344a-4478-843f-cb7c6dab964a",
        "id": "07qcheEHLRIY"
      },
      "execution_count": null,
      "outputs": [
        {
          "output_type": "stream",
          "name": "stderr",
          "text": [
            "WARNING:tensorflow:5 out of the last 5 calls to <function Model.make_predict_function.<locals>.predict_function at 0x7ff1ca380d40> triggered tf.function retracing. Tracing is expensive and the excessive number of tracings could be due to (1) creating @tf.function repeatedly in a loop, (2) passing tensors with different shapes, (3) passing Python objects instead of tensors. For (1), please define your @tf.function outside of the loop. For (2), @tf.function has experimental_relax_shapes=True option that relaxes argument shapes that can avoid unnecessary retracing. For (3), please refer to https://www.tensorflow.org/guide/function#controlling_retracing and https://www.tensorflow.org/api_docs/python/tf/function for  more details.\n"
          ]
        },
        {
          "output_type": "execute_result",
          "data": {
            "text/plain": [
              "array([[0.99974126],\n",
              "       [0.9929791 ],\n",
              "       [0.22827303]], dtype=float32)"
            ]
          },
          "metadata": {},
          "execution_count": 79
        }
      ]
    },
    {
      "cell_type": "code",
      "source": [],
      "metadata": {
        "id": "K2rwEa8G5yUc"
      },
      "execution_count": null,
      "outputs": []
    },
    {
      "cell_type": "markdown",
      "source": [
        "## Analyze with Universal Sentence Encoder tensorflow hub:"
      ],
      "metadata": {
        "id": "gmu0Y80qDc9-"
      }
    },
    {
      "cell_type": "code",
      "source": [
        "import tensorflow_hub as hub\n",
        "\n",
        "embed = hub.load(\"https://tfhub.dev/google/universal-sentence-encoder/4\")\n",
        "embed_sample = embed([\"The quick brown fox jumps over the lazy dog.\",\n",
        "                      \"I am a sentence for which I would like to get its embedding\"])\n",
        "\n",
        "print(embed_sample)\n",
        "\n",
        "# The following are example embedding output of 512 dimensions per sentence\n",
        "# Embedding for: The quick brown fox jumps over the lazy dog.\n",
        "# [-0.03133016 -0.06338634 -0.01607501, ...]\n",
        "# Embedding for: I am a sentence for which I would like to get its embedding.\n",
        "# [0.05080863 -0.0165243   0.01573782, ...]\n"
      ],
      "metadata": {
        "colab": {
          "base_uri": "https://localhost:8080/"
        },
        "id": "lB9_LFdtDyX_",
        "outputId": "c8a02b16-bd36-4faa-fdae-2b06503114dc"
      },
      "execution_count": null,
      "outputs": [
        {
          "output_type": "stream",
          "name": "stdout",
          "text": [
            "tf.Tensor(\n",
            "[[-0.03133017 -0.06338634 -0.01607501 ... -0.03242778 -0.0457574\n",
            "   0.05370456]\n",
            " [ 0.05080861 -0.01652434  0.01573779 ...  0.00976657  0.03170121\n",
            "   0.01788118]], shape=(2, 512), dtype=float32)\n"
          ]
        }
      ]
    },
    {
      "cell_type": "code",
      "source": [
        "embed(train_data)"
      ],
      "metadata": {
        "colab": {
          "base_uri": "https://localhost:8080/"
        },
        "id": "FcIC4W1ZEqO0",
        "outputId": "6b651a32-9a52-4088-e5e5-3642ab47350b"
      },
      "execution_count": null,
      "outputs": [
        {
          "output_type": "execute_result",
          "data": {
            "text/plain": [
              "<tf.Tensor: shape=(6851, 512), dtype=float32, numpy=\n",
              "array([[ 0.01178656, -0.00748094,  0.00952065, ...,  0.04002216,\n",
              "        -0.07293098,  0.01045   ],\n",
              "       [ 0.08340861, -0.03587737,  0.01278975, ..., -0.00764408,\n",
              "        -0.06952015, -0.08435119],\n",
              "       [ 0.03161547,  0.01725737, -0.00808266, ..., -0.03697908,\n",
              "         0.03299483, -0.04934364],\n",
              "       ...,\n",
              "       [-0.03393723, -0.06167451,  0.04978931, ..., -0.05219645,\n",
              "        -0.05812604, -0.0630734 ],\n",
              "       [ 0.0215332 ,  0.06060665, -0.07061633, ..., -0.04428503,\n",
              "        -0.00652964, -0.00850323],\n",
              "       [ 0.02649508, -0.05326023, -0.05051778, ..., -0.01227468,\n",
              "         0.01156288, -0.00953933]], dtype=float32)>"
            ]
          },
          "metadata": {},
          "execution_count": 81
        }
      ]
    },
    {
      "cell_type": "code",
      "source": [
        "encoder_layer = hub.KerasLayer(\"https://tfhub.dev/google/universal-sentence-encoder/4\",\n",
        "                               input_shape=[],\n",
        "                               trainable=False,\n",
        "                               dtype=tf.string,\n",
        "                               name= 'USE')"
      ],
      "metadata": {
        "id": "zr3l7T2rDc-A"
      },
      "execution_count": null,
      "outputs": []
    },
    {
      "cell_type": "code",
      "source": [
        "model_6 = tf.keras.Sequential([\n",
        "    encoder_layer,\n",
        "    tf.keras.layers.Dense(64, activation='relu'),\n",
        "    tf.keras.layers.Dense(32, activation='relu'),\n",
        "    tf.keras.layers.Dense(1, activation='sigmoid')],\n",
        "    name = 'USE_pretrained_model'\n",
        ")"
      ],
      "metadata": {
        "id": "0GXP22NHR0MW"
      },
      "execution_count": null,
      "outputs": []
    },
    {
      "cell_type": "code",
      "source": [
        "model_6.summary()"
      ],
      "metadata": {
        "colab": {
          "base_uri": "https://localhost:8080/"
        },
        "outputId": "dc8e6784-0bcf-40d4-e44b-aa6793a5bb56",
        "id": "u_uqdLqbDc-B"
      },
      "execution_count": null,
      "outputs": [
        {
          "output_type": "stream",
          "name": "stdout",
          "text": [
            "Model: \"USE_pretrained_model\"\n",
            "_________________________________________________________________\n",
            " Layer (type)                Output Shape              Param #   \n",
            "=================================================================\n",
            " USE (KerasLayer)            (None, 512)               256797824 \n",
            "                                                                 \n",
            " dense_10 (Dense)            (None, 64)                32832     \n",
            "                                                                 \n",
            " dense_11 (Dense)            (None, 32)                2080      \n",
            "                                                                 \n",
            " dense_12 (Dense)            (None, 1)                 33        \n",
            "                                                                 \n",
            "=================================================================\n",
            "Total params: 256,832,769\n",
            "Trainable params: 34,945\n",
            "Non-trainable params: 256,797,824\n",
            "_________________________________________________________________\n"
          ]
        }
      ]
    },
    {
      "cell_type": "code",
      "source": [
        "model_6.compile(loss = tf.keras.losses.BinaryCrossentropy(),\n",
        "                 optimizer = tf.keras.optimizers.Adam(),\n",
        "                 metrics= ['accuracy'])"
      ],
      "metadata": {
        "id": "cEVNRf99Dc-B"
      },
      "execution_count": null,
      "outputs": []
    },
    {
      "cell_type": "code",
      "source": [
        "# !rm -rf './tensorboard/RNN'"
      ],
      "metadata": {
        "id": "cdBWwDr3Dc-D"
      },
      "execution_count": null,
      "outputs": []
    },
    {
      "cell_type": "code",
      "source": [
        "history_6 = model_6.fit(train_data, \n",
        "            train_label, \n",
        "            validation_data = (val_data,val_label), \n",
        "            epochs=10, \n",
        "            callbacks=[create_tensorboard_callback('tensorboard','USE_pretrained_model')])"
      ],
      "metadata": {
        "colab": {
          "base_uri": "https://localhost:8080/"
        },
        "outputId": "dd9c160d-0e30-4ad0-bcd6-690d2bf054db",
        "id": "HE0t3s-rDc-E"
      },
      "execution_count": null,
      "outputs": [
        {
          "output_type": "stream",
          "name": "stdout",
          "text": [
            "Saving TensorBoard log files to: tensorboard/USE_pretrained_model/20220831-193202\n",
            "Epoch 1/10\n",
            "215/215 [==============================] - 7s 16ms/step - loss: 0.4908 - accuracy: 0.7723 - val_loss: 0.4170 - val_accuracy: 0.8189\n",
            "Epoch 2/10\n",
            "215/215 [==============================] - 4s 17ms/step - loss: 0.4066 - accuracy: 0.8229 - val_loss: 0.4053 - val_accuracy: 0.8176\n",
            "Epoch 3/10\n",
            "215/215 [==============================] - 3s 12ms/step - loss: 0.3838 - accuracy: 0.8355 - val_loss: 0.4001 - val_accuracy: 0.8176\n",
            "Epoch 4/10\n",
            "215/215 [==============================] - 3s 12ms/step - loss: 0.3628 - accuracy: 0.8441 - val_loss: 0.4013 - val_accuracy: 0.8163\n",
            "Epoch 5/10\n",
            "215/215 [==============================] - 3s 13ms/step - loss: 0.3424 - accuracy: 0.8556 - val_loss: 0.3971 - val_accuracy: 0.8228\n",
            "Epoch 6/10\n",
            "215/215 [==============================] - 3s 13ms/step - loss: 0.3134 - accuracy: 0.8720 - val_loss: 0.4126 - val_accuracy: 0.8228\n",
            "Epoch 7/10\n",
            "215/215 [==============================] - 3s 12ms/step - loss: 0.2828 - accuracy: 0.8861 - val_loss: 0.4373 - val_accuracy: 0.8071\n",
            "Epoch 8/10\n",
            "215/215 [==============================] - 3s 13ms/step - loss: 0.2533 - accuracy: 0.9013 - val_loss: 0.4620 - val_accuracy: 0.8110\n",
            "Epoch 9/10\n",
            "215/215 [==============================] - 3s 13ms/step - loss: 0.2205 - accuracy: 0.9199 - val_loss: 0.4768 - val_accuracy: 0.8110\n",
            "Epoch 10/10\n",
            "215/215 [==============================] - 3s 13ms/step - loss: 0.1958 - accuracy: 0.9270 - val_loss: 0.4979 - val_accuracy: 0.8031\n"
          ]
        }
      ]
    },
    {
      "cell_type": "code",
      "source": [
        "model_6.evaluate(val_data,val_label)"
      ],
      "metadata": {
        "colab": {
          "base_uri": "https://localhost:8080/"
        },
        "id": "xOgMVoeNDc-E",
        "outputId": "2d231139-e08c-4701-c92a-20a75ac51157"
      },
      "execution_count": null,
      "outputs": [
        {
          "output_type": "stream",
          "name": "stdout",
          "text": [
            "24/24 [==============================] - 0s 10ms/step - loss: 0.4979 - accuracy: 0.8031\n"
          ]
        },
        {
          "output_type": "execute_result",
          "data": {
            "text/plain": [
              "[0.4979403018951416, 0.8031495809555054]"
            ]
          },
          "metadata": {},
          "execution_count": 88
        }
      ]
    },
    {
      "cell_type": "code",
      "source": [],
      "metadata": {
        "id": "tQ1sLvRjDc-F"
      },
      "execution_count": null,
      "outputs": []
    },
    {
      "cell_type": "markdown",
      "source": [
        "### custom tweets:"
      ],
      "metadata": {
        "id": "-48OPa4qDc-F"
      }
    },
    {
      "cell_type": "code",
      "source": [
        "tweets=['earthquake hit california minutes ago', \n",
        "        'my car on fire now', \n",
        "        'I need a blue car']"
      ],
      "metadata": {
        "id": "AZY-v-KVDc-G"
      },
      "execution_count": null,
      "outputs": []
    },
    {
      "cell_type": "code",
      "source": [
        "model_6.predict(tweets)"
      ],
      "metadata": {
        "colab": {
          "base_uri": "https://localhost:8080/"
        },
        "id": "Lb9y7ZHrDc-H",
        "outputId": "2a47be2a-1152-4966-bd1f-03f6988b2565"
      },
      "execution_count": null,
      "outputs": [
        {
          "output_type": "stream",
          "name": "stderr",
          "text": [
            "WARNING:tensorflow:6 out of the last 6 calls to <function Model.make_predict_function.<locals>.predict_function at 0x7ff1c1d60c20> triggered tf.function retracing. Tracing is expensive and the excessive number of tracings could be due to (1) creating @tf.function repeatedly in a loop, (2) passing tensors with different shapes, (3) passing Python objects instead of tensors. For (1), please define your @tf.function outside of the loop. For (2), @tf.function has experimental_relax_shapes=True option that relaxes argument shapes that can avoid unnecessary retracing. For (3), please refer to https://www.tensorflow.org/guide/function#controlling_retracing and https://www.tensorflow.org/api_docs/python/tf/function for  more details.\n"
          ]
        },
        {
          "output_type": "execute_result",
          "data": {
            "text/plain": [
              "array([[0.9984745 ],\n",
              "       [0.9650059 ],\n",
              "       [0.00851494]], dtype=float32)"
            ]
          },
          "metadata": {},
          "execution_count": 90
        }
      ]
    },
    {
      "cell_type": "markdown",
      "source": [
        "## Finding most wrong predicted tweets:"
      ],
      "metadata": {
        "id": "nq1ne7XomPWz"
      }
    },
    {
      "cell_type": "code",
      "source": [
        "train_data"
      ],
      "metadata": {
        "colab": {
          "base_uri": "https://localhost:8080/"
        },
        "id": "QG3aEZj8PBoC",
        "outputId": "40f68850-f7e4-4cbc-9c2c-385d8fa056a0"
      },
      "execution_count": null,
      "outputs": [
        {
          "output_type": "execute_result",
          "data": {
            "text/plain": [
              "array([\"'McFadden Reportedly to Test Hamstring Thursday' via @TeamStream http://t.co/jWq4KvJH2j\",\n",
              "       'w--=-=-=-[ NEMA warns Nigerians to prepare for drought http://t.co/5uoOPhSqU3',\n",
              "       \"When I was cooking earlier I got electrocuted some crucial ?????? now I'm psychic lol\",\n",
              "       ...,\n",
              "       'Omron HEM-712C Automatic Blood Pressure Monitor STANDARD AND LARGE BP CUFFS http://t.co/gJBAInQWN9 http://t.co/jPhgpL1c5x',\n",
              "       'Officials say a quarantine is in place at an Alabama home over a possible Ebola case after developing symptoms... http://t.co/rqKK15uhEY',\n",
              "       'I moved to England five years ago today. What a whirlwind of time it has been! http://t.co/eaSlGeA1B7'],\n",
              "      dtype=object)"
            ]
          },
          "metadata": {},
          "execution_count": 91
        }
      ]
    },
    {
      "cell_type": "code",
      "source": [
        "train_label"
      ],
      "metadata": {
        "colab": {
          "base_uri": "https://localhost:8080/"
        },
        "id": "2L3kIrSFPGon",
        "outputId": "bbe93be0-53cd-44f7-b283-378f0e43eb2e"
      },
      "execution_count": null,
      "outputs": [
        {
          "output_type": "execute_result",
          "data": {
            "text/plain": [
              "array([0, 1, 0, ..., 0, 1, 1])"
            ]
          },
          "metadata": {},
          "execution_count": 92
        }
      ]
    },
    {
      "cell_type": "code",
      "source": [
        "import numpy as np\n",
        "pred_probs = np.squeeze(model_6.predict(train_data))\n",
        "print(pred_probs)\n",
        "pred_label = np.squeeze(np.round(pred_probs))\n",
        "pred_label"
      ],
      "metadata": {
        "colab": {
          "base_uri": "https://localhost:8080/"
        },
        "id": "OUtZvEvSPNF4",
        "outputId": "0996d45b-d0ce-49d9-bec8-31dff69082bb"
      },
      "execution_count": null,
      "outputs": [
        {
          "output_type": "stream",
          "name": "stdout",
          "text": [
            "[0.15293044 0.79391134 0.01531976 ... 0.01272947 0.9971067  0.89760965]\n"
          ]
        },
        {
          "output_type": "execute_result",
          "data": {
            "text/plain": [
              "array([0., 1., 0., ..., 0., 1., 1.], dtype=float32)"
            ]
          },
          "metadata": {},
          "execution_count": 93
        }
      ]
    },
    {
      "cell_type": "code",
      "source": [
        "import pandas as pd\n",
        "comparison_table = pd.DataFrame({'tweets':train_data,\n",
        "              'target': train_label,\n",
        "              'pred': pred_label,\n",
        "              'prob': pred_probs})\n",
        "\n",
        "comparison_table"
      ],
      "metadata": {
        "colab": {
          "base_uri": "https://localhost:8080/",
          "height": 424
        },
        "id": "ye1XJcuqPSfY",
        "outputId": "0dbf11df-e3be-4c8f-a169-122403ba1efc"
      },
      "execution_count": null,
      "outputs": [
        {
          "output_type": "execute_result",
          "data": {
            "text/plain": [
              "                                                 tweets  target  pred  \\\n",
              "0     'McFadden Reportedly to Test Hamstring Thursda...       0   0.0   \n",
              "1     w--=-=-=-[ NEMA warns Nigerians to prepare for...       1   1.0   \n",
              "2     When I was cooking earlier I got electrocuted ...       0   0.0   \n",
              "3                  I'm On Fire.  http://t.co/WATsmxYTVa       0   0.0   \n",
              "4     More than 40 families affected by the fatal ou...       1   1.0   \n",
              "...                                                 ...     ...   ...   \n",
              "6846  @Eganator2000 There aren't many Obliteration s...       0   0.0   \n",
              "6847  just had a panic attack bc I don't have enough...       0   0.0   \n",
              "6848  Omron HEM-712C Automatic Blood Pressure Monito...       0   0.0   \n",
              "6849  Officials say a quarantine is in place at an A...       1   1.0   \n",
              "6850  I moved to England five years ago today. What ...       1   1.0   \n",
              "\n",
              "          prob  \n",
              "0     0.152930  \n",
              "1     0.793911  \n",
              "2     0.015320  \n",
              "3     0.102810  \n",
              "4     0.953237  \n",
              "...        ...  \n",
              "6846  0.303111  \n",
              "6847  0.012939  \n",
              "6848  0.012729  \n",
              "6849  0.997107  \n",
              "6850  0.897610  \n",
              "\n",
              "[6851 rows x 4 columns]"
            ],
            "text/html": [
              "\n",
              "  <div id=\"df-61b2fe1a-3bbc-47e8-8227-f7059bd8a358\">\n",
              "    <div class=\"colab-df-container\">\n",
              "      <div>\n",
              "<style scoped>\n",
              "    .dataframe tbody tr th:only-of-type {\n",
              "        vertical-align: middle;\n",
              "    }\n",
              "\n",
              "    .dataframe tbody tr th {\n",
              "        vertical-align: top;\n",
              "    }\n",
              "\n",
              "    .dataframe thead th {\n",
              "        text-align: right;\n",
              "    }\n",
              "</style>\n",
              "<table border=\"1\" class=\"dataframe\">\n",
              "  <thead>\n",
              "    <tr style=\"text-align: right;\">\n",
              "      <th></th>\n",
              "      <th>tweets</th>\n",
              "      <th>target</th>\n",
              "      <th>pred</th>\n",
              "      <th>prob</th>\n",
              "    </tr>\n",
              "  </thead>\n",
              "  <tbody>\n",
              "    <tr>\n",
              "      <th>0</th>\n",
              "      <td>'McFadden Reportedly to Test Hamstring Thursda...</td>\n",
              "      <td>0</td>\n",
              "      <td>0.0</td>\n",
              "      <td>0.152930</td>\n",
              "    </tr>\n",
              "    <tr>\n",
              "      <th>1</th>\n",
              "      <td>w--=-=-=-[ NEMA warns Nigerians to prepare for...</td>\n",
              "      <td>1</td>\n",
              "      <td>1.0</td>\n",
              "      <td>0.793911</td>\n",
              "    </tr>\n",
              "    <tr>\n",
              "      <th>2</th>\n",
              "      <td>When I was cooking earlier I got electrocuted ...</td>\n",
              "      <td>0</td>\n",
              "      <td>0.0</td>\n",
              "      <td>0.015320</td>\n",
              "    </tr>\n",
              "    <tr>\n",
              "      <th>3</th>\n",
              "      <td>I'm On Fire.  http://t.co/WATsmxYTVa</td>\n",
              "      <td>0</td>\n",
              "      <td>0.0</td>\n",
              "      <td>0.102810</td>\n",
              "    </tr>\n",
              "    <tr>\n",
              "      <th>4</th>\n",
              "      <td>More than 40 families affected by the fatal ou...</td>\n",
              "      <td>1</td>\n",
              "      <td>1.0</td>\n",
              "      <td>0.953237</td>\n",
              "    </tr>\n",
              "    <tr>\n",
              "      <th>...</th>\n",
              "      <td>...</td>\n",
              "      <td>...</td>\n",
              "      <td>...</td>\n",
              "      <td>...</td>\n",
              "    </tr>\n",
              "    <tr>\n",
              "      <th>6846</th>\n",
              "      <td>@Eganator2000 There aren't many Obliteration s...</td>\n",
              "      <td>0</td>\n",
              "      <td>0.0</td>\n",
              "      <td>0.303111</td>\n",
              "    </tr>\n",
              "    <tr>\n",
              "      <th>6847</th>\n",
              "      <td>just had a panic attack bc I don't have enough...</td>\n",
              "      <td>0</td>\n",
              "      <td>0.0</td>\n",
              "      <td>0.012939</td>\n",
              "    </tr>\n",
              "    <tr>\n",
              "      <th>6848</th>\n",
              "      <td>Omron HEM-712C Automatic Blood Pressure Monito...</td>\n",
              "      <td>0</td>\n",
              "      <td>0.0</td>\n",
              "      <td>0.012729</td>\n",
              "    </tr>\n",
              "    <tr>\n",
              "      <th>6849</th>\n",
              "      <td>Officials say a quarantine is in place at an A...</td>\n",
              "      <td>1</td>\n",
              "      <td>1.0</td>\n",
              "      <td>0.997107</td>\n",
              "    </tr>\n",
              "    <tr>\n",
              "      <th>6850</th>\n",
              "      <td>I moved to England five years ago today. What ...</td>\n",
              "      <td>1</td>\n",
              "      <td>1.0</td>\n",
              "      <td>0.897610</td>\n",
              "    </tr>\n",
              "  </tbody>\n",
              "</table>\n",
              "<p>6851 rows × 4 columns</p>\n",
              "</div>\n",
              "      <button class=\"colab-df-convert\" onclick=\"convertToInteractive('df-61b2fe1a-3bbc-47e8-8227-f7059bd8a358')\"\n",
              "              title=\"Convert this dataframe to an interactive table.\"\n",
              "              style=\"display:none;\">\n",
              "        \n",
              "  <svg xmlns=\"http://www.w3.org/2000/svg\" height=\"24px\"viewBox=\"0 0 24 24\"\n",
              "       width=\"24px\">\n",
              "    <path d=\"M0 0h24v24H0V0z\" fill=\"none\"/>\n",
              "    <path d=\"M18.56 5.44l.94 2.06.94-2.06 2.06-.94-2.06-.94-.94-2.06-.94 2.06-2.06.94zm-11 1L8.5 8.5l.94-2.06 2.06-.94-2.06-.94L8.5 2.5l-.94 2.06-2.06.94zm10 10l.94 2.06.94-2.06 2.06-.94-2.06-.94-.94-2.06-.94 2.06-2.06.94z\"/><path d=\"M17.41 7.96l-1.37-1.37c-.4-.4-.92-.59-1.43-.59-.52 0-1.04.2-1.43.59L10.3 9.45l-7.72 7.72c-.78.78-.78 2.05 0 2.83L4 21.41c.39.39.9.59 1.41.59.51 0 1.02-.2 1.41-.59l7.78-7.78 2.81-2.81c.8-.78.8-2.07 0-2.86zM5.41 20L4 18.59l7.72-7.72 1.47 1.35L5.41 20z\"/>\n",
              "  </svg>\n",
              "      </button>\n",
              "      \n",
              "  <style>\n",
              "    .colab-df-container {\n",
              "      display:flex;\n",
              "      flex-wrap:wrap;\n",
              "      gap: 12px;\n",
              "    }\n",
              "\n",
              "    .colab-df-convert {\n",
              "      background-color: #E8F0FE;\n",
              "      border: none;\n",
              "      border-radius: 50%;\n",
              "      cursor: pointer;\n",
              "      display: none;\n",
              "      fill: #1967D2;\n",
              "      height: 32px;\n",
              "      padding: 0 0 0 0;\n",
              "      width: 32px;\n",
              "    }\n",
              "\n",
              "    .colab-df-convert:hover {\n",
              "      background-color: #E2EBFA;\n",
              "      box-shadow: 0px 1px 2px rgba(60, 64, 67, 0.3), 0px 1px 3px 1px rgba(60, 64, 67, 0.15);\n",
              "      fill: #174EA6;\n",
              "    }\n",
              "\n",
              "    [theme=dark] .colab-df-convert {\n",
              "      background-color: #3B4455;\n",
              "      fill: #D2E3FC;\n",
              "    }\n",
              "\n",
              "    [theme=dark] .colab-df-convert:hover {\n",
              "      background-color: #434B5C;\n",
              "      box-shadow: 0px 1px 3px 1px rgba(0, 0, 0, 0.15);\n",
              "      filter: drop-shadow(0px 1px 2px rgba(0, 0, 0, 0.3));\n",
              "      fill: #FFFFFF;\n",
              "    }\n",
              "  </style>\n",
              "\n",
              "      <script>\n",
              "        const buttonEl =\n",
              "          document.querySelector('#df-61b2fe1a-3bbc-47e8-8227-f7059bd8a358 button.colab-df-convert');\n",
              "        buttonEl.style.display =\n",
              "          google.colab.kernel.accessAllowed ? 'block' : 'none';\n",
              "\n",
              "        async function convertToInteractive(key) {\n",
              "          const element = document.querySelector('#df-61b2fe1a-3bbc-47e8-8227-f7059bd8a358');\n",
              "          const dataTable =\n",
              "            await google.colab.kernel.invokeFunction('convertToInteractive',\n",
              "                                                     [key], {});\n",
              "          if (!dataTable) return;\n",
              "\n",
              "          const docLinkHtml = 'Like what you see? Visit the ' +\n",
              "            '<a target=\"_blank\" href=https://colab.research.google.com/notebooks/data_table.ipynb>data table notebook</a>'\n",
              "            + ' to learn more about interactive tables.';\n",
              "          element.innerHTML = '';\n",
              "          dataTable['output_type'] = 'display_data';\n",
              "          await google.colab.output.renderOutput(dataTable, element);\n",
              "          const docLink = document.createElement('div');\n",
              "          docLink.innerHTML = docLinkHtml;\n",
              "          element.appendChild(docLink);\n",
              "        }\n",
              "      </script>\n",
              "    </div>\n",
              "  </div>\n",
              "  "
            ]
          },
          "metadata": {},
          "execution_count": 94
        }
      ]
    },
    {
      "cell_type": "code",
      "source": [
        "worst_preds = comparison_table[comparison_table['target'] != comparison_table['pred']].sort_values('prob')\n",
        "worst_preds"
      ],
      "metadata": {
        "colab": {
          "base_uri": "https://localhost:8080/",
          "height": 424
        },
        "id": "oE8qyRi7PvBo",
        "outputId": "e54fe8e8-78a8-4bdd-c9c7-251dedca86c5"
      },
      "execution_count": null,
      "outputs": [
        {
          "output_type": "execute_result",
          "data": {
            "text/plain": [
              "                                                 tweets  target  pred  \\\n",
              "4418  The media needs to stop publicizing mass murde...       1   0.0   \n",
              "1507  OH MY GOD RYANS IN TROUBLE http://t.co/ADIp0UnXHU       1   0.0   \n",
              "231   Omg if Cain dies i will be an emotional wreck ...       1   0.0   \n",
              "2189  ÛÏ@LordBrathwaite: Everyone Here: Ahh I hate ...       1   0.0   \n",
              "3040  #Nursing alert: Emergency Department Psychiatr...       1   0.0   \n",
              "...                                                 ...     ...   ...   \n",
              "243   @adorableappple No reported flooding po in the...       0   1.0   \n",
              "5890  Teen Disaster Preparedness Event in Van Nuys A...       0   1.0   \n",
              "4648  wowo--=== 12000 Nigerian refugees repatriated ...       0   1.0   \n",
              "4653  #hot  C-130 specially modified to land in a st...       0   1.0   \n",
              "5582  Kosciusko police investigating pedestrian fata...       0   1.0   \n",
              "\n",
              "          prob  \n",
              "4418  0.005087  \n",
              "1507  0.009996  \n",
              "231   0.023653  \n",
              "2189  0.030777  \n",
              "3040  0.031587  \n",
              "...        ...  \n",
              "243   0.803092  \n",
              "5890  0.821565  \n",
              "4648  0.827007  \n",
              "4653  0.938754  \n",
              "5582  0.994299  \n",
              "\n",
              "[342 rows x 4 columns]"
            ],
            "text/html": [
              "\n",
              "  <div id=\"df-ec7ed612-375c-421f-9189-450bae3e332a\">\n",
              "    <div class=\"colab-df-container\">\n",
              "      <div>\n",
              "<style scoped>\n",
              "    .dataframe tbody tr th:only-of-type {\n",
              "        vertical-align: middle;\n",
              "    }\n",
              "\n",
              "    .dataframe tbody tr th {\n",
              "        vertical-align: top;\n",
              "    }\n",
              "\n",
              "    .dataframe thead th {\n",
              "        text-align: right;\n",
              "    }\n",
              "</style>\n",
              "<table border=\"1\" class=\"dataframe\">\n",
              "  <thead>\n",
              "    <tr style=\"text-align: right;\">\n",
              "      <th></th>\n",
              "      <th>tweets</th>\n",
              "      <th>target</th>\n",
              "      <th>pred</th>\n",
              "      <th>prob</th>\n",
              "    </tr>\n",
              "  </thead>\n",
              "  <tbody>\n",
              "    <tr>\n",
              "      <th>4418</th>\n",
              "      <td>The media needs to stop publicizing mass murde...</td>\n",
              "      <td>1</td>\n",
              "      <td>0.0</td>\n",
              "      <td>0.005087</td>\n",
              "    </tr>\n",
              "    <tr>\n",
              "      <th>1507</th>\n",
              "      <td>OH MY GOD RYANS IN TROUBLE http://t.co/ADIp0UnXHU</td>\n",
              "      <td>1</td>\n",
              "      <td>0.0</td>\n",
              "      <td>0.009996</td>\n",
              "    </tr>\n",
              "    <tr>\n",
              "      <th>231</th>\n",
              "      <td>Omg if Cain dies i will be an emotional wreck ...</td>\n",
              "      <td>1</td>\n",
              "      <td>0.0</td>\n",
              "      <td>0.023653</td>\n",
              "    </tr>\n",
              "    <tr>\n",
              "      <th>2189</th>\n",
              "      <td>ÛÏ@LordBrathwaite: Everyone Here: Ahh I hate ...</td>\n",
              "      <td>1</td>\n",
              "      <td>0.0</td>\n",
              "      <td>0.030777</td>\n",
              "    </tr>\n",
              "    <tr>\n",
              "      <th>3040</th>\n",
              "      <td>#Nursing alert: Emergency Department Psychiatr...</td>\n",
              "      <td>1</td>\n",
              "      <td>0.0</td>\n",
              "      <td>0.031587</td>\n",
              "    </tr>\n",
              "    <tr>\n",
              "      <th>...</th>\n",
              "      <td>...</td>\n",
              "      <td>...</td>\n",
              "      <td>...</td>\n",
              "      <td>...</td>\n",
              "    </tr>\n",
              "    <tr>\n",
              "      <th>243</th>\n",
              "      <td>@adorableappple No reported flooding po in the...</td>\n",
              "      <td>0</td>\n",
              "      <td>1.0</td>\n",
              "      <td>0.803092</td>\n",
              "    </tr>\n",
              "    <tr>\n",
              "      <th>5890</th>\n",
              "      <td>Teen Disaster Preparedness Event in Van Nuys A...</td>\n",
              "      <td>0</td>\n",
              "      <td>1.0</td>\n",
              "      <td>0.821565</td>\n",
              "    </tr>\n",
              "    <tr>\n",
              "      <th>4648</th>\n",
              "      <td>wowo--=== 12000 Nigerian refugees repatriated ...</td>\n",
              "      <td>0</td>\n",
              "      <td>1.0</td>\n",
              "      <td>0.827007</td>\n",
              "    </tr>\n",
              "    <tr>\n",
              "      <th>4653</th>\n",
              "      <td>#hot  C-130 specially modified to land in a st...</td>\n",
              "      <td>0</td>\n",
              "      <td>1.0</td>\n",
              "      <td>0.938754</td>\n",
              "    </tr>\n",
              "    <tr>\n",
              "      <th>5582</th>\n",
              "      <td>Kosciusko police investigating pedestrian fata...</td>\n",
              "      <td>0</td>\n",
              "      <td>1.0</td>\n",
              "      <td>0.994299</td>\n",
              "    </tr>\n",
              "  </tbody>\n",
              "</table>\n",
              "<p>342 rows × 4 columns</p>\n",
              "</div>\n",
              "      <button class=\"colab-df-convert\" onclick=\"convertToInteractive('df-ec7ed612-375c-421f-9189-450bae3e332a')\"\n",
              "              title=\"Convert this dataframe to an interactive table.\"\n",
              "              style=\"display:none;\">\n",
              "        \n",
              "  <svg xmlns=\"http://www.w3.org/2000/svg\" height=\"24px\"viewBox=\"0 0 24 24\"\n",
              "       width=\"24px\">\n",
              "    <path d=\"M0 0h24v24H0V0z\" fill=\"none\"/>\n",
              "    <path d=\"M18.56 5.44l.94 2.06.94-2.06 2.06-.94-2.06-.94-.94-2.06-.94 2.06-2.06.94zm-11 1L8.5 8.5l.94-2.06 2.06-.94-2.06-.94L8.5 2.5l-.94 2.06-2.06.94zm10 10l.94 2.06.94-2.06 2.06-.94-2.06-.94-.94-2.06-.94 2.06-2.06.94z\"/><path d=\"M17.41 7.96l-1.37-1.37c-.4-.4-.92-.59-1.43-.59-.52 0-1.04.2-1.43.59L10.3 9.45l-7.72 7.72c-.78.78-.78 2.05 0 2.83L4 21.41c.39.39.9.59 1.41.59.51 0 1.02-.2 1.41-.59l7.78-7.78 2.81-2.81c.8-.78.8-2.07 0-2.86zM5.41 20L4 18.59l7.72-7.72 1.47 1.35L5.41 20z\"/>\n",
              "  </svg>\n",
              "      </button>\n",
              "      \n",
              "  <style>\n",
              "    .colab-df-container {\n",
              "      display:flex;\n",
              "      flex-wrap:wrap;\n",
              "      gap: 12px;\n",
              "    }\n",
              "\n",
              "    .colab-df-convert {\n",
              "      background-color: #E8F0FE;\n",
              "      border: none;\n",
              "      border-radius: 50%;\n",
              "      cursor: pointer;\n",
              "      display: none;\n",
              "      fill: #1967D2;\n",
              "      height: 32px;\n",
              "      padding: 0 0 0 0;\n",
              "      width: 32px;\n",
              "    }\n",
              "\n",
              "    .colab-df-convert:hover {\n",
              "      background-color: #E2EBFA;\n",
              "      box-shadow: 0px 1px 2px rgba(60, 64, 67, 0.3), 0px 1px 3px 1px rgba(60, 64, 67, 0.15);\n",
              "      fill: #174EA6;\n",
              "    }\n",
              "\n",
              "    [theme=dark] .colab-df-convert {\n",
              "      background-color: #3B4455;\n",
              "      fill: #D2E3FC;\n",
              "    }\n",
              "\n",
              "    [theme=dark] .colab-df-convert:hover {\n",
              "      background-color: #434B5C;\n",
              "      box-shadow: 0px 1px 3px 1px rgba(0, 0, 0, 0.15);\n",
              "      filter: drop-shadow(0px 1px 2px rgba(0, 0, 0, 0.3));\n",
              "      fill: #FFFFFF;\n",
              "    }\n",
              "  </style>\n",
              "\n",
              "      <script>\n",
              "        const buttonEl =\n",
              "          document.querySelector('#df-ec7ed612-375c-421f-9189-450bae3e332a button.colab-df-convert');\n",
              "        buttonEl.style.display =\n",
              "          google.colab.kernel.accessAllowed ? 'block' : 'none';\n",
              "\n",
              "        async function convertToInteractive(key) {\n",
              "          const element = document.querySelector('#df-ec7ed612-375c-421f-9189-450bae3e332a');\n",
              "          const dataTable =\n",
              "            await google.colab.kernel.invokeFunction('convertToInteractive',\n",
              "                                                     [key], {});\n",
              "          if (!dataTable) return;\n",
              "\n",
              "          const docLinkHtml = 'Like what you see? Visit the ' +\n",
              "            '<a target=\"_blank\" href=https://colab.research.google.com/notebooks/data_table.ipynb>data table notebook</a>'\n",
              "            + ' to learn more about interactive tables.';\n",
              "          element.innerHTML = '';\n",
              "          dataTable['output_type'] = 'display_data';\n",
              "          await google.colab.output.renderOutput(dataTable, element);\n",
              "          const docLink = document.createElement('div');\n",
              "          docLink.innerHTML = docLinkHtml;\n",
              "          element.appendChild(docLink);\n",
              "        }\n",
              "      </script>\n",
              "    </div>\n",
              "  </div>\n",
              "  "
            ]
          },
          "metadata": {},
          "execution_count": 95
        }
      ]
    },
    {
      "cell_type": "code",
      "source": [
        "worst_preds[:10]"
      ],
      "metadata": {
        "colab": {
          "base_uri": "https://localhost:8080/",
          "height": 363
        },
        "id": "ClwGgcjkRIsW",
        "outputId": "5c8a7e8c-fc55-4802-f439-510ae20c84ea"
      },
      "execution_count": null,
      "outputs": [
        {
          "output_type": "execute_result",
          "data": {
            "text/plain": [
              "                                                 tweets  target  pred  \\\n",
              "4418  The media needs to stop publicizing mass murde...       1   0.0   \n",
              "1507  OH MY GOD RYANS IN TROUBLE http://t.co/ADIp0UnXHU       1   0.0   \n",
              "231   Omg if Cain dies i will be an emotional wreck ...       1   0.0   \n",
              "2189  ÛÏ@LordBrathwaite: Everyone Here: Ahh I hate ...       1   0.0   \n",
              "3040  #Nursing alert: Emergency Department Psychiatr...       1   0.0   \n",
              "2320  Why are you deluged with low self-image? Take ...       1   0.0   \n",
              "2360  Detonation fashionable mountaineering electron...       1   0.0   \n",
              "3845  Reddit Will Now QuarantineÛ_ http://t.co/pkUA...       1   0.0   \n",
              "523   Do you feel like you are sinking in low self-i...       1   0.0   \n",
              "5014  ?? New Ladies Shoulder Tote #Handbag Faux Leat...       1   0.0   \n",
              "\n",
              "          prob  \n",
              "4418  0.005087  \n",
              "1507  0.009996  \n",
              "231   0.023653  \n",
              "2189  0.030777  \n",
              "3040  0.031587  \n",
              "2320  0.031758  \n",
              "2360  0.032980  \n",
              "3845  0.037642  \n",
              "523   0.041536  \n",
              "5014  0.041920  "
            ],
            "text/html": [
              "\n",
              "  <div id=\"df-3b7cedd0-46aa-4fc4-95cb-2180c12fc00c\">\n",
              "    <div class=\"colab-df-container\">\n",
              "      <div>\n",
              "<style scoped>\n",
              "    .dataframe tbody tr th:only-of-type {\n",
              "        vertical-align: middle;\n",
              "    }\n",
              "\n",
              "    .dataframe tbody tr th {\n",
              "        vertical-align: top;\n",
              "    }\n",
              "\n",
              "    .dataframe thead th {\n",
              "        text-align: right;\n",
              "    }\n",
              "</style>\n",
              "<table border=\"1\" class=\"dataframe\">\n",
              "  <thead>\n",
              "    <tr style=\"text-align: right;\">\n",
              "      <th></th>\n",
              "      <th>tweets</th>\n",
              "      <th>target</th>\n",
              "      <th>pred</th>\n",
              "      <th>prob</th>\n",
              "    </tr>\n",
              "  </thead>\n",
              "  <tbody>\n",
              "    <tr>\n",
              "      <th>4418</th>\n",
              "      <td>The media needs to stop publicizing mass murde...</td>\n",
              "      <td>1</td>\n",
              "      <td>0.0</td>\n",
              "      <td>0.005087</td>\n",
              "    </tr>\n",
              "    <tr>\n",
              "      <th>1507</th>\n",
              "      <td>OH MY GOD RYANS IN TROUBLE http://t.co/ADIp0UnXHU</td>\n",
              "      <td>1</td>\n",
              "      <td>0.0</td>\n",
              "      <td>0.009996</td>\n",
              "    </tr>\n",
              "    <tr>\n",
              "      <th>231</th>\n",
              "      <td>Omg if Cain dies i will be an emotional wreck ...</td>\n",
              "      <td>1</td>\n",
              "      <td>0.0</td>\n",
              "      <td>0.023653</td>\n",
              "    </tr>\n",
              "    <tr>\n",
              "      <th>2189</th>\n",
              "      <td>ÛÏ@LordBrathwaite: Everyone Here: Ahh I hate ...</td>\n",
              "      <td>1</td>\n",
              "      <td>0.0</td>\n",
              "      <td>0.030777</td>\n",
              "    </tr>\n",
              "    <tr>\n",
              "      <th>3040</th>\n",
              "      <td>#Nursing alert: Emergency Department Psychiatr...</td>\n",
              "      <td>1</td>\n",
              "      <td>0.0</td>\n",
              "      <td>0.031587</td>\n",
              "    </tr>\n",
              "    <tr>\n",
              "      <th>2320</th>\n",
              "      <td>Why are you deluged with low self-image? Take ...</td>\n",
              "      <td>1</td>\n",
              "      <td>0.0</td>\n",
              "      <td>0.031758</td>\n",
              "    </tr>\n",
              "    <tr>\n",
              "      <th>2360</th>\n",
              "      <td>Detonation fashionable mountaineering electron...</td>\n",
              "      <td>1</td>\n",
              "      <td>0.0</td>\n",
              "      <td>0.032980</td>\n",
              "    </tr>\n",
              "    <tr>\n",
              "      <th>3845</th>\n",
              "      <td>Reddit Will Now QuarantineÛ_ http://t.co/pkUA...</td>\n",
              "      <td>1</td>\n",
              "      <td>0.0</td>\n",
              "      <td>0.037642</td>\n",
              "    </tr>\n",
              "    <tr>\n",
              "      <th>523</th>\n",
              "      <td>Do you feel like you are sinking in low self-i...</td>\n",
              "      <td>1</td>\n",
              "      <td>0.0</td>\n",
              "      <td>0.041536</td>\n",
              "    </tr>\n",
              "    <tr>\n",
              "      <th>5014</th>\n",
              "      <td>?? New Ladies Shoulder Tote #Handbag Faux Leat...</td>\n",
              "      <td>1</td>\n",
              "      <td>0.0</td>\n",
              "      <td>0.041920</td>\n",
              "    </tr>\n",
              "  </tbody>\n",
              "</table>\n",
              "</div>\n",
              "      <button class=\"colab-df-convert\" onclick=\"convertToInteractive('df-3b7cedd0-46aa-4fc4-95cb-2180c12fc00c')\"\n",
              "              title=\"Convert this dataframe to an interactive table.\"\n",
              "              style=\"display:none;\">\n",
              "        \n",
              "  <svg xmlns=\"http://www.w3.org/2000/svg\" height=\"24px\"viewBox=\"0 0 24 24\"\n",
              "       width=\"24px\">\n",
              "    <path d=\"M0 0h24v24H0V0z\" fill=\"none\"/>\n",
              "    <path d=\"M18.56 5.44l.94 2.06.94-2.06 2.06-.94-2.06-.94-.94-2.06-.94 2.06-2.06.94zm-11 1L8.5 8.5l.94-2.06 2.06-.94-2.06-.94L8.5 2.5l-.94 2.06-2.06.94zm10 10l.94 2.06.94-2.06 2.06-.94-2.06-.94-.94-2.06-.94 2.06-2.06.94z\"/><path d=\"M17.41 7.96l-1.37-1.37c-.4-.4-.92-.59-1.43-.59-.52 0-1.04.2-1.43.59L10.3 9.45l-7.72 7.72c-.78.78-.78 2.05 0 2.83L4 21.41c.39.39.9.59 1.41.59.51 0 1.02-.2 1.41-.59l7.78-7.78 2.81-2.81c.8-.78.8-2.07 0-2.86zM5.41 20L4 18.59l7.72-7.72 1.47 1.35L5.41 20z\"/>\n",
              "  </svg>\n",
              "      </button>\n",
              "      \n",
              "  <style>\n",
              "    .colab-df-container {\n",
              "      display:flex;\n",
              "      flex-wrap:wrap;\n",
              "      gap: 12px;\n",
              "    }\n",
              "\n",
              "    .colab-df-convert {\n",
              "      background-color: #E8F0FE;\n",
              "      border: none;\n",
              "      border-radius: 50%;\n",
              "      cursor: pointer;\n",
              "      display: none;\n",
              "      fill: #1967D2;\n",
              "      height: 32px;\n",
              "      padding: 0 0 0 0;\n",
              "      width: 32px;\n",
              "    }\n",
              "\n",
              "    .colab-df-convert:hover {\n",
              "      background-color: #E2EBFA;\n",
              "      box-shadow: 0px 1px 2px rgba(60, 64, 67, 0.3), 0px 1px 3px 1px rgba(60, 64, 67, 0.15);\n",
              "      fill: #174EA6;\n",
              "    }\n",
              "\n",
              "    [theme=dark] .colab-df-convert {\n",
              "      background-color: #3B4455;\n",
              "      fill: #D2E3FC;\n",
              "    }\n",
              "\n",
              "    [theme=dark] .colab-df-convert:hover {\n",
              "      background-color: #434B5C;\n",
              "      box-shadow: 0px 1px 3px 1px rgba(0, 0, 0, 0.15);\n",
              "      filter: drop-shadow(0px 1px 2px rgba(0, 0, 0, 0.3));\n",
              "      fill: #FFFFFF;\n",
              "    }\n",
              "  </style>\n",
              "\n",
              "      <script>\n",
              "        const buttonEl =\n",
              "          document.querySelector('#df-3b7cedd0-46aa-4fc4-95cb-2180c12fc00c button.colab-df-convert');\n",
              "        buttonEl.style.display =\n",
              "          google.colab.kernel.accessAllowed ? 'block' : 'none';\n",
              "\n",
              "        async function convertToInteractive(key) {\n",
              "          const element = document.querySelector('#df-3b7cedd0-46aa-4fc4-95cb-2180c12fc00c');\n",
              "          const dataTable =\n",
              "            await google.colab.kernel.invokeFunction('convertToInteractive',\n",
              "                                                     [key], {});\n",
              "          if (!dataTable) return;\n",
              "\n",
              "          const docLinkHtml = 'Like what you see? Visit the ' +\n",
              "            '<a target=\"_blank\" href=https://colab.research.google.com/notebooks/data_table.ipynb>data table notebook</a>'\n",
              "            + ' to learn more about interactive tables.';\n",
              "          element.innerHTML = '';\n",
              "          dataTable['output_type'] = 'display_data';\n",
              "          await google.colab.output.renderOutput(dataTable, element);\n",
              "          const docLink = document.createElement('div');\n",
              "          docLink.innerHTML = docLinkHtml;\n",
              "          element.appendChild(docLink);\n",
              "        }\n",
              "      </script>\n",
              "    </div>\n",
              "  </div>\n",
              "  "
            ]
          },
          "metadata": {},
          "execution_count": 96
        }
      ]
    },
    {
      "cell_type": "code",
      "source": [
        "worst_preds[-10:]"
      ],
      "metadata": {
        "colab": {
          "base_uri": "https://localhost:8080/",
          "height": 363
        },
        "id": "q34_tKKOSAYt",
        "outputId": "789a5987-063d-41b0-c4f0-7666b9dcbdef"
      },
      "execution_count": null,
      "outputs": [
        {
          "output_type": "execute_result",
          "data": {
            "text/plain": [
              "                                                 tweets  target  pred  \\\n",
              "4517  Hollywood Movie About Trapped Miners Released ...       0   1.0   \n",
              "2335  @mickinyman @TheAtlantic That or they might be...       0   1.0   \n",
              "5859  .POTUS #StrategicPatience is a strategy for #G...       0   1.0   \n",
              "1879  FWD: I literally jumped out of bed put on beac...       0   1.0   \n",
              "216   Video Captures Man Removing American Flag From...       0   1.0   \n",
              "243   @adorableappple No reported flooding po in the...       0   1.0   \n",
              "5890  Teen Disaster Preparedness Event in Van Nuys A...       0   1.0   \n",
              "4648  wowo--=== 12000 Nigerian refugees repatriated ...       0   1.0   \n",
              "4653  #hot  C-130 specially modified to land in a st...       0   1.0   \n",
              "5582  Kosciusko police investigating pedestrian fata...       0   1.0   \n",
              "\n",
              "          prob  \n",
              "4517  0.770442  \n",
              "2335  0.781370  \n",
              "5859  0.783202  \n",
              "1879  0.784837  \n",
              "216   0.802437  \n",
              "243   0.803092  \n",
              "5890  0.821565  \n",
              "4648  0.827007  \n",
              "4653  0.938754  \n",
              "5582  0.994299  "
            ],
            "text/html": [
              "\n",
              "  <div id=\"df-4d1fc091-0ee3-4072-929d-41b24692a083\">\n",
              "    <div class=\"colab-df-container\">\n",
              "      <div>\n",
              "<style scoped>\n",
              "    .dataframe tbody tr th:only-of-type {\n",
              "        vertical-align: middle;\n",
              "    }\n",
              "\n",
              "    .dataframe tbody tr th {\n",
              "        vertical-align: top;\n",
              "    }\n",
              "\n",
              "    .dataframe thead th {\n",
              "        text-align: right;\n",
              "    }\n",
              "</style>\n",
              "<table border=\"1\" class=\"dataframe\">\n",
              "  <thead>\n",
              "    <tr style=\"text-align: right;\">\n",
              "      <th></th>\n",
              "      <th>tweets</th>\n",
              "      <th>target</th>\n",
              "      <th>pred</th>\n",
              "      <th>prob</th>\n",
              "    </tr>\n",
              "  </thead>\n",
              "  <tbody>\n",
              "    <tr>\n",
              "      <th>4517</th>\n",
              "      <td>Hollywood Movie About Trapped Miners Released ...</td>\n",
              "      <td>0</td>\n",
              "      <td>1.0</td>\n",
              "      <td>0.770442</td>\n",
              "    </tr>\n",
              "    <tr>\n",
              "      <th>2335</th>\n",
              "      <td>@mickinyman @TheAtlantic That or they might be...</td>\n",
              "      <td>0</td>\n",
              "      <td>1.0</td>\n",
              "      <td>0.781370</td>\n",
              "    </tr>\n",
              "    <tr>\n",
              "      <th>5859</th>\n",
              "      <td>.POTUS #StrategicPatience is a strategy for #G...</td>\n",
              "      <td>0</td>\n",
              "      <td>1.0</td>\n",
              "      <td>0.783202</td>\n",
              "    </tr>\n",
              "    <tr>\n",
              "      <th>1879</th>\n",
              "      <td>FWD: I literally jumped out of bed put on beac...</td>\n",
              "      <td>0</td>\n",
              "      <td>1.0</td>\n",
              "      <td>0.784837</td>\n",
              "    </tr>\n",
              "    <tr>\n",
              "      <th>216</th>\n",
              "      <td>Video Captures Man Removing American Flag From...</td>\n",
              "      <td>0</td>\n",
              "      <td>1.0</td>\n",
              "      <td>0.802437</td>\n",
              "    </tr>\n",
              "    <tr>\n",
              "      <th>243</th>\n",
              "      <td>@adorableappple No reported flooding po in the...</td>\n",
              "      <td>0</td>\n",
              "      <td>1.0</td>\n",
              "      <td>0.803092</td>\n",
              "    </tr>\n",
              "    <tr>\n",
              "      <th>5890</th>\n",
              "      <td>Teen Disaster Preparedness Event in Van Nuys A...</td>\n",
              "      <td>0</td>\n",
              "      <td>1.0</td>\n",
              "      <td>0.821565</td>\n",
              "    </tr>\n",
              "    <tr>\n",
              "      <th>4648</th>\n",
              "      <td>wowo--=== 12000 Nigerian refugees repatriated ...</td>\n",
              "      <td>0</td>\n",
              "      <td>1.0</td>\n",
              "      <td>0.827007</td>\n",
              "    </tr>\n",
              "    <tr>\n",
              "      <th>4653</th>\n",
              "      <td>#hot  C-130 specially modified to land in a st...</td>\n",
              "      <td>0</td>\n",
              "      <td>1.0</td>\n",
              "      <td>0.938754</td>\n",
              "    </tr>\n",
              "    <tr>\n",
              "      <th>5582</th>\n",
              "      <td>Kosciusko police investigating pedestrian fata...</td>\n",
              "      <td>0</td>\n",
              "      <td>1.0</td>\n",
              "      <td>0.994299</td>\n",
              "    </tr>\n",
              "  </tbody>\n",
              "</table>\n",
              "</div>\n",
              "      <button class=\"colab-df-convert\" onclick=\"convertToInteractive('df-4d1fc091-0ee3-4072-929d-41b24692a083')\"\n",
              "              title=\"Convert this dataframe to an interactive table.\"\n",
              "              style=\"display:none;\">\n",
              "        \n",
              "  <svg xmlns=\"http://www.w3.org/2000/svg\" height=\"24px\"viewBox=\"0 0 24 24\"\n",
              "       width=\"24px\">\n",
              "    <path d=\"M0 0h24v24H0V0z\" fill=\"none\"/>\n",
              "    <path d=\"M18.56 5.44l.94 2.06.94-2.06 2.06-.94-2.06-.94-.94-2.06-.94 2.06-2.06.94zm-11 1L8.5 8.5l.94-2.06 2.06-.94-2.06-.94L8.5 2.5l-.94 2.06-2.06.94zm10 10l.94 2.06.94-2.06 2.06-.94-2.06-.94-.94-2.06-.94 2.06-2.06.94z\"/><path d=\"M17.41 7.96l-1.37-1.37c-.4-.4-.92-.59-1.43-.59-.52 0-1.04.2-1.43.59L10.3 9.45l-7.72 7.72c-.78.78-.78 2.05 0 2.83L4 21.41c.39.39.9.59 1.41.59.51 0 1.02-.2 1.41-.59l7.78-7.78 2.81-2.81c.8-.78.8-2.07 0-2.86zM5.41 20L4 18.59l7.72-7.72 1.47 1.35L5.41 20z\"/>\n",
              "  </svg>\n",
              "      </button>\n",
              "      \n",
              "  <style>\n",
              "    .colab-df-container {\n",
              "      display:flex;\n",
              "      flex-wrap:wrap;\n",
              "      gap: 12px;\n",
              "    }\n",
              "\n",
              "    .colab-df-convert {\n",
              "      background-color: #E8F0FE;\n",
              "      border: none;\n",
              "      border-radius: 50%;\n",
              "      cursor: pointer;\n",
              "      display: none;\n",
              "      fill: #1967D2;\n",
              "      height: 32px;\n",
              "      padding: 0 0 0 0;\n",
              "      width: 32px;\n",
              "    }\n",
              "\n",
              "    .colab-df-convert:hover {\n",
              "      background-color: #E2EBFA;\n",
              "      box-shadow: 0px 1px 2px rgba(60, 64, 67, 0.3), 0px 1px 3px 1px rgba(60, 64, 67, 0.15);\n",
              "      fill: #174EA6;\n",
              "    }\n",
              "\n",
              "    [theme=dark] .colab-df-convert {\n",
              "      background-color: #3B4455;\n",
              "      fill: #D2E3FC;\n",
              "    }\n",
              "\n",
              "    [theme=dark] .colab-df-convert:hover {\n",
              "      background-color: #434B5C;\n",
              "      box-shadow: 0px 1px 3px 1px rgba(0, 0, 0, 0.15);\n",
              "      filter: drop-shadow(0px 1px 2px rgba(0, 0, 0, 0.3));\n",
              "      fill: #FFFFFF;\n",
              "    }\n",
              "  </style>\n",
              "\n",
              "      <script>\n",
              "        const buttonEl =\n",
              "          document.querySelector('#df-4d1fc091-0ee3-4072-929d-41b24692a083 button.colab-df-convert');\n",
              "        buttonEl.style.display =\n",
              "          google.colab.kernel.accessAllowed ? 'block' : 'none';\n",
              "\n",
              "        async function convertToInteractive(key) {\n",
              "          const element = document.querySelector('#df-4d1fc091-0ee3-4072-929d-41b24692a083');\n",
              "          const dataTable =\n",
              "            await google.colab.kernel.invokeFunction('convertToInteractive',\n",
              "                                                     [key], {});\n",
              "          if (!dataTable) return;\n",
              "\n",
              "          const docLinkHtml = 'Like what you see? Visit the ' +\n",
              "            '<a target=\"_blank\" href=https://colab.research.google.com/notebooks/data_table.ipynb>data table notebook</a>'\n",
              "            + ' to learn more about interactive tables.';\n",
              "          element.innerHTML = '';\n",
              "          dataTable['output_type'] = 'display_data';\n",
              "          await google.colab.output.renderOutput(dataTable, element);\n",
              "          const docLink = document.createElement('div');\n",
              "          docLink.innerHTML = docLinkHtml;\n",
              "          element.appendChild(docLink);\n",
              "        }\n",
              "      </script>\n",
              "    </div>\n",
              "  </div>\n",
              "  "
            ]
          },
          "metadata": {},
          "execution_count": 97
        }
      ]
    },
    {
      "cell_type": "markdown",
      "source": [
        "### 5 most wrong disaster tweets:\n"
      ],
      "metadata": {
        "id": "2imOPdc5UrXn"
      }
    },
    {
      "cell_type": "code",
      "source": [
        "for i in np.arange(0,5):\n",
        "  print(worst_preds.iloc[i,0],'\\n')\n",
        "  print(f'target: {worst_preds.iloc[i,1]}, prediction: {worst_preds.iloc[i,2]}, prob: {worst_preds.iloc[i,3]} \\n')\n",
        "  print('========================')"
      ],
      "metadata": {
        "colab": {
          "base_uri": "https://localhost:8080/"
        },
        "id": "ctJtg6P5SIjx",
        "outputId": "2b8f7ab0-148a-43ef-d624-6de43189939b"
      },
      "execution_count": null,
      "outputs": [
        {
          "output_type": "stream",
          "name": "stdout",
          "text": [
            "The media needs to stop publicizing mass murder. So many sick people do these things for the eyes of the world &amp; the media is not helping. \n",
            "\n",
            "target: 1, prediction: 0.0, prob: 0.005086719989776611 \n",
            "\n",
            "========================\n",
            "OH MY GOD RYANS IN TROUBLE http://t.co/ADIp0UnXHU \n",
            "\n",
            "target: 1, prediction: 0.0, prob: 0.009995579719543457 \n",
            "\n",
            "========================\n",
            "Omg if Cain dies i will be an emotional wreck #emmerdale \n",
            "\n",
            "target: 1, prediction: 0.0, prob: 0.02365279197692871 \n",
            "\n",
            "========================\n",
            "ÛÏ@LordBrathwaite: Everyone Here: Ahh I hate snow!\n",
            "\n",
            "Me: Lol u call this a snowstorm..?\n",
            "\n",
            "#growingupincoloradoÛ \n",
            "\n",
            "target: 1, prediction: 0.0, prob: 0.03077659010887146 \n",
            "\n",
            "========================\n",
            "#Nursing alert: Emergency Department Psychiatric RN (.90 FTE Day) | Providence Health &amp; Services | #Olympia WA http://t.co/Yu6NUe7gFB \n",
            "\n",
            "target: 1, prediction: 0.0, prob: 0.03158724308013916 \n",
            "\n",
            "========================\n"
          ]
        }
      ]
    },
    {
      "cell_type": "code",
      "source": [],
      "metadata": {
        "id": "VUMQkRaaSXSc"
      },
      "execution_count": null,
      "outputs": []
    },
    {
      "cell_type": "markdown",
      "source": [
        "### 5 most wrong Non-disaster tweets:\n"
      ],
      "metadata": {
        "id": "tlvVuNyBU29D"
      }
    },
    {
      "cell_type": "code",
      "source": [
        "for i in np.arange(1,6)*-1:\n",
        "  print(worst_preds.iloc[i,0],'\\n')\n",
        "  print(f'target: {worst_preds.iloc[i,1]}, prediction: {worst_preds.iloc[i,2]}, prob: {worst_preds.iloc[i,3]} \\n')\n",
        "  print('========================')"
      ],
      "metadata": {
        "colab": {
          "base_uri": "https://localhost:8080/"
        },
        "outputId": "17d59a52-ad6e-4619-e26a-f4ff2872fe4d",
        "id": "5nKePEt3U29D"
      },
      "execution_count": null,
      "outputs": [
        {
          "output_type": "stream",
          "name": "stdout",
          "text": [
            "Kosciusko police investigating pedestrian fatality hit by a train Thursday http://t.co/m5djLLxoZP \n",
            "\n",
            "target: 0, prediction: 1.0, prob: 0.9942992329597473 \n",
            "\n",
            "========================\n",
            "#hot  C-130 specially modified to land in a stadium and rescue hostages in Iran in 1980 http://t.co/zY3hpdJNwg #prebreak #best \n",
            "\n",
            "target: 0, prediction: 1.0, prob: 0.9387543201446533 \n",
            "\n",
            "========================\n",
            "wowo--=== 12000 Nigerian refugees repatriated from Cameroon \n",
            "\n",
            "target: 0, prediction: 1.0, prob: 0.8270071148872375 \n",
            "\n",
            "========================\n",
            "Teen Disaster Preparedness Event in Van Nuys August 11 @ 5:30pm http://t.co/fXUX987vZx via @VanNuysCouncil \n",
            "\n",
            "target: 0, prediction: 1.0, prob: 0.8215647339820862 \n",
            "\n",
            "========================\n",
            "@adorableappple No reported flooding po in the area. Ten-4. #mmda \n",
            "\n",
            "target: 0, prediction: 1.0, prob: 0.8030920624732971 \n",
            "\n",
            "========================\n"
          ]
        }
      ]
    },
    {
      "cell_type": "code",
      "source": [],
      "metadata": {
        "id": "DPc_Wjc0WGl6"
      },
      "execution_count": null,
      "outputs": []
    }
  ]
}