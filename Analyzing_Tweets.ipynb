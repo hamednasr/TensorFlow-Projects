{
  "nbformat": 4,
  "nbformat_minor": 0,
  "metadata": {
    "colab": {
      "name": "Analyzing Tweets.ipynb",
      "provenance": [],
      "collapsed_sections": [],
      "authorship_tag": "ABX9TyMUR//L9l+F3tDW72asl73k",
      "include_colab_link": true
    },
    "kernelspec": {
      "name": "python3",
      "display_name": "Python 3"
    },
    "language_info": {
      "name": "python"
    }
  },
  "cells": [
    {
      "cell_type": "markdown",
      "metadata": {
        "id": "view-in-github",
        "colab_type": "text"
      },
      "source": [
        "<a href=\"https://colab.research.google.com/github/hamednasr/TensorFlow-Projects/blob/main/Analyzing_Tweets.ipynb\" target=\"_parent\"><img src=\"https://colab.research.google.com/assets/colab-badge.svg\" alt=\"Open In Colab\"/></a>"
      ]
    },
    {
      "cell_type": "markdown",
      "source": [
        "# Predicting Tweet`s Overal Message:\n",
        "## This is a kaggle competition.\n",
        "https://www.kaggle.com/competitions/nlp-getting-started/data"
      ],
      "metadata": {
        "id": "ol97k-HW8Wg2"
      }
    },
    {
      "cell_type": "code",
      "execution_count": 5,
      "metadata": {
        "id": "yM5I8_f83-kJ"
      },
      "outputs": [],
      "source": [
        "import tensorflow as tf\n",
        "import pandas as pd\n",
        "import random\n",
        "from sklearn.model_selection import train_test_split"
      ]
    },
    {
      "cell_type": "code",
      "source": [
        "!wget https://raw.githubusercontent.com/mrdbourke/tensorflow-deep-learning/main/extras/helper_functions.py"
      ],
      "metadata": {
        "colab": {
          "base_uri": "https://localhost:8080/"
        },
        "id": "cOynL78r7eSi",
        "outputId": "31840501-0e84-48a7-92c4-4a2bca7f1a0a"
      },
      "execution_count": 6,
      "outputs": [
        {
          "output_type": "stream",
          "name": "stdout",
          "text": [
            "--2022-08-31 03:24:31--  https://raw.githubusercontent.com/mrdbourke/tensorflow-deep-learning/main/extras/helper_functions.py\n",
            "Resolving raw.githubusercontent.com (raw.githubusercontent.com)... 185.199.108.133, 185.199.109.133, 185.199.110.133, ...\n",
            "Connecting to raw.githubusercontent.com (raw.githubusercontent.com)|185.199.108.133|:443... connected.\n",
            "HTTP request sent, awaiting response... 200 OK\n",
            "Length: 10246 (10K) [text/plain]\n",
            "Saving to: ‘helper_functions.py’\n",
            "\n",
            "\rhelper_functions.py   0%[                    ]       0  --.-KB/s               \rhelper_functions.py 100%[===================>]  10.01K  --.-KB/s    in 0s      \n",
            "\n",
            "2022-08-31 03:24:31 (60.3 MB/s) - ‘helper_functions.py’ saved [10246/10246]\n",
            "\n"
          ]
        }
      ]
    },
    {
      "cell_type": "code",
      "source": [
        "from helper_functions import unzip_data, plot_loss_curves, compare_historys"
      ],
      "metadata": {
        "id": "H9qihhzF7eM-"
      },
      "execution_count": 7,
      "outputs": []
    },
    {
      "cell_type": "code",
      "source": [
        "!wget https://storage.googleapis.com/ztm_tf_course/nlp_getting_started.zip"
      ],
      "metadata": {
        "colab": {
          "base_uri": "https://localhost:8080/"
        },
        "id": "4HQKwtV77N6J",
        "outputId": "ed614071-9102-46fb-dd4b-748ce129c366"
      },
      "execution_count": 8,
      "outputs": [
        {
          "output_type": "stream",
          "name": "stdout",
          "text": [
            "--2022-08-31 03:24:31--  https://storage.googleapis.com/ztm_tf_course/nlp_getting_started.zip\n",
            "Resolving storage.googleapis.com (storage.googleapis.com)... 172.217.13.80, 172.217.13.240, 172.253.62.128, ...\n",
            "Connecting to storage.googleapis.com (storage.googleapis.com)|172.217.13.80|:443... connected.\n",
            "HTTP request sent, awaiting response... 200 OK\n",
            "Length: 607343 (593K) [application/zip]\n",
            "Saving to: ‘nlp_getting_started.zip’\n",
            "\n",
            "\rnlp_getting_started   0%[                    ]       0  --.-KB/s               \rnlp_getting_started 100%[===================>] 593.11K  --.-KB/s    in 0.006s  \n",
            "\n",
            "2022-08-31 03:24:31 (90.0 MB/s) - ‘nlp_getting_started.zip’ saved [607343/607343]\n",
            "\n"
          ]
        }
      ]
    },
    {
      "cell_type": "code",
      "source": [
        "unzip_data('/content/nlp_getting_started.zip')"
      ],
      "metadata": {
        "id": "HEJN23LU7dME"
      },
      "execution_count": 9,
      "outputs": []
    },
    {
      "cell_type": "markdown",
      "source": [
        "## Data Exploration:"
      ],
      "metadata": {
        "id": "g2vkVn6LKQNz"
      }
    },
    {
      "cell_type": "code",
      "source": [
        "train_data = pd.read_csv('train.csv')\n",
        "train_data"
      ],
      "metadata": {
        "colab": {
          "base_uri": "https://localhost:8080/",
          "height": 424
        },
        "id": "nED_2Sbp73WI",
        "outputId": "16c38e7f-ff46-472f-dcc5-ad89c1a5fddf"
      },
      "execution_count": 10,
      "outputs": [
        {
          "output_type": "execute_result",
          "data": {
            "text/plain": [
              "         id keyword location  \\\n",
              "0         1     NaN      NaN   \n",
              "1         4     NaN      NaN   \n",
              "2         5     NaN      NaN   \n",
              "3         6     NaN      NaN   \n",
              "4         7     NaN      NaN   \n",
              "...     ...     ...      ...   \n",
              "7608  10869     NaN      NaN   \n",
              "7609  10870     NaN      NaN   \n",
              "7610  10871     NaN      NaN   \n",
              "7611  10872     NaN      NaN   \n",
              "7612  10873     NaN      NaN   \n",
              "\n",
              "                                                   text  target  \n",
              "0     Our Deeds are the Reason of this #earthquake M...       1  \n",
              "1                Forest fire near La Ronge Sask. Canada       1  \n",
              "2     All residents asked to 'shelter in place' are ...       1  \n",
              "3     13,000 people receive #wildfires evacuation or...       1  \n",
              "4     Just got sent this photo from Ruby #Alaska as ...       1  \n",
              "...                                                 ...     ...  \n",
              "7608  Two giant cranes holding a bridge collapse int...       1  \n",
              "7609  @aria_ahrary @TheTawniest The out of control w...       1  \n",
              "7610  M1.94 [01:04 UTC]?5km S of Volcano Hawaii. htt...       1  \n",
              "7611  Police investigating after an e-bike collided ...       1  \n",
              "7612  The Latest: More Homes Razed by Northern Calif...       1  \n",
              "\n",
              "[7613 rows x 5 columns]"
            ],
            "text/html": [
              "\n",
              "  <div id=\"df-39431b7b-273d-446f-afda-7be9ffb83f1c\">\n",
              "    <div class=\"colab-df-container\">\n",
              "      <div>\n",
              "<style scoped>\n",
              "    .dataframe tbody tr th:only-of-type {\n",
              "        vertical-align: middle;\n",
              "    }\n",
              "\n",
              "    .dataframe tbody tr th {\n",
              "        vertical-align: top;\n",
              "    }\n",
              "\n",
              "    .dataframe thead th {\n",
              "        text-align: right;\n",
              "    }\n",
              "</style>\n",
              "<table border=\"1\" class=\"dataframe\">\n",
              "  <thead>\n",
              "    <tr style=\"text-align: right;\">\n",
              "      <th></th>\n",
              "      <th>id</th>\n",
              "      <th>keyword</th>\n",
              "      <th>location</th>\n",
              "      <th>text</th>\n",
              "      <th>target</th>\n",
              "    </tr>\n",
              "  </thead>\n",
              "  <tbody>\n",
              "    <tr>\n",
              "      <th>0</th>\n",
              "      <td>1</td>\n",
              "      <td>NaN</td>\n",
              "      <td>NaN</td>\n",
              "      <td>Our Deeds are the Reason of this #earthquake M...</td>\n",
              "      <td>1</td>\n",
              "    </tr>\n",
              "    <tr>\n",
              "      <th>1</th>\n",
              "      <td>4</td>\n",
              "      <td>NaN</td>\n",
              "      <td>NaN</td>\n",
              "      <td>Forest fire near La Ronge Sask. Canada</td>\n",
              "      <td>1</td>\n",
              "    </tr>\n",
              "    <tr>\n",
              "      <th>2</th>\n",
              "      <td>5</td>\n",
              "      <td>NaN</td>\n",
              "      <td>NaN</td>\n",
              "      <td>All residents asked to 'shelter in place' are ...</td>\n",
              "      <td>1</td>\n",
              "    </tr>\n",
              "    <tr>\n",
              "      <th>3</th>\n",
              "      <td>6</td>\n",
              "      <td>NaN</td>\n",
              "      <td>NaN</td>\n",
              "      <td>13,000 people receive #wildfires evacuation or...</td>\n",
              "      <td>1</td>\n",
              "    </tr>\n",
              "    <tr>\n",
              "      <th>4</th>\n",
              "      <td>7</td>\n",
              "      <td>NaN</td>\n",
              "      <td>NaN</td>\n",
              "      <td>Just got sent this photo from Ruby #Alaska as ...</td>\n",
              "      <td>1</td>\n",
              "    </tr>\n",
              "    <tr>\n",
              "      <th>...</th>\n",
              "      <td>...</td>\n",
              "      <td>...</td>\n",
              "      <td>...</td>\n",
              "      <td>...</td>\n",
              "      <td>...</td>\n",
              "    </tr>\n",
              "    <tr>\n",
              "      <th>7608</th>\n",
              "      <td>10869</td>\n",
              "      <td>NaN</td>\n",
              "      <td>NaN</td>\n",
              "      <td>Two giant cranes holding a bridge collapse int...</td>\n",
              "      <td>1</td>\n",
              "    </tr>\n",
              "    <tr>\n",
              "      <th>7609</th>\n",
              "      <td>10870</td>\n",
              "      <td>NaN</td>\n",
              "      <td>NaN</td>\n",
              "      <td>@aria_ahrary @TheTawniest The out of control w...</td>\n",
              "      <td>1</td>\n",
              "    </tr>\n",
              "    <tr>\n",
              "      <th>7610</th>\n",
              "      <td>10871</td>\n",
              "      <td>NaN</td>\n",
              "      <td>NaN</td>\n",
              "      <td>M1.94 [01:04 UTC]?5km S of Volcano Hawaii. htt...</td>\n",
              "      <td>1</td>\n",
              "    </tr>\n",
              "    <tr>\n",
              "      <th>7611</th>\n",
              "      <td>10872</td>\n",
              "      <td>NaN</td>\n",
              "      <td>NaN</td>\n",
              "      <td>Police investigating after an e-bike collided ...</td>\n",
              "      <td>1</td>\n",
              "    </tr>\n",
              "    <tr>\n",
              "      <th>7612</th>\n",
              "      <td>10873</td>\n",
              "      <td>NaN</td>\n",
              "      <td>NaN</td>\n",
              "      <td>The Latest: More Homes Razed by Northern Calif...</td>\n",
              "      <td>1</td>\n",
              "    </tr>\n",
              "  </tbody>\n",
              "</table>\n",
              "<p>7613 rows × 5 columns</p>\n",
              "</div>\n",
              "      <button class=\"colab-df-convert\" onclick=\"convertToInteractive('df-39431b7b-273d-446f-afda-7be9ffb83f1c')\"\n",
              "              title=\"Convert this dataframe to an interactive table.\"\n",
              "              style=\"display:none;\">\n",
              "        \n",
              "  <svg xmlns=\"http://www.w3.org/2000/svg\" height=\"24px\"viewBox=\"0 0 24 24\"\n",
              "       width=\"24px\">\n",
              "    <path d=\"M0 0h24v24H0V0z\" fill=\"none\"/>\n",
              "    <path d=\"M18.56 5.44l.94 2.06.94-2.06 2.06-.94-2.06-.94-.94-2.06-.94 2.06-2.06.94zm-11 1L8.5 8.5l.94-2.06 2.06-.94-2.06-.94L8.5 2.5l-.94 2.06-2.06.94zm10 10l.94 2.06.94-2.06 2.06-.94-2.06-.94-.94-2.06-.94 2.06-2.06.94z\"/><path d=\"M17.41 7.96l-1.37-1.37c-.4-.4-.92-.59-1.43-.59-.52 0-1.04.2-1.43.59L10.3 9.45l-7.72 7.72c-.78.78-.78 2.05 0 2.83L4 21.41c.39.39.9.59 1.41.59.51 0 1.02-.2 1.41-.59l7.78-7.78 2.81-2.81c.8-.78.8-2.07 0-2.86zM5.41 20L4 18.59l7.72-7.72 1.47 1.35L5.41 20z\"/>\n",
              "  </svg>\n",
              "      </button>\n",
              "      \n",
              "  <style>\n",
              "    .colab-df-container {\n",
              "      display:flex;\n",
              "      flex-wrap:wrap;\n",
              "      gap: 12px;\n",
              "    }\n",
              "\n",
              "    .colab-df-convert {\n",
              "      background-color: #E8F0FE;\n",
              "      border: none;\n",
              "      border-radius: 50%;\n",
              "      cursor: pointer;\n",
              "      display: none;\n",
              "      fill: #1967D2;\n",
              "      height: 32px;\n",
              "      padding: 0 0 0 0;\n",
              "      width: 32px;\n",
              "    }\n",
              "\n",
              "    .colab-df-convert:hover {\n",
              "      background-color: #E2EBFA;\n",
              "      box-shadow: 0px 1px 2px rgba(60, 64, 67, 0.3), 0px 1px 3px 1px rgba(60, 64, 67, 0.15);\n",
              "      fill: #174EA6;\n",
              "    }\n",
              "\n",
              "    [theme=dark] .colab-df-convert {\n",
              "      background-color: #3B4455;\n",
              "      fill: #D2E3FC;\n",
              "    }\n",
              "\n",
              "    [theme=dark] .colab-df-convert:hover {\n",
              "      background-color: #434B5C;\n",
              "      box-shadow: 0px 1px 3px 1px rgba(0, 0, 0, 0.15);\n",
              "      filter: drop-shadow(0px 1px 2px rgba(0, 0, 0, 0.3));\n",
              "      fill: #FFFFFF;\n",
              "    }\n",
              "  </style>\n",
              "\n",
              "      <script>\n",
              "        const buttonEl =\n",
              "          document.querySelector('#df-39431b7b-273d-446f-afda-7be9ffb83f1c button.colab-df-convert');\n",
              "        buttonEl.style.display =\n",
              "          google.colab.kernel.accessAllowed ? 'block' : 'none';\n",
              "\n",
              "        async function convertToInteractive(key) {\n",
              "          const element = document.querySelector('#df-39431b7b-273d-446f-afda-7be9ffb83f1c');\n",
              "          const dataTable =\n",
              "            await google.colab.kernel.invokeFunction('convertToInteractive',\n",
              "                                                     [key], {});\n",
              "          if (!dataTable) return;\n",
              "\n",
              "          const docLinkHtml = 'Like what you see? Visit the ' +\n",
              "            '<a target=\"_blank\" href=https://colab.research.google.com/notebooks/data_table.ipynb>data table notebook</a>'\n",
              "            + ' to learn more about interactive tables.';\n",
              "          element.innerHTML = '';\n",
              "          dataTable['output_type'] = 'display_data';\n",
              "          await google.colab.output.renderOutput(dataTable, element);\n",
              "          const docLink = document.createElement('div');\n",
              "          docLink.innerHTML = docLinkHtml;\n",
              "          element.appendChild(docLink);\n",
              "        }\n",
              "      </script>\n",
              "    </div>\n",
              "  </div>\n",
              "  "
            ]
          },
          "metadata": {},
          "execution_count": 10
        }
      ]
    },
    {
      "cell_type": "code",
      "source": [
        "train_data['target'].value_counts()"
      ],
      "metadata": {
        "colab": {
          "base_uri": "https://localhost:8080/"
        },
        "id": "2d3N-WWWEbeE",
        "outputId": "55bf7c43-331f-4503-9fe2-d00734f31e93"
      },
      "execution_count": 11,
      "outputs": [
        {
          "output_type": "execute_result",
          "data": {
            "text/plain": [
              "0    4342\n",
              "1    3271\n",
              "Name: target, dtype: int64"
            ]
          },
          "metadata": {},
          "execution_count": 11
        }
      ]
    },
    {
      "cell_type": "code",
      "source": [
        "test_data = pd.read_csv('test.csv')\n",
        "test_data"
      ],
      "metadata": {
        "colab": {
          "base_uri": "https://localhost:8080/",
          "height": 424
        },
        "id": "T4KQ8uEEER2T",
        "outputId": "3951b8e6-68ad-4db0-9e2c-301427e22502"
      },
      "execution_count": 12,
      "outputs": [
        {
          "output_type": "execute_result",
          "data": {
            "text/plain": [
              "         id keyword location  \\\n",
              "0         0     NaN      NaN   \n",
              "1         2     NaN      NaN   \n",
              "2         3     NaN      NaN   \n",
              "3         9     NaN      NaN   \n",
              "4        11     NaN      NaN   \n",
              "...     ...     ...      ...   \n",
              "3258  10861     NaN      NaN   \n",
              "3259  10865     NaN      NaN   \n",
              "3260  10868     NaN      NaN   \n",
              "3261  10874     NaN      NaN   \n",
              "3262  10875     NaN      NaN   \n",
              "\n",
              "                                                   text  \n",
              "0                    Just happened a terrible car crash  \n",
              "1     Heard about #earthquake is different cities, s...  \n",
              "2     there is a forest fire at spot pond, geese are...  \n",
              "3              Apocalypse lighting. #Spokane #wildfires  \n",
              "4         Typhoon Soudelor kills 28 in China and Taiwan  \n",
              "...                                                 ...  \n",
              "3258  EARTHQUAKE SAFETY LOS ANGELES ÛÒ SAFETY FASTE...  \n",
              "3259  Storm in RI worse than last hurricane. My city...  \n",
              "3260  Green Line derailment in Chicago http://t.co/U...  \n",
              "3261  MEG issues Hazardous Weather Outlook (HWO) htt...  \n",
              "3262  #CityofCalgary has activated its Municipal Eme...  \n",
              "\n",
              "[3263 rows x 4 columns]"
            ],
            "text/html": [
              "\n",
              "  <div id=\"df-8cf709d7-08d3-4e60-9c85-86b429146b62\">\n",
              "    <div class=\"colab-df-container\">\n",
              "      <div>\n",
              "<style scoped>\n",
              "    .dataframe tbody tr th:only-of-type {\n",
              "        vertical-align: middle;\n",
              "    }\n",
              "\n",
              "    .dataframe tbody tr th {\n",
              "        vertical-align: top;\n",
              "    }\n",
              "\n",
              "    .dataframe thead th {\n",
              "        text-align: right;\n",
              "    }\n",
              "</style>\n",
              "<table border=\"1\" class=\"dataframe\">\n",
              "  <thead>\n",
              "    <tr style=\"text-align: right;\">\n",
              "      <th></th>\n",
              "      <th>id</th>\n",
              "      <th>keyword</th>\n",
              "      <th>location</th>\n",
              "      <th>text</th>\n",
              "    </tr>\n",
              "  </thead>\n",
              "  <tbody>\n",
              "    <tr>\n",
              "      <th>0</th>\n",
              "      <td>0</td>\n",
              "      <td>NaN</td>\n",
              "      <td>NaN</td>\n",
              "      <td>Just happened a terrible car crash</td>\n",
              "    </tr>\n",
              "    <tr>\n",
              "      <th>1</th>\n",
              "      <td>2</td>\n",
              "      <td>NaN</td>\n",
              "      <td>NaN</td>\n",
              "      <td>Heard about #earthquake is different cities, s...</td>\n",
              "    </tr>\n",
              "    <tr>\n",
              "      <th>2</th>\n",
              "      <td>3</td>\n",
              "      <td>NaN</td>\n",
              "      <td>NaN</td>\n",
              "      <td>there is a forest fire at spot pond, geese are...</td>\n",
              "    </tr>\n",
              "    <tr>\n",
              "      <th>3</th>\n",
              "      <td>9</td>\n",
              "      <td>NaN</td>\n",
              "      <td>NaN</td>\n",
              "      <td>Apocalypse lighting. #Spokane #wildfires</td>\n",
              "    </tr>\n",
              "    <tr>\n",
              "      <th>4</th>\n",
              "      <td>11</td>\n",
              "      <td>NaN</td>\n",
              "      <td>NaN</td>\n",
              "      <td>Typhoon Soudelor kills 28 in China and Taiwan</td>\n",
              "    </tr>\n",
              "    <tr>\n",
              "      <th>...</th>\n",
              "      <td>...</td>\n",
              "      <td>...</td>\n",
              "      <td>...</td>\n",
              "      <td>...</td>\n",
              "    </tr>\n",
              "    <tr>\n",
              "      <th>3258</th>\n",
              "      <td>10861</td>\n",
              "      <td>NaN</td>\n",
              "      <td>NaN</td>\n",
              "      <td>EARTHQUAKE SAFETY LOS ANGELES ÛÒ SAFETY FASTE...</td>\n",
              "    </tr>\n",
              "    <tr>\n",
              "      <th>3259</th>\n",
              "      <td>10865</td>\n",
              "      <td>NaN</td>\n",
              "      <td>NaN</td>\n",
              "      <td>Storm in RI worse than last hurricane. My city...</td>\n",
              "    </tr>\n",
              "    <tr>\n",
              "      <th>3260</th>\n",
              "      <td>10868</td>\n",
              "      <td>NaN</td>\n",
              "      <td>NaN</td>\n",
              "      <td>Green Line derailment in Chicago http://t.co/U...</td>\n",
              "    </tr>\n",
              "    <tr>\n",
              "      <th>3261</th>\n",
              "      <td>10874</td>\n",
              "      <td>NaN</td>\n",
              "      <td>NaN</td>\n",
              "      <td>MEG issues Hazardous Weather Outlook (HWO) htt...</td>\n",
              "    </tr>\n",
              "    <tr>\n",
              "      <th>3262</th>\n",
              "      <td>10875</td>\n",
              "      <td>NaN</td>\n",
              "      <td>NaN</td>\n",
              "      <td>#CityofCalgary has activated its Municipal Eme...</td>\n",
              "    </tr>\n",
              "  </tbody>\n",
              "</table>\n",
              "<p>3263 rows × 4 columns</p>\n",
              "</div>\n",
              "      <button class=\"colab-df-convert\" onclick=\"convertToInteractive('df-8cf709d7-08d3-4e60-9c85-86b429146b62')\"\n",
              "              title=\"Convert this dataframe to an interactive table.\"\n",
              "              style=\"display:none;\">\n",
              "        \n",
              "  <svg xmlns=\"http://www.w3.org/2000/svg\" height=\"24px\"viewBox=\"0 0 24 24\"\n",
              "       width=\"24px\">\n",
              "    <path d=\"M0 0h24v24H0V0z\" fill=\"none\"/>\n",
              "    <path d=\"M18.56 5.44l.94 2.06.94-2.06 2.06-.94-2.06-.94-.94-2.06-.94 2.06-2.06.94zm-11 1L8.5 8.5l.94-2.06 2.06-.94-2.06-.94L8.5 2.5l-.94 2.06-2.06.94zm10 10l.94 2.06.94-2.06 2.06-.94-2.06-.94-.94-2.06-.94 2.06-2.06.94z\"/><path d=\"M17.41 7.96l-1.37-1.37c-.4-.4-.92-.59-1.43-.59-.52 0-1.04.2-1.43.59L10.3 9.45l-7.72 7.72c-.78.78-.78 2.05 0 2.83L4 21.41c.39.39.9.59 1.41.59.51 0 1.02-.2 1.41-.59l7.78-7.78 2.81-2.81c.8-.78.8-2.07 0-2.86zM5.41 20L4 18.59l7.72-7.72 1.47 1.35L5.41 20z\"/>\n",
              "  </svg>\n",
              "      </button>\n",
              "      \n",
              "  <style>\n",
              "    .colab-df-container {\n",
              "      display:flex;\n",
              "      flex-wrap:wrap;\n",
              "      gap: 12px;\n",
              "    }\n",
              "\n",
              "    .colab-df-convert {\n",
              "      background-color: #E8F0FE;\n",
              "      border: none;\n",
              "      border-radius: 50%;\n",
              "      cursor: pointer;\n",
              "      display: none;\n",
              "      fill: #1967D2;\n",
              "      height: 32px;\n",
              "      padding: 0 0 0 0;\n",
              "      width: 32px;\n",
              "    }\n",
              "\n",
              "    .colab-df-convert:hover {\n",
              "      background-color: #E2EBFA;\n",
              "      box-shadow: 0px 1px 2px rgba(60, 64, 67, 0.3), 0px 1px 3px 1px rgba(60, 64, 67, 0.15);\n",
              "      fill: #174EA6;\n",
              "    }\n",
              "\n",
              "    [theme=dark] .colab-df-convert {\n",
              "      background-color: #3B4455;\n",
              "      fill: #D2E3FC;\n",
              "    }\n",
              "\n",
              "    [theme=dark] .colab-df-convert:hover {\n",
              "      background-color: #434B5C;\n",
              "      box-shadow: 0px 1px 3px 1px rgba(0, 0, 0, 0.15);\n",
              "      filter: drop-shadow(0px 1px 2px rgba(0, 0, 0, 0.3));\n",
              "      fill: #FFFFFF;\n",
              "    }\n",
              "  </style>\n",
              "\n",
              "      <script>\n",
              "        const buttonEl =\n",
              "          document.querySelector('#df-8cf709d7-08d3-4e60-9c85-86b429146b62 button.colab-df-convert');\n",
              "        buttonEl.style.display =\n",
              "          google.colab.kernel.accessAllowed ? 'block' : 'none';\n",
              "\n",
              "        async function convertToInteractive(key) {\n",
              "          const element = document.querySelector('#df-8cf709d7-08d3-4e60-9c85-86b429146b62');\n",
              "          const dataTable =\n",
              "            await google.colab.kernel.invokeFunction('convertToInteractive',\n",
              "                                                     [key], {});\n",
              "          if (!dataTable) return;\n",
              "\n",
              "          const docLinkHtml = 'Like what you see? Visit the ' +\n",
              "            '<a target=\"_blank\" href=https://colab.research.google.com/notebooks/data_table.ipynb>data table notebook</a>'\n",
              "            + ' to learn more about interactive tables.';\n",
              "          element.innerHTML = '';\n",
              "          dataTable['output_type'] = 'display_data';\n",
              "          await google.colab.output.renderOutput(dataTable, element);\n",
              "          const docLink = document.createElement('div');\n",
              "          docLink.innerHTML = docLinkHtml;\n",
              "          element.appendChild(docLink);\n",
              "        }\n",
              "      </script>\n",
              "    </div>\n",
              "  </div>\n",
              "  "
            ]
          },
          "metadata": {},
          "execution_count": 12
        }
      ]
    },
    {
      "cell_type": "code",
      "source": [
        "random_data = train_data.sample(frac=0.0006)\n",
        "for i in range(len(random_data)):\n",
        "  print(f'tweet number {i+1} :')\n",
        "  if random_data.iloc[i, 4]==1:\n",
        "    target = 'a Disaster'\n",
        "  else:\n",
        "    target = 'NOT Disaster'\n",
        "  print(f'{random_data.iloc[i, 3]} : This is {target} tweet')\n",
        "  print('------------------------------------\\n')\n"
      ],
      "metadata": {
        "colab": {
          "base_uri": "https://localhost:8080/"
        },
        "id": "E4uHcGoQEYVB",
        "outputId": "02bba5dc-a464-44cf-fee8-8a589a139777"
      },
      "execution_count": 13,
      "outputs": [
        {
          "output_type": "stream",
          "name": "stdout",
          "text": [
            "tweet number 1 :\n",
            "#DW Hundreds feared drowned as migrant boat capsizes off Libya: Hundreds of migrants areÛ_ http://t.co/VOX99FWKcX : This is a Disaster tweet\n",
            "------------------------------------\n",
            "\n",
            "tweet number 2 :\n",
            "That took way longer than I expected : This is NOT Disaster tweet\n",
            "------------------------------------\n",
            "\n",
            "tweet number 3 :\n",
            "@Willie_Am_I @JusttheBottle I would cry in to my nuclear reactor cooling tank!  #winechat : This is NOT Disaster tweet\n",
            "------------------------------------\n",
            "\n",
            "tweet number 4 :\n",
            "2015 new fashion ladies gold watch waterproof WeiQin famous brand michel quartz de lujo caÛ_ http://t.co/1JgsioUJaS http://t.co/719TZEyHFn : This is NOT Disaster tweet\n",
            "------------------------------------\n",
            "\n",
            "tweet number 5 :\n",
            "The Latest: More homes razed by Northern California wildfire - http://t.co/P3g3bQBczu http://t.co/RpBxdfnx5k : This is a Disaster tweet\n",
            "------------------------------------\n",
            "\n"
          ]
        }
      ]
    },
    {
      "cell_type": "markdown",
      "source": [
        "## Extract validation data from train data:"
      ],
      "metadata": {
        "id": "RiGYjpD3LOB8"
      }
    },
    {
      "cell_type": "code",
      "source": [
        "train_data['text'].to_numpy()"
      ],
      "metadata": {
        "colab": {
          "base_uri": "https://localhost:8080/"
        },
        "id": "TDEGSE5qMzH4",
        "outputId": "c139e2bc-349b-4b72-c777-27583699ea1b"
      },
      "execution_count": 14,
      "outputs": [
        {
          "output_type": "execute_result",
          "data": {
            "text/plain": [
              "array(['Our Deeds are the Reason of this #earthquake May ALLAH Forgive us all',\n",
              "       'Forest fire near La Ronge Sask. Canada',\n",
              "       \"All residents asked to 'shelter in place' are being notified by officers. No other evacuation or shelter in place orders are expected\",\n",
              "       ...,\n",
              "       'M1.94 [01:04 UTC]?5km S of Volcano Hawaii. http://t.co/zDtoyd8EbJ',\n",
              "       'Police investigating after an e-bike collided with a car in Little Portugal. E-bike rider suffered serious non-life threatening injuries.',\n",
              "       'The Latest: More Homes Razed by Northern California Wildfire - ABC News http://t.co/YmY4rSkQ3d'],\n",
              "      dtype=object)"
            ]
          },
          "metadata": {},
          "execution_count": 14
        }
      ]
    },
    {
      "cell_type": "code",
      "source": [
        "train_data['target'].to_numpy()"
      ],
      "metadata": {
        "colab": {
          "base_uri": "https://localhost:8080/"
        },
        "id": "9E9Bh7DONeeh",
        "outputId": "dd8a3dd7-7f03-4b59-8033-b01cf19ed54f"
      },
      "execution_count": 15,
      "outputs": [
        {
          "output_type": "execute_result",
          "data": {
            "text/plain": [
              "array([1, 1, 1, ..., 1, 1, 1])"
            ]
          },
          "metadata": {},
          "execution_count": 15
        }
      ]
    },
    {
      "cell_type": "code",
      "source": [
        "train_data, val_data, train_label, val_label = train_test_split(train_data['text'].to_numpy(), train_data['target'].to_numpy(), \n",
        "                                                                test_size=0.15, \n",
        "                                                                random_state=42)"
      ],
      "metadata": {
        "id": "ihBhXs9YG2FG"
      },
      "execution_count": 16,
      "outputs": []
    },
    {
      "cell_type": "code",
      "source": [
        "val_data[:10], val_label[:10]"
      ],
      "metadata": {
        "colab": {
          "base_uri": "https://localhost:8080/"
        },
        "id": "UT_cUffWNkdm",
        "outputId": "315eff28-e49b-465d-aff0-19b1391454b4"
      },
      "execution_count": 17,
      "outputs": [
        {
          "output_type": "execute_result",
          "data": {
            "text/plain": [
              "(array(['So you have a new weapon that can cause un-imaginable destruction.',\n",
              "        'The f$&amp;@ing things I do for #GISHWHES Just got soaked in a deluge going for pads and tampons. Thx @mishacollins @/@',\n",
              "        'DT @georgegalloway: RT @Galloway4Mayor: \\x89ÛÏThe CoL police can catch a pickpocket in Liverpool Stree... http://t.co/vXIn1gOq4Q',\n",
              "        'Aftershock back to school kick off was great. I want to thank everyone for making it possible. What a great night.',\n",
              "        'in response to trauma Children of Addicts develop a defensive self - one that decreases vulnerability. (3',\n",
              "        '@Calum5SOS you look like you got caught in a rainstorm this is amazing and disgusting at the same time',\n",
              "        'my favorite lady came to our volunteer meeting\\nhopefully joining her youth collision and i am excite http://t.co/Ij0wQ490cS',\n",
              "        '@brianroemmele UX fail of EMV - people want to insert and remove quickly like a gas pump stripe reader. 1 person told me it crashed the POS',\n",
              "        \"Can't find my ariana grande shirt  this is a fucking tragedy\",\n",
              "        'The Murderous Story Of America\\x89Ûªs First Hijacking http://t.co/EYUGk6byxr'],\n",
              "       dtype=object), array([1, 0, 1, 0, 0, 0, 1, 1, 0, 1]))"
            ]
          },
          "metadata": {},
          "execution_count": 17
        }
      ]
    },
    {
      "cell_type": "markdown",
      "source": [
        "## Tokenization (Vectorization):"
      ],
      "metadata": {
        "id": "oZdleV07g5m8"
      }
    },
    {
      "cell_type": "code",
      "source": [
        "sum([len(tweet.split()) for tweet in train_data])"
      ],
      "metadata": {
        "colab": {
          "base_uri": "https://localhost:8080/"
        },
        "id": "dBwN2uYD2GEH",
        "outputId": "0e73364f-7000-4801-f861-8a45662dd5db"
      },
      "execution_count": 18,
      "outputs": [
        {
          "output_type": "execute_result",
          "data": {
            "text/plain": [
              "96401"
            ]
          },
          "metadata": {},
          "execution_count": 18
        }
      ]
    },
    {
      "cell_type": "code",
      "source": [
        "round(sum([len(tweet.split()) for tweet in train_data])/len(train_data))"
      ],
      "metadata": {
        "colab": {
          "base_uri": "https://localhost:8080/"
        },
        "id": "vAr6BqkV0fnm",
        "outputId": "05912675-e81f-4403-b6f4-39a8b547cda5"
      },
      "execution_count": 19,
      "outputs": [
        {
          "output_type": "execute_result",
          "data": {
            "text/plain": [
              "15"
            ]
          },
          "metadata": {},
          "execution_count": 19
        }
      ]
    },
    {
      "cell_type": "code",
      "source": [
        "text_vectorizer = tf.keras.layers.TextVectorization(max_tokens=10000,\n",
        "                                                       output_mode='int', \n",
        "                                                       output_sequence_length=15)"
      ],
      "metadata": {
        "id": "nX1891FjNoHS"
      },
      "execution_count": 20,
      "outputs": []
    },
    {
      "cell_type": "code",
      "source": [
        "text_vectorizer.adapt(train_data)"
      ],
      "metadata": {
        "id": "rrPEZ-cpvKUF"
      },
      "execution_count": 21,
      "outputs": []
    },
    {
      "cell_type": "code",
      "source": [
        "sample_tweet = 'my name is hamed i am happy to meet you!'\n",
        "text_vectorizer(sample_tweet)"
      ],
      "metadata": {
        "colab": {
          "base_uri": "https://localhost:8080/"
        },
        "id": "GvlFWQgb5PE5",
        "outputId": "831d6933-ff81-4eb6-bddb-d8033041804d"
      },
      "execution_count": 22,
      "outputs": [
        {
          "output_type": "execute_result",
          "data": {
            "text/plain": [
              "<tf.Tensor: shape=(15,), dtype=int64, numpy=\n",
              "array([  13,  736,    9,    1,    8,  161,  681,    5, 1732,   12,    0,\n",
              "          0,    0,    0,    0])>"
            ]
          },
          "metadata": {},
          "execution_count": 22
        }
      ]
    },
    {
      "cell_type": "code",
      "source": [
        "random_tweet = random.choice(train_data)\n",
        "print('tweet: ', random_tweet,'\\n\\n')\n",
        "print('vectorized tweet: ', text_vectorizer(random_tweet))"
      ],
      "metadata": {
        "colab": {
          "base_uri": "https://localhost:8080/"
        },
        "id": "_4LVOt3r50nF",
        "outputId": "73449dcc-20f1-45e2-d503-f1229ed95114"
      },
      "execution_count": 23,
      "outputs": [
        {
          "output_type": "stream",
          "name": "stdout",
          "text": [
            "tweet:  Don't miss Chris #Appy's detonation of the myths obscuring our crime in #Hiroshima 70 yrs ago this month. @salon http://t.co/DlP8kPkt2k \n",
            "\n",
            "\n",
            "vectorized tweet:  tf.Tensor(\n",
            "[  63  952 3853    1  531    6    2    1 9862  113 1366    4  123  323\n",
            " 1834], shape=(15,), dtype=int64)\n"
          ]
        }
      ]
    },
    {
      "cell_type": "code",
      "source": [
        "#unique words\n",
        "unique_words = text_vectorizer.get_vocabulary()\n",
        "print(len(unique_words))\n",
        "print(unique_words[:10])\n",
        "print(unique_words[-10:])"
      ],
      "metadata": {
        "colab": {
          "base_uri": "https://localhost:8080/"
        },
        "id": "pz1D29W_6gMu",
        "outputId": "574295ce-0b52-4db8-97ee-b9240c319535"
      },
      "execution_count": 24,
      "outputs": [
        {
          "output_type": "stream",
          "name": "stdout",
          "text": [
            "10000\n",
            "['', '[UNK]', 'the', 'a', 'in', 'to', 'of', 'and', 'i', 'is']\n",
            "['nkulw', 'njenga', 'nj36', 'nittys', 'nitroglycerin', 'nitishkumar', 'nite', 'nissannews', 'nissan', 'niqqa']\n"
          ]
        }
      ]
    },
    {
      "cell_type": "markdown",
      "source": [
        "## Embedding:"
      ],
      "metadata": {
        "id": "NOWUfElgCc9K"
      }
    },
    {
      "cell_type": "code",
      "source": [
        "embedding = tf.keras.layers.Embedding(input_dim = 10000, output_dim =32, input_length=None)"
      ],
      "metadata": {
        "id": "q8V1ge7R8-uB"
      },
      "execution_count": 25,
      "outputs": []
    },
    {
      "cell_type": "code",
      "source": [
        "sample_embed = embedding(text_vectorizer(random_tweet))\n",
        "sample_embed"
      ],
      "metadata": {
        "colab": {
          "base_uri": "https://localhost:8080/"
        },
        "id": "tLIAWQIV8taE",
        "outputId": "d5742073-2d02-4596-f482-622c269abd10"
      },
      "execution_count": 26,
      "outputs": [
        {
          "output_type": "execute_result",
          "data": {
            "text/plain": [
              "<tf.Tensor: shape=(15, 32), dtype=float32, numpy=\n",
              "array([[-5.96786663e-03,  1.61555447e-02, -3.62438187e-02,\n",
              "        -5.09663671e-03,  3.77636589e-02,  1.99260227e-02,\n",
              "         5.76458126e-03, -2.74267439e-02,  3.43073159e-04,\n",
              "        -1.84961408e-03, -3.93162742e-02, -4.38921563e-02,\n",
              "        -1.70133337e-02,  7.94889778e-03, -2.32206658e-03,\n",
              "        -2.75335796e-02, -2.64940858e-02,  4.36343439e-02,\n",
              "        -1.34332553e-02, -3.74578461e-02,  4.10373919e-02,\n",
              "        -3.52696888e-02, -2.01918017e-02,  1.46185048e-02,\n",
              "         3.35670635e-03, -3.11732050e-02, -3.35509405e-02,\n",
              "         3.65964063e-02,  3.53174098e-02,  1.33813284e-02,\n",
              "         4.81343605e-02,  3.94864343e-02],\n",
              "       [-6.86535984e-03,  4.25418466e-03, -4.17943224e-02,\n",
              "         2.61981525e-02, -4.14109230e-02,  5.16176224e-05,\n",
              "        -2.64995825e-02,  4.20099497e-03, -4.36757579e-02,\n",
              "         2.34754123e-02,  3.50993313e-02, -3.82528305e-02,\n",
              "        -3.07537448e-02, -2.39195358e-02,  1.92391016e-02,\n",
              "        -2.15329882e-02, -2.72855293e-02,  3.57597508e-02,\n",
              "        -4.40550447e-02,  3.00423056e-03, -8.63910839e-03,\n",
              "        -3.02722212e-02, -3.71326804e-02, -1.77015774e-02,\n",
              "        -3.42921168e-02,  4.29450981e-02, -8.40380043e-03,\n",
              "         3.52612995e-02, -2.72700191e-02, -5.67361712e-06,\n",
              "         3.47665213e-02,  1.57695524e-02],\n",
              "       [ 2.09229700e-02,  3.29920985e-02, -3.96336913e-02,\n",
              "         3.03002112e-02, -1.88102368e-02,  1.87007301e-02,\n",
              "        -2.69682333e-03, -1.62381418e-02, -4.52314019e-02,\n",
              "         4.99622896e-03, -1.76369771e-02, -2.88353451e-02,\n",
              "         1.23436563e-02,  3.64914872e-02, -3.43816504e-02,\n",
              "        -3.91614810e-02,  1.59362890e-02,  5.66452742e-03,\n",
              "         1.68775432e-02, -3.62579599e-02, -3.68448123e-02,\n",
              "        -4.51285504e-02, -8.76539946e-03,  1.51491165e-03,\n",
              "         1.52023174e-02, -4.42387462e-02, -1.08687952e-03,\n",
              "         4.60138433e-02,  3.58878039e-02,  4.17601950e-02,\n",
              "        -4.57507484e-02, -2.16065180e-02],\n",
              "       [ 1.00135691e-02, -3.24595347e-02,  4.27880622e-02,\n",
              "        -4.03312333e-02, -3.42992693e-02,  1.81769840e-02,\n",
              "         2.87492909e-02,  3.67821120e-02,  1.36210769e-03,\n",
              "         4.63256128e-02, -1.12825632e-02,  5.84780052e-03,\n",
              "        -4.33294177e-02, -4.28186730e-03,  4.94267456e-02,\n",
              "        -7.31670856e-03, -2.36585382e-02,  4.00600471e-02,\n",
              "        -9.36874002e-03, -7.36211613e-03,  4.98575903e-02,\n",
              "         1.24701858e-02,  2.32476853e-02, -1.98928360e-02,\n",
              "        -2.09442973e-02, -1.64926052e-02,  4.85910289e-02,\n",
              "         4.11018841e-02,  1.08861811e-02, -1.05844364e-02,\n",
              "         2.73835696e-02, -1.52109638e-02],\n",
              "       [ 2.09084786e-02, -2.89695859e-02, -9.36355442e-03,\n",
              "        -5.48268482e-03, -4.81520556e-02,  2.49730982e-02,\n",
              "         8.88762623e-03, -1.87926423e-02, -3.82028930e-02,\n",
              "         4.52465452e-02, -2.24887971e-02, -2.26308461e-02,\n",
              "        -1.77567825e-02, -4.74737957e-03, -3.44153419e-02,\n",
              "         3.74254696e-02, -1.57654397e-02,  2.41782553e-02,\n",
              "        -3.52268703e-02,  1.72006376e-02, -2.39897612e-02,\n",
              "        -2.96711568e-02,  4.91132475e-02, -4.71805446e-02,\n",
              "        -6.32254034e-03, -3.00363656e-02,  3.74575891e-02,\n",
              "         1.79912336e-02,  3.82228158e-02,  2.35551037e-02,\n",
              "         4.28256504e-02,  2.61967890e-02],\n",
              "       [-3.17432769e-02,  1.47789456e-02, -1.86428800e-02,\n",
              "         4.76940311e-02,  1.54360197e-02,  2.17778124e-02,\n",
              "        -2.29174383e-02,  3.84898223e-02, -4.28730510e-02,\n",
              "         4.86552157e-02, -1.10049844e-02, -1.62732489e-02,\n",
              "        -3.02279349e-02, -3.31217274e-02, -4.23968919e-02,\n",
              "         4.20112871e-02, -8.61670822e-03,  6.09756634e-03,\n",
              "         4.63786013e-02, -2.14163214e-03, -1.49523094e-03,\n",
              "         4.54687737e-02,  1.69477947e-02, -8.51031393e-03,\n",
              "         3.74511816e-02,  2.92812698e-02, -4.40459959e-02,\n",
              "        -2.31785774e-02,  3.79848816e-02,  2.80276053e-02,\n",
              "        -5.16575575e-03,  1.87186711e-02],\n",
              "       [ 1.97525509e-02,  4.54046242e-02,  3.91067751e-02,\n",
              "        -1.08372793e-02, -3.54896076e-02, -3.51325423e-03,\n",
              "         9.30499285e-04,  3.11353318e-02,  3.39420103e-02,\n",
              "         4.97295894e-02, -4.24428098e-02, -1.03084445e-02,\n",
              "         1.46941878e-02, -4.80187312e-02,  4.17434908e-02,\n",
              "         3.87535580e-02, -3.15758809e-02, -2.86265854e-02,\n",
              "         2.33194977e-03, -2.71699913e-02, -3.21010239e-02,\n",
              "         3.96357812e-02,  2.63933092e-03,  1.97945274e-02,\n",
              "        -5.24119288e-03,  3.94477695e-03, -3.66909504e-02,\n",
              "        -3.11942101e-02,  2.08557732e-02, -8.17244127e-03,\n",
              "         2.34914534e-02,  2.19641067e-02],\n",
              "       [ 1.00135691e-02, -3.24595347e-02,  4.27880622e-02,\n",
              "        -4.03312333e-02, -3.42992693e-02,  1.81769840e-02,\n",
              "         2.87492909e-02,  3.67821120e-02,  1.36210769e-03,\n",
              "         4.63256128e-02, -1.12825632e-02,  5.84780052e-03,\n",
              "        -4.33294177e-02, -4.28186730e-03,  4.94267456e-02,\n",
              "        -7.31670856e-03, -2.36585382e-02,  4.00600471e-02,\n",
              "        -9.36874002e-03, -7.36211613e-03,  4.98575903e-02,\n",
              "         1.24701858e-02,  2.32476853e-02, -1.98928360e-02,\n",
              "        -2.09442973e-02, -1.64926052e-02,  4.85910289e-02,\n",
              "         4.11018841e-02,  1.08861811e-02, -1.05844364e-02,\n",
              "         2.73835696e-02, -1.52109638e-02],\n",
              "       [-2.50396263e-02, -2.97526717e-02, -3.62262726e-02,\n",
              "         3.37288715e-02,  4.36960533e-03, -2.98308730e-02,\n",
              "         2.01910399e-02, -4.24324870e-02, -4.03076299e-02,\n",
              "         2.26041712e-02, -2.03932766e-02, -2.72637960e-02,\n",
              "         2.48942710e-02, -9.38996673e-05,  2.19139345e-02,\n",
              "         3.29115279e-02, -1.97695382e-02,  1.54755376e-02,\n",
              "        -3.89105305e-02, -3.65780666e-03,  3.26198451e-02,\n",
              "        -3.37782502e-02,  1.16807446e-02,  2.16026790e-02,\n",
              "        -2.97429096e-02,  4.35657427e-03,  3.48741077e-02,\n",
              "         3.31434645e-02, -1.43322460e-02,  7.44652003e-04,\n",
              "         2.93127559e-02,  2.13839673e-02],\n",
              "       [-1.06886253e-02, -2.33555678e-02, -2.45966204e-02,\n",
              "        -3.66744772e-02,  4.57105078e-02,  1.82689764e-02,\n",
              "        -1.22616403e-02, -2.48750579e-02,  4.11611460e-02,\n",
              "        -5.31344488e-03,  3.99404056e-02, -3.31495777e-02,\n",
              "         2.23197453e-02,  3.18664052e-02,  2.11975016e-02,\n",
              "        -4.13828492e-02,  3.22896242e-03, -4.12021168e-02,\n",
              "         4.07658517e-04,  3.62819768e-02,  4.36604507e-02,\n",
              "        -7.96522945e-03, -3.82740498e-02, -7.73670524e-03,\n",
              "         1.90523006e-02,  8.36954266e-03,  2.66548730e-02,\n",
              "         4.42987420e-02,  2.99305059e-02, -7.17247650e-03,\n",
              "         4.77255508e-03, -2.48446818e-02],\n",
              "       [-4.58147041e-02,  4.11781557e-02,  7.42069632e-03,\n",
              "         4.20155041e-02, -3.97244804e-02, -3.36308107e-02,\n",
              "         4.41890098e-02,  4.95647453e-02, -1.57436505e-02,\n",
              "         1.49144046e-02, -2.24257112e-02, -4.17792574e-02,\n",
              "         1.68786198e-03, -3.20684910e-03,  3.39942053e-03,\n",
              "        -2.28213910e-02,  8.59655067e-03,  4.11980785e-02,\n",
              "         2.74530314e-02,  4.35174592e-02, -3.85679230e-02,\n",
              "        -3.19105610e-02, -4.09732573e-02,  4.96161617e-02,\n",
              "        -3.15231085e-02,  1.08292215e-02,  4.81755845e-02,\n",
              "         2.28286050e-02, -4.30805683e-02, -4.54200022e-02,\n",
              "         2.30665132e-03,  1.21094286e-04],\n",
              "       [ 4.12291177e-02, -3.99598368e-02,  3.12032439e-02,\n",
              "        -3.60423550e-02, -1.60584077e-02,  3.92150395e-02,\n",
              "        -9.13999975e-04,  1.20197162e-02, -4.09408323e-02,\n",
              "         3.98467444e-02,  4.81506921e-02,  1.33169033e-02,\n",
              "        -4.47661541e-02, -4.87410314e-02,  4.11096551e-02,\n",
              "         4.20665741e-03,  2.98181064e-02, -9.41051170e-03,\n",
              "         4.65521850e-02,  3.40962671e-02,  4.27493788e-02,\n",
              "         1.83903836e-02,  3.42555903e-02,  2.94494629e-03,\n",
              "         2.42476799e-02, -1.96291935e-02,  6.56024367e-03,\n",
              "         6.92849234e-03,  2.49252580e-02,  1.91589855e-02,\n",
              "         2.77324766e-03,  2.14816593e-02],\n",
              "       [-2.93059833e-02, -4.00584117e-02,  2.78603546e-02,\n",
              "         7.76975229e-03, -3.84817608e-02, -2.68984083e-02,\n",
              "        -6.64667040e-03,  1.54979564e-02,  3.22985910e-02,\n",
              "        -1.96420550e-02, -2.41663810e-02,  1.51741169e-02,\n",
              "        -2.86400914e-02, -1.01310238e-02, -1.59137622e-02,\n",
              "         3.41871642e-02, -5.98102808e-03,  4.57258485e-02,\n",
              "        -2.78081540e-02, -3.84495147e-02, -3.94886956e-02,\n",
              "        -1.03135705e-02,  3.83994021e-02, -2.64887810e-02,\n",
              "         2.53134966e-03, -2.66189463e-02, -5.11709601e-03,\n",
              "         3.81663479e-02,  2.21151151e-02, -4.89533544e-02,\n",
              "         8.45760107e-03, -2.32680198e-02],\n",
              "       [ 3.16581167e-02,  2.66635753e-02, -1.26859546e-02,\n",
              "         2.89248303e-03,  4.85685207e-02, -1.95657089e-03,\n",
              "        -1.64285302e-05,  2.12721564e-02, -1.72470920e-02,\n",
              "        -4.07911651e-02,  9.12119076e-03,  3.92246582e-02,\n",
              "        -1.30638704e-02, -6.24824688e-03,  3.14937569e-02,\n",
              "         1.16603151e-02, -3.54987979e-02, -2.29945667e-02,\n",
              "         2.97861584e-02, -1.02331527e-02, -1.31735094e-02,\n",
              "        -2.80121695e-02,  2.37218849e-02,  3.52282040e-02,\n",
              "        -1.48143061e-02,  4.33720984e-02,  4.23997901e-02,\n",
              "        -2.62377858e-02,  3.34304012e-02,  2.02470087e-02,\n",
              "        -2.42348798e-02,  3.29196341e-02],\n",
              "       [ 1.04095824e-02,  4.51546423e-02,  9.51649994e-03,\n",
              "         2.23436244e-02, -4.20325771e-02, -1.76450014e-02,\n",
              "         2.07568742e-02,  6.00116327e-03, -1.42216198e-02,\n",
              "         4.07596864e-02, -4.04190421e-02,  3.51702683e-02,\n",
              "        -6.79003075e-03,  3.37956101e-03, -2.47272495e-02,\n",
              "         1.52604468e-02,  1.83345564e-02, -2.05099341e-02,\n",
              "         3.36281769e-02, -2.58010980e-02, -4.31267731e-02,\n",
              "         1.69227272e-03, -4.25103419e-02, -3.70242372e-02,\n",
              "         6.90676272e-04, -9.73485410e-04, -4.67918888e-02,\n",
              "        -1.65023319e-02,  3.16235162e-02, -4.70387228e-02,\n",
              "        -3.07871941e-02,  1.57600306e-02]], dtype=float32)>"
            ]
          },
          "metadata": {},
          "execution_count": 26
        }
      ]
    },
    {
      "cell_type": "markdown",
      "source": [
        "## Analyze with Naive Bayes using TF-IDF:"
      ],
      "metadata": {
        "id": "zLSl6TnnVWTQ"
      }
    },
    {
      "cell_type": "code",
      "source": [
        "from sklearn.feature_extraction.text import TfidfVectorizer\n",
        "from sklearn.naive_bayes import MultinomialNB\n",
        "from sklearn.pipeline import Pipeline\n",
        "from sklearn.metrics import accuracy_score, classification_report"
      ],
      "metadata": {
        "id": "rQvF8mI-9Ei7"
      },
      "execution_count": 27,
      "outputs": []
    },
    {
      "cell_type": "code",
      "source": [
        "model_0 = Pipeline([\n",
        "                    ('tfidf', TfidfVectorizer()),\n",
        "                    ('clf', MultinomialNB())\n",
        "])\n",
        "\n",
        "model_0.fit(train_data,train_label)"
      ],
      "metadata": {
        "colab": {
          "base_uri": "https://localhost:8080/"
        },
        "id": "eujQFWfsVsPw",
        "outputId": "2ff6f553-f8f7-489c-d0b9-007ea936eb21"
      },
      "execution_count": 28,
      "outputs": [
        {
          "output_type": "execute_result",
          "data": {
            "text/plain": [
              "Pipeline(steps=[('tfidf', TfidfVectorizer()), ('clf', MultinomialNB())])"
            ]
          },
          "metadata": {},
          "execution_count": 28
        }
      ]
    },
    {
      "cell_type": "code",
      "source": [
        "val_pred = model_0.predict(val_data)\n",
        "val_pred"
      ],
      "metadata": {
        "colab": {
          "base_uri": "https://localhost:8080/"
        },
        "id": "LDbu8EzFXBsa",
        "outputId": "8208c840-951c-49e4-a4b4-22d895705f57"
      },
      "execution_count": 29,
      "outputs": [
        {
          "output_type": "execute_result",
          "data": {
            "text/plain": [
              "array([0, 0, 0, ..., 1, 0, 0])"
            ]
          },
          "metadata": {},
          "execution_count": 29
        }
      ]
    },
    {
      "cell_type": "code",
      "source": [
        "val_label"
      ],
      "metadata": {
        "colab": {
          "base_uri": "https://localhost:8080/"
        },
        "id": "36pZya2qXXm1",
        "outputId": "17cc6de9-46c4-46d3-8b9c-615a1cbaf3c6"
      },
      "execution_count": 30,
      "outputs": [
        {
          "output_type": "execute_result",
          "data": {
            "text/plain": [
              "array([1, 0, 1, ..., 1, 0, 0])"
            ]
          },
          "metadata": {},
          "execution_count": 30
        }
      ]
    },
    {
      "cell_type": "code",
      "source": [
        "accuracy_score(val_label, val_pred)"
      ],
      "metadata": {
        "colab": {
          "base_uri": "https://localhost:8080/"
        },
        "id": "DIcwlAlyXaCW",
        "outputId": "7fea3aa4-8f05-47af-ed33-db28844105f3"
      },
      "execution_count": 31,
      "outputs": [
        {
          "output_type": "execute_result",
          "data": {
            "text/plain": [
              "0.7863397548161121"
            ]
          },
          "metadata": {},
          "execution_count": 31
        }
      ]
    },
    {
      "cell_type": "code",
      "source": [
        "print(classification_report(val_label, val_pred))"
      ],
      "metadata": {
        "colab": {
          "base_uri": "https://localhost:8080/"
        },
        "id": "qA58DXXQXlx6",
        "outputId": "a32ed9c2-0281-4785-80d2-3bc04bf4ebd0"
      },
      "execution_count": 32,
      "outputs": [
        {
          "output_type": "stream",
          "name": "stdout",
          "text": [
            "              precision    recall  f1-score   support\n",
            "\n",
            "           0       0.76      0.92      0.83       651\n",
            "           1       0.85      0.61      0.71       491\n",
            "\n",
            "    accuracy                           0.79      1142\n",
            "   macro avg       0.80      0.76      0.77      1142\n",
            "weighted avg       0.80      0.79      0.78      1142\n",
            "\n"
          ]
        }
      ]
    },
    {
      "cell_type": "markdown",
      "source": [
        "## Analyze with Vanilla Neural Network:"
      ],
      "metadata": {
        "id": "aKLoyZ2-73qI"
      }
    },
    {
      "cell_type": "code",
      "source": [
        "from helper_functions import create_tensorboard_callback"
      ],
      "metadata": {
        "id": "y9P2vMYU9ySx"
      },
      "execution_count": 33,
      "outputs": []
    },
    {
      "cell_type": "code",
      "source": [
        "inputs = tf.keras.layers.Input(shape= (1,), dtype = tf.string)\n",
        "\n",
        "x = text_vectorizer(inputs)\n",
        "\n",
        "x = embedding(x)\n",
        "\n",
        "# x = tf.transpose(x , perm = [0,2,1])\n",
        "\n",
        "# print(x.shape)\n",
        "\n",
        "x = tf.keras.layers.GlobalAveragePooling1D()(x)\n",
        "\n",
        "x = tf.keras.layers.Dense(10, activation='relu')(x)\n",
        "\n",
        "outputs = tf.keras.layers.Dense(1, activation='sigmoid')(x)\n",
        "\n",
        "model_1 = tf.keras.Model(inputs,outputs, name='ANN')"
      ],
      "metadata": {
        "id": "yvsEiUlGPYkI"
      },
      "execution_count": 34,
      "outputs": []
    },
    {
      "cell_type": "code",
      "source": [
        "model_1.summary()"
      ],
      "metadata": {
        "colab": {
          "base_uri": "https://localhost:8080/"
        },
        "id": "XQR0a3l1RYjX",
        "outputId": "8847f12c-68be-4a97-d0c1-38bdf2818f21"
      },
      "execution_count": 35,
      "outputs": [
        {
          "output_type": "stream",
          "name": "stdout",
          "text": [
            "Model: \"ANN\"\n",
            "_________________________________________________________________\n",
            " Layer (type)                Output Shape              Param #   \n",
            "=================================================================\n",
            " input_1 (InputLayer)        [(None, 1)]               0         \n",
            "                                                                 \n",
            " text_vectorization (TextVec  (None, 15)               0         \n",
            " torization)                                                     \n",
            "                                                                 \n",
            " embedding (Embedding)       (None, 15, 32)            320000    \n",
            "                                                                 \n",
            " global_average_pooling1d (G  (None, 32)               0         \n",
            " lobalAveragePooling1D)                                          \n",
            "                                                                 \n",
            " dense (Dense)               (None, 10)                330       \n",
            "                                                                 \n",
            " dense_1 (Dense)             (None, 1)                 11        \n",
            "                                                                 \n",
            "=================================================================\n",
            "Total params: 320,341\n",
            "Trainable params: 320,341\n",
            "Non-trainable params: 0\n",
            "_________________________________________________________________\n"
          ]
        }
      ]
    },
    {
      "cell_type": "code",
      "source": [
        "model_1.compile(loss = tf.keras.losses.BinaryCrossentropy(),\n",
        "                 optimizer = tf.keras.optimizers.Adam(),\n",
        "                 metrics= ['accuracy'])"
      ],
      "metadata": {
        "id": "2SeRFBI7YYDW"
      },
      "execution_count": 36,
      "outputs": []
    },
    {
      "cell_type": "code",
      "source": [
        "train_label.shape"
      ],
      "metadata": {
        "colab": {
          "base_uri": "https://localhost:8080/"
        },
        "id": "KpzpyMV3Ul2q",
        "outputId": "d6fc6a99-acd6-43fe-eea5-9cc4c033761f"
      },
      "execution_count": 37,
      "outputs": [
        {
          "output_type": "execute_result",
          "data": {
            "text/plain": [
              "(6471,)"
            ]
          },
          "metadata": {},
          "execution_count": 37
        }
      ]
    },
    {
      "cell_type": "code",
      "source": [
        "train_data.shape"
      ],
      "metadata": {
        "colab": {
          "base_uri": "https://localhost:8080/"
        },
        "id": "HzbQ7dLIURgt",
        "outputId": "2e8d1920-3f4d-4d3b-cef4-aa2292b304cc"
      },
      "execution_count": 38,
      "outputs": [
        {
          "output_type": "execute_result",
          "data": {
            "text/plain": [
              "(6471,)"
            ]
          },
          "metadata": {},
          "execution_count": 38
        }
      ]
    },
    {
      "cell_type": "code",
      "source": [
        "# !rm -rf './tensorboard/ANN'"
      ],
      "metadata": {
        "id": "OOFNhm_8bHx3"
      },
      "execution_count": 39,
      "outputs": []
    },
    {
      "cell_type": "code",
      "source": [
        "history_1 = model_1.fit(train_data, \n",
        "            train_label, \n",
        "            validation_data = (val_data,val_label), \n",
        "            epochs=10, \n",
        "            callbacks=[create_tensorboard_callback('tensorboard','ANN')])"
      ],
      "metadata": {
        "colab": {
          "base_uri": "https://localhost:8080/"
        },
        "id": "Vg8TwjcZNbtc",
        "outputId": "17bb98c3-81aa-4521-fa82-f194763e3ed1"
      },
      "execution_count": 40,
      "outputs": [
        {
          "output_type": "stream",
          "name": "stdout",
          "text": [
            "Saving TensorBoard log files to: tensorboard/ANN/20220831-032433\n",
            "Epoch 1/10\n",
            "203/203 [==============================] - 3s 8ms/step - loss: 0.6325 - accuracy: 0.6688 - val_loss: 0.5533 - val_accuracy: 0.7811\n",
            "Epoch 2/10\n",
            "203/203 [==============================] - 1s 7ms/step - loss: 0.4465 - accuracy: 0.8224 - val_loss: 0.4668 - val_accuracy: 0.8030\n",
            "Epoch 3/10\n",
            "203/203 [==============================] - 2s 8ms/step - loss: 0.3255 - accuracy: 0.8720 - val_loss: 0.4667 - val_accuracy: 0.7933\n",
            "Epoch 4/10\n",
            "203/203 [==============================] - 1s 7ms/step - loss: 0.2506 - accuracy: 0.9057 - val_loss: 0.4895 - val_accuracy: 0.7846\n",
            "Epoch 5/10\n",
            "203/203 [==============================] - 1s 7ms/step - loss: 0.1968 - accuracy: 0.9288 - val_loss: 0.5219 - val_accuracy: 0.7898\n",
            "Epoch 6/10\n",
            "203/203 [==============================] - 1s 7ms/step - loss: 0.1573 - accuracy: 0.9434 - val_loss: 0.5657 - val_accuracy: 0.7776\n",
            "Epoch 7/10\n",
            "203/203 [==============================] - 1s 7ms/step - loss: 0.1272 - accuracy: 0.9567 - val_loss: 0.6145 - val_accuracy: 0.7776\n",
            "Epoch 8/10\n",
            "203/203 [==============================] - 1s 7ms/step - loss: 0.1068 - accuracy: 0.9628 - val_loss: 0.6608 - val_accuracy: 0.7785\n",
            "Epoch 9/10\n",
            "203/203 [==============================] - 1s 7ms/step - loss: 0.0932 - accuracy: 0.9691 - val_loss: 0.7032 - val_accuracy: 0.7758\n",
            "Epoch 10/10\n",
            "203/203 [==============================] - 1s 7ms/step - loss: 0.0799 - accuracy: 0.9742 - val_loss: 0.7545 - val_accuracy: 0.7706\n"
          ]
        }
      ]
    },
    {
      "cell_type": "code",
      "source": [
        "model_1.evaluate(val_data,val_label)"
      ],
      "metadata": {
        "colab": {
          "base_uri": "https://localhost:8080/"
        },
        "id": "E_kkLm5BbeAx",
        "outputId": "6a37cc4e-ca79-474b-8381-5d4389561bd7"
      },
      "execution_count": 41,
      "outputs": [
        {
          "output_type": "stream",
          "name": "stdout",
          "text": [
            "36/36 [==============================] - 0s 2ms/step - loss: 0.7545 - accuracy: 0.7706\n"
          ]
        },
        {
          "output_type": "execute_result",
          "data": {
            "text/plain": [
              "[0.754477858543396, 0.7705779075622559]"
            ]
          },
          "metadata": {},
          "execution_count": 41
        }
      ]
    },
    {
      "cell_type": "code",
      "source": [],
      "metadata": {
        "id": "AexbWseepUY7"
      },
      "execution_count": 41,
      "outputs": []
    },
    {
      "cell_type": "code",
      "source": [
        "tweets=['earthquake hit california minutes ago', \n",
        "        'my car on fire now', \n",
        "        'I need a blue car']"
      ],
      "metadata": {
        "id": "UTc9X6MSlQ2R"
      },
      "execution_count": 42,
      "outputs": []
    },
    {
      "cell_type": "code",
      "source": [
        "model_0.predict_proba(tweets)"
      ],
      "metadata": {
        "colab": {
          "base_uri": "https://localhost:8080/"
        },
        "id": "WKNu12AsnDey",
        "outputId": "0494a166-54fb-4b8b-a044-81702487895a"
      },
      "execution_count": 43,
      "outputs": [
        {
          "output_type": "execute_result",
          "data": {
            "text/plain": [
              "array([[0.20651409, 0.79348591],\n",
              "       [0.58784876, 0.41215124],\n",
              "       [0.70686811, 0.29313189]])"
            ]
          },
          "metadata": {},
          "execution_count": 43
        }
      ]
    },
    {
      "cell_type": "code",
      "source": [
        "model_0.predict(tweets)"
      ],
      "metadata": {
        "colab": {
          "base_uri": "https://localhost:8080/"
        },
        "id": "YP5R5at5lBaj",
        "outputId": "b4beadee-b415-4a1f-b523-5372c216099d"
      },
      "execution_count": 44,
      "outputs": [
        {
          "output_type": "execute_result",
          "data": {
            "text/plain": [
              "array([1, 0, 0])"
            ]
          },
          "metadata": {},
          "execution_count": 44
        }
      ]
    },
    {
      "cell_type": "code",
      "source": [
        "model_1.predict(tweets)"
      ],
      "metadata": {
        "colab": {
          "base_uri": "https://localhost:8080/"
        },
        "id": "OhzkcaCXlBWY",
        "outputId": "4a099379-56ae-47f7-bdb4-630e34b342c2"
      },
      "execution_count": 45,
      "outputs": [
        {
          "output_type": "execute_result",
          "data": {
            "text/plain": [
              "array([[0.99287045],\n",
              "       [0.88256466],\n",
              "       [0.14784294]], dtype=float32)"
            ]
          },
          "metadata": {},
          "execution_count": 45
        }
      ]
    },
    {
      "cell_type": "markdown",
      "source": [
        "## Retrieve the trained word embeddings:"
      ],
      "metadata": {
        "id": "4jHHRrvj0pcr"
      }
    },
    {
      "cell_type": "code",
      "source": [
        "weights = model_1.get_layer('embedding').get_weights()[0]\n",
        "weights"
      ],
      "metadata": {
        "colab": {
          "base_uri": "https://localhost:8080/"
        },
        "id": "M9sc4sf0pUVs",
        "outputId": "f3b51833-fc80-4045-ebc8-208fb29bc947"
      },
      "execution_count": 47,
      "outputs": [
        {
          "output_type": "execute_result",
          "data": {
            "text/plain": [
              "array([[ 6.72750473e-02, -1.76332802e-01, -5.75478747e-02, ...,\n",
              "        -8.55744630e-02,  3.81814130e-02, -5.85654303e-02],\n",
              "       [ 2.64278296e-02, -2.69873887e-01, -1.02824077e-03, ...,\n",
              "        -6.11876994e-02,  5.99630997e-02, -6.99323714e-02],\n",
              "       [ 3.34783010e-02, -1.62255123e-01, -6.51154760e-03, ...,\n",
              "        -5.86111173e-02,  5.27028628e-02, -3.73361073e-02],\n",
              "       ...,\n",
              "       [-9.25147235e-02,  1.03823304e-01,  1.30998969e-01, ...,\n",
              "         1.04183078e-01,  1.57411963e-01,  1.66003808e-01],\n",
              "       [ 1.20862693e-01, -1.22856744e-01, -7.78003335e-02, ...,\n",
              "        -1.08233266e-01, -1.08015358e-01, -7.39322603e-02],\n",
              "       [ 5.19361565e-05, -1.34559916e-02, -5.54656312e-02, ...,\n",
              "        -5.95826246e-02, -4.73720282e-02, -4.97975610e-02]], dtype=float32)"
            ]
          },
          "metadata": {},
          "execution_count": 47
        }
      ]
    },
    {
      "cell_type": "code",
      "source": [
        "weights.shape"
      ],
      "metadata": {
        "colab": {
          "base_uri": "https://localhost:8080/"
        },
        "id": "LYur0NNc0UJp",
        "outputId": "d43a56fa-619f-40c5-aa9c-64854c4497f5"
      },
      "execution_count": 48,
      "outputs": [
        {
          "output_type": "execute_result",
          "data": {
            "text/plain": [
              "(10000, 32)"
            ]
          },
          "metadata": {},
          "execution_count": 48
        }
      ]
    },
    {
      "cell_type": "code",
      "source": [
        "vocab = text_vectorizer.get_vocabulary()\n",
        "vocab[:10]"
      ],
      "metadata": {
        "colab": {
          "base_uri": "https://localhost:8080/"
        },
        "id": "gQooUcMe0ob1",
        "outputId": "04f6c10e-05f2-437e-f3b7-829d4de0d3e8"
      },
      "execution_count": 49,
      "outputs": [
        {
          "output_type": "execute_result",
          "data": {
            "text/plain": [
              "['', '[UNK]', 'the', 'a', 'in', 'to', 'of', 'and', 'i', 'is']"
            ]
          },
          "metadata": {},
          "execution_count": 49
        }
      ]
    },
    {
      "cell_type": "code",
      "source": [
        "import io\n",
        "out_v = io.open('vectors.tsv', 'w', encoding='utf-8')\n",
        "out_m = io.open('metadata.tsv', 'w', encoding='utf-8')\n",
        "\n",
        "for index, word in enumerate(vocab):\n",
        "  if index == 0:\n",
        "    continue  # skip 0, it's padding.\n",
        "  vec = weights[index]\n",
        "  out_v.write('\\t'.join([str(x) for x in vec]) + \"\\n\")\n",
        "  out_m.write(word + \"\\n\")\n",
        "out_v.close()\n",
        "out_m.close()"
      ],
      "metadata": {
        "id": "Ln_QVjQ_Ieig"
      },
      "execution_count": 50,
      "outputs": []
    },
    {
      "cell_type": "code",
      "source": [
        "# try:\n",
        "#   from google.colab import files\n",
        "#   files.download('vectors.tsv')\n",
        "#   files.download('metadata.tsv')\n",
        "# except Exception:\n",
        "#   pass"
      ],
      "metadata": {
        "id": "7XH4_JyrItP-"
      },
      "execution_count": 51,
      "outputs": []
    },
    {
      "cell_type": "markdown",
      "source": [
        "Then, use [Embedding Projector](http://projector.tensorflow.org/) to Visualize the embeddings"
      ],
      "metadata": {
        "id": "Rz0TllBkI6_E"
      }
    },
    {
      "cell_type": "markdown",
      "source": [
        "## Analyzie with LSTM model:"
      ],
      "metadata": {
        "id": "Se_weCsVw0NK"
      }
    },
    {
      "cell_type": "code",
      "source": [
        "inputs = tf.keras.layers.Input(shape= (1), dtype = tf.string)\n",
        "\n",
        "x = text_vectorizer(inputs)\n",
        "\n",
        "x = embedding(x)\n",
        "\n",
        "# x = tf.transpose(x , perm = [0,2,1])\n",
        "\n",
        "# print(x.shape)\n",
        "\n",
        "# x = tf.keras.layers.Flatten()(x)\n",
        "\n",
        "x = tf.keras.layers.LSTM(64,  return_sequences=True)(x)\n",
        "x = tf.keras.layers.LSTM(32)(x)\n",
        "\n",
        "x = tf.keras.layers.Dense(16, activation='relu')(x)\n",
        "outputs = tf.keras.layers.Dense(1, activation='sigmoid')(x)\n",
        "\n",
        "model_2 = tf.keras.Model(inputs,outputs, name='LSTM')"
      ],
      "metadata": {
        "id": "96Qi40rIw5GI"
      },
      "execution_count": 52,
      "outputs": []
    },
    {
      "cell_type": "code",
      "source": [
        "model_2.summary()"
      ],
      "metadata": {
        "colab": {
          "base_uri": "https://localhost:8080/"
        },
        "outputId": "0ef9d4ed-ac90-4b10-d500-696cd3bb7287",
        "id": "vKSzooeIw5GJ"
      },
      "execution_count": 53,
      "outputs": [
        {
          "output_type": "stream",
          "name": "stdout",
          "text": [
            "Model: \"LSTM\"\n",
            "_________________________________________________________________\n",
            " Layer (type)                Output Shape              Param #   \n",
            "=================================================================\n",
            " input_2 (InputLayer)        [(None, 1)]               0         \n",
            "                                                                 \n",
            " text_vectorization (TextVec  (None, 15)               0         \n",
            " torization)                                                     \n",
            "                                                                 \n",
            " embedding (Embedding)       (None, 15, 32)            320000    \n",
            "                                                                 \n",
            " lstm (LSTM)                 (None, 15, 64)            24832     \n",
            "                                                                 \n",
            " lstm_1 (LSTM)               (None, 32)                12416     \n",
            "                                                                 \n",
            " dense_2 (Dense)             (None, 16)                528       \n",
            "                                                                 \n",
            " dense_3 (Dense)             (None, 1)                 17        \n",
            "                                                                 \n",
            "=================================================================\n",
            "Total params: 357,793\n",
            "Trainable params: 357,793\n",
            "Non-trainable params: 0\n",
            "_________________________________________________________________\n"
          ]
        }
      ]
    },
    {
      "cell_type": "code",
      "source": [
        "model_2.compile(loss = tf.keras.losses.BinaryCrossentropy(),\n",
        "                 optimizer = tf.keras.optimizers.Adam(),\n",
        "                 metrics= ['accuracy'])"
      ],
      "metadata": {
        "id": "ewHkj2ZXw5GJ"
      },
      "execution_count": 54,
      "outputs": []
    },
    {
      "cell_type": "code",
      "source": [
        "# !rm -rf './tensorboard/RNN'"
      ],
      "metadata": {
        "id": "LpIUPzhiw5GK"
      },
      "execution_count": 55,
      "outputs": []
    },
    {
      "cell_type": "code",
      "source": [
        "history_2 = model_2.fit(train_data, \n",
        "            train_label, \n",
        "            validation_data = (val_data,val_label), \n",
        "            epochs=10, \n",
        "            callbacks=[create_tensorboard_callback('tensorboard','LSTM')])"
      ],
      "metadata": {
        "colab": {
          "base_uri": "https://localhost:8080/"
        },
        "outputId": "a4d364a6-65d6-447c-dd90-92d28c4ced2a",
        "id": "PSI6IaAhw5GK"
      },
      "execution_count": 56,
      "outputs": [
        {
          "output_type": "stream",
          "name": "stdout",
          "text": [
            "Saving TensorBoard log files to: tensorboard/LSTM/20220831-035618\n",
            "Epoch 1/10\n",
            "203/203 [==============================] - 9s 25ms/step - loss: 0.1708 - accuracy: 0.9278 - val_loss: 0.8310 - val_accuracy: 0.7294\n",
            "Epoch 2/10\n",
            "203/203 [==============================] - 4s 20ms/step - loss: 0.0790 - accuracy: 0.9683 - val_loss: 0.9363 - val_accuracy: 0.7706\n",
            "Epoch 3/10\n",
            "203/203 [==============================] - 4s 20ms/step - loss: 0.0638 - accuracy: 0.9726 - val_loss: 0.9658 - val_accuracy: 0.7426\n",
            "Epoch 4/10\n",
            "203/203 [==============================] - 4s 19ms/step - loss: 0.0550 - accuracy: 0.9793 - val_loss: 1.3280 - val_accuracy: 0.7356\n",
            "Epoch 5/10\n",
            "203/203 [==============================] - 4s 21ms/step - loss: 0.0474 - accuracy: 0.9791 - val_loss: 1.4665 - val_accuracy: 0.7592\n",
            "Epoch 6/10\n",
            "203/203 [==============================] - 4s 20ms/step - loss: 0.0445 - accuracy: 0.9804 - val_loss: 1.3453 - val_accuracy: 0.7601\n",
            "Epoch 7/10\n",
            "203/203 [==============================] - 4s 21ms/step - loss: 0.0429 - accuracy: 0.9808 - val_loss: 1.3953 - val_accuracy: 0.7434\n",
            "Epoch 8/10\n",
            "203/203 [==============================] - 4s 20ms/step - loss: 0.0371 - accuracy: 0.9830 - val_loss: 1.7361 - val_accuracy: 0.7688\n",
            "Epoch 9/10\n",
            "203/203 [==============================] - 4s 20ms/step - loss: 0.0382 - accuracy: 0.9827 - val_loss: 1.7182 - val_accuracy: 0.7636\n",
            "Epoch 10/10\n",
            "203/203 [==============================] - 6s 29ms/step - loss: 0.0396 - accuracy: 0.9818 - val_loss: 1.4876 - val_accuracy: 0.7557\n"
          ]
        }
      ]
    },
    {
      "cell_type": "code",
      "source": [
        "model_2.evaluate(val_data,val_label)"
      ],
      "metadata": {
        "colab": {
          "base_uri": "https://localhost:8080/"
        },
        "outputId": "7dca7cc2-e583-45e9-bf54-0643bc0e1894",
        "id": "mjcfDDe9w5GK"
      },
      "execution_count": 57,
      "outputs": [
        {
          "output_type": "stream",
          "name": "stdout",
          "text": [
            "36/36 [==============================] - 0s 5ms/step - loss: 1.4876 - accuracy: 0.7557\n"
          ]
        },
        {
          "output_type": "execute_result",
          "data": {
            "text/plain": [
              "[1.4876171350479126, 0.7556917667388916]"
            ]
          },
          "metadata": {},
          "execution_count": 57
        }
      ]
    },
    {
      "cell_type": "code",
      "source": [],
      "metadata": {
        "id": "NM4rRrVPw5GK"
      },
      "execution_count": 57,
      "outputs": []
    },
    {
      "cell_type": "markdown",
      "source": [
        "### custom tweets:"
      ],
      "metadata": {
        "id": "BBYFxBg89rOA"
      }
    },
    {
      "cell_type": "code",
      "source": [
        "tweets=['earthquake hit california minutes ago', \n",
        "        'my car on fire now', \n",
        "        'I need a blue car']"
      ],
      "metadata": {
        "id": "idKzKyOyw5GL"
      },
      "execution_count": 58,
      "outputs": []
    },
    {
      "cell_type": "code",
      "source": [
        "model_2.predict(tweets)"
      ],
      "metadata": {
        "colab": {
          "base_uri": "https://localhost:8080/"
        },
        "id": "uHeDjk2jyevi",
        "outputId": "188a459d-8b81-4c61-c3ce-c0cf1abbcf66"
      },
      "execution_count": 59,
      "outputs": [
        {
          "output_type": "execute_result",
          "data": {
            "text/plain": [
              "array([[9.9969971e-01],\n",
              "       [9.9680465e-01],\n",
              "       [4.8527122e-04]], dtype=float32)"
            ]
          },
          "metadata": {},
          "execution_count": 59
        }
      ]
    },
    {
      "cell_type": "code",
      "source": [],
      "metadata": {
        "id": "A7Dt-XsZ9f1V"
      },
      "execution_count": 59,
      "outputs": []
    },
    {
      "cell_type": "markdown",
      "source": [
        "## Analyzie with GRU model:"
      ],
      "metadata": {
        "id": "3ZDWKXF0BFJk"
      }
    },
    {
      "cell_type": "code",
      "source": [
        "inputs = tf.keras.layers.Input(shape= (1), dtype = tf.string)\n",
        "\n",
        "x = text_vectorizer(inputs)\n",
        "\n",
        "x = embedding(x)\n",
        "\n",
        "# x = tf.transpose(x , perm = [0,2,1])\n",
        "\n",
        "# print(x.shape)\n",
        "\n",
        "# x = tf.keras.layers.Flatten()(x)\n",
        "\n",
        "x = tf.keras.layers.GRU(64,  return_sequences=True)(x)\n",
        "x = tf.keras.layers.GRU(32)(x)\n",
        "\n",
        "x = tf.keras.layers.Dense(16, activation='relu')(x)\n",
        "outputs = tf.keras.layers.Dense(1, activation='sigmoid')(x)\n",
        "\n",
        "model_3 = tf.keras.Model(inputs,outputs, name='GRU')"
      ],
      "metadata": {
        "id": "Ld1eX0UYBFJw"
      },
      "execution_count": 60,
      "outputs": []
    },
    {
      "cell_type": "code",
      "source": [
        "model_3.summary()"
      ],
      "metadata": {
        "colab": {
          "base_uri": "https://localhost:8080/"
        },
        "outputId": "35889449-27ae-41b9-ddd8-5bdd94c04d2e",
        "id": "W0udNZXqBFJx"
      },
      "execution_count": 61,
      "outputs": [
        {
          "output_type": "stream",
          "name": "stdout",
          "text": [
            "Model: \"GRU\"\n",
            "_________________________________________________________________\n",
            " Layer (type)                Output Shape              Param #   \n",
            "=================================================================\n",
            " input_3 (InputLayer)        [(None, 1)]               0         \n",
            "                                                                 \n",
            " text_vectorization (TextVec  (None, 15)               0         \n",
            " torization)                                                     \n",
            "                                                                 \n",
            " embedding (Embedding)       (None, 15, 32)            320000    \n",
            "                                                                 \n",
            " gru (GRU)                   (None, 15, 64)            18816     \n",
            "                                                                 \n",
            " gru_1 (GRU)                 (None, 32)                9408      \n",
            "                                                                 \n",
            " dense_4 (Dense)             (None, 16)                528       \n",
            "                                                                 \n",
            " dense_5 (Dense)             (None, 1)                 17        \n",
            "                                                                 \n",
            "=================================================================\n",
            "Total params: 348,769\n",
            "Trainable params: 348,769\n",
            "Non-trainable params: 0\n",
            "_________________________________________________________________\n"
          ]
        }
      ]
    },
    {
      "cell_type": "code",
      "source": [
        "model_3.compile(loss = tf.keras.losses.BinaryCrossentropy(),\n",
        "                 optimizer = tf.keras.optimizers.Adam(),\n",
        "                 metrics= ['accuracy'])"
      ],
      "metadata": {
        "id": "FM8D4MAjBFJx"
      },
      "execution_count": 62,
      "outputs": []
    },
    {
      "cell_type": "code",
      "source": [
        "# !rm -rf './tensorboard/RNN'"
      ],
      "metadata": {
        "id": "CzkqipA3BFJy"
      },
      "execution_count": 63,
      "outputs": []
    },
    {
      "cell_type": "code",
      "source": [
        "history_3 = model_3.fit(train_data, \n",
        "            train_label, \n",
        "            validation_data = (val_data,val_label), \n",
        "            epochs=10, \n",
        "            callbacks=[create_tensorboard_callback('tensorboard','GRU')])"
      ],
      "metadata": {
        "colab": {
          "base_uri": "https://localhost:8080/"
        },
        "outputId": "257daa4d-3909-4f5c-a00e-2ee866eb2b8a",
        "id": "GE7mHiR0BFJy"
      },
      "execution_count": 64,
      "outputs": [
        {
          "output_type": "stream",
          "name": "stdout",
          "text": [
            "Saving TensorBoard log files to: tensorboard/GRU/20220831-035745\n",
            "Epoch 1/10\n",
            "203/203 [==============================] - 9s 23ms/step - loss: 0.1365 - accuracy: 0.9499 - val_loss: 0.8891 - val_accuracy: 0.7636\n",
            "Epoch 2/10\n",
            "203/203 [==============================] - 4s 20ms/step - loss: 0.0569 - accuracy: 0.9790 - val_loss: 0.8330 - val_accuracy: 0.7636\n",
            "Epoch 3/10\n",
            "203/203 [==============================] - 4s 21ms/step - loss: 0.0512 - accuracy: 0.9801 - val_loss: 1.0651 - val_accuracy: 0.7601\n",
            "Epoch 4/10\n",
            "203/203 [==============================] - 4s 20ms/step - loss: 0.0410 - accuracy: 0.9804 - val_loss: 1.3184 - val_accuracy: 0.7504\n",
            "Epoch 5/10\n",
            "203/203 [==============================] - 5s 26ms/step - loss: 0.0425 - accuracy: 0.9804 - val_loss: 1.2942 - val_accuracy: 0.7601\n",
            "Epoch 6/10\n",
            "203/203 [==============================] - 4s 19ms/step - loss: 0.0384 - accuracy: 0.9825 - val_loss: 1.5536 - val_accuracy: 0.7487\n",
            "Epoch 7/10\n",
            "203/203 [==============================] - 4s 20ms/step - loss: 0.0326 - accuracy: 0.9833 - val_loss: 1.5699 - val_accuracy: 0.7522\n",
            "Epoch 8/10\n",
            "203/203 [==============================] - 4s 21ms/step - loss: 0.0304 - accuracy: 0.9842 - val_loss: 1.5646 - val_accuracy: 0.7478\n",
            "Epoch 9/10\n",
            "203/203 [==============================] - 4s 21ms/step - loss: 0.0287 - accuracy: 0.9836 - val_loss: 1.8715 - val_accuracy: 0.7469\n",
            "Epoch 10/10\n",
            "203/203 [==============================] - 5s 22ms/step - loss: 0.0285 - accuracy: 0.9852 - val_loss: 1.9333 - val_accuracy: 0.7443\n"
          ]
        }
      ]
    },
    {
      "cell_type": "code",
      "source": [
        "model_3.evaluate(val_data,val_label)"
      ],
      "metadata": {
        "colab": {
          "base_uri": "https://localhost:8080/"
        },
        "outputId": "f979e0bb-58ed-474b-b127-1a0be3dcfcf3",
        "id": "EQSrAuvnBFJy"
      },
      "execution_count": 65,
      "outputs": [
        {
          "output_type": "stream",
          "name": "stdout",
          "text": [
            "36/36 [==============================] - 0s 4ms/step - loss: 1.9333 - accuracy: 0.7443\n"
          ]
        },
        {
          "output_type": "execute_result",
          "data": {
            "text/plain": [
              "[1.9332919120788574, 0.7443082332611084]"
            ]
          },
          "metadata": {},
          "execution_count": 65
        }
      ]
    },
    {
      "cell_type": "code",
      "source": [],
      "metadata": {
        "id": "2EljkEvZBFJz"
      },
      "execution_count": 65,
      "outputs": []
    },
    {
      "cell_type": "markdown",
      "source": [
        "### custom tweets:"
      ],
      "metadata": {
        "id": "giM2haACBFJz"
      }
    },
    {
      "cell_type": "code",
      "source": [
        "tweets=['earthquake hit california minutes ago', \n",
        "        'my car on fire now', \n",
        "        'I need a blue car']"
      ],
      "metadata": {
        "id": "WimAgDgPBFJz"
      },
      "execution_count": 66,
      "outputs": []
    },
    {
      "cell_type": "code",
      "source": [
        "model_3.predict(tweets)"
      ],
      "metadata": {
        "colab": {
          "base_uri": "https://localhost:8080/"
        },
        "outputId": "82339df1-d251-491c-8234-755769196577",
        "id": "Na1chl1DBFJz"
      },
      "execution_count": 67,
      "outputs": [
        {
          "output_type": "execute_result",
          "data": {
            "text/plain": [
              "array([[9.9997616e-01],\n",
              "       [9.9991935e-01],\n",
              "       [4.3305921e-05]], dtype=float32)"
            ]
          },
          "metadata": {},
          "execution_count": 67
        }
      ]
    },
    {
      "cell_type": "code",
      "source": [],
      "metadata": {
        "id": "lwqKsiKmBmPF"
      },
      "execution_count": 67,
      "outputs": []
    },
    {
      "cell_type": "markdown",
      "source": [
        "## Analyzie with Bidirectional LSTM model:"
      ],
      "metadata": {
        "id": "dG8bfSq4Ij4e"
      }
    },
    {
      "cell_type": "code",
      "source": [
        "inputs = tf.keras.layers.Input(shape= (1), dtype = tf.string)\n",
        "\n",
        "x = text_vectorizer(inputs)\n",
        "\n",
        "x = embedding(x)\n",
        "\n",
        "# x = tf.transpose(x , perm = [0,2,1])\n",
        "\n",
        "# print(x.shape)\n",
        "\n",
        "# x = tf.keras.layers.Flatten()(x)\n",
        "\n",
        "x = tf.keras.layers.Bidirectional(tf.keras.layers.LSTM(64,  return_sequences=True))(x)\n",
        "x = tf.keras.layers.Bidirectional(tf.keras.layers.LSTM(32))(x)\n",
        "\n",
        "\n",
        "x = tf.keras.layers.Dense(16, activation='relu')(x)\n",
        "outputs = tf.keras.layers.Dense(1, activation='sigmoid')(x)\n",
        "\n",
        "model_4 = tf.keras.Model(inputs,outputs, name='Bidirectional-LSTM')"
      ],
      "metadata": {
        "id": "1Aori1liIj4r"
      },
      "execution_count": 68,
      "outputs": []
    },
    {
      "cell_type": "code",
      "source": [
        "model_4.summary()"
      ],
      "metadata": {
        "colab": {
          "base_uri": "https://localhost:8080/"
        },
        "outputId": "0ab3b1f8-29f7-41ca-99f0-c4e0073b5341",
        "id": "K89-Rp0lIj4s"
      },
      "execution_count": 69,
      "outputs": [
        {
          "output_type": "stream",
          "name": "stdout",
          "text": [
            "Model: \"Bidirectional-LSTM\"\n",
            "_________________________________________________________________\n",
            " Layer (type)                Output Shape              Param #   \n",
            "=================================================================\n",
            " input_4 (InputLayer)        [(None, 1)]               0         \n",
            "                                                                 \n",
            " text_vectorization (TextVec  (None, 15)               0         \n",
            " torization)                                                     \n",
            "                                                                 \n",
            " embedding (Embedding)       (None, 15, 32)            320000    \n",
            "                                                                 \n",
            " bidirectional (Bidirectiona  (None, 15, 128)          49664     \n",
            " l)                                                              \n",
            "                                                                 \n",
            " bidirectional_1 (Bidirectio  (None, 64)               41216     \n",
            " nal)                                                            \n",
            "                                                                 \n",
            " dense_6 (Dense)             (None, 16)                1040      \n",
            "                                                                 \n",
            " dense_7 (Dense)             (None, 1)                 17        \n",
            "                                                                 \n",
            "=================================================================\n",
            "Total params: 411,937\n",
            "Trainable params: 411,937\n",
            "Non-trainable params: 0\n",
            "_________________________________________________________________\n"
          ]
        }
      ]
    },
    {
      "cell_type": "code",
      "source": [
        "model_4.compile(loss = tf.keras.losses.BinaryCrossentropy(),\n",
        "                 optimizer = tf.keras.optimizers.Adam(),\n",
        "                 metrics= ['accuracy'])"
      ],
      "metadata": {
        "id": "dw5ywdyXIj4s"
      },
      "execution_count": 70,
      "outputs": []
    },
    {
      "cell_type": "code",
      "source": [
        "# !rm -rf './tensorboard/RNN'"
      ],
      "metadata": {
        "id": "4kmDBN-FIj4s"
      },
      "execution_count": 71,
      "outputs": []
    },
    {
      "cell_type": "code",
      "source": [
        "history_4 = model_4.fit(train_data, \n",
        "            train_label, \n",
        "            validation_data = (val_data,val_label), \n",
        "            epochs=10, \n",
        "            callbacks=[create_tensorboard_callback('tensorboard','Bidirectional-LSTM')])"
      ],
      "metadata": {
        "colab": {
          "base_uri": "https://localhost:8080/"
        },
        "outputId": "7aa1f207-a624-4eae-ead3-394d8f057b12",
        "id": "NCWr2KYoIj4s"
      },
      "execution_count": 72,
      "outputs": [
        {
          "output_type": "stream",
          "name": "stdout",
          "text": [
            "Saving TensorBoard log files to: tensorboard/Bidirectional-LSTM/20220831-035835\n",
            "Epoch 1/10\n",
            "203/203 [==============================] - 15s 39ms/step - loss: 0.1070 - accuracy: 0.9618 - val_loss: 0.8702 - val_accuracy: 0.7539\n",
            "Epoch 2/10\n",
            "203/203 [==============================] - 7s 33ms/step - loss: 0.0357 - accuracy: 0.9825 - val_loss: 1.3998 - val_accuracy: 0.7513\n",
            "Epoch 3/10\n",
            "203/203 [==============================] - 6s 32ms/step - loss: 0.0367 - accuracy: 0.9830 - val_loss: 1.8597 - val_accuracy: 0.7137\n",
            "Epoch 4/10\n",
            "203/203 [==============================] - 8s 38ms/step - loss: 0.0354 - accuracy: 0.9824 - val_loss: 1.6636 - val_accuracy: 0.7408\n",
            "Epoch 5/10\n",
            "203/203 [==============================] - 8s 38ms/step - loss: 0.0307 - accuracy: 0.9844 - val_loss: 1.6903 - val_accuracy: 0.7566\n",
            "Epoch 6/10\n",
            "203/203 [==============================] - 7s 34ms/step - loss: 0.0278 - accuracy: 0.9856 - val_loss: 2.0564 - val_accuracy: 0.7399\n",
            "Epoch 7/10\n",
            "203/203 [==============================] - 7s 34ms/step - loss: 0.0277 - accuracy: 0.9855 - val_loss: 2.0363 - val_accuracy: 0.7461\n",
            "Epoch 8/10\n",
            "203/203 [==============================] - 7s 33ms/step - loss: 0.0346 - accuracy: 0.9832 - val_loss: 1.3830 - val_accuracy: 0.7653\n",
            "Epoch 9/10\n",
            "203/203 [==============================] - 7s 34ms/step - loss: 0.0381 - accuracy: 0.9822 - val_loss: 1.3190 - val_accuracy: 0.7303\n",
            "Epoch 10/10\n",
            "203/203 [==============================] - 7s 33ms/step - loss: 0.0295 - accuracy: 0.9832 - val_loss: 1.7516 - val_accuracy: 0.7504\n"
          ]
        }
      ]
    },
    {
      "cell_type": "code",
      "source": [
        "model_4.evaluate(val_data,val_label)"
      ],
      "metadata": {
        "colab": {
          "base_uri": "https://localhost:8080/"
        },
        "outputId": "74c981e7-d2fe-4c17-dbd8-6918943d8605",
        "id": "Hz81WvjzIj4s"
      },
      "execution_count": 73,
      "outputs": [
        {
          "output_type": "stream",
          "name": "stdout",
          "text": [
            "36/36 [==============================] - 0s 8ms/step - loss: 1.7516 - accuracy: 0.7504\n"
          ]
        },
        {
          "output_type": "execute_result",
          "data": {
            "text/plain": [
              "[1.7515912055969238, 0.75043785572052]"
            ]
          },
          "metadata": {},
          "execution_count": 73
        }
      ]
    },
    {
      "cell_type": "code",
      "source": [],
      "metadata": {
        "id": "HCKNG6feIj4t"
      },
      "execution_count": 73,
      "outputs": []
    },
    {
      "cell_type": "markdown",
      "source": [
        "### custom tweets:"
      ],
      "metadata": {
        "id": "4ZxyGjzKIj4t"
      }
    },
    {
      "cell_type": "code",
      "source": [
        "tweets=['earthquake hit california minutes ago', \n",
        "        'my car on fire now', \n",
        "        'I need a blue car']"
      ],
      "metadata": {
        "id": "n16CzxO9Ij4t"
      },
      "execution_count": 74,
      "outputs": []
    },
    {
      "cell_type": "code",
      "source": [
        "model_4.predict(tweets)"
      ],
      "metadata": {
        "colab": {
          "base_uri": "https://localhost:8080/"
        },
        "outputId": "c4d86979-0844-4ed3-827c-72ca9731110c",
        "id": "shnCstY6Ij4u"
      },
      "execution_count": 75,
      "outputs": [
        {
          "output_type": "execute_result",
          "data": {
            "text/plain": [
              "array([[9.9998093e-01],\n",
              "       [9.9994528e-01],\n",
              "       [1.1833711e-04]], dtype=float32)"
            ]
          },
          "metadata": {},
          "execution_count": 75
        }
      ]
    },
    {
      "cell_type": "code",
      "source": [],
      "metadata": {
        "id": "vrSBDvF6BmG9"
      },
      "execution_count": 75,
      "outputs": []
    },
    {
      "cell_type": "markdown",
      "source": [
        "## Analyzie with Convolutional 1D model:"
      ],
      "metadata": {
        "id": "NGmhMl5XLRID"
      }
    },
    {
      "cell_type": "code",
      "source": [
        "inputs = tf.keras.layers.Input(shape= (1), dtype = tf.string)\n",
        "\n",
        "x = text_vectorizer(inputs)\n",
        "\n",
        "x = embedding(x)\n",
        "\n",
        "# x = tf.transpose(x , perm = [0,2,1])\n",
        "\n",
        "# print(x.shape)\n",
        "\n",
        "# x = tf.keras.layers.Flatten()(x)\n",
        "print(x.shape)\n",
        "\n",
        "x = tf.keras.layers.Conv1D(filters=64, kernel_size=3,padding= 'valid')(x)\n",
        "print(x.shape)\n",
        "x = tf.keras.layers.Conv1D(filters=128, kernel_size=3,padding= 'valid')(x)\n",
        "print(x.shape)\n",
        "\n",
        "x = tf.keras.layers.GlobalAveragePooling1D()(x)\n",
        "x = tf.keras.layers.Dense(16, activation='relu')(x)\n",
        "outputs = tf.keras.layers.Dense(1, activation='sigmoid')(x)\n",
        "\n",
        "model_5 = tf.keras.Model(inputs,outputs, name='Bidirectional-LSTM')"
      ],
      "metadata": {
        "colab": {
          "base_uri": "https://localhost:8080/"
        },
        "id": "m0_DjJQMLRIV",
        "outputId": "17b14e40-63f0-41b0-f97c-1752fcb83e29"
      },
      "execution_count": 76,
      "outputs": [
        {
          "output_type": "stream",
          "name": "stdout",
          "text": [
            "(None, 15, 32)\n",
            "(None, 13, 64)\n",
            "(None, 11, 128)\n"
          ]
        }
      ]
    },
    {
      "cell_type": "code",
      "source": [
        "model_5.summary()"
      ],
      "metadata": {
        "colab": {
          "base_uri": "https://localhost:8080/"
        },
        "outputId": "4343c963-931b-418f-9918-05e40d58d780",
        "id": "fuBsX9TqLRIV"
      },
      "execution_count": 77,
      "outputs": [
        {
          "output_type": "stream",
          "name": "stdout",
          "text": [
            "Model: \"Bidirectional-LSTM\"\n",
            "_________________________________________________________________\n",
            " Layer (type)                Output Shape              Param #   \n",
            "=================================================================\n",
            " input_5 (InputLayer)        [(None, 1)]               0         \n",
            "                                                                 \n",
            " text_vectorization (TextVec  (None, 15)               0         \n",
            " torization)                                                     \n",
            "                                                                 \n",
            " embedding (Embedding)       (None, 15, 32)            320000    \n",
            "                                                                 \n",
            " conv1d (Conv1D)             (None, 13, 64)            6208      \n",
            "                                                                 \n",
            " conv1d_1 (Conv1D)           (None, 11, 128)           24704     \n",
            "                                                                 \n",
            " global_average_pooling1d_1   (None, 128)              0         \n",
            " (GlobalAveragePooling1D)                                        \n",
            "                                                                 \n",
            " dense_8 (Dense)             (None, 16)                2064      \n",
            "                                                                 \n",
            " dense_9 (Dense)             (None, 1)                 17        \n",
            "                                                                 \n",
            "=================================================================\n",
            "Total params: 352,993\n",
            "Trainable params: 352,993\n",
            "Non-trainable params: 0\n",
            "_________________________________________________________________\n"
          ]
        }
      ]
    },
    {
      "cell_type": "code",
      "source": [
        "model_5.compile(loss = tf.keras.losses.BinaryCrossentropy(),\n",
        "                 optimizer = tf.keras.optimizers.Adam(),\n",
        "                 metrics= ['accuracy'])"
      ],
      "metadata": {
        "id": "gZCydmCELRIW"
      },
      "execution_count": 78,
      "outputs": []
    },
    {
      "cell_type": "code",
      "source": [
        "# !rm -rf './tensorboard/RNN'"
      ],
      "metadata": {
        "id": "4gOQ70YcLRIW"
      },
      "execution_count": 79,
      "outputs": []
    },
    {
      "cell_type": "code",
      "source": [
        "history_5 = model_5.fit(train_data, \n",
        "            train_label, \n",
        "            validation_data = (val_data,val_label), \n",
        "            epochs=10, \n",
        "            callbacks=[create_tensorboard_callback('tensorboard','Bidirectional-LSTM')])"
      ],
      "metadata": {
        "colab": {
          "base_uri": "https://localhost:8080/"
        },
        "outputId": "7a1c0574-8d1d-4b1c-9017-cd49047d3dde",
        "id": "q-hAiYEkLRIW"
      },
      "execution_count": 80,
      "outputs": [
        {
          "output_type": "stream",
          "name": "stdout",
          "text": [
            "Saving TensorBoard log files to: tensorboard/Bidirectional-LSTM/20220831-035955\n",
            "Epoch 1/10\n",
            "203/203 [==============================] - 3s 11ms/step - loss: 0.1321 - accuracy: 0.9566 - val_loss: 0.8825 - val_accuracy: 0.7539\n",
            "Epoch 2/10\n",
            "203/203 [==============================] - 2s 10ms/step - loss: 0.0606 - accuracy: 0.9745 - val_loss: 1.1966 - val_accuracy: 0.7329\n",
            "Epoch 3/10\n",
            "203/203 [==============================] - 2s 10ms/step - loss: 0.0426 - accuracy: 0.9802 - val_loss: 1.5662 - val_accuracy: 0.7294\n",
            "Epoch 4/10\n",
            "203/203 [==============================] - 2s 10ms/step - loss: 0.0374 - accuracy: 0.9825 - val_loss: 1.6455 - val_accuracy: 0.7408\n",
            "Epoch 5/10\n",
            "203/203 [==============================] - 2s 9ms/step - loss: 0.0370 - accuracy: 0.9813 - val_loss: 1.8228 - val_accuracy: 0.7426\n",
            "Epoch 6/10\n",
            "203/203 [==============================] - 2s 10ms/step - loss: 0.0336 - accuracy: 0.9828 - val_loss: 1.8145 - val_accuracy: 0.7312\n",
            "Epoch 7/10\n",
            "203/203 [==============================] - 3s 13ms/step - loss: 0.0318 - accuracy: 0.9830 - val_loss: 2.1336 - val_accuracy: 0.7408\n",
            "Epoch 8/10\n",
            "203/203 [==============================] - 2s 10ms/step - loss: 0.0319 - accuracy: 0.9832 - val_loss: 1.9594 - val_accuracy: 0.7452\n",
            "Epoch 9/10\n",
            "203/203 [==============================] - 2s 11ms/step - loss: 0.0306 - accuracy: 0.9827 - val_loss: 2.0941 - val_accuracy: 0.7504\n",
            "Epoch 10/10\n",
            "203/203 [==============================] - 3s 17ms/step - loss: 0.0308 - accuracy: 0.9852 - val_loss: 2.0272 - val_accuracy: 0.7496\n"
          ]
        }
      ]
    },
    {
      "cell_type": "code",
      "source": [
        "model_5.evaluate(val_data,val_label)"
      ],
      "metadata": {
        "colab": {
          "base_uri": "https://localhost:8080/"
        },
        "outputId": "4d21748b-7ac1-4509-f8a9-fa037794cea7",
        "id": "-_9MOlsjLRIX"
      },
      "execution_count": 81,
      "outputs": [
        {
          "output_type": "stream",
          "name": "stdout",
          "text": [
            "36/36 [==============================] - 0s 6ms/step - loss: 2.0272 - accuracy: 0.7496\n"
          ]
        },
        {
          "output_type": "execute_result",
          "data": {
            "text/plain": [
              "[2.027242422103882, 0.74956214427948]"
            ]
          },
          "metadata": {},
          "execution_count": 81
        }
      ]
    },
    {
      "cell_type": "code",
      "source": [],
      "metadata": {
        "id": "iGKX_POcLRIX"
      },
      "execution_count": 81,
      "outputs": []
    },
    {
      "cell_type": "markdown",
      "source": [
        "### custom tweets:"
      ],
      "metadata": {
        "id": "4c3Rns-8LRIY"
      }
    },
    {
      "cell_type": "code",
      "source": [
        "tweets=['earthquake hit california minutes ago', \n",
        "        'my car on fire now', \n",
        "        'I need a blue car']"
      ],
      "metadata": {
        "id": "SjqL2o1ZLRIY"
      },
      "execution_count": 82,
      "outputs": []
    },
    {
      "cell_type": "code",
      "source": [
        "model_5.predict(tweets)"
      ],
      "metadata": {
        "colab": {
          "base_uri": "https://localhost:8080/"
        },
        "outputId": "69733586-7936-4b18-bcd0-4d7f30770819",
        "id": "07qcheEHLRIY"
      },
      "execution_count": 83,
      "outputs": [
        {
          "output_type": "stream",
          "name": "stderr",
          "text": [
            "WARNING:tensorflow:5 out of the last 5 calls to <function Model.make_predict_function.<locals>.predict_function at 0x7faf574360e0> triggered tf.function retracing. Tracing is expensive and the excessive number of tracings could be due to (1) creating @tf.function repeatedly in a loop, (2) passing tensors with different shapes, (3) passing Python objects instead of tensors. For (1), please define your @tf.function outside of the loop. For (2), @tf.function has experimental_relax_shapes=True option that relaxes argument shapes that can avoid unnecessary retracing. For (3), please refer to https://www.tensorflow.org/guide/function#controlling_retracing and https://www.tensorflow.org/api_docs/python/tf/function for  more details.\n"
          ]
        },
        {
          "output_type": "execute_result",
          "data": {
            "text/plain": [
              "array([[0.9974623 ],\n",
              "       [0.96732557],\n",
              "       [0.00154772]], dtype=float32)"
            ]
          },
          "metadata": {},
          "execution_count": 83
        }
      ]
    },
    {
      "cell_type": "code",
      "source": [],
      "metadata": {
        "id": "K2rwEa8G5yUc"
      },
      "execution_count": 83,
      "outputs": []
    },
    {
      "cell_type": "markdown",
      "source": [
        "## Analyzie with Universal Sentence Encoder tensorflow hub:"
      ],
      "metadata": {
        "id": "gmu0Y80qDc9-"
      }
    },
    {
      "cell_type": "code",
      "source": [
        "import tensorflow_hub as hub\n",
        "\n",
        "embed = hub.load(\"https://tfhub.dev/google/universal-sentence-encoder/4\")\n",
        "embed_sample = embed([\"The quick brown fox jumps over the lazy dog.\",\n",
        "                      \"I am a sentence for which I would like to get its embedding\"])\n",
        "\n",
        "print(embed_sample)\n",
        "\n",
        "# The following are example embedding output of 512 dimensions per sentence\n",
        "# Embedding for: The quick brown fox jumps over the lazy dog.\n",
        "# [-0.03133016 -0.06338634 -0.01607501, ...]\n",
        "# Embedding for: I am a sentence for which I would like to get its embedding.\n",
        "# [0.05080863 -0.0165243   0.01573782, ...]\n"
      ],
      "metadata": {
        "id": "lB9_LFdtDyX_"
      },
      "execution_count": null,
      "outputs": []
    },
    {
      "cell_type": "code",
      "source": [
        "embed(train_data)"
      ],
      "metadata": {
        "colab": {
          "base_uri": "https://localhost:8080/"
        },
        "id": "FcIC4W1ZEqO0",
        "outputId": "7d37f3b6-0cbd-47dd-a0ee-b8a5b0461efe"
      },
      "execution_count": 89,
      "outputs": [
        {
          "output_type": "execute_result",
          "data": {
            "text/plain": [
              "<tf.Tensor: shape=(6471, 512), dtype=float32, numpy=\n",
              "array([[-0.04645307, -0.01459127,  0.06717625, ...,  0.03142272,\n",
              "        -0.02836458, -0.07366095],\n",
              "       [-0.00339469, -0.01426822,  0.04503542, ..., -0.0444056 ,\n",
              "        -0.06956182, -0.01792216],\n",
              "       [ 0.0456574 , -0.02573171,  0.03533637, ..., -0.06532598,\n",
              "        -0.03026031,  0.00103621],\n",
              "       ...,\n",
              "       [-0.03393722, -0.0616745 ,  0.0497893 , ..., -0.05219646,\n",
              "        -0.05812604, -0.0630734 ],\n",
              "       [ 0.02153323,  0.06060664, -0.07061632, ..., -0.04428504,\n",
              "        -0.00652967, -0.00850326],\n",
              "       [ 0.0264951 , -0.05326021, -0.05051778, ..., -0.01227471,\n",
              "         0.01156287, -0.00953934]], dtype=float32)>"
            ]
          },
          "metadata": {},
          "execution_count": 89
        }
      ]
    },
    {
      "cell_type": "code",
      "source": [
        "encoder_layer = hub.KerasLayer(\"https://tfhub.dev/google/universal-sentence-encoder/4\",\n",
        "                               input_shape=[],\n",
        "                               trainable=False,\n",
        "                               dtype=tf.string,\n",
        "                               name= 'USE')"
      ],
      "metadata": {
        "id": "zr3l7T2rDc-A"
      },
      "execution_count": 99,
      "outputs": []
    },
    {
      "cell_type": "code",
      "source": [
        "model_6 = tf.keras.Sequential([\n",
        "    encoder_layer,\n",
        "    tf.keras.layers.Dense(64, activation='relu'),\n",
        "    tf.keras.layers.Dense(32, activation='relu'),\n",
        "    tf.keras.layers.Dense(1, activation='sigmoid')],\n",
        "    name = 'USE_pretrained_model'\n",
        ")"
      ],
      "metadata": {
        "id": "0GXP22NHR0MW"
      },
      "execution_count": 116,
      "outputs": []
    },
    {
      "cell_type": "code",
      "source": [
        "model_6.summary()"
      ],
      "metadata": {
        "colab": {
          "base_uri": "https://localhost:8080/"
        },
        "outputId": "4ffb5029-b7e9-4c4a-af14-b24eb4b857be",
        "id": "u_uqdLqbDc-B"
      },
      "execution_count": 117,
      "outputs": [
        {
          "output_type": "stream",
          "name": "stdout",
          "text": [
            "Model: \"USE_pretrained_model\"\n",
            "_________________________________________________________________\n",
            " Layer (type)                Output Shape              Param #   \n",
            "=================================================================\n",
            " USE (KerasLayer)            (None, 512)               256797824 \n",
            "                                                                 \n",
            " dense_13 (Dense)            (None, 64)                32832     \n",
            "                                                                 \n",
            " dense_14 (Dense)            (None, 32)                2080      \n",
            "                                                                 \n",
            " dense_15 (Dense)            (None, 1)                 33        \n",
            "                                                                 \n",
            "=================================================================\n",
            "Total params: 256,832,769\n",
            "Trainable params: 34,945\n",
            "Non-trainable params: 256,797,824\n",
            "_________________________________________________________________\n"
          ]
        }
      ]
    },
    {
      "cell_type": "code",
      "source": [
        "model_6.compile(loss = tf.keras.losses.BinaryCrossentropy(),\n",
        "                 optimizer = tf.keras.optimizers.Adam(),\n",
        "                 metrics= ['accuracy'])"
      ],
      "metadata": {
        "id": "cEVNRf99Dc-B"
      },
      "execution_count": 118,
      "outputs": []
    },
    {
      "cell_type": "code",
      "source": [
        "# !rm -rf './tensorboard/RNN'"
      ],
      "metadata": {
        "id": "cdBWwDr3Dc-D"
      },
      "execution_count": 119,
      "outputs": []
    },
    {
      "cell_type": "code",
      "source": [
        "history_6 = model_6.fit(train_data, \n",
        "            train_label, \n",
        "            validation_data = (val_data,val_label), \n",
        "            epochs=10, \n",
        "            callbacks=[create_tensorboard_callback('tensorboard','USE_pretrained_model')])"
      ],
      "metadata": {
        "colab": {
          "base_uri": "https://localhost:8080/"
        },
        "outputId": "4e3bc542-1481-4141-a61e-665f63799766",
        "id": "HE0t3s-rDc-E"
      },
      "execution_count": 120,
      "outputs": [
        {
          "output_type": "stream",
          "name": "stdout",
          "text": [
            "Saving TensorBoard log files to: tensorboard/USE_pretrained_model/20220831-051437\n",
            "Epoch 1/10\n",
            "203/203 [==============================] - 4s 12ms/step - loss: 0.4986 - accuracy: 0.7724 - val_loss: 0.4232 - val_accuracy: 0.8126\n",
            "Epoch 2/10\n",
            "203/203 [==============================] - 2s 10ms/step - loss: 0.4080 - accuracy: 0.8192 - val_loss: 0.4169 - val_accuracy: 0.8240\n",
            "Epoch 3/10\n",
            "203/203 [==============================] - 2s 10ms/step - loss: 0.3872 - accuracy: 0.8323 - val_loss: 0.4057 - val_accuracy: 0.8310\n",
            "Epoch 4/10\n",
            "203/203 [==============================] - 2s 10ms/step - loss: 0.3656 - accuracy: 0.8450 - val_loss: 0.4167 - val_accuracy: 0.8266\n",
            "Epoch 5/10\n",
            "203/203 [==============================] - 2s 10ms/step - loss: 0.3424 - accuracy: 0.8513 - val_loss: 0.4102 - val_accuracy: 0.8284\n",
            "Epoch 6/10\n",
            "203/203 [==============================] - 2s 10ms/step - loss: 0.3123 - accuracy: 0.8677 - val_loss: 0.4254 - val_accuracy: 0.8187\n",
            "Epoch 7/10\n",
            "203/203 [==============================] - 2s 10ms/step - loss: 0.2835 - accuracy: 0.8810 - val_loss: 0.4396 - val_accuracy: 0.8161\n",
            "Epoch 8/10\n",
            "203/203 [==============================] - 2s 10ms/step - loss: 0.2505 - accuracy: 0.9023 - val_loss: 0.4507 - val_accuracy: 0.8205\n",
            "Epoch 9/10\n",
            "203/203 [==============================] - 2s 10ms/step - loss: 0.2217 - accuracy: 0.9135 - val_loss: 0.4916 - val_accuracy: 0.8082\n",
            "Epoch 10/10\n",
            "203/203 [==============================] - 2s 10ms/step - loss: 0.1929 - accuracy: 0.9292 - val_loss: 0.5156 - val_accuracy: 0.8100\n"
          ]
        }
      ]
    },
    {
      "cell_type": "code",
      "source": [
        "model_6.evaluate(val_data,val_label)"
      ],
      "metadata": {
        "colab": {
          "base_uri": "https://localhost:8080/"
        },
        "id": "xOgMVoeNDc-E",
        "outputId": "179df8c8-b865-4a98-9e1e-c34e8a6e841a"
      },
      "execution_count": 125,
      "outputs": [
        {
          "output_type": "stream",
          "name": "stdout",
          "text": [
            "36/36 [==============================] - 0s 11ms/step - loss: 0.5156 - accuracy: 0.8100\n"
          ]
        },
        {
          "output_type": "execute_result",
          "data": {
            "text/plain": [
              "[0.5156313180923462, 0.8099824786186218]"
            ]
          },
          "metadata": {},
          "execution_count": 125
        }
      ]
    },
    {
      "cell_type": "code",
      "source": [],
      "metadata": {
        "id": "tQ1sLvRjDc-F"
      },
      "execution_count": 125,
      "outputs": []
    },
    {
      "cell_type": "markdown",
      "source": [
        "### custom tweets:"
      ],
      "metadata": {
        "id": "-48OPa4qDc-F"
      }
    },
    {
      "cell_type": "code",
      "source": [
        "tweets=['earthquake hit california minutes ago', \n",
        "        'my car on fire now', \n",
        "        'I need a blue car']"
      ],
      "metadata": {
        "id": "AZY-v-KVDc-G"
      },
      "execution_count": 130,
      "outputs": []
    },
    {
      "cell_type": "code",
      "source": [
        "model_6.predict(tweets)"
      ],
      "metadata": {
        "colab": {
          "base_uri": "https://localhost:8080/"
        },
        "id": "Lb9y7ZHrDc-H",
        "outputId": "4f5200e6-0757-4ac6-e881-9531782e726f"
      },
      "execution_count": 131,
      "outputs": [
        {
          "output_type": "execute_result",
          "data": {
            "text/plain": [
              "array([[9.9973571e-01],\n",
              "       [3.3517218e-01],\n",
              "       [7.2938204e-04]], dtype=float32)"
            ]
          },
          "metadata": {},
          "execution_count": 131
        }
      ]
    },
    {
      "cell_type": "markdown",
      "source": [
        "## Finding most wrong predicted tweets:"
      ],
      "metadata": {
        "id": "nq1ne7XomPWz"
      }
    },
    {
      "cell_type": "code",
      "source": [],
      "metadata": {
        "id": "J4PCFJf6mD_t"
      },
      "execution_count": null,
      "outputs": []
    }
  ]
}