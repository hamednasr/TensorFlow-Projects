{
  "nbformat": 4,
  "nbformat_minor": 0,
  "metadata": {
    "colab": {
      "name": "Analyzing Tweets.ipynb",
      "provenance": [],
      "collapsed_sections": [],
      "authorship_tag": "ABX9TyOmpbk+KDBn3BccLgwXr8p0",
      "include_colab_link": true
    },
    "kernelspec": {
      "name": "python3",
      "display_name": "Python 3"
    },
    "language_info": {
      "name": "python"
    }
  },
  "cells": [
    {
      "cell_type": "markdown",
      "metadata": {
        "id": "view-in-github",
        "colab_type": "text"
      },
      "source": [
        "<a href=\"https://colab.research.google.com/github/hamednasr/TensorFlow-Projects/blob/main/Analyzing_Tweets.ipynb\" target=\"_parent\"><img src=\"https://colab.research.google.com/assets/colab-badge.svg\" alt=\"Open In Colab\"/></a>"
      ]
    },
    {
      "cell_type": "markdown",
      "source": [
        "# Predicting Tweet`s Overal Message:\n",
        "## This is a kaggle competition.\n",
        "https://www.kaggle.com/competitions/nlp-getting-started/data"
      ],
      "metadata": {
        "id": "ol97k-HW8Wg2"
      }
    },
    {
      "cell_type": "code",
      "execution_count": 18,
      "metadata": {
        "id": "yM5I8_f83-kJ"
      },
      "outputs": [],
      "source": [
        "import tensorflow as tf\n",
        "import pandas as pd\n",
        "import random\n",
        "from sklearn.model_selection import train_test_split"
      ]
    },
    {
      "cell_type": "code",
      "source": [
        "!wget https://raw.githubusercontent.com/mrdbourke/tensorflow-deep-learning/main/extras/helper_functions.py"
      ],
      "metadata": {
        "colab": {
          "base_uri": "https://localhost:8080/"
        },
        "id": "cOynL78r7eSi",
        "outputId": "8389dd53-f568-40b7-eb04-299e123c4a33"
      },
      "execution_count": 19,
      "outputs": [
        {
          "output_type": "stream",
          "name": "stdout",
          "text": [
            "--2022-08-31 18:44:51--  https://raw.githubusercontent.com/mrdbourke/tensorflow-deep-learning/main/extras/helper_functions.py\n",
            "Resolving raw.githubusercontent.com (raw.githubusercontent.com)... 185.199.108.133, 185.199.111.133, 185.199.109.133, ...\n",
            "Connecting to raw.githubusercontent.com (raw.githubusercontent.com)|185.199.108.133|:443... connected.\n",
            "HTTP request sent, awaiting response... 200 OK\n",
            "Length: 10246 (10K) [text/plain]\n",
            "Saving to: ‘helper_functions.py’\n",
            "\n",
            "helper_functions.py 100%[===================>]  10.01K  --.-KB/s    in 0s      \n",
            "\n",
            "2022-08-31 18:44:51 (52.6 MB/s) - ‘helper_functions.py’ saved [10246/10246]\n",
            "\n"
          ]
        }
      ]
    },
    {
      "cell_type": "code",
      "source": [
        "from helper_functions import unzip_data, plot_loss_curves, compare_historys"
      ],
      "metadata": {
        "id": "H9qihhzF7eM-"
      },
      "execution_count": 20,
      "outputs": []
    },
    {
      "cell_type": "code",
      "source": [
        "!wget https://storage.googleapis.com/ztm_tf_course/nlp_getting_started.zip"
      ],
      "metadata": {
        "colab": {
          "base_uri": "https://localhost:8080/"
        },
        "id": "4HQKwtV77N6J",
        "outputId": "5fb6c470-18ab-4821-ea6c-ce786590cd4f"
      },
      "execution_count": 21,
      "outputs": [
        {
          "output_type": "stream",
          "name": "stdout",
          "text": [
            "--2022-08-31 18:44:51--  https://storage.googleapis.com/ztm_tf_course/nlp_getting_started.zip\n",
            "Resolving storage.googleapis.com (storage.googleapis.com)... 172.217.193.128, 172.217.204.128, 172.217.203.128, ...\n",
            "Connecting to storage.googleapis.com (storage.googleapis.com)|172.217.193.128|:443... connected.\n",
            "HTTP request sent, awaiting response... 200 OK\n",
            "Length: 607343 (593K) [application/zip]\n",
            "Saving to: ‘nlp_getting_started.zip’\n",
            "\n",
            "\rnlp_getting_started   0%[                    ]       0  --.-KB/s               \rnlp_getting_started 100%[===================>] 593.11K  --.-KB/s    in 0.006s  \n",
            "\n",
            "2022-08-31 18:44:51 (105 MB/s) - ‘nlp_getting_started.zip’ saved [607343/607343]\n",
            "\n"
          ]
        }
      ]
    },
    {
      "cell_type": "code",
      "source": [
        "unzip_data('/content/nlp_getting_started.zip')"
      ],
      "metadata": {
        "id": "HEJN23LU7dME"
      },
      "execution_count": 22,
      "outputs": []
    },
    {
      "cell_type": "markdown",
      "source": [
        "## Data Exploration:"
      ],
      "metadata": {
        "id": "g2vkVn6LKQNz"
      }
    },
    {
      "cell_type": "code",
      "source": [
        "train_data = pd.read_csv('train.csv')\n",
        "train_data"
      ],
      "metadata": {
        "colab": {
          "base_uri": "https://localhost:8080/",
          "height": 424
        },
        "id": "nED_2Sbp73WI",
        "outputId": "8e215838-1646-46ce-cc6a-0a6d17d8c245"
      },
      "execution_count": 23,
      "outputs": [
        {
          "output_type": "execute_result",
          "data": {
            "text/plain": [
              "         id keyword location  \\\n",
              "0         1     NaN      NaN   \n",
              "1         4     NaN      NaN   \n",
              "2         5     NaN      NaN   \n",
              "3         6     NaN      NaN   \n",
              "4         7     NaN      NaN   \n",
              "...     ...     ...      ...   \n",
              "7608  10869     NaN      NaN   \n",
              "7609  10870     NaN      NaN   \n",
              "7610  10871     NaN      NaN   \n",
              "7611  10872     NaN      NaN   \n",
              "7612  10873     NaN      NaN   \n",
              "\n",
              "                                                   text  target  \n",
              "0     Our Deeds are the Reason of this #earthquake M...       1  \n",
              "1                Forest fire near La Ronge Sask. Canada       1  \n",
              "2     All residents asked to 'shelter in place' are ...       1  \n",
              "3     13,000 people receive #wildfires evacuation or...       1  \n",
              "4     Just got sent this photo from Ruby #Alaska as ...       1  \n",
              "...                                                 ...     ...  \n",
              "7608  Two giant cranes holding a bridge collapse int...       1  \n",
              "7609  @aria_ahrary @TheTawniest The out of control w...       1  \n",
              "7610  M1.94 [01:04 UTC]?5km S of Volcano Hawaii. htt...       1  \n",
              "7611  Police investigating after an e-bike collided ...       1  \n",
              "7612  The Latest: More Homes Razed by Northern Calif...       1  \n",
              "\n",
              "[7613 rows x 5 columns]"
            ],
            "text/html": [
              "\n",
              "  <div id=\"df-516de369-0102-4554-a1c4-7ed3045de08a\">\n",
              "    <div class=\"colab-df-container\">\n",
              "      <div>\n",
              "<style scoped>\n",
              "    .dataframe tbody tr th:only-of-type {\n",
              "        vertical-align: middle;\n",
              "    }\n",
              "\n",
              "    .dataframe tbody tr th {\n",
              "        vertical-align: top;\n",
              "    }\n",
              "\n",
              "    .dataframe thead th {\n",
              "        text-align: right;\n",
              "    }\n",
              "</style>\n",
              "<table border=\"1\" class=\"dataframe\">\n",
              "  <thead>\n",
              "    <tr style=\"text-align: right;\">\n",
              "      <th></th>\n",
              "      <th>id</th>\n",
              "      <th>keyword</th>\n",
              "      <th>location</th>\n",
              "      <th>text</th>\n",
              "      <th>target</th>\n",
              "    </tr>\n",
              "  </thead>\n",
              "  <tbody>\n",
              "    <tr>\n",
              "      <th>0</th>\n",
              "      <td>1</td>\n",
              "      <td>NaN</td>\n",
              "      <td>NaN</td>\n",
              "      <td>Our Deeds are the Reason of this #earthquake M...</td>\n",
              "      <td>1</td>\n",
              "    </tr>\n",
              "    <tr>\n",
              "      <th>1</th>\n",
              "      <td>4</td>\n",
              "      <td>NaN</td>\n",
              "      <td>NaN</td>\n",
              "      <td>Forest fire near La Ronge Sask. Canada</td>\n",
              "      <td>1</td>\n",
              "    </tr>\n",
              "    <tr>\n",
              "      <th>2</th>\n",
              "      <td>5</td>\n",
              "      <td>NaN</td>\n",
              "      <td>NaN</td>\n",
              "      <td>All residents asked to 'shelter in place' are ...</td>\n",
              "      <td>1</td>\n",
              "    </tr>\n",
              "    <tr>\n",
              "      <th>3</th>\n",
              "      <td>6</td>\n",
              "      <td>NaN</td>\n",
              "      <td>NaN</td>\n",
              "      <td>13,000 people receive #wildfires evacuation or...</td>\n",
              "      <td>1</td>\n",
              "    </tr>\n",
              "    <tr>\n",
              "      <th>4</th>\n",
              "      <td>7</td>\n",
              "      <td>NaN</td>\n",
              "      <td>NaN</td>\n",
              "      <td>Just got sent this photo from Ruby #Alaska as ...</td>\n",
              "      <td>1</td>\n",
              "    </tr>\n",
              "    <tr>\n",
              "      <th>...</th>\n",
              "      <td>...</td>\n",
              "      <td>...</td>\n",
              "      <td>...</td>\n",
              "      <td>...</td>\n",
              "      <td>...</td>\n",
              "    </tr>\n",
              "    <tr>\n",
              "      <th>7608</th>\n",
              "      <td>10869</td>\n",
              "      <td>NaN</td>\n",
              "      <td>NaN</td>\n",
              "      <td>Two giant cranes holding a bridge collapse int...</td>\n",
              "      <td>1</td>\n",
              "    </tr>\n",
              "    <tr>\n",
              "      <th>7609</th>\n",
              "      <td>10870</td>\n",
              "      <td>NaN</td>\n",
              "      <td>NaN</td>\n",
              "      <td>@aria_ahrary @TheTawniest The out of control w...</td>\n",
              "      <td>1</td>\n",
              "    </tr>\n",
              "    <tr>\n",
              "      <th>7610</th>\n",
              "      <td>10871</td>\n",
              "      <td>NaN</td>\n",
              "      <td>NaN</td>\n",
              "      <td>M1.94 [01:04 UTC]?5km S of Volcano Hawaii. htt...</td>\n",
              "      <td>1</td>\n",
              "    </tr>\n",
              "    <tr>\n",
              "      <th>7611</th>\n",
              "      <td>10872</td>\n",
              "      <td>NaN</td>\n",
              "      <td>NaN</td>\n",
              "      <td>Police investigating after an e-bike collided ...</td>\n",
              "      <td>1</td>\n",
              "    </tr>\n",
              "    <tr>\n",
              "      <th>7612</th>\n",
              "      <td>10873</td>\n",
              "      <td>NaN</td>\n",
              "      <td>NaN</td>\n",
              "      <td>The Latest: More Homes Razed by Northern Calif...</td>\n",
              "      <td>1</td>\n",
              "    </tr>\n",
              "  </tbody>\n",
              "</table>\n",
              "<p>7613 rows × 5 columns</p>\n",
              "</div>\n",
              "      <button class=\"colab-df-convert\" onclick=\"convertToInteractive('df-516de369-0102-4554-a1c4-7ed3045de08a')\"\n",
              "              title=\"Convert this dataframe to an interactive table.\"\n",
              "              style=\"display:none;\">\n",
              "        \n",
              "  <svg xmlns=\"http://www.w3.org/2000/svg\" height=\"24px\"viewBox=\"0 0 24 24\"\n",
              "       width=\"24px\">\n",
              "    <path d=\"M0 0h24v24H0V0z\" fill=\"none\"/>\n",
              "    <path d=\"M18.56 5.44l.94 2.06.94-2.06 2.06-.94-2.06-.94-.94-2.06-.94 2.06-2.06.94zm-11 1L8.5 8.5l.94-2.06 2.06-.94-2.06-.94L8.5 2.5l-.94 2.06-2.06.94zm10 10l.94 2.06.94-2.06 2.06-.94-2.06-.94-.94-2.06-.94 2.06-2.06.94z\"/><path d=\"M17.41 7.96l-1.37-1.37c-.4-.4-.92-.59-1.43-.59-.52 0-1.04.2-1.43.59L10.3 9.45l-7.72 7.72c-.78.78-.78 2.05 0 2.83L4 21.41c.39.39.9.59 1.41.59.51 0 1.02-.2 1.41-.59l7.78-7.78 2.81-2.81c.8-.78.8-2.07 0-2.86zM5.41 20L4 18.59l7.72-7.72 1.47 1.35L5.41 20z\"/>\n",
              "  </svg>\n",
              "      </button>\n",
              "      \n",
              "  <style>\n",
              "    .colab-df-container {\n",
              "      display:flex;\n",
              "      flex-wrap:wrap;\n",
              "      gap: 12px;\n",
              "    }\n",
              "\n",
              "    .colab-df-convert {\n",
              "      background-color: #E8F0FE;\n",
              "      border: none;\n",
              "      border-radius: 50%;\n",
              "      cursor: pointer;\n",
              "      display: none;\n",
              "      fill: #1967D2;\n",
              "      height: 32px;\n",
              "      padding: 0 0 0 0;\n",
              "      width: 32px;\n",
              "    }\n",
              "\n",
              "    .colab-df-convert:hover {\n",
              "      background-color: #E2EBFA;\n",
              "      box-shadow: 0px 1px 2px rgba(60, 64, 67, 0.3), 0px 1px 3px 1px rgba(60, 64, 67, 0.15);\n",
              "      fill: #174EA6;\n",
              "    }\n",
              "\n",
              "    [theme=dark] .colab-df-convert {\n",
              "      background-color: #3B4455;\n",
              "      fill: #D2E3FC;\n",
              "    }\n",
              "\n",
              "    [theme=dark] .colab-df-convert:hover {\n",
              "      background-color: #434B5C;\n",
              "      box-shadow: 0px 1px 3px 1px rgba(0, 0, 0, 0.15);\n",
              "      filter: drop-shadow(0px 1px 2px rgba(0, 0, 0, 0.3));\n",
              "      fill: #FFFFFF;\n",
              "    }\n",
              "  </style>\n",
              "\n",
              "      <script>\n",
              "        const buttonEl =\n",
              "          document.querySelector('#df-516de369-0102-4554-a1c4-7ed3045de08a button.colab-df-convert');\n",
              "        buttonEl.style.display =\n",
              "          google.colab.kernel.accessAllowed ? 'block' : 'none';\n",
              "\n",
              "        async function convertToInteractive(key) {\n",
              "          const element = document.querySelector('#df-516de369-0102-4554-a1c4-7ed3045de08a');\n",
              "          const dataTable =\n",
              "            await google.colab.kernel.invokeFunction('convertToInteractive',\n",
              "                                                     [key], {});\n",
              "          if (!dataTable) return;\n",
              "\n",
              "          const docLinkHtml = 'Like what you see? Visit the ' +\n",
              "            '<a target=\"_blank\" href=https://colab.research.google.com/notebooks/data_table.ipynb>data table notebook</a>'\n",
              "            + ' to learn more about interactive tables.';\n",
              "          element.innerHTML = '';\n",
              "          dataTable['output_type'] = 'display_data';\n",
              "          await google.colab.output.renderOutput(dataTable, element);\n",
              "          const docLink = document.createElement('div');\n",
              "          docLink.innerHTML = docLinkHtml;\n",
              "          element.appendChild(docLink);\n",
              "        }\n",
              "      </script>\n",
              "    </div>\n",
              "  </div>\n",
              "  "
            ]
          },
          "metadata": {},
          "execution_count": 23
        }
      ]
    },
    {
      "cell_type": "code",
      "source": [
        "train_data['target'].value_counts()"
      ],
      "metadata": {
        "colab": {
          "base_uri": "https://localhost:8080/"
        },
        "id": "2d3N-WWWEbeE",
        "outputId": "3468cdb5-2d68-47bf-e47b-48808820f686"
      },
      "execution_count": 24,
      "outputs": [
        {
          "output_type": "execute_result",
          "data": {
            "text/plain": [
              "0    4342\n",
              "1    3271\n",
              "Name: target, dtype: int64"
            ]
          },
          "metadata": {},
          "execution_count": 24
        }
      ]
    },
    {
      "cell_type": "code",
      "source": [
        "test_data = pd.read_csv('test.csv')\n",
        "test_data"
      ],
      "metadata": {
        "colab": {
          "base_uri": "https://localhost:8080/",
          "height": 424
        },
        "id": "T4KQ8uEEER2T",
        "outputId": "1e5784ad-0cf8-4dde-c43b-b6d295bfdec5"
      },
      "execution_count": 25,
      "outputs": [
        {
          "output_type": "execute_result",
          "data": {
            "text/plain": [
              "         id keyword location  \\\n",
              "0         0     NaN      NaN   \n",
              "1         2     NaN      NaN   \n",
              "2         3     NaN      NaN   \n",
              "3         9     NaN      NaN   \n",
              "4        11     NaN      NaN   \n",
              "...     ...     ...      ...   \n",
              "3258  10861     NaN      NaN   \n",
              "3259  10865     NaN      NaN   \n",
              "3260  10868     NaN      NaN   \n",
              "3261  10874     NaN      NaN   \n",
              "3262  10875     NaN      NaN   \n",
              "\n",
              "                                                   text  \n",
              "0                    Just happened a terrible car crash  \n",
              "1     Heard about #earthquake is different cities, s...  \n",
              "2     there is a forest fire at spot pond, geese are...  \n",
              "3              Apocalypse lighting. #Spokane #wildfires  \n",
              "4         Typhoon Soudelor kills 28 in China and Taiwan  \n",
              "...                                                 ...  \n",
              "3258  EARTHQUAKE SAFETY LOS ANGELES ÛÒ SAFETY FASTE...  \n",
              "3259  Storm in RI worse than last hurricane. My city...  \n",
              "3260  Green Line derailment in Chicago http://t.co/U...  \n",
              "3261  MEG issues Hazardous Weather Outlook (HWO) htt...  \n",
              "3262  #CityofCalgary has activated its Municipal Eme...  \n",
              "\n",
              "[3263 rows x 4 columns]"
            ],
            "text/html": [
              "\n",
              "  <div id=\"df-4713d444-cf0e-4061-9f0c-28265c87180a\">\n",
              "    <div class=\"colab-df-container\">\n",
              "      <div>\n",
              "<style scoped>\n",
              "    .dataframe tbody tr th:only-of-type {\n",
              "        vertical-align: middle;\n",
              "    }\n",
              "\n",
              "    .dataframe tbody tr th {\n",
              "        vertical-align: top;\n",
              "    }\n",
              "\n",
              "    .dataframe thead th {\n",
              "        text-align: right;\n",
              "    }\n",
              "</style>\n",
              "<table border=\"1\" class=\"dataframe\">\n",
              "  <thead>\n",
              "    <tr style=\"text-align: right;\">\n",
              "      <th></th>\n",
              "      <th>id</th>\n",
              "      <th>keyword</th>\n",
              "      <th>location</th>\n",
              "      <th>text</th>\n",
              "    </tr>\n",
              "  </thead>\n",
              "  <tbody>\n",
              "    <tr>\n",
              "      <th>0</th>\n",
              "      <td>0</td>\n",
              "      <td>NaN</td>\n",
              "      <td>NaN</td>\n",
              "      <td>Just happened a terrible car crash</td>\n",
              "    </tr>\n",
              "    <tr>\n",
              "      <th>1</th>\n",
              "      <td>2</td>\n",
              "      <td>NaN</td>\n",
              "      <td>NaN</td>\n",
              "      <td>Heard about #earthquake is different cities, s...</td>\n",
              "    </tr>\n",
              "    <tr>\n",
              "      <th>2</th>\n",
              "      <td>3</td>\n",
              "      <td>NaN</td>\n",
              "      <td>NaN</td>\n",
              "      <td>there is a forest fire at spot pond, geese are...</td>\n",
              "    </tr>\n",
              "    <tr>\n",
              "      <th>3</th>\n",
              "      <td>9</td>\n",
              "      <td>NaN</td>\n",
              "      <td>NaN</td>\n",
              "      <td>Apocalypse lighting. #Spokane #wildfires</td>\n",
              "    </tr>\n",
              "    <tr>\n",
              "      <th>4</th>\n",
              "      <td>11</td>\n",
              "      <td>NaN</td>\n",
              "      <td>NaN</td>\n",
              "      <td>Typhoon Soudelor kills 28 in China and Taiwan</td>\n",
              "    </tr>\n",
              "    <tr>\n",
              "      <th>...</th>\n",
              "      <td>...</td>\n",
              "      <td>...</td>\n",
              "      <td>...</td>\n",
              "      <td>...</td>\n",
              "    </tr>\n",
              "    <tr>\n",
              "      <th>3258</th>\n",
              "      <td>10861</td>\n",
              "      <td>NaN</td>\n",
              "      <td>NaN</td>\n",
              "      <td>EARTHQUAKE SAFETY LOS ANGELES ÛÒ SAFETY FASTE...</td>\n",
              "    </tr>\n",
              "    <tr>\n",
              "      <th>3259</th>\n",
              "      <td>10865</td>\n",
              "      <td>NaN</td>\n",
              "      <td>NaN</td>\n",
              "      <td>Storm in RI worse than last hurricane. My city...</td>\n",
              "    </tr>\n",
              "    <tr>\n",
              "      <th>3260</th>\n",
              "      <td>10868</td>\n",
              "      <td>NaN</td>\n",
              "      <td>NaN</td>\n",
              "      <td>Green Line derailment in Chicago http://t.co/U...</td>\n",
              "    </tr>\n",
              "    <tr>\n",
              "      <th>3261</th>\n",
              "      <td>10874</td>\n",
              "      <td>NaN</td>\n",
              "      <td>NaN</td>\n",
              "      <td>MEG issues Hazardous Weather Outlook (HWO) htt...</td>\n",
              "    </tr>\n",
              "    <tr>\n",
              "      <th>3262</th>\n",
              "      <td>10875</td>\n",
              "      <td>NaN</td>\n",
              "      <td>NaN</td>\n",
              "      <td>#CityofCalgary has activated its Municipal Eme...</td>\n",
              "    </tr>\n",
              "  </tbody>\n",
              "</table>\n",
              "<p>3263 rows × 4 columns</p>\n",
              "</div>\n",
              "      <button class=\"colab-df-convert\" onclick=\"convertToInteractive('df-4713d444-cf0e-4061-9f0c-28265c87180a')\"\n",
              "              title=\"Convert this dataframe to an interactive table.\"\n",
              "              style=\"display:none;\">\n",
              "        \n",
              "  <svg xmlns=\"http://www.w3.org/2000/svg\" height=\"24px\"viewBox=\"0 0 24 24\"\n",
              "       width=\"24px\">\n",
              "    <path d=\"M0 0h24v24H0V0z\" fill=\"none\"/>\n",
              "    <path d=\"M18.56 5.44l.94 2.06.94-2.06 2.06-.94-2.06-.94-.94-2.06-.94 2.06-2.06.94zm-11 1L8.5 8.5l.94-2.06 2.06-.94-2.06-.94L8.5 2.5l-.94 2.06-2.06.94zm10 10l.94 2.06.94-2.06 2.06-.94-2.06-.94-.94-2.06-.94 2.06-2.06.94z\"/><path d=\"M17.41 7.96l-1.37-1.37c-.4-.4-.92-.59-1.43-.59-.52 0-1.04.2-1.43.59L10.3 9.45l-7.72 7.72c-.78.78-.78 2.05 0 2.83L4 21.41c.39.39.9.59 1.41.59.51 0 1.02-.2 1.41-.59l7.78-7.78 2.81-2.81c.8-.78.8-2.07 0-2.86zM5.41 20L4 18.59l7.72-7.72 1.47 1.35L5.41 20z\"/>\n",
              "  </svg>\n",
              "      </button>\n",
              "      \n",
              "  <style>\n",
              "    .colab-df-container {\n",
              "      display:flex;\n",
              "      flex-wrap:wrap;\n",
              "      gap: 12px;\n",
              "    }\n",
              "\n",
              "    .colab-df-convert {\n",
              "      background-color: #E8F0FE;\n",
              "      border: none;\n",
              "      border-radius: 50%;\n",
              "      cursor: pointer;\n",
              "      display: none;\n",
              "      fill: #1967D2;\n",
              "      height: 32px;\n",
              "      padding: 0 0 0 0;\n",
              "      width: 32px;\n",
              "    }\n",
              "\n",
              "    .colab-df-convert:hover {\n",
              "      background-color: #E2EBFA;\n",
              "      box-shadow: 0px 1px 2px rgba(60, 64, 67, 0.3), 0px 1px 3px 1px rgba(60, 64, 67, 0.15);\n",
              "      fill: #174EA6;\n",
              "    }\n",
              "\n",
              "    [theme=dark] .colab-df-convert {\n",
              "      background-color: #3B4455;\n",
              "      fill: #D2E3FC;\n",
              "    }\n",
              "\n",
              "    [theme=dark] .colab-df-convert:hover {\n",
              "      background-color: #434B5C;\n",
              "      box-shadow: 0px 1px 3px 1px rgba(0, 0, 0, 0.15);\n",
              "      filter: drop-shadow(0px 1px 2px rgba(0, 0, 0, 0.3));\n",
              "      fill: #FFFFFF;\n",
              "    }\n",
              "  </style>\n",
              "\n",
              "      <script>\n",
              "        const buttonEl =\n",
              "          document.querySelector('#df-4713d444-cf0e-4061-9f0c-28265c87180a button.colab-df-convert');\n",
              "        buttonEl.style.display =\n",
              "          google.colab.kernel.accessAllowed ? 'block' : 'none';\n",
              "\n",
              "        async function convertToInteractive(key) {\n",
              "          const element = document.querySelector('#df-4713d444-cf0e-4061-9f0c-28265c87180a');\n",
              "          const dataTable =\n",
              "            await google.colab.kernel.invokeFunction('convertToInteractive',\n",
              "                                                     [key], {});\n",
              "          if (!dataTable) return;\n",
              "\n",
              "          const docLinkHtml = 'Like what you see? Visit the ' +\n",
              "            '<a target=\"_blank\" href=https://colab.research.google.com/notebooks/data_table.ipynb>data table notebook</a>'\n",
              "            + ' to learn more about interactive tables.';\n",
              "          element.innerHTML = '';\n",
              "          dataTable['output_type'] = 'display_data';\n",
              "          await google.colab.output.renderOutput(dataTable, element);\n",
              "          const docLink = document.createElement('div');\n",
              "          docLink.innerHTML = docLinkHtml;\n",
              "          element.appendChild(docLink);\n",
              "        }\n",
              "      </script>\n",
              "    </div>\n",
              "  </div>\n",
              "  "
            ]
          },
          "metadata": {},
          "execution_count": 25
        }
      ]
    },
    {
      "cell_type": "code",
      "source": [
        "random_data = train_data.sample(frac=0.0006)\n",
        "for i in range(len(random_data)):\n",
        "  print(f'tweet number {i+1} :')\n",
        "  if random_data.iloc[i, 4]==1:\n",
        "    target = 'a Disaster'\n",
        "  else:\n",
        "    target = 'NOT Disaster'\n",
        "  print(f'{random_data.iloc[i, 3]} : This is {target} tweet')\n",
        "  print('------------------------------------\\n')\n"
      ],
      "metadata": {
        "colab": {
          "base_uri": "https://localhost:8080/"
        },
        "id": "E4uHcGoQEYVB",
        "outputId": "eceff153-0e54-471f-edb9-b28372faef0e"
      },
      "execution_count": 26,
      "outputs": [
        {
          "output_type": "stream",
          "name": "stdout",
          "text": [
            "tweet number 1 :\n",
            "lmao fuckboy changed his @ for damage control\n",
            "@Pseudojuuzo : This is NOT Disaster tweet\n",
            "------------------------------------\n",
            "\n",
            "tweet number 2 :\n",
            "It still hasn't sunk in that i will never see my nan again how has it been 2 months already ?? : This is NOT Disaster tweet\n",
            "------------------------------------\n",
            "\n",
            "tweet number 3 :\n",
            "'Up to 40% of businesses affected by a natural or man-made disaster never reopen'\n",
            "http://t.co/35JyAp0ul9 : This is NOT Disaster tweet\n",
            "------------------------------------\n",
            "\n",
            "tweet number 4 :\n",
            "[Tropical Cyclone Info] SOUDELOR 945hPa maximum wind speed: 45m/s maximum wind gust speed: 60m/s  http://t.co/nBD5oT9iEW : This is a Disaster tweet\n",
            "------------------------------------\n",
            "\n",
            "tweet number 5 :\n",
            "Businesses are deluged with invoices. Make yours stand oup with colour or shame and it's likely to rise to the top of the pay' pile. : This is NOT Disaster tweet\n",
            "------------------------------------\n",
            "\n"
          ]
        }
      ]
    },
    {
      "cell_type": "markdown",
      "source": [
        "## Extract validation data from train data:"
      ],
      "metadata": {
        "id": "RiGYjpD3LOB8"
      }
    },
    {
      "cell_type": "code",
      "source": [
        "train_data['text'].to_numpy()"
      ],
      "metadata": {
        "colab": {
          "base_uri": "https://localhost:8080/"
        },
        "id": "TDEGSE5qMzH4",
        "outputId": "ba8ec49c-ffc7-4fdf-de41-ee06359a10bc"
      },
      "execution_count": 27,
      "outputs": [
        {
          "output_type": "execute_result",
          "data": {
            "text/plain": [
              "array(['Our Deeds are the Reason of this #earthquake May ALLAH Forgive us all',\n",
              "       'Forest fire near La Ronge Sask. Canada',\n",
              "       \"All residents asked to 'shelter in place' are being notified by officers. No other evacuation or shelter in place orders are expected\",\n",
              "       ...,\n",
              "       'M1.94 [01:04 UTC]?5km S of Volcano Hawaii. http://t.co/zDtoyd8EbJ',\n",
              "       'Police investigating after an e-bike collided with a car in Little Portugal. E-bike rider suffered serious non-life threatening injuries.',\n",
              "       'The Latest: More Homes Razed by Northern California Wildfire - ABC News http://t.co/YmY4rSkQ3d'],\n",
              "      dtype=object)"
            ]
          },
          "metadata": {},
          "execution_count": 27
        }
      ]
    },
    {
      "cell_type": "code",
      "source": [
        "train_data['target'].to_numpy()"
      ],
      "metadata": {
        "colab": {
          "base_uri": "https://localhost:8080/"
        },
        "id": "9E9Bh7DONeeh",
        "outputId": "a059209e-6bcb-4171-b4b0-15b17c9441a7"
      },
      "execution_count": 28,
      "outputs": [
        {
          "output_type": "execute_result",
          "data": {
            "text/plain": [
              "array([1, 1, 1, ..., 1, 1, 1])"
            ]
          },
          "metadata": {},
          "execution_count": 28
        }
      ]
    },
    {
      "cell_type": "code",
      "source": [
        "train_data, val_data, train_label, val_label = train_test_split(train_data['text'].to_numpy(), train_data['target'].to_numpy(), \n",
        "                                                                test_size=0.1, \n",
        "                                                                random_state=42)"
      ],
      "metadata": {
        "id": "ihBhXs9YG2FG"
      },
      "execution_count": 29,
      "outputs": []
    },
    {
      "cell_type": "code",
      "source": [
        "val_data[:10], val_label[:10]"
      ],
      "metadata": {
        "colab": {
          "base_uri": "https://localhost:8080/"
        },
        "id": "UT_cUffWNkdm",
        "outputId": "0ba4347b-b165-4a84-fdee-80b600cad0ff"
      },
      "execution_count": 30,
      "outputs": [
        {
          "output_type": "execute_result",
          "data": {
            "text/plain": [
              "(array(['So you have a new weapon that can cause un-imaginable destruction.',\n",
              "        'The f$&amp;@ing things I do for #GISHWHES Just got soaked in a deluge going for pads and tampons. Thx @mishacollins @/@',\n",
              "        'DT @georgegalloway: RT @Galloway4Mayor: \\x89ÛÏThe CoL police can catch a pickpocket in Liverpool Stree... http://t.co/vXIn1gOq4Q',\n",
              "        'Aftershock back to school kick off was great. I want to thank everyone for making it possible. What a great night.',\n",
              "        'in response to trauma Children of Addicts develop a defensive self - one that decreases vulnerability. (3',\n",
              "        '@Calum5SOS you look like you got caught in a rainstorm this is amazing and disgusting at the same time',\n",
              "        'my favorite lady came to our volunteer meeting\\nhopefully joining her youth collision and i am excite http://t.co/Ij0wQ490cS',\n",
              "        '@brianroemmele UX fail of EMV - people want to insert and remove quickly like a gas pump stripe reader. 1 person told me it crashed the POS',\n",
              "        \"Can't find my ariana grande shirt  this is a fucking tragedy\",\n",
              "        'The Murderous Story Of America\\x89Ûªs First Hijacking http://t.co/EYUGk6byxr'],\n",
              "       dtype=object), array([1, 0, 1, 0, 0, 0, 1, 1, 0, 1]))"
            ]
          },
          "metadata": {},
          "execution_count": 30
        }
      ]
    },
    {
      "cell_type": "markdown",
      "source": [
        "## Tokenization (Vectorization):"
      ],
      "metadata": {
        "id": "oZdleV07g5m8"
      }
    },
    {
      "cell_type": "code",
      "source": [
        "sum([len(tweet.split()) for tweet in train_data])"
      ],
      "metadata": {
        "colab": {
          "base_uri": "https://localhost:8080/"
        },
        "id": "dBwN2uYD2GEH",
        "outputId": "a3f96797-cdf8-42dc-d590-882a4d6f6f15"
      },
      "execution_count": 31,
      "outputs": [
        {
          "output_type": "execute_result",
          "data": {
            "text/plain": [
              "101905"
            ]
          },
          "metadata": {},
          "execution_count": 31
        }
      ]
    },
    {
      "cell_type": "code",
      "source": [
        "round(sum([len(tweet.split()) for tweet in train_data])/len(train_data))"
      ],
      "metadata": {
        "colab": {
          "base_uri": "https://localhost:8080/"
        },
        "id": "vAr6BqkV0fnm",
        "outputId": "aba9a366-c9bd-4972-e7ad-745ecffdc734"
      },
      "execution_count": 32,
      "outputs": [
        {
          "output_type": "execute_result",
          "data": {
            "text/plain": [
              "15"
            ]
          },
          "metadata": {},
          "execution_count": 32
        }
      ]
    },
    {
      "cell_type": "code",
      "source": [
        "text_vectorizer = tf.keras.layers.TextVectorization(max_tokens=10000,\n",
        "                                                       output_mode='int', \n",
        "                                                       output_sequence_length=15)"
      ],
      "metadata": {
        "id": "nX1891FjNoHS"
      },
      "execution_count": 33,
      "outputs": []
    },
    {
      "cell_type": "code",
      "source": [
        "text_vectorizer.adapt(train_data)"
      ],
      "metadata": {
        "id": "rrPEZ-cpvKUF"
      },
      "execution_count": 34,
      "outputs": []
    },
    {
      "cell_type": "code",
      "source": [
        "sample_tweet = 'my name is hamed i am happy to meet you!'\n",
        "text_vectorizer(sample_tweet)"
      ],
      "metadata": {
        "colab": {
          "base_uri": "https://localhost:8080/"
        },
        "id": "GvlFWQgb5PE5",
        "outputId": "5054060b-4ac7-4fcb-f040-d94071c23fb2"
      },
      "execution_count": 35,
      "outputs": [
        {
          "output_type": "execute_result",
          "data": {
            "text/plain": [
              "<tf.Tensor: shape=(15,), dtype=int64, numpy=\n",
              "array([  13,  707,    9,    1,    8,  171,  714,    5, 1815,   12,    0,\n",
              "          0,    0,    0,    0])>"
            ]
          },
          "metadata": {},
          "execution_count": 35
        }
      ]
    },
    {
      "cell_type": "code",
      "source": [
        "random_tweet = random.choice(train_data)\n",
        "print('tweet: ', random_tweet,'\\n\\n')\n",
        "print('vectorized tweet: ', text_vectorizer(random_tweet))"
      ],
      "metadata": {
        "colab": {
          "base_uri": "https://localhost:8080/"
        },
        "id": "_4LVOt3r50nF",
        "outputId": "56791b99-2fed-4491-8192-bfafaf6950e2"
      },
      "execution_count": 36,
      "outputs": [
        {
          "output_type": "stream",
          "name": "stdout",
          "text": [
            "tweet:  Interview on The Collapse of Materialism Best #TalkRadio Listen Live: http://t.co/sDXZHjco0X \n",
            "\n",
            "\n",
            "vectorized tweet:  tf.Tensor(\n",
            "[1828   11    2  165    6    1  148 4460  842  186    1    0    0    0\n",
            "    0], shape=(15,), dtype=int64)\n"
          ]
        }
      ]
    },
    {
      "cell_type": "code",
      "source": [
        "#unique words\n",
        "unique_words = text_vectorizer.get_vocabulary()\n",
        "print(len(unique_words))\n",
        "print(unique_words[:10])\n",
        "print(unique_words[-10:])"
      ],
      "metadata": {
        "colab": {
          "base_uri": "https://localhost:8080/"
        },
        "id": "pz1D29W_6gMu",
        "outputId": "7bf7e8b6-90ba-4eb1-da6c-247f5933189b"
      },
      "execution_count": 37,
      "outputs": [
        {
          "output_type": "stream",
          "name": "stdout",
          "text": [
            "10000\n",
            "['', '[UNK]', 'the', 'a', 'in', 'to', 'of', 'and', 'i', 'is']\n",
            "['palm', 'palinfoen', 'palestinian\\x89Û', 'palermo', 'pale', 'pakthey', 'pakistan\\x89Ûªs', 'pakistans', 'pajamas', 'paints']\n"
          ]
        }
      ]
    },
    {
      "cell_type": "markdown",
      "source": [
        "## Embedding:"
      ],
      "metadata": {
        "id": "NOWUfElgCc9K"
      }
    },
    {
      "cell_type": "code",
      "source": [
        "embedding = tf.keras.layers.Embedding(input_dim = 10000, output_dim =32, input_length=None)"
      ],
      "metadata": {
        "id": "q8V1ge7R8-uB"
      },
      "execution_count": 38,
      "outputs": []
    },
    {
      "cell_type": "code",
      "source": [
        "sample_embed = embedding(text_vectorizer(random_tweet))\n",
        "sample_embed"
      ],
      "metadata": {
        "colab": {
          "base_uri": "https://localhost:8080/"
        },
        "id": "tLIAWQIV8taE",
        "outputId": "437c433d-9b80-4ca1-e0bd-feeb66bf436d"
      },
      "execution_count": 39,
      "outputs": [
        {
          "output_type": "execute_result",
          "data": {
            "text/plain": [
              "<tf.Tensor: shape=(15, 32), dtype=float32, numpy=\n",
              "array([[ 4.95999493e-02,  2.97597311e-02,  2.24883221e-02,\n",
              "         1.37032382e-02,  2.39667930e-02,  1.45406984e-02,\n",
              "        -4.70464714e-02,  3.61466072e-02,  2.55289115e-02,\n",
              "         1.48401372e-02, -2.57436763e-02,  4.47167046e-02,\n",
              "         4.65462320e-02,  1.52932890e-02, -3.88342366e-02,\n",
              "        -9.98225063e-03,  2.78122462e-02,  8.73101875e-03,\n",
              "         3.65645550e-02,  3.92185561e-02, -2.10557468e-02,\n",
              "         3.86008061e-02, -1.88783407e-02,  4.21723612e-02,\n",
              "         4.59686257e-02,  3.12895440e-02,  4.08907272e-02,\n",
              "         1.74560584e-02, -4.35197949e-02,  2.79454626e-02,\n",
              "        -2.30152495e-02, -1.59051046e-02],\n",
              "       [ 4.35223319e-02, -4.37743329e-02, -1.17691644e-02,\n",
              "        -2.22696420e-02, -4.44970392e-02,  1.81947611e-02,\n",
              "         1.08673088e-02,  1.65772438e-03,  3.03240865e-03,\n",
              "        -3.54013592e-03,  6.43665716e-03,  4.68684919e-02,\n",
              "        -1.38645880e-02, -3.33461985e-02, -4.04698141e-02,\n",
              "        -3.08910757e-03,  4.41786535e-02, -9.34239477e-03,\n",
              "        -4.54147831e-02, -4.66618687e-03, -1.80100203e-02,\n",
              "        -3.70611325e-02,  3.54106762e-02,  4.41676639e-02,\n",
              "        -3.19849849e-02,  4.92755435e-02, -8.56089592e-03,\n",
              "         3.84933017e-02,  4.38807160e-03, -4.08891216e-02,\n",
              "        -4.46105376e-02,  1.52268745e-02],\n",
              "       [ 1.35655738e-02,  9.03769583e-03, -1.42453797e-02,\n",
              "         2.43666656e-02,  1.28411539e-02, -3.18283066e-02,\n",
              "        -4.07158621e-02, -3.36707234e-02,  8.83557647e-03,\n",
              "        -6.98351860e-03, -2.27361675e-02,  6.44501299e-03,\n",
              "         4.05046009e-02,  1.36163346e-02, -4.12306935e-03,\n",
              "         4.94527556e-02,  4.30063047e-02, -3.10061816e-02,\n",
              "         2.25161351e-02, -1.39200203e-02,  1.48739927e-02,\n",
              "         3.15375812e-02, -4.50744629e-02,  1.67607777e-02,\n",
              "        -1.20513551e-02,  3.99247669e-02,  2.74736173e-02,\n",
              "         2.15121359e-03, -8.66132975e-03,  4.63345759e-02,\n",
              "         2.23168246e-02,  1.71449222e-02],\n",
              "       [ 4.18253280e-02,  1.48536302e-02,  3.61103900e-02,\n",
              "        -3.55273709e-02, -4.05980349e-02, -2.58464813e-02,\n",
              "        -2.06928253e-02,  3.66566069e-02, -3.16936523e-02,\n",
              "        -4.15094495e-02,  3.65736596e-02,  3.71779688e-02,\n",
              "         4.44096066e-02,  5.78608364e-03, -2.55564805e-02,\n",
              "         4.93651293e-02,  4.60256673e-02,  4.78561036e-02,\n",
              "        -4.38888557e-02,  2.56560110e-02, -2.90887114e-02,\n",
              "        -4.99463193e-02, -2.60902401e-02, -4.92047183e-02,\n",
              "         1.21320970e-02, -3.87519225e-02,  3.82601283e-02,\n",
              "        -4.83803861e-02, -1.48517117e-02, -2.42880471e-02,\n",
              "        -4.57289331e-02,  4.53920625e-02],\n",
              "       [ 3.57232727e-02, -4.40954231e-02,  3.47415544e-02,\n",
              "         3.13881971e-02, -5.65489382e-03,  3.02539207e-02,\n",
              "        -2.04285514e-02,  6.99730963e-03,  3.50794680e-02,\n",
              "         1.00015886e-02,  2.99442746e-02,  1.65588893e-02,\n",
              "        -5.32589853e-04, -5.70071861e-03,  4.20773067e-02,\n",
              "         4.63552400e-03,  3.78925838e-02, -4.31581587e-03,\n",
              "        -2.38633156e-02, -8.94849375e-03, -4.17438038e-02,\n",
              "         2.22720206e-04,  4.29060347e-02,  2.66126432e-02,\n",
              "        -2.91306265e-02, -1.29501820e-02,  1.00647807e-02,\n",
              "         7.47922808e-03, -4.44823392e-02,  5.70265204e-03,\n",
              "        -3.94704565e-02, -3.82707343e-02],\n",
              "       [ 4.99649383e-02, -2.83365846e-02,  3.19533087e-02,\n",
              "        -3.37338820e-02, -3.56302634e-02, -3.34486850e-02,\n",
              "        -4.10605222e-04, -1.60998106e-02,  1.84379853e-02,\n",
              "        -2.92975791e-02,  3.56000550e-02,  2.54109763e-02,\n",
              "        -8.38673115e-03,  4.98528406e-03,  1.55326016e-02,\n",
              "         1.56223886e-02, -3.98271084e-02,  8.96443054e-03,\n",
              "        -4.91322167e-02, -3.53486761e-02,  1.49865076e-03,\n",
              "        -2.47576088e-03,  4.57073785e-02,  3.58334221e-02,\n",
              "        -2.56284717e-02, -3.66622694e-02,  3.35763767e-03,\n",
              "        -4.22412045e-02,  2.40314342e-02, -2.75942218e-02,\n",
              "         3.23435403e-02,  1.87484175e-03],\n",
              "       [-1.00396574e-04, -1.84977278e-02, -2.44361293e-02,\n",
              "        -2.83110980e-02, -4.14284691e-02, -2.08989736e-02,\n",
              "        -4.14777920e-03,  2.93699987e-02, -1.28779039e-02,\n",
              "        -3.70594151e-02,  1.17477998e-02, -3.20072658e-02,\n",
              "        -4.91383672e-02, -8.66359472e-03,  1.75438263e-02,\n",
              "        -2.70724539e-02,  4.92804758e-02, -4.89892960e-02,\n",
              "         1.58035196e-02, -1.69471726e-02,  4.35236581e-02,\n",
              "         1.40829571e-02,  4.21343483e-02, -3.92256156e-02,\n",
              "         2.39828713e-02,  7.06011057e-03, -6.01572916e-03,\n",
              "        -3.12930942e-02,  3.25785987e-02, -4.54855338e-02,\n",
              "        -2.76922118e-02, -6.05534762e-04],\n",
              "       [ 3.60032581e-02, -3.97911780e-02,  2.39280574e-02,\n",
              "        -3.30967456e-02,  5.59642166e-03, -4.26750295e-02,\n",
              "         3.66541632e-02,  2.24439539e-02, -2.07938310e-02,\n",
              "        -1.32812485e-02,  3.54786627e-02,  3.75082232e-02,\n",
              "         1.76453926e-02, -2.55438685e-02,  4.62679155e-02,\n",
              "         3.62098925e-02,  2.61828937e-02,  4.29436453e-02,\n",
              "         9.90750641e-03, -4.37375195e-02,  4.64500897e-02,\n",
              "         3.34426016e-03, -2.08157431e-02,  3.22603919e-02,\n",
              "        -2.78869998e-02,  4.90059145e-02,  4.47293036e-02,\n",
              "        -2.46183947e-03, -3.89800221e-03, -2.72840392e-02,\n",
              "        -2.35611442e-02,  2.09845603e-04],\n",
              "       [-2.29075309e-02, -2.19830275e-02,  2.49835514e-02,\n",
              "         2.29768790e-02, -1.57510154e-02,  3.19658257e-02,\n",
              "        -1.93219185e-02,  1.56402104e-02,  1.20501891e-02,\n",
              "        -2.58742571e-02, -4.12705317e-02, -7.49150664e-03,\n",
              "        -6.27613068e-03, -3.64842638e-02, -3.91517989e-02,\n",
              "        -3.51138711e-02,  2.48849131e-02,  2.03621648e-02,\n",
              "         3.91368307e-02,  3.64980958e-02, -1.80241354e-02,\n",
              "         3.09002064e-02,  3.36046107e-02, -1.23607032e-02,\n",
              "         3.06183212e-02,  3.78403813e-03,  6.98553398e-03,\n",
              "        -1.12919882e-03,  3.06726582e-02, -8.28371197e-03,\n",
              "         4.47012819e-02, -4.09982800e-02],\n",
              "       [-4.10120487e-02,  1.50482543e-02, -2.66647581e-02,\n",
              "        -1.14780292e-02,  1.36374310e-03,  2.76635624e-02,\n",
              "        -4.11766060e-02,  1.75258853e-02,  4.00295295e-02,\n",
              "         3.14995758e-02,  4.03605774e-03, -3.52679566e-03,\n",
              "        -3.19237262e-02, -9.46114212e-03,  4.59908508e-02,\n",
              "        -2.69619711e-02,  4.66802232e-02,  5.34535572e-03,\n",
              "        -9.49858502e-03, -3.07530519e-02,  3.31920870e-02,\n",
              "         4.99391556e-03, -4.40576077e-02,  7.29214400e-04,\n",
              "        -4.77094911e-02, -4.51995246e-02,  3.39752696e-02,\n",
              "         9.79920477e-03, -3.14243212e-02,  9.85486433e-03,\n",
              "        -2.10711118e-02,  3.35001983e-02],\n",
              "       [ 4.99649383e-02, -2.83365846e-02,  3.19533087e-02,\n",
              "        -3.37338820e-02, -3.56302634e-02, -3.34486850e-02,\n",
              "        -4.10605222e-04, -1.60998106e-02,  1.84379853e-02,\n",
              "        -2.92975791e-02,  3.56000550e-02,  2.54109763e-02,\n",
              "        -8.38673115e-03,  4.98528406e-03,  1.55326016e-02,\n",
              "         1.56223886e-02, -3.98271084e-02,  8.96443054e-03,\n",
              "        -4.91322167e-02, -3.53486761e-02,  1.49865076e-03,\n",
              "        -2.47576088e-03,  4.57073785e-02,  3.58334221e-02,\n",
              "        -2.56284717e-02, -3.66622694e-02,  3.35763767e-03,\n",
              "        -4.22412045e-02,  2.40314342e-02, -2.75942218e-02,\n",
              "         3.23435403e-02,  1.87484175e-03],\n",
              "       [ 1.32172816e-02,  3.58911492e-02,  1.04040504e-02,\n",
              "         1.74876712e-02, -2.72217877e-02,  3.06320302e-02,\n",
              "         1.69885196e-02, -4.11983728e-02, -1.84073225e-02,\n",
              "        -2.09391471e-02,  2.07597502e-02, -1.70830004e-02,\n",
              "         2.11895145e-02,  3.83011736e-02, -3.84521484e-02,\n",
              "        -3.05148959e-02, -1.94344278e-02, -4.70056050e-02,\n",
              "        -3.77677195e-02, -1.41780861e-02,  2.63085477e-02,\n",
              "         2.23889016e-02, -4.67113964e-02,  4.33440916e-02,\n",
              "        -4.76129353e-05, -5.73879480e-03, -6.71579689e-03,\n",
              "         4.66767438e-02, -1.02486983e-02,  7.30633736e-03,\n",
              "        -3.86161096e-02, -2.10436229e-02],\n",
              "       [ 1.32172816e-02,  3.58911492e-02,  1.04040504e-02,\n",
              "         1.74876712e-02, -2.72217877e-02,  3.06320302e-02,\n",
              "         1.69885196e-02, -4.11983728e-02, -1.84073225e-02,\n",
              "        -2.09391471e-02,  2.07597502e-02, -1.70830004e-02,\n",
              "         2.11895145e-02,  3.83011736e-02, -3.84521484e-02,\n",
              "        -3.05148959e-02, -1.94344278e-02, -4.70056050e-02,\n",
              "        -3.77677195e-02, -1.41780861e-02,  2.63085477e-02,\n",
              "         2.23889016e-02, -4.67113964e-02,  4.33440916e-02,\n",
              "        -4.76129353e-05, -5.73879480e-03, -6.71579689e-03,\n",
              "         4.66767438e-02, -1.02486983e-02,  7.30633736e-03,\n",
              "        -3.86161096e-02, -2.10436229e-02],\n",
              "       [ 1.32172816e-02,  3.58911492e-02,  1.04040504e-02,\n",
              "         1.74876712e-02, -2.72217877e-02,  3.06320302e-02,\n",
              "         1.69885196e-02, -4.11983728e-02, -1.84073225e-02,\n",
              "        -2.09391471e-02,  2.07597502e-02, -1.70830004e-02,\n",
              "         2.11895145e-02,  3.83011736e-02, -3.84521484e-02,\n",
              "        -3.05148959e-02, -1.94344278e-02, -4.70056050e-02,\n",
              "        -3.77677195e-02, -1.41780861e-02,  2.63085477e-02,\n",
              "         2.23889016e-02, -4.67113964e-02,  4.33440916e-02,\n",
              "        -4.76129353e-05, -5.73879480e-03, -6.71579689e-03,\n",
              "         4.66767438e-02, -1.02486983e-02,  7.30633736e-03,\n",
              "        -3.86161096e-02, -2.10436229e-02],\n",
              "       [ 1.32172816e-02,  3.58911492e-02,  1.04040504e-02,\n",
              "         1.74876712e-02, -2.72217877e-02,  3.06320302e-02,\n",
              "         1.69885196e-02, -4.11983728e-02, -1.84073225e-02,\n",
              "        -2.09391471e-02,  2.07597502e-02, -1.70830004e-02,\n",
              "         2.11895145e-02,  3.83011736e-02, -3.84521484e-02,\n",
              "        -3.05148959e-02, -1.94344278e-02, -4.70056050e-02,\n",
              "        -3.77677195e-02, -1.41780861e-02,  2.63085477e-02,\n",
              "         2.23889016e-02, -4.67113964e-02,  4.33440916e-02,\n",
              "        -4.76129353e-05, -5.73879480e-03, -6.71579689e-03,\n",
              "         4.66767438e-02, -1.02486983e-02,  7.30633736e-03,\n",
              "        -3.86161096e-02, -2.10436229e-02]], dtype=float32)>"
            ]
          },
          "metadata": {},
          "execution_count": 39
        }
      ]
    },
    {
      "cell_type": "markdown",
      "source": [
        "## Analyze with Naive Bayes using TF-IDF:"
      ],
      "metadata": {
        "id": "zLSl6TnnVWTQ"
      }
    },
    {
      "cell_type": "code",
      "source": [
        "from sklearn.feature_extraction.text import TfidfVectorizer\n",
        "from sklearn.naive_bayes import MultinomialNB\n",
        "from sklearn.pipeline import Pipeline\n",
        "from sklearn.metrics import accuracy_score, classification_report"
      ],
      "metadata": {
        "id": "rQvF8mI-9Ei7"
      },
      "execution_count": 99,
      "outputs": []
    },
    {
      "cell_type": "code",
      "source": [
        "model_0 = Pipeline([\n",
        "                    ('tfidf', TfidfVectorizer()),\n",
        "                    ('clf', MultinomialNB())\n",
        "])\n",
        "\n",
        "model_0.fit(train_data,train_label)"
      ],
      "metadata": {
        "colab": {
          "base_uri": "https://localhost:8080/"
        },
        "id": "eujQFWfsVsPw",
        "outputId": "adb22062-9001-412e-ebe9-4a47f9a2c17d"
      },
      "execution_count": 100,
      "outputs": [
        {
          "output_type": "execute_result",
          "data": {
            "text/plain": [
              "Pipeline(steps=[('tfidf', TfidfVectorizer()), ('clf', MultinomialNB())])"
            ]
          },
          "metadata": {},
          "execution_count": 100
        }
      ]
    },
    {
      "cell_type": "code",
      "source": [
        "val_pred = model_0.predict(val_data)\n",
        "val_pred[:10]"
      ],
      "metadata": {
        "colab": {
          "base_uri": "https://localhost:8080/"
        },
        "id": "LDbu8EzFXBsa",
        "outputId": "c5e30734-200b-42f6-b1a3-35c36d872fa8"
      },
      "execution_count": 101,
      "outputs": [
        {
          "output_type": "execute_result",
          "data": {
            "text/plain": [
              "array([0, 0, 0, 0, 0, 0, 0, 0, 0, 1])"
            ]
          },
          "metadata": {},
          "execution_count": 101
        }
      ]
    },
    {
      "cell_type": "code",
      "source": [
        "val_label[:10]"
      ],
      "metadata": {
        "colab": {
          "base_uri": "https://localhost:8080/"
        },
        "id": "36pZya2qXXm1",
        "outputId": "52e79a41-9947-40f6-807c-3e07ed4153ee"
      },
      "execution_count": 102,
      "outputs": [
        {
          "output_type": "execute_result",
          "data": {
            "text/plain": [
              "array([1, 0, 1, 0, 0, 0, 1, 1, 0, 1])"
            ]
          },
          "metadata": {},
          "execution_count": 102
        }
      ]
    },
    {
      "cell_type": "code",
      "source": [
        "accuracy_score(val_label, val_pred)"
      ],
      "metadata": {
        "colab": {
          "base_uri": "https://localhost:8080/"
        },
        "id": "DIcwlAlyXaCW",
        "outputId": "cb9c301e-71cd-4453-9d45-e1b13d9cd59e"
      },
      "execution_count": 103,
      "outputs": [
        {
          "output_type": "execute_result",
          "data": {
            "text/plain": [
              "0.7782152230971129"
            ]
          },
          "metadata": {},
          "execution_count": 103
        }
      ]
    },
    {
      "cell_type": "code",
      "source": [
        "print(classification_report(val_label, val_pred))"
      ],
      "metadata": {
        "colab": {
          "base_uri": "https://localhost:8080/"
        },
        "id": "qA58DXXQXlx6",
        "outputId": "4382d9e7-9881-4bb4-bd3e-9f8e290e8fde"
      },
      "execution_count": 104,
      "outputs": [
        {
          "output_type": "stream",
          "name": "stdout",
          "text": [
            "              precision    recall  f1-score   support\n",
            "\n",
            "           0       0.74      0.92      0.82       426\n",
            "           1       0.86      0.60      0.70       336\n",
            "\n",
            "    accuracy                           0.78       762\n",
            "   macro avg       0.80      0.76      0.76       762\n",
            "weighted avg       0.79      0.78      0.77       762\n",
            "\n"
          ]
        }
      ]
    },
    {
      "cell_type": "code",
      "source": [
        "tweets=['earthquake hit california minutes ago', \n",
        "        'my car on fire now', \n",
        "        'I need a blue car']"
      ],
      "metadata": {
        "id": "AZmZc_PeN5_B"
      },
      "execution_count": 105,
      "outputs": []
    },
    {
      "cell_type": "code",
      "source": [
        "model_0.predict_proba(tweets)"
      ],
      "metadata": {
        "colab": {
          "base_uri": "https://localhost:8080/"
        },
        "outputId": "bfe47966-53c4-4b89-8e81-5343abaf3ff3",
        "id": "7fsCAGqqN5_C"
      },
      "execution_count": 106,
      "outputs": [
        {
          "output_type": "execute_result",
          "data": {
            "text/plain": [
              "array([[0.22063312, 0.77936688],\n",
              "       [0.58453661, 0.41546339],\n",
              "       [0.71572258, 0.28427742]])"
            ]
          },
          "metadata": {},
          "execution_count": 106
        }
      ]
    },
    {
      "cell_type": "code",
      "source": [
        "model_0.predict(tweets)"
      ],
      "metadata": {
        "colab": {
          "base_uri": "https://localhost:8080/"
        },
        "outputId": "0f1d7e10-fc35-405d-86f7-2f77811e8c50",
        "id": "2M8DnTOoN5_D"
      },
      "execution_count": 107,
      "outputs": [
        {
          "output_type": "execute_result",
          "data": {
            "text/plain": [
              "array([1, 0, 0])"
            ]
          },
          "metadata": {},
          "execution_count": 107
        }
      ]
    },
    {
      "cell_type": "markdown",
      "source": [
        "## Analyze with Vanilla Neural Network:"
      ],
      "metadata": {
        "id": "aKLoyZ2-73qI"
      }
    },
    {
      "cell_type": "code",
      "source": [
        "from helper_functions import create_tensorboard_callback"
      ],
      "metadata": {
        "id": "y9P2vMYU9ySx"
      },
      "execution_count": 43,
      "outputs": []
    },
    {
      "cell_type": "code",
      "source": [
        "inputs = tf.keras.layers.Input(shape= (1,), dtype = tf.string)\n",
        "\n",
        "x = text_vectorizer(inputs)\n",
        "\n",
        "x = embedding(x)\n",
        "\n",
        "# x = tf.transpose(x , perm = [0,2,1])\n",
        "\n",
        "# print(x.shape)\n",
        "\n",
        "x = tf.keras.layers.GlobalAveragePooling1D()(x)\n",
        "\n",
        "x = tf.keras.layers.Dense(10, activation='relu')(x)\n",
        "\n",
        "outputs = tf.keras.layers.Dense(1, activation='sigmoid')(x)\n",
        "\n",
        "model_1 = tf.keras.Model(inputs,outputs, name='ANN')"
      ],
      "metadata": {
        "id": "yvsEiUlGPYkI"
      },
      "execution_count": 109,
      "outputs": []
    },
    {
      "cell_type": "code",
      "source": [
        "model_1.summary()"
      ],
      "metadata": {
        "colab": {
          "base_uri": "https://localhost:8080/"
        },
        "id": "XQR0a3l1RYjX",
        "outputId": "ab375bdf-ad7c-41b9-a7fd-97bcc3a536b8"
      },
      "execution_count": 110,
      "outputs": [
        {
          "output_type": "stream",
          "name": "stdout",
          "text": [
            "Model: \"ANN\"\n",
            "_________________________________________________________________\n",
            " Layer (type)                Output Shape              Param #   \n",
            "=================================================================\n",
            " input_4 (InputLayer)        [(None, 1)]               0         \n",
            "                                                                 \n",
            " text_vectorization_3 (TextV  (None, 15)               0         \n",
            " ectorization)                                                   \n",
            "                                                                 \n",
            " embedding_1 (Embedding)     (None, 15, 32)            320000    \n",
            "                                                                 \n",
            " global_average_pooling1d_1   (None, 32)               0         \n",
            " (GlobalAveragePooling1D)                                        \n",
            "                                                                 \n",
            " dense_4 (Dense)             (None, 10)                330       \n",
            "                                                                 \n",
            " dense_5 (Dense)             (None, 1)                 11        \n",
            "                                                                 \n",
            "=================================================================\n",
            "Total params: 320,341\n",
            "Trainable params: 320,341\n",
            "Non-trainable params: 0\n",
            "_________________________________________________________________\n"
          ]
        }
      ]
    },
    {
      "cell_type": "code",
      "source": [
        "model_1.compile(loss = tf.keras.losses.BinaryCrossentropy(),\n",
        "                 optimizer = tf.keras.optimizers.Adam(),\n",
        "                 metrics= ['accuracy'])"
      ],
      "metadata": {
        "id": "2SeRFBI7YYDW"
      },
      "execution_count": 111,
      "outputs": []
    },
    {
      "cell_type": "code",
      "source": [
        "train_label.shape"
      ],
      "metadata": {
        "colab": {
          "base_uri": "https://localhost:8080/"
        },
        "id": "KpzpyMV3Ul2q",
        "outputId": "c5fcf68c-21a1-45f3-ee0d-88579c1da5f1"
      },
      "execution_count": 112,
      "outputs": [
        {
          "output_type": "execute_result",
          "data": {
            "text/plain": [
              "(6851,)"
            ]
          },
          "metadata": {},
          "execution_count": 112
        }
      ]
    },
    {
      "cell_type": "code",
      "source": [
        "train_data.shape"
      ],
      "metadata": {
        "colab": {
          "base_uri": "https://localhost:8080/"
        },
        "id": "HzbQ7dLIURgt",
        "outputId": "35a2700d-bd26-4648-e648-82d6bbca8ca2"
      },
      "execution_count": 113,
      "outputs": [
        {
          "output_type": "execute_result",
          "data": {
            "text/plain": [
              "(6851,)"
            ]
          },
          "metadata": {},
          "execution_count": 113
        }
      ]
    },
    {
      "cell_type": "code",
      "source": [
        "# !rm -rf './tensorboard/ANN'"
      ],
      "metadata": {
        "id": "OOFNhm_8bHx3"
      },
      "execution_count": 114,
      "outputs": []
    },
    {
      "cell_type": "code",
      "source": [
        "history_1 = model_1.fit(train_data, \n",
        "            train_label, \n",
        "            validation_data = (val_data,val_label), \n",
        "            epochs=10, \n",
        "            callbacks=[create_tensorboard_callback('tensorboard','ANN')])"
      ],
      "metadata": {
        "colab": {
          "base_uri": "https://localhost:8080/"
        },
        "id": "Vg8TwjcZNbtc",
        "outputId": "1465dacd-d2ff-4b10-cbfb-4728badb00f1"
      },
      "execution_count": 115,
      "outputs": [
        {
          "output_type": "stream",
          "name": "stdout",
          "text": [
            "Saving TensorBoard log files to: tensorboard/ANN/20220831-141651\n",
            "Epoch 1/10\n",
            "215/215 [==============================] - 2s 8ms/step - loss: 0.6208 - accuracy: 0.6679 - val_loss: 0.5361 - val_accuracy: 0.7730\n",
            "Epoch 2/10\n",
            "215/215 [==============================] - 2s 7ms/step - loss: 0.4213 - accuracy: 0.8285 - val_loss: 0.4756 - val_accuracy: 0.7887\n",
            "Epoch 3/10\n",
            "215/215 [==============================] - 2s 7ms/step - loss: 0.3107 - accuracy: 0.8786 - val_loss: 0.4865 - val_accuracy: 0.7900\n",
            "Epoch 4/10\n",
            "215/215 [==============================] - 2s 7ms/step - loss: 0.2415 - accuracy: 0.9099 - val_loss: 0.5231 - val_accuracy: 0.7782\n",
            "Epoch 5/10\n",
            "215/215 [==============================] - 2s 7ms/step - loss: 0.1920 - accuracy: 0.9295 - val_loss: 0.5659 - val_accuracy: 0.7795\n",
            "Epoch 6/10\n",
            "215/215 [==============================] - 2s 7ms/step - loss: 0.1538 - accuracy: 0.9435 - val_loss: 0.6151 - val_accuracy: 0.7546\n",
            "Epoch 7/10\n",
            "215/215 [==============================] - 2s 7ms/step - loss: 0.1244 - accuracy: 0.9561 - val_loss: 0.6620 - val_accuracy: 0.7651\n",
            "Epoch 8/10\n",
            "215/215 [==============================] - 2s 8ms/step - loss: 0.1066 - accuracy: 0.9616 - val_loss: 0.7131 - val_accuracy: 0.7612\n",
            "Epoch 9/10\n",
            "215/215 [==============================] - 2s 7ms/step - loss: 0.0917 - accuracy: 0.9679 - val_loss: 0.7582 - val_accuracy: 0.7572\n",
            "Epoch 10/10\n",
            "215/215 [==============================] - 2s 7ms/step - loss: 0.0822 - accuracy: 0.9708 - val_loss: 0.8066 - val_accuracy: 0.7375\n"
          ]
        }
      ]
    },
    {
      "cell_type": "code",
      "source": [
        "model_1.evaluate(val_data,val_label)"
      ],
      "metadata": {
        "colab": {
          "base_uri": "https://localhost:8080/"
        },
        "id": "E_kkLm5BbeAx",
        "outputId": "d39b4de1-8feb-4f22-84a6-3e208f9657b4"
      },
      "execution_count": 116,
      "outputs": [
        {
          "output_type": "stream",
          "name": "stdout",
          "text": [
            "24/24 [==============================] - 0s 2ms/step - loss: 0.8066 - accuracy: 0.7375\n"
          ]
        },
        {
          "output_type": "execute_result",
          "data": {
            "text/plain": [
              "[0.8065906167030334, 0.7375327944755554]"
            ]
          },
          "metadata": {},
          "execution_count": 116
        }
      ]
    },
    {
      "cell_type": "code",
      "source": [
        "tweets=['earthquake hit california minutes ago', \n",
        "        'my car on fire now', \n",
        "        'I need a blue car']"
      ],
      "metadata": {
        "id": "UTc9X6MSlQ2R"
      },
      "execution_count": 117,
      "outputs": []
    },
    {
      "cell_type": "code",
      "source": [
        "model_1.predict(tweets)"
      ],
      "metadata": {
        "colab": {
          "base_uri": "https://localhost:8080/"
        },
        "id": "OhzkcaCXlBWY",
        "outputId": "038291fd-3359-4613-85c9-07d526df95f9"
      },
      "execution_count": 118,
      "outputs": [
        {
          "output_type": "execute_result",
          "data": {
            "text/plain": [
              "array([[0.99008334],\n",
              "       [0.8733567 ],\n",
              "       [0.13929242]], dtype=float32)"
            ]
          },
          "metadata": {},
          "execution_count": 118
        }
      ]
    },
    {
      "cell_type": "markdown",
      "source": [
        "## Retrieve the trained word embeddings:"
      ],
      "metadata": {
        "id": "4jHHRrvj0pcr"
      }
    },
    {
      "cell_type": "code",
      "source": [
        "weights = model_1.get_layer('embedding_1').get_weights()[0]\n",
        "weights"
      ],
      "metadata": {
        "colab": {
          "base_uri": "https://localhost:8080/"
        },
        "id": "M9sc4sf0pUVs",
        "outputId": "d90f85fd-8883-4df9-eff0-a4ed35071bba"
      },
      "execution_count": 120,
      "outputs": [
        {
          "output_type": "execute_result",
          "data": {
            "text/plain": [
              "array([[-0.08298621, -0.13634099,  0.05477232, ...,  0.04899124,\n",
              "        -0.02966163,  0.2385307 ],\n",
              "       [-0.05942355, -0.17479044,  0.05854312, ..., -0.01682679,\n",
              "        -0.08783812,  0.3249058 ],\n",
              "       [-0.11072761, -0.2244753 ,  0.02839673, ...,  0.00070712,\n",
              "        -0.03209427,  0.3251321 ],\n",
              "       ...,\n",
              "       [ 0.04783612, -0.09144634, -0.04565182, ...,  0.06586561,\n",
              "         0.01778056, -0.02519452],\n",
              "       [-0.03338373,  0.00361751,  0.03419486, ..., -0.03272738,\n",
              "        -0.0116438 ,  0.01218984],\n",
              "       [-0.01321663, -0.0235847 , -0.01725016, ...,  0.02444207,\n",
              "        -0.04261788, -0.00392542]], dtype=float32)"
            ]
          },
          "metadata": {},
          "execution_count": 120
        }
      ]
    },
    {
      "cell_type": "code",
      "source": [
        "weights.shape"
      ],
      "metadata": {
        "colab": {
          "base_uri": "https://localhost:8080/"
        },
        "id": "LYur0NNc0UJp",
        "outputId": "787bb56b-c472-49fe-c3a5-f18a37229fe2"
      },
      "execution_count": 121,
      "outputs": [
        {
          "output_type": "execute_result",
          "data": {
            "text/plain": [
              "(10000, 32)"
            ]
          },
          "metadata": {},
          "execution_count": 121
        }
      ]
    },
    {
      "cell_type": "code",
      "source": [
        "vocab = text_vectorizer.get_vocabulary()\n",
        "vocab[:10]"
      ],
      "metadata": {
        "colab": {
          "base_uri": "https://localhost:8080/"
        },
        "id": "gQooUcMe0ob1",
        "outputId": "e6d8615f-c83c-48ac-df03-8485f5b2b7f7"
      },
      "execution_count": 122,
      "outputs": [
        {
          "output_type": "execute_result",
          "data": {
            "text/plain": [
              "['', '[UNK]', 'the', 'a', 'in', 'to', 'of', 'and', 'i', 'is']"
            ]
          },
          "metadata": {},
          "execution_count": 122
        }
      ]
    },
    {
      "cell_type": "code",
      "source": [
        "import io\n",
        "out_v = io.open('vectors.tsv', 'w', encoding='utf-8')\n",
        "out_m = io.open('metadata.tsv', 'w', encoding='utf-8')\n",
        "\n",
        "for index, word in enumerate(vocab):\n",
        "  if index == 0:\n",
        "    continue  # skip 0, it's padding.\n",
        "  vec = weights[index]\n",
        "  out_v.write('\\t'.join([str(x) for x in vec]) + \"\\n\")\n",
        "  out_m.write(word + \"\\n\")\n",
        "out_v.close()\n",
        "out_m.close()"
      ],
      "metadata": {
        "id": "Ln_QVjQ_Ieig"
      },
      "execution_count": 123,
      "outputs": []
    },
    {
      "cell_type": "code",
      "source": [
        "# try:\n",
        "#   from google.colab import files\n",
        "#   files.download('vectors.tsv')\n",
        "#   files.download('metadata.tsv')\n",
        "# except Exception:\n",
        "#   pass"
      ],
      "metadata": {
        "id": "7XH4_JyrItP-"
      },
      "execution_count": 124,
      "outputs": []
    },
    {
      "cell_type": "markdown",
      "source": [
        "Then, use [Embedding Projector](http://projector.tensorflow.org/) to Visualize the embeddings"
      ],
      "metadata": {
        "id": "Rz0TllBkI6_E"
      }
    },
    {
      "cell_type": "markdown",
      "source": [
        "## Analyzie with LSTM model:"
      ],
      "metadata": {
        "id": "Se_weCsVw0NK"
      }
    },
    {
      "cell_type": "code",
      "source": [
        "inputs = tf.keras.layers.Input(shape= (1), dtype = tf.string)\n",
        "\n",
        "x = text_vectorizer(inputs)\n",
        "\n",
        "x = embedding(x)\n",
        "\n",
        "# x = tf.transpose(x , perm = [0,2,1])\n",
        "\n",
        "# print(x.shape)\n",
        "\n",
        "# x = tf.keras.layers.Flatten()(x)\n",
        "\n",
        "x = tf.keras.layers.LSTM(64,  return_sequences=True)(x)\n",
        "x = tf.keras.layers.LSTM(32)(x)\n",
        "\n",
        "x = tf.keras.layers.Dense(16, activation='relu')(x)\n",
        "outputs = tf.keras.layers.Dense(1, activation='sigmoid')(x)\n",
        "\n",
        "model_2 = tf.keras.Model(inputs,outputs, name='LSTM')"
      ],
      "metadata": {
        "id": "96Qi40rIw5GI"
      },
      "execution_count": 131,
      "outputs": []
    },
    {
      "cell_type": "code",
      "source": [
        "model_2.summary()"
      ],
      "metadata": {
        "colab": {
          "base_uri": "https://localhost:8080/"
        },
        "outputId": "ebc9a446-12fc-4caa-ab41-6441bab061e2",
        "id": "vKSzooeIw5GJ"
      },
      "execution_count": 132,
      "outputs": [
        {
          "output_type": "stream",
          "name": "stdout",
          "text": [
            "Model: \"LSTM\"\n",
            "_________________________________________________________________\n",
            " Layer (type)                Output Shape              Param #   \n",
            "=================================================================\n",
            " input_6 (InputLayer)        [(None, 1)]               0         \n",
            "                                                                 \n",
            " text_vectorization_3 (TextV  (None, 15)               0         \n",
            " ectorization)                                                   \n",
            "                                                                 \n",
            " embedding_1 (Embedding)     (None, 15, 32)            320000    \n",
            "                                                                 \n",
            " lstm_7 (LSTM)               (None, 15, 64)            24832     \n",
            "                                                                 \n",
            " lstm_8 (LSTM)               (None, 32)                12416     \n",
            "                                                                 \n",
            " dense_8 (Dense)             (None, 16)                528       \n",
            "                                                                 \n",
            " dense_9 (Dense)             (None, 1)                 17        \n",
            "                                                                 \n",
            "=================================================================\n",
            "Total params: 357,793\n",
            "Trainable params: 357,793\n",
            "Non-trainable params: 0\n",
            "_________________________________________________________________\n"
          ]
        }
      ]
    },
    {
      "cell_type": "code",
      "source": [
        "model_2.compile(loss = tf.keras.losses.BinaryCrossentropy(),\n",
        "                 optimizer = tf.keras.optimizers.Adam(),\n",
        "                 metrics= ['accuracy'])"
      ],
      "metadata": {
        "id": "ewHkj2ZXw5GJ"
      },
      "execution_count": 133,
      "outputs": []
    },
    {
      "cell_type": "code",
      "source": [
        "# !rm -rf './tensorboard/LSTM'"
      ],
      "metadata": {
        "id": "LpIUPzhiw5GK"
      },
      "execution_count": 134,
      "outputs": []
    },
    {
      "cell_type": "code",
      "source": [
        "history_2 = model_2.fit(train_data, \n",
        "            train_label, \n",
        "            validation_data = (val_data,val_label), \n",
        "            epochs=10, \n",
        "            callbacks=[create_tensorboard_callback('tensorboard','LSTM')])"
      ],
      "metadata": {
        "colab": {
          "base_uri": "https://localhost:8080/"
        },
        "outputId": "a09c9586-0919-4575-cf14-ffac931dd2b8",
        "id": "PSI6IaAhw5GK"
      },
      "execution_count": 135,
      "outputs": [
        {
          "output_type": "stream",
          "name": "stdout",
          "text": [
            "Saving TensorBoard log files to: tensorboard/LSTM/20220831-142049\n",
            "Epoch 1/10\n",
            "215/215 [==============================] - 11s 32ms/step - loss: 0.1675 - accuracy: 0.9540 - val_loss: 0.8968 - val_accuracy: 0.7454\n",
            "Epoch 2/10\n",
            "215/215 [==============================] - 7s 32ms/step - loss: 0.0629 - accuracy: 0.9755 - val_loss: 1.2763 - val_accuracy: 0.7559\n",
            "Epoch 3/10\n",
            "215/215 [==============================] - 6s 28ms/step - loss: 0.0532 - accuracy: 0.9768 - val_loss: 1.0775 - val_accuracy: 0.7480\n",
            "Epoch 4/10\n",
            "215/215 [==============================] - 6s 28ms/step - loss: 0.0490 - accuracy: 0.9781 - val_loss: 1.2846 - val_accuracy: 0.7349\n",
            "Epoch 5/10\n",
            "215/215 [==============================] - 6s 28ms/step - loss: 0.0466 - accuracy: 0.9791 - val_loss: 1.4607 - val_accuracy: 0.7507\n",
            "Epoch 6/10\n",
            "215/215 [==============================] - 6s 28ms/step - loss: 0.0455 - accuracy: 0.9800 - val_loss: 1.1833 - val_accuracy: 0.7441\n",
            "Epoch 7/10\n",
            "215/215 [==============================] - 6s 28ms/step - loss: 0.0394 - accuracy: 0.9809 - val_loss: 1.4714 - val_accuracy: 0.7283\n",
            "Epoch 8/10\n",
            "215/215 [==============================] - 6s 29ms/step - loss: 0.0385 - accuracy: 0.9810 - val_loss: 1.7473 - val_accuracy: 0.7507\n",
            "Epoch 9/10\n",
            "215/215 [==============================] - 6s 29ms/step - loss: 0.0379 - accuracy: 0.9813 - val_loss: 1.6295 - val_accuracy: 0.7362\n",
            "Epoch 10/10\n",
            "215/215 [==============================] - 6s 28ms/step - loss: 0.0395 - accuracy: 0.9823 - val_loss: 1.5811 - val_accuracy: 0.7402\n"
          ]
        }
      ]
    },
    {
      "cell_type": "code",
      "source": [
        "model_2.evaluate(val_data,val_label)"
      ],
      "metadata": {
        "colab": {
          "base_uri": "https://localhost:8080/"
        },
        "outputId": "9de132c2-7258-4e2c-dda9-796e604bde47",
        "id": "mjcfDDe9w5GK"
      },
      "execution_count": 136,
      "outputs": [
        {
          "output_type": "stream",
          "name": "stdout",
          "text": [
            "24/24 [==============================] - 0s 12ms/step - loss: 1.5811 - accuracy: 0.7402\n"
          ]
        },
        {
          "output_type": "execute_result",
          "data": {
            "text/plain": [
              "[1.5810790061950684, 0.7401574850082397]"
            ]
          },
          "metadata": {},
          "execution_count": 136
        }
      ]
    },
    {
      "cell_type": "code",
      "source": [],
      "metadata": {
        "id": "NM4rRrVPw5GK"
      },
      "execution_count": 136,
      "outputs": []
    },
    {
      "cell_type": "markdown",
      "source": [
        "### custom tweets:"
      ],
      "metadata": {
        "id": "BBYFxBg89rOA"
      }
    },
    {
      "cell_type": "code",
      "source": [
        "tweets=['earthquake hit california minutes ago', \n",
        "        'my car on fire now', \n",
        "        'I need a blue car']"
      ],
      "metadata": {
        "id": "idKzKyOyw5GL"
      },
      "execution_count": 137,
      "outputs": []
    },
    {
      "cell_type": "code",
      "source": [
        "model_2.predict(tweets)"
      ],
      "metadata": {
        "colab": {
          "base_uri": "https://localhost:8080/"
        },
        "id": "uHeDjk2jyevi",
        "outputId": "aabf61c4-1c64-46d6-9edc-9b84ade3b697"
      },
      "execution_count": 138,
      "outputs": [
        {
          "output_type": "execute_result",
          "data": {
            "text/plain": [
              "array([[9.9982065e-01],\n",
              "       [9.6496427e-01],\n",
              "       [8.6528063e-04]], dtype=float32)"
            ]
          },
          "metadata": {},
          "execution_count": 138
        }
      ]
    },
    {
      "cell_type": "code",
      "source": [],
      "metadata": {
        "id": "A7Dt-XsZ9f1V"
      },
      "execution_count": 138,
      "outputs": []
    },
    {
      "cell_type": "markdown",
      "source": [
        "## Analyzie with GRU model:"
      ],
      "metadata": {
        "id": "3ZDWKXF0BFJk"
      }
    },
    {
      "cell_type": "code",
      "source": [
        "inputs = tf.keras.layers.Input(shape= (1), dtype = tf.string)\n",
        "\n",
        "x = text_vectorizer(inputs)\n",
        "\n",
        "x = embedding(x)\n",
        "\n",
        "# x = tf.transpose(x , perm = [0,2,1])\n",
        "\n",
        "# print(x.shape)\n",
        "\n",
        "# x = tf.keras.layers.Flatten()(x)\n",
        "\n",
        "x = tf.keras.layers.GRU(64,  return_sequences=True)(x)\n",
        "x = tf.keras.layers.GRU(32)(x)\n",
        "\n",
        "x = tf.keras.layers.Dense(16, activation='relu')(x)\n",
        "outputs = tf.keras.layers.Dense(1, activation='sigmoid')(x)\n",
        "\n",
        "model_3 = tf.keras.Model(inputs,outputs, name='GRU')"
      ],
      "metadata": {
        "id": "Ld1eX0UYBFJw"
      },
      "execution_count": 139,
      "outputs": []
    },
    {
      "cell_type": "code",
      "source": [
        "model_3.summary()"
      ],
      "metadata": {
        "colab": {
          "base_uri": "https://localhost:8080/"
        },
        "outputId": "d6266866-7acd-42a1-ad98-ee5791f05392",
        "id": "W0udNZXqBFJx"
      },
      "execution_count": 140,
      "outputs": [
        {
          "output_type": "stream",
          "name": "stdout",
          "text": [
            "Model: \"GRU\"\n",
            "_________________________________________________________________\n",
            " Layer (type)                Output Shape              Param #   \n",
            "=================================================================\n",
            " input_7 (InputLayer)        [(None, 1)]               0         \n",
            "                                                                 \n",
            " text_vectorization_3 (TextV  (None, 15)               0         \n",
            " ectorization)                                                   \n",
            "                                                                 \n",
            " embedding_1 (Embedding)     (None, 15, 32)            320000    \n",
            "                                                                 \n",
            " gru (GRU)                   (None, 15, 64)            18816     \n",
            "                                                                 \n",
            " gru_1 (GRU)                 (None, 32)                9408      \n",
            "                                                                 \n",
            " dense_10 (Dense)            (None, 16)                528       \n",
            "                                                                 \n",
            " dense_11 (Dense)            (None, 1)                 17        \n",
            "                                                                 \n",
            "=================================================================\n",
            "Total params: 348,769\n",
            "Trainable params: 348,769\n",
            "Non-trainable params: 0\n",
            "_________________________________________________________________\n"
          ]
        }
      ]
    },
    {
      "cell_type": "code",
      "source": [
        "model_3.compile(loss = tf.keras.losses.BinaryCrossentropy(),\n",
        "                 optimizer = tf.keras.optimizers.Adam(),\n",
        "                 metrics= ['accuracy'])"
      ],
      "metadata": {
        "id": "FM8D4MAjBFJx"
      },
      "execution_count": 141,
      "outputs": []
    },
    {
      "cell_type": "code",
      "source": [
        "# !rm -rf './tensorboard/RNN'"
      ],
      "metadata": {
        "id": "CzkqipA3BFJy"
      },
      "execution_count": 142,
      "outputs": []
    },
    {
      "cell_type": "code",
      "source": [
        "history_3 = model_3.fit(train_data, \n",
        "            train_label, \n",
        "            validation_data = (val_data,val_label), \n",
        "            epochs=10, \n",
        "            callbacks=[create_tensorboard_callback('tensorboard','GRU')])"
      ],
      "metadata": {
        "colab": {
          "base_uri": "https://localhost:8080/"
        },
        "outputId": "885a4842-5f54-4218-f14e-12146de0b110",
        "id": "GE7mHiR0BFJy"
      },
      "execution_count": 143,
      "outputs": [
        {
          "output_type": "stream",
          "name": "stdout",
          "text": [
            "Saving TensorBoard log files to: tensorboard/GRU/20220831-142217\n",
            "Epoch 1/10\n",
            "215/215 [==============================] - 69s 33ms/step - loss: 0.1454 - accuracy: 0.9475 - val_loss: 0.8878 - val_accuracy: 0.7336\n",
            "Epoch 2/10\n",
            "215/215 [==============================] - 6s 27ms/step - loss: 0.0575 - accuracy: 0.9804 - val_loss: 1.1885 - val_accuracy: 0.7402\n",
            "Epoch 3/10\n",
            "215/215 [==============================] - 6s 28ms/step - loss: 0.0389 - accuracy: 0.9787 - val_loss: 1.7085 - val_accuracy: 0.7073\n",
            "Epoch 4/10\n",
            "215/215 [==============================] - 7s 32ms/step - loss: 0.0386 - accuracy: 0.9809 - val_loss: 1.6198 - val_accuracy: 0.7388\n",
            "Epoch 5/10\n",
            "215/215 [==============================] - 6s 27ms/step - loss: 0.0436 - accuracy: 0.9799 - val_loss: 1.6255 - val_accuracy: 0.7297\n",
            "Epoch 6/10\n",
            "215/215 [==============================] - 6s 28ms/step - loss: 0.0414 - accuracy: 0.9799 - val_loss: 1.7360 - val_accuracy: 0.7454\n",
            "Epoch 7/10\n",
            "215/215 [==============================] - 6s 28ms/step - loss: 0.0349 - accuracy: 0.9820 - val_loss: 1.5358 - val_accuracy: 0.7415\n",
            "Epoch 8/10\n",
            "215/215 [==============================] - 6s 29ms/step - loss: 0.0340 - accuracy: 0.9815 - val_loss: 1.3061 - val_accuracy: 0.7283\n",
            "Epoch 9/10\n",
            "215/215 [==============================] - 6s 28ms/step - loss: 0.0317 - accuracy: 0.9819 - val_loss: 1.9063 - val_accuracy: 0.7323\n",
            "Epoch 10/10\n",
            "215/215 [==============================] - 6s 27ms/step - loss: 0.0362 - accuracy: 0.9820 - val_loss: 1.6278 - val_accuracy: 0.7402\n"
          ]
        }
      ]
    },
    {
      "cell_type": "code",
      "source": [
        "model_3.evaluate(val_data,val_label)"
      ],
      "metadata": {
        "colab": {
          "base_uri": "https://localhost:8080/"
        },
        "outputId": "2e04e752-5fbb-4f3b-d4a6-f2f1af7b36f2",
        "id": "EQSrAuvnBFJy"
      },
      "execution_count": 144,
      "outputs": [
        {
          "output_type": "stream",
          "name": "stdout",
          "text": [
            "24/24 [==============================] - 0s 6ms/step - loss: 1.6278 - accuracy: 0.7402\n"
          ]
        },
        {
          "output_type": "execute_result",
          "data": {
            "text/plain": [
              "[1.6277616024017334, 0.7401574850082397]"
            ]
          },
          "metadata": {},
          "execution_count": 144
        }
      ]
    },
    {
      "cell_type": "code",
      "source": [],
      "metadata": {
        "id": "2EljkEvZBFJz"
      },
      "execution_count": 144,
      "outputs": []
    },
    {
      "cell_type": "markdown",
      "source": [
        "### custom tweets:"
      ],
      "metadata": {
        "id": "giM2haACBFJz"
      }
    },
    {
      "cell_type": "code",
      "source": [
        "tweets=['earthquake hit california minutes ago', \n",
        "        'my car on fire now', \n",
        "        'I need a blue car']"
      ],
      "metadata": {
        "id": "WimAgDgPBFJz"
      },
      "execution_count": 145,
      "outputs": []
    },
    {
      "cell_type": "code",
      "source": [
        "model_3.predict(tweets)"
      ],
      "metadata": {
        "colab": {
          "base_uri": "https://localhost:8080/"
        },
        "outputId": "425065b2-5dcb-4118-c2e4-8474ccd33abe",
        "id": "Na1chl1DBFJz"
      },
      "execution_count": 146,
      "outputs": [
        {
          "output_type": "execute_result",
          "data": {
            "text/plain": [
              "array([[9.9919200e-01],\n",
              "       [8.8962078e-01],\n",
              "       [3.2281876e-04]], dtype=float32)"
            ]
          },
          "metadata": {},
          "execution_count": 146
        }
      ]
    },
    {
      "cell_type": "code",
      "source": [],
      "metadata": {
        "id": "lwqKsiKmBmPF"
      },
      "execution_count": 146,
      "outputs": []
    },
    {
      "cell_type": "markdown",
      "source": [
        "## Analyzie with Bidirectional LSTM model:"
      ],
      "metadata": {
        "id": "dG8bfSq4Ij4e"
      }
    },
    {
      "cell_type": "code",
      "source": [
        "inputs = tf.keras.layers.Input(shape= (1), dtype = tf.string)\n",
        "\n",
        "x = text_vectorizer(inputs)\n",
        "\n",
        "x = embedding(x)\n",
        "\n",
        "# x = tf.transpose(x , perm = [0,2,1])\n",
        "\n",
        "# print(x.shape)\n",
        "\n",
        "# x = tf.keras.layers.Flatten()(x)\n",
        "\n",
        "x = tf.keras.layers.Bidirectional(tf.keras.layers.LSTM(64,  return_sequences=True))(x)\n",
        "x = tf.keras.layers.Bidirectional(tf.keras.layers.LSTM(32))(x)\n",
        "\n",
        "\n",
        "x = tf.keras.layers.Dense(16, activation='relu')(x)\n",
        "outputs = tf.keras.layers.Dense(1, activation='sigmoid')(x)\n",
        "\n",
        "model_4 = tf.keras.Model(inputs,outputs, name='Bidirectional-LSTM')"
      ],
      "metadata": {
        "id": "1Aori1liIj4r"
      },
      "execution_count": 147,
      "outputs": []
    },
    {
      "cell_type": "code",
      "source": [
        "model_4.summary()"
      ],
      "metadata": {
        "colab": {
          "base_uri": "https://localhost:8080/"
        },
        "outputId": "13fd7ac8-094b-43a7-d013-a084a2b52e0a",
        "id": "K89-Rp0lIj4s"
      },
      "execution_count": 148,
      "outputs": [
        {
          "output_type": "stream",
          "name": "stdout",
          "text": [
            "Model: \"Bidirectional-LSTM\"\n",
            "_________________________________________________________________\n",
            " Layer (type)                Output Shape              Param #   \n",
            "=================================================================\n",
            " input_8 (InputLayer)        [(None, 1)]               0         \n",
            "                                                                 \n",
            " text_vectorization_3 (TextV  (None, 15)               0         \n",
            " ectorization)                                                   \n",
            "                                                                 \n",
            " embedding_1 (Embedding)     (None, 15, 32)            320000    \n",
            "                                                                 \n",
            " bidirectional (Bidirectiona  (None, 15, 128)          49664     \n",
            " l)                                                              \n",
            "                                                                 \n",
            " bidirectional_1 (Bidirectio  (None, 64)               41216     \n",
            " nal)                                                            \n",
            "                                                                 \n",
            " dense_12 (Dense)            (None, 16)                1040      \n",
            "                                                                 \n",
            " dense_13 (Dense)            (None, 1)                 17        \n",
            "                                                                 \n",
            "=================================================================\n",
            "Total params: 411,937\n",
            "Trainable params: 411,937\n",
            "Non-trainable params: 0\n",
            "_________________________________________________________________\n"
          ]
        }
      ]
    },
    {
      "cell_type": "code",
      "source": [
        "model_4.compile(loss = tf.keras.losses.BinaryCrossentropy(),\n",
        "                 optimizer = tf.keras.optimizers.Adam(),\n",
        "                 metrics= ['accuracy'])"
      ],
      "metadata": {
        "id": "dw5ywdyXIj4s"
      },
      "execution_count": 149,
      "outputs": []
    },
    {
      "cell_type": "code",
      "source": [
        "# !rm -rf './tensorboard/RNN'"
      ],
      "metadata": {
        "id": "4kmDBN-FIj4s"
      },
      "execution_count": 150,
      "outputs": []
    },
    {
      "cell_type": "code",
      "source": [
        "history_4 = model_4.fit(train_data, \n",
        "            train_label, \n",
        "            validation_data = (val_data,val_label), \n",
        "            epochs=10, \n",
        "            callbacks=[create_tensorboard_callback('tensorboard','Bidirectional-LSTM')])"
      ],
      "metadata": {
        "colab": {
          "base_uri": "https://localhost:8080/"
        },
        "outputId": "9604b55b-7a29-4325-81a7-c62f1e33aad9",
        "id": "NCWr2KYoIj4s"
      },
      "execution_count": 151,
      "outputs": [
        {
          "output_type": "stream",
          "name": "stdout",
          "text": [
            "Saving TensorBoard log files to: tensorboard/Bidirectional-LSTM/20220831-142423\n",
            "Epoch 1/10\n",
            "215/215 [==============================] - 19s 50ms/step - loss: 0.1151 - accuracy: 0.9677 - val_loss: 1.0156 - val_accuracy: 0.7598\n",
            "Epoch 2/10\n",
            "215/215 [==============================] - 9s 41ms/step - loss: 0.0395 - accuracy: 0.9809 - val_loss: 1.4057 - val_accuracy: 0.7441\n",
            "Epoch 3/10\n",
            "215/215 [==============================] - 9s 40ms/step - loss: 0.0381 - accuracy: 0.9804 - val_loss: 1.4385 - val_accuracy: 0.7100\n",
            "Epoch 4/10\n",
            "215/215 [==============================] - 9s 40ms/step - loss: 0.0394 - accuracy: 0.9781 - val_loss: 1.6245 - val_accuracy: 0.7441\n",
            "Epoch 5/10\n",
            "215/215 [==============================] - 9s 41ms/step - loss: 0.0316 - accuracy: 0.9841 - val_loss: 1.7084 - val_accuracy: 0.7336\n",
            "Epoch 6/10\n",
            "215/215 [==============================] - 9s 40ms/step - loss: 0.0379 - accuracy: 0.9809 - val_loss: 1.7069 - val_accuracy: 0.7375\n",
            "Epoch 7/10\n",
            "215/215 [==============================] - 9s 40ms/step - loss: 0.0311 - accuracy: 0.9823 - val_loss: 1.8650 - val_accuracy: 0.7323\n",
            "Epoch 8/10\n",
            "215/215 [==============================] - 9s 40ms/step - loss: 0.0301 - accuracy: 0.9835 - val_loss: 1.9785 - val_accuracy: 0.7336\n",
            "Epoch 9/10\n",
            "215/215 [==============================] - 8s 39ms/step - loss: 0.0290 - accuracy: 0.9829 - val_loss: 2.0934 - val_accuracy: 0.7323\n",
            "Epoch 10/10\n",
            "215/215 [==============================] - 9s 40ms/step - loss: 0.0333 - accuracy: 0.9825 - val_loss: 1.8066 - val_accuracy: 0.7323\n"
          ]
        }
      ]
    },
    {
      "cell_type": "code",
      "source": [
        "model_4.evaluate(val_data,val_label)"
      ],
      "metadata": {
        "colab": {
          "base_uri": "https://localhost:8080/"
        },
        "outputId": "ecb83c75-0ce4-4718-9149-364e29a51093",
        "id": "Hz81WvjzIj4s"
      },
      "execution_count": 152,
      "outputs": [
        {
          "output_type": "stream",
          "name": "stdout",
          "text": [
            "24/24 [==============================] - 0s 10ms/step - loss: 1.8066 - accuracy: 0.7323\n"
          ]
        },
        {
          "output_type": "execute_result",
          "data": {
            "text/plain": [
              "[1.8065708875656128, 0.7322834730148315]"
            ]
          },
          "metadata": {},
          "execution_count": 152
        }
      ]
    },
    {
      "cell_type": "code",
      "source": [],
      "metadata": {
        "id": "HCKNG6feIj4t"
      },
      "execution_count": 152,
      "outputs": []
    },
    {
      "cell_type": "markdown",
      "source": [
        "### custom tweets:"
      ],
      "metadata": {
        "id": "4ZxyGjzKIj4t"
      }
    },
    {
      "cell_type": "code",
      "source": [
        "tweets=['earthquake hit california minutes ago', \n",
        "        'my car on fire now', \n",
        "        'I need a blue car']"
      ],
      "metadata": {
        "id": "n16CzxO9Ij4t"
      },
      "execution_count": 153,
      "outputs": []
    },
    {
      "cell_type": "code",
      "source": [
        "model_4.predict(tweets)"
      ],
      "metadata": {
        "colab": {
          "base_uri": "https://localhost:8080/"
        },
        "outputId": "744a8ced-c4e2-4f5d-b41c-559a8ffa8bb4",
        "id": "shnCstY6Ij4u"
      },
      "execution_count": 154,
      "outputs": [
        {
          "output_type": "stream",
          "name": "stderr",
          "text": [
            "WARNING:tensorflow:5 out of the last 5 calls to <function Model.make_predict_function.<locals>.predict_function at 0x7fecb2218b00> triggered tf.function retracing. Tracing is expensive and the excessive number of tracings could be due to (1) creating @tf.function repeatedly in a loop, (2) passing tensors with different shapes, (3) passing Python objects instead of tensors. For (1), please define your @tf.function outside of the loop. For (2), @tf.function has experimental_relax_shapes=True option that relaxes argument shapes that can avoid unnecessary retracing. For (3), please refer to https://www.tensorflow.org/guide/function#controlling_retracing and https://www.tensorflow.org/api_docs/python/tf/function for  more details.\n"
          ]
        },
        {
          "output_type": "execute_result",
          "data": {
            "text/plain": [
              "array([[9.9964130e-01],\n",
              "       [1.6864109e-01],\n",
              "       [9.6925622e-05]], dtype=float32)"
            ]
          },
          "metadata": {},
          "execution_count": 154
        }
      ]
    },
    {
      "cell_type": "code",
      "source": [],
      "metadata": {
        "id": "vrSBDvF6BmG9"
      },
      "execution_count": 154,
      "outputs": []
    },
    {
      "cell_type": "markdown",
      "source": [
        "## Analyzie with Convolutional 1D model:"
      ],
      "metadata": {
        "id": "NGmhMl5XLRID"
      }
    },
    {
      "cell_type": "code",
      "source": [
        "inputs = tf.keras.layers.Input(shape= (1), dtype = tf.string)\n",
        "\n",
        "x = text_vectorizer(inputs)\n",
        "\n",
        "x = embedding(x)\n",
        "\n",
        "# x = tf.transpose(x , perm = [0,2,1])\n",
        "\n",
        "# print(x.shape)\n",
        "\n",
        "# x = tf.keras.layers.Flatten()(x)\n",
        "print(x.shape)\n",
        "\n",
        "x = tf.keras.layers.Conv1D(filters=64, kernel_size=3,padding= 'valid')(x)\n",
        "print(x.shape)\n",
        "x = tf.keras.layers.Conv1D(filters=128, kernel_size=3,padding= 'valid')(x)\n",
        "print(x.shape)\n",
        "\n",
        "x = tf.keras.layers.GlobalAveragePooling1D()(x)\n",
        "x = tf.keras.layers.Dense(16, activation='relu')(x)\n",
        "outputs = tf.keras.layers.Dense(1, activation='sigmoid')(x)\n",
        "\n",
        "model_5 = tf.keras.Model(inputs,outputs, name='Bidirectional-LSTM')"
      ],
      "metadata": {
        "colab": {
          "base_uri": "https://localhost:8080/"
        },
        "id": "m0_DjJQMLRIV",
        "outputId": "05eed0ea-2ca2-4ca5-eff0-568f41cfe7d7"
      },
      "execution_count": 155,
      "outputs": [
        {
          "output_type": "stream",
          "name": "stdout",
          "text": [
            "(None, 15, 32)\n",
            "(None, 13, 64)\n",
            "(None, 11, 128)\n"
          ]
        }
      ]
    },
    {
      "cell_type": "code",
      "source": [
        "model_5.summary()"
      ],
      "metadata": {
        "colab": {
          "base_uri": "https://localhost:8080/"
        },
        "outputId": "9d505e5b-60f2-45fa-8700-0c09fc461923",
        "id": "fuBsX9TqLRIV"
      },
      "execution_count": 156,
      "outputs": [
        {
          "output_type": "stream",
          "name": "stdout",
          "text": [
            "Model: \"Bidirectional-LSTM\"\n",
            "_________________________________________________________________\n",
            " Layer (type)                Output Shape              Param #   \n",
            "=================================================================\n",
            " input_9 (InputLayer)        [(None, 1)]               0         \n",
            "                                                                 \n",
            " text_vectorization_3 (TextV  (None, 15)               0         \n",
            " ectorization)                                                   \n",
            "                                                                 \n",
            " embedding_1 (Embedding)     (None, 15, 32)            320000    \n",
            "                                                                 \n",
            " conv1d (Conv1D)             (None, 13, 64)            6208      \n",
            "                                                                 \n",
            " conv1d_1 (Conv1D)           (None, 11, 128)           24704     \n",
            "                                                                 \n",
            " global_average_pooling1d_2   (None, 128)              0         \n",
            " (GlobalAveragePooling1D)                                        \n",
            "                                                                 \n",
            " dense_14 (Dense)            (None, 16)                2064      \n",
            "                                                                 \n",
            " dense_15 (Dense)            (None, 1)                 17        \n",
            "                                                                 \n",
            "=================================================================\n",
            "Total params: 352,993\n",
            "Trainable params: 352,993\n",
            "Non-trainable params: 0\n",
            "_________________________________________________________________\n"
          ]
        }
      ]
    },
    {
      "cell_type": "code",
      "source": [
        "model_5.compile(loss = tf.keras.losses.BinaryCrossentropy(),\n",
        "                 optimizer = tf.keras.optimizers.Adam(),\n",
        "                 metrics= ['accuracy'])"
      ],
      "metadata": {
        "id": "gZCydmCELRIW"
      },
      "execution_count": 157,
      "outputs": []
    },
    {
      "cell_type": "code",
      "source": [
        "# !rm -rf './tensorboard/RNN'"
      ],
      "metadata": {
        "id": "4gOQ70YcLRIW"
      },
      "execution_count": 158,
      "outputs": []
    },
    {
      "cell_type": "code",
      "source": [
        "history_5 = model_5.fit(train_data, \n",
        "            train_label, \n",
        "            validation_data = (val_data,val_label), \n",
        "            epochs=10, \n",
        "            callbacks=[create_tensorboard_callback('tensorboard','Bidirectional-LSTM')])"
      ],
      "metadata": {
        "colab": {
          "base_uri": "https://localhost:8080/"
        },
        "outputId": "f0a4146c-f909-4862-f52b-0048185c4da9",
        "id": "q-hAiYEkLRIW"
      },
      "execution_count": 159,
      "outputs": [
        {
          "output_type": "stream",
          "name": "stdout",
          "text": [
            "Saving TensorBoard log files to: tensorboard/Bidirectional-LSTM/20220831-142655\n",
            "Epoch 1/10\n",
            "215/215 [==============================] - 4s 12ms/step - loss: 0.1495 - accuracy: 0.9521 - val_loss: 0.9122 - val_accuracy: 0.7415\n",
            "Epoch 2/10\n",
            "215/215 [==============================] - 2s 11ms/step - loss: 0.0649 - accuracy: 0.9743 - val_loss: 1.1226 - val_accuracy: 0.7349\n",
            "Epoch 3/10\n",
            "215/215 [==============================] - 3s 12ms/step - loss: 0.0474 - accuracy: 0.9785 - val_loss: 1.2601 - val_accuracy: 0.7178\n",
            "Epoch 4/10\n",
            "215/215 [==============================] - 2s 11ms/step - loss: 0.0425 - accuracy: 0.9784 - val_loss: 1.5800 - val_accuracy: 0.7349\n",
            "Epoch 5/10\n",
            "215/215 [==============================] - 3s 12ms/step - loss: 0.0403 - accuracy: 0.9796 - val_loss: 1.7032 - val_accuracy: 0.7297\n",
            "Epoch 6/10\n",
            "215/215 [==============================] - 2s 11ms/step - loss: 0.0383 - accuracy: 0.9794 - val_loss: 2.0785 - val_accuracy: 0.7257\n",
            "Epoch 7/10\n",
            "215/215 [==============================] - 3s 12ms/step - loss: 0.0355 - accuracy: 0.9816 - val_loss: 2.1779 - val_accuracy: 0.7231\n",
            "Epoch 8/10\n",
            "215/215 [==============================] - 3s 12ms/step - loss: 0.0345 - accuracy: 0.9810 - val_loss: 2.3337 - val_accuracy: 0.7310\n",
            "Epoch 9/10\n",
            "215/215 [==============================] - 3s 12ms/step - loss: 0.0324 - accuracy: 0.9818 - val_loss: 2.3765 - val_accuracy: 0.7310\n",
            "Epoch 10/10\n",
            "215/215 [==============================] - 3s 12ms/step - loss: 0.0349 - accuracy: 0.9816 - val_loss: 3.0524 - val_accuracy: 0.7087\n"
          ]
        }
      ]
    },
    {
      "cell_type": "code",
      "source": [
        "model_5.evaluate(val_data,val_label)"
      ],
      "metadata": {
        "colab": {
          "base_uri": "https://localhost:8080/"
        },
        "outputId": "da3d710d-b7bb-4114-e93c-400a0ac1fe13",
        "id": "-_9MOlsjLRIX"
      },
      "execution_count": 160,
      "outputs": [
        {
          "output_type": "stream",
          "name": "stdout",
          "text": [
            "24/24 [==============================] - 0s 4ms/step - loss: 3.0524 - accuracy: 0.7087\n"
          ]
        },
        {
          "output_type": "execute_result",
          "data": {
            "text/plain": [
              "[3.052351236343384, 0.7086614370346069]"
            ]
          },
          "metadata": {},
          "execution_count": 160
        }
      ]
    },
    {
      "cell_type": "code",
      "source": [],
      "metadata": {
        "id": "iGKX_POcLRIX"
      },
      "execution_count": 160,
      "outputs": []
    },
    {
      "cell_type": "markdown",
      "source": [
        "### custom tweets:"
      ],
      "metadata": {
        "id": "4c3Rns-8LRIY"
      }
    },
    {
      "cell_type": "code",
      "source": [
        "tweets=['earthquake hit california minutes ago', \n",
        "        'my car on fire now', \n",
        "        'I need a blue car']"
      ],
      "metadata": {
        "id": "SjqL2o1ZLRIY"
      },
      "execution_count": 161,
      "outputs": []
    },
    {
      "cell_type": "code",
      "source": [
        "model_5.predict(tweets)"
      ],
      "metadata": {
        "colab": {
          "base_uri": "https://localhost:8080/"
        },
        "outputId": "166595ac-b0bd-4356-eaa5-d11a7a508414",
        "id": "07qcheEHLRIY"
      },
      "execution_count": 162,
      "outputs": [
        {
          "output_type": "stream",
          "name": "stderr",
          "text": [
            "WARNING:tensorflow:6 out of the last 6 calls to <function Model.make_predict_function.<locals>.predict_function at 0x7fecb3707dd0> triggered tf.function retracing. Tracing is expensive and the excessive number of tracings could be due to (1) creating @tf.function repeatedly in a loop, (2) passing tensors with different shapes, (3) passing Python objects instead of tensors. For (1), please define your @tf.function outside of the loop. For (2), @tf.function has experimental_relax_shapes=True option that relaxes argument shapes that can avoid unnecessary retracing. For (3), please refer to https://www.tensorflow.org/guide/function#controlling_retracing and https://www.tensorflow.org/api_docs/python/tf/function for  more details.\n"
          ]
        },
        {
          "output_type": "execute_result",
          "data": {
            "text/plain": [
              "array([[0.99969554],\n",
              "       [0.99963874],\n",
              "       [0.91976   ]], dtype=float32)"
            ]
          },
          "metadata": {},
          "execution_count": 162
        }
      ]
    },
    {
      "cell_type": "code",
      "source": [],
      "metadata": {
        "id": "K2rwEa8G5yUc"
      },
      "execution_count": 162,
      "outputs": []
    },
    {
      "cell_type": "markdown",
      "source": [
        "## Analyzie with Universal Sentence Encoder tensorflow hub:"
      ],
      "metadata": {
        "id": "gmu0Y80qDc9-"
      }
    },
    {
      "cell_type": "code",
      "source": [
        "import tensorflow_hub as hub\n",
        "\n",
        "embed = hub.load(\"https://tfhub.dev/google/universal-sentence-encoder/4\")\n",
        "embed_sample = embed([\"The quick brown fox jumps over the lazy dog.\",\n",
        "                      \"I am a sentence for which I would like to get its embedding\"])\n",
        "\n",
        "print(embed_sample)\n",
        "\n",
        "# The following are example embedding output of 512 dimensions per sentence\n",
        "# Embedding for: The quick brown fox jumps over the lazy dog.\n",
        "# [-0.03133016 -0.06338634 -0.01607501, ...]\n",
        "# Embedding for: I am a sentence for which I would like to get its embedding.\n",
        "# [0.05080863 -0.0165243   0.01573782, ...]\n"
      ],
      "metadata": {
        "colab": {
          "base_uri": "https://localhost:8080/"
        },
        "id": "lB9_LFdtDyX_",
        "outputId": "0f7f8167-53c4-4efc-d6b4-97ac89c0e460"
      },
      "execution_count": 163,
      "outputs": [
        {
          "output_type": "stream",
          "name": "stdout",
          "text": [
            "tf.Tensor(\n",
            "[[-0.03133017 -0.06338634 -0.01607501 ... -0.03242778 -0.0457574\n",
            "   0.05370456]\n",
            " [ 0.05080861 -0.01652434  0.01573779 ...  0.00976657  0.03170121\n",
            "   0.01788118]], shape=(2, 512), dtype=float32)\n"
          ]
        }
      ]
    },
    {
      "cell_type": "code",
      "source": [
        "embed(train_data)"
      ],
      "metadata": {
        "colab": {
          "base_uri": "https://localhost:8080/"
        },
        "id": "FcIC4W1ZEqO0",
        "outputId": "b325ca08-0c7f-46f7-8416-dcf8c507e24e"
      },
      "execution_count": 40,
      "outputs": [
        {
          "output_type": "execute_result",
          "data": {
            "text/plain": [
              "<tf.Tensor: shape=(6851, 512), dtype=float32, numpy=\n",
              "array([[ 0.01178656, -0.00748094,  0.00952065, ...,  0.04002216,\n",
              "        -0.07293098,  0.01045   ],\n",
              "       [ 0.08340861, -0.03587737,  0.01278975, ..., -0.00764408,\n",
              "        -0.06952015, -0.08435119],\n",
              "       [ 0.03161547,  0.01725737, -0.00808266, ..., -0.03697908,\n",
              "         0.03299483, -0.04934364],\n",
              "       ...,\n",
              "       [-0.03393723, -0.06167451,  0.04978931, ..., -0.05219645,\n",
              "        -0.05812604, -0.0630734 ],\n",
              "       [ 0.0215332 ,  0.06060665, -0.07061633, ..., -0.04428503,\n",
              "        -0.00652964, -0.00850323],\n",
              "       [ 0.02649508, -0.05326023, -0.05051778, ..., -0.01227468,\n",
              "         0.01156288, -0.00953933]], dtype=float32)>"
            ]
          },
          "metadata": {},
          "execution_count": 40
        }
      ]
    },
    {
      "cell_type": "code",
      "source": [
        "encoder_layer = hub.KerasLayer(\"https://tfhub.dev/google/universal-sentence-encoder/4\",\n",
        "                               input_shape=[],\n",
        "                               trainable=False,\n",
        "                               dtype=tf.string,\n",
        "                               name= 'USE')"
      ],
      "metadata": {
        "id": "zr3l7T2rDc-A"
      },
      "execution_count": 46,
      "outputs": []
    },
    {
      "cell_type": "code",
      "source": [
        "model_6 = tf.keras.Sequential([\n",
        "    encoder_layer,\n",
        "    tf.keras.layers.Dense(64, activation='relu'),\n",
        "    tf.keras.layers.Dense(32, activation='relu'),\n",
        "    tf.keras.layers.Dense(1, activation='sigmoid')],\n",
        "    name = 'USE_pretrained_model'\n",
        ")"
      ],
      "metadata": {
        "id": "0GXP22NHR0MW"
      },
      "execution_count": 14,
      "outputs": []
    },
    {
      "cell_type": "code",
      "source": [
        "model_6.summary()"
      ],
      "metadata": {
        "colab": {
          "base_uri": "https://localhost:8080/"
        },
        "outputId": "f197c8d5-197e-4be2-9255-141d083bc0a7",
        "id": "u_uqdLqbDc-B"
      },
      "execution_count": 45,
      "outputs": [
        {
          "output_type": "stream",
          "name": "stdout",
          "text": [
            "Model: \"USE_pretrained_model\"\n",
            "_________________________________________________________________\n",
            " Layer (type)                Output Shape              Param #   \n",
            "=================================================================\n",
            " USE (KerasLayer)            (None, 512)               256797824 \n",
            "                                                                 \n",
            " dense_9 (Dense)             (None, 64)                32832     \n",
            "                                                                 \n",
            " dense_10 (Dense)            (None, 32)                2080      \n",
            "                                                                 \n",
            " dense_11 (Dense)            (None, 1)                 33        \n",
            "                                                                 \n",
            "=================================================================\n",
            "Total params: 256,832,769\n",
            "Trainable params: 34,945\n",
            "Non-trainable params: 256,797,824\n",
            "_________________________________________________________________\n"
          ]
        }
      ]
    },
    {
      "cell_type": "code",
      "source": [
        "model_6.compile(loss = tf.keras.losses.BinaryCrossentropy(),\n",
        "                 optimizer = tf.keras.optimizers.Adam(),\n",
        "                 metrics= ['accuracy'])"
      ],
      "metadata": {
        "id": "cEVNRf99Dc-B"
      },
      "execution_count": 16,
      "outputs": []
    },
    {
      "cell_type": "code",
      "source": [
        "# !rm -rf './tensorboard/RNN'"
      ],
      "metadata": {
        "id": "cdBWwDr3Dc-D"
      },
      "execution_count": 169,
      "outputs": []
    },
    {
      "cell_type": "code",
      "source": [
        "history_6 = model_6.fit(train_data, \n",
        "            train_label, \n",
        "            validation_data = (val_data,val_label), \n",
        "            epochs=10, \n",
        "            callbacks=[create_tensorboard_callback('tensorboard','USE_pretrained_model')])"
      ],
      "metadata": {
        "colab": {
          "base_uri": "https://localhost:8080/"
        },
        "outputId": "2700b801-3aca-40a6-f4f0-e46941bad016",
        "id": "HE0t3s-rDc-E"
      },
      "execution_count": 44,
      "outputs": [
        {
          "output_type": "stream",
          "name": "stdout",
          "text": [
            "Saving TensorBoard log files to: tensorboard/USE_pretrained_model/20220831-184621\n",
            "Epoch 1/10\n",
            "215/215 [==============================] - 7s 16ms/step - loss: 0.4940 - accuracy: 0.7882 - val_loss: 0.4201 - val_accuracy: 0.8150\n",
            "Epoch 2/10\n",
            "215/215 [==============================] - 3s 13ms/step - loss: 0.4057 - accuracy: 0.8229 - val_loss: 0.4039 - val_accuracy: 0.8189\n",
            "Epoch 3/10\n",
            "215/215 [==============================] - 3s 13ms/step - loss: 0.3873 - accuracy: 0.8348 - val_loss: 0.4065 - val_accuracy: 0.8189\n",
            "Epoch 4/10\n",
            "215/215 [==============================] - 3s 13ms/step - loss: 0.3694 - accuracy: 0.8431 - val_loss: 0.4046 - val_accuracy: 0.8176\n",
            "Epoch 5/10\n",
            "215/215 [==============================] - 3s 13ms/step - loss: 0.3491 - accuracy: 0.8514 - val_loss: 0.4171 - val_accuracy: 0.8097\n",
            "Epoch 6/10\n",
            "215/215 [==============================] - 3s 13ms/step - loss: 0.3260 - accuracy: 0.8662 - val_loss: 0.4213 - val_accuracy: 0.8110\n",
            "Epoch 7/10\n",
            "215/215 [==============================] - 3s 13ms/step - loss: 0.2985 - accuracy: 0.8786 - val_loss: 0.4328 - val_accuracy: 0.8215\n",
            "Epoch 8/10\n",
            "215/215 [==============================] - 3s 13ms/step - loss: 0.2703 - accuracy: 0.8955 - val_loss: 0.4500 - val_accuracy: 0.8123\n",
            "Epoch 9/10\n",
            "215/215 [==============================] - 3s 13ms/step - loss: 0.2409 - accuracy: 0.9095 - val_loss: 0.4692 - val_accuracy: 0.8045\n",
            "Epoch 10/10\n",
            "215/215 [==============================] - 3s 13ms/step - loss: 0.2141 - accuracy: 0.9228 - val_loss: 0.5038 - val_accuracy: 0.8005\n"
          ]
        }
      ]
    },
    {
      "cell_type": "code",
      "source": [
        "model_6.evaluate(val_data,val_label)"
      ],
      "metadata": {
        "colab": {
          "base_uri": "https://localhost:8080/"
        },
        "id": "xOgMVoeNDc-E",
        "outputId": "a22e7385-f9f7-46c4-d4ee-4861b101e78a"
      },
      "execution_count": 171,
      "outputs": [
        {
          "output_type": "stream",
          "name": "stdout",
          "text": [
            "24/24 [==============================] - 0s 13ms/step - loss: 0.4851 - accuracy: 0.8241\n"
          ]
        },
        {
          "output_type": "execute_result",
          "data": {
            "text/plain": [
              "[0.48508840799331665, 0.8241469860076904]"
            ]
          },
          "metadata": {},
          "execution_count": 171
        }
      ]
    },
    {
      "cell_type": "code",
      "source": [],
      "metadata": {
        "id": "tQ1sLvRjDc-F"
      },
      "execution_count": 171,
      "outputs": []
    },
    {
      "cell_type": "markdown",
      "source": [
        "### custom tweets:"
      ],
      "metadata": {
        "id": "-48OPa4qDc-F"
      }
    },
    {
      "cell_type": "code",
      "source": [
        "tweets=['earthquake hit california minutes ago', \n",
        "        'my car on fire now', \n",
        "        'I need a blue car']"
      ],
      "metadata": {
        "id": "AZY-v-KVDc-G"
      },
      "execution_count": 172,
      "outputs": []
    },
    {
      "cell_type": "code",
      "source": [
        "model_6.predict(tweets)"
      ],
      "metadata": {
        "colab": {
          "base_uri": "https://localhost:8080/"
        },
        "id": "Lb9y7ZHrDc-H",
        "outputId": "d05205a5-2489-490c-b60c-840a881d9665"
      },
      "execution_count": 173,
      "outputs": [
        {
          "output_type": "execute_result",
          "data": {
            "text/plain": [
              "array([[0.9989565 ],\n",
              "       [0.9247216 ],\n",
              "       [0.00365987]], dtype=float32)"
            ]
          },
          "metadata": {},
          "execution_count": 173
        }
      ]
    },
    {
      "cell_type": "markdown",
      "source": [
        "## Finding most wrong predicted tweets:"
      ],
      "metadata": {
        "id": "nq1ne7XomPWz"
      }
    },
    {
      "cell_type": "code",
      "source": [
        "train_data"
      ],
      "metadata": {
        "colab": {
          "base_uri": "https://localhost:8080/"
        },
        "id": "QG3aEZj8PBoC",
        "outputId": "67b11633-8a7a-4c30-a535-e0a844ba5061"
      },
      "execution_count": 47,
      "outputs": [
        {
          "output_type": "execute_result",
          "data": {
            "text/plain": [
              "array([\"'McFadden Reportedly to Test Hamstring Thursday' via @TeamStream http://t.co/jWq4KvJH2j\",\n",
              "       'w--=-=-=-[ NEMA warns Nigerians to prepare for drought http://t.co/5uoOPhSqU3',\n",
              "       \"When I was cooking earlier I got electrocuted some crucial ?????? now I'm psychic lol\",\n",
              "       ...,\n",
              "       'Omron HEM-712C Automatic Blood Pressure Monitor STANDARD AND LARGE BP CUFFS http://t.co/gJBAInQWN9 http://t.co/jPhgpL1c5x',\n",
              "       'Officials say a quarantine is in place at an Alabama home over a possible Ebola case after developing symptoms... http://t.co/rqKK15uhEY',\n",
              "       'I moved to England five years ago today. What a whirlwind of time it has been! http://t.co/eaSlGeA1B7'],\n",
              "      dtype=object)"
            ]
          },
          "metadata": {},
          "execution_count": 47
        }
      ]
    },
    {
      "cell_type": "code",
      "source": [
        "train_label"
      ],
      "metadata": {
        "colab": {
          "base_uri": "https://localhost:8080/"
        },
        "id": "2L3kIrSFPGon",
        "outputId": "44552068-c786-450e-cdca-ad45182c1b6a"
      },
      "execution_count": 48,
      "outputs": [
        {
          "output_type": "execute_result",
          "data": {
            "text/plain": [
              "array([0, 1, 0, ..., 0, 1, 1])"
            ]
          },
          "metadata": {},
          "execution_count": 48
        }
      ]
    },
    {
      "cell_type": "code",
      "source": [
        "import numpy as np\n",
        "pred_probs = np.squeeze(model_6.predict(train_data))\n",
        "print(pred_probs)\n",
        "pred_label = np.squeeze(np.round(pred_probs))\n",
        "pred_label"
      ],
      "metadata": {
        "colab": {
          "base_uri": "https://localhost:8080/"
        },
        "id": "OUtZvEvSPNF4",
        "outputId": "0efd6bb9-6a00-4999-e048-ed7a7b06ce0f"
      },
      "execution_count": 59,
      "outputs": [
        {
          "output_type": "stream",
          "name": "stdout",
          "text": [
            "[0.22332045 0.9854951  0.00905359 ... 0.02063134 0.99930537 0.83901286]\n"
          ]
        },
        {
          "output_type": "execute_result",
          "data": {
            "text/plain": [
              "array([0., 1., 0., ..., 0., 1., 1.], dtype=float32)"
            ]
          },
          "metadata": {},
          "execution_count": 59
        }
      ]
    },
    {
      "cell_type": "code",
      "source": [
        "import pandas as pd\n",
        "comparison_table = pd.DataFrame({'tweets':train_data,\n",
        "              'target': train_label,\n",
        "              'pred': pred_label,\n",
        "              'prob': pred_probs})\n",
        "\n",
        "comparison_table"
      ],
      "metadata": {
        "colab": {
          "base_uri": "https://localhost:8080/",
          "height": 424
        },
        "id": "ye1XJcuqPSfY",
        "outputId": "7a0d5815-e3f0-4e5b-a684-8860e76fbac3"
      },
      "execution_count": 62,
      "outputs": [
        {
          "output_type": "execute_result",
          "data": {
            "text/plain": [
              "                                                 tweets  target  pred  \\\n",
              "0     'McFadden Reportedly to Test Hamstring Thursda...       0   0.0   \n",
              "1     w--=-=-=-[ NEMA warns Nigerians to prepare for...       1   1.0   \n",
              "2     When I was cooking earlier I got electrocuted ...       0   0.0   \n",
              "3                  I'm On Fire.  http://t.co/WATsmxYTVa       0   0.0   \n",
              "4     More than 40 families affected by the fatal ou...       1   1.0   \n",
              "...                                                 ...     ...   ...   \n",
              "6846  @Eganator2000 There aren't many Obliteration s...       0   0.0   \n",
              "6847  just had a panic attack bc I don't have enough...       0   0.0   \n",
              "6848  Omron HEM-712C Automatic Blood Pressure Monito...       0   0.0   \n",
              "6849  Officials say a quarantine is in place at an A...       1   1.0   \n",
              "6850  I moved to England five years ago today. What ...       1   1.0   \n",
              "\n",
              "          prob  \n",
              "0     0.223320  \n",
              "1     0.985495  \n",
              "2     0.009054  \n",
              "3     0.105393  \n",
              "4     0.921615  \n",
              "...        ...  \n",
              "6846  0.165271  \n",
              "6847  0.058754  \n",
              "6848  0.020631  \n",
              "6849  0.999305  \n",
              "6850  0.839013  \n",
              "\n",
              "[6851 rows x 4 columns]"
            ],
            "text/html": [
              "\n",
              "  <div id=\"df-8403c09d-0645-490d-807a-e8c94dc237f7\">\n",
              "    <div class=\"colab-df-container\">\n",
              "      <div>\n",
              "<style scoped>\n",
              "    .dataframe tbody tr th:only-of-type {\n",
              "        vertical-align: middle;\n",
              "    }\n",
              "\n",
              "    .dataframe tbody tr th {\n",
              "        vertical-align: top;\n",
              "    }\n",
              "\n",
              "    .dataframe thead th {\n",
              "        text-align: right;\n",
              "    }\n",
              "</style>\n",
              "<table border=\"1\" class=\"dataframe\">\n",
              "  <thead>\n",
              "    <tr style=\"text-align: right;\">\n",
              "      <th></th>\n",
              "      <th>tweets</th>\n",
              "      <th>target</th>\n",
              "      <th>pred</th>\n",
              "      <th>prob</th>\n",
              "    </tr>\n",
              "  </thead>\n",
              "  <tbody>\n",
              "    <tr>\n",
              "      <th>0</th>\n",
              "      <td>'McFadden Reportedly to Test Hamstring Thursda...</td>\n",
              "      <td>0</td>\n",
              "      <td>0.0</td>\n",
              "      <td>0.223320</td>\n",
              "    </tr>\n",
              "    <tr>\n",
              "      <th>1</th>\n",
              "      <td>w--=-=-=-[ NEMA warns Nigerians to prepare for...</td>\n",
              "      <td>1</td>\n",
              "      <td>1.0</td>\n",
              "      <td>0.985495</td>\n",
              "    </tr>\n",
              "    <tr>\n",
              "      <th>2</th>\n",
              "      <td>When I was cooking earlier I got electrocuted ...</td>\n",
              "      <td>0</td>\n",
              "      <td>0.0</td>\n",
              "      <td>0.009054</td>\n",
              "    </tr>\n",
              "    <tr>\n",
              "      <th>3</th>\n",
              "      <td>I'm On Fire.  http://t.co/WATsmxYTVa</td>\n",
              "      <td>0</td>\n",
              "      <td>0.0</td>\n",
              "      <td>0.105393</td>\n",
              "    </tr>\n",
              "    <tr>\n",
              "      <th>4</th>\n",
              "      <td>More than 40 families affected by the fatal ou...</td>\n",
              "      <td>1</td>\n",
              "      <td>1.0</td>\n",
              "      <td>0.921615</td>\n",
              "    </tr>\n",
              "    <tr>\n",
              "      <th>...</th>\n",
              "      <td>...</td>\n",
              "      <td>...</td>\n",
              "      <td>...</td>\n",
              "      <td>...</td>\n",
              "    </tr>\n",
              "    <tr>\n",
              "      <th>6846</th>\n",
              "      <td>@Eganator2000 There aren't many Obliteration s...</td>\n",
              "      <td>0</td>\n",
              "      <td>0.0</td>\n",
              "      <td>0.165271</td>\n",
              "    </tr>\n",
              "    <tr>\n",
              "      <th>6847</th>\n",
              "      <td>just had a panic attack bc I don't have enough...</td>\n",
              "      <td>0</td>\n",
              "      <td>0.0</td>\n",
              "      <td>0.058754</td>\n",
              "    </tr>\n",
              "    <tr>\n",
              "      <th>6848</th>\n",
              "      <td>Omron HEM-712C Automatic Blood Pressure Monito...</td>\n",
              "      <td>0</td>\n",
              "      <td>0.0</td>\n",
              "      <td>0.020631</td>\n",
              "    </tr>\n",
              "    <tr>\n",
              "      <th>6849</th>\n",
              "      <td>Officials say a quarantine is in place at an A...</td>\n",
              "      <td>1</td>\n",
              "      <td>1.0</td>\n",
              "      <td>0.999305</td>\n",
              "    </tr>\n",
              "    <tr>\n",
              "      <th>6850</th>\n",
              "      <td>I moved to England five years ago today. What ...</td>\n",
              "      <td>1</td>\n",
              "      <td>1.0</td>\n",
              "      <td>0.839013</td>\n",
              "    </tr>\n",
              "  </tbody>\n",
              "</table>\n",
              "<p>6851 rows × 4 columns</p>\n",
              "</div>\n",
              "      <button class=\"colab-df-convert\" onclick=\"convertToInteractive('df-8403c09d-0645-490d-807a-e8c94dc237f7')\"\n",
              "              title=\"Convert this dataframe to an interactive table.\"\n",
              "              style=\"display:none;\">\n",
              "        \n",
              "  <svg xmlns=\"http://www.w3.org/2000/svg\" height=\"24px\"viewBox=\"0 0 24 24\"\n",
              "       width=\"24px\">\n",
              "    <path d=\"M0 0h24v24H0V0z\" fill=\"none\"/>\n",
              "    <path d=\"M18.56 5.44l.94 2.06.94-2.06 2.06-.94-2.06-.94-.94-2.06-.94 2.06-2.06.94zm-11 1L8.5 8.5l.94-2.06 2.06-.94-2.06-.94L8.5 2.5l-.94 2.06-2.06.94zm10 10l.94 2.06.94-2.06 2.06-.94-2.06-.94-.94-2.06-.94 2.06-2.06.94z\"/><path d=\"M17.41 7.96l-1.37-1.37c-.4-.4-.92-.59-1.43-.59-.52 0-1.04.2-1.43.59L10.3 9.45l-7.72 7.72c-.78.78-.78 2.05 0 2.83L4 21.41c.39.39.9.59 1.41.59.51 0 1.02-.2 1.41-.59l7.78-7.78 2.81-2.81c.8-.78.8-2.07 0-2.86zM5.41 20L4 18.59l7.72-7.72 1.47 1.35L5.41 20z\"/>\n",
              "  </svg>\n",
              "      </button>\n",
              "      \n",
              "  <style>\n",
              "    .colab-df-container {\n",
              "      display:flex;\n",
              "      flex-wrap:wrap;\n",
              "      gap: 12px;\n",
              "    }\n",
              "\n",
              "    .colab-df-convert {\n",
              "      background-color: #E8F0FE;\n",
              "      border: none;\n",
              "      border-radius: 50%;\n",
              "      cursor: pointer;\n",
              "      display: none;\n",
              "      fill: #1967D2;\n",
              "      height: 32px;\n",
              "      padding: 0 0 0 0;\n",
              "      width: 32px;\n",
              "    }\n",
              "\n",
              "    .colab-df-convert:hover {\n",
              "      background-color: #E2EBFA;\n",
              "      box-shadow: 0px 1px 2px rgba(60, 64, 67, 0.3), 0px 1px 3px 1px rgba(60, 64, 67, 0.15);\n",
              "      fill: #174EA6;\n",
              "    }\n",
              "\n",
              "    [theme=dark] .colab-df-convert {\n",
              "      background-color: #3B4455;\n",
              "      fill: #D2E3FC;\n",
              "    }\n",
              "\n",
              "    [theme=dark] .colab-df-convert:hover {\n",
              "      background-color: #434B5C;\n",
              "      box-shadow: 0px 1px 3px 1px rgba(0, 0, 0, 0.15);\n",
              "      filter: drop-shadow(0px 1px 2px rgba(0, 0, 0, 0.3));\n",
              "      fill: #FFFFFF;\n",
              "    }\n",
              "  </style>\n",
              "\n",
              "      <script>\n",
              "        const buttonEl =\n",
              "          document.querySelector('#df-8403c09d-0645-490d-807a-e8c94dc237f7 button.colab-df-convert');\n",
              "        buttonEl.style.display =\n",
              "          google.colab.kernel.accessAllowed ? 'block' : 'none';\n",
              "\n",
              "        async function convertToInteractive(key) {\n",
              "          const element = document.querySelector('#df-8403c09d-0645-490d-807a-e8c94dc237f7');\n",
              "          const dataTable =\n",
              "            await google.colab.kernel.invokeFunction('convertToInteractive',\n",
              "                                                     [key], {});\n",
              "          if (!dataTable) return;\n",
              "\n",
              "          const docLinkHtml = 'Like what you see? Visit the ' +\n",
              "            '<a target=\"_blank\" href=https://colab.research.google.com/notebooks/data_table.ipynb>data table notebook</a>'\n",
              "            + ' to learn more about interactive tables.';\n",
              "          element.innerHTML = '';\n",
              "          dataTable['output_type'] = 'display_data';\n",
              "          await google.colab.output.renderOutput(dataTable, element);\n",
              "          const docLink = document.createElement('div');\n",
              "          docLink.innerHTML = docLinkHtml;\n",
              "          element.appendChild(docLink);\n",
              "        }\n",
              "      </script>\n",
              "    </div>\n",
              "  </div>\n",
              "  "
            ]
          },
          "metadata": {},
          "execution_count": 62
        }
      ]
    },
    {
      "cell_type": "code",
      "source": [
        "worst_preds = comparison_table[comparison_table['target'] != comparison_table['pred']].sort_values('prob')\n",
        "worst_preds"
      ],
      "metadata": {
        "colab": {
          "base_uri": "https://localhost:8080/",
          "height": 424
        },
        "id": "oE8qyRi7PvBo",
        "outputId": "4ab41776-4e71-4a62-e3ce-5c5076caa271"
      },
      "execution_count": 68,
      "outputs": [
        {
          "output_type": "execute_result",
          "data": {
            "text/plain": [
              "                                                 tweets  target  pred  \\\n",
              "5277  Oh the usual. Mass murder and world domination...       1   0.0   \n",
              "3445  You can never escape me. Bullets don't harm me...       1   0.0   \n",
              "366   going to redo my nails and watch behind the sc...       1   0.0   \n",
              "5799  I liked a @YouTube video http://t.co/43sXG9Z6x...       1   0.0   \n",
              "1772  So I pick myself off the ground and swam befor...       1   0.0   \n",
              "...                                                 ...     ...   ...   \n",
              "5859  .POTUS #StrategicPatience is a strategy for #G...       0   1.0   \n",
              "4653  #hot  C-130 specially modified to land in a st...       0   1.0   \n",
              "4648  wowo--=== 12000 Nigerian refugees repatriated ...       0   1.0   \n",
              "5582  Kosciusko police investigating pedestrian fata...       0   1.0   \n",
              "6548  DISASTER AVERTED: Police kill gunman with Û÷h...       0   1.0   \n",
              "\n",
              "          prob  \n",
              "5277  0.018337  \n",
              "3445  0.020957  \n",
              "366   0.022397  \n",
              "5799  0.027035  \n",
              "1772  0.027519  \n",
              "...        ...  \n",
              "5859  0.879290  \n",
              "4653  0.897060  \n",
              "4648  0.958887  \n",
              "5582  0.991505  \n",
              "6548  0.992520  \n",
              "\n",
              "[448 rows x 4 columns]"
            ],
            "text/html": [
              "\n",
              "  <div id=\"df-4b2214bc-9d47-46dc-b909-0c71bd35cdea\">\n",
              "    <div class=\"colab-df-container\">\n",
              "      <div>\n",
              "<style scoped>\n",
              "    .dataframe tbody tr th:only-of-type {\n",
              "        vertical-align: middle;\n",
              "    }\n",
              "\n",
              "    .dataframe tbody tr th {\n",
              "        vertical-align: top;\n",
              "    }\n",
              "\n",
              "    .dataframe thead th {\n",
              "        text-align: right;\n",
              "    }\n",
              "</style>\n",
              "<table border=\"1\" class=\"dataframe\">\n",
              "  <thead>\n",
              "    <tr style=\"text-align: right;\">\n",
              "      <th></th>\n",
              "      <th>tweets</th>\n",
              "      <th>target</th>\n",
              "      <th>pred</th>\n",
              "      <th>prob</th>\n",
              "    </tr>\n",
              "  </thead>\n",
              "  <tbody>\n",
              "    <tr>\n",
              "      <th>5277</th>\n",
              "      <td>Oh the usual. Mass murder and world domination...</td>\n",
              "      <td>1</td>\n",
              "      <td>0.0</td>\n",
              "      <td>0.018337</td>\n",
              "    </tr>\n",
              "    <tr>\n",
              "      <th>3445</th>\n",
              "      <td>You can never escape me. Bullets don't harm me...</td>\n",
              "      <td>1</td>\n",
              "      <td>0.0</td>\n",
              "      <td>0.020957</td>\n",
              "    </tr>\n",
              "    <tr>\n",
              "      <th>366</th>\n",
              "      <td>going to redo my nails and watch behind the sc...</td>\n",
              "      <td>1</td>\n",
              "      <td>0.0</td>\n",
              "      <td>0.022397</td>\n",
              "    </tr>\n",
              "    <tr>\n",
              "      <th>5799</th>\n",
              "      <td>I liked a @YouTube video http://t.co/43sXG9Z6x...</td>\n",
              "      <td>1</td>\n",
              "      <td>0.0</td>\n",
              "      <td>0.027035</td>\n",
              "    </tr>\n",
              "    <tr>\n",
              "      <th>1772</th>\n",
              "      <td>So I pick myself off the ground and swam befor...</td>\n",
              "      <td>1</td>\n",
              "      <td>0.0</td>\n",
              "      <td>0.027519</td>\n",
              "    </tr>\n",
              "    <tr>\n",
              "      <th>...</th>\n",
              "      <td>...</td>\n",
              "      <td>...</td>\n",
              "      <td>...</td>\n",
              "      <td>...</td>\n",
              "    </tr>\n",
              "    <tr>\n",
              "      <th>5859</th>\n",
              "      <td>.POTUS #StrategicPatience is a strategy for #G...</td>\n",
              "      <td>0</td>\n",
              "      <td>1.0</td>\n",
              "      <td>0.879290</td>\n",
              "    </tr>\n",
              "    <tr>\n",
              "      <th>4653</th>\n",
              "      <td>#hot  C-130 specially modified to land in a st...</td>\n",
              "      <td>0</td>\n",
              "      <td>1.0</td>\n",
              "      <td>0.897060</td>\n",
              "    </tr>\n",
              "    <tr>\n",
              "      <th>4648</th>\n",
              "      <td>wowo--=== 12000 Nigerian refugees repatriated ...</td>\n",
              "      <td>0</td>\n",
              "      <td>1.0</td>\n",
              "      <td>0.958887</td>\n",
              "    </tr>\n",
              "    <tr>\n",
              "      <th>5582</th>\n",
              "      <td>Kosciusko police investigating pedestrian fata...</td>\n",
              "      <td>0</td>\n",
              "      <td>1.0</td>\n",
              "      <td>0.991505</td>\n",
              "    </tr>\n",
              "    <tr>\n",
              "      <th>6548</th>\n",
              "      <td>DISASTER AVERTED: Police kill gunman with Û÷h...</td>\n",
              "      <td>0</td>\n",
              "      <td>1.0</td>\n",
              "      <td>0.992520</td>\n",
              "    </tr>\n",
              "  </tbody>\n",
              "</table>\n",
              "<p>448 rows × 4 columns</p>\n",
              "</div>\n",
              "      <button class=\"colab-df-convert\" onclick=\"convertToInteractive('df-4b2214bc-9d47-46dc-b909-0c71bd35cdea')\"\n",
              "              title=\"Convert this dataframe to an interactive table.\"\n",
              "              style=\"display:none;\">\n",
              "        \n",
              "  <svg xmlns=\"http://www.w3.org/2000/svg\" height=\"24px\"viewBox=\"0 0 24 24\"\n",
              "       width=\"24px\">\n",
              "    <path d=\"M0 0h24v24H0V0z\" fill=\"none\"/>\n",
              "    <path d=\"M18.56 5.44l.94 2.06.94-2.06 2.06-.94-2.06-.94-.94-2.06-.94 2.06-2.06.94zm-11 1L8.5 8.5l.94-2.06 2.06-.94-2.06-.94L8.5 2.5l-.94 2.06-2.06.94zm10 10l.94 2.06.94-2.06 2.06-.94-2.06-.94-.94-2.06-.94 2.06-2.06.94z\"/><path d=\"M17.41 7.96l-1.37-1.37c-.4-.4-.92-.59-1.43-.59-.52 0-1.04.2-1.43.59L10.3 9.45l-7.72 7.72c-.78.78-.78 2.05 0 2.83L4 21.41c.39.39.9.59 1.41.59.51 0 1.02-.2 1.41-.59l7.78-7.78 2.81-2.81c.8-.78.8-2.07 0-2.86zM5.41 20L4 18.59l7.72-7.72 1.47 1.35L5.41 20z\"/>\n",
              "  </svg>\n",
              "      </button>\n",
              "      \n",
              "  <style>\n",
              "    .colab-df-container {\n",
              "      display:flex;\n",
              "      flex-wrap:wrap;\n",
              "      gap: 12px;\n",
              "    }\n",
              "\n",
              "    .colab-df-convert {\n",
              "      background-color: #E8F0FE;\n",
              "      border: none;\n",
              "      border-radius: 50%;\n",
              "      cursor: pointer;\n",
              "      display: none;\n",
              "      fill: #1967D2;\n",
              "      height: 32px;\n",
              "      padding: 0 0 0 0;\n",
              "      width: 32px;\n",
              "    }\n",
              "\n",
              "    .colab-df-convert:hover {\n",
              "      background-color: #E2EBFA;\n",
              "      box-shadow: 0px 1px 2px rgba(60, 64, 67, 0.3), 0px 1px 3px 1px rgba(60, 64, 67, 0.15);\n",
              "      fill: #174EA6;\n",
              "    }\n",
              "\n",
              "    [theme=dark] .colab-df-convert {\n",
              "      background-color: #3B4455;\n",
              "      fill: #D2E3FC;\n",
              "    }\n",
              "\n",
              "    [theme=dark] .colab-df-convert:hover {\n",
              "      background-color: #434B5C;\n",
              "      box-shadow: 0px 1px 3px 1px rgba(0, 0, 0, 0.15);\n",
              "      filter: drop-shadow(0px 1px 2px rgba(0, 0, 0, 0.3));\n",
              "      fill: #FFFFFF;\n",
              "    }\n",
              "  </style>\n",
              "\n",
              "      <script>\n",
              "        const buttonEl =\n",
              "          document.querySelector('#df-4b2214bc-9d47-46dc-b909-0c71bd35cdea button.colab-df-convert');\n",
              "        buttonEl.style.display =\n",
              "          google.colab.kernel.accessAllowed ? 'block' : 'none';\n",
              "\n",
              "        async function convertToInteractive(key) {\n",
              "          const element = document.querySelector('#df-4b2214bc-9d47-46dc-b909-0c71bd35cdea');\n",
              "          const dataTable =\n",
              "            await google.colab.kernel.invokeFunction('convertToInteractive',\n",
              "                                                     [key], {});\n",
              "          if (!dataTable) return;\n",
              "\n",
              "          const docLinkHtml = 'Like what you see? Visit the ' +\n",
              "            '<a target=\"_blank\" href=https://colab.research.google.com/notebooks/data_table.ipynb>data table notebook</a>'\n",
              "            + ' to learn more about interactive tables.';\n",
              "          element.innerHTML = '';\n",
              "          dataTable['output_type'] = 'display_data';\n",
              "          await google.colab.output.renderOutput(dataTable, element);\n",
              "          const docLink = document.createElement('div');\n",
              "          docLink.innerHTML = docLinkHtml;\n",
              "          element.appendChild(docLink);\n",
              "        }\n",
              "      </script>\n",
              "    </div>\n",
              "  </div>\n",
              "  "
            ]
          },
          "metadata": {},
          "execution_count": 68
        }
      ]
    },
    {
      "cell_type": "code",
      "source": [
        "worst_preds[:10]"
      ],
      "metadata": {
        "colab": {
          "base_uri": "https://localhost:8080/",
          "height": 363
        },
        "id": "ClwGgcjkRIsW",
        "outputId": "ffe1054b-e392-40fa-e273-80dfcb547fcc"
      },
      "execution_count": 70,
      "outputs": [
        {
          "output_type": "execute_result",
          "data": {
            "text/plain": [
              "                                                 tweets  target  pred  \\\n",
              "5277  Oh the usual. Mass murder and world domination...       1   0.0   \n",
              "3445  You can never escape me. Bullets don't harm me...       1   0.0   \n",
              "366   going to redo my nails and watch behind the sc...       1   0.0   \n",
              "5799  I liked a @YouTube video http://t.co/43sXG9Z6x...       1   0.0   \n",
              "1772  So I pick myself off the ground and swam befor...       1   0.0   \n",
              "3498  Emergency Flow  http://t.co/lH9mrYpDrJ mp3 htt...       1   0.0   \n",
              "3415  @accionempresa ChinaÛªs stock market crash th...       1   0.0   \n",
              "4970  Black Eye 9: A space battle occurred at Star M...       1   0.0   \n",
              "5014  ?? New Ladies Shoulder Tote #Handbag Faux Leat...       1   0.0   \n",
              "6085  my dad said I look thinner than usual but real...       1   0.0   \n",
              "\n",
              "          prob  \n",
              "5277  0.018337  \n",
              "3445  0.020957  \n",
              "366   0.022397  \n",
              "5799  0.027035  \n",
              "1772  0.027519  \n",
              "3498  0.030804  \n",
              "3415  0.032136  \n",
              "4970  0.033065  \n",
              "5014  0.034967  \n",
              "6085  0.040242  "
            ],
            "text/html": [
              "\n",
              "  <div id=\"df-56214812-586b-4de7-8c69-6c532ddd663f\">\n",
              "    <div class=\"colab-df-container\">\n",
              "      <div>\n",
              "<style scoped>\n",
              "    .dataframe tbody tr th:only-of-type {\n",
              "        vertical-align: middle;\n",
              "    }\n",
              "\n",
              "    .dataframe tbody tr th {\n",
              "        vertical-align: top;\n",
              "    }\n",
              "\n",
              "    .dataframe thead th {\n",
              "        text-align: right;\n",
              "    }\n",
              "</style>\n",
              "<table border=\"1\" class=\"dataframe\">\n",
              "  <thead>\n",
              "    <tr style=\"text-align: right;\">\n",
              "      <th></th>\n",
              "      <th>tweets</th>\n",
              "      <th>target</th>\n",
              "      <th>pred</th>\n",
              "      <th>prob</th>\n",
              "    </tr>\n",
              "  </thead>\n",
              "  <tbody>\n",
              "    <tr>\n",
              "      <th>5277</th>\n",
              "      <td>Oh the usual. Mass murder and world domination...</td>\n",
              "      <td>1</td>\n",
              "      <td>0.0</td>\n",
              "      <td>0.018337</td>\n",
              "    </tr>\n",
              "    <tr>\n",
              "      <th>3445</th>\n",
              "      <td>You can never escape me. Bullets don't harm me...</td>\n",
              "      <td>1</td>\n",
              "      <td>0.0</td>\n",
              "      <td>0.020957</td>\n",
              "    </tr>\n",
              "    <tr>\n",
              "      <th>366</th>\n",
              "      <td>going to redo my nails and watch behind the sc...</td>\n",
              "      <td>1</td>\n",
              "      <td>0.0</td>\n",
              "      <td>0.022397</td>\n",
              "    </tr>\n",
              "    <tr>\n",
              "      <th>5799</th>\n",
              "      <td>I liked a @YouTube video http://t.co/43sXG9Z6x...</td>\n",
              "      <td>1</td>\n",
              "      <td>0.0</td>\n",
              "      <td>0.027035</td>\n",
              "    </tr>\n",
              "    <tr>\n",
              "      <th>1772</th>\n",
              "      <td>So I pick myself off the ground and swam befor...</td>\n",
              "      <td>1</td>\n",
              "      <td>0.0</td>\n",
              "      <td>0.027519</td>\n",
              "    </tr>\n",
              "    <tr>\n",
              "      <th>3498</th>\n",
              "      <td>Emergency Flow  http://t.co/lH9mrYpDrJ mp3 htt...</td>\n",
              "      <td>1</td>\n",
              "      <td>0.0</td>\n",
              "      <td>0.030804</td>\n",
              "    </tr>\n",
              "    <tr>\n",
              "      <th>3415</th>\n",
              "      <td>@accionempresa ChinaÛªs stock market crash th...</td>\n",
              "      <td>1</td>\n",
              "      <td>0.0</td>\n",
              "      <td>0.032136</td>\n",
              "    </tr>\n",
              "    <tr>\n",
              "      <th>4970</th>\n",
              "      <td>Black Eye 9: A space battle occurred at Star M...</td>\n",
              "      <td>1</td>\n",
              "      <td>0.0</td>\n",
              "      <td>0.033065</td>\n",
              "    </tr>\n",
              "    <tr>\n",
              "      <th>5014</th>\n",
              "      <td>?? New Ladies Shoulder Tote #Handbag Faux Leat...</td>\n",
              "      <td>1</td>\n",
              "      <td>0.0</td>\n",
              "      <td>0.034967</td>\n",
              "    </tr>\n",
              "    <tr>\n",
              "      <th>6085</th>\n",
              "      <td>my dad said I look thinner than usual but real...</td>\n",
              "      <td>1</td>\n",
              "      <td>0.0</td>\n",
              "      <td>0.040242</td>\n",
              "    </tr>\n",
              "  </tbody>\n",
              "</table>\n",
              "</div>\n",
              "      <button class=\"colab-df-convert\" onclick=\"convertToInteractive('df-56214812-586b-4de7-8c69-6c532ddd663f')\"\n",
              "              title=\"Convert this dataframe to an interactive table.\"\n",
              "              style=\"display:none;\">\n",
              "        \n",
              "  <svg xmlns=\"http://www.w3.org/2000/svg\" height=\"24px\"viewBox=\"0 0 24 24\"\n",
              "       width=\"24px\">\n",
              "    <path d=\"M0 0h24v24H0V0z\" fill=\"none\"/>\n",
              "    <path d=\"M18.56 5.44l.94 2.06.94-2.06 2.06-.94-2.06-.94-.94-2.06-.94 2.06-2.06.94zm-11 1L8.5 8.5l.94-2.06 2.06-.94-2.06-.94L8.5 2.5l-.94 2.06-2.06.94zm10 10l.94 2.06.94-2.06 2.06-.94-2.06-.94-.94-2.06-.94 2.06-2.06.94z\"/><path d=\"M17.41 7.96l-1.37-1.37c-.4-.4-.92-.59-1.43-.59-.52 0-1.04.2-1.43.59L10.3 9.45l-7.72 7.72c-.78.78-.78 2.05 0 2.83L4 21.41c.39.39.9.59 1.41.59.51 0 1.02-.2 1.41-.59l7.78-7.78 2.81-2.81c.8-.78.8-2.07 0-2.86zM5.41 20L4 18.59l7.72-7.72 1.47 1.35L5.41 20z\"/>\n",
              "  </svg>\n",
              "      </button>\n",
              "      \n",
              "  <style>\n",
              "    .colab-df-container {\n",
              "      display:flex;\n",
              "      flex-wrap:wrap;\n",
              "      gap: 12px;\n",
              "    }\n",
              "\n",
              "    .colab-df-convert {\n",
              "      background-color: #E8F0FE;\n",
              "      border: none;\n",
              "      border-radius: 50%;\n",
              "      cursor: pointer;\n",
              "      display: none;\n",
              "      fill: #1967D2;\n",
              "      height: 32px;\n",
              "      padding: 0 0 0 0;\n",
              "      width: 32px;\n",
              "    }\n",
              "\n",
              "    .colab-df-convert:hover {\n",
              "      background-color: #E2EBFA;\n",
              "      box-shadow: 0px 1px 2px rgba(60, 64, 67, 0.3), 0px 1px 3px 1px rgba(60, 64, 67, 0.15);\n",
              "      fill: #174EA6;\n",
              "    }\n",
              "\n",
              "    [theme=dark] .colab-df-convert {\n",
              "      background-color: #3B4455;\n",
              "      fill: #D2E3FC;\n",
              "    }\n",
              "\n",
              "    [theme=dark] .colab-df-convert:hover {\n",
              "      background-color: #434B5C;\n",
              "      box-shadow: 0px 1px 3px 1px rgba(0, 0, 0, 0.15);\n",
              "      filter: drop-shadow(0px 1px 2px rgba(0, 0, 0, 0.3));\n",
              "      fill: #FFFFFF;\n",
              "    }\n",
              "  </style>\n",
              "\n",
              "      <script>\n",
              "        const buttonEl =\n",
              "          document.querySelector('#df-56214812-586b-4de7-8c69-6c532ddd663f button.colab-df-convert');\n",
              "        buttonEl.style.display =\n",
              "          google.colab.kernel.accessAllowed ? 'block' : 'none';\n",
              "\n",
              "        async function convertToInteractive(key) {\n",
              "          const element = document.querySelector('#df-56214812-586b-4de7-8c69-6c532ddd663f');\n",
              "          const dataTable =\n",
              "            await google.colab.kernel.invokeFunction('convertToInteractive',\n",
              "                                                     [key], {});\n",
              "          if (!dataTable) return;\n",
              "\n",
              "          const docLinkHtml = 'Like what you see? Visit the ' +\n",
              "            '<a target=\"_blank\" href=https://colab.research.google.com/notebooks/data_table.ipynb>data table notebook</a>'\n",
              "            + ' to learn more about interactive tables.';\n",
              "          element.innerHTML = '';\n",
              "          dataTable['output_type'] = 'display_data';\n",
              "          await google.colab.output.renderOutput(dataTable, element);\n",
              "          const docLink = document.createElement('div');\n",
              "          docLink.innerHTML = docLinkHtml;\n",
              "          element.appendChild(docLink);\n",
              "        }\n",
              "      </script>\n",
              "    </div>\n",
              "  </div>\n",
              "  "
            ]
          },
          "metadata": {},
          "execution_count": 70
        }
      ]
    },
    {
      "cell_type": "code",
      "source": [
        "worst_preds[-10:]"
      ],
      "metadata": {
        "colab": {
          "base_uri": "https://localhost:8080/",
          "height": 363
        },
        "id": "q34_tKKOSAYt",
        "outputId": "c265c21b-3d45-432c-b91e-c45ad8876380"
      },
      "execution_count": 71,
      "outputs": [
        {
          "output_type": "execute_result",
          "data": {
            "text/plain": [
              "                                                 tweets  target  pred  \\\n",
              "6277  Trafford Centre film fans angry after Odeon ci...       0   1.0   \n",
              "799   Two Jewish Terrorists Charged In Historic-Chur...       0   1.0   \n",
              "5890  Teen Disaster Preparedness Event in Van Nuys A...       0   1.0   \n",
              "5208  PawSox owners public return from whirlwind tri...       0   1.0   \n",
              "243   @adorableappple No reported flooding po in the...       0   1.0   \n",
              "5859  .POTUS #StrategicPatience is a strategy for #G...       0   1.0   \n",
              "4653  #hot  C-130 specially modified to land in a st...       0   1.0   \n",
              "4648  wowo--=== 12000 Nigerian refugees repatriated ...       0   1.0   \n",
              "5582  Kosciusko police investigating pedestrian fata...       0   1.0   \n",
              "6548  DISASTER AVERTED: Police kill gunman with Û÷h...       0   1.0   \n",
              "\n",
              "          prob  \n",
              "6277  0.751855  \n",
              "799   0.759550  \n",
              "5890  0.803780  \n",
              "5208  0.836698  \n",
              "243   0.844792  \n",
              "5859  0.879290  \n",
              "4653  0.897060  \n",
              "4648  0.958887  \n",
              "5582  0.991505  \n",
              "6548  0.992520  "
            ],
            "text/html": [
              "\n",
              "  <div id=\"df-4fd7f17b-6109-4dfc-8718-2b8bb4fafa4d\">\n",
              "    <div class=\"colab-df-container\">\n",
              "      <div>\n",
              "<style scoped>\n",
              "    .dataframe tbody tr th:only-of-type {\n",
              "        vertical-align: middle;\n",
              "    }\n",
              "\n",
              "    .dataframe tbody tr th {\n",
              "        vertical-align: top;\n",
              "    }\n",
              "\n",
              "    .dataframe thead th {\n",
              "        text-align: right;\n",
              "    }\n",
              "</style>\n",
              "<table border=\"1\" class=\"dataframe\">\n",
              "  <thead>\n",
              "    <tr style=\"text-align: right;\">\n",
              "      <th></th>\n",
              "      <th>tweets</th>\n",
              "      <th>target</th>\n",
              "      <th>pred</th>\n",
              "      <th>prob</th>\n",
              "    </tr>\n",
              "  </thead>\n",
              "  <tbody>\n",
              "    <tr>\n",
              "      <th>6277</th>\n",
              "      <td>Trafford Centre film fans angry after Odeon ci...</td>\n",
              "      <td>0</td>\n",
              "      <td>1.0</td>\n",
              "      <td>0.751855</td>\n",
              "    </tr>\n",
              "    <tr>\n",
              "      <th>799</th>\n",
              "      <td>Two Jewish Terrorists Charged In Historic-Chur...</td>\n",
              "      <td>0</td>\n",
              "      <td>1.0</td>\n",
              "      <td>0.759550</td>\n",
              "    </tr>\n",
              "    <tr>\n",
              "      <th>5890</th>\n",
              "      <td>Teen Disaster Preparedness Event in Van Nuys A...</td>\n",
              "      <td>0</td>\n",
              "      <td>1.0</td>\n",
              "      <td>0.803780</td>\n",
              "    </tr>\n",
              "    <tr>\n",
              "      <th>5208</th>\n",
              "      <td>PawSox owners public return from whirlwind tri...</td>\n",
              "      <td>0</td>\n",
              "      <td>1.0</td>\n",
              "      <td>0.836698</td>\n",
              "    </tr>\n",
              "    <tr>\n",
              "      <th>243</th>\n",
              "      <td>@adorableappple No reported flooding po in the...</td>\n",
              "      <td>0</td>\n",
              "      <td>1.0</td>\n",
              "      <td>0.844792</td>\n",
              "    </tr>\n",
              "    <tr>\n",
              "      <th>5859</th>\n",
              "      <td>.POTUS #StrategicPatience is a strategy for #G...</td>\n",
              "      <td>0</td>\n",
              "      <td>1.0</td>\n",
              "      <td>0.879290</td>\n",
              "    </tr>\n",
              "    <tr>\n",
              "      <th>4653</th>\n",
              "      <td>#hot  C-130 specially modified to land in a st...</td>\n",
              "      <td>0</td>\n",
              "      <td>1.0</td>\n",
              "      <td>0.897060</td>\n",
              "    </tr>\n",
              "    <tr>\n",
              "      <th>4648</th>\n",
              "      <td>wowo--=== 12000 Nigerian refugees repatriated ...</td>\n",
              "      <td>0</td>\n",
              "      <td>1.0</td>\n",
              "      <td>0.958887</td>\n",
              "    </tr>\n",
              "    <tr>\n",
              "      <th>5582</th>\n",
              "      <td>Kosciusko police investigating pedestrian fata...</td>\n",
              "      <td>0</td>\n",
              "      <td>1.0</td>\n",
              "      <td>0.991505</td>\n",
              "    </tr>\n",
              "    <tr>\n",
              "      <th>6548</th>\n",
              "      <td>DISASTER AVERTED: Police kill gunman with Û÷h...</td>\n",
              "      <td>0</td>\n",
              "      <td>1.0</td>\n",
              "      <td>0.992520</td>\n",
              "    </tr>\n",
              "  </tbody>\n",
              "</table>\n",
              "</div>\n",
              "      <button class=\"colab-df-convert\" onclick=\"convertToInteractive('df-4fd7f17b-6109-4dfc-8718-2b8bb4fafa4d')\"\n",
              "              title=\"Convert this dataframe to an interactive table.\"\n",
              "              style=\"display:none;\">\n",
              "        \n",
              "  <svg xmlns=\"http://www.w3.org/2000/svg\" height=\"24px\"viewBox=\"0 0 24 24\"\n",
              "       width=\"24px\">\n",
              "    <path d=\"M0 0h24v24H0V0z\" fill=\"none\"/>\n",
              "    <path d=\"M18.56 5.44l.94 2.06.94-2.06 2.06-.94-2.06-.94-.94-2.06-.94 2.06-2.06.94zm-11 1L8.5 8.5l.94-2.06 2.06-.94-2.06-.94L8.5 2.5l-.94 2.06-2.06.94zm10 10l.94 2.06.94-2.06 2.06-.94-2.06-.94-.94-2.06-.94 2.06-2.06.94z\"/><path d=\"M17.41 7.96l-1.37-1.37c-.4-.4-.92-.59-1.43-.59-.52 0-1.04.2-1.43.59L10.3 9.45l-7.72 7.72c-.78.78-.78 2.05 0 2.83L4 21.41c.39.39.9.59 1.41.59.51 0 1.02-.2 1.41-.59l7.78-7.78 2.81-2.81c.8-.78.8-2.07 0-2.86zM5.41 20L4 18.59l7.72-7.72 1.47 1.35L5.41 20z\"/>\n",
              "  </svg>\n",
              "      </button>\n",
              "      \n",
              "  <style>\n",
              "    .colab-df-container {\n",
              "      display:flex;\n",
              "      flex-wrap:wrap;\n",
              "      gap: 12px;\n",
              "    }\n",
              "\n",
              "    .colab-df-convert {\n",
              "      background-color: #E8F0FE;\n",
              "      border: none;\n",
              "      border-radius: 50%;\n",
              "      cursor: pointer;\n",
              "      display: none;\n",
              "      fill: #1967D2;\n",
              "      height: 32px;\n",
              "      padding: 0 0 0 0;\n",
              "      width: 32px;\n",
              "    }\n",
              "\n",
              "    .colab-df-convert:hover {\n",
              "      background-color: #E2EBFA;\n",
              "      box-shadow: 0px 1px 2px rgba(60, 64, 67, 0.3), 0px 1px 3px 1px rgba(60, 64, 67, 0.15);\n",
              "      fill: #174EA6;\n",
              "    }\n",
              "\n",
              "    [theme=dark] .colab-df-convert {\n",
              "      background-color: #3B4455;\n",
              "      fill: #D2E3FC;\n",
              "    }\n",
              "\n",
              "    [theme=dark] .colab-df-convert:hover {\n",
              "      background-color: #434B5C;\n",
              "      box-shadow: 0px 1px 3px 1px rgba(0, 0, 0, 0.15);\n",
              "      filter: drop-shadow(0px 1px 2px rgba(0, 0, 0, 0.3));\n",
              "      fill: #FFFFFF;\n",
              "    }\n",
              "  </style>\n",
              "\n",
              "      <script>\n",
              "        const buttonEl =\n",
              "          document.querySelector('#df-4fd7f17b-6109-4dfc-8718-2b8bb4fafa4d button.colab-df-convert');\n",
              "        buttonEl.style.display =\n",
              "          google.colab.kernel.accessAllowed ? 'block' : 'none';\n",
              "\n",
              "        async function convertToInteractive(key) {\n",
              "          const element = document.querySelector('#df-4fd7f17b-6109-4dfc-8718-2b8bb4fafa4d');\n",
              "          const dataTable =\n",
              "            await google.colab.kernel.invokeFunction('convertToInteractive',\n",
              "                                                     [key], {});\n",
              "          if (!dataTable) return;\n",
              "\n",
              "          const docLinkHtml = 'Like what you see? Visit the ' +\n",
              "            '<a target=\"_blank\" href=https://colab.research.google.com/notebooks/data_table.ipynb>data table notebook</a>'\n",
              "            + ' to learn more about interactive tables.';\n",
              "          element.innerHTML = '';\n",
              "          dataTable['output_type'] = 'display_data';\n",
              "          await google.colab.output.renderOutput(dataTable, element);\n",
              "          const docLink = document.createElement('div');\n",
              "          docLink.innerHTML = docLinkHtml;\n",
              "          element.appendChild(docLink);\n",
              "        }\n",
              "      </script>\n",
              "    </div>\n",
              "  </div>\n",
              "  "
            ]
          },
          "metadata": {},
          "execution_count": 71
        }
      ]
    },
    {
      "cell_type": "markdown",
      "source": [
        "### 5 most wrong disaster tweets:\n"
      ],
      "metadata": {
        "id": "2imOPdc5UrXn"
      }
    },
    {
      "cell_type": "code",
      "source": [
        "for i in np.arange(0,5):\n",
        "  print(worst_preds.iloc[i,0],'\\n')\n",
        "  print(f'target: {worst_preds.iloc[i,1]}, prediction: {worst_preds.iloc[i,2]}, prob: {worst_preds.iloc[i,3]} \\n')\n",
        "  print('========================')"
      ],
      "metadata": {
        "colab": {
          "base_uri": "https://localhost:8080/"
        },
        "id": "ctJtg6P5SIjx",
        "outputId": "9eb86255-6b5b-491c-acdd-1db1ffcd2c66"
      },
      "execution_count": 108,
      "outputs": [
        {
          "output_type": "stream",
          "name": "stdout",
          "text": [
            "Oh the usual. Mass murder and world domination plans over coffee. How's your day going? \n",
            "\n",
            "target: 1, prediction: 0.0, prob: 0.018337130546569824 \n",
            "\n",
            "========================\n",
            "You can never escape me. Bullets don't harm me. Nothing harms me. But I know pain. I know pain. Sometimes I share it. With someone like you. \n",
            "\n",
            "target: 1, prediction: 0.0, prob: 0.02095693349838257 \n",
            "\n",
            "========================\n",
            "going to redo my nails and watch behind the scenes of desolation of smaug ayyy \n",
            "\n",
            "target: 1, prediction: 0.0, prob: 0.022396713495254517 \n",
            "\n",
            "========================\n",
            "I liked a @YouTube video http://t.co/43sXG9Z6xh TREMOR IS NO JOKE!! [TREMOR DLC] [FATALITIES/X-RAY] \n",
            "\n",
            "target: 1, prediction: 0.0, prob: 0.02703458070755005 \n",
            "\n",
            "========================\n",
            "So I pick myself off the ground and swam before I drowned. Hit the bottom so hard I bounced twice suffice this time around is different. \n",
            "\n",
            "target: 1, prediction: 0.0, prob: 0.027518808841705322 \n",
            "\n",
            "========================\n"
          ]
        }
      ]
    },
    {
      "cell_type": "code",
      "source": [],
      "metadata": {
        "id": "VUMQkRaaSXSc"
      },
      "execution_count": null,
      "outputs": []
    },
    {
      "cell_type": "markdown",
      "source": [
        "### 5 most wrong Non-disaster tweets:\n"
      ],
      "metadata": {
        "id": "tlvVuNyBU29D"
      }
    },
    {
      "cell_type": "code",
      "source": [
        "for i in np.arange(1,6)*-1:\n",
        "  print(worst_preds.iloc[i,0],'\\n')\n",
        "  print(f'target: {worst_preds.iloc[i,1]}, prediction: {worst_preds.iloc[i,2]}, prob: {worst_preds.iloc[i,3]} \\n')\n",
        "  print('========================')"
      ],
      "metadata": {
        "colab": {
          "base_uri": "https://localhost:8080/"
        },
        "outputId": "8104d39e-8d50-4eac-8126-05ef738236f6",
        "id": "5nKePEt3U29D"
      },
      "execution_count": 105,
      "outputs": [
        {
          "output_type": "stream",
          "name": "stdout",
          "text": [
            "DISASTER AVERTED: Police kill gunman with Û÷hoax deviceÛª atåÊcinema http://t.co/5NG0FzpVdS \n",
            "\n",
            "target: 0, prediction: 1.0, prob: 0.9925195574760437 \n",
            "\n",
            "========================\n",
            "Kosciusko police investigating pedestrian fatality hit by a train Thursday http://t.co/m5djLLxoZP \n",
            "\n",
            "target: 0, prediction: 1.0, prob: 0.9915049076080322 \n",
            "\n",
            "========================\n",
            "wowo--=== 12000 Nigerian refugees repatriated from Cameroon \n",
            "\n",
            "target: 0, prediction: 1.0, prob: 0.958886981010437 \n",
            "\n",
            "========================\n",
            "#hot  C-130 specially modified to land in a stadium and rescue hostages in Iran in 1980 http://t.co/zY3hpdJNwg #prebreak #best \n",
            "\n",
            "target: 0, prediction: 1.0, prob: 0.8970597982406616 \n",
            "\n",
            "========================\n",
            ".POTUS #StrategicPatience is a strategy for #Genocide; refugees; IDP Internally displaced people; horror; etc. https://t.co/rqWuoy1fm4 \n",
            "\n",
            "target: 0, prediction: 1.0, prob: 0.8792896270751953 \n",
            "\n",
            "========================\n"
          ]
        }
      ]
    },
    {
      "cell_type": "code",
      "source": [],
      "metadata": {
        "id": "DPc_Wjc0WGl6"
      },
      "execution_count": null,
      "outputs": []
    }
  ]
}