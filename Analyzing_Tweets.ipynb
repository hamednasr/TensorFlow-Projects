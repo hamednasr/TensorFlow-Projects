{
  "nbformat": 4,
  "nbformat_minor": 0,
  "metadata": {
    "colab": {
      "name": "Analyzing Tweets.ipynb",
      "provenance": [],
      "collapsed_sections": [],
      "authorship_tag": "ABX9TyPi+w5KotB5ezNgrh6LEV6L",
      "include_colab_link": true
    },
    "kernelspec": {
      "name": "python3",
      "display_name": "Python 3"
    },
    "language_info": {
      "name": "python"
    }
  },
  "cells": [
    {
      "cell_type": "markdown",
      "metadata": {
        "id": "view-in-github",
        "colab_type": "text"
      },
      "source": [
        "<a href=\"https://colab.research.google.com/github/hamednasr/TensorFlow-Projects/blob/main/Analyzing_Tweets.ipynb\" target=\"_parent\"><img src=\"https://colab.research.google.com/assets/colab-badge.svg\" alt=\"Open In Colab\"/></a>"
      ]
    },
    {
      "cell_type": "markdown",
      "source": [
        "# Predicting Tweet`s overal message(disaster or not?):\n",
        "## This is a kaggle competition.\n",
        "https://www.kaggle.com/competitions/nlp-getting-started/data"
      ],
      "metadata": {
        "id": "ol97k-HW8Wg2"
      }
    },
    {
      "cell_type": "code",
      "execution_count": 2,
      "metadata": {
        "id": "yM5I8_f83-kJ"
      },
      "outputs": [],
      "source": [
        "import tensorflow as tf\n",
        "import pandas as pd\n",
        "import random\n",
        "from sklearn.model_selection import train_test_split"
      ]
    },
    {
      "cell_type": "code",
      "source": [
        "!wget https://raw.githubusercontent.com/mrdbourke/tensorflow-deep-learning/main/extras/helper_functions.py"
      ],
      "metadata": {
        "colab": {
          "base_uri": "https://localhost:8080/"
        },
        "id": "cOynL78r7eSi",
        "outputId": "2d25a734-2f87-4275-d68b-6b82e18f6fb0"
      },
      "execution_count": 3,
      "outputs": [
        {
          "output_type": "stream",
          "name": "stdout",
          "text": [
            "--2022-08-29 18:50:01--  https://raw.githubusercontent.com/mrdbourke/tensorflow-deep-learning/main/extras/helper_functions.py\n",
            "Resolving raw.githubusercontent.com (raw.githubusercontent.com)... 185.199.108.133, 185.199.109.133, 185.199.110.133, ...\n",
            "Connecting to raw.githubusercontent.com (raw.githubusercontent.com)|185.199.108.133|:443... connected.\n",
            "HTTP request sent, awaiting response... 200 OK\n",
            "Length: 10246 (10K) [text/plain]\n",
            "Saving to: ‘helper_functions.py’\n",
            "\n",
            "\rhelper_functions.py   0%[                    ]       0  --.-KB/s               \rhelper_functions.py 100%[===================>]  10.01K  --.-KB/s    in 0s      \n",
            "\n",
            "2022-08-29 18:50:01 (77.2 MB/s) - ‘helper_functions.py’ saved [10246/10246]\n",
            "\n"
          ]
        }
      ]
    },
    {
      "cell_type": "code",
      "source": [
        "from helper_functions import unzip_data, plot_loss_curves, compare_historys"
      ],
      "metadata": {
        "id": "H9qihhzF7eM-"
      },
      "execution_count": 4,
      "outputs": []
    },
    {
      "cell_type": "code",
      "source": [
        "!wget https://storage.googleapis.com/ztm_tf_course/nlp_getting_started.zip"
      ],
      "metadata": {
        "colab": {
          "base_uri": "https://localhost:8080/"
        },
        "id": "4HQKwtV77N6J",
        "outputId": "1aa9c1be-6fa3-4fda-8cf5-b46334b95236"
      },
      "execution_count": 5,
      "outputs": [
        {
          "output_type": "stream",
          "name": "stdout",
          "text": [
            "--2022-08-29 18:50:01--  https://storage.googleapis.com/ztm_tf_course/nlp_getting_started.zip\n",
            "Resolving storage.googleapis.com (storage.googleapis.com)... 172.217.193.128, 172.217.204.128, 172.217.203.128, ...\n",
            "Connecting to storage.googleapis.com (storage.googleapis.com)|172.217.193.128|:443... connected.\n",
            "HTTP request sent, awaiting response... 200 OK\n",
            "Length: 607343 (593K) [application/zip]\n",
            "Saving to: ‘nlp_getting_started.zip’\n",
            "\n",
            "\rnlp_getting_started   0%[                    ]       0  --.-KB/s               \rnlp_getting_started 100%[===================>] 593.11K  --.-KB/s    in 0.006s  \n",
            "\n",
            "2022-08-29 18:50:02 (92.4 MB/s) - ‘nlp_getting_started.zip’ saved [607343/607343]\n",
            "\n"
          ]
        }
      ]
    },
    {
      "cell_type": "code",
      "source": [
        "unzip_data('/content/nlp_getting_started.zip')"
      ],
      "metadata": {
        "id": "HEJN23LU7dME"
      },
      "execution_count": 6,
      "outputs": []
    },
    {
      "cell_type": "markdown",
      "source": [
        "## Data Exploration:"
      ],
      "metadata": {
        "id": "g2vkVn6LKQNz"
      }
    },
    {
      "cell_type": "code",
      "source": [
        "train_data = pd.read_csv('train.csv')\n",
        "train_data"
      ],
      "metadata": {
        "colab": {
          "base_uri": "https://localhost:8080/",
          "height": 424
        },
        "id": "nED_2Sbp73WI",
        "outputId": "c917aa57-6d3b-4aee-9ee9-05cd5f9a7c5c"
      },
      "execution_count": 7,
      "outputs": [
        {
          "output_type": "execute_result",
          "data": {
            "text/plain": [
              "         id keyword location  \\\n",
              "0         1     NaN      NaN   \n",
              "1         4     NaN      NaN   \n",
              "2         5     NaN      NaN   \n",
              "3         6     NaN      NaN   \n",
              "4         7     NaN      NaN   \n",
              "...     ...     ...      ...   \n",
              "7608  10869     NaN      NaN   \n",
              "7609  10870     NaN      NaN   \n",
              "7610  10871     NaN      NaN   \n",
              "7611  10872     NaN      NaN   \n",
              "7612  10873     NaN      NaN   \n",
              "\n",
              "                                                   text  target  \n",
              "0     Our Deeds are the Reason of this #earthquake M...       1  \n",
              "1                Forest fire near La Ronge Sask. Canada       1  \n",
              "2     All residents asked to 'shelter in place' are ...       1  \n",
              "3     13,000 people receive #wildfires evacuation or...       1  \n",
              "4     Just got sent this photo from Ruby #Alaska as ...       1  \n",
              "...                                                 ...     ...  \n",
              "7608  Two giant cranes holding a bridge collapse int...       1  \n",
              "7609  @aria_ahrary @TheTawniest The out of control w...       1  \n",
              "7610  M1.94 [01:04 UTC]?5km S of Volcano Hawaii. htt...       1  \n",
              "7611  Police investigating after an e-bike collided ...       1  \n",
              "7612  The Latest: More Homes Razed by Northern Calif...       1  \n",
              "\n",
              "[7613 rows x 5 columns]"
            ],
            "text/html": [
              "\n",
              "  <div id=\"df-7468a9ff-5bcc-46fa-aac0-cdd3ae5fa366\">\n",
              "    <div class=\"colab-df-container\">\n",
              "      <div>\n",
              "<style scoped>\n",
              "    .dataframe tbody tr th:only-of-type {\n",
              "        vertical-align: middle;\n",
              "    }\n",
              "\n",
              "    .dataframe tbody tr th {\n",
              "        vertical-align: top;\n",
              "    }\n",
              "\n",
              "    .dataframe thead th {\n",
              "        text-align: right;\n",
              "    }\n",
              "</style>\n",
              "<table border=\"1\" class=\"dataframe\">\n",
              "  <thead>\n",
              "    <tr style=\"text-align: right;\">\n",
              "      <th></th>\n",
              "      <th>id</th>\n",
              "      <th>keyword</th>\n",
              "      <th>location</th>\n",
              "      <th>text</th>\n",
              "      <th>target</th>\n",
              "    </tr>\n",
              "  </thead>\n",
              "  <tbody>\n",
              "    <tr>\n",
              "      <th>0</th>\n",
              "      <td>1</td>\n",
              "      <td>NaN</td>\n",
              "      <td>NaN</td>\n",
              "      <td>Our Deeds are the Reason of this #earthquake M...</td>\n",
              "      <td>1</td>\n",
              "    </tr>\n",
              "    <tr>\n",
              "      <th>1</th>\n",
              "      <td>4</td>\n",
              "      <td>NaN</td>\n",
              "      <td>NaN</td>\n",
              "      <td>Forest fire near La Ronge Sask. Canada</td>\n",
              "      <td>1</td>\n",
              "    </tr>\n",
              "    <tr>\n",
              "      <th>2</th>\n",
              "      <td>5</td>\n",
              "      <td>NaN</td>\n",
              "      <td>NaN</td>\n",
              "      <td>All residents asked to 'shelter in place' are ...</td>\n",
              "      <td>1</td>\n",
              "    </tr>\n",
              "    <tr>\n",
              "      <th>3</th>\n",
              "      <td>6</td>\n",
              "      <td>NaN</td>\n",
              "      <td>NaN</td>\n",
              "      <td>13,000 people receive #wildfires evacuation or...</td>\n",
              "      <td>1</td>\n",
              "    </tr>\n",
              "    <tr>\n",
              "      <th>4</th>\n",
              "      <td>7</td>\n",
              "      <td>NaN</td>\n",
              "      <td>NaN</td>\n",
              "      <td>Just got sent this photo from Ruby #Alaska as ...</td>\n",
              "      <td>1</td>\n",
              "    </tr>\n",
              "    <tr>\n",
              "      <th>...</th>\n",
              "      <td>...</td>\n",
              "      <td>...</td>\n",
              "      <td>...</td>\n",
              "      <td>...</td>\n",
              "      <td>...</td>\n",
              "    </tr>\n",
              "    <tr>\n",
              "      <th>7608</th>\n",
              "      <td>10869</td>\n",
              "      <td>NaN</td>\n",
              "      <td>NaN</td>\n",
              "      <td>Two giant cranes holding a bridge collapse int...</td>\n",
              "      <td>1</td>\n",
              "    </tr>\n",
              "    <tr>\n",
              "      <th>7609</th>\n",
              "      <td>10870</td>\n",
              "      <td>NaN</td>\n",
              "      <td>NaN</td>\n",
              "      <td>@aria_ahrary @TheTawniest The out of control w...</td>\n",
              "      <td>1</td>\n",
              "    </tr>\n",
              "    <tr>\n",
              "      <th>7610</th>\n",
              "      <td>10871</td>\n",
              "      <td>NaN</td>\n",
              "      <td>NaN</td>\n",
              "      <td>M1.94 [01:04 UTC]?5km S of Volcano Hawaii. htt...</td>\n",
              "      <td>1</td>\n",
              "    </tr>\n",
              "    <tr>\n",
              "      <th>7611</th>\n",
              "      <td>10872</td>\n",
              "      <td>NaN</td>\n",
              "      <td>NaN</td>\n",
              "      <td>Police investigating after an e-bike collided ...</td>\n",
              "      <td>1</td>\n",
              "    </tr>\n",
              "    <tr>\n",
              "      <th>7612</th>\n",
              "      <td>10873</td>\n",
              "      <td>NaN</td>\n",
              "      <td>NaN</td>\n",
              "      <td>The Latest: More Homes Razed by Northern Calif...</td>\n",
              "      <td>1</td>\n",
              "    </tr>\n",
              "  </tbody>\n",
              "</table>\n",
              "<p>7613 rows × 5 columns</p>\n",
              "</div>\n",
              "      <button class=\"colab-df-convert\" onclick=\"convertToInteractive('df-7468a9ff-5bcc-46fa-aac0-cdd3ae5fa366')\"\n",
              "              title=\"Convert this dataframe to an interactive table.\"\n",
              "              style=\"display:none;\">\n",
              "        \n",
              "  <svg xmlns=\"http://www.w3.org/2000/svg\" height=\"24px\"viewBox=\"0 0 24 24\"\n",
              "       width=\"24px\">\n",
              "    <path d=\"M0 0h24v24H0V0z\" fill=\"none\"/>\n",
              "    <path d=\"M18.56 5.44l.94 2.06.94-2.06 2.06-.94-2.06-.94-.94-2.06-.94 2.06-2.06.94zm-11 1L8.5 8.5l.94-2.06 2.06-.94-2.06-.94L8.5 2.5l-.94 2.06-2.06.94zm10 10l.94 2.06.94-2.06 2.06-.94-2.06-.94-.94-2.06-.94 2.06-2.06.94z\"/><path d=\"M17.41 7.96l-1.37-1.37c-.4-.4-.92-.59-1.43-.59-.52 0-1.04.2-1.43.59L10.3 9.45l-7.72 7.72c-.78.78-.78 2.05 0 2.83L4 21.41c.39.39.9.59 1.41.59.51 0 1.02-.2 1.41-.59l7.78-7.78 2.81-2.81c.8-.78.8-2.07 0-2.86zM5.41 20L4 18.59l7.72-7.72 1.47 1.35L5.41 20z\"/>\n",
              "  </svg>\n",
              "      </button>\n",
              "      \n",
              "  <style>\n",
              "    .colab-df-container {\n",
              "      display:flex;\n",
              "      flex-wrap:wrap;\n",
              "      gap: 12px;\n",
              "    }\n",
              "\n",
              "    .colab-df-convert {\n",
              "      background-color: #E8F0FE;\n",
              "      border: none;\n",
              "      border-radius: 50%;\n",
              "      cursor: pointer;\n",
              "      display: none;\n",
              "      fill: #1967D2;\n",
              "      height: 32px;\n",
              "      padding: 0 0 0 0;\n",
              "      width: 32px;\n",
              "    }\n",
              "\n",
              "    .colab-df-convert:hover {\n",
              "      background-color: #E2EBFA;\n",
              "      box-shadow: 0px 1px 2px rgba(60, 64, 67, 0.3), 0px 1px 3px 1px rgba(60, 64, 67, 0.15);\n",
              "      fill: #174EA6;\n",
              "    }\n",
              "\n",
              "    [theme=dark] .colab-df-convert {\n",
              "      background-color: #3B4455;\n",
              "      fill: #D2E3FC;\n",
              "    }\n",
              "\n",
              "    [theme=dark] .colab-df-convert:hover {\n",
              "      background-color: #434B5C;\n",
              "      box-shadow: 0px 1px 3px 1px rgba(0, 0, 0, 0.15);\n",
              "      filter: drop-shadow(0px 1px 2px rgba(0, 0, 0, 0.3));\n",
              "      fill: #FFFFFF;\n",
              "    }\n",
              "  </style>\n",
              "\n",
              "      <script>\n",
              "        const buttonEl =\n",
              "          document.querySelector('#df-7468a9ff-5bcc-46fa-aac0-cdd3ae5fa366 button.colab-df-convert');\n",
              "        buttonEl.style.display =\n",
              "          google.colab.kernel.accessAllowed ? 'block' : 'none';\n",
              "\n",
              "        async function convertToInteractive(key) {\n",
              "          const element = document.querySelector('#df-7468a9ff-5bcc-46fa-aac0-cdd3ae5fa366');\n",
              "          const dataTable =\n",
              "            await google.colab.kernel.invokeFunction('convertToInteractive',\n",
              "                                                     [key], {});\n",
              "          if (!dataTable) return;\n",
              "\n",
              "          const docLinkHtml = 'Like what you see? Visit the ' +\n",
              "            '<a target=\"_blank\" href=https://colab.research.google.com/notebooks/data_table.ipynb>data table notebook</a>'\n",
              "            + ' to learn more about interactive tables.';\n",
              "          element.innerHTML = '';\n",
              "          dataTable['output_type'] = 'display_data';\n",
              "          await google.colab.output.renderOutput(dataTable, element);\n",
              "          const docLink = document.createElement('div');\n",
              "          docLink.innerHTML = docLinkHtml;\n",
              "          element.appendChild(docLink);\n",
              "        }\n",
              "      </script>\n",
              "    </div>\n",
              "  </div>\n",
              "  "
            ]
          },
          "metadata": {},
          "execution_count": 7
        }
      ]
    },
    {
      "cell_type": "code",
      "source": [
        "train_data['target'].value_counts()"
      ],
      "metadata": {
        "colab": {
          "base_uri": "https://localhost:8080/"
        },
        "id": "2d3N-WWWEbeE",
        "outputId": "21df6865-5b31-407d-c65d-89e24d26cc1b"
      },
      "execution_count": 8,
      "outputs": [
        {
          "output_type": "execute_result",
          "data": {
            "text/plain": [
              "0    4342\n",
              "1    3271\n",
              "Name: target, dtype: int64"
            ]
          },
          "metadata": {},
          "execution_count": 8
        }
      ]
    },
    {
      "cell_type": "code",
      "source": [
        "test_data = pd.read_csv('test.csv')\n",
        "test_data"
      ],
      "metadata": {
        "colab": {
          "base_uri": "https://localhost:8080/",
          "height": 424
        },
        "id": "T4KQ8uEEER2T",
        "outputId": "0c2581fd-79a1-4f98-c21d-2f37592c203c"
      },
      "execution_count": 9,
      "outputs": [
        {
          "output_type": "execute_result",
          "data": {
            "text/plain": [
              "         id keyword location  \\\n",
              "0         0     NaN      NaN   \n",
              "1         2     NaN      NaN   \n",
              "2         3     NaN      NaN   \n",
              "3         9     NaN      NaN   \n",
              "4        11     NaN      NaN   \n",
              "...     ...     ...      ...   \n",
              "3258  10861     NaN      NaN   \n",
              "3259  10865     NaN      NaN   \n",
              "3260  10868     NaN      NaN   \n",
              "3261  10874     NaN      NaN   \n",
              "3262  10875     NaN      NaN   \n",
              "\n",
              "                                                   text  \n",
              "0                    Just happened a terrible car crash  \n",
              "1     Heard about #earthquake is different cities, s...  \n",
              "2     there is a forest fire at spot pond, geese are...  \n",
              "3              Apocalypse lighting. #Spokane #wildfires  \n",
              "4         Typhoon Soudelor kills 28 in China and Taiwan  \n",
              "...                                                 ...  \n",
              "3258  EARTHQUAKE SAFETY LOS ANGELES ÛÒ SAFETY FASTE...  \n",
              "3259  Storm in RI worse than last hurricane. My city...  \n",
              "3260  Green Line derailment in Chicago http://t.co/U...  \n",
              "3261  MEG issues Hazardous Weather Outlook (HWO) htt...  \n",
              "3262  #CityofCalgary has activated its Municipal Eme...  \n",
              "\n",
              "[3263 rows x 4 columns]"
            ],
            "text/html": [
              "\n",
              "  <div id=\"df-52a0a625-9388-48f7-ba39-f5f9b5ea54ec\">\n",
              "    <div class=\"colab-df-container\">\n",
              "      <div>\n",
              "<style scoped>\n",
              "    .dataframe tbody tr th:only-of-type {\n",
              "        vertical-align: middle;\n",
              "    }\n",
              "\n",
              "    .dataframe tbody tr th {\n",
              "        vertical-align: top;\n",
              "    }\n",
              "\n",
              "    .dataframe thead th {\n",
              "        text-align: right;\n",
              "    }\n",
              "</style>\n",
              "<table border=\"1\" class=\"dataframe\">\n",
              "  <thead>\n",
              "    <tr style=\"text-align: right;\">\n",
              "      <th></th>\n",
              "      <th>id</th>\n",
              "      <th>keyword</th>\n",
              "      <th>location</th>\n",
              "      <th>text</th>\n",
              "    </tr>\n",
              "  </thead>\n",
              "  <tbody>\n",
              "    <tr>\n",
              "      <th>0</th>\n",
              "      <td>0</td>\n",
              "      <td>NaN</td>\n",
              "      <td>NaN</td>\n",
              "      <td>Just happened a terrible car crash</td>\n",
              "    </tr>\n",
              "    <tr>\n",
              "      <th>1</th>\n",
              "      <td>2</td>\n",
              "      <td>NaN</td>\n",
              "      <td>NaN</td>\n",
              "      <td>Heard about #earthquake is different cities, s...</td>\n",
              "    </tr>\n",
              "    <tr>\n",
              "      <th>2</th>\n",
              "      <td>3</td>\n",
              "      <td>NaN</td>\n",
              "      <td>NaN</td>\n",
              "      <td>there is a forest fire at spot pond, geese are...</td>\n",
              "    </tr>\n",
              "    <tr>\n",
              "      <th>3</th>\n",
              "      <td>9</td>\n",
              "      <td>NaN</td>\n",
              "      <td>NaN</td>\n",
              "      <td>Apocalypse lighting. #Spokane #wildfires</td>\n",
              "    </tr>\n",
              "    <tr>\n",
              "      <th>4</th>\n",
              "      <td>11</td>\n",
              "      <td>NaN</td>\n",
              "      <td>NaN</td>\n",
              "      <td>Typhoon Soudelor kills 28 in China and Taiwan</td>\n",
              "    </tr>\n",
              "    <tr>\n",
              "      <th>...</th>\n",
              "      <td>...</td>\n",
              "      <td>...</td>\n",
              "      <td>...</td>\n",
              "      <td>...</td>\n",
              "    </tr>\n",
              "    <tr>\n",
              "      <th>3258</th>\n",
              "      <td>10861</td>\n",
              "      <td>NaN</td>\n",
              "      <td>NaN</td>\n",
              "      <td>EARTHQUAKE SAFETY LOS ANGELES ÛÒ SAFETY FASTE...</td>\n",
              "    </tr>\n",
              "    <tr>\n",
              "      <th>3259</th>\n",
              "      <td>10865</td>\n",
              "      <td>NaN</td>\n",
              "      <td>NaN</td>\n",
              "      <td>Storm in RI worse than last hurricane. My city...</td>\n",
              "    </tr>\n",
              "    <tr>\n",
              "      <th>3260</th>\n",
              "      <td>10868</td>\n",
              "      <td>NaN</td>\n",
              "      <td>NaN</td>\n",
              "      <td>Green Line derailment in Chicago http://t.co/U...</td>\n",
              "    </tr>\n",
              "    <tr>\n",
              "      <th>3261</th>\n",
              "      <td>10874</td>\n",
              "      <td>NaN</td>\n",
              "      <td>NaN</td>\n",
              "      <td>MEG issues Hazardous Weather Outlook (HWO) htt...</td>\n",
              "    </tr>\n",
              "    <tr>\n",
              "      <th>3262</th>\n",
              "      <td>10875</td>\n",
              "      <td>NaN</td>\n",
              "      <td>NaN</td>\n",
              "      <td>#CityofCalgary has activated its Municipal Eme...</td>\n",
              "    </tr>\n",
              "  </tbody>\n",
              "</table>\n",
              "<p>3263 rows × 4 columns</p>\n",
              "</div>\n",
              "      <button class=\"colab-df-convert\" onclick=\"convertToInteractive('df-52a0a625-9388-48f7-ba39-f5f9b5ea54ec')\"\n",
              "              title=\"Convert this dataframe to an interactive table.\"\n",
              "              style=\"display:none;\">\n",
              "        \n",
              "  <svg xmlns=\"http://www.w3.org/2000/svg\" height=\"24px\"viewBox=\"0 0 24 24\"\n",
              "       width=\"24px\">\n",
              "    <path d=\"M0 0h24v24H0V0z\" fill=\"none\"/>\n",
              "    <path d=\"M18.56 5.44l.94 2.06.94-2.06 2.06-.94-2.06-.94-.94-2.06-.94 2.06-2.06.94zm-11 1L8.5 8.5l.94-2.06 2.06-.94-2.06-.94L8.5 2.5l-.94 2.06-2.06.94zm10 10l.94 2.06.94-2.06 2.06-.94-2.06-.94-.94-2.06-.94 2.06-2.06.94z\"/><path d=\"M17.41 7.96l-1.37-1.37c-.4-.4-.92-.59-1.43-.59-.52 0-1.04.2-1.43.59L10.3 9.45l-7.72 7.72c-.78.78-.78 2.05 0 2.83L4 21.41c.39.39.9.59 1.41.59.51 0 1.02-.2 1.41-.59l7.78-7.78 2.81-2.81c.8-.78.8-2.07 0-2.86zM5.41 20L4 18.59l7.72-7.72 1.47 1.35L5.41 20z\"/>\n",
              "  </svg>\n",
              "      </button>\n",
              "      \n",
              "  <style>\n",
              "    .colab-df-container {\n",
              "      display:flex;\n",
              "      flex-wrap:wrap;\n",
              "      gap: 12px;\n",
              "    }\n",
              "\n",
              "    .colab-df-convert {\n",
              "      background-color: #E8F0FE;\n",
              "      border: none;\n",
              "      border-radius: 50%;\n",
              "      cursor: pointer;\n",
              "      display: none;\n",
              "      fill: #1967D2;\n",
              "      height: 32px;\n",
              "      padding: 0 0 0 0;\n",
              "      width: 32px;\n",
              "    }\n",
              "\n",
              "    .colab-df-convert:hover {\n",
              "      background-color: #E2EBFA;\n",
              "      box-shadow: 0px 1px 2px rgba(60, 64, 67, 0.3), 0px 1px 3px 1px rgba(60, 64, 67, 0.15);\n",
              "      fill: #174EA6;\n",
              "    }\n",
              "\n",
              "    [theme=dark] .colab-df-convert {\n",
              "      background-color: #3B4455;\n",
              "      fill: #D2E3FC;\n",
              "    }\n",
              "\n",
              "    [theme=dark] .colab-df-convert:hover {\n",
              "      background-color: #434B5C;\n",
              "      box-shadow: 0px 1px 3px 1px rgba(0, 0, 0, 0.15);\n",
              "      filter: drop-shadow(0px 1px 2px rgba(0, 0, 0, 0.3));\n",
              "      fill: #FFFFFF;\n",
              "    }\n",
              "  </style>\n",
              "\n",
              "      <script>\n",
              "        const buttonEl =\n",
              "          document.querySelector('#df-52a0a625-9388-48f7-ba39-f5f9b5ea54ec button.colab-df-convert');\n",
              "        buttonEl.style.display =\n",
              "          google.colab.kernel.accessAllowed ? 'block' : 'none';\n",
              "\n",
              "        async function convertToInteractive(key) {\n",
              "          const element = document.querySelector('#df-52a0a625-9388-48f7-ba39-f5f9b5ea54ec');\n",
              "          const dataTable =\n",
              "            await google.colab.kernel.invokeFunction('convertToInteractive',\n",
              "                                                     [key], {});\n",
              "          if (!dataTable) return;\n",
              "\n",
              "          const docLinkHtml = 'Like what you see? Visit the ' +\n",
              "            '<a target=\"_blank\" href=https://colab.research.google.com/notebooks/data_table.ipynb>data table notebook</a>'\n",
              "            + ' to learn more about interactive tables.';\n",
              "          element.innerHTML = '';\n",
              "          dataTable['output_type'] = 'display_data';\n",
              "          await google.colab.output.renderOutput(dataTable, element);\n",
              "          const docLink = document.createElement('div');\n",
              "          docLink.innerHTML = docLinkHtml;\n",
              "          element.appendChild(docLink);\n",
              "        }\n",
              "      </script>\n",
              "    </div>\n",
              "  </div>\n",
              "  "
            ]
          },
          "metadata": {},
          "execution_count": 9
        }
      ]
    },
    {
      "cell_type": "code",
      "source": [
        "random_data = train_data.sample(frac=0.0006)\n",
        "for i in range(len(random_data)):\n",
        "  print(f'tweet number {i+1} :')\n",
        "  if random_data.iloc[i, 4]==1:\n",
        "    target = 'a Disaster'\n",
        "  else:\n",
        "    target = 'NOT Disaster'\n",
        "  print(f'{random_data.iloc[i, 3]} : This is {target} tweet')\n",
        "  print('------------------------------------\\n')\n"
      ],
      "metadata": {
        "colab": {
          "base_uri": "https://localhost:8080/"
        },
        "id": "E4uHcGoQEYVB",
        "outputId": "31761bab-8396-45e3-ac22-21034b61c7a9"
      },
      "execution_count": 10,
      "outputs": [
        {
          "output_type": "stream",
          "name": "stdout",
          "text": [
            "tweet number 1 :\n",
            "#Obama signed up to a deal that far from making the world a safer place http://t.co/E0luGBL6pb via @upi #Iran #Nuclear #IranNuclearDeal : This is a Disaster tweet\n",
            "------------------------------------\n",
            "\n",
            "tweet number 2 :\n",
            "Philadelphia EaglesÛª Jordan Matthews Is Going To Explode In 2015 http://t.co/rRq1ildkiL #news #hotnewscake : This is NOT Disaster tweet\n",
            "------------------------------------\n",
            "\n",
            "tweet number 3 :\n",
            "From recycling to only using non-hazardous chemicals Holland 1916 continually strives to maintain an eco-friendly existence. : This is a Disaster tweet\n",
            "------------------------------------\n",
            "\n",
            "tweet number 4 :\n",
            "You can't watch 'Home Alone 2' without telling your kids \n",
            "'she used to be on Casualty'. \n",
            "#Homealone2 #film4 : This is NOT Disaster tweet\n",
            "------------------------------------\n",
            "\n",
            "tweet number 5 :\n",
            "@time4me_sews I know! It still hasn't quite sunk in :D : This is NOT Disaster tweet\n",
            "------------------------------------\n",
            "\n"
          ]
        }
      ]
    },
    {
      "cell_type": "markdown",
      "source": [
        "## Extract validation data from train data:"
      ],
      "metadata": {
        "id": "RiGYjpD3LOB8"
      }
    },
    {
      "cell_type": "code",
      "source": [
        "train_data['text'].to_numpy()"
      ],
      "metadata": {
        "colab": {
          "base_uri": "https://localhost:8080/"
        },
        "id": "TDEGSE5qMzH4",
        "outputId": "74cebd6d-5c9d-41b5-997c-4315c09373ac"
      },
      "execution_count": 11,
      "outputs": [
        {
          "output_type": "execute_result",
          "data": {
            "text/plain": [
              "array(['Our Deeds are the Reason of this #earthquake May ALLAH Forgive us all',\n",
              "       'Forest fire near La Ronge Sask. Canada',\n",
              "       \"All residents asked to 'shelter in place' are being notified by officers. No other evacuation or shelter in place orders are expected\",\n",
              "       ...,\n",
              "       'M1.94 [01:04 UTC]?5km S of Volcano Hawaii. http://t.co/zDtoyd8EbJ',\n",
              "       'Police investigating after an e-bike collided with a car in Little Portugal. E-bike rider suffered serious non-life threatening injuries.',\n",
              "       'The Latest: More Homes Razed by Northern California Wildfire - ABC News http://t.co/YmY4rSkQ3d'],\n",
              "      dtype=object)"
            ]
          },
          "metadata": {},
          "execution_count": 11
        }
      ]
    },
    {
      "cell_type": "code",
      "source": [
        "train_data['target'].to_numpy()"
      ],
      "metadata": {
        "colab": {
          "base_uri": "https://localhost:8080/"
        },
        "id": "9E9Bh7DONeeh",
        "outputId": "e608b688-5042-4e29-a9fa-e288284dfd25"
      },
      "execution_count": 12,
      "outputs": [
        {
          "output_type": "execute_result",
          "data": {
            "text/plain": [
              "array([1, 1, 1, ..., 1, 1, 1])"
            ]
          },
          "metadata": {},
          "execution_count": 12
        }
      ]
    },
    {
      "cell_type": "code",
      "source": [
        "train_data, val_data, train_label, val_label = train_test_split(train_data['text'].to_numpy(), train_data['target'].to_numpy(), \n",
        "                                                                test_size=0.15, \n",
        "                                                                random_state=42)"
      ],
      "metadata": {
        "id": "ihBhXs9YG2FG"
      },
      "execution_count": 13,
      "outputs": []
    },
    {
      "cell_type": "code",
      "source": [
        "val_data[:10], val_label[:10]"
      ],
      "metadata": {
        "colab": {
          "base_uri": "https://localhost:8080/"
        },
        "id": "UT_cUffWNkdm",
        "outputId": "d1591810-fdb2-40f8-ad29-9ded867a0951"
      },
      "execution_count": 14,
      "outputs": [
        {
          "output_type": "execute_result",
          "data": {
            "text/plain": [
              "(array(['So you have a new weapon that can cause un-imaginable destruction.',\n",
              "        'The f$&amp;@ing things I do for #GISHWHES Just got soaked in a deluge going for pads and tampons. Thx @mishacollins @/@',\n",
              "        'DT @georgegalloway: RT @Galloway4Mayor: \\x89ÛÏThe CoL police can catch a pickpocket in Liverpool Stree... http://t.co/vXIn1gOq4Q',\n",
              "        'Aftershock back to school kick off was great. I want to thank everyone for making it possible. What a great night.',\n",
              "        'in response to trauma Children of Addicts develop a defensive self - one that decreases vulnerability. (3',\n",
              "        '@Calum5SOS you look like you got caught in a rainstorm this is amazing and disgusting at the same time',\n",
              "        'my favorite lady came to our volunteer meeting\\nhopefully joining her youth collision and i am excite http://t.co/Ij0wQ490cS',\n",
              "        '@brianroemmele UX fail of EMV - people want to insert and remove quickly like a gas pump stripe reader. 1 person told me it crashed the POS',\n",
              "        \"Can't find my ariana grande shirt  this is a fucking tragedy\",\n",
              "        'The Murderous Story Of America\\x89Ûªs First Hijacking http://t.co/EYUGk6byxr'],\n",
              "       dtype=object), array([1, 0, 1, 0, 0, 0, 1, 1, 0, 1]))"
            ]
          },
          "metadata": {},
          "execution_count": 14
        }
      ]
    },
    {
      "cell_type": "markdown",
      "source": [
        "## Tokenization (Vectorization):"
      ],
      "metadata": {
        "id": "oZdleV07g5m8"
      }
    },
    {
      "cell_type": "code",
      "source": [
        "sum([len(tweet.split()) for tweet in train_data])"
      ],
      "metadata": {
        "colab": {
          "base_uri": "https://localhost:8080/"
        },
        "id": "dBwN2uYD2GEH",
        "outputId": "9c253c61-219f-4233-b18c-288c0671dc55"
      },
      "execution_count": 15,
      "outputs": [
        {
          "output_type": "execute_result",
          "data": {
            "text/plain": [
              "96401"
            ]
          },
          "metadata": {},
          "execution_count": 15
        }
      ]
    },
    {
      "cell_type": "code",
      "source": [
        "round(sum([len(tweet.split()) for tweet in train_data])/len(train_data))"
      ],
      "metadata": {
        "colab": {
          "base_uri": "https://localhost:8080/"
        },
        "id": "vAr6BqkV0fnm",
        "outputId": "5ac0e611-6642-4c21-9624-00035ca3d10f"
      },
      "execution_count": 16,
      "outputs": [
        {
          "output_type": "execute_result",
          "data": {
            "text/plain": [
              "15"
            ]
          },
          "metadata": {},
          "execution_count": 16
        }
      ]
    },
    {
      "cell_type": "code",
      "source": [
        "text_vectorization = tf.keras.layers.TextVectorization(max_tokens=10000,\n",
        "                                                       output_mode='int', \n",
        "                                                       output_sequence_length=15)"
      ],
      "metadata": {
        "id": "nX1891FjNoHS"
      },
      "execution_count": 17,
      "outputs": []
    },
    {
      "cell_type": "code",
      "source": [
        "text_vectorization.adapt(train_data)"
      ],
      "metadata": {
        "id": "rrPEZ-cpvKUF"
      },
      "execution_count": 18,
      "outputs": []
    },
    {
      "cell_type": "code",
      "source": [
        "sample_tweet = 'my name is hamed i am happy to meet you!'\n",
        "text_vectorization(sample_tweet)"
      ],
      "metadata": {
        "colab": {
          "base_uri": "https://localhost:8080/"
        },
        "id": "GvlFWQgb5PE5",
        "outputId": "35de3e84-e3d9-4c21-8b7a-6ee391c3499b"
      },
      "execution_count": 19,
      "outputs": [
        {
          "output_type": "execute_result",
          "data": {
            "text/plain": [
              "<tf.Tensor: shape=(15,), dtype=int64, numpy=\n",
              "array([  13,  736,    9,    1,    8,  161,  681,    5, 1732,   12,    0,\n",
              "          0,    0,    0,    0])>"
            ]
          },
          "metadata": {},
          "execution_count": 19
        }
      ]
    },
    {
      "cell_type": "code",
      "source": [
        "random_tweet = random.choice(train_data)\n",
        "print('tweet: ', random_tweet,'\\n\\n')\n",
        "print('vectorized tweet: ', text_vectorization(random_tweet))"
      ],
      "metadata": {
        "colab": {
          "base_uri": "https://localhost:8080/"
        },
        "id": "_4LVOt3r50nF",
        "outputId": "9c838351-21d2-4a7a-fe3b-9c4a5addd86f"
      },
      "execution_count": 20,
      "outputs": [
        {
          "output_type": "stream",
          "name": "stdout",
          "text": [
            "tweet:  RT patrickjbutler: Excellent damiengayle eyewitness account of Kids Company closure: 'You drop the bomb and expectÛ_ http://t.co/pHH1VmLfoo \n",
            "\n",
            "\n",
            "vectorized tweet:  tf.Tensor(\n",
            "[ 110 9540 3713    1  562 1270    6  561 1495    1   12 1781    2  115\n",
            "    7], shape=(15,), dtype=int64)\n"
          ]
        }
      ]
    },
    {
      "cell_type": "code",
      "source": [
        "#unique words\n",
        "unique_words = text_vectorization.get_vocabulary()\n",
        "print(len(unique_words))\n",
        "print(unique_words[:10])\n",
        "print(unique_words[-10:])"
      ],
      "metadata": {
        "colab": {
          "base_uri": "https://localhost:8080/"
        },
        "id": "pz1D29W_6gMu",
        "outputId": "f8e163b9-5c1a-4ad3-f10f-b10c322adafb"
      },
      "execution_count": 21,
      "outputs": [
        {
          "output_type": "stream",
          "name": "stdout",
          "text": [
            "10000\n",
            "['', '[UNK]', 'the', 'a', 'in', 'to', 'of', 'and', 'i', 'is']\n",
            "['nkulw', 'njenga', 'nj36', 'nittys', 'nitroglycerin', 'nitishkumar', 'nite', 'nissannews', 'nissan', 'niqqa']\n"
          ]
        }
      ]
    },
    {
      "cell_type": "markdown",
      "source": [
        "## Embedding:"
      ],
      "metadata": {
        "id": "NOWUfElgCc9K"
      }
    },
    {
      "cell_type": "code",
      "source": [
        "embedding = tf.keras.layers.Embedding(input_dim = 10000, output_dim = 32, input_length=None)"
      ],
      "metadata": {
        "id": "q8V1ge7R8-uB"
      },
      "execution_count": 31,
      "outputs": []
    },
    {
      "cell_type": "code",
      "source": [
        "sample_embed = embedding(text_vectorization(random_tweet))\n",
        "sample_embed"
      ],
      "metadata": {
        "colab": {
          "base_uri": "https://localhost:8080/"
        },
        "id": "tLIAWQIV8taE",
        "outputId": "77bfe67a-3152-4e0f-b0a4-bb2e6a6ed10e"
      },
      "execution_count": 32,
      "outputs": [
        {
          "output_type": "execute_result",
          "data": {
            "text/plain": [
              "<tf.Tensor: shape=(15, 32), dtype=float32, numpy=\n",
              "array([[ 4.85596322e-02,  1.99453942e-02,  4.84256260e-02,\n",
              "         4.07626368e-02, -2.93894056e-02, -3.78947258e-02,\n",
              "         3.26809548e-02,  3.02758254e-02,  1.29705109e-02,\n",
              "        -1.30880363e-02, -3.98523733e-03,  4.31891792e-02,\n",
              "         1.41895451e-02, -2.39767879e-03, -2.93552764e-02,\n",
              "        -3.36239338e-02,  3.34553160e-02, -1.12325773e-02,\n",
              "        -1.85051337e-02,  1.63529404e-02, -2.41502374e-03,\n",
              "        -8.49064440e-03, -4.06452194e-02,  1.83264948e-02,\n",
              "        -4.08911929e-02,  2.82916315e-02,  8.42920691e-03,\n",
              "        -2.45967396e-02,  1.61089562e-02, -1.33366100e-02,\n",
              "        -1.87038071e-02,  1.21319890e-02],\n",
              "       [ 3.82091664e-02, -4.15164232e-03, -1.49996392e-02,\n",
              "        -1.57485120e-02,  8.54682177e-04,  1.98920481e-02,\n",
              "         4.78547849e-02, -4.64179404e-02, -1.34839416e-02,\n",
              "         2.32947730e-02, -2.53740698e-03,  3.70474122e-02,\n",
              "         1.73270702e-04, -2.32557412e-02,  4.12638672e-02,\n",
              "        -3.85971777e-02, -8.36553425e-03, -4.35858481e-02,\n",
              "         1.83274634e-02,  5.59787825e-03,  7.04256445e-03,\n",
              "         2.12494247e-02,  4.39026095e-02,  3.05282138e-02,\n",
              "         2.89834663e-03, -4.87603322e-02, -2.55200993e-02,\n",
              "        -2.63214111e-03, -3.65532748e-02,  4.95411269e-02,\n",
              "        -2.35915668e-02, -2.87392028e-02],\n",
              "       [-5.30817360e-03, -2.67439615e-02,  6.60371035e-04,\n",
              "         2.13405155e-02,  4.94522341e-02,  4.02896293e-02,\n",
              "         1.16318949e-02,  4.97755744e-02, -1.10667720e-02,\n",
              "        -7.64211267e-03,  3.46301533e-02,  2.68589146e-02,\n",
              "         2.42304839e-02,  6.73242658e-03,  2.43894756e-05,\n",
              "        -3.64227779e-02,  1.59794800e-02,  2.64197849e-02,\n",
              "         3.00840624e-02,  4.91665863e-02,  1.30728595e-02,\n",
              "        -3.02501768e-03,  1.26587637e-02, -1.40475258e-02,\n",
              "         2.28269212e-02,  3.84758785e-03, -2.83984076e-02,\n",
              "         4.97058891e-02,  4.56148647e-02,  1.36919133e-02,\n",
              "        -2.28012688e-02,  4.51716296e-02],\n",
              "       [ 3.11888121e-02, -2.60102991e-02,  6.65353611e-03,\n",
              "         2.77529247e-02,  1.71025135e-02,  6.80223852e-03,\n",
              "         2.94891037e-02,  4.57167141e-02, -3.75475064e-02,\n",
              "        -3.57397199e-02, -1.09089985e-02, -4.66506481e-02,\n",
              "         2.97522657e-02,  2.05973126e-02, -4.10788432e-02,\n",
              "         1.81860812e-02, -4.50196043e-02,  8.99121910e-03,\n",
              "         2.86843292e-02, -2.59926319e-02,  4.21019457e-02,\n",
              "         3.30591686e-02,  2.96263956e-02,  2.03950740e-02,\n",
              "        -2.65477542e-02, -3.67015824e-02,  4.11630981e-02,\n",
              "        -1.85831562e-02,  4.54069301e-03, -1.54859312e-02,\n",
              "        -2.86127571e-02,  1.19985454e-02],\n",
              "       [ 1.95852853e-02,  2.07430460e-02, -3.86560783e-02,\n",
              "         9.14791971e-03,  1.44215710e-02,  1.44811608e-02,\n",
              "        -1.38669722e-02,  1.17022879e-02, -4.56607454e-02,\n",
              "         1.94640793e-02, -1.35799050e-02, -3.40849981e-02,\n",
              "        -1.51432753e-02,  4.28912975e-02, -2.43552811e-02,\n",
              "        -2.78970245e-02, -3.10436618e-02,  3.14407833e-02,\n",
              "        -1.07202679e-03,  4.72958349e-02,  3.68942730e-02,\n",
              "        -3.65732908e-02,  2.17715539e-02,  3.74861397e-02,\n",
              "         1.22894868e-02,  4.31748293e-02, -2.04796325e-02,\n",
              "        -1.80886760e-02,  2.84316391e-03,  3.36858667e-02,\n",
              "         6.63727522e-03, -2.14798208e-02],\n",
              "       [-3.26762423e-02, -2.44614240e-02,  3.22728045e-02,\n",
              "        -4.49784845e-03,  9.59118456e-03,  2.62726434e-02,\n",
              "         1.26302876e-02,  7.36943632e-03,  3.26837413e-02,\n",
              "         3.70514393e-03, -1.81944296e-03, -2.63469350e-02,\n",
              "         9.69139487e-03,  3.04932930e-02,  4.04252671e-02,\n",
              "        -2.00423840e-02,  4.40800227e-02,  4.25068475e-02,\n",
              "        -4.66810837e-02, -1.89066175e-02,  2.44976208e-03,\n",
              "         4.51103486e-02,  4.13167588e-02, -3.45905311e-02,\n",
              "        -3.08040865e-02, -9.12284851e-03,  1.68701448e-02,\n",
              "         1.81059279e-02,  2.81044282e-02, -1.39826164e-02,\n",
              "         1.74669065e-02, -7.16616958e-03],\n",
              "       [-1.60216801e-02,  4.88508083e-02, -1.09581128e-02,\n",
              "        -8.23994726e-03, -4.24357913e-02,  1.66295804e-02,\n",
              "        -4.41323593e-03,  4.94555719e-02,  3.59587409e-02,\n",
              "         3.90985347e-02, -4.14526686e-02, -4.07650955e-02,\n",
              "         1.47431158e-02,  3.44906934e-02, -3.65861878e-02,\n",
              "        -1.86334923e-03, -2.93982625e-02,  3.56170870e-02,\n",
              "        -4.83287349e-02,  3.73081118e-03, -6.35123253e-03,\n",
              "        -2.06211954e-03, -3.20341475e-02, -4.07375209e-02,\n",
              "        -4.17407379e-02,  3.64928506e-02,  4.91968431e-02,\n",
              "        -4.48021889e-02, -3.43181938e-03,  1.43973939e-02,\n",
              "         3.79357971e-02, -2.73030400e-02],\n",
              "       [ 4.99280356e-02, -3.94258387e-02, -3.24032456e-02,\n",
              "        -3.83060798e-02, -4.61093448e-02,  9.88044590e-03,\n",
              "         4.10263799e-02,  1.67188533e-02, -1.73536055e-02,\n",
              "         3.36287282e-02, -3.55606191e-02,  2.89663188e-02,\n",
              "        -3.84727940e-02, -2.05513723e-02, -1.92329418e-02,\n",
              "         3.08822282e-02,  3.60307135e-02,  1.72428377e-02,\n",
              "        -2.90149450e-03,  4.16842811e-02,  4.96564843e-02,\n",
              "         1.18894093e-02, -7.81996176e-03,  4.56619598e-02,\n",
              "        -3.33260521e-02,  1.69782080e-02,  2.27860250e-02,\n",
              "        -4.77884524e-02, -2.39783060e-02,  6.54376671e-03,\n",
              "         1.49630196e-02, -3.73133533e-02],\n",
              "       [ 3.39087881e-02, -4.92927916e-02,  2.07366981e-02,\n",
              "        -2.00955868e-02, -4.97222319e-02,  1.76161639e-02,\n",
              "        -1.92059036e-02, -2.65319590e-02, -5.16970083e-03,\n",
              "        -4.43282984e-02, -1.11803524e-02,  5.84984943e-03,\n",
              "        -1.22166798e-03, -3.93645167e-02,  3.60784046e-02,\n",
              "         6.11387193e-04, -5.28789684e-03,  3.67588922e-03,\n",
              "         4.58443202e-02,  3.89941670e-02,  1.90802477e-02,\n",
              "         4.96402644e-02, -3.18965204e-02, -2.12110765e-02,\n",
              "         2.82429531e-03, -1.94297675e-02, -4.22607735e-03,\n",
              "        -1.77009106e-02, -2.58998517e-02, -2.86066532e-02,\n",
              "         2.89561413e-02,  3.60013507e-02],\n",
              "       [ 3.11888121e-02, -2.60102991e-02,  6.65353611e-03,\n",
              "         2.77529247e-02,  1.71025135e-02,  6.80223852e-03,\n",
              "         2.94891037e-02,  4.57167141e-02, -3.75475064e-02,\n",
              "        -3.57397199e-02, -1.09089985e-02, -4.66506481e-02,\n",
              "         2.97522657e-02,  2.05973126e-02, -4.10788432e-02,\n",
              "         1.81860812e-02, -4.50196043e-02,  8.99121910e-03,\n",
              "         2.86843292e-02, -2.59926319e-02,  4.21019457e-02,\n",
              "         3.30591686e-02,  2.96263956e-02,  2.03950740e-02,\n",
              "        -2.65477542e-02, -3.67015824e-02,  4.11630981e-02,\n",
              "        -1.85831562e-02,  4.54069301e-03, -1.54859312e-02,\n",
              "        -2.86127571e-02,  1.19985454e-02],\n",
              "       [-2.95493603e-02, -1.51909105e-02, -9.08499956e-03,\n",
              "        -1.78385265e-02, -1.49332508e-02, -3.39571014e-02,\n",
              "        -5.34514338e-03, -1.50744803e-02,  2.64903419e-02,\n",
              "         4.93329875e-02, -3.63667980e-02,  3.19570936e-02,\n",
              "        -3.33748758e-04, -1.83506981e-02, -3.47519889e-02,\n",
              "        -1.47450678e-02, -4.61924449e-02, -2.37488747e-02,\n",
              "        -7.84176588e-03, -4.36980389e-02,  4.69629653e-02,\n",
              "         2.00490095e-02,  1.08611472e-02,  2.30410807e-02,\n",
              "         1.66203119e-02,  3.61076333e-02, -2.06036214e-02,\n",
              "        -1.91496368e-02,  3.32780592e-02, -3.32603231e-02,\n",
              "         3.74124758e-02, -5.95127419e-03],\n",
              "       [-5.27875498e-03,  1.01093650e-02, -4.36730385e-02,\n",
              "        -7.16410950e-03,  1.38248131e-03,  2.18244828e-02,\n",
              "        -1.87375657e-02,  3.02408077e-02,  8.02578777e-03,\n",
              "        -2.10796725e-02,  1.39064677e-02,  3.92893441e-02,\n",
              "         4.74201702e-02,  8.99610668e-03,  4.02259342e-02,\n",
              "         3.37558500e-02,  2.76732184e-02,  3.81970890e-02,\n",
              "        -3.63503471e-02, -2.20106132e-02, -8.01571459e-03,\n",
              "         3.56064178e-02,  1.72685459e-03, -1.32539757e-02,\n",
              "         4.61282022e-02, -9.08287615e-03, -1.00473762e-02,\n",
              "        -2.63551231e-02, -3.38878408e-02,  1.41859055e-04,\n",
              "         1.00023262e-02, -1.73890218e-02],\n",
              "       [ 2.74413861e-02,  1.87922269e-04, -2.96209008e-03,\n",
              "        -1.84383281e-02,  4.75000404e-02,  2.56149434e-02,\n",
              "        -4.91788499e-02,  4.24974896e-02, -4.19733748e-02,\n",
              "         1.67878531e-02,  5.96922636e-03,  4.80413772e-02,\n",
              "         1.35081150e-02,  3.09666879e-02,  3.59956063e-02,\n",
              "        -4.37031388e-02,  1.54780857e-02, -4.35820818e-02,\n",
              "        -3.82146984e-03, -8.18215311e-04,  1.23645552e-02,\n",
              "        -1.02014653e-02, -2.61512399e-02, -1.65188313e-03,\n",
              "        -1.96353197e-02,  4.36978377e-02, -3.60003337e-02,\n",
              "        -1.95673946e-02,  4.98424284e-02, -2.99968608e-02,\n",
              "        -2.41304766e-02, -3.13589461e-02],\n",
              "       [ 2.68647410e-02, -2.47200727e-02, -4.82969284e-02,\n",
              "         1.86748542e-02, -4.16422486e-02,  4.37947363e-03,\n",
              "        -2.59747151e-02, -3.20212245e-02, -1.10900998e-02,\n",
              "        -7.23927096e-03,  1.35390796e-02,  4.50464524e-02,\n",
              "        -1.77155249e-02, -6.48294762e-03,  3.06614153e-02,\n",
              "        -3.49096060e-02,  1.46781690e-02, -3.23016420e-02,\n",
              "        -2.36441977e-02,  2.93849781e-03, -1.95662975e-02,\n",
              "         1.40124299e-02,  4.57326211e-02,  1.92535631e-02,\n",
              "        -3.02925110e-02, -6.14381954e-03,  4.99511883e-03,\n",
              "         2.89174654e-02,  2.57060193e-02,  2.18253843e-02,\n",
              "         4.71061505e-02, -4.94604185e-03],\n",
              "       [ 4.42198403e-02,  1.07645988e-04, -2.60708686e-02,\n",
              "        -4.59505096e-02,  3.00005414e-02,  3.67817022e-02,\n",
              "        -4.66628335e-02, -2.05642115e-02, -1.51672140e-02,\n",
              "         2.00477876e-02,  3.12880315e-02,  4.09571566e-02,\n",
              "        -2.99853086e-02,  4.63064760e-03,  1.23201124e-02,\n",
              "        -3.54441516e-02,  3.23821418e-02, -4.26470414e-02,\n",
              "        -1.54541023e-02,  3.45581286e-02,  4.54426929e-03,\n",
              "        -2.68725753e-02,  4.94265892e-02,  4.71627600e-02,\n",
              "         3.53177451e-02, -1.71605237e-02,  3.36546823e-03,\n",
              "         4.76266481e-02, -2.49941107e-02,  4.73932363e-02,\n",
              "        -3.30861658e-03, -3.42123732e-02]], dtype=float32)>"
            ]
          },
          "metadata": {},
          "execution_count": 32
        }
      ]
    },
    {
      "cell_type": "markdown",
      "source": [
        "## Analyze with Naive Bayes using TF-IDF:"
      ],
      "metadata": {
        "id": "zLSl6TnnVWTQ"
      }
    },
    {
      "cell_type": "code",
      "source": [
        "from sklearn.feature_extraction.text import TfidfVectorizer\n",
        "from sklearn.naive_bayes import MultinomialNB\n",
        "from sklearn.pipeline import Pipeline\n",
        "from sklearn.metrics import accuracy_score, classification_report"
      ],
      "metadata": {
        "id": "rQvF8mI-9Ei7"
      },
      "execution_count": 33,
      "outputs": []
    },
    {
      "cell_type": "code",
      "source": [
        "model_0 = Pipeline([\n",
        "                    ('tfidf', TfidfVectorizer()),\n",
        "                    ('clf', MultinomialNB())\n",
        "])\n",
        "\n",
        "model_0.fit(train_data,train_label)"
      ],
      "metadata": {
        "colab": {
          "base_uri": "https://localhost:8080/"
        },
        "id": "eujQFWfsVsPw",
        "outputId": "cf4d5adc-976c-407c-a502-85f4c7cfda88"
      },
      "execution_count": 34,
      "outputs": [
        {
          "output_type": "execute_result",
          "data": {
            "text/plain": [
              "Pipeline(steps=[('tfidf', TfidfVectorizer()), ('clf', MultinomialNB())])"
            ]
          },
          "metadata": {},
          "execution_count": 34
        }
      ]
    },
    {
      "cell_type": "code",
      "source": [
        "val_pred = model_0.predict(val_data)\n",
        "val_pred"
      ],
      "metadata": {
        "colab": {
          "base_uri": "https://localhost:8080/"
        },
        "id": "LDbu8EzFXBsa",
        "outputId": "dbeb3dab-aae1-4c2e-d7da-b122dc87c8ee"
      },
      "execution_count": 35,
      "outputs": [
        {
          "output_type": "execute_result",
          "data": {
            "text/plain": [
              "array([0, 0, 0, ..., 1, 0, 0])"
            ]
          },
          "metadata": {},
          "execution_count": 35
        }
      ]
    },
    {
      "cell_type": "code",
      "source": [
        "val_label"
      ],
      "metadata": {
        "colab": {
          "base_uri": "https://localhost:8080/"
        },
        "id": "36pZya2qXXm1",
        "outputId": "b21b5157-e58d-46a2-87cb-18070ddb9fe4"
      },
      "execution_count": 36,
      "outputs": [
        {
          "output_type": "execute_result",
          "data": {
            "text/plain": [
              "array([1, 0, 1, ..., 1, 0, 0])"
            ]
          },
          "metadata": {},
          "execution_count": 36
        }
      ]
    },
    {
      "cell_type": "code",
      "source": [
        "accuracy_score(val_label, val_pred)"
      ],
      "metadata": {
        "colab": {
          "base_uri": "https://localhost:8080/"
        },
        "id": "DIcwlAlyXaCW",
        "outputId": "86e9c116-bf84-4847-c49d-f2476dbad6a1"
      },
      "execution_count": 37,
      "outputs": [
        {
          "output_type": "execute_result",
          "data": {
            "text/plain": [
              "0.7863397548161121"
            ]
          },
          "metadata": {},
          "execution_count": 37
        }
      ]
    },
    {
      "cell_type": "code",
      "source": [
        "print(classification_report(val_label, val_pred))"
      ],
      "metadata": {
        "colab": {
          "base_uri": "https://localhost:8080/"
        },
        "id": "qA58DXXQXlx6",
        "outputId": "c6bc3fdb-56cd-411d-f5af-42708a84bc32"
      },
      "execution_count": 38,
      "outputs": [
        {
          "output_type": "stream",
          "name": "stdout",
          "text": [
            "              precision    recall  f1-score   support\n",
            "\n",
            "           0       0.76      0.92      0.83       651\n",
            "           1       0.85      0.61      0.71       491\n",
            "\n",
            "    accuracy                           0.79      1142\n",
            "   macro avg       0.80      0.76      0.77      1142\n",
            "weighted avg       0.80      0.79      0.78      1142\n",
            "\n"
          ]
        }
      ]
    },
    {
      "cell_type": "markdown",
      "source": [
        "## Analyze with Vanilla Neural Network:"
      ],
      "metadata": {
        "id": "aKLoyZ2-73qI"
      }
    },
    {
      "cell_type": "code",
      "source": [
        "from helper_functions import create_tensorboard_callback\n",
        "model_1 = create_tensorboard_callback('')"
      ],
      "metadata": {
        "id": "y9P2vMYU9ySx"
      },
      "execution_count": null,
      "outputs": []
    },
    {
      "cell_type": "code",
      "source": [
        " model_1 = tf.keras.Sequential([\n",
        "                      tf.keras.layers.Dense(64,input_shape=(32), activation='relu'),\n",
        "                      tf.keras.layers.Dense(128, activation='relu'),\n",
        "                      tf.keras.layers.Dense(32, activation='relu'),\n",
        "                      tf.keras.layers.Dense(1, activation='sigmoid')\n",
        " ])\n",
        "\n",
        " model_1.compile(loss = tf.keras.losses.BinaryCrossentropy(),\n",
        "                 optimizer = tf.keras.optimizers.Adam(),\n",
        "                 metrics= ['accuracy'])\n",
        " \n",
        " model_1.build()\n",
        " model_1.summary()"
      ],
      "metadata": {
        "id": "2SeRFBI7YYDW"
      },
      "execution_count": 39,
      "outputs": []
    }
  ]
}