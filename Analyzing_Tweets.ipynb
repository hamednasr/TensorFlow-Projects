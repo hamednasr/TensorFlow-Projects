{
  "nbformat": 4,
  "nbformat_minor": 0,
  "metadata": {
    "colab": {
      "provenance": [],
      "collapsed_sections": [],
      "authorship_tag": "ABX9TyMJVoiNlIj5JwaDJ4y5P7Tk",
      "include_colab_link": true
    },
    "kernelspec": {
      "name": "python3",
      "display_name": "Python 3"
    },
    "language_info": {
      "name": "python"
    },
    "accelerator": "GPU",
    "gpuClass": "standard"
  },
  "cells": [
    {
      "cell_type": "markdown",
      "metadata": {
        "id": "view-in-github",
        "colab_type": "text"
      },
      "source": [
        "<a href=\"https://colab.research.google.com/github/hamednasr/TensorFlow-Projects/blob/main/Analyzing_Tweets.ipynb\" target=\"_parent\"><img src=\"https://colab.research.google.com/assets/colab-badge.svg\" alt=\"Open In Colab\"/></a>"
      ]
    },
    {
      "cell_type": "markdown",
      "source": [
        "# Predicting Tweet`s Overal Message:\n",
        "## This is a kaggle competition.\n",
        "https://www.kaggle.com/competitions/nlp-getting-started/data"
      ],
      "metadata": {
        "id": "ol97k-HW8Wg2"
      }
    },
    {
      "cell_type": "code",
      "execution_count": 2,
      "metadata": {
        "id": "yM5I8_f83-kJ"
      },
      "outputs": [],
      "source": [
        "import tensorflow as tf\n",
        "import tensorflow_hub as hub\n",
        "import numpy as np\n",
        "import pandas as pd\n",
        "import random\n",
        "from sklearn.model_selection import train_test_split"
      ]
    },
    {
      "cell_type": "code",
      "source": [
        "!wget https://raw.githubusercontent.com/mrdbourke/tensorflow-deep-learning/main/extras/helper_functions.py"
      ],
      "metadata": {
        "colab": {
          "base_uri": "https://localhost:8080/"
        },
        "id": "cOynL78r7eSi",
        "outputId": "c8a8914d-84b1-43ef-ccfa-0b64956a48ec"
      },
      "execution_count": 3,
      "outputs": [
        {
          "output_type": "stream",
          "name": "stdout",
          "text": [
            "--2022-09-01 07:13:36--  https://raw.githubusercontent.com/mrdbourke/tensorflow-deep-learning/main/extras/helper_functions.py\n",
            "Resolving raw.githubusercontent.com (raw.githubusercontent.com)... 185.199.108.133, 185.199.109.133, 185.199.110.133, ...\n",
            "Connecting to raw.githubusercontent.com (raw.githubusercontent.com)|185.199.108.133|:443... connected.\n",
            "HTTP request sent, awaiting response... 200 OK\n",
            "Length: 10246 (10K) [text/plain]\n",
            "Saving to: ‘helper_functions.py’\n",
            "\n",
            "\rhelper_functions.py   0%[                    ]       0  --.-KB/s               \rhelper_functions.py 100%[===================>]  10.01K  --.-KB/s    in 0s      \n",
            "\n",
            "2022-09-01 07:13:37 (117 MB/s) - ‘helper_functions.py’ saved [10246/10246]\n",
            "\n"
          ]
        }
      ]
    },
    {
      "cell_type": "code",
      "source": [
        "from helper_functions import unzip_data, create_tensorboard_callback, plot_loss_curves, compare_historys"
      ],
      "metadata": {
        "id": "H9qihhzF7eM-"
      },
      "execution_count": 42,
      "outputs": []
    },
    {
      "cell_type": "code",
      "source": [
        "!wget https://storage.googleapis.com/ztm_tf_course/nlp_getting_started.zip"
      ],
      "metadata": {
        "colab": {
          "base_uri": "https://localhost:8080/"
        },
        "id": "4HQKwtV77N6J",
        "outputId": "c5cbdd5b-58a7-465a-a79b-2a1fd87b74ee"
      },
      "execution_count": 5,
      "outputs": [
        {
          "output_type": "stream",
          "name": "stdout",
          "text": [
            "--2022-09-01 07:13:37--  https://storage.googleapis.com/ztm_tf_course/nlp_getting_started.zip\n",
            "Resolving storage.googleapis.com (storage.googleapis.com)... 142.251.16.128, 142.251.163.128, 142.250.188.48, ...\n",
            "Connecting to storage.googleapis.com (storage.googleapis.com)|142.251.16.128|:443... connected.\n",
            "HTTP request sent, awaiting response... 200 OK\n",
            "Length: 607343 (593K) [application/zip]\n",
            "Saving to: ‘nlp_getting_started.zip’\n",
            "\n",
            "\rnlp_getting_started   0%[                    ]       0  --.-KB/s               \rnlp_getting_started 100%[===================>] 593.11K  --.-KB/s    in 0.004s  \n",
            "\n",
            "2022-09-01 07:13:37 (161 MB/s) - ‘nlp_getting_started.zip’ saved [607343/607343]\n",
            "\n"
          ]
        }
      ]
    },
    {
      "cell_type": "code",
      "source": [
        "unzip_data('/content/nlp_getting_started.zip')"
      ],
      "metadata": {
        "id": "HEJN23LU7dME"
      },
      "execution_count": 6,
      "outputs": []
    },
    {
      "cell_type": "markdown",
      "source": [
        "## Data Exploration:"
      ],
      "metadata": {
        "id": "g2vkVn6LKQNz"
      }
    },
    {
      "cell_type": "code",
      "source": [
        "train_df = pd.read_csv('train.csv')\n",
        "train_df"
      ],
      "metadata": {
        "colab": {
          "base_uri": "https://localhost:8080/",
          "height": 424
        },
        "id": "nED_2Sbp73WI",
        "outputId": "19b09ae8-a4a7-4302-f3e2-bd6e629c04c1"
      },
      "execution_count": 7,
      "outputs": [
        {
          "output_type": "execute_result",
          "data": {
            "text/plain": [
              "         id keyword location  \\\n",
              "0         1     NaN      NaN   \n",
              "1         4     NaN      NaN   \n",
              "2         5     NaN      NaN   \n",
              "3         6     NaN      NaN   \n",
              "4         7     NaN      NaN   \n",
              "...     ...     ...      ...   \n",
              "7608  10869     NaN      NaN   \n",
              "7609  10870     NaN      NaN   \n",
              "7610  10871     NaN      NaN   \n",
              "7611  10872     NaN      NaN   \n",
              "7612  10873     NaN      NaN   \n",
              "\n",
              "                                                   text  target  \n",
              "0     Our Deeds are the Reason of this #earthquake M...       1  \n",
              "1                Forest fire near La Ronge Sask. Canada       1  \n",
              "2     All residents asked to 'shelter in place' are ...       1  \n",
              "3     13,000 people receive #wildfires evacuation or...       1  \n",
              "4     Just got sent this photo from Ruby #Alaska as ...       1  \n",
              "...                                                 ...     ...  \n",
              "7608  Two giant cranes holding a bridge collapse int...       1  \n",
              "7609  @aria_ahrary @TheTawniest The out of control w...       1  \n",
              "7610  M1.94 [01:04 UTC]?5km S of Volcano Hawaii. htt...       1  \n",
              "7611  Police investigating after an e-bike collided ...       1  \n",
              "7612  The Latest: More Homes Razed by Northern Calif...       1  \n",
              "\n",
              "[7613 rows x 5 columns]"
            ],
            "text/html": [
              "\n",
              "  <div id=\"df-aaa38311-46fa-4cb3-b473-309093da25c6\">\n",
              "    <div class=\"colab-df-container\">\n",
              "      <div>\n",
              "<style scoped>\n",
              "    .dataframe tbody tr th:only-of-type {\n",
              "        vertical-align: middle;\n",
              "    }\n",
              "\n",
              "    .dataframe tbody tr th {\n",
              "        vertical-align: top;\n",
              "    }\n",
              "\n",
              "    .dataframe thead th {\n",
              "        text-align: right;\n",
              "    }\n",
              "</style>\n",
              "<table border=\"1\" class=\"dataframe\">\n",
              "  <thead>\n",
              "    <tr style=\"text-align: right;\">\n",
              "      <th></th>\n",
              "      <th>id</th>\n",
              "      <th>keyword</th>\n",
              "      <th>location</th>\n",
              "      <th>text</th>\n",
              "      <th>target</th>\n",
              "    </tr>\n",
              "  </thead>\n",
              "  <tbody>\n",
              "    <tr>\n",
              "      <th>0</th>\n",
              "      <td>1</td>\n",
              "      <td>NaN</td>\n",
              "      <td>NaN</td>\n",
              "      <td>Our Deeds are the Reason of this #earthquake M...</td>\n",
              "      <td>1</td>\n",
              "    </tr>\n",
              "    <tr>\n",
              "      <th>1</th>\n",
              "      <td>4</td>\n",
              "      <td>NaN</td>\n",
              "      <td>NaN</td>\n",
              "      <td>Forest fire near La Ronge Sask. Canada</td>\n",
              "      <td>1</td>\n",
              "    </tr>\n",
              "    <tr>\n",
              "      <th>2</th>\n",
              "      <td>5</td>\n",
              "      <td>NaN</td>\n",
              "      <td>NaN</td>\n",
              "      <td>All residents asked to 'shelter in place' are ...</td>\n",
              "      <td>1</td>\n",
              "    </tr>\n",
              "    <tr>\n",
              "      <th>3</th>\n",
              "      <td>6</td>\n",
              "      <td>NaN</td>\n",
              "      <td>NaN</td>\n",
              "      <td>13,000 people receive #wildfires evacuation or...</td>\n",
              "      <td>1</td>\n",
              "    </tr>\n",
              "    <tr>\n",
              "      <th>4</th>\n",
              "      <td>7</td>\n",
              "      <td>NaN</td>\n",
              "      <td>NaN</td>\n",
              "      <td>Just got sent this photo from Ruby #Alaska as ...</td>\n",
              "      <td>1</td>\n",
              "    </tr>\n",
              "    <tr>\n",
              "      <th>...</th>\n",
              "      <td>...</td>\n",
              "      <td>...</td>\n",
              "      <td>...</td>\n",
              "      <td>...</td>\n",
              "      <td>...</td>\n",
              "    </tr>\n",
              "    <tr>\n",
              "      <th>7608</th>\n",
              "      <td>10869</td>\n",
              "      <td>NaN</td>\n",
              "      <td>NaN</td>\n",
              "      <td>Two giant cranes holding a bridge collapse int...</td>\n",
              "      <td>1</td>\n",
              "    </tr>\n",
              "    <tr>\n",
              "      <th>7609</th>\n",
              "      <td>10870</td>\n",
              "      <td>NaN</td>\n",
              "      <td>NaN</td>\n",
              "      <td>@aria_ahrary @TheTawniest The out of control w...</td>\n",
              "      <td>1</td>\n",
              "    </tr>\n",
              "    <tr>\n",
              "      <th>7610</th>\n",
              "      <td>10871</td>\n",
              "      <td>NaN</td>\n",
              "      <td>NaN</td>\n",
              "      <td>M1.94 [01:04 UTC]?5km S of Volcano Hawaii. htt...</td>\n",
              "      <td>1</td>\n",
              "    </tr>\n",
              "    <tr>\n",
              "      <th>7611</th>\n",
              "      <td>10872</td>\n",
              "      <td>NaN</td>\n",
              "      <td>NaN</td>\n",
              "      <td>Police investigating after an e-bike collided ...</td>\n",
              "      <td>1</td>\n",
              "    </tr>\n",
              "    <tr>\n",
              "      <th>7612</th>\n",
              "      <td>10873</td>\n",
              "      <td>NaN</td>\n",
              "      <td>NaN</td>\n",
              "      <td>The Latest: More Homes Razed by Northern Calif...</td>\n",
              "      <td>1</td>\n",
              "    </tr>\n",
              "  </tbody>\n",
              "</table>\n",
              "<p>7613 rows × 5 columns</p>\n",
              "</div>\n",
              "      <button class=\"colab-df-convert\" onclick=\"convertToInteractive('df-aaa38311-46fa-4cb3-b473-309093da25c6')\"\n",
              "              title=\"Convert this dataframe to an interactive table.\"\n",
              "              style=\"display:none;\">\n",
              "        \n",
              "  <svg xmlns=\"http://www.w3.org/2000/svg\" height=\"24px\"viewBox=\"0 0 24 24\"\n",
              "       width=\"24px\">\n",
              "    <path d=\"M0 0h24v24H0V0z\" fill=\"none\"/>\n",
              "    <path d=\"M18.56 5.44l.94 2.06.94-2.06 2.06-.94-2.06-.94-.94-2.06-.94 2.06-2.06.94zm-11 1L8.5 8.5l.94-2.06 2.06-.94-2.06-.94L8.5 2.5l-.94 2.06-2.06.94zm10 10l.94 2.06.94-2.06 2.06-.94-2.06-.94-.94-2.06-.94 2.06-2.06.94z\"/><path d=\"M17.41 7.96l-1.37-1.37c-.4-.4-.92-.59-1.43-.59-.52 0-1.04.2-1.43.59L10.3 9.45l-7.72 7.72c-.78.78-.78 2.05 0 2.83L4 21.41c.39.39.9.59 1.41.59.51 0 1.02-.2 1.41-.59l7.78-7.78 2.81-2.81c.8-.78.8-2.07 0-2.86zM5.41 20L4 18.59l7.72-7.72 1.47 1.35L5.41 20z\"/>\n",
              "  </svg>\n",
              "      </button>\n",
              "      \n",
              "  <style>\n",
              "    .colab-df-container {\n",
              "      display:flex;\n",
              "      flex-wrap:wrap;\n",
              "      gap: 12px;\n",
              "    }\n",
              "\n",
              "    .colab-df-convert {\n",
              "      background-color: #E8F0FE;\n",
              "      border: none;\n",
              "      border-radius: 50%;\n",
              "      cursor: pointer;\n",
              "      display: none;\n",
              "      fill: #1967D2;\n",
              "      height: 32px;\n",
              "      padding: 0 0 0 0;\n",
              "      width: 32px;\n",
              "    }\n",
              "\n",
              "    .colab-df-convert:hover {\n",
              "      background-color: #E2EBFA;\n",
              "      box-shadow: 0px 1px 2px rgba(60, 64, 67, 0.3), 0px 1px 3px 1px rgba(60, 64, 67, 0.15);\n",
              "      fill: #174EA6;\n",
              "    }\n",
              "\n",
              "    [theme=dark] .colab-df-convert {\n",
              "      background-color: #3B4455;\n",
              "      fill: #D2E3FC;\n",
              "    }\n",
              "\n",
              "    [theme=dark] .colab-df-convert:hover {\n",
              "      background-color: #434B5C;\n",
              "      box-shadow: 0px 1px 3px 1px rgba(0, 0, 0, 0.15);\n",
              "      filter: drop-shadow(0px 1px 2px rgba(0, 0, 0, 0.3));\n",
              "      fill: #FFFFFF;\n",
              "    }\n",
              "  </style>\n",
              "\n",
              "      <script>\n",
              "        const buttonEl =\n",
              "          document.querySelector('#df-aaa38311-46fa-4cb3-b473-309093da25c6 button.colab-df-convert');\n",
              "        buttonEl.style.display =\n",
              "          google.colab.kernel.accessAllowed ? 'block' : 'none';\n",
              "\n",
              "        async function convertToInteractive(key) {\n",
              "          const element = document.querySelector('#df-aaa38311-46fa-4cb3-b473-309093da25c6');\n",
              "          const dataTable =\n",
              "            await google.colab.kernel.invokeFunction('convertToInteractive',\n",
              "                                                     [key], {});\n",
              "          if (!dataTable) return;\n",
              "\n",
              "          const docLinkHtml = 'Like what you see? Visit the ' +\n",
              "            '<a target=\"_blank\" href=https://colab.research.google.com/notebooks/data_table.ipynb>data table notebook</a>'\n",
              "            + ' to learn more about interactive tables.';\n",
              "          element.innerHTML = '';\n",
              "          dataTable['output_type'] = 'display_data';\n",
              "          await google.colab.output.renderOutput(dataTable, element);\n",
              "          const docLink = document.createElement('div');\n",
              "          docLink.innerHTML = docLinkHtml;\n",
              "          element.appendChild(docLink);\n",
              "        }\n",
              "      </script>\n",
              "    </div>\n",
              "  </div>\n",
              "  "
            ]
          },
          "metadata": {},
          "execution_count": 7
        }
      ]
    },
    {
      "cell_type": "code",
      "source": [
        "train_df['target'].value_counts()"
      ],
      "metadata": {
        "colab": {
          "base_uri": "https://localhost:8080/"
        },
        "id": "2d3N-WWWEbeE",
        "outputId": "6f5ba998-a1f5-43f8-8126-8e5a404a70e8"
      },
      "execution_count": 8,
      "outputs": [
        {
          "output_type": "execute_result",
          "data": {
            "text/plain": [
              "0    4342\n",
              "1    3271\n",
              "Name: target, dtype: int64"
            ]
          },
          "metadata": {},
          "execution_count": 8
        }
      ]
    },
    {
      "cell_type": "code",
      "source": [
        "test_df = pd.read_csv('test.csv')\n",
        "test_df"
      ],
      "metadata": {
        "colab": {
          "base_uri": "https://localhost:8080/",
          "height": 424
        },
        "id": "T4KQ8uEEER2T",
        "outputId": "c1a040bc-1e78-477d-98b2-a56d542d3b7a"
      },
      "execution_count": 9,
      "outputs": [
        {
          "output_type": "execute_result",
          "data": {
            "text/plain": [
              "         id keyword location  \\\n",
              "0         0     NaN      NaN   \n",
              "1         2     NaN      NaN   \n",
              "2         3     NaN      NaN   \n",
              "3         9     NaN      NaN   \n",
              "4        11     NaN      NaN   \n",
              "...     ...     ...      ...   \n",
              "3258  10861     NaN      NaN   \n",
              "3259  10865     NaN      NaN   \n",
              "3260  10868     NaN      NaN   \n",
              "3261  10874     NaN      NaN   \n",
              "3262  10875     NaN      NaN   \n",
              "\n",
              "                                                   text  \n",
              "0                    Just happened a terrible car crash  \n",
              "1     Heard about #earthquake is different cities, s...  \n",
              "2     there is a forest fire at spot pond, geese are...  \n",
              "3              Apocalypse lighting. #Spokane #wildfires  \n",
              "4         Typhoon Soudelor kills 28 in China and Taiwan  \n",
              "...                                                 ...  \n",
              "3258  EARTHQUAKE SAFETY LOS ANGELES ÛÒ SAFETY FASTE...  \n",
              "3259  Storm in RI worse than last hurricane. My city...  \n",
              "3260  Green Line derailment in Chicago http://t.co/U...  \n",
              "3261  MEG issues Hazardous Weather Outlook (HWO) htt...  \n",
              "3262  #CityofCalgary has activated its Municipal Eme...  \n",
              "\n",
              "[3263 rows x 4 columns]"
            ],
            "text/html": [
              "\n",
              "  <div id=\"df-fef0bbdc-d7ba-46ad-ad30-2c3c7d3b7c0f\">\n",
              "    <div class=\"colab-df-container\">\n",
              "      <div>\n",
              "<style scoped>\n",
              "    .dataframe tbody tr th:only-of-type {\n",
              "        vertical-align: middle;\n",
              "    }\n",
              "\n",
              "    .dataframe tbody tr th {\n",
              "        vertical-align: top;\n",
              "    }\n",
              "\n",
              "    .dataframe thead th {\n",
              "        text-align: right;\n",
              "    }\n",
              "</style>\n",
              "<table border=\"1\" class=\"dataframe\">\n",
              "  <thead>\n",
              "    <tr style=\"text-align: right;\">\n",
              "      <th></th>\n",
              "      <th>id</th>\n",
              "      <th>keyword</th>\n",
              "      <th>location</th>\n",
              "      <th>text</th>\n",
              "    </tr>\n",
              "  </thead>\n",
              "  <tbody>\n",
              "    <tr>\n",
              "      <th>0</th>\n",
              "      <td>0</td>\n",
              "      <td>NaN</td>\n",
              "      <td>NaN</td>\n",
              "      <td>Just happened a terrible car crash</td>\n",
              "    </tr>\n",
              "    <tr>\n",
              "      <th>1</th>\n",
              "      <td>2</td>\n",
              "      <td>NaN</td>\n",
              "      <td>NaN</td>\n",
              "      <td>Heard about #earthquake is different cities, s...</td>\n",
              "    </tr>\n",
              "    <tr>\n",
              "      <th>2</th>\n",
              "      <td>3</td>\n",
              "      <td>NaN</td>\n",
              "      <td>NaN</td>\n",
              "      <td>there is a forest fire at spot pond, geese are...</td>\n",
              "    </tr>\n",
              "    <tr>\n",
              "      <th>3</th>\n",
              "      <td>9</td>\n",
              "      <td>NaN</td>\n",
              "      <td>NaN</td>\n",
              "      <td>Apocalypse lighting. #Spokane #wildfires</td>\n",
              "    </tr>\n",
              "    <tr>\n",
              "      <th>4</th>\n",
              "      <td>11</td>\n",
              "      <td>NaN</td>\n",
              "      <td>NaN</td>\n",
              "      <td>Typhoon Soudelor kills 28 in China and Taiwan</td>\n",
              "    </tr>\n",
              "    <tr>\n",
              "      <th>...</th>\n",
              "      <td>...</td>\n",
              "      <td>...</td>\n",
              "      <td>...</td>\n",
              "      <td>...</td>\n",
              "    </tr>\n",
              "    <tr>\n",
              "      <th>3258</th>\n",
              "      <td>10861</td>\n",
              "      <td>NaN</td>\n",
              "      <td>NaN</td>\n",
              "      <td>EARTHQUAKE SAFETY LOS ANGELES ÛÒ SAFETY FASTE...</td>\n",
              "    </tr>\n",
              "    <tr>\n",
              "      <th>3259</th>\n",
              "      <td>10865</td>\n",
              "      <td>NaN</td>\n",
              "      <td>NaN</td>\n",
              "      <td>Storm in RI worse than last hurricane. My city...</td>\n",
              "    </tr>\n",
              "    <tr>\n",
              "      <th>3260</th>\n",
              "      <td>10868</td>\n",
              "      <td>NaN</td>\n",
              "      <td>NaN</td>\n",
              "      <td>Green Line derailment in Chicago http://t.co/U...</td>\n",
              "    </tr>\n",
              "    <tr>\n",
              "      <th>3261</th>\n",
              "      <td>10874</td>\n",
              "      <td>NaN</td>\n",
              "      <td>NaN</td>\n",
              "      <td>MEG issues Hazardous Weather Outlook (HWO) htt...</td>\n",
              "    </tr>\n",
              "    <tr>\n",
              "      <th>3262</th>\n",
              "      <td>10875</td>\n",
              "      <td>NaN</td>\n",
              "      <td>NaN</td>\n",
              "      <td>#CityofCalgary has activated its Municipal Eme...</td>\n",
              "    </tr>\n",
              "  </tbody>\n",
              "</table>\n",
              "<p>3263 rows × 4 columns</p>\n",
              "</div>\n",
              "      <button class=\"colab-df-convert\" onclick=\"convertToInteractive('df-fef0bbdc-d7ba-46ad-ad30-2c3c7d3b7c0f')\"\n",
              "              title=\"Convert this dataframe to an interactive table.\"\n",
              "              style=\"display:none;\">\n",
              "        \n",
              "  <svg xmlns=\"http://www.w3.org/2000/svg\" height=\"24px\"viewBox=\"0 0 24 24\"\n",
              "       width=\"24px\">\n",
              "    <path d=\"M0 0h24v24H0V0z\" fill=\"none\"/>\n",
              "    <path d=\"M18.56 5.44l.94 2.06.94-2.06 2.06-.94-2.06-.94-.94-2.06-.94 2.06-2.06.94zm-11 1L8.5 8.5l.94-2.06 2.06-.94-2.06-.94L8.5 2.5l-.94 2.06-2.06.94zm10 10l.94 2.06.94-2.06 2.06-.94-2.06-.94-.94-2.06-.94 2.06-2.06.94z\"/><path d=\"M17.41 7.96l-1.37-1.37c-.4-.4-.92-.59-1.43-.59-.52 0-1.04.2-1.43.59L10.3 9.45l-7.72 7.72c-.78.78-.78 2.05 0 2.83L4 21.41c.39.39.9.59 1.41.59.51 0 1.02-.2 1.41-.59l7.78-7.78 2.81-2.81c.8-.78.8-2.07 0-2.86zM5.41 20L4 18.59l7.72-7.72 1.47 1.35L5.41 20z\"/>\n",
              "  </svg>\n",
              "      </button>\n",
              "      \n",
              "  <style>\n",
              "    .colab-df-container {\n",
              "      display:flex;\n",
              "      flex-wrap:wrap;\n",
              "      gap: 12px;\n",
              "    }\n",
              "\n",
              "    .colab-df-convert {\n",
              "      background-color: #E8F0FE;\n",
              "      border: none;\n",
              "      border-radius: 50%;\n",
              "      cursor: pointer;\n",
              "      display: none;\n",
              "      fill: #1967D2;\n",
              "      height: 32px;\n",
              "      padding: 0 0 0 0;\n",
              "      width: 32px;\n",
              "    }\n",
              "\n",
              "    .colab-df-convert:hover {\n",
              "      background-color: #E2EBFA;\n",
              "      box-shadow: 0px 1px 2px rgba(60, 64, 67, 0.3), 0px 1px 3px 1px rgba(60, 64, 67, 0.15);\n",
              "      fill: #174EA6;\n",
              "    }\n",
              "\n",
              "    [theme=dark] .colab-df-convert {\n",
              "      background-color: #3B4455;\n",
              "      fill: #D2E3FC;\n",
              "    }\n",
              "\n",
              "    [theme=dark] .colab-df-convert:hover {\n",
              "      background-color: #434B5C;\n",
              "      box-shadow: 0px 1px 3px 1px rgba(0, 0, 0, 0.15);\n",
              "      filter: drop-shadow(0px 1px 2px rgba(0, 0, 0, 0.3));\n",
              "      fill: #FFFFFF;\n",
              "    }\n",
              "  </style>\n",
              "\n",
              "      <script>\n",
              "        const buttonEl =\n",
              "          document.querySelector('#df-fef0bbdc-d7ba-46ad-ad30-2c3c7d3b7c0f button.colab-df-convert');\n",
              "        buttonEl.style.display =\n",
              "          google.colab.kernel.accessAllowed ? 'block' : 'none';\n",
              "\n",
              "        async function convertToInteractive(key) {\n",
              "          const element = document.querySelector('#df-fef0bbdc-d7ba-46ad-ad30-2c3c7d3b7c0f');\n",
              "          const dataTable =\n",
              "            await google.colab.kernel.invokeFunction('convertToInteractive',\n",
              "                                                     [key], {});\n",
              "          if (!dataTable) return;\n",
              "\n",
              "          const docLinkHtml = 'Like what you see? Visit the ' +\n",
              "            '<a target=\"_blank\" href=https://colab.research.google.com/notebooks/data_table.ipynb>data table notebook</a>'\n",
              "            + ' to learn more about interactive tables.';\n",
              "          element.innerHTML = '';\n",
              "          dataTable['output_type'] = 'display_data';\n",
              "          await google.colab.output.renderOutput(dataTable, element);\n",
              "          const docLink = document.createElement('div');\n",
              "          docLink.innerHTML = docLinkHtml;\n",
              "          element.appendChild(docLink);\n",
              "        }\n",
              "      </script>\n",
              "    </div>\n",
              "  </div>\n",
              "  "
            ]
          },
          "metadata": {},
          "execution_count": 9
        }
      ]
    },
    {
      "cell_type": "code",
      "source": [
        "random_data = train_df.sample(frac=0.0006)\n",
        "for i in range(len(random_data)):\n",
        "  print(f'tweet number {i+1} :')\n",
        "  if random_data.iloc[i, 4]==1:\n",
        "    target = 'a Disaster'\n",
        "  else:\n",
        "    target = 'NOT Disaster'\n",
        "  print(f'{random_data.iloc[i, 3]} : This is {target} tweet')\n",
        "  print('------------------------------------\\n')\n"
      ],
      "metadata": {
        "colab": {
          "base_uri": "https://localhost:8080/"
        },
        "id": "E4uHcGoQEYVB",
        "outputId": "e4ae3846-b460-46fc-fba9-f7946e8a9cb8"
      },
      "execution_count": 10,
      "outputs": [
        {
          "output_type": "stream",
          "name": "stdout",
          "text": [
            "tweet number 1 :\n",
            "#SCSeEstaPreparando Light mag. 4.4 earthquake  - - 73km SW of Khuzdar Pakistan on Wednes... http://t.co/i6lmcccLv5 via @volcanodiscover : This is a Disaster tweet\n",
            "------------------------------------\n",
            "\n",
            "tweet number 2 :\n",
            "95-03 BMW 528 530 540 740 Emergency Warning Hazard Switch Button OEM 20177-707D http://t.co/kVNahTHUWZ http://t.co/Y8xkNpqMnJ : This is NOT Disaster tweet\n",
            "------------------------------------\n",
            "\n",
            "tweet number 3 :\n",
            "@kinkyconnors IM sorry for my meltdown last night lmao but I'm getting my tooth fixed Friday ?????????????????????????????????? : This is NOT Disaster tweet\n",
            "------------------------------------\n",
            "\n",
            "tweet number 4 :\n",
            "You Bitches Walking Around Like Yall Hot Shit &amp; Got Bed Bugs &amp; You Burning ???? : This is NOT Disaster tweet\n",
            "------------------------------------\n",
            "\n",
            "tweet number 5 :\n",
            "Excited not only about the next 6 years of school and ensuing student debt but also catastrophic climate change in my lifetime   \n",
            "\n",
            ":D ?? : This is NOT Disaster tweet\n",
            "------------------------------------\n",
            "\n"
          ]
        }
      ]
    },
    {
      "cell_type": "markdown",
      "source": [
        "## Extract validation data from train data:"
      ],
      "metadata": {
        "id": "RiGYjpD3LOB8"
      }
    },
    {
      "cell_type": "code",
      "source": [
        "train_df['text'].to_numpy()"
      ],
      "metadata": {
        "colab": {
          "base_uri": "https://localhost:8080/"
        },
        "id": "TDEGSE5qMzH4",
        "outputId": "3361903e-5a68-46f0-a10b-adbd9d9d3b1f"
      },
      "execution_count": 11,
      "outputs": [
        {
          "output_type": "execute_result",
          "data": {
            "text/plain": [
              "array(['Our Deeds are the Reason of this #earthquake May ALLAH Forgive us all',\n",
              "       'Forest fire near La Ronge Sask. Canada',\n",
              "       \"All residents asked to 'shelter in place' are being notified by officers. No other evacuation or shelter in place orders are expected\",\n",
              "       ...,\n",
              "       'M1.94 [01:04 UTC]?5km S of Volcano Hawaii. http://t.co/zDtoyd8EbJ',\n",
              "       'Police investigating after an e-bike collided with a car in Little Portugal. E-bike rider suffered serious non-life threatening injuries.',\n",
              "       'The Latest: More Homes Razed by Northern California Wildfire - ABC News http://t.co/YmY4rSkQ3d'],\n",
              "      dtype=object)"
            ]
          },
          "metadata": {},
          "execution_count": 11
        }
      ]
    },
    {
      "cell_type": "code",
      "source": [
        "train_df['target'].to_numpy()"
      ],
      "metadata": {
        "colab": {
          "base_uri": "https://localhost:8080/"
        },
        "id": "9E9Bh7DONeeh",
        "outputId": "fca412f7-56a3-4869-9174-c728ed239c2c"
      },
      "execution_count": 12,
      "outputs": [
        {
          "output_type": "execute_result",
          "data": {
            "text/plain": [
              "array([1, 1, 1, ..., 1, 1, 1])"
            ]
          },
          "metadata": {},
          "execution_count": 12
        }
      ]
    },
    {
      "cell_type": "code",
      "source": [
        "train_data, val_data, train_label, val_label = train_test_split(train_df['text'].to_numpy(), train_df['target'].to_numpy(), \n",
        "                                                                test_size=0.1, \n",
        "                                                                random_state=42)"
      ],
      "metadata": {
        "id": "ihBhXs9YG2FG"
      },
      "execution_count": 13,
      "outputs": []
    },
    {
      "cell_type": "markdown",
      "source": [
        "### extractin 10 percent of data from traid data and train lables:"
      ],
      "metadata": {
        "id": "kV8u6zv0t9yR"
      }
    },
    {
      "cell_type": "code",
      "source": [
        "random_num = np.random.choice(len(train_data),size=761,replace=False)"
      ],
      "metadata": {
        "id": "BySd5It5pxAF"
      },
      "execution_count": 14,
      "outputs": []
    },
    {
      "cell_type": "code",
      "source": [
        "train_label_10_percent = train_label[random_num]"
      ],
      "metadata": {
        "id": "iPFVEG0tsT9H"
      },
      "execution_count": 15,
      "outputs": []
    },
    {
      "cell_type": "code",
      "source": [
        "train_data_10_percent = train_data[random_num]"
      ],
      "metadata": {
        "id": "5XfJkpptrWUd"
      },
      "execution_count": 16,
      "outputs": []
    },
    {
      "cell_type": "code",
      "source": [
        "val_data[:10], val_label[:10]"
      ],
      "metadata": {
        "colab": {
          "base_uri": "https://localhost:8080/"
        },
        "id": "UT_cUffWNkdm",
        "outputId": "8f9cceed-8f33-41d3-843e-0bce23cd94cb"
      },
      "execution_count": 17,
      "outputs": [
        {
          "output_type": "execute_result",
          "data": {
            "text/plain": [
              "(array(['So you have a new weapon that can cause un-imaginable destruction.',\n",
              "        'The f$&amp;@ing things I do for #GISHWHES Just got soaked in a deluge going for pads and tampons. Thx @mishacollins @/@',\n",
              "        'DT @georgegalloway: RT @Galloway4Mayor: \\x89ÛÏThe CoL police can catch a pickpocket in Liverpool Stree... http://t.co/vXIn1gOq4Q',\n",
              "        'Aftershock back to school kick off was great. I want to thank everyone for making it possible. What a great night.',\n",
              "        'in response to trauma Children of Addicts develop a defensive self - one that decreases vulnerability. (3',\n",
              "        '@Calum5SOS you look like you got caught in a rainstorm this is amazing and disgusting at the same time',\n",
              "        'my favorite lady came to our volunteer meeting\\nhopefully joining her youth collision and i am excite http://t.co/Ij0wQ490cS',\n",
              "        '@brianroemmele UX fail of EMV - people want to insert and remove quickly like a gas pump stripe reader. 1 person told me it crashed the POS',\n",
              "        \"Can't find my ariana grande shirt  this is a fucking tragedy\",\n",
              "        'The Murderous Story Of America\\x89Ûªs First Hijacking http://t.co/EYUGk6byxr'],\n",
              "       dtype=object), array([1, 0, 1, 0, 0, 0, 1, 1, 0, 1]))"
            ]
          },
          "metadata": {},
          "execution_count": 17
        }
      ]
    },
    {
      "cell_type": "markdown",
      "source": [
        "## Tokenization (Vectorization):"
      ],
      "metadata": {
        "id": "oZdleV07g5m8"
      }
    },
    {
      "cell_type": "code",
      "source": [
        "sum([len(tweet.split()) for tweet in train_data])"
      ],
      "metadata": {
        "colab": {
          "base_uri": "https://localhost:8080/"
        },
        "id": "dBwN2uYD2GEH",
        "outputId": "9056d45d-c8eb-4dc3-f3ba-814f500c180c"
      },
      "execution_count": 18,
      "outputs": [
        {
          "output_type": "execute_result",
          "data": {
            "text/plain": [
              "101905"
            ]
          },
          "metadata": {},
          "execution_count": 18
        }
      ]
    },
    {
      "cell_type": "code",
      "source": [
        "round(sum([len(tweet.split()) for tweet in train_data])/len(train_data))"
      ],
      "metadata": {
        "colab": {
          "base_uri": "https://localhost:8080/"
        },
        "id": "vAr6BqkV0fnm",
        "outputId": "7067e6c7-5166-46c1-eba3-d25a47b95277"
      },
      "execution_count": 19,
      "outputs": [
        {
          "output_type": "execute_result",
          "data": {
            "text/plain": [
              "15"
            ]
          },
          "metadata": {},
          "execution_count": 19
        }
      ]
    },
    {
      "cell_type": "code",
      "source": [
        "text_vectorizer = tf.keras.layers.TextVectorization(max_tokens=10000,\n",
        "                                                       output_mode='int', \n",
        "                                                       output_sequence_length=15)"
      ],
      "metadata": {
        "id": "nX1891FjNoHS"
      },
      "execution_count": 20,
      "outputs": []
    },
    {
      "cell_type": "code",
      "source": [
        "text_vectorizer.adapt(train_data)"
      ],
      "metadata": {
        "id": "rrPEZ-cpvKUF"
      },
      "execution_count": 21,
      "outputs": []
    },
    {
      "cell_type": "code",
      "source": [
        "sample_tweet = 'my name is hamed i am happy to meet you!'\n",
        "text_vectorizer(sample_tweet)"
      ],
      "metadata": {
        "colab": {
          "base_uri": "https://localhost:8080/"
        },
        "id": "GvlFWQgb5PE5",
        "outputId": "eefa70e0-3caf-46c9-ec9f-f4f02bb2de2e"
      },
      "execution_count": 22,
      "outputs": [
        {
          "output_type": "execute_result",
          "data": {
            "text/plain": [
              "<tf.Tensor: shape=(15,), dtype=int64, numpy=\n",
              "array([  13,  707,    9,    1,    8,  171,  714,    5, 1815,   12,    0,\n",
              "          0,    0,    0,    0])>"
            ]
          },
          "metadata": {},
          "execution_count": 22
        }
      ]
    },
    {
      "cell_type": "code",
      "source": [
        "random_tweet = random.choice(train_data)\n",
        "print('tweet: ', random_tweet,'\\n\\n')\n",
        "print('vectorized tweet: ', text_vectorizer(random_tweet))"
      ],
      "metadata": {
        "colab": {
          "base_uri": "https://localhost:8080/"
        },
        "id": "_4LVOt3r50nF",
        "outputId": "0ddad647-dff5-4de2-e9f2-2cf7d1e3274a"
      },
      "execution_count": 23,
      "outputs": [
        {
          "output_type": "stream",
          "name": "stdout",
          "text": [
            "tweet:  @TinyJecht Are you another Stand-user? If you are I will have to detonate you with my Killer Queen. \n",
            "\n",
            "\n",
            "vectorized tweet:  tf.Tensor(\n",
            "[3317   21   12  162 1977   46   12   21    8   42   24    5  440   12\n",
            "   14], shape=(15,), dtype=int64)\n"
          ]
        }
      ]
    },
    {
      "cell_type": "code",
      "source": [
        "#unique words\n",
        "unique_words = text_vectorizer.get_vocabulary()\n",
        "print(len(unique_words))\n",
        "print(unique_words[:10])\n",
        "print(unique_words[-10:])"
      ],
      "metadata": {
        "colab": {
          "base_uri": "https://localhost:8080/"
        },
        "id": "pz1D29W_6gMu",
        "outputId": "f2c59fac-548b-4bcb-aad0-49b38ac86d70"
      },
      "execution_count": 24,
      "outputs": [
        {
          "output_type": "stream",
          "name": "stdout",
          "text": [
            "10000\n",
            "['', '[UNK]', 'the', 'a', 'in', 'to', 'of', 'and', 'i', 'is']\n",
            "['palm', 'palinfoen', 'palestinian\\x89Û', 'palermo', 'pale', 'pakthey', 'pakistan\\x89Ûªs', 'pakistans', 'pajamas', 'paints']\n"
          ]
        }
      ]
    },
    {
      "cell_type": "markdown",
      "source": [
        "## Embedding:"
      ],
      "metadata": {
        "id": "NOWUfElgCc9K"
      }
    },
    {
      "cell_type": "code",
      "source": [
        "embedding = tf.keras.layers.Embedding(input_dim = 10000, output_dim =32, input_length=None)"
      ],
      "metadata": {
        "id": "q8V1ge7R8-uB"
      },
      "execution_count": 25,
      "outputs": []
    },
    {
      "cell_type": "code",
      "source": [
        "sample_embed = embedding(text_vectorizer(random_tweet))\n",
        "sample_embed"
      ],
      "metadata": {
        "colab": {
          "base_uri": "https://localhost:8080/"
        },
        "id": "tLIAWQIV8taE",
        "outputId": "464351d8-193d-483c-a1d4-b0ce9fa14597"
      },
      "execution_count": 26,
      "outputs": [
        {
          "output_type": "execute_result",
          "data": {
            "text/plain": [
              "<tf.Tensor: shape=(15, 32), dtype=float32, numpy=\n",
              "array([[ 0.04075057,  0.00157804, -0.03359405,  0.04508943,  0.03111834,\n",
              "        -0.01455407,  0.04644618,  0.01502276,  0.04720625, -0.04778763,\n",
              "         0.04252073, -0.02199866,  0.00584967, -0.03747506,  0.02827128,\n",
              "         0.01119568, -0.01374953, -0.02056975, -0.02447296,  0.02367014,\n",
              "         0.032235  ,  0.04341171, -0.02728651, -0.00681353, -0.04186001,\n",
              "         0.0005395 , -0.03170701, -0.00423217,  0.04575553,  0.03582663,\n",
              "        -0.03258234, -0.02307471],\n",
              "       [ 0.03013246,  0.03410004,  0.02283862,  0.01099455, -0.03165706,\n",
              "        -0.01731058, -0.04910528,  0.00321706, -0.04119165, -0.01070045,\n",
              "         0.01594395,  0.0049191 ,  0.0299284 , -0.01307793,  0.04405684,\n",
              "         0.03071601,  0.03278383,  0.04952434,  0.03038255, -0.00617156,\n",
              "         0.01923997,  0.02546281, -0.01654215,  0.00337489, -0.00709574,\n",
              "        -0.02629893,  0.00700828, -0.04579277, -0.01228245,  0.03981679,\n",
              "        -0.00177226,  0.04122628],\n",
              "       [-0.00825929,  0.04709208,  0.00923222, -0.01171579, -0.04459557,\n",
              "         0.02214438,  0.03505557,  0.03038443, -0.02199693, -0.04576819,\n",
              "         0.01615005, -0.02050471,  0.00700621, -0.04325719, -0.04662726,\n",
              "        -0.03616463, -0.00589199, -0.02478888, -0.04354795,  0.00929387,\n",
              "         0.00241082,  0.04646761, -0.01172046,  0.04337019,  0.00937804,\n",
              "         0.03335461, -0.00674924, -0.00934185, -0.01735344,  0.01272136,\n",
              "        -0.00589694, -0.03726977],\n",
              "       [ 0.00174993, -0.01989678, -0.00671438, -0.0055261 ,  0.04023146,\n",
              "        -0.04240518,  0.03798901,  0.04442637, -0.02136196, -0.03615908,\n",
              "        -0.02895351,  0.00402283, -0.00951296,  0.03241878, -0.00166279,\n",
              "        -0.03388935,  0.00665949,  0.03618766,  0.00825191, -0.0058415 ,\n",
              "         0.02717416,  0.01539281, -0.03245351,  0.03848641, -0.02169008,\n",
              "        -0.00049218,  0.0074354 ,  0.03572376, -0.03597818, -0.0483364 ,\n",
              "         0.0055349 , -0.04839642],\n",
              "       [ 0.01154814,  0.00492839, -0.0157346 ,  0.03651062, -0.04538504,\n",
              "         0.04730761,  0.01182396, -0.02971667,  0.02448999,  0.04736506,\n",
              "        -0.03007902,  0.00585014,  0.04999486, -0.03721727, -0.02282239,\n",
              "         0.03600674,  0.04983122, -0.0256952 ,  0.03044373, -0.01246457,\n",
              "         0.00442592,  0.01270283, -0.0349557 ,  0.04039704, -0.04892527,\n",
              "        -0.04590553, -0.00682288,  0.04299501, -0.02150874, -0.03610219,\n",
              "         0.02433348, -0.0082578 ],\n",
              "       [-0.00710449,  0.00979083, -0.00016024,  0.02059698, -0.03747959,\n",
              "        -0.02318405, -0.03150661, -0.01103864, -0.00026745,  0.04393833,\n",
              "        -0.03640059, -0.04189563,  0.02393946,  0.04390276, -0.03070723,\n",
              "        -0.03900006, -0.02314006,  0.00501089,  0.02713976, -0.04631866,\n",
              "         0.01982797, -0.04066418, -0.02444892, -0.04433153, -0.01056581,\n",
              "         0.00287259, -0.01030209, -0.04380864,  0.04717069, -0.02572933,\n",
              "         0.03787063, -0.01062733],\n",
              "       [-0.00825929,  0.04709208,  0.00923222, -0.01171579, -0.04459557,\n",
              "         0.02214438,  0.03505557,  0.03038443, -0.02199693, -0.04576819,\n",
              "         0.01615005, -0.02050471,  0.00700621, -0.04325719, -0.04662726,\n",
              "        -0.03616463, -0.00589199, -0.02478888, -0.04354795,  0.00929387,\n",
              "         0.00241082,  0.04646761, -0.01172046,  0.04337019,  0.00937804,\n",
              "         0.03335461, -0.00674924, -0.00934185, -0.01735344,  0.01272136,\n",
              "        -0.00589694, -0.03726977],\n",
              "       [ 0.03013246,  0.03410004,  0.02283862,  0.01099455, -0.03165706,\n",
              "        -0.01731058, -0.04910528,  0.00321706, -0.04119165, -0.01070045,\n",
              "         0.01594395,  0.0049191 ,  0.0299284 , -0.01307793,  0.04405684,\n",
              "         0.03071601,  0.03278383,  0.04952434,  0.03038255, -0.00617156,\n",
              "         0.01923997,  0.02546281, -0.01654215,  0.00337489, -0.00709574,\n",
              "        -0.02629893,  0.00700828, -0.04579277, -0.01228245,  0.03981679,\n",
              "        -0.00177226,  0.04122628],\n",
              "       [-0.03805501,  0.01056526,  0.03402764, -0.00275673,  0.02599459,\n",
              "         0.01805267, -0.00048055,  0.0022213 ,  0.04349468,  0.0151167 ,\n",
              "        -0.03679113, -0.00695967,  0.02064036,  0.0096248 ,  0.04331127,\n",
              "        -0.01006673,  0.01694642,  0.04450475, -0.03753015, -0.02999041,\n",
              "         0.00583844, -0.01761074,  0.03884104,  0.02823249, -0.01516558,\n",
              "        -0.03340329,  0.03788156, -0.02183119, -0.00323007,  0.01544421,\n",
              "        -0.03668076,  0.01376201],\n",
              "       [-0.00114625,  0.00714779,  0.02603314,  0.0007075 ,  0.04571715,\n",
              "         0.01388862,  0.01219929,  0.04884649, -0.00613505,  0.01670103,\n",
              "         0.00607046, -0.00833385,  0.04779415, -0.04209269, -0.02524755,\n",
              "        -0.01591635,  0.01618438,  0.00347723,  0.02415806,  0.0281158 ,\n",
              "        -0.04241553,  0.00094218, -0.00130274, -0.01228914, -0.02627843,\n",
              "         0.01335659,  0.0081272 , -0.01613517, -0.01699311, -0.01862054,\n",
              "         0.0199136 ,  0.00560652],\n",
              "       [ 0.04566065,  0.01314124,  0.04352337, -0.01559604,  0.01171453,\n",
              "        -0.04440815,  0.00290364, -0.01218268,  0.00663265, -0.01545129,\n",
              "        -0.0471342 , -0.01979919,  0.03237091, -0.02582085, -0.04606811,\n",
              "        -0.03040344, -0.0358004 , -0.0106901 , -0.03705053,  0.0010969 ,\n",
              "        -0.00151563,  0.00287228,  0.02476933, -0.03561317, -0.04315704,\n",
              "        -0.02641232, -0.03035692, -0.04926337,  0.00986444,  0.00297391,\n",
              "        -0.04075133, -0.00454103],\n",
              "       [-0.04262967,  0.03927776,  0.00982717,  0.0228816 ,  0.02261934,\n",
              "        -0.02963866,  0.04022583,  0.00356089,  0.00495009, -0.04507098,\n",
              "        -0.0457092 , -0.04230397,  0.0101653 , -0.01652697, -0.0473526 ,\n",
              "         0.01899762,  0.04058157, -0.0034863 , -0.02235761,  0.04346528,\n",
              "         0.02619275,  0.00118586, -0.01043196, -0.00389035, -0.00238413,\n",
              "        -0.03803551, -0.00384612, -0.0113253 , -0.03177253,  0.0351856 ,\n",
              "        -0.02640851, -0.04775629],\n",
              "       [-0.0315382 , -0.04574713, -0.01760235,  0.03836179,  0.01489121,\n",
              "         0.04426588,  0.0397743 , -0.00370874,  0.03486658,  0.02046202,\n",
              "        -0.04468231,  0.0088709 , -0.04710889, -0.01244576,  0.01108776,\n",
              "         0.02265227,  0.0164077 ,  0.01159807,  0.0112641 , -0.00649778,\n",
              "        -0.02989999,  0.01009408, -0.0060298 , -0.03000033,  0.00508295,\n",
              "        -0.01049912,  0.02149111,  0.03103629, -0.02340915,  0.00856013,\n",
              "        -0.00249494, -0.02663491],\n",
              "       [-0.00825929,  0.04709208,  0.00923222, -0.01171579, -0.04459557,\n",
              "         0.02214438,  0.03505557,  0.03038443, -0.02199693, -0.04576819,\n",
              "         0.01615005, -0.02050471,  0.00700621, -0.04325719, -0.04662726,\n",
              "        -0.03616463, -0.00589199, -0.02478888, -0.04354795,  0.00929387,\n",
              "         0.00241082,  0.04646761, -0.01172046,  0.04337019,  0.00937804,\n",
              "         0.03335461, -0.00674924, -0.00934185, -0.01735344,  0.01272136,\n",
              "        -0.00589694, -0.03726977],\n",
              "       [-0.01671834,  0.00021918, -0.0292446 , -0.04182701,  0.04347434,\n",
              "         0.04041321, -0.04049603, -0.00793077,  0.02045299, -0.03176416,\n",
              "        -0.0101625 , -0.04465408, -0.02397286,  0.00691972, -0.04737722,\n",
              "        -0.01496702,  0.00093942, -0.01895287,  0.00069278, -0.0125165 ,\n",
              "         0.00595059,  0.00482287,  0.03578962,  0.04575   ,  0.04090894,\n",
              "         0.02767031,  0.00546323, -0.03665427, -0.02037935, -0.03845419,\n",
              "        -0.03629893, -0.0262229 ]], dtype=float32)>"
            ]
          },
          "metadata": {},
          "execution_count": 26
        }
      ]
    },
    {
      "cell_type": "markdown",
      "source": [
        "## Analyze with Naive Bayes using TF-IDF:"
      ],
      "metadata": {
        "id": "zLSl6TnnVWTQ"
      }
    },
    {
      "cell_type": "code",
      "source": [
        "from sklearn.feature_extraction.text import TfidfVectorizer\n",
        "from sklearn.naive_bayes import MultinomialNB\n",
        "from sklearn.pipeline import Pipeline\n",
        "from sklearn.metrics import accuracy_score, classification_report"
      ],
      "metadata": {
        "id": "rQvF8mI-9Ei7"
      },
      "execution_count": 54,
      "outputs": []
    },
    {
      "cell_type": "code",
      "source": [
        "model_0 = Pipeline([\n",
        "                    ('tfidf', TfidfVectorizer()),\n",
        "                    ('clf', MultinomialNB())\n",
        "])\n",
        "\n",
        "model_0.fit(train_data,train_label)"
      ],
      "metadata": {
        "colab": {
          "base_uri": "https://localhost:8080/"
        },
        "id": "eujQFWfsVsPw",
        "outputId": "5eb4d5be-0b18-488e-a5c8-eb4809ca9b2f"
      },
      "execution_count": 55,
      "outputs": [
        {
          "output_type": "execute_result",
          "data": {
            "text/plain": [
              "Pipeline(steps=[('tfidf', TfidfVectorizer()), ('clf', MultinomialNB())])"
            ]
          },
          "metadata": {},
          "execution_count": 55
        }
      ]
    },
    {
      "cell_type": "code",
      "source": [
        "val_pred = model_0.predict(val_data)\n",
        "val_pred[:10]"
      ],
      "metadata": {
        "colab": {
          "base_uri": "https://localhost:8080/"
        },
        "id": "LDbu8EzFXBsa",
        "outputId": "f0b0d5b0-6041-4f6d-cceb-6bb3af697d9f"
      },
      "execution_count": 56,
      "outputs": [
        {
          "output_type": "execute_result",
          "data": {
            "text/plain": [
              "array([0, 0, 0, 0, 0, 0, 0, 0, 0, 1])"
            ]
          },
          "metadata": {},
          "execution_count": 56
        }
      ]
    },
    {
      "cell_type": "code",
      "source": [
        "val_label[:10]"
      ],
      "metadata": {
        "colab": {
          "base_uri": "https://localhost:8080/"
        },
        "id": "36pZya2qXXm1",
        "outputId": "d7ff6644-f8cf-48cb-f4d5-cdda895293af"
      },
      "execution_count": 57,
      "outputs": [
        {
          "output_type": "execute_result",
          "data": {
            "text/plain": [
              "array([1, 0, 1, 0, 0, 0, 1, 1, 0, 1])"
            ]
          },
          "metadata": {},
          "execution_count": 57
        }
      ]
    },
    {
      "cell_type": "code",
      "source": [
        "accuracy_score(val_label, val_pred)"
      ],
      "metadata": {
        "colab": {
          "base_uri": "https://localhost:8080/"
        },
        "id": "DIcwlAlyXaCW",
        "outputId": "d77a08d1-8c3d-4ff8-d8c9-6fd0beaa7f4d"
      },
      "execution_count": 58,
      "outputs": [
        {
          "output_type": "execute_result",
          "data": {
            "text/plain": [
              "0.7782152230971129"
            ]
          },
          "metadata": {},
          "execution_count": 58
        }
      ]
    },
    {
      "cell_type": "code",
      "source": [
        "print(classification_report(val_label, val_pred))"
      ],
      "metadata": {
        "colab": {
          "base_uri": "https://localhost:8080/"
        },
        "id": "qA58DXXQXlx6",
        "outputId": "70b7709e-a7e4-496b-937a-1bdc429b97e7"
      },
      "execution_count": 59,
      "outputs": [
        {
          "output_type": "stream",
          "name": "stdout",
          "text": [
            "              precision    recall  f1-score   support\n",
            "\n",
            "           0       0.74      0.92      0.82       426\n",
            "           1       0.86      0.60      0.70       336\n",
            "\n",
            "    accuracy                           0.78       762\n",
            "   macro avg       0.80      0.76      0.76       762\n",
            "weighted avg       0.79      0.78      0.77       762\n",
            "\n"
          ]
        }
      ]
    },
    {
      "cell_type": "code",
      "source": [
        "tweets=['earthquake hit california minutes ago', \n",
        "        'my car on fire now', \n",
        "        'I need a blue car']"
      ],
      "metadata": {
        "id": "AZmZc_PeN5_B"
      },
      "execution_count": 60,
      "outputs": []
    },
    {
      "cell_type": "code",
      "source": [
        "model_0.predict_proba(tweets)"
      ],
      "metadata": {
        "colab": {
          "base_uri": "https://localhost:8080/"
        },
        "outputId": "a2b7507d-a0e4-4621-92a8-6e37ce423984",
        "id": "7fsCAGqqN5_C"
      },
      "execution_count": 61,
      "outputs": [
        {
          "output_type": "execute_result",
          "data": {
            "text/plain": [
              "array([[0.22063312, 0.77936688],\n",
              "       [0.58453661, 0.41546339],\n",
              "       [0.71572258, 0.28427742]])"
            ]
          },
          "metadata": {},
          "execution_count": 61
        }
      ]
    },
    {
      "cell_type": "code",
      "source": [
        "model_0.predict(tweets)"
      ],
      "metadata": {
        "colab": {
          "base_uri": "https://localhost:8080/"
        },
        "outputId": "adf64857-6c00-49aa-c021-b2fa5ee7a3b5",
        "id": "2M8DnTOoN5_D"
      },
      "execution_count": 62,
      "outputs": [
        {
          "output_type": "execute_result",
          "data": {
            "text/plain": [
              "array([1, 0, 0])"
            ]
          },
          "metadata": {},
          "execution_count": 62
        }
      ]
    },
    {
      "cell_type": "markdown",
      "source": [
        "## Analyze with Vanilla Neural Network:"
      ],
      "metadata": {
        "id": "aKLoyZ2-73qI"
      }
    },
    {
      "cell_type": "code",
      "source": [
        "# sequential API\n",
        "\n",
        "# model_1 = tf.keras.Sequential([\n",
        "#     tf.keras.layers.Input(shape= (1,), dtype = tf.string),\n",
        "#     text_vectorizer,\n",
        "#     embedding,\n",
        "#     tf.keras.layers.GlobalAveragePooling1D(),\n",
        "#     tf.keras.layers.Dense(10, activation='relu'),\n",
        "#     tf.keras.layers.Dense(1, activation='sigmoid')    \n",
        "# ])\n",
        "\n",
        "# model_1.compile(loss = tf.keras.losses.BinaryCrossentropy(),\n",
        "#                  optimizer = tf.keras.optimizers.Adam(),\n",
        "#                  metrics= ['accuracy'])"
      ],
      "metadata": {
        "id": "Qok-aN-GYfZe"
      },
      "execution_count": 84,
      "outputs": []
    },
    {
      "cell_type": "code",
      "source": [
        "# Functional API\n",
        "\n",
        "inputs = tf.keras.layers.Input(shape= (1,), dtype = tf.string)\n",
        "\n",
        "x = text_vectorizer(inputs)\n",
        "\n",
        "x = embedding(x)\n",
        "\n",
        "# x = tf.transpose(x , perm = [0,2,1])\n",
        "\n",
        "# print(x.shape)\n",
        "\n",
        "x = tf.keras.layers.GlobalAveragePooling1D()(x)\n",
        "\n",
        "x = tf.keras.layers.Dense(10, activation='relu')(x)\n",
        "\n",
        "outputs = tf.keras.layers.Dense(1, activation='sigmoid')(x)\n",
        "\n",
        "model_1 = tf.keras.Model(inputs,outputs, name='ANN')"
      ],
      "metadata": {
        "id": "yvsEiUlGPYkI"
      },
      "execution_count": 165,
      "outputs": []
    },
    {
      "cell_type": "code",
      "source": [
        "model_1.summary()"
      ],
      "metadata": {
        "colab": {
          "base_uri": "https://localhost:8080/"
        },
        "id": "XQR0a3l1RYjX",
        "outputId": "da0e097a-9f11-4a18-fb49-a65bdfb6a0bf"
      },
      "execution_count": 166,
      "outputs": [
        {
          "output_type": "stream",
          "name": "stdout",
          "text": [
            "Model: \"ANN\"\n",
            "_________________________________________________________________\n",
            " Layer (type)                Output Shape              Param #   \n",
            "=================================================================\n",
            " input_9 (InputLayer)        [(None, 1)]               0         \n",
            "                                                                 \n",
            " text_vectorization_1 (TextV  (None, 15)               0         \n",
            " ectorization)                                                   \n",
            "                                                                 \n",
            " embedding_1 (Embedding)     (None, 15, 32)            320000    \n",
            "                                                                 \n",
            " global_average_pooling1d_9   (None, 32)               0         \n",
            " (GlobalAveragePooling1D)                                        \n",
            "                                                                 \n",
            " dense_18 (Dense)            (None, 10)                330       \n",
            "                                                                 \n",
            " dense_19 (Dense)            (None, 1)                 11        \n",
            "                                                                 \n",
            "=================================================================\n",
            "Total params: 320,341\n",
            "Trainable params: 320,341\n",
            "Non-trainable params: 0\n",
            "_________________________________________________________________\n"
          ]
        }
      ]
    },
    {
      "cell_type": "code",
      "source": [
        "model_1.compile(loss = tf.keras.losses.BinaryCrossentropy(),\n",
        "                 optimizer = tf.keras.optimizers.Adam(),\n",
        "                 metrics= ['accuracy'])"
      ],
      "metadata": {
        "id": "2SeRFBI7YYDW"
      },
      "execution_count": 167,
      "outputs": []
    },
    {
      "cell_type": "code",
      "source": [
        "# !rm -rf './tensorboard/ANN'"
      ],
      "metadata": {
        "id": "OOFNhm_8bHx3"
      },
      "execution_count": 168,
      "outputs": []
    },
    {
      "cell_type": "code",
      "source": [
        "model_1.fit(train_data_10_percent, \n",
        "            train_label_10_percent, \n",
        "            validation_data = (val_data,val_label), \n",
        "            epochs=10, \n",
        "            callbacks=[create_tensorboard_callback('tensorboard','ANN')])"
      ],
      "metadata": {
        "colab": {
          "base_uri": "https://localhost:8080/"
        },
        "id": "ZEoda4bFtAdQ",
        "outputId": "2aa36f74-15c9-4ca7-dde6-ee1c55f98ea6"
      },
      "execution_count": 171,
      "outputs": [
        {
          "output_type": "stream",
          "name": "stdout",
          "text": [
            "Saving TensorBoard log files to: tensorboard/ANN/20220901-062035\n",
            "Epoch 1/10\n",
            "24/24 [==============================] - 0s 12ms/step - loss: 0.0439 - accuracy: 0.9803 - val_loss: 1.0258 - val_accuracy: 0.7375\n",
            "Epoch 2/10\n",
            "24/24 [==============================] - 0s 10ms/step - loss: 0.0345 - accuracy: 0.9908 - val_loss: 1.0437 - val_accuracy: 0.7323\n",
            "Epoch 3/10\n",
            "24/24 [==============================] - 0s 11ms/step - loss: 0.0290 - accuracy: 0.9908 - val_loss: 1.0485 - val_accuracy: 0.7310\n",
            "Epoch 4/10\n",
            "24/24 [==============================] - 0s 11ms/step - loss: 0.0259 - accuracy: 0.9934 - val_loss: 1.0509 - val_accuracy: 0.7336\n",
            "Epoch 5/10\n",
            "24/24 [==============================] - 0s 10ms/step - loss: 0.0234 - accuracy: 0.9934 - val_loss: 1.0535 - val_accuracy: 0.7349\n",
            "Epoch 6/10\n",
            "24/24 [==============================] - 0s 12ms/step - loss: 0.0215 - accuracy: 0.9947 - val_loss: 1.0657 - val_accuracy: 0.7349\n",
            "Epoch 7/10\n",
            "24/24 [==============================] - 0s 12ms/step - loss: 0.0202 - accuracy: 0.9947 - val_loss: 1.0706 - val_accuracy: 0.7349\n",
            "Epoch 8/10\n",
            "24/24 [==============================] - 0s 15ms/step - loss: 0.0186 - accuracy: 0.9934 - val_loss: 1.0751 - val_accuracy: 0.7349\n",
            "Epoch 9/10\n",
            "24/24 [==============================] - 0s 19ms/step - loss: 0.0172 - accuracy: 0.9947 - val_loss: 1.0830 - val_accuracy: 0.7323\n",
            "Epoch 10/10\n",
            "24/24 [==============================] - 0s 20ms/step - loss: 0.0159 - accuracy: 0.9947 - val_loss: 1.0844 - val_accuracy: 0.7336\n"
          ]
        },
        {
          "output_type": "execute_result",
          "data": {
            "text/plain": [
              "<keras.callbacks.History at 0x7f3b3e1f7c50>"
            ]
          },
          "metadata": {},
          "execution_count": 171
        }
      ]
    },
    {
      "cell_type": "code",
      "source": [
        "history_1 = model_1.fit(train_data, \n",
        "            train_label, \n",
        "            validation_data = (val_data,val_label), \n",
        "            epochs=10, \n",
        "            callbacks=[create_tensorboard_callback('tensorboard','ANN')])"
      ],
      "metadata": {
        "colab": {
          "base_uri": "https://localhost:8080/"
        },
        "id": "Vg8TwjcZNbtc",
        "outputId": "1f4d50c0-4d7f-4a56-f84f-b869ae9164f7"
      },
      "execution_count": 170,
      "outputs": [
        {
          "output_type": "stream",
          "name": "stdout",
          "text": [
            "Saving TensorBoard log files to: tensorboard/ANN/20220901-062004\n",
            "Epoch 1/10\n",
            "215/215 [==============================] - 2s 8ms/step - loss: 0.1730 - accuracy: 0.9485 - val_loss: 0.5580 - val_accuracy: 0.7651\n",
            "Epoch 2/10\n",
            "215/215 [==============================] - 2s 7ms/step - loss: 0.1232 - accuracy: 0.9587 - val_loss: 0.6345 - val_accuracy: 0.7533\n",
            "Epoch 3/10\n",
            "215/215 [==============================] - 2s 7ms/step - loss: 0.1004 - accuracy: 0.9648 - val_loss: 0.7081 - val_accuracy: 0.7415\n",
            "Epoch 4/10\n",
            "215/215 [==============================] - 2s 7ms/step - loss: 0.0865 - accuracy: 0.9699 - val_loss: 0.7571 - val_accuracy: 0.7493\n",
            "Epoch 5/10\n",
            "215/215 [==============================] - 2s 7ms/step - loss: 0.0772 - accuracy: 0.9730 - val_loss: 0.8133 - val_accuracy: 0.7441\n",
            "Epoch 6/10\n",
            "215/215 [==============================] - 2s 7ms/step - loss: 0.0696 - accuracy: 0.9745 - val_loss: 0.8624 - val_accuracy: 0.7415\n",
            "Epoch 7/10\n",
            "215/215 [==============================] - 2s 7ms/step - loss: 0.0638 - accuracy: 0.9765 - val_loss: 0.8948 - val_accuracy: 0.7428\n",
            "Epoch 8/10\n",
            "215/215 [==============================] - 2s 8ms/step - loss: 0.0603 - accuracy: 0.9774 - val_loss: 0.9361 - val_accuracy: 0.7441\n",
            "Epoch 9/10\n",
            "215/215 [==============================] - 2s 9ms/step - loss: 0.0562 - accuracy: 0.9780 - val_loss: 0.9664 - val_accuracy: 0.7441\n",
            "Epoch 10/10\n",
            "215/215 [==============================] - 2s 7ms/step - loss: 0.0542 - accuracy: 0.9790 - val_loss: 1.0062 - val_accuracy: 0.7441\n"
          ]
        }
      ]
    },
    {
      "cell_type": "code",
      "source": [
        "model_1.evaluate(val_data,val_label)"
      ],
      "metadata": {
        "colab": {
          "base_uri": "https://localhost:8080/"
        },
        "id": "E_kkLm5BbeAx",
        "outputId": "68b1d520-502c-4d9d-aa99-d06630472b68"
      },
      "execution_count": 173,
      "outputs": [
        {
          "output_type": "stream",
          "name": "stdout",
          "text": [
            "24/24 [==============================] - 0s 4ms/step - loss: 1.0844 - accuracy: 0.7336\n"
          ]
        },
        {
          "output_type": "execute_result",
          "data": {
            "text/plain": [
              "[1.0844117403030396, 0.7335957884788513]"
            ]
          },
          "metadata": {},
          "execution_count": 173
        }
      ]
    },
    {
      "cell_type": "code",
      "source": [
        "tweets=['earthquake hit california minutes ago', \n",
        "        'my car on fire now', \n",
        "        'I need a blue car']"
      ],
      "metadata": {
        "id": "UTc9X6MSlQ2R"
      },
      "execution_count": 174,
      "outputs": []
    },
    {
      "cell_type": "code",
      "source": [
        "model_1.predict(tweets)"
      ],
      "metadata": {
        "colab": {
          "base_uri": "https://localhost:8080/"
        },
        "id": "OhzkcaCXlBWY",
        "outputId": "843f9752-c7f9-4fa5-a871-0950af6d4c54"
      },
      "execution_count": 175,
      "outputs": [
        {
          "output_type": "execute_result",
          "data": {
            "text/plain": [
              "array([[0.9993068 ],\n",
              "       [0.8963213 ],\n",
              "       [0.05997124]], dtype=float32)"
            ]
          },
          "metadata": {},
          "execution_count": 175
        }
      ]
    },
    {
      "cell_type": "markdown",
      "source": [
        "## Retrieve the trained word embeddings:"
      ],
      "metadata": {
        "id": "4jHHRrvj0pcr"
      }
    },
    {
      "cell_type": "code",
      "source": [
        "weights = model_1.get_layer('embedding').get_weights()[0]\n",
        "weights"
      ],
      "metadata": {
        "colab": {
          "base_uri": "https://localhost:8080/"
        },
        "id": "M9sc4sf0pUVs",
        "outputId": "d89d6bde-adbf-4090-b3db-e3c722e7c768"
      },
      "execution_count": null,
      "outputs": [
        {
          "output_type": "execute_result",
          "data": {
            "text/plain": [
              "array([[ 0.25929037, -0.06279013, -0.06148194, ...,  0.14954968,\n",
              "         0.10060261,  0.0653062 ],\n",
              "       [ 0.24403132, -0.03507703, -0.0686942 , ...,  0.12375301,\n",
              "         0.10604884,  0.02397103],\n",
              "       [ 0.26330766, -0.00792165,  0.00596493, ...,  0.15860574,\n",
              "         0.17530532,  0.0099184 ],\n",
              "       ...,\n",
              "       [ 0.08522397,  0.05309212,  0.0784494 , ...,  0.00166323,\n",
              "        -0.00641821, -0.00086374],\n",
              "       [ 0.01429316,  0.00259889, -0.01726699, ..., -0.02082995,\n",
              "        -0.01213987, -0.01905471],\n",
              "       [ 0.04047877, -0.02340493, -0.01548165, ...,  0.00393052,\n",
              "         0.012569  , -0.03269402]], dtype=float32)"
            ]
          },
          "metadata": {},
          "execution_count": 43
        }
      ]
    },
    {
      "cell_type": "code",
      "source": [
        "weights.shape"
      ],
      "metadata": {
        "colab": {
          "base_uri": "https://localhost:8080/"
        },
        "id": "LYur0NNc0UJp",
        "outputId": "8c6b6dc4-6e73-4e06-b503-43520dbd5ae7"
      },
      "execution_count": null,
      "outputs": [
        {
          "output_type": "execute_result",
          "data": {
            "text/plain": [
              "(10000, 32)"
            ]
          },
          "metadata": {},
          "execution_count": 44
        }
      ]
    },
    {
      "cell_type": "code",
      "source": [
        "vocab = text_vectorizer.get_vocabulary()\n",
        "vocab[:10]"
      ],
      "metadata": {
        "colab": {
          "base_uri": "https://localhost:8080/"
        },
        "id": "gQooUcMe0ob1",
        "outputId": "e73b4b66-9267-47a6-8a06-0d6783d0a5d6"
      },
      "execution_count": null,
      "outputs": [
        {
          "output_type": "execute_result",
          "data": {
            "text/plain": [
              "['', '[UNK]', 'the', 'a', 'in', 'to', 'of', 'and', 'i', 'is']"
            ]
          },
          "metadata": {},
          "execution_count": 45
        }
      ]
    },
    {
      "cell_type": "code",
      "source": [
        "import io\n",
        "out_v = io.open('vectors.tsv', 'w', encoding='utf-8')\n",
        "out_m = io.open('metadata.tsv', 'w', encoding='utf-8')\n",
        "\n",
        "for index, word in enumerate(vocab):\n",
        "  if index == 0:\n",
        "    continue  # skip 0, it's padding.\n",
        "  vec = weights[index]\n",
        "  out_v.write('\\t'.join([str(x) for x in vec]) + \"\\n\")\n",
        "  out_m.write(word + \"\\n\")\n",
        "out_v.close()\n",
        "out_m.close()"
      ],
      "metadata": {
        "id": "Ln_QVjQ_Ieig"
      },
      "execution_count": null,
      "outputs": []
    },
    {
      "cell_type": "code",
      "source": [
        "# try:\n",
        "#   from google.colab import files\n",
        "#   files.download('vectors.tsv')\n",
        "#   files.download('metadata.tsv')\n",
        "# except Exception:\n",
        "#   pass"
      ],
      "metadata": {
        "id": "7XH4_JyrItP-"
      },
      "execution_count": null,
      "outputs": []
    },
    {
      "cell_type": "markdown",
      "source": [
        "Then, use [Embedding Projector](http://projector.tensorflow.org/) to Visualize the embeddings"
      ],
      "metadata": {
        "id": "Rz0TllBkI6_E"
      }
    },
    {
      "cell_type": "markdown",
      "source": [
        "## Analyze with LSTM model:"
      ],
      "metadata": {
        "id": "Se_weCsVw0NK"
      }
    },
    {
      "cell_type": "code",
      "source": [
        "inputs = tf.keras.layers.Input(shape= (1), dtype = tf.string)\n",
        "\n",
        "x = text_vectorizer(inputs)\n",
        "\n",
        "x = embedding(x)\n",
        "\n",
        "x = tf.keras.layers.LSTM(64,  return_sequences=True)(x)\n",
        "x = tf.keras.layers.LSTM(32)(x)\n",
        "\n",
        "x = tf.keras.layers.Dense(16, activation='relu')(x)\n",
        "outputs = tf.keras.layers.Dense(1, activation='sigmoid')(x)\n",
        "\n",
        "model_2 = tf.keras.Model(inputs,outputs, name='LSTM')"
      ],
      "metadata": {
        "id": "96Qi40rIw5GI"
      },
      "execution_count": null,
      "outputs": []
    },
    {
      "cell_type": "code",
      "source": [
        "model_2.summary()"
      ],
      "metadata": {
        "colab": {
          "base_uri": "https://localhost:8080/"
        },
        "outputId": "de1528db-10db-48c6-a739-36849a0f4df8",
        "id": "vKSzooeIw5GJ"
      },
      "execution_count": null,
      "outputs": [
        {
          "output_type": "stream",
          "name": "stdout",
          "text": [
            "Model: \"LSTM\"\n",
            "_________________________________________________________________\n",
            " Layer (type)                Output Shape              Param #   \n",
            "=================================================================\n",
            " input_2 (InputLayer)        [(None, 1)]               0         \n",
            "                                                                 \n",
            " text_vectorization (TextVec  (None, 15)               0         \n",
            " torization)                                                     \n",
            "                                                                 \n",
            " embedding (Embedding)       (None, 15, 32)            320000    \n",
            "                                                                 \n",
            " lstm (LSTM)                 (None, 15, 64)            24832     \n",
            "                                                                 \n",
            " lstm_1 (LSTM)               (None, 32)                12416     \n",
            "                                                                 \n",
            " dense_2 (Dense)             (None, 16)                528       \n",
            "                                                                 \n",
            " dense_3 (Dense)             (None, 1)                 17        \n",
            "                                                                 \n",
            "=================================================================\n",
            "Total params: 357,793\n",
            "Trainable params: 357,793\n",
            "Non-trainable params: 0\n",
            "_________________________________________________________________\n"
          ]
        }
      ]
    },
    {
      "cell_type": "code",
      "source": [
        "model_2.compile(loss = tf.keras.losses.BinaryCrossentropy(),\n",
        "                 optimizer = tf.keras.optimizers.Adam(),\n",
        "                 metrics= ['accuracy'])"
      ],
      "metadata": {
        "id": "ewHkj2ZXw5GJ"
      },
      "execution_count": null,
      "outputs": []
    },
    {
      "cell_type": "code",
      "source": [
        "# !rm -rf './tensorboard/LSTM'"
      ],
      "metadata": {
        "id": "LpIUPzhiw5GK"
      },
      "execution_count": null,
      "outputs": []
    },
    {
      "cell_type": "code",
      "source": [
        "history_2 = model_2.fit(train_data, \n",
        "            train_label, \n",
        "            validation_data = (val_data,val_label), \n",
        "            epochs=10, \n",
        "            callbacks=[create_tensorboard_callback('tensorboard','LSTM')])"
      ],
      "metadata": {
        "colab": {
          "base_uri": "https://localhost:8080/"
        },
        "outputId": "cf3dd192-90fd-4f66-8567-dc7b54342778",
        "id": "PSI6IaAhw5GK"
      },
      "execution_count": null,
      "outputs": [
        {
          "output_type": "stream",
          "name": "stdout",
          "text": [
            "Saving TensorBoard log files to: tensorboard/LSTM/20220831-192716\n",
            "Epoch 1/10\n",
            "215/215 [==============================] - 11s 30ms/step - loss: 0.1997 - accuracy: 0.9218 - val_loss: 0.8313 - val_accuracy: 0.7507\n",
            "Epoch 2/10\n",
            "215/215 [==============================] - 6s 26ms/step - loss: 0.0811 - accuracy: 0.9685 - val_loss: 0.8949 - val_accuracy: 0.7388\n",
            "Epoch 3/10\n",
            "215/215 [==============================] - 5s 25ms/step - loss: 0.0639 - accuracy: 0.9749 - val_loss: 1.2104 - val_accuracy: 0.7441\n",
            "Epoch 4/10\n",
            "215/215 [==============================] - 6s 27ms/step - loss: 0.0608 - accuracy: 0.9737 - val_loss: 1.0866 - val_accuracy: 0.7178\n",
            "Epoch 5/10\n",
            "215/215 [==============================] - 6s 26ms/step - loss: 0.0509 - accuracy: 0.9772 - val_loss: 1.2095 - val_accuracy: 0.7362\n",
            "Epoch 6/10\n",
            "215/215 [==============================] - 5s 24ms/step - loss: 0.0468 - accuracy: 0.9793 - val_loss: 1.5439 - val_accuracy: 0.7362\n",
            "Epoch 7/10\n",
            "215/215 [==============================] - 5s 25ms/step - loss: 0.0448 - accuracy: 0.9772 - val_loss: 1.4275 - val_accuracy: 0.7244\n",
            "Epoch 8/10\n",
            "215/215 [==============================] - 6s 26ms/step - loss: 0.0397 - accuracy: 0.9813 - val_loss: 1.7005 - val_accuracy: 0.7152\n",
            "Epoch 9/10\n",
            "215/215 [==============================] - 9s 40ms/step - loss: 0.0407 - accuracy: 0.9801 - val_loss: 1.7176 - val_accuracy: 0.7480\n",
            "Epoch 10/10\n",
            "215/215 [==============================] - 6s 26ms/step - loss: 0.0389 - accuracy: 0.9812 - val_loss: 1.8930 - val_accuracy: 0.7139\n"
          ]
        }
      ]
    },
    {
      "cell_type": "code",
      "source": [
        "model_2.evaluate(val_data,val_label)"
      ],
      "metadata": {
        "colab": {
          "base_uri": "https://localhost:8080/"
        },
        "outputId": "b0351271-aef9-43c4-ba7b-f21a64dbcb18",
        "id": "mjcfDDe9w5GK"
      },
      "execution_count": null,
      "outputs": [
        {
          "output_type": "stream",
          "name": "stdout",
          "text": [
            "24/24 [==============================] - 0s 7ms/step - loss: 1.8930 - accuracy: 0.7139\n"
          ]
        },
        {
          "output_type": "execute_result",
          "data": {
            "text/plain": [
              "[1.8929849863052368, 0.7139107584953308]"
            ]
          },
          "metadata": {},
          "execution_count": 53
        }
      ]
    },
    {
      "cell_type": "markdown",
      "source": [
        "### custom tweets:"
      ],
      "metadata": {
        "id": "BBYFxBg89rOA"
      }
    },
    {
      "cell_type": "code",
      "source": [
        "tweets=['earthquake hit california minutes ago', \n",
        "        'my car on fire now', \n",
        "        'I need a blue car']"
      ],
      "metadata": {
        "id": "idKzKyOyw5GL"
      },
      "execution_count": null,
      "outputs": []
    },
    {
      "cell_type": "code",
      "source": [
        "model_2.predict(tweets)"
      ],
      "metadata": {
        "colab": {
          "base_uri": "https://localhost:8080/"
        },
        "id": "uHeDjk2jyevi",
        "outputId": "0bdfa182-c23d-41ef-b8ce-2585bd93c38d"
      },
      "execution_count": null,
      "outputs": [
        {
          "output_type": "execute_result",
          "data": {
            "text/plain": [
              "array([[0.9999676 ],\n",
              "       [0.9162924 ],\n",
              "       [0.00160667]], dtype=float32)"
            ]
          },
          "metadata": {},
          "execution_count": 55
        }
      ]
    },
    {
      "cell_type": "code",
      "source": [],
      "metadata": {
        "id": "A7Dt-XsZ9f1V"
      },
      "execution_count": null,
      "outputs": []
    },
    {
      "cell_type": "markdown",
      "source": [
        "## Analyze with GRU model:"
      ],
      "metadata": {
        "id": "3ZDWKXF0BFJk"
      }
    },
    {
      "cell_type": "code",
      "source": [
        "inputs = tf.keras.layers.Input(shape= (1), dtype = tf.string)\n",
        "\n",
        "x = text_vectorizer(inputs)\n",
        "\n",
        "x = embedding(x)\n",
        "\n",
        "x = tf.keras.layers.GRU(64,  return_sequences=True)(x)\n",
        "x = tf.keras.layers.GRU(32)(x)\n",
        "\n",
        "x = tf.keras.layers.Dense(16, activation='relu')(x)\n",
        "outputs = tf.keras.layers.Dense(1, activation='sigmoid')(x)\n",
        "\n",
        "model_3 = tf.keras.Model(inputs,outputs, name='GRU')"
      ],
      "metadata": {
        "id": "Ld1eX0UYBFJw"
      },
      "execution_count": null,
      "outputs": []
    },
    {
      "cell_type": "code",
      "source": [
        "model_3.summary()"
      ],
      "metadata": {
        "colab": {
          "base_uri": "https://localhost:8080/"
        },
        "outputId": "99dbd687-76ee-427d-d753-039fbdca45d7",
        "id": "W0udNZXqBFJx"
      },
      "execution_count": null,
      "outputs": [
        {
          "output_type": "stream",
          "name": "stdout",
          "text": [
            "Model: \"GRU\"\n",
            "_________________________________________________________________\n",
            " Layer (type)                Output Shape              Param #   \n",
            "=================================================================\n",
            " input_3 (InputLayer)        [(None, 1)]               0         \n",
            "                                                                 \n",
            " text_vectorization (TextVec  (None, 15)               0         \n",
            " torization)                                                     \n",
            "                                                                 \n",
            " embedding (Embedding)       (None, 15, 32)            320000    \n",
            "                                                                 \n",
            " gru (GRU)                   (None, 15, 64)            18816     \n",
            "                                                                 \n",
            " gru_1 (GRU)                 (None, 32)                9408      \n",
            "                                                                 \n",
            " dense_4 (Dense)             (None, 16)                528       \n",
            "                                                                 \n",
            " dense_5 (Dense)             (None, 1)                 17        \n",
            "                                                                 \n",
            "=================================================================\n",
            "Total params: 348,769\n",
            "Trainable params: 348,769\n",
            "Non-trainable params: 0\n",
            "_________________________________________________________________\n"
          ]
        }
      ]
    },
    {
      "cell_type": "code",
      "source": [
        "model_3.compile(loss = tf.keras.losses.BinaryCrossentropy(),\n",
        "                 optimizer = tf.keras.optimizers.Adam(),\n",
        "                 metrics= ['accuracy'])"
      ],
      "metadata": {
        "id": "FM8D4MAjBFJx"
      },
      "execution_count": null,
      "outputs": []
    },
    {
      "cell_type": "code",
      "source": [
        "# !rm -rf './tensorboard/RNN'"
      ],
      "metadata": {
        "id": "CzkqipA3BFJy"
      },
      "execution_count": null,
      "outputs": []
    },
    {
      "cell_type": "code",
      "source": [
        "history_3 = model_3.fit(train_data, \n",
        "            train_label, \n",
        "            validation_data = (val_data,val_label), \n",
        "            epochs=10, \n",
        "            callbacks=[create_tensorboard_callback('tensorboard','GRU')])"
      ],
      "metadata": {
        "colab": {
          "base_uri": "https://localhost:8080/"
        },
        "outputId": "1ca2a6c1-d398-4ad6-da83-194da63398e2",
        "id": "GE7mHiR0BFJy"
      },
      "execution_count": null,
      "outputs": [
        {
          "output_type": "stream",
          "name": "stdout",
          "text": [
            "Saving TensorBoard log files to: tensorboard/GRU/20220831-192822\n",
            "Epoch 1/10\n",
            "215/215 [==============================] - 11s 29ms/step - loss: 0.1503 - accuracy: 0.9431 - val_loss: 0.9846 - val_accuracy: 0.7087\n",
            "Epoch 2/10\n",
            "215/215 [==============================] - 5s 24ms/step - loss: 0.0608 - accuracy: 0.9781 - val_loss: 0.8491 - val_accuracy: 0.7205\n",
            "Epoch 3/10\n",
            "215/215 [==============================] - 5s 25ms/step - loss: 0.0526 - accuracy: 0.9785 - val_loss: 1.0873 - val_accuracy: 0.7493\n",
            "Epoch 4/10\n",
            "215/215 [==============================] - 5s 24ms/step - loss: 0.0416 - accuracy: 0.9822 - val_loss: 1.8826 - val_accuracy: 0.7152\n",
            "Epoch 5/10\n",
            "215/215 [==============================] - 5s 25ms/step - loss: 0.0450 - accuracy: 0.9812 - val_loss: 1.4369 - val_accuracy: 0.7283\n",
            "Epoch 6/10\n",
            "215/215 [==============================] - 5s 25ms/step - loss: 0.0381 - accuracy: 0.9813 - val_loss: 1.6457 - val_accuracy: 0.7283\n",
            "Epoch 7/10\n",
            "215/215 [==============================] - 5s 25ms/step - loss: 0.0348 - accuracy: 0.9813 - val_loss: 1.7859 - val_accuracy: 0.7533\n",
            "Epoch 8/10\n",
            "215/215 [==============================] - 6s 26ms/step - loss: 0.0375 - accuracy: 0.9818 - val_loss: 1.3072 - val_accuracy: 0.7533\n",
            "Epoch 9/10\n",
            "215/215 [==============================] - 6s 26ms/step - loss: 0.0359 - accuracy: 0.9822 - val_loss: 1.8789 - val_accuracy: 0.7336\n",
            "Epoch 10/10\n",
            "215/215 [==============================] - 6s 26ms/step - loss: 0.0320 - accuracy: 0.9828 - val_loss: 1.9038 - val_accuracy: 0.7415\n"
          ]
        }
      ]
    },
    {
      "cell_type": "code",
      "source": [
        "model_3.evaluate(val_data,val_label)"
      ],
      "metadata": {
        "colab": {
          "base_uri": "https://localhost:8080/"
        },
        "outputId": "eda1d6c0-b91c-40cc-c24d-e9822bda88a1",
        "id": "EQSrAuvnBFJy"
      },
      "execution_count": null,
      "outputs": [
        {
          "output_type": "stream",
          "name": "stdout",
          "text": [
            "24/24 [==============================] - 0s 6ms/step - loss: 1.9038 - accuracy: 0.7415\n"
          ]
        },
        {
          "output_type": "execute_result",
          "data": {
            "text/plain": [
              "[1.903810977935791, 0.7414698004722595]"
            ]
          },
          "metadata": {},
          "execution_count": 61
        }
      ]
    },
    {
      "cell_type": "code",
      "source": [],
      "metadata": {
        "id": "2EljkEvZBFJz"
      },
      "execution_count": null,
      "outputs": []
    },
    {
      "cell_type": "markdown",
      "source": [
        "### custom tweets:"
      ],
      "metadata": {
        "id": "giM2haACBFJz"
      }
    },
    {
      "cell_type": "code",
      "source": [
        "tweets=['earthquake hit california minutes ago', \n",
        "        'my car on fire now', \n",
        "        'I need a blue car']"
      ],
      "metadata": {
        "id": "WimAgDgPBFJz"
      },
      "execution_count": null,
      "outputs": []
    },
    {
      "cell_type": "code",
      "source": [
        "model_3.predict(tweets)"
      ],
      "metadata": {
        "colab": {
          "base_uri": "https://localhost:8080/"
        },
        "outputId": "5e3d1dbb-3c13-487e-dce1-51e3074a2e9f",
        "id": "Na1chl1DBFJz"
      },
      "execution_count": null,
      "outputs": [
        {
          "output_type": "execute_result",
          "data": {
            "text/plain": [
              "array([[9.9997842e-01],\n",
              "       [9.9813539e-01],\n",
              "       [7.9515576e-04]], dtype=float32)"
            ]
          },
          "metadata": {},
          "execution_count": 63
        }
      ]
    },
    {
      "cell_type": "code",
      "source": [],
      "metadata": {
        "id": "lwqKsiKmBmPF"
      },
      "execution_count": null,
      "outputs": []
    },
    {
      "cell_type": "markdown",
      "source": [
        "## Analyzie with Bidirectional LSTM model:"
      ],
      "metadata": {
        "id": "dG8bfSq4Ij4e"
      }
    },
    {
      "cell_type": "code",
      "source": [
        "inputs = tf.keras.layers.Input(shape= (1), dtype = tf.string)\n",
        "\n",
        "x = text_vectorizer(inputs)\n",
        "\n",
        "x = embedding(x)\n",
        "\n",
        "x = tf.keras.layers.Bidirectional(tf.keras.layers.LSTM(64,  return_sequences=True))(x)\n",
        "x = tf.keras.layers.Bidirectional(tf.keras.layers.LSTM(32))(x)\n",
        "\n",
        "\n",
        "x = tf.keras.layers.Dense(16, activation='relu')(x)\n",
        "outputs = tf.keras.layers.Dense(1, activation='sigmoid')(x)\n",
        "\n",
        "model_4 = tf.keras.Model(inputs,outputs, name='Bidirectional-LSTM')"
      ],
      "metadata": {
        "id": "1Aori1liIj4r"
      },
      "execution_count": null,
      "outputs": []
    },
    {
      "cell_type": "code",
      "source": [
        "model_4.summary()"
      ],
      "metadata": {
        "colab": {
          "base_uri": "https://localhost:8080/"
        },
        "outputId": "737cbd6f-c1e4-4526-da8f-c8b6adf77eae",
        "id": "K89-Rp0lIj4s"
      },
      "execution_count": null,
      "outputs": [
        {
          "output_type": "stream",
          "name": "stdout",
          "text": [
            "Model: \"Bidirectional-LSTM\"\n",
            "_________________________________________________________________\n",
            " Layer (type)                Output Shape              Param #   \n",
            "=================================================================\n",
            " input_4 (InputLayer)        [(None, 1)]               0         \n",
            "                                                                 \n",
            " text_vectorization (TextVec  (None, 15)               0         \n",
            " torization)                                                     \n",
            "                                                                 \n",
            " embedding (Embedding)       (None, 15, 32)            320000    \n",
            "                                                                 \n",
            " bidirectional (Bidirectiona  (None, 15, 128)          49664     \n",
            " l)                                                              \n",
            "                                                                 \n",
            " bidirectional_1 (Bidirectio  (None, 64)               41216     \n",
            " nal)                                                            \n",
            "                                                                 \n",
            " dense_6 (Dense)             (None, 16)                1040      \n",
            "                                                                 \n",
            " dense_7 (Dense)             (None, 1)                 17        \n",
            "                                                                 \n",
            "=================================================================\n",
            "Total params: 411,937\n",
            "Trainable params: 411,937\n",
            "Non-trainable params: 0\n",
            "_________________________________________________________________\n"
          ]
        }
      ]
    },
    {
      "cell_type": "code",
      "source": [
        "model_4.compile(loss = tf.keras.losses.BinaryCrossentropy(),\n",
        "                 optimizer = tf.keras.optimizers.Adam(),\n",
        "                 metrics= ['accuracy'])"
      ],
      "metadata": {
        "id": "dw5ywdyXIj4s"
      },
      "execution_count": null,
      "outputs": []
    },
    {
      "cell_type": "code",
      "source": [
        "# !rm -rf './tensorboard/RNN'"
      ],
      "metadata": {
        "id": "4kmDBN-FIj4s"
      },
      "execution_count": null,
      "outputs": []
    },
    {
      "cell_type": "code",
      "source": [
        "history_4 = model_4.fit(train_data, \n",
        "            train_label, \n",
        "            validation_data = (val_data,val_label), \n",
        "            epochs=10, \n",
        "            callbacks=[create_tensorboard_callback('tensorboard','Bidirectional-LSTM')])"
      ],
      "metadata": {
        "colab": {
          "base_uri": "https://localhost:8080/"
        },
        "outputId": "0448bd68-a52f-4ba7-d052-c85b999d147c",
        "id": "NCWr2KYoIj4s"
      },
      "execution_count": null,
      "outputs": [
        {
          "output_type": "stream",
          "name": "stdout",
          "text": [
            "Saving TensorBoard log files to: tensorboard/Bidirectional-LSTM/20220831-192923\n",
            "Epoch 1/10\n",
            "215/215 [==============================] - 18s 45ms/step - loss: 0.1011 - accuracy: 0.9629 - val_loss: 1.1875 - val_accuracy: 0.7454\n",
            "Epoch 2/10\n",
            "215/215 [==============================] - 8s 37ms/step - loss: 0.0400 - accuracy: 0.9818 - val_loss: 1.4493 - val_accuracy: 0.7205\n",
            "Epoch 3/10\n",
            "215/215 [==============================] - 8s 38ms/step - loss: 0.0398 - accuracy: 0.9803 - val_loss: 1.3763 - val_accuracy: 0.7467\n",
            "Epoch 4/10\n",
            "215/215 [==============================] - 8s 38ms/step - loss: 0.0375 - accuracy: 0.9809 - val_loss: 1.6042 - val_accuracy: 0.7441\n",
            "Epoch 5/10\n",
            "215/215 [==============================] - 9s 44ms/step - loss: 0.0369 - accuracy: 0.9813 - val_loss: 1.8181 - val_accuracy: 0.7310\n",
            "Epoch 6/10\n",
            "215/215 [==============================] - 8s 37ms/step - loss: 0.0357 - accuracy: 0.9822 - val_loss: 1.6126 - val_accuracy: 0.7441\n",
            "Epoch 7/10\n",
            "215/215 [==============================] - 8s 37ms/step - loss: 0.0324 - accuracy: 0.9831 - val_loss: 1.6012 - val_accuracy: 0.7283\n",
            "Epoch 8/10\n",
            "215/215 [==============================] - 8s 37ms/step - loss: 0.0321 - accuracy: 0.9829 - val_loss: 1.9510 - val_accuracy: 0.7323\n",
            "Epoch 9/10\n",
            "215/215 [==============================] - 8s 38ms/step - loss: 0.0306 - accuracy: 0.9835 - val_loss: 1.9698 - val_accuracy: 0.7349\n",
            "Epoch 10/10\n",
            "215/215 [==============================] - 8s 37ms/step - loss: 0.0329 - accuracy: 0.9825 - val_loss: 1.5350 - val_accuracy: 0.7349\n"
          ]
        }
      ]
    },
    {
      "cell_type": "code",
      "source": [
        "model_4.evaluate(val_data,val_label)"
      ],
      "metadata": {
        "colab": {
          "base_uri": "https://localhost:8080/"
        },
        "outputId": "49021323-f193-42a0-b08e-1a388e1fb568",
        "id": "Hz81WvjzIj4s"
      },
      "execution_count": null,
      "outputs": [
        {
          "output_type": "stream",
          "name": "stdout",
          "text": [
            "24/24 [==============================] - 0s 10ms/step - loss: 1.5350 - accuracy: 0.7349\n"
          ]
        },
        {
          "output_type": "execute_result",
          "data": {
            "text/plain": [
              "[1.5350419282913208, 0.7349081635475159]"
            ]
          },
          "metadata": {},
          "execution_count": 69
        }
      ]
    },
    {
      "cell_type": "code",
      "source": [],
      "metadata": {
        "id": "HCKNG6feIj4t"
      },
      "execution_count": null,
      "outputs": []
    },
    {
      "cell_type": "markdown",
      "source": [
        "### custom tweets:"
      ],
      "metadata": {
        "id": "4ZxyGjzKIj4t"
      }
    },
    {
      "cell_type": "code",
      "source": [
        "tweets=['earthquake hit california minutes ago', \n",
        "        'my car on fire now', \n",
        "        'I need a blue car']"
      ],
      "metadata": {
        "id": "n16CzxO9Ij4t"
      },
      "execution_count": null,
      "outputs": []
    },
    {
      "cell_type": "code",
      "source": [
        "model_4.predict(tweets)"
      ],
      "metadata": {
        "colab": {
          "base_uri": "https://localhost:8080/"
        },
        "outputId": "d6e1f724-fb25-4eb2-f5f1-b460087de105",
        "id": "shnCstY6Ij4u"
      },
      "execution_count": null,
      "outputs": [
        {
          "output_type": "execute_result",
          "data": {
            "text/plain": [
              "array([[7.7287161e-01],\n",
              "       [4.7660515e-01],\n",
              "       [7.0527196e-04]], dtype=float32)"
            ]
          },
          "metadata": {},
          "execution_count": 71
        }
      ]
    },
    {
      "cell_type": "code",
      "source": [],
      "metadata": {
        "id": "vrSBDvF6BmG9"
      },
      "execution_count": null,
      "outputs": []
    },
    {
      "cell_type": "markdown",
      "source": [
        "## Analyze with Convolutional 1D model:"
      ],
      "metadata": {
        "id": "NGmhMl5XLRID"
      }
    },
    {
      "cell_type": "code",
      "source": [
        "inputs = tf.keras.layers.Input(shape= (1), dtype = tf.string)\n",
        "\n",
        "x = text_vectorizer(inputs)\n",
        "\n",
        "x = embedding(x)\n",
        "\n",
        "# x = tf.transpose(x , perm = [0,2,1])\n",
        "\n",
        "# print(x.shape)\n",
        "\n",
        "# x = tf.keras.layers.Flatten()(x)\n",
        "print(x.shape)\n",
        "\n",
        "x = tf.keras.layers.Conv1D(filters=64, kernel_size=3,padding= 'valid')(x)\n",
        "print(x.shape)\n",
        "x = tf.keras.layers.Conv1D(filters=128, kernel_size=3,padding= 'valid')(x)\n",
        "print(x.shape)\n",
        "\n",
        "x = tf.keras.layers.GlobalAveragePooling1D()(x)\n",
        "x = tf.keras.layers.Dense(16, activation='relu')(x)\n",
        "outputs = tf.keras.layers.Dense(1, activation='sigmoid')(x)\n",
        "\n",
        "model_5 = tf.keras.Model(inputs,outputs, name='Bidirectional-LSTM')"
      ],
      "metadata": {
        "colab": {
          "base_uri": "https://localhost:8080/"
        },
        "id": "m0_DjJQMLRIV",
        "outputId": "057047dc-0156-42c9-9398-ebd9c83b0904"
      },
      "execution_count": null,
      "outputs": [
        {
          "output_type": "stream",
          "name": "stdout",
          "text": [
            "(None, 15, 32)\n",
            "(None, 13, 64)\n",
            "(None, 11, 128)\n"
          ]
        }
      ]
    },
    {
      "cell_type": "code",
      "source": [
        "model_5.summary()"
      ],
      "metadata": {
        "colab": {
          "base_uri": "https://localhost:8080/"
        },
        "outputId": "eed9897b-b0c7-4b0a-908e-0a45ba8815a7",
        "id": "fuBsX9TqLRIV"
      },
      "execution_count": null,
      "outputs": [
        {
          "output_type": "stream",
          "name": "stdout",
          "text": [
            "Model: \"Bidirectional-LSTM\"\n",
            "_________________________________________________________________\n",
            " Layer (type)                Output Shape              Param #   \n",
            "=================================================================\n",
            " input_5 (InputLayer)        [(None, 1)]               0         \n",
            "                                                                 \n",
            " text_vectorization (TextVec  (None, 15)               0         \n",
            " torization)                                                     \n",
            "                                                                 \n",
            " embedding (Embedding)       (None, 15, 32)            320000    \n",
            "                                                                 \n",
            " conv1d (Conv1D)             (None, 13, 64)            6208      \n",
            "                                                                 \n",
            " conv1d_1 (Conv1D)           (None, 11, 128)           24704     \n",
            "                                                                 \n",
            " global_average_pooling1d_1   (None, 128)              0         \n",
            " (GlobalAveragePooling1D)                                        \n",
            "                                                                 \n",
            " dense_8 (Dense)             (None, 16)                2064      \n",
            "                                                                 \n",
            " dense_9 (Dense)             (None, 1)                 17        \n",
            "                                                                 \n",
            "=================================================================\n",
            "Total params: 352,993\n",
            "Trainable params: 352,993\n",
            "Non-trainable params: 0\n",
            "_________________________________________________________________\n"
          ]
        }
      ]
    },
    {
      "cell_type": "code",
      "source": [
        "model_5.compile(loss = tf.keras.losses.BinaryCrossentropy(),\n",
        "                 optimizer = tf.keras.optimizers.Adam(),\n",
        "                 metrics= ['accuracy'])"
      ],
      "metadata": {
        "id": "gZCydmCELRIW"
      },
      "execution_count": null,
      "outputs": []
    },
    {
      "cell_type": "code",
      "source": [
        "# !rm -rf './tensorboard/RNN'"
      ],
      "metadata": {
        "id": "4gOQ70YcLRIW"
      },
      "execution_count": null,
      "outputs": []
    },
    {
      "cell_type": "code",
      "source": [
        "history_5 = model_5.fit(train_data, \n",
        "            train_label, \n",
        "            validation_data = (val_data,val_label), \n",
        "            epochs=10, \n",
        "            callbacks=[create_tensorboard_callback('tensorboard','Bidirectional-LSTM')])"
      ],
      "metadata": {
        "colab": {
          "base_uri": "https://localhost:8080/"
        },
        "outputId": "7af67245-bd72-466c-9cc0-1b8cdb090676",
        "id": "q-hAiYEkLRIW"
      },
      "execution_count": null,
      "outputs": [
        {
          "output_type": "stream",
          "name": "stdout",
          "text": [
            "Saving TensorBoard log files to: tensorboard/Bidirectional-LSTM/20220831-193057\n",
            "Epoch 1/10\n",
            "215/215 [==============================] - 3s 12ms/step - loss: 0.1365 - accuracy: 0.9499 - val_loss: 0.9928 - val_accuracy: 0.7349\n",
            "Epoch 2/10\n",
            "215/215 [==============================] - 2s 11ms/step - loss: 0.0646 - accuracy: 0.9740 - val_loss: 1.2160 - val_accuracy: 0.7192\n",
            "Epoch 3/10\n",
            "215/215 [==============================] - 2s 11ms/step - loss: 0.0466 - accuracy: 0.9774 - val_loss: 1.4520 - val_accuracy: 0.7362\n",
            "Epoch 4/10\n",
            "215/215 [==============================] - 2s 11ms/step - loss: 0.0400 - accuracy: 0.9804 - val_loss: 1.6313 - val_accuracy: 0.7362\n",
            "Epoch 5/10\n",
            "215/215 [==============================] - 2s 10ms/step - loss: 0.0388 - accuracy: 0.9812 - val_loss: 1.8688 - val_accuracy: 0.7231\n",
            "Epoch 6/10\n",
            "215/215 [==============================] - 2s 11ms/step - loss: 0.0356 - accuracy: 0.9799 - val_loss: 1.9609 - val_accuracy: 0.7244\n",
            "Epoch 7/10\n",
            "215/215 [==============================] - 2s 11ms/step - loss: 0.0338 - accuracy: 0.9812 - val_loss: 2.3632 - val_accuracy: 0.7178\n",
            "Epoch 8/10\n",
            "215/215 [==============================] - 2s 11ms/step - loss: 0.0339 - accuracy: 0.9820 - val_loss: 2.2395 - val_accuracy: 0.7336\n",
            "Epoch 9/10\n",
            "215/215 [==============================] - 2s 10ms/step - loss: 0.0306 - accuracy: 0.9823 - val_loss: 2.6873 - val_accuracy: 0.7375\n",
            "Epoch 10/10\n",
            "215/215 [==============================] - 2s 11ms/step - loss: 0.0332 - accuracy: 0.9822 - val_loss: 2.6490 - val_accuracy: 0.7034\n"
          ]
        }
      ]
    },
    {
      "cell_type": "code",
      "source": [
        "model_5.evaluate(val_data,val_label)"
      ],
      "metadata": {
        "colab": {
          "base_uri": "https://localhost:8080/"
        },
        "outputId": "693cadde-f603-42f7-f4bd-83aa838a4988",
        "id": "-_9MOlsjLRIX"
      },
      "execution_count": null,
      "outputs": [
        {
          "output_type": "stream",
          "name": "stdout",
          "text": [
            "24/24 [==============================] - 0s 3ms/step - loss: 2.6490 - accuracy: 0.7034\n"
          ]
        },
        {
          "output_type": "execute_result",
          "data": {
            "text/plain": [
              "[2.6489670276641846, 0.7034120559692383]"
            ]
          },
          "metadata": {},
          "execution_count": 77
        }
      ]
    },
    {
      "cell_type": "code",
      "source": [],
      "metadata": {
        "id": "iGKX_POcLRIX"
      },
      "execution_count": null,
      "outputs": []
    },
    {
      "cell_type": "markdown",
      "source": [
        "### custom tweets:"
      ],
      "metadata": {
        "id": "4c3Rns-8LRIY"
      }
    },
    {
      "cell_type": "code",
      "source": [
        "tweets=['earthquake hit california minutes ago', \n",
        "        'my car on fire now', \n",
        "        'I need a blue car']"
      ],
      "metadata": {
        "id": "SjqL2o1ZLRIY"
      },
      "execution_count": null,
      "outputs": []
    },
    {
      "cell_type": "code",
      "source": [
        "model_5.predict(tweets)"
      ],
      "metadata": {
        "colab": {
          "base_uri": "https://localhost:8080/"
        },
        "outputId": "619f2805-344a-4478-843f-cb7c6dab964a",
        "id": "07qcheEHLRIY"
      },
      "execution_count": null,
      "outputs": [
        {
          "output_type": "stream",
          "name": "stderr",
          "text": [
            "WARNING:tensorflow:5 out of the last 5 calls to <function Model.make_predict_function.<locals>.predict_function at 0x7ff1ca380d40> triggered tf.function retracing. Tracing is expensive and the excessive number of tracings could be due to (1) creating @tf.function repeatedly in a loop, (2) passing tensors with different shapes, (3) passing Python objects instead of tensors. For (1), please define your @tf.function outside of the loop. For (2), @tf.function has experimental_relax_shapes=True option that relaxes argument shapes that can avoid unnecessary retracing. For (3), please refer to https://www.tensorflow.org/guide/function#controlling_retracing and https://www.tensorflow.org/api_docs/python/tf/function for  more details.\n"
          ]
        },
        {
          "output_type": "execute_result",
          "data": {
            "text/plain": [
              "array([[0.99974126],\n",
              "       [0.9929791 ],\n",
              "       [0.22827303]], dtype=float32)"
            ]
          },
          "metadata": {},
          "execution_count": 79
        }
      ]
    },
    {
      "cell_type": "code",
      "source": [],
      "metadata": {
        "id": "K2rwEa8G5yUc"
      },
      "execution_count": null,
      "outputs": []
    },
    {
      "cell_type": "markdown",
      "source": [
        "## Analyze with Universal Sentence Encoder tensorflow hub:"
      ],
      "metadata": {
        "id": "gmu0Y80qDc9-"
      }
    },
    {
      "cell_type": "code",
      "source": [
        "embed = hub.load(\"https://tfhub.dev/google/universal-sentence-encoder/4\")\n",
        "embed_sample = embed([\"The quick brown fox jumps over the lazy dog.\",\n",
        "                      \"I am a sentence for which I would like to get its embedding\"])\n",
        "\n",
        "print(embed_sample)\n",
        "\n",
        "# The following are example embedding output of 512 dimensions per sentence\n",
        "# Embedding for: The quick brown fox jumps over the lazy dog.\n",
        "# [-0.03133016 -0.06338634 -0.01607501, ...]\n",
        "# Embedding for: I am a sentence for which I would like to get its embedding.\n",
        "# [0.05080863 -0.0165243   0.01573782, ...]\n"
      ],
      "metadata": {
        "colab": {
          "base_uri": "https://localhost:8080/"
        },
        "id": "lB9_LFdtDyX_",
        "outputId": "c8a02b16-bd36-4faa-fdae-2b06503114dc"
      },
      "execution_count": null,
      "outputs": [
        {
          "output_type": "stream",
          "name": "stdout",
          "text": [
            "tf.Tensor(\n",
            "[[-0.03133017 -0.06338634 -0.01607501 ... -0.03242778 -0.0457574\n",
            "   0.05370456]\n",
            " [ 0.05080861 -0.01652434  0.01573779 ...  0.00976657  0.03170121\n",
            "   0.01788118]], shape=(2, 512), dtype=float32)\n"
          ]
        }
      ]
    },
    {
      "cell_type": "code",
      "source": [
        "embed(train_data)"
      ],
      "metadata": {
        "colab": {
          "base_uri": "https://localhost:8080/"
        },
        "id": "FcIC4W1ZEqO0",
        "outputId": "6b651a32-9a52-4088-e5e5-3642ab47350b"
      },
      "execution_count": null,
      "outputs": [
        {
          "output_type": "execute_result",
          "data": {
            "text/plain": [
              "<tf.Tensor: shape=(6851, 512), dtype=float32, numpy=\n",
              "array([[ 0.01178656, -0.00748094,  0.00952065, ...,  0.04002216,\n",
              "        -0.07293098,  0.01045   ],\n",
              "       [ 0.08340861, -0.03587737,  0.01278975, ..., -0.00764408,\n",
              "        -0.06952015, -0.08435119],\n",
              "       [ 0.03161547,  0.01725737, -0.00808266, ..., -0.03697908,\n",
              "         0.03299483, -0.04934364],\n",
              "       ...,\n",
              "       [-0.03393723, -0.06167451,  0.04978931, ..., -0.05219645,\n",
              "        -0.05812604, -0.0630734 ],\n",
              "       [ 0.0215332 ,  0.06060665, -0.07061633, ..., -0.04428503,\n",
              "        -0.00652964, -0.00850323],\n",
              "       [ 0.02649508, -0.05326023, -0.05051778, ..., -0.01227468,\n",
              "         0.01156288, -0.00953933]], dtype=float32)>"
            ]
          },
          "metadata": {},
          "execution_count": 81
        }
      ]
    },
    {
      "cell_type": "markdown",
      "source": [
        "### Hub layer is trainable:"
      ],
      "metadata": {
        "id": "yIPBh7qs7AwM"
      }
    },
    {
      "cell_type": "code",
      "source": [
        "encoder_layer = hub.KerasLayer(\"https://tfhub.dev/google/universal-sentence-encoder/4\",\n",
        "                               input_shape=[],\n",
        "                               trainable=True,\n",
        "                               dtype=tf.string,\n",
        "                               name= 'USE')"
      ],
      "metadata": {
        "id": "zr3l7T2rDc-A"
      },
      "execution_count": 27,
      "outputs": []
    },
    {
      "cell_type": "code",
      "source": [
        "#Functional API:\n",
        "\n",
        "# inputs = tf.keras.layers.Input(shape= [], dtype = tf.string)\n",
        "\n",
        "# x = encoder_layer(inputs)\n",
        "\n",
        "# x = tf.keras.layers.Dense(64, activation='relu')(x)\n",
        "# x = tf.keras.layers.Dense(32, activation='relu')(x)\n",
        "\n",
        "# outputs = tf.keras.layers.Dense(1, activation='sigmoid')(x)\n",
        "\n",
        "# model_6 = tf.keras.Model(inputs,outputs)"
      ],
      "metadata": {
        "id": "SABBjObK1zFp"
      },
      "execution_count": 198,
      "outputs": []
    },
    {
      "cell_type": "code",
      "source": [
        "model_6 = tf.keras.Sequential([\n",
        "    encoder_layer,\n",
        "    tf.keras.layers.Dense(64, activation='relu'),\n",
        "    tf.keras.layers.Dense(32, activation='relu'),\n",
        "    tf.keras.layers.Dense(1, activation='sigmoid')],\n",
        "    name = 'USE_pretrained_model'\n",
        ")"
      ],
      "metadata": {
        "id": "0GXP22NHR0MW"
      },
      "execution_count": 28,
      "outputs": []
    },
    {
      "cell_type": "code",
      "source": [
        "model_6.summary()"
      ],
      "metadata": {
        "colab": {
          "base_uri": "https://localhost:8080/"
        },
        "outputId": "8c73ef8a-0191-473f-8f45-5c80f7861647",
        "id": "u_uqdLqbDc-B"
      },
      "execution_count": 29,
      "outputs": [
        {
          "output_type": "stream",
          "name": "stdout",
          "text": [
            "Model: \"USE_pretrained_model\"\n",
            "_________________________________________________________________\n",
            " Layer (type)                Output Shape              Param #   \n",
            "=================================================================\n",
            " USE (KerasLayer)            (None, 512)               256797824 \n",
            "                                                                 \n",
            " dense (Dense)               (None, 64)                32832     \n",
            "                                                                 \n",
            " dense_1 (Dense)             (None, 32)                2080      \n",
            "                                                                 \n",
            " dense_2 (Dense)             (None, 1)                 33        \n",
            "                                                                 \n",
            "=================================================================\n",
            "Total params: 256,832,769\n",
            "Trainable params: 256,832,769\n",
            "Non-trainable params: 0\n",
            "_________________________________________________________________\n"
          ]
        }
      ]
    },
    {
      "cell_type": "code",
      "source": [
        "model_6.compile(loss = tf.keras.losses.BinaryCrossentropy(),\n",
        "                 optimizer = tf.keras.optimizers.Adam(),\n",
        "                 metrics= ['accuracy'])"
      ],
      "metadata": {
        "id": "cEVNRf99Dc-B"
      },
      "execution_count": 30,
      "outputs": []
    },
    {
      "cell_type": "code",
      "source": [
        "!nvidia-smi -L"
      ],
      "metadata": {
        "colab": {
          "base_uri": "https://localhost:8080/"
        },
        "id": "J6B2Duvz6DHV",
        "outputId": "17ebd94f-eba5-4a0e-cbd7-ac586956fecb"
      },
      "execution_count": 32,
      "outputs": [
        {
          "output_type": "stream",
          "name": "stdout",
          "text": [
            "GPU 0: Tesla T4 (UUID: GPU-449b88f3-d623-fd57-568c-4d8d417d17a9)\n"
          ]
        }
      ]
    },
    {
      "cell_type": "code",
      "source": [
        "from tensorflow.keras import mixed_precision\n",
        "\n",
        "policy = mixed_precision.Policy('mixed_float16')\n",
        "mixed_precision.set_global_policy(policy)"
      ],
      "metadata": {
        "id": "Fs75e7u96J-q"
      },
      "execution_count": 33,
      "outputs": []
    },
    {
      "cell_type": "code",
      "source": [
        "#USE trainable:\n",
        "\n",
        "model_6.fit(train_data, \n",
        "            train_label, \n",
        "            validation_data = (val_data,val_label), \n",
        "            epochs=10)"
      ],
      "metadata": {
        "colab": {
          "base_uri": "https://localhost:8080/"
        },
        "id": "-0y4uiBc4S4p",
        "outputId": "bd052aeb-bfbd-4df8-d54e-db6a7c2d7f84"
      },
      "execution_count": 34,
      "outputs": [
        {
          "output_type": "stream",
          "name": "stdout",
          "text": [
            "Epoch 1/10\n",
            "215/215 [==============================] - 33s 155ms/step - loss: 0.4246 - accuracy: 0.8154 - val_loss: 0.3991 - val_accuracy: 0.8281\n",
            "Epoch 2/10\n",
            "215/215 [==============================] - 33s 153ms/step - loss: 0.2146 - accuracy: 0.9218 - val_loss: 0.5290 - val_accuracy: 0.7900\n",
            "Epoch 3/10\n",
            "215/215 [==============================] - 33s 153ms/step - loss: 0.0730 - accuracy: 0.9747 - val_loss: 0.5724 - val_accuracy: 0.7953\n",
            "Epoch 4/10\n",
            "215/215 [==============================] - 34s 156ms/step - loss: 0.0390 - accuracy: 0.9848 - val_loss: 0.5870 - val_accuracy: 0.8163\n",
            "Epoch 5/10\n",
            "215/215 [==============================] - 34s 159ms/step - loss: 0.0266 - accuracy: 0.9892 - val_loss: 0.6178 - val_accuracy: 0.7913\n",
            "Epoch 6/10\n",
            "215/215 [==============================] - 33s 152ms/step - loss: 0.0212 - accuracy: 0.9910 - val_loss: 0.6030 - val_accuracy: 0.8005\n",
            "Epoch 7/10\n",
            "215/215 [==============================] - 33s 154ms/step - loss: 0.0162 - accuracy: 0.9928 - val_loss: 0.7527 - val_accuracy: 0.7717\n",
            "Epoch 8/10\n",
            "215/215 [==============================] - 33s 154ms/step - loss: 0.0146 - accuracy: 0.9930 - val_loss: 0.7226 - val_accuracy: 0.7940\n",
            "Epoch 9/10\n",
            "215/215 [==============================] - 33s 153ms/step - loss: 0.0122 - accuracy: 0.9939 - val_loss: 0.9345 - val_accuracy: 0.7703\n",
            "Epoch 10/10\n",
            "215/215 [==============================] - 35s 161ms/step - loss: 0.0085 - accuracy: 0.9947 - val_loss: 0.9924 - val_accuracy: 0.7953\n"
          ]
        },
        {
          "output_type": "execute_result",
          "data": {
            "text/plain": [
              "<keras.callbacks.History at 0x7efc0e0e6a50>"
            ]
          },
          "metadata": {},
          "execution_count": 34
        }
      ]
    },
    {
      "cell_type": "code",
      "source": [
        "model_6.evaluate(val_data,val_label)"
      ],
      "metadata": {
        "colab": {
          "base_uri": "https://localhost:8080/"
        },
        "id": "wt-5cDyX7_M5",
        "outputId": "fd387bed-e97e-4479-d448-a62878c01419"
      },
      "execution_count": 35,
      "outputs": [
        {
          "output_type": "stream",
          "name": "stdout",
          "text": [
            "24/24 [==============================] - 1s 22ms/step - loss: 0.9924 - accuracy: 0.7953\n"
          ]
        },
        {
          "output_type": "execute_result",
          "data": {
            "text/plain": [
              "[0.9923694133758545, 0.7952755689620972]"
            ]
          },
          "metadata": {},
          "execution_count": 35
        }
      ]
    },
    {
      "cell_type": "code",
      "source": [],
      "metadata": {
        "id": "UfRiDoG58ANL"
      },
      "execution_count": null,
      "outputs": []
    },
    {
      "cell_type": "markdown",
      "source": [
        "### Hub layer Not trainable:"
      ],
      "metadata": {
        "id": "EoGMA2Qt62WR"
      }
    },
    {
      "cell_type": "code",
      "source": [
        "encoder_layer = hub.KerasLayer(\"https://tfhub.dev/google/universal-sentence-encoder/4\",\n",
        "                               input_shape=[],\n",
        "                               trainable=False,\n",
        "                               dtype=tf.string,\n",
        "                               name= 'USE')"
      ],
      "metadata": {
        "id": "A2HqGpc06xaz"
      },
      "execution_count": 47,
      "outputs": []
    },
    {
      "cell_type": "code",
      "source": [
        "model_6 = tf.keras.Sequential([\n",
        "    encoder_layer,\n",
        "    tf.keras.layers.Dense(64, activation='relu'),\n",
        "    tf.keras.layers.Dense(32, activation='relu'),\n",
        "    tf.keras.layers.Dense(1, activation='sigmoid')],\n",
        "    name = 'USE_pretrained_model'\n",
        ")"
      ],
      "metadata": {
        "id": "3uy1dbAz6xa1"
      },
      "execution_count": 48,
      "outputs": []
    },
    {
      "cell_type": "code",
      "source": [
        "model_6.summary()"
      ],
      "metadata": {
        "colab": {
          "base_uri": "https://localhost:8080/"
        },
        "outputId": "4b043340-d8a8-4bf4-a640-312e2ae0a864",
        "id": "83DQGqmk6xa2"
      },
      "execution_count": 49,
      "outputs": [
        {
          "output_type": "stream",
          "name": "stdout",
          "text": [
            "Model: \"USE_pretrained_model\"\n",
            "_________________________________________________________________\n",
            " Layer (type)                Output Shape              Param #   \n",
            "=================================================================\n",
            " USE (KerasLayer)            (None, 512)               256797824 \n",
            "                                                                 \n",
            " dense_6 (Dense)             (None, 64)                32832     \n",
            "                                                                 \n",
            " dense_7 (Dense)             (None, 32)                2080      \n",
            "                                                                 \n",
            " dense_8 (Dense)             (None, 1)                 33        \n",
            "                                                                 \n",
            "=================================================================\n",
            "Total params: 256,832,769\n",
            "Trainable params: 34,945\n",
            "Non-trainable params: 256,797,824\n",
            "_________________________________________________________________\n"
          ]
        }
      ]
    },
    {
      "cell_type": "code",
      "source": [
        "model_6.compile(loss = tf.keras.losses.BinaryCrossentropy(),\n",
        "                 optimizer = tf.keras.optimizers.Adam(),\n",
        "                 metrics= ['accuracy'])"
      ],
      "metadata": {
        "id": "R2QDW-Ve6xa3"
      },
      "execution_count": 50,
      "outputs": []
    },
    {
      "cell_type": "code",
      "source": [
        "# !rm -rf './tensorboard/USE_pretrained_model'\n",
        "# !rm -rf './checkpoint/'"
      ],
      "metadata": {
        "id": "cdBWwDr3Dc-D"
      },
      "execution_count": 51,
      "outputs": []
    },
    {
      "cell_type": "code",
      "source": [
        "checkpointPath='./checkpoint/USE'\n",
        "modelCkechpoint = tf.keras.callbacks.ModelCheckpoint(checkpointPath, \n",
        "                                                      monitor='val_accuracy',\n",
        "                                                      verbose=1,\n",
        "                                                      save_best_only=True,\n",
        "                                                      save_weights_only=True)"
      ],
      "metadata": {
        "id": "rgZcshKH7ZCN"
      },
      "execution_count": 52,
      "outputs": []
    },
    {
      "cell_type": "code",
      "source": [
        "modelEarlystop = tf.keras.callbacks.EarlyStopping(\n",
        "                                                monitor='val_accuracy',\n",
        "                                                min_delta=0,\n",
        "                                                patience=15,\n",
        "                                                verbose=1)"
      ],
      "metadata": {
        "id": "tGvKlyZQ9ON9"
      },
      "execution_count": 53,
      "outputs": []
    },
    {
      "cell_type": "code",
      "source": [
        "history_6 = model_6.fit(train_data, \n",
        "            train_label, \n",
        "            validation_data = (val_data,val_label), \n",
        "            epochs=100, \n",
        "            callbacks=[create_tensorboard_callback('tensorboard','USE_pretrained_model'),\n",
        "                       modelCkechpoint,\n",
        "                       modelEarlystop])"
      ],
      "metadata": {
        "colab": {
          "base_uri": "https://localhost:8080/"
        },
        "outputId": "7a3e8af0-dfa5-4763-d937-ca3c23793f00",
        "id": "HE0t3s-rDc-E"
      },
      "execution_count": 54,
      "outputs": [
        {
          "output_type": "stream",
          "name": "stdout",
          "text": [
            "Saving TensorBoard log files to: tensorboard/USE_pretrained_model/20220901-073300\n",
            "Epoch 1/100\n",
            "214/215 [============================>.] - ETA: 0s - loss: 0.4873 - accuracy: 0.7903\n",
            "Epoch 1: val_accuracy improved from -inf to 0.81627, saving model to ./checkpoint/USE\n",
            "215/215 [==============================] - 18s 33ms/step - loss: 0.4873 - accuracy: 0.7902 - val_loss: 0.4117 - val_accuracy: 0.8163\n",
            "Epoch 2/100\n",
            "214/215 [============================>.] - ETA: 0s - loss: 0.4046 - accuracy: 0.8229\n",
            "Epoch 2: val_accuracy improved from 0.81627 to 0.82546, saving model to ./checkpoint/USE\n",
            "215/215 [==============================] - 7s 31ms/step - loss: 0.4045 - accuracy: 0.8229 - val_loss: 0.3981 - val_accuracy: 0.8255\n",
            "Epoch 3/100\n",
            "213/215 [============================>.] - ETA: 0s - loss: 0.3878 - accuracy: 0.8344\n",
            "Epoch 3: val_accuracy did not improve from 0.82546\n",
            "215/215 [==============================] - 3s 12ms/step - loss: 0.3877 - accuracy: 0.8343 - val_loss: 0.3997 - val_accuracy: 0.8202\n",
            "Epoch 4/100\n",
            "215/215 [==============================] - ETA: 0s - loss: 0.3625 - accuracy: 0.8447\n",
            "Epoch 4: val_accuracy did not improve from 0.82546\n",
            "215/215 [==============================] - 3s 12ms/step - loss: 0.3625 - accuracy: 0.8447 - val_loss: 0.3953 - val_accuracy: 0.8255\n",
            "Epoch 5/100\n",
            "215/215 [==============================] - ETA: 0s - loss: 0.3417 - accuracy: 0.8543\n",
            "Epoch 5: val_accuracy did not improve from 0.82546\n",
            "215/215 [==============================] - 3s 12ms/step - loss: 0.3417 - accuracy: 0.8543 - val_loss: 0.4021 - val_accuracy: 0.8241\n",
            "Epoch 6/100\n",
            "214/215 [============================>.] - ETA: 0s - loss: 0.3124 - accuracy: 0.8689\n",
            "Epoch 6: val_accuracy did not improve from 0.82546\n",
            "215/215 [==============================] - 3s 12ms/step - loss: 0.3124 - accuracy: 0.8689 - val_loss: 0.4202 - val_accuracy: 0.8150\n",
            "Epoch 7/100\n",
            "211/215 [============================>.] - ETA: 0s - loss: 0.2821 - accuracy: 0.8863\n",
            "Epoch 7: val_accuracy did not improve from 0.82546\n",
            "215/215 [==============================] - 3s 12ms/step - loss: 0.2824 - accuracy: 0.8864 - val_loss: 0.4348 - val_accuracy: 0.8123\n",
            "Epoch 8/100\n",
            "214/215 [============================>.] - ETA: 0s - loss: 0.2552 - accuracy: 0.8982\n",
            "Epoch 8: val_accuracy did not improve from 0.82546\n",
            "215/215 [==============================] - 3s 12ms/step - loss: 0.2552 - accuracy: 0.8983 - val_loss: 0.4688 - val_accuracy: 0.8018\n",
            "Epoch 9/100\n",
            "213/215 [============================>.] - ETA: 0s - loss: 0.2268 - accuracy: 0.9130\n",
            "Epoch 9: val_accuracy did not improve from 0.82546\n",
            "215/215 [==============================] - 3s 12ms/step - loss: 0.2264 - accuracy: 0.9130 - val_loss: 0.4866 - val_accuracy: 0.8058\n",
            "Epoch 10/100\n",
            "213/215 [============================>.] - ETA: 0s - loss: 0.1955 - accuracy: 0.9274\n",
            "Epoch 10: val_accuracy did not improve from 0.82546\n",
            "215/215 [==============================] - 3s 12ms/step - loss: 0.1957 - accuracy: 0.9272 - val_loss: 0.5186 - val_accuracy: 0.7808\n",
            "Epoch 11/100\n",
            "213/215 [============================>.] - ETA: 0s - loss: 0.1682 - accuracy: 0.9425\n",
            "Epoch 11: val_accuracy did not improve from 0.82546\n",
            "215/215 [==============================] - 3s 13ms/step - loss: 0.1684 - accuracy: 0.9422 - val_loss: 0.5484 - val_accuracy: 0.7953\n",
            "Epoch 12/100\n",
            "214/215 [============================>.] - ETA: 0s - loss: 0.1472 - accuracy: 0.9489\n",
            "Epoch 12: val_accuracy did not improve from 0.82546\n",
            "215/215 [==============================] - 3s 12ms/step - loss: 0.1474 - accuracy: 0.9488 - val_loss: 0.5998 - val_accuracy: 0.7927\n",
            "Epoch 13/100\n",
            "213/215 [============================>.] - ETA: 0s - loss: 0.1283 - accuracy: 0.9573\n",
            "Epoch 13: val_accuracy did not improve from 0.82546\n",
            "215/215 [==============================] - 3s 12ms/step - loss: 0.1283 - accuracy: 0.9574 - val_loss: 0.6406 - val_accuracy: 0.7966\n",
            "Epoch 14/100\n",
            "214/215 [============================>.] - ETA: 0s - loss: 0.1072 - accuracy: 0.9650\n",
            "Epoch 14: val_accuracy did not improve from 0.82546\n",
            "215/215 [==============================] - 3s 12ms/step - loss: 0.1072 - accuracy: 0.9650 - val_loss: 0.6918 - val_accuracy: 0.7940\n",
            "Epoch 15/100\n",
            "212/215 [============================>.] - ETA: 0s - loss: 0.0958 - accuracy: 0.9704\n",
            "Epoch 15: val_accuracy did not improve from 0.82546\n",
            "215/215 [==============================] - 3s 12ms/step - loss: 0.0960 - accuracy: 0.9702 - val_loss: 0.7277 - val_accuracy: 0.7848\n",
            "Epoch 16/100\n",
            "214/215 [============================>.] - ETA: 0s - loss: 0.0848 - accuracy: 0.9737\n",
            "Epoch 16: val_accuracy did not improve from 0.82546\n",
            "215/215 [==============================] - 3s 12ms/step - loss: 0.0848 - accuracy: 0.9737 - val_loss: 0.7628 - val_accuracy: 0.7861\n",
            "Epoch 17/100\n",
            "212/215 [============================>.] - ETA: 0s - loss: 0.0757 - accuracy: 0.9760\n",
            "Epoch 17: val_accuracy did not improve from 0.82546\n",
            "215/215 [==============================] - 3s 12ms/step - loss: 0.0757 - accuracy: 0.9759 - val_loss: 0.8037 - val_accuracy: 0.7756\n",
            "Epoch 17: early stopping\n"
          ]
        }
      ]
    },
    {
      "cell_type": "code",
      "source": [
        "model_6.evaluate(val_data,val_label)"
      ],
      "metadata": {
        "colab": {
          "base_uri": "https://localhost:8080/"
        },
        "id": "xOgMVoeNDc-E",
        "outputId": "0c6d5ac0-3ef1-4100-b05c-cc9c1c7d56bd"
      },
      "execution_count": 55,
      "outputs": [
        {
          "output_type": "stream",
          "name": "stdout",
          "text": [
            "24/24 [==============================] - 0s 10ms/step - loss: 0.8037 - accuracy: 0.7756\n"
          ]
        },
        {
          "output_type": "execute_result",
          "data": {
            "text/plain": [
              "[0.8036916851997375, 0.7755905389785767]"
            ]
          },
          "metadata": {},
          "execution_count": 55
        }
      ]
    },
    {
      "cell_type": "markdown",
      "source": [
        "## Loading Model that best classified val_data:"
      ],
      "metadata": {
        "id": "LxmDt9dR_Zf1"
      }
    },
    {
      "cell_type": "code",
      "source": [
        "best_model = tf.keras.models.clone_model(model_6)\n",
        "best_model.load_weights(checkpointPath)"
      ],
      "metadata": {
        "colab": {
          "base_uri": "https://localhost:8080/"
        },
        "id": "JTIFfunB-WpL",
        "outputId": "6f482f44-b27a-4d83-e497-2432f7818385"
      },
      "execution_count": 58,
      "outputs": [
        {
          "output_type": "execute_result",
          "data": {
            "text/plain": [
              "<tensorflow.python.training.tracking.util.CheckpointLoadStatus at 0x7efd13a87c50>"
            ]
          },
          "metadata": {},
          "execution_count": 58
        }
      ]
    },
    {
      "cell_type": "code",
      "source": [
        "best_model.summary()"
      ],
      "metadata": {
        "colab": {
          "base_uri": "https://localhost:8080/"
        },
        "id": "Cn6d6whu_NHx",
        "outputId": "d39893a8-0ef4-46ec-a901-b398149486a0"
      },
      "execution_count": 60,
      "outputs": [
        {
          "output_type": "stream",
          "name": "stdout",
          "text": [
            "Model: \"USE_pretrained_model\"\n",
            "_________________________________________________________________\n",
            " Layer (type)                Output Shape              Param #   \n",
            "=================================================================\n",
            " USE (KerasLayer)            (None, 512)               256797824 \n",
            "                                                                 \n",
            " dense_6 (Dense)             (None, 64)                32832     \n",
            "                                                                 \n",
            " dense_7 (Dense)             (None, 32)                2080      \n",
            "                                                                 \n",
            " dense_8 (Dense)             (None, 1)                 33        \n",
            "                                                                 \n",
            "=================================================================\n",
            "Total params: 256,832,769\n",
            "Trainable params: 34,945\n",
            "Non-trainable params: 256,797,824\n",
            "_________________________________________________________________\n"
          ]
        }
      ]
    },
    {
      "cell_type": "code",
      "source": [
        "best_model.compile(loss = tf.keras.losses.BinaryCrossentropy(),\n",
        "                 optimizer = tf.keras.optimizers.Adam(),\n",
        "                 metrics= ['accuracy'])"
      ],
      "metadata": {
        "id": "U-zNMeLS_MBW"
      },
      "execution_count": 61,
      "outputs": []
    },
    {
      "cell_type": "code",
      "source": [
        "best_model.evaluate(val_data,val_label)"
      ],
      "metadata": {
        "colab": {
          "base_uri": "https://localhost:8080/"
        },
        "id": "ZWL6LI_d-z0c",
        "outputId": "b5527bf5-12e7-428a-e462-8985ad770dab"
      },
      "execution_count": 62,
      "outputs": [
        {
          "output_type": "stream",
          "name": "stdout",
          "text": [
            "24/24 [==============================] - 1s 10ms/step - loss: 0.3981 - accuracy: 0.8255\n"
          ]
        },
        {
          "output_type": "execute_result",
          "data": {
            "text/plain": [
              "[0.3980754613876343, 0.8254593014717102]"
            ]
          },
          "metadata": {},
          "execution_count": 62
        }
      ]
    },
    {
      "cell_type": "markdown",
      "source": [
        "### custom tweets:"
      ],
      "metadata": {
        "id": "-48OPa4qDc-F"
      }
    },
    {
      "cell_type": "code",
      "source": [
        "tweets=['earthquake hit california minutes ago', \n",
        "        'my car on fire now', \n",
        "        'I need a blue car']"
      ],
      "metadata": {
        "id": "AZY-v-KVDc-G"
      },
      "execution_count": 63,
      "outputs": []
    },
    {
      "cell_type": "code",
      "source": [
        "best_model.predict(tweets)"
      ],
      "metadata": {
        "colab": {
          "base_uri": "https://localhost:8080/"
        },
        "id": "Lb9y7ZHrDc-H",
        "outputId": "8a4889b9-cd22-4cc7-fe5e-4479f8cd6562"
      },
      "execution_count": 64,
      "outputs": [
        {
          "output_type": "execute_result",
          "data": {
            "text/plain": [
              "array([[0.9653 ],\n",
              "       [0.7324 ],\n",
              "       [0.09314]], dtype=float16)"
            ]
          },
          "metadata": {},
          "execution_count": 64
        }
      ]
    },
    {
      "cell_type": "markdown",
      "source": [
        "## Finding most wrong predicted tweets:"
      ],
      "metadata": {
        "id": "nq1ne7XomPWz"
      }
    },
    {
      "cell_type": "code",
      "source": [
        "train_data"
      ],
      "metadata": {
        "colab": {
          "base_uri": "https://localhost:8080/"
        },
        "id": "QG3aEZj8PBoC",
        "outputId": "86273d52-4f42-436e-e5a9-dde8e41be0a8"
      },
      "execution_count": 77,
      "outputs": [
        {
          "output_type": "execute_result",
          "data": {
            "text/plain": [
              "array([\"'McFadden Reportedly to Test Hamstring Thursday' via @TeamStream http://t.co/jWq4KvJH2j\",\n",
              "       'w--=-=-=-[ NEMA warns Nigerians to prepare for drought http://t.co/5uoOPhSqU3',\n",
              "       \"When I was cooking earlier I got electrocuted some crucial ?????? now I'm psychic lol\",\n",
              "       ...,\n",
              "       'Omron HEM-712C Automatic Blood Pressure Monitor STANDARD AND LARGE BP CUFFS http://t.co/gJBAInQWN9 http://t.co/jPhgpL1c5x',\n",
              "       'Officials say a quarantine is in place at an Alabama home over a possible Ebola case after developing symptoms... http://t.co/rqKK15uhEY',\n",
              "       'I moved to England five years ago today. What a whirlwind of time it has been! http://t.co/eaSlGeA1B7'],\n",
              "      dtype=object)"
            ]
          },
          "metadata": {},
          "execution_count": 77
        }
      ]
    },
    {
      "cell_type": "code",
      "source": [
        "train_label"
      ],
      "metadata": {
        "colab": {
          "base_uri": "https://localhost:8080/"
        },
        "id": "2L3kIrSFPGon",
        "outputId": "e2ed5a06-4f2d-49f4-923e-fbd17888a20e"
      },
      "execution_count": 66,
      "outputs": [
        {
          "output_type": "execute_result",
          "data": {
            "text/plain": [
              "array([0, 1, 0, ..., 0, 1, 1])"
            ]
          },
          "metadata": {},
          "execution_count": 66
        }
      ]
    },
    {
      "cell_type": "code",
      "source": [
        "pred_probs = np.squeeze(best_model.predict(train_data))\n",
        "print(pred_probs)\n",
        "pred_label = np.squeeze(np.round(pred_probs))\n",
        "pred_label"
      ],
      "metadata": {
        "colab": {
          "base_uri": "https://localhost:8080/"
        },
        "id": "OUtZvEvSPNF4",
        "outputId": "9704686b-aed2-4721-a94b-f918d6ed1058"
      },
      "execution_count": 67,
      "outputs": [
        {
          "output_type": "stream",
          "name": "stdout",
          "text": [
            "[0.2227 0.8965 0.1377 ... 0.1289 0.9526 0.571 ]\n"
          ]
        },
        {
          "output_type": "execute_result",
          "data": {
            "text/plain": [
              "array([0., 1., 0., ..., 0., 1., 1.], dtype=float16)"
            ]
          },
          "metadata": {},
          "execution_count": 67
        }
      ]
    },
    {
      "cell_type": "code",
      "source": [
        "comparison_table = pd.DataFrame({'tweets':train_data,\n",
        "              'target': train_label,\n",
        "              'pred': pred_label,\n",
        "              'prob': pred_probs})\n",
        "\n",
        "comparison_table"
      ],
      "metadata": {
        "colab": {
          "base_uri": "https://localhost:8080/",
          "height": 424
        },
        "id": "ye1XJcuqPSfY",
        "outputId": "85483752-4b5a-4fe7-c22c-a46047b5691a"
      },
      "execution_count": 68,
      "outputs": [
        {
          "output_type": "execute_result",
          "data": {
            "text/plain": [
              "                                                 tweets  target  pred  \\\n",
              "0     'McFadden Reportedly to Test Hamstring Thursda...       0   0.0   \n",
              "1     w--=-=-=-[ NEMA warns Nigerians to prepare for...       1   1.0   \n",
              "2     When I was cooking earlier I got electrocuted ...       0   0.0   \n",
              "3                  I'm On Fire.  http://t.co/WATsmxYTVa       0   0.0   \n",
              "4     More than 40 families affected by the fatal ou...       1   1.0   \n",
              "...                                                 ...     ...   ...   \n",
              "6846  @Eganator2000 There aren't many Obliteration s...       0   0.0   \n",
              "6847  just had a panic attack bc I don't have enough...       0   0.0   \n",
              "6848  Omron HEM-712C Automatic Blood Pressure Monito...       0   0.0   \n",
              "6849  Officials say a quarantine is in place at an A...       1   1.0   \n",
              "6850  I moved to England five years ago today. What ...       1   1.0   \n",
              "\n",
              "          prob  \n",
              "0     0.222656  \n",
              "1     0.896484  \n",
              "2     0.137695  \n",
              "3     0.309082  \n",
              "4     0.904785  \n",
              "...        ...  \n",
              "6846  0.067566  \n",
              "6847  0.077271  \n",
              "6848  0.128906  \n",
              "6849  0.952637  \n",
              "6850  0.570801  \n",
              "\n",
              "[6851 rows x 4 columns]"
            ],
            "text/html": [
              "\n",
              "  <div id=\"df-ed535ea0-6c79-4682-80e7-af7c28ba3013\">\n",
              "    <div class=\"colab-df-container\">\n",
              "      <div>\n",
              "<style scoped>\n",
              "    .dataframe tbody tr th:only-of-type {\n",
              "        vertical-align: middle;\n",
              "    }\n",
              "\n",
              "    .dataframe tbody tr th {\n",
              "        vertical-align: top;\n",
              "    }\n",
              "\n",
              "    .dataframe thead th {\n",
              "        text-align: right;\n",
              "    }\n",
              "</style>\n",
              "<table border=\"1\" class=\"dataframe\">\n",
              "  <thead>\n",
              "    <tr style=\"text-align: right;\">\n",
              "      <th></th>\n",
              "      <th>tweets</th>\n",
              "      <th>target</th>\n",
              "      <th>pred</th>\n",
              "      <th>prob</th>\n",
              "    </tr>\n",
              "  </thead>\n",
              "  <tbody>\n",
              "    <tr>\n",
              "      <th>0</th>\n",
              "      <td>'McFadden Reportedly to Test Hamstring Thursda...</td>\n",
              "      <td>0</td>\n",
              "      <td>0.0</td>\n",
              "      <td>0.222656</td>\n",
              "    </tr>\n",
              "    <tr>\n",
              "      <th>1</th>\n",
              "      <td>w--=-=-=-[ NEMA warns Nigerians to prepare for...</td>\n",
              "      <td>1</td>\n",
              "      <td>1.0</td>\n",
              "      <td>0.896484</td>\n",
              "    </tr>\n",
              "    <tr>\n",
              "      <th>2</th>\n",
              "      <td>When I was cooking earlier I got electrocuted ...</td>\n",
              "      <td>0</td>\n",
              "      <td>0.0</td>\n",
              "      <td>0.137695</td>\n",
              "    </tr>\n",
              "    <tr>\n",
              "      <th>3</th>\n",
              "      <td>I'm On Fire.  http://t.co/WATsmxYTVa</td>\n",
              "      <td>0</td>\n",
              "      <td>0.0</td>\n",
              "      <td>0.309082</td>\n",
              "    </tr>\n",
              "    <tr>\n",
              "      <th>4</th>\n",
              "      <td>More than 40 families affected by the fatal ou...</td>\n",
              "      <td>1</td>\n",
              "      <td>1.0</td>\n",
              "      <td>0.904785</td>\n",
              "    </tr>\n",
              "    <tr>\n",
              "      <th>...</th>\n",
              "      <td>...</td>\n",
              "      <td>...</td>\n",
              "      <td>...</td>\n",
              "      <td>...</td>\n",
              "    </tr>\n",
              "    <tr>\n",
              "      <th>6846</th>\n",
              "      <td>@Eganator2000 There aren't many Obliteration s...</td>\n",
              "      <td>0</td>\n",
              "      <td>0.0</td>\n",
              "      <td>0.067566</td>\n",
              "    </tr>\n",
              "    <tr>\n",
              "      <th>6847</th>\n",
              "      <td>just had a panic attack bc I don't have enough...</td>\n",
              "      <td>0</td>\n",
              "      <td>0.0</td>\n",
              "      <td>0.077271</td>\n",
              "    </tr>\n",
              "    <tr>\n",
              "      <th>6848</th>\n",
              "      <td>Omron HEM-712C Automatic Blood Pressure Monito...</td>\n",
              "      <td>0</td>\n",
              "      <td>0.0</td>\n",
              "      <td>0.128906</td>\n",
              "    </tr>\n",
              "    <tr>\n",
              "      <th>6849</th>\n",
              "      <td>Officials say a quarantine is in place at an A...</td>\n",
              "      <td>1</td>\n",
              "      <td>1.0</td>\n",
              "      <td>0.952637</td>\n",
              "    </tr>\n",
              "    <tr>\n",
              "      <th>6850</th>\n",
              "      <td>I moved to England five years ago today. What ...</td>\n",
              "      <td>1</td>\n",
              "      <td>1.0</td>\n",
              "      <td>0.570801</td>\n",
              "    </tr>\n",
              "  </tbody>\n",
              "</table>\n",
              "<p>6851 rows × 4 columns</p>\n",
              "</div>\n",
              "      <button class=\"colab-df-convert\" onclick=\"convertToInteractive('df-ed535ea0-6c79-4682-80e7-af7c28ba3013')\"\n",
              "              title=\"Convert this dataframe to an interactive table.\"\n",
              "              style=\"display:none;\">\n",
              "        \n",
              "  <svg xmlns=\"http://www.w3.org/2000/svg\" height=\"24px\"viewBox=\"0 0 24 24\"\n",
              "       width=\"24px\">\n",
              "    <path d=\"M0 0h24v24H0V0z\" fill=\"none\"/>\n",
              "    <path d=\"M18.56 5.44l.94 2.06.94-2.06 2.06-.94-2.06-.94-.94-2.06-.94 2.06-2.06.94zm-11 1L8.5 8.5l.94-2.06 2.06-.94-2.06-.94L8.5 2.5l-.94 2.06-2.06.94zm10 10l.94 2.06.94-2.06 2.06-.94-2.06-.94-.94-2.06-.94 2.06-2.06.94z\"/><path d=\"M17.41 7.96l-1.37-1.37c-.4-.4-.92-.59-1.43-.59-.52 0-1.04.2-1.43.59L10.3 9.45l-7.72 7.72c-.78.78-.78 2.05 0 2.83L4 21.41c.39.39.9.59 1.41.59.51 0 1.02-.2 1.41-.59l7.78-7.78 2.81-2.81c.8-.78.8-2.07 0-2.86zM5.41 20L4 18.59l7.72-7.72 1.47 1.35L5.41 20z\"/>\n",
              "  </svg>\n",
              "      </button>\n",
              "      \n",
              "  <style>\n",
              "    .colab-df-container {\n",
              "      display:flex;\n",
              "      flex-wrap:wrap;\n",
              "      gap: 12px;\n",
              "    }\n",
              "\n",
              "    .colab-df-convert {\n",
              "      background-color: #E8F0FE;\n",
              "      border: none;\n",
              "      border-radius: 50%;\n",
              "      cursor: pointer;\n",
              "      display: none;\n",
              "      fill: #1967D2;\n",
              "      height: 32px;\n",
              "      padding: 0 0 0 0;\n",
              "      width: 32px;\n",
              "    }\n",
              "\n",
              "    .colab-df-convert:hover {\n",
              "      background-color: #E2EBFA;\n",
              "      box-shadow: 0px 1px 2px rgba(60, 64, 67, 0.3), 0px 1px 3px 1px rgba(60, 64, 67, 0.15);\n",
              "      fill: #174EA6;\n",
              "    }\n",
              "\n",
              "    [theme=dark] .colab-df-convert {\n",
              "      background-color: #3B4455;\n",
              "      fill: #D2E3FC;\n",
              "    }\n",
              "\n",
              "    [theme=dark] .colab-df-convert:hover {\n",
              "      background-color: #434B5C;\n",
              "      box-shadow: 0px 1px 3px 1px rgba(0, 0, 0, 0.15);\n",
              "      filter: drop-shadow(0px 1px 2px rgba(0, 0, 0, 0.3));\n",
              "      fill: #FFFFFF;\n",
              "    }\n",
              "  </style>\n",
              "\n",
              "      <script>\n",
              "        const buttonEl =\n",
              "          document.querySelector('#df-ed535ea0-6c79-4682-80e7-af7c28ba3013 button.colab-df-convert');\n",
              "        buttonEl.style.display =\n",
              "          google.colab.kernel.accessAllowed ? 'block' : 'none';\n",
              "\n",
              "        async function convertToInteractive(key) {\n",
              "          const element = document.querySelector('#df-ed535ea0-6c79-4682-80e7-af7c28ba3013');\n",
              "          const dataTable =\n",
              "            await google.colab.kernel.invokeFunction('convertToInteractive',\n",
              "                                                     [key], {});\n",
              "          if (!dataTable) return;\n",
              "\n",
              "          const docLinkHtml = 'Like what you see? Visit the ' +\n",
              "            '<a target=\"_blank\" href=https://colab.research.google.com/notebooks/data_table.ipynb>data table notebook</a>'\n",
              "            + ' to learn more about interactive tables.';\n",
              "          element.innerHTML = '';\n",
              "          dataTable['output_type'] = 'display_data';\n",
              "          await google.colab.output.renderOutput(dataTable, element);\n",
              "          const docLink = document.createElement('div');\n",
              "          docLink.innerHTML = docLinkHtml;\n",
              "          element.appendChild(docLink);\n",
              "        }\n",
              "      </script>\n",
              "    </div>\n",
              "  </div>\n",
              "  "
            ]
          },
          "metadata": {},
          "execution_count": 68
        }
      ]
    },
    {
      "cell_type": "code",
      "source": [
        "worst_preds = comparison_table[comparison_table['target'] != comparison_table['pred']].sort_values('prob')\n",
        "worst_preds"
      ],
      "metadata": {
        "colab": {
          "base_uri": "https://localhost:8080/",
          "height": 424
        },
        "id": "oE8qyRi7PvBo",
        "outputId": "90bd3bb6-3895-4d79-8b2b-a81122b93ace"
      },
      "execution_count": 69,
      "outputs": [
        {
          "output_type": "execute_result",
          "data": {
            "text/plain": [
              "                                                 tweets  target  pred  \\\n",
              "2189  ÛÏ@LordBrathwaite: Everyone Here: Ahh I hate ...       1   0.0   \n",
              "6802  This is set to become a huge one month wonder....       1   0.0   \n",
              "4065                   destroy the free fandom honestly       1   0.0   \n",
              "5277  Oh the usual. Mass murder and world domination...       1   0.0   \n",
              "5443  @HaydnExists so glad i saved them all at once ...       1   0.0   \n",
              "...                                                 ...     ...   ...   \n",
              "3591  @TwopTwips make natural disaster reporting mor...       0   1.0   \n",
              "243   @adorableappple No reported flooding po in the...       0   1.0   \n",
              "5890  Teen Disaster Preparedness Event in Van Nuys A...       0   1.0   \n",
              "6548  DISASTER AVERTED: Police kill gunman with Û÷h...       0   1.0   \n",
              "5582  Kosciusko police investigating pedestrian fata...       0   1.0   \n",
              "\n",
              "          prob  \n",
              "2189  0.039490  \n",
              "6802  0.047241  \n",
              "4065  0.051086  \n",
              "5277  0.051575  \n",
              "5443  0.051941  \n",
              "...        ...  \n",
              "3591  0.965332  \n",
              "243   0.965332  \n",
              "5890  0.971680  \n",
              "6548  0.984375  \n",
              "5582  0.989258  \n",
              "\n",
              "[1126 rows x 4 columns]"
            ],
            "text/html": [
              "\n",
              "  <div id=\"df-c25f0655-a242-40e5-9b25-743816c23163\">\n",
              "    <div class=\"colab-df-container\">\n",
              "      <div>\n",
              "<style scoped>\n",
              "    .dataframe tbody tr th:only-of-type {\n",
              "        vertical-align: middle;\n",
              "    }\n",
              "\n",
              "    .dataframe tbody tr th {\n",
              "        vertical-align: top;\n",
              "    }\n",
              "\n",
              "    .dataframe thead th {\n",
              "        text-align: right;\n",
              "    }\n",
              "</style>\n",
              "<table border=\"1\" class=\"dataframe\">\n",
              "  <thead>\n",
              "    <tr style=\"text-align: right;\">\n",
              "      <th></th>\n",
              "      <th>tweets</th>\n",
              "      <th>target</th>\n",
              "      <th>pred</th>\n",
              "      <th>prob</th>\n",
              "    </tr>\n",
              "  </thead>\n",
              "  <tbody>\n",
              "    <tr>\n",
              "      <th>2189</th>\n",
              "      <td>ÛÏ@LordBrathwaite: Everyone Here: Ahh I hate ...</td>\n",
              "      <td>1</td>\n",
              "      <td>0.0</td>\n",
              "      <td>0.039490</td>\n",
              "    </tr>\n",
              "    <tr>\n",
              "      <th>6802</th>\n",
              "      <td>This is set to become a huge one month wonder....</td>\n",
              "      <td>1</td>\n",
              "      <td>0.0</td>\n",
              "      <td>0.047241</td>\n",
              "    </tr>\n",
              "    <tr>\n",
              "      <th>4065</th>\n",
              "      <td>destroy the free fandom honestly</td>\n",
              "      <td>1</td>\n",
              "      <td>0.0</td>\n",
              "      <td>0.051086</td>\n",
              "    </tr>\n",
              "    <tr>\n",
              "      <th>5277</th>\n",
              "      <td>Oh the usual. Mass murder and world domination...</td>\n",
              "      <td>1</td>\n",
              "      <td>0.0</td>\n",
              "      <td>0.051575</td>\n",
              "    </tr>\n",
              "    <tr>\n",
              "      <th>5443</th>\n",
              "      <td>@HaydnExists so glad i saved them all at once ...</td>\n",
              "      <td>1</td>\n",
              "      <td>0.0</td>\n",
              "      <td>0.051941</td>\n",
              "    </tr>\n",
              "    <tr>\n",
              "      <th>...</th>\n",
              "      <td>...</td>\n",
              "      <td>...</td>\n",
              "      <td>...</td>\n",
              "      <td>...</td>\n",
              "    </tr>\n",
              "    <tr>\n",
              "      <th>3591</th>\n",
              "      <td>@TwopTwips make natural disaster reporting mor...</td>\n",
              "      <td>0</td>\n",
              "      <td>1.0</td>\n",
              "      <td>0.965332</td>\n",
              "    </tr>\n",
              "    <tr>\n",
              "      <th>243</th>\n",
              "      <td>@adorableappple No reported flooding po in the...</td>\n",
              "      <td>0</td>\n",
              "      <td>1.0</td>\n",
              "      <td>0.965332</td>\n",
              "    </tr>\n",
              "    <tr>\n",
              "      <th>5890</th>\n",
              "      <td>Teen Disaster Preparedness Event in Van Nuys A...</td>\n",
              "      <td>0</td>\n",
              "      <td>1.0</td>\n",
              "      <td>0.971680</td>\n",
              "    </tr>\n",
              "    <tr>\n",
              "      <th>6548</th>\n",
              "      <td>DISASTER AVERTED: Police kill gunman with Û÷h...</td>\n",
              "      <td>0</td>\n",
              "      <td>1.0</td>\n",
              "      <td>0.984375</td>\n",
              "    </tr>\n",
              "    <tr>\n",
              "      <th>5582</th>\n",
              "      <td>Kosciusko police investigating pedestrian fata...</td>\n",
              "      <td>0</td>\n",
              "      <td>1.0</td>\n",
              "      <td>0.989258</td>\n",
              "    </tr>\n",
              "  </tbody>\n",
              "</table>\n",
              "<p>1126 rows × 4 columns</p>\n",
              "</div>\n",
              "      <button class=\"colab-df-convert\" onclick=\"convertToInteractive('df-c25f0655-a242-40e5-9b25-743816c23163')\"\n",
              "              title=\"Convert this dataframe to an interactive table.\"\n",
              "              style=\"display:none;\">\n",
              "        \n",
              "  <svg xmlns=\"http://www.w3.org/2000/svg\" height=\"24px\"viewBox=\"0 0 24 24\"\n",
              "       width=\"24px\">\n",
              "    <path d=\"M0 0h24v24H0V0z\" fill=\"none\"/>\n",
              "    <path d=\"M18.56 5.44l.94 2.06.94-2.06 2.06-.94-2.06-.94-.94-2.06-.94 2.06-2.06.94zm-11 1L8.5 8.5l.94-2.06 2.06-.94-2.06-.94L8.5 2.5l-.94 2.06-2.06.94zm10 10l.94 2.06.94-2.06 2.06-.94-2.06-.94-.94-2.06-.94 2.06-2.06.94z\"/><path d=\"M17.41 7.96l-1.37-1.37c-.4-.4-.92-.59-1.43-.59-.52 0-1.04.2-1.43.59L10.3 9.45l-7.72 7.72c-.78.78-.78 2.05 0 2.83L4 21.41c.39.39.9.59 1.41.59.51 0 1.02-.2 1.41-.59l7.78-7.78 2.81-2.81c.8-.78.8-2.07 0-2.86zM5.41 20L4 18.59l7.72-7.72 1.47 1.35L5.41 20z\"/>\n",
              "  </svg>\n",
              "      </button>\n",
              "      \n",
              "  <style>\n",
              "    .colab-df-container {\n",
              "      display:flex;\n",
              "      flex-wrap:wrap;\n",
              "      gap: 12px;\n",
              "    }\n",
              "\n",
              "    .colab-df-convert {\n",
              "      background-color: #E8F0FE;\n",
              "      border: none;\n",
              "      border-radius: 50%;\n",
              "      cursor: pointer;\n",
              "      display: none;\n",
              "      fill: #1967D2;\n",
              "      height: 32px;\n",
              "      padding: 0 0 0 0;\n",
              "      width: 32px;\n",
              "    }\n",
              "\n",
              "    .colab-df-convert:hover {\n",
              "      background-color: #E2EBFA;\n",
              "      box-shadow: 0px 1px 2px rgba(60, 64, 67, 0.3), 0px 1px 3px 1px rgba(60, 64, 67, 0.15);\n",
              "      fill: #174EA6;\n",
              "    }\n",
              "\n",
              "    [theme=dark] .colab-df-convert {\n",
              "      background-color: #3B4455;\n",
              "      fill: #D2E3FC;\n",
              "    }\n",
              "\n",
              "    [theme=dark] .colab-df-convert:hover {\n",
              "      background-color: #434B5C;\n",
              "      box-shadow: 0px 1px 3px 1px rgba(0, 0, 0, 0.15);\n",
              "      filter: drop-shadow(0px 1px 2px rgba(0, 0, 0, 0.3));\n",
              "      fill: #FFFFFF;\n",
              "    }\n",
              "  </style>\n",
              "\n",
              "      <script>\n",
              "        const buttonEl =\n",
              "          document.querySelector('#df-c25f0655-a242-40e5-9b25-743816c23163 button.colab-df-convert');\n",
              "        buttonEl.style.display =\n",
              "          google.colab.kernel.accessAllowed ? 'block' : 'none';\n",
              "\n",
              "        async function convertToInteractive(key) {\n",
              "          const element = document.querySelector('#df-c25f0655-a242-40e5-9b25-743816c23163');\n",
              "          const dataTable =\n",
              "            await google.colab.kernel.invokeFunction('convertToInteractive',\n",
              "                                                     [key], {});\n",
              "          if (!dataTable) return;\n",
              "\n",
              "          const docLinkHtml = 'Like what you see? Visit the ' +\n",
              "            '<a target=\"_blank\" href=https://colab.research.google.com/notebooks/data_table.ipynb>data table notebook</a>'\n",
              "            + ' to learn more about interactive tables.';\n",
              "          element.innerHTML = '';\n",
              "          dataTable['output_type'] = 'display_data';\n",
              "          await google.colab.output.renderOutput(dataTable, element);\n",
              "          const docLink = document.createElement('div');\n",
              "          docLink.innerHTML = docLinkHtml;\n",
              "          element.appendChild(docLink);\n",
              "        }\n",
              "      </script>\n",
              "    </div>\n",
              "  </div>\n",
              "  "
            ]
          },
          "metadata": {},
          "execution_count": 69
        }
      ]
    },
    {
      "cell_type": "code",
      "source": [
        "worst_preds[:10]"
      ],
      "metadata": {
        "colab": {
          "base_uri": "https://localhost:8080/",
          "height": 363
        },
        "id": "ClwGgcjkRIsW",
        "outputId": "5206ca58-a2c4-475f-8bbf-b5add1024b2c"
      },
      "execution_count": 70,
      "outputs": [
        {
          "output_type": "execute_result",
          "data": {
            "text/plain": [
              "                                                 tweets  target  pred  \\\n",
              "2189  ÛÏ@LordBrathwaite: Everyone Here: Ahh I hate ...       1   0.0   \n",
              "6802  This is set to become a huge one month wonder....       1   0.0   \n",
              "4065                   destroy the free fandom honestly       1   0.0   \n",
              "5277  Oh the usual. Mass murder and world domination...       1   0.0   \n",
              "5443  @HaydnExists so glad i saved them all at once ...       1   0.0   \n",
              "333   STAR WARS POWER OF THE JEDI COLLECTION 1 BATTL...       1   0.0   \n",
              "4273  All Hail Shadow (Hybrid Mix Feat. Mike Szuter)...       1   0.0   \n",
              "523   Do you feel like you are sinking in low self-i...       1   0.0   \n",
              "2320  Why are you deluged with low self-image? Take ...       1   0.0   \n",
              "5800  @leedsrouge Love what you picked! We're playin...       1   0.0   \n",
              "\n",
              "          prob  \n",
              "2189  0.039490  \n",
              "6802  0.047241  \n",
              "4065  0.051086  \n",
              "5277  0.051575  \n",
              "5443  0.051941  \n",
              "333   0.052643  \n",
              "4273  0.053925  \n",
              "523   0.056244  \n",
              "2320  0.056335  \n",
              "5800  0.056641  "
            ],
            "text/html": [
              "\n",
              "  <div id=\"df-65e2ef31-7cb4-4224-9ad9-2c7d0f02f344\">\n",
              "    <div class=\"colab-df-container\">\n",
              "      <div>\n",
              "<style scoped>\n",
              "    .dataframe tbody tr th:only-of-type {\n",
              "        vertical-align: middle;\n",
              "    }\n",
              "\n",
              "    .dataframe tbody tr th {\n",
              "        vertical-align: top;\n",
              "    }\n",
              "\n",
              "    .dataframe thead th {\n",
              "        text-align: right;\n",
              "    }\n",
              "</style>\n",
              "<table border=\"1\" class=\"dataframe\">\n",
              "  <thead>\n",
              "    <tr style=\"text-align: right;\">\n",
              "      <th></th>\n",
              "      <th>tweets</th>\n",
              "      <th>target</th>\n",
              "      <th>pred</th>\n",
              "      <th>prob</th>\n",
              "    </tr>\n",
              "  </thead>\n",
              "  <tbody>\n",
              "    <tr>\n",
              "      <th>2189</th>\n",
              "      <td>ÛÏ@LordBrathwaite: Everyone Here: Ahh I hate ...</td>\n",
              "      <td>1</td>\n",
              "      <td>0.0</td>\n",
              "      <td>0.039490</td>\n",
              "    </tr>\n",
              "    <tr>\n",
              "      <th>6802</th>\n",
              "      <td>This is set to become a huge one month wonder....</td>\n",
              "      <td>1</td>\n",
              "      <td>0.0</td>\n",
              "      <td>0.047241</td>\n",
              "    </tr>\n",
              "    <tr>\n",
              "      <th>4065</th>\n",
              "      <td>destroy the free fandom honestly</td>\n",
              "      <td>1</td>\n",
              "      <td>0.0</td>\n",
              "      <td>0.051086</td>\n",
              "    </tr>\n",
              "    <tr>\n",
              "      <th>5277</th>\n",
              "      <td>Oh the usual. Mass murder and world domination...</td>\n",
              "      <td>1</td>\n",
              "      <td>0.0</td>\n",
              "      <td>0.051575</td>\n",
              "    </tr>\n",
              "    <tr>\n",
              "      <th>5443</th>\n",
              "      <td>@HaydnExists so glad i saved them all at once ...</td>\n",
              "      <td>1</td>\n",
              "      <td>0.0</td>\n",
              "      <td>0.051941</td>\n",
              "    </tr>\n",
              "    <tr>\n",
              "      <th>333</th>\n",
              "      <td>STAR WARS POWER OF THE JEDI COLLECTION 1 BATTL...</td>\n",
              "      <td>1</td>\n",
              "      <td>0.0</td>\n",
              "      <td>0.052643</td>\n",
              "    </tr>\n",
              "    <tr>\n",
              "      <th>4273</th>\n",
              "      <td>All Hail Shadow (Hybrid Mix Feat. Mike Szuter)...</td>\n",
              "      <td>1</td>\n",
              "      <td>0.0</td>\n",
              "      <td>0.053925</td>\n",
              "    </tr>\n",
              "    <tr>\n",
              "      <th>523</th>\n",
              "      <td>Do you feel like you are sinking in low self-i...</td>\n",
              "      <td>1</td>\n",
              "      <td>0.0</td>\n",
              "      <td>0.056244</td>\n",
              "    </tr>\n",
              "    <tr>\n",
              "      <th>2320</th>\n",
              "      <td>Why are you deluged with low self-image? Take ...</td>\n",
              "      <td>1</td>\n",
              "      <td>0.0</td>\n",
              "      <td>0.056335</td>\n",
              "    </tr>\n",
              "    <tr>\n",
              "      <th>5800</th>\n",
              "      <td>@leedsrouge Love what you picked! We're playin...</td>\n",
              "      <td>1</td>\n",
              "      <td>0.0</td>\n",
              "      <td>0.056641</td>\n",
              "    </tr>\n",
              "  </tbody>\n",
              "</table>\n",
              "</div>\n",
              "      <button class=\"colab-df-convert\" onclick=\"convertToInteractive('df-65e2ef31-7cb4-4224-9ad9-2c7d0f02f344')\"\n",
              "              title=\"Convert this dataframe to an interactive table.\"\n",
              "              style=\"display:none;\">\n",
              "        \n",
              "  <svg xmlns=\"http://www.w3.org/2000/svg\" height=\"24px\"viewBox=\"0 0 24 24\"\n",
              "       width=\"24px\">\n",
              "    <path d=\"M0 0h24v24H0V0z\" fill=\"none\"/>\n",
              "    <path d=\"M18.56 5.44l.94 2.06.94-2.06 2.06-.94-2.06-.94-.94-2.06-.94 2.06-2.06.94zm-11 1L8.5 8.5l.94-2.06 2.06-.94-2.06-.94L8.5 2.5l-.94 2.06-2.06.94zm10 10l.94 2.06.94-2.06 2.06-.94-2.06-.94-.94-2.06-.94 2.06-2.06.94z\"/><path d=\"M17.41 7.96l-1.37-1.37c-.4-.4-.92-.59-1.43-.59-.52 0-1.04.2-1.43.59L10.3 9.45l-7.72 7.72c-.78.78-.78 2.05 0 2.83L4 21.41c.39.39.9.59 1.41.59.51 0 1.02-.2 1.41-.59l7.78-7.78 2.81-2.81c.8-.78.8-2.07 0-2.86zM5.41 20L4 18.59l7.72-7.72 1.47 1.35L5.41 20z\"/>\n",
              "  </svg>\n",
              "      </button>\n",
              "      \n",
              "  <style>\n",
              "    .colab-df-container {\n",
              "      display:flex;\n",
              "      flex-wrap:wrap;\n",
              "      gap: 12px;\n",
              "    }\n",
              "\n",
              "    .colab-df-convert {\n",
              "      background-color: #E8F0FE;\n",
              "      border: none;\n",
              "      border-radius: 50%;\n",
              "      cursor: pointer;\n",
              "      display: none;\n",
              "      fill: #1967D2;\n",
              "      height: 32px;\n",
              "      padding: 0 0 0 0;\n",
              "      width: 32px;\n",
              "    }\n",
              "\n",
              "    .colab-df-convert:hover {\n",
              "      background-color: #E2EBFA;\n",
              "      box-shadow: 0px 1px 2px rgba(60, 64, 67, 0.3), 0px 1px 3px 1px rgba(60, 64, 67, 0.15);\n",
              "      fill: #174EA6;\n",
              "    }\n",
              "\n",
              "    [theme=dark] .colab-df-convert {\n",
              "      background-color: #3B4455;\n",
              "      fill: #D2E3FC;\n",
              "    }\n",
              "\n",
              "    [theme=dark] .colab-df-convert:hover {\n",
              "      background-color: #434B5C;\n",
              "      box-shadow: 0px 1px 3px 1px rgba(0, 0, 0, 0.15);\n",
              "      filter: drop-shadow(0px 1px 2px rgba(0, 0, 0, 0.3));\n",
              "      fill: #FFFFFF;\n",
              "    }\n",
              "  </style>\n",
              "\n",
              "      <script>\n",
              "        const buttonEl =\n",
              "          document.querySelector('#df-65e2ef31-7cb4-4224-9ad9-2c7d0f02f344 button.colab-df-convert');\n",
              "        buttonEl.style.display =\n",
              "          google.colab.kernel.accessAllowed ? 'block' : 'none';\n",
              "\n",
              "        async function convertToInteractive(key) {\n",
              "          const element = document.querySelector('#df-65e2ef31-7cb4-4224-9ad9-2c7d0f02f344');\n",
              "          const dataTable =\n",
              "            await google.colab.kernel.invokeFunction('convertToInteractive',\n",
              "                                                     [key], {});\n",
              "          if (!dataTable) return;\n",
              "\n",
              "          const docLinkHtml = 'Like what you see? Visit the ' +\n",
              "            '<a target=\"_blank\" href=https://colab.research.google.com/notebooks/data_table.ipynb>data table notebook</a>'\n",
              "            + ' to learn more about interactive tables.';\n",
              "          element.innerHTML = '';\n",
              "          dataTable['output_type'] = 'display_data';\n",
              "          await google.colab.output.renderOutput(dataTable, element);\n",
              "          const docLink = document.createElement('div');\n",
              "          docLink.innerHTML = docLinkHtml;\n",
              "          element.appendChild(docLink);\n",
              "        }\n",
              "      </script>\n",
              "    </div>\n",
              "  </div>\n",
              "  "
            ]
          },
          "metadata": {},
          "execution_count": 70
        }
      ]
    },
    {
      "cell_type": "code",
      "source": [
        "worst_preds[-10:]"
      ],
      "metadata": {
        "colab": {
          "base_uri": "https://localhost:8080/",
          "height": 363
        },
        "id": "q34_tKKOSAYt",
        "outputId": "0e223bab-cfa7-4fda-88f8-97188819640f"
      },
      "execution_count": 71,
      "outputs": [
        {
          "output_type": "execute_result",
          "data": {
            "text/plain": [
              "                                                 tweets  target  pred  \\\n",
              "799   Two Jewish Terrorists Charged In Historic-Chur...       0   1.0   \n",
              "3041  Mourning notices for stabbing arson victims st...       0   1.0   \n",
              "2363  We should all have a fire safety plan. RT @Mat...       0   1.0   \n",
              "4438  Trusting Iran to stop terrorism is like inviti...       0   1.0   \n",
              "4653  #hot  C-130 specially modified to land in a st...       0   1.0   \n",
              "3591  @TwopTwips make natural disaster reporting mor...       0   1.0   \n",
              "243   @adorableappple No reported flooding po in the...       0   1.0   \n",
              "5890  Teen Disaster Preparedness Event in Van Nuys A...       0   1.0   \n",
              "6548  DISASTER AVERTED: Police kill gunman with Û÷h...       0   1.0   \n",
              "5582  Kosciusko police investigating pedestrian fata...       0   1.0   \n",
              "\n",
              "          prob  \n",
              "799   0.949707  \n",
              "3041  0.950684  \n",
              "2363  0.951660  \n",
              "4438  0.960449  \n",
              "4653  0.963379  \n",
              "3591  0.965332  \n",
              "243   0.965332  \n",
              "5890  0.971680  \n",
              "6548  0.984375  \n",
              "5582  0.989258  "
            ],
            "text/html": [
              "\n",
              "  <div id=\"df-dbcc4bce-cb6a-441d-88d2-3da8a6bdf9c8\">\n",
              "    <div class=\"colab-df-container\">\n",
              "      <div>\n",
              "<style scoped>\n",
              "    .dataframe tbody tr th:only-of-type {\n",
              "        vertical-align: middle;\n",
              "    }\n",
              "\n",
              "    .dataframe tbody tr th {\n",
              "        vertical-align: top;\n",
              "    }\n",
              "\n",
              "    .dataframe thead th {\n",
              "        text-align: right;\n",
              "    }\n",
              "</style>\n",
              "<table border=\"1\" class=\"dataframe\">\n",
              "  <thead>\n",
              "    <tr style=\"text-align: right;\">\n",
              "      <th></th>\n",
              "      <th>tweets</th>\n",
              "      <th>target</th>\n",
              "      <th>pred</th>\n",
              "      <th>prob</th>\n",
              "    </tr>\n",
              "  </thead>\n",
              "  <tbody>\n",
              "    <tr>\n",
              "      <th>799</th>\n",
              "      <td>Two Jewish Terrorists Charged In Historic-Chur...</td>\n",
              "      <td>0</td>\n",
              "      <td>1.0</td>\n",
              "      <td>0.949707</td>\n",
              "    </tr>\n",
              "    <tr>\n",
              "      <th>3041</th>\n",
              "      <td>Mourning notices for stabbing arson victims st...</td>\n",
              "      <td>0</td>\n",
              "      <td>1.0</td>\n",
              "      <td>0.950684</td>\n",
              "    </tr>\n",
              "    <tr>\n",
              "      <th>2363</th>\n",
              "      <td>We should all have a fire safety plan. RT @Mat...</td>\n",
              "      <td>0</td>\n",
              "      <td>1.0</td>\n",
              "      <td>0.951660</td>\n",
              "    </tr>\n",
              "    <tr>\n",
              "      <th>4438</th>\n",
              "      <td>Trusting Iran to stop terrorism is like inviti...</td>\n",
              "      <td>0</td>\n",
              "      <td>1.0</td>\n",
              "      <td>0.960449</td>\n",
              "    </tr>\n",
              "    <tr>\n",
              "      <th>4653</th>\n",
              "      <td>#hot  C-130 specially modified to land in a st...</td>\n",
              "      <td>0</td>\n",
              "      <td>1.0</td>\n",
              "      <td>0.963379</td>\n",
              "    </tr>\n",
              "    <tr>\n",
              "      <th>3591</th>\n",
              "      <td>@TwopTwips make natural disaster reporting mor...</td>\n",
              "      <td>0</td>\n",
              "      <td>1.0</td>\n",
              "      <td>0.965332</td>\n",
              "    </tr>\n",
              "    <tr>\n",
              "      <th>243</th>\n",
              "      <td>@adorableappple No reported flooding po in the...</td>\n",
              "      <td>0</td>\n",
              "      <td>1.0</td>\n",
              "      <td>0.965332</td>\n",
              "    </tr>\n",
              "    <tr>\n",
              "      <th>5890</th>\n",
              "      <td>Teen Disaster Preparedness Event in Van Nuys A...</td>\n",
              "      <td>0</td>\n",
              "      <td>1.0</td>\n",
              "      <td>0.971680</td>\n",
              "    </tr>\n",
              "    <tr>\n",
              "      <th>6548</th>\n",
              "      <td>DISASTER AVERTED: Police kill gunman with Û÷h...</td>\n",
              "      <td>0</td>\n",
              "      <td>1.0</td>\n",
              "      <td>0.984375</td>\n",
              "    </tr>\n",
              "    <tr>\n",
              "      <th>5582</th>\n",
              "      <td>Kosciusko police investigating pedestrian fata...</td>\n",
              "      <td>0</td>\n",
              "      <td>1.0</td>\n",
              "      <td>0.989258</td>\n",
              "    </tr>\n",
              "  </tbody>\n",
              "</table>\n",
              "</div>\n",
              "      <button class=\"colab-df-convert\" onclick=\"convertToInteractive('df-dbcc4bce-cb6a-441d-88d2-3da8a6bdf9c8')\"\n",
              "              title=\"Convert this dataframe to an interactive table.\"\n",
              "              style=\"display:none;\">\n",
              "        \n",
              "  <svg xmlns=\"http://www.w3.org/2000/svg\" height=\"24px\"viewBox=\"0 0 24 24\"\n",
              "       width=\"24px\">\n",
              "    <path d=\"M0 0h24v24H0V0z\" fill=\"none\"/>\n",
              "    <path d=\"M18.56 5.44l.94 2.06.94-2.06 2.06-.94-2.06-.94-.94-2.06-.94 2.06-2.06.94zm-11 1L8.5 8.5l.94-2.06 2.06-.94-2.06-.94L8.5 2.5l-.94 2.06-2.06.94zm10 10l.94 2.06.94-2.06 2.06-.94-2.06-.94-.94-2.06-.94 2.06-2.06.94z\"/><path d=\"M17.41 7.96l-1.37-1.37c-.4-.4-.92-.59-1.43-.59-.52 0-1.04.2-1.43.59L10.3 9.45l-7.72 7.72c-.78.78-.78 2.05 0 2.83L4 21.41c.39.39.9.59 1.41.59.51 0 1.02-.2 1.41-.59l7.78-7.78 2.81-2.81c.8-.78.8-2.07 0-2.86zM5.41 20L4 18.59l7.72-7.72 1.47 1.35L5.41 20z\"/>\n",
              "  </svg>\n",
              "      </button>\n",
              "      \n",
              "  <style>\n",
              "    .colab-df-container {\n",
              "      display:flex;\n",
              "      flex-wrap:wrap;\n",
              "      gap: 12px;\n",
              "    }\n",
              "\n",
              "    .colab-df-convert {\n",
              "      background-color: #E8F0FE;\n",
              "      border: none;\n",
              "      border-radius: 50%;\n",
              "      cursor: pointer;\n",
              "      display: none;\n",
              "      fill: #1967D2;\n",
              "      height: 32px;\n",
              "      padding: 0 0 0 0;\n",
              "      width: 32px;\n",
              "    }\n",
              "\n",
              "    .colab-df-convert:hover {\n",
              "      background-color: #E2EBFA;\n",
              "      box-shadow: 0px 1px 2px rgba(60, 64, 67, 0.3), 0px 1px 3px 1px rgba(60, 64, 67, 0.15);\n",
              "      fill: #174EA6;\n",
              "    }\n",
              "\n",
              "    [theme=dark] .colab-df-convert {\n",
              "      background-color: #3B4455;\n",
              "      fill: #D2E3FC;\n",
              "    }\n",
              "\n",
              "    [theme=dark] .colab-df-convert:hover {\n",
              "      background-color: #434B5C;\n",
              "      box-shadow: 0px 1px 3px 1px rgba(0, 0, 0, 0.15);\n",
              "      filter: drop-shadow(0px 1px 2px rgba(0, 0, 0, 0.3));\n",
              "      fill: #FFFFFF;\n",
              "    }\n",
              "  </style>\n",
              "\n",
              "      <script>\n",
              "        const buttonEl =\n",
              "          document.querySelector('#df-dbcc4bce-cb6a-441d-88d2-3da8a6bdf9c8 button.colab-df-convert');\n",
              "        buttonEl.style.display =\n",
              "          google.colab.kernel.accessAllowed ? 'block' : 'none';\n",
              "\n",
              "        async function convertToInteractive(key) {\n",
              "          const element = document.querySelector('#df-dbcc4bce-cb6a-441d-88d2-3da8a6bdf9c8');\n",
              "          const dataTable =\n",
              "            await google.colab.kernel.invokeFunction('convertToInteractive',\n",
              "                                                     [key], {});\n",
              "          if (!dataTable) return;\n",
              "\n",
              "          const docLinkHtml = 'Like what you see? Visit the ' +\n",
              "            '<a target=\"_blank\" href=https://colab.research.google.com/notebooks/data_table.ipynb>data table notebook</a>'\n",
              "            + ' to learn more about interactive tables.';\n",
              "          element.innerHTML = '';\n",
              "          dataTable['output_type'] = 'display_data';\n",
              "          await google.colab.output.renderOutput(dataTable, element);\n",
              "          const docLink = document.createElement('div');\n",
              "          docLink.innerHTML = docLinkHtml;\n",
              "          element.appendChild(docLink);\n",
              "        }\n",
              "      </script>\n",
              "    </div>\n",
              "  </div>\n",
              "  "
            ]
          },
          "metadata": {},
          "execution_count": 71
        }
      ]
    },
    {
      "cell_type": "markdown",
      "source": [
        "### 5 most wrong disaster tweets:\n"
      ],
      "metadata": {
        "id": "2imOPdc5UrXn"
      }
    },
    {
      "cell_type": "code",
      "source": [
        "for i in np.arange(0,5):\n",
        "  print(worst_preds.iloc[i,0],'\\n')\n",
        "  print(f'target: {worst_preds.iloc[i,1]}, prediction: {worst_preds.iloc[i,2]}, prob: {worst_preds.iloc[i,3]} \\n')\n",
        "  print('========================')"
      ],
      "metadata": {
        "colab": {
          "base_uri": "https://localhost:8080/"
        },
        "id": "ctJtg6P5SIjx",
        "outputId": "d9f98f7c-ad07-40c7-aac9-47b0f13d2adb"
      },
      "execution_count": 72,
      "outputs": [
        {
          "output_type": "stream",
          "name": "stdout",
          "text": [
            "ÛÏ@LordBrathwaite: Everyone Here: Ahh I hate snow!\n",
            "\n",
            "Me: Lol u call this a snowstorm..?\n",
            "\n",
            "#growingupincoloradoÛ \n",
            "\n",
            "target: 1, prediction: 0.0, prob: 0.03948974609375 \n",
            "\n",
            "========================\n",
            "This is set to become a huge one month wonder. (And then Pornhub will be inundated....) http://t.co/gghfx8PzMh \n",
            "\n",
            "target: 1, prediction: 0.0, prob: 0.0472412109375 \n",
            "\n",
            "========================\n",
            "destroy the free fandom honestly \n",
            "\n",
            "target: 1, prediction: 0.0, prob: 0.05108642578125 \n",
            "\n",
            "========================\n",
            "Oh the usual. Mass murder and world domination plans over coffee. How's your day going? \n",
            "\n",
            "target: 1, prediction: 0.0, prob: 0.05157470703125 \n",
            "\n",
            "========================\n",
            "@HaydnExists so glad i saved them all at once then didnÛªt want you stealing my thunder :P \n",
            "\n",
            "target: 1, prediction: 0.0, prob: 0.05194091796875 \n",
            "\n",
            "========================\n"
          ]
        }
      ]
    },
    {
      "cell_type": "code",
      "source": [],
      "metadata": {
        "id": "VUMQkRaaSXSc"
      },
      "execution_count": 72,
      "outputs": []
    },
    {
      "cell_type": "markdown",
      "source": [
        "### 5 most wrong Non-disaster tweets:\n"
      ],
      "metadata": {
        "id": "tlvVuNyBU29D"
      }
    },
    {
      "cell_type": "code",
      "source": [
        "for i in np.arange(1,6)*-1:\n",
        "  print(worst_preds.iloc[i,0],'\\n')\n",
        "  print(f'target: {worst_preds.iloc[i,1]}, prediction: {worst_preds.iloc[i,2]}, prob: {worst_preds.iloc[i,3]} \\n')\n",
        "  print('========================')"
      ],
      "metadata": {
        "colab": {
          "base_uri": "https://localhost:8080/"
        },
        "outputId": "8683aa46-3e23-447f-9746-c047caa08ac8",
        "id": "5nKePEt3U29D"
      },
      "execution_count": 73,
      "outputs": [
        {
          "output_type": "stream",
          "name": "stdout",
          "text": [
            "Kosciusko police investigating pedestrian fatality hit by a train Thursday http://t.co/m5djLLxoZP \n",
            "\n",
            "target: 0, prediction: 1.0, prob: 0.9892578125 \n",
            "\n",
            "========================\n",
            "DISASTER AVERTED: Police kill gunman with Û÷hoax deviceÛª atåÊcinema http://t.co/5NG0FzpVdS \n",
            "\n",
            "target: 0, prediction: 1.0, prob: 0.984375 \n",
            "\n",
            "========================\n",
            "Teen Disaster Preparedness Event in Van Nuys August 11 @ 5:30pm http://t.co/fXUX987vZx via @VanNuysCouncil \n",
            "\n",
            "target: 0, prediction: 1.0, prob: 0.9716796875 \n",
            "\n",
            "========================\n",
            "@adorableappple No reported flooding po in the area. Ten-4. #mmda \n",
            "\n",
            "target: 0, prediction: 1.0, prob: 0.96533203125 \n",
            "\n",
            "========================\n",
            "@TwopTwips make natural disaster reporting more interesting by adding 'The' to headlines such as 'Rescuers are sifting through the wreckage' \n",
            "\n",
            "target: 0, prediction: 1.0, prob: 0.96533203125 \n",
            "\n",
            "========================\n"
          ]
        }
      ]
    },
    {
      "cell_type": "markdown",
      "source": [
        "## Classifying Test Data:\n",
        "### it has no target"
      ],
      "metadata": {
        "id": "_OZz-H9zAfr9"
      }
    },
    {
      "cell_type": "code",
      "source": [
        "test_df"
      ],
      "metadata": {
        "colab": {
          "base_uri": "https://localhost:8080/",
          "height": 424
        },
        "id": "DbZu4COJAwCF",
        "outputId": "43e13ef3-9659-43c1-c895-93952c2d45b2"
      },
      "execution_count": 75,
      "outputs": [
        {
          "output_type": "execute_result",
          "data": {
            "text/plain": [
              "         id keyword location  \\\n",
              "0         0     NaN      NaN   \n",
              "1         2     NaN      NaN   \n",
              "2         3     NaN      NaN   \n",
              "3         9     NaN      NaN   \n",
              "4        11     NaN      NaN   \n",
              "...     ...     ...      ...   \n",
              "3258  10861     NaN      NaN   \n",
              "3259  10865     NaN      NaN   \n",
              "3260  10868     NaN      NaN   \n",
              "3261  10874     NaN      NaN   \n",
              "3262  10875     NaN      NaN   \n",
              "\n",
              "                                                   text  \n",
              "0                    Just happened a terrible car crash  \n",
              "1     Heard about #earthquake is different cities, s...  \n",
              "2     there is a forest fire at spot pond, geese are...  \n",
              "3              Apocalypse lighting. #Spokane #wildfires  \n",
              "4         Typhoon Soudelor kills 28 in China and Taiwan  \n",
              "...                                                 ...  \n",
              "3258  EARTHQUAKE SAFETY LOS ANGELES ÛÒ SAFETY FASTE...  \n",
              "3259  Storm in RI worse than last hurricane. My city...  \n",
              "3260  Green Line derailment in Chicago http://t.co/U...  \n",
              "3261  MEG issues Hazardous Weather Outlook (HWO) htt...  \n",
              "3262  #CityofCalgary has activated its Municipal Eme...  \n",
              "\n",
              "[3263 rows x 4 columns]"
            ],
            "text/html": [
              "\n",
              "  <div id=\"df-c2ecf8f0-61ab-49b7-b3ac-0eb1b9903884\">\n",
              "    <div class=\"colab-df-container\">\n",
              "      <div>\n",
              "<style scoped>\n",
              "    .dataframe tbody tr th:only-of-type {\n",
              "        vertical-align: middle;\n",
              "    }\n",
              "\n",
              "    .dataframe tbody tr th {\n",
              "        vertical-align: top;\n",
              "    }\n",
              "\n",
              "    .dataframe thead th {\n",
              "        text-align: right;\n",
              "    }\n",
              "</style>\n",
              "<table border=\"1\" class=\"dataframe\">\n",
              "  <thead>\n",
              "    <tr style=\"text-align: right;\">\n",
              "      <th></th>\n",
              "      <th>id</th>\n",
              "      <th>keyword</th>\n",
              "      <th>location</th>\n",
              "      <th>text</th>\n",
              "    </tr>\n",
              "  </thead>\n",
              "  <tbody>\n",
              "    <tr>\n",
              "      <th>0</th>\n",
              "      <td>0</td>\n",
              "      <td>NaN</td>\n",
              "      <td>NaN</td>\n",
              "      <td>Just happened a terrible car crash</td>\n",
              "    </tr>\n",
              "    <tr>\n",
              "      <th>1</th>\n",
              "      <td>2</td>\n",
              "      <td>NaN</td>\n",
              "      <td>NaN</td>\n",
              "      <td>Heard about #earthquake is different cities, s...</td>\n",
              "    </tr>\n",
              "    <tr>\n",
              "      <th>2</th>\n",
              "      <td>3</td>\n",
              "      <td>NaN</td>\n",
              "      <td>NaN</td>\n",
              "      <td>there is a forest fire at spot pond, geese are...</td>\n",
              "    </tr>\n",
              "    <tr>\n",
              "      <th>3</th>\n",
              "      <td>9</td>\n",
              "      <td>NaN</td>\n",
              "      <td>NaN</td>\n",
              "      <td>Apocalypse lighting. #Spokane #wildfires</td>\n",
              "    </tr>\n",
              "    <tr>\n",
              "      <th>4</th>\n",
              "      <td>11</td>\n",
              "      <td>NaN</td>\n",
              "      <td>NaN</td>\n",
              "      <td>Typhoon Soudelor kills 28 in China and Taiwan</td>\n",
              "    </tr>\n",
              "    <tr>\n",
              "      <th>...</th>\n",
              "      <td>...</td>\n",
              "      <td>...</td>\n",
              "      <td>...</td>\n",
              "      <td>...</td>\n",
              "    </tr>\n",
              "    <tr>\n",
              "      <th>3258</th>\n",
              "      <td>10861</td>\n",
              "      <td>NaN</td>\n",
              "      <td>NaN</td>\n",
              "      <td>EARTHQUAKE SAFETY LOS ANGELES ÛÒ SAFETY FASTE...</td>\n",
              "    </tr>\n",
              "    <tr>\n",
              "      <th>3259</th>\n",
              "      <td>10865</td>\n",
              "      <td>NaN</td>\n",
              "      <td>NaN</td>\n",
              "      <td>Storm in RI worse than last hurricane. My city...</td>\n",
              "    </tr>\n",
              "    <tr>\n",
              "      <th>3260</th>\n",
              "      <td>10868</td>\n",
              "      <td>NaN</td>\n",
              "      <td>NaN</td>\n",
              "      <td>Green Line derailment in Chicago http://t.co/U...</td>\n",
              "    </tr>\n",
              "    <tr>\n",
              "      <th>3261</th>\n",
              "      <td>10874</td>\n",
              "      <td>NaN</td>\n",
              "      <td>NaN</td>\n",
              "      <td>MEG issues Hazardous Weather Outlook (HWO) htt...</td>\n",
              "    </tr>\n",
              "    <tr>\n",
              "      <th>3262</th>\n",
              "      <td>10875</td>\n",
              "      <td>NaN</td>\n",
              "      <td>NaN</td>\n",
              "      <td>#CityofCalgary has activated its Municipal Eme...</td>\n",
              "    </tr>\n",
              "  </tbody>\n",
              "</table>\n",
              "<p>3263 rows × 4 columns</p>\n",
              "</div>\n",
              "      <button class=\"colab-df-convert\" onclick=\"convertToInteractive('df-c2ecf8f0-61ab-49b7-b3ac-0eb1b9903884')\"\n",
              "              title=\"Convert this dataframe to an interactive table.\"\n",
              "              style=\"display:none;\">\n",
              "        \n",
              "  <svg xmlns=\"http://www.w3.org/2000/svg\" height=\"24px\"viewBox=\"0 0 24 24\"\n",
              "       width=\"24px\">\n",
              "    <path d=\"M0 0h24v24H0V0z\" fill=\"none\"/>\n",
              "    <path d=\"M18.56 5.44l.94 2.06.94-2.06 2.06-.94-2.06-.94-.94-2.06-.94 2.06-2.06.94zm-11 1L8.5 8.5l.94-2.06 2.06-.94-2.06-.94L8.5 2.5l-.94 2.06-2.06.94zm10 10l.94 2.06.94-2.06 2.06-.94-2.06-.94-.94-2.06-.94 2.06-2.06.94z\"/><path d=\"M17.41 7.96l-1.37-1.37c-.4-.4-.92-.59-1.43-.59-.52 0-1.04.2-1.43.59L10.3 9.45l-7.72 7.72c-.78.78-.78 2.05 0 2.83L4 21.41c.39.39.9.59 1.41.59.51 0 1.02-.2 1.41-.59l7.78-7.78 2.81-2.81c.8-.78.8-2.07 0-2.86zM5.41 20L4 18.59l7.72-7.72 1.47 1.35L5.41 20z\"/>\n",
              "  </svg>\n",
              "      </button>\n",
              "      \n",
              "  <style>\n",
              "    .colab-df-container {\n",
              "      display:flex;\n",
              "      flex-wrap:wrap;\n",
              "      gap: 12px;\n",
              "    }\n",
              "\n",
              "    .colab-df-convert {\n",
              "      background-color: #E8F0FE;\n",
              "      border: none;\n",
              "      border-radius: 50%;\n",
              "      cursor: pointer;\n",
              "      display: none;\n",
              "      fill: #1967D2;\n",
              "      height: 32px;\n",
              "      padding: 0 0 0 0;\n",
              "      width: 32px;\n",
              "    }\n",
              "\n",
              "    .colab-df-convert:hover {\n",
              "      background-color: #E2EBFA;\n",
              "      box-shadow: 0px 1px 2px rgba(60, 64, 67, 0.3), 0px 1px 3px 1px rgba(60, 64, 67, 0.15);\n",
              "      fill: #174EA6;\n",
              "    }\n",
              "\n",
              "    [theme=dark] .colab-df-convert {\n",
              "      background-color: #3B4455;\n",
              "      fill: #D2E3FC;\n",
              "    }\n",
              "\n",
              "    [theme=dark] .colab-df-convert:hover {\n",
              "      background-color: #434B5C;\n",
              "      box-shadow: 0px 1px 3px 1px rgba(0, 0, 0, 0.15);\n",
              "      filter: drop-shadow(0px 1px 2px rgba(0, 0, 0, 0.3));\n",
              "      fill: #FFFFFF;\n",
              "    }\n",
              "  </style>\n",
              "\n",
              "      <script>\n",
              "        const buttonEl =\n",
              "          document.querySelector('#df-c2ecf8f0-61ab-49b7-b3ac-0eb1b9903884 button.colab-df-convert');\n",
              "        buttonEl.style.display =\n",
              "          google.colab.kernel.accessAllowed ? 'block' : 'none';\n",
              "\n",
              "        async function convertToInteractive(key) {\n",
              "          const element = document.querySelector('#df-c2ecf8f0-61ab-49b7-b3ac-0eb1b9903884');\n",
              "          const dataTable =\n",
              "            await google.colab.kernel.invokeFunction('convertToInteractive',\n",
              "                                                     [key], {});\n",
              "          if (!dataTable) return;\n",
              "\n",
              "          const docLinkHtml = 'Like what you see? Visit the ' +\n",
              "            '<a target=\"_blank\" href=https://colab.research.google.com/notebooks/data_table.ipynb>data table notebook</a>'\n",
              "            + ' to learn more about interactive tables.';\n",
              "          element.innerHTML = '';\n",
              "          dataTable['output_type'] = 'display_data';\n",
              "          await google.colab.output.renderOutput(dataTable, element);\n",
              "          const docLink = document.createElement('div');\n",
              "          docLink.innerHTML = docLinkHtml;\n",
              "          element.appendChild(docLink);\n",
              "        }\n",
              "      </script>\n",
              "    </div>\n",
              "  </div>\n",
              "  "
            ]
          },
          "metadata": {},
          "execution_count": 75
        }
      ]
    },
    {
      "cell_type": "code",
      "source": [],
      "metadata": {
        "id": "v2b9y7FHBbFn"
      },
      "execution_count": null,
      "outputs": []
    },
    {
      "cell_type": "code",
      "source": [
        "pred_probs = np.squeeze(best_model.predict(test_df['text']))\n",
        "pred_label = np.squeeze(np.round(pred_probs))\n",
        "pred_label"
      ],
      "metadata": {
        "colab": {
          "base_uri": "https://localhost:8080/"
        },
        "outputId": "8f657805-5973-4e5b-98ab-e719ed2de171",
        "id": "Es0f__1EBbVI"
      },
      "execution_count": 78,
      "outputs": [
        {
          "output_type": "execute_result",
          "data": {
            "text/plain": [
              "array([1., 1., 1., ..., 1., 1., 1.], dtype=float16)"
            ]
          },
          "metadata": {},
          "execution_count": 78
        }
      ]
    },
    {
      "cell_type": "code",
      "source": [
        "predicted_notarget_tweets = pd.DataFrame({'tweets':test_df['text'],\n",
        "              'pred': pred_label,\n",
        "              'prob': pred_probs})\n",
        "\n",
        "predicted_notarget_tweets"
      ],
      "metadata": {
        "colab": {
          "base_uri": "https://localhost:8080/",
          "height": 424
        },
        "outputId": "33677323-646b-497d-eb08-3534bff23652",
        "id": "mkpy-5vRBbVJ"
      },
      "execution_count": 80,
      "outputs": [
        {
          "output_type": "execute_result",
          "data": {
            "text/plain": [
              "                                                 tweets  pred      prob\n",
              "0                    Just happened a terrible car crash   1.0  0.739746\n",
              "1     Heard about #earthquake is different cities, s...   1.0  0.923340\n",
              "2     there is a forest fire at spot pond, geese are...   1.0  0.858887\n",
              "3              Apocalypse lighting. #Spokane #wildfires   1.0  0.930176\n",
              "4         Typhoon Soudelor kills 28 in China and Taiwan   1.0  0.968750\n",
              "...                                                 ...   ...       ...\n",
              "3258  EARTHQUAKE SAFETY LOS ANGELES ÛÒ SAFETY FASTE...   1.0  0.881836\n",
              "3259  Storm in RI worse than last hurricane. My city...   1.0  0.968750\n",
              "3260  Green Line derailment in Chicago http://t.co/U...   1.0  0.904785\n",
              "3261  MEG issues Hazardous Weather Outlook (HWO) htt...   1.0  0.651855\n",
              "3262  #CityofCalgary has activated its Municipal Eme...   1.0  0.766602\n",
              "\n",
              "[3263 rows x 3 columns]"
            ],
            "text/html": [
              "\n",
              "  <div id=\"df-75168f88-6ccc-44e9-83c6-2a4ed4f36798\">\n",
              "    <div class=\"colab-df-container\">\n",
              "      <div>\n",
              "<style scoped>\n",
              "    .dataframe tbody tr th:only-of-type {\n",
              "        vertical-align: middle;\n",
              "    }\n",
              "\n",
              "    .dataframe tbody tr th {\n",
              "        vertical-align: top;\n",
              "    }\n",
              "\n",
              "    .dataframe thead th {\n",
              "        text-align: right;\n",
              "    }\n",
              "</style>\n",
              "<table border=\"1\" class=\"dataframe\">\n",
              "  <thead>\n",
              "    <tr style=\"text-align: right;\">\n",
              "      <th></th>\n",
              "      <th>tweets</th>\n",
              "      <th>pred</th>\n",
              "      <th>prob</th>\n",
              "    </tr>\n",
              "  </thead>\n",
              "  <tbody>\n",
              "    <tr>\n",
              "      <th>0</th>\n",
              "      <td>Just happened a terrible car crash</td>\n",
              "      <td>1.0</td>\n",
              "      <td>0.739746</td>\n",
              "    </tr>\n",
              "    <tr>\n",
              "      <th>1</th>\n",
              "      <td>Heard about #earthquake is different cities, s...</td>\n",
              "      <td>1.0</td>\n",
              "      <td>0.923340</td>\n",
              "    </tr>\n",
              "    <tr>\n",
              "      <th>2</th>\n",
              "      <td>there is a forest fire at spot pond, geese are...</td>\n",
              "      <td>1.0</td>\n",
              "      <td>0.858887</td>\n",
              "    </tr>\n",
              "    <tr>\n",
              "      <th>3</th>\n",
              "      <td>Apocalypse lighting. #Spokane #wildfires</td>\n",
              "      <td>1.0</td>\n",
              "      <td>0.930176</td>\n",
              "    </tr>\n",
              "    <tr>\n",
              "      <th>4</th>\n",
              "      <td>Typhoon Soudelor kills 28 in China and Taiwan</td>\n",
              "      <td>1.0</td>\n",
              "      <td>0.968750</td>\n",
              "    </tr>\n",
              "    <tr>\n",
              "      <th>...</th>\n",
              "      <td>...</td>\n",
              "      <td>...</td>\n",
              "      <td>...</td>\n",
              "    </tr>\n",
              "    <tr>\n",
              "      <th>3258</th>\n",
              "      <td>EARTHQUAKE SAFETY LOS ANGELES ÛÒ SAFETY FASTE...</td>\n",
              "      <td>1.0</td>\n",
              "      <td>0.881836</td>\n",
              "    </tr>\n",
              "    <tr>\n",
              "      <th>3259</th>\n",
              "      <td>Storm in RI worse than last hurricane. My city...</td>\n",
              "      <td>1.0</td>\n",
              "      <td>0.968750</td>\n",
              "    </tr>\n",
              "    <tr>\n",
              "      <th>3260</th>\n",
              "      <td>Green Line derailment in Chicago http://t.co/U...</td>\n",
              "      <td>1.0</td>\n",
              "      <td>0.904785</td>\n",
              "    </tr>\n",
              "    <tr>\n",
              "      <th>3261</th>\n",
              "      <td>MEG issues Hazardous Weather Outlook (HWO) htt...</td>\n",
              "      <td>1.0</td>\n",
              "      <td>0.651855</td>\n",
              "    </tr>\n",
              "    <tr>\n",
              "      <th>3262</th>\n",
              "      <td>#CityofCalgary has activated its Municipal Eme...</td>\n",
              "      <td>1.0</td>\n",
              "      <td>0.766602</td>\n",
              "    </tr>\n",
              "  </tbody>\n",
              "</table>\n",
              "<p>3263 rows × 3 columns</p>\n",
              "</div>\n",
              "      <button class=\"colab-df-convert\" onclick=\"convertToInteractive('df-75168f88-6ccc-44e9-83c6-2a4ed4f36798')\"\n",
              "              title=\"Convert this dataframe to an interactive table.\"\n",
              "              style=\"display:none;\">\n",
              "        \n",
              "  <svg xmlns=\"http://www.w3.org/2000/svg\" height=\"24px\"viewBox=\"0 0 24 24\"\n",
              "       width=\"24px\">\n",
              "    <path d=\"M0 0h24v24H0V0z\" fill=\"none\"/>\n",
              "    <path d=\"M18.56 5.44l.94 2.06.94-2.06 2.06-.94-2.06-.94-.94-2.06-.94 2.06-2.06.94zm-11 1L8.5 8.5l.94-2.06 2.06-.94-2.06-.94L8.5 2.5l-.94 2.06-2.06.94zm10 10l.94 2.06.94-2.06 2.06-.94-2.06-.94-.94-2.06-.94 2.06-2.06.94z\"/><path d=\"M17.41 7.96l-1.37-1.37c-.4-.4-.92-.59-1.43-.59-.52 0-1.04.2-1.43.59L10.3 9.45l-7.72 7.72c-.78.78-.78 2.05 0 2.83L4 21.41c.39.39.9.59 1.41.59.51 0 1.02-.2 1.41-.59l7.78-7.78 2.81-2.81c.8-.78.8-2.07 0-2.86zM5.41 20L4 18.59l7.72-7.72 1.47 1.35L5.41 20z\"/>\n",
              "  </svg>\n",
              "      </button>\n",
              "      \n",
              "  <style>\n",
              "    .colab-df-container {\n",
              "      display:flex;\n",
              "      flex-wrap:wrap;\n",
              "      gap: 12px;\n",
              "    }\n",
              "\n",
              "    .colab-df-convert {\n",
              "      background-color: #E8F0FE;\n",
              "      border: none;\n",
              "      border-radius: 50%;\n",
              "      cursor: pointer;\n",
              "      display: none;\n",
              "      fill: #1967D2;\n",
              "      height: 32px;\n",
              "      padding: 0 0 0 0;\n",
              "      width: 32px;\n",
              "    }\n",
              "\n",
              "    .colab-df-convert:hover {\n",
              "      background-color: #E2EBFA;\n",
              "      box-shadow: 0px 1px 2px rgba(60, 64, 67, 0.3), 0px 1px 3px 1px rgba(60, 64, 67, 0.15);\n",
              "      fill: #174EA6;\n",
              "    }\n",
              "\n",
              "    [theme=dark] .colab-df-convert {\n",
              "      background-color: #3B4455;\n",
              "      fill: #D2E3FC;\n",
              "    }\n",
              "\n",
              "    [theme=dark] .colab-df-convert:hover {\n",
              "      background-color: #434B5C;\n",
              "      box-shadow: 0px 1px 3px 1px rgba(0, 0, 0, 0.15);\n",
              "      filter: drop-shadow(0px 1px 2px rgba(0, 0, 0, 0.3));\n",
              "      fill: #FFFFFF;\n",
              "    }\n",
              "  </style>\n",
              "\n",
              "      <script>\n",
              "        const buttonEl =\n",
              "          document.querySelector('#df-75168f88-6ccc-44e9-83c6-2a4ed4f36798 button.colab-df-convert');\n",
              "        buttonEl.style.display =\n",
              "          google.colab.kernel.accessAllowed ? 'block' : 'none';\n",
              "\n",
              "        async function convertToInteractive(key) {\n",
              "          const element = document.querySelector('#df-75168f88-6ccc-44e9-83c6-2a4ed4f36798');\n",
              "          const dataTable =\n",
              "            await google.colab.kernel.invokeFunction('convertToInteractive',\n",
              "                                                     [key], {});\n",
              "          if (!dataTable) return;\n",
              "\n",
              "          const docLinkHtml = 'Like what you see? Visit the ' +\n",
              "            '<a target=\"_blank\" href=https://colab.research.google.com/notebooks/data_table.ipynb>data table notebook</a>'\n",
              "            + ' to learn more about interactive tables.';\n",
              "          element.innerHTML = '';\n",
              "          dataTable['output_type'] = 'display_data';\n",
              "          await google.colab.output.renderOutput(dataTable, element);\n",
              "          const docLink = document.createElement('div');\n",
              "          docLink.innerHTML = docLinkHtml;\n",
              "          element.appendChild(docLink);\n",
              "        }\n",
              "      </script>\n",
              "    </div>\n",
              "  </div>\n",
              "  "
            ]
          },
          "metadata": {},
          "execution_count": 80
        }
      ]
    },
    {
      "cell_type": "code",
      "source": [
        "predicted_notarget_tweets['pred'].value_counts()"
      ],
      "metadata": {
        "colab": {
          "base_uri": "https://localhost:8080/"
        },
        "id": "jXHIzqlMCHia",
        "outputId": "d8526409-3303-4cee-8ac2-1e7791024cb3"
      },
      "execution_count": 82,
      "outputs": [
        {
          "output_type": "execute_result",
          "data": {
            "text/plain": [
              "0.0    1955\n",
              "1.0    1308\n",
              "Name: pred, dtype: int64"
            ]
          },
          "metadata": {},
          "execution_count": 82
        }
      ]
    },
    {
      "cell_type": "code",
      "source": [
        "predicted_notarget_tweets.sort_values('pred')"
      ],
      "metadata": {
        "id": "DPc_Wjc0WGl6",
        "colab": {
          "base_uri": "https://localhost:8080/",
          "height": 424
        },
        "outputId": "5b2d4d3c-1659-4600-8ccc-a7dda1e488c7"
      },
      "execution_count": 81,
      "outputs": [
        {
          "output_type": "execute_result",
          "data": {
            "text/plain": [
              "                                                 tweets  pred      prob\n",
              "1631  You were just waiting for us to go down in flames   0.0  0.211792\n",
              "2696  Man united is not just about playing football ...   0.0  0.161865\n",
              "1530  I would rather dwell in the land of famine and...   0.0  0.146973\n",
              "2698  Gets violently ill and it's obvious\\nMale cowo...   0.0  0.107849\n",
              "2699  Renewing Your Kitchen Cabinets for $100 http:/...   0.0  0.097168\n",
              "...                                                 ...   ...       ...\n",
              "1600  Truck driver died in Turnpike fire most lanes ...   1.0  0.976074\n",
              "1598  Pickup Truck Fire On Driscoll Bridge Snags Gar...   1.0  0.870605\n",
              "1597  Truck catches fire in Warwick: A tree service ...   1.0  0.955078\n",
              "1529  NONSENSE &gt;&gt; famine memories  -- strong e...   1.0  0.916016\n",
              "3262  #CityofCalgary has activated its Municipal Eme...   1.0  0.766602\n",
              "\n",
              "[3263 rows x 3 columns]"
            ],
            "text/html": [
              "\n",
              "  <div id=\"df-9aadc6b3-2f8f-415b-a1d3-4ab386d01142\">\n",
              "    <div class=\"colab-df-container\">\n",
              "      <div>\n",
              "<style scoped>\n",
              "    .dataframe tbody tr th:only-of-type {\n",
              "        vertical-align: middle;\n",
              "    }\n",
              "\n",
              "    .dataframe tbody tr th {\n",
              "        vertical-align: top;\n",
              "    }\n",
              "\n",
              "    .dataframe thead th {\n",
              "        text-align: right;\n",
              "    }\n",
              "</style>\n",
              "<table border=\"1\" class=\"dataframe\">\n",
              "  <thead>\n",
              "    <tr style=\"text-align: right;\">\n",
              "      <th></th>\n",
              "      <th>tweets</th>\n",
              "      <th>pred</th>\n",
              "      <th>prob</th>\n",
              "    </tr>\n",
              "  </thead>\n",
              "  <tbody>\n",
              "    <tr>\n",
              "      <th>1631</th>\n",
              "      <td>You were just waiting for us to go down in flames</td>\n",
              "      <td>0.0</td>\n",
              "      <td>0.211792</td>\n",
              "    </tr>\n",
              "    <tr>\n",
              "      <th>2696</th>\n",
              "      <td>Man united is not just about playing football ...</td>\n",
              "      <td>0.0</td>\n",
              "      <td>0.161865</td>\n",
              "    </tr>\n",
              "    <tr>\n",
              "      <th>1530</th>\n",
              "      <td>I would rather dwell in the land of famine and...</td>\n",
              "      <td>0.0</td>\n",
              "      <td>0.146973</td>\n",
              "    </tr>\n",
              "    <tr>\n",
              "      <th>2698</th>\n",
              "      <td>Gets violently ill and it's obvious\\nMale cowo...</td>\n",
              "      <td>0.0</td>\n",
              "      <td>0.107849</td>\n",
              "    </tr>\n",
              "    <tr>\n",
              "      <th>2699</th>\n",
              "      <td>Renewing Your Kitchen Cabinets for $100 http:/...</td>\n",
              "      <td>0.0</td>\n",
              "      <td>0.097168</td>\n",
              "    </tr>\n",
              "    <tr>\n",
              "      <th>...</th>\n",
              "      <td>...</td>\n",
              "      <td>...</td>\n",
              "      <td>...</td>\n",
              "    </tr>\n",
              "    <tr>\n",
              "      <th>1600</th>\n",
              "      <td>Truck driver died in Turnpike fire most lanes ...</td>\n",
              "      <td>1.0</td>\n",
              "      <td>0.976074</td>\n",
              "    </tr>\n",
              "    <tr>\n",
              "      <th>1598</th>\n",
              "      <td>Pickup Truck Fire On Driscoll Bridge Snags Gar...</td>\n",
              "      <td>1.0</td>\n",
              "      <td>0.870605</td>\n",
              "    </tr>\n",
              "    <tr>\n",
              "      <th>1597</th>\n",
              "      <td>Truck catches fire in Warwick: A tree service ...</td>\n",
              "      <td>1.0</td>\n",
              "      <td>0.955078</td>\n",
              "    </tr>\n",
              "    <tr>\n",
              "      <th>1529</th>\n",
              "      <td>NONSENSE &amp;gt;&amp;gt; famine memories  -- strong e...</td>\n",
              "      <td>1.0</td>\n",
              "      <td>0.916016</td>\n",
              "    </tr>\n",
              "    <tr>\n",
              "      <th>3262</th>\n",
              "      <td>#CityofCalgary has activated its Municipal Eme...</td>\n",
              "      <td>1.0</td>\n",
              "      <td>0.766602</td>\n",
              "    </tr>\n",
              "  </tbody>\n",
              "</table>\n",
              "<p>3263 rows × 3 columns</p>\n",
              "</div>\n",
              "      <button class=\"colab-df-convert\" onclick=\"convertToInteractive('df-9aadc6b3-2f8f-415b-a1d3-4ab386d01142')\"\n",
              "              title=\"Convert this dataframe to an interactive table.\"\n",
              "              style=\"display:none;\">\n",
              "        \n",
              "  <svg xmlns=\"http://www.w3.org/2000/svg\" height=\"24px\"viewBox=\"0 0 24 24\"\n",
              "       width=\"24px\">\n",
              "    <path d=\"M0 0h24v24H0V0z\" fill=\"none\"/>\n",
              "    <path d=\"M18.56 5.44l.94 2.06.94-2.06 2.06-.94-2.06-.94-.94-2.06-.94 2.06-2.06.94zm-11 1L8.5 8.5l.94-2.06 2.06-.94-2.06-.94L8.5 2.5l-.94 2.06-2.06.94zm10 10l.94 2.06.94-2.06 2.06-.94-2.06-.94-.94-2.06-.94 2.06-2.06.94z\"/><path d=\"M17.41 7.96l-1.37-1.37c-.4-.4-.92-.59-1.43-.59-.52 0-1.04.2-1.43.59L10.3 9.45l-7.72 7.72c-.78.78-.78 2.05 0 2.83L4 21.41c.39.39.9.59 1.41.59.51 0 1.02-.2 1.41-.59l7.78-7.78 2.81-2.81c.8-.78.8-2.07 0-2.86zM5.41 20L4 18.59l7.72-7.72 1.47 1.35L5.41 20z\"/>\n",
              "  </svg>\n",
              "      </button>\n",
              "      \n",
              "  <style>\n",
              "    .colab-df-container {\n",
              "      display:flex;\n",
              "      flex-wrap:wrap;\n",
              "      gap: 12px;\n",
              "    }\n",
              "\n",
              "    .colab-df-convert {\n",
              "      background-color: #E8F0FE;\n",
              "      border: none;\n",
              "      border-radius: 50%;\n",
              "      cursor: pointer;\n",
              "      display: none;\n",
              "      fill: #1967D2;\n",
              "      height: 32px;\n",
              "      padding: 0 0 0 0;\n",
              "      width: 32px;\n",
              "    }\n",
              "\n",
              "    .colab-df-convert:hover {\n",
              "      background-color: #E2EBFA;\n",
              "      box-shadow: 0px 1px 2px rgba(60, 64, 67, 0.3), 0px 1px 3px 1px rgba(60, 64, 67, 0.15);\n",
              "      fill: #174EA6;\n",
              "    }\n",
              "\n",
              "    [theme=dark] .colab-df-convert {\n",
              "      background-color: #3B4455;\n",
              "      fill: #D2E3FC;\n",
              "    }\n",
              "\n",
              "    [theme=dark] .colab-df-convert:hover {\n",
              "      background-color: #434B5C;\n",
              "      box-shadow: 0px 1px 3px 1px rgba(0, 0, 0, 0.15);\n",
              "      filter: drop-shadow(0px 1px 2px rgba(0, 0, 0, 0.3));\n",
              "      fill: #FFFFFF;\n",
              "    }\n",
              "  </style>\n",
              "\n",
              "      <script>\n",
              "        const buttonEl =\n",
              "          document.querySelector('#df-9aadc6b3-2f8f-415b-a1d3-4ab386d01142 button.colab-df-convert');\n",
              "        buttonEl.style.display =\n",
              "          google.colab.kernel.accessAllowed ? 'block' : 'none';\n",
              "\n",
              "        async function convertToInteractive(key) {\n",
              "          const element = document.querySelector('#df-9aadc6b3-2f8f-415b-a1d3-4ab386d01142');\n",
              "          const dataTable =\n",
              "            await google.colab.kernel.invokeFunction('convertToInteractive',\n",
              "                                                     [key], {});\n",
              "          if (!dataTable) return;\n",
              "\n",
              "          const docLinkHtml = 'Like what you see? Visit the ' +\n",
              "            '<a target=\"_blank\" href=https://colab.research.google.com/notebooks/data_table.ipynb>data table notebook</a>'\n",
              "            + ' to learn more about interactive tables.';\n",
              "          element.innerHTML = '';\n",
              "          dataTable['output_type'] = 'display_data';\n",
              "          await google.colab.output.renderOutput(dataTable, element);\n",
              "          const docLink = document.createElement('div');\n",
              "          docLink.innerHTML = docLinkHtml;\n",
              "          element.appendChild(docLink);\n",
              "        }\n",
              "      </script>\n",
              "    </div>\n",
              "  </div>\n",
              "  "
            ]
          },
          "metadata": {},
          "execution_count": 81
        }
      ]
    },
    {
      "cell_type": "code",
      "source": [
        "predicted_notarget_tweets['pred'] = predicted_notarget_tweets['pred'].map({0.0:'No disaster',1.0:'disaster'})"
      ],
      "metadata": {
        "id": "ASS576CFBICV"
      },
      "execution_count": 85,
      "outputs": []
    },
    {
      "cell_type": "code",
      "source": [
        "predicted_notarget_tweets.head(20)"
      ],
      "metadata": {
        "colab": {
          "base_uri": "https://localhost:8080/",
          "height": 677
        },
        "id": "SuSMAFLQCkHw",
        "outputId": "cfff1fdd-4afd-496e-ba3f-924fb0c6fd7a"
      },
      "execution_count": 87,
      "outputs": [
        {
          "output_type": "execute_result",
          "data": {
            "text/plain": [
              "                                               tweets         pred      prob\n",
              "0                  Just happened a terrible car crash     disaster  0.739746\n",
              "1   Heard about #earthquake is different cities, s...     disaster  0.923340\n",
              "2   there is a forest fire at spot pond, geese are...     disaster  0.858887\n",
              "3            Apocalypse lighting. #Spokane #wildfires     disaster  0.930176\n",
              "4       Typhoon Soudelor kills 28 in China and Taiwan     disaster  0.968750\n",
              "5                  We're shaking...It's an earthquake     disaster  0.646484\n",
              "6   They'd probably still show more life than Arse...  No disaster  0.083862\n",
              "7                                   Hey! How are you?  No disaster  0.075317\n",
              "8                                    What a nice hat?  No disaster  0.068054\n",
              "9                                           Fuck off!  No disaster  0.085571\n",
              "10                              No I don't like cold!  No disaster  0.126221\n",
              "11                         NOOOOOOOOO! Don't do that!  No disaster  0.128296\n",
              "12                             No don't tell me that!  No disaster  0.136475\n",
              "13                                          What if?!  No disaster  0.191895\n",
              "14                                           Awesome!  No disaster  0.066223\n",
              "15  Birmingham Wholesale Market is ablaze BBC News...     disaster  0.911133\n",
              "16  @sunkxssedharry will you wear shorts for race ...  No disaster  0.159668\n",
              "17  #PreviouslyOnDoyinTv: Toke MakinwaÛªs marriag...  No disaster  0.474121\n",
              "18  Check these out: http://t.co/rOI2NSmEJJ http:/...  No disaster  0.056427\n",
              "19  PSA: IÛªm splitting my personalities.\\n\\n?? t...  No disaster  0.327393"
            ],
            "text/html": [
              "\n",
              "  <div id=\"df-c7c2fac8-3b55-48a8-ad46-64c4e8172edb\">\n",
              "    <div class=\"colab-df-container\">\n",
              "      <div>\n",
              "<style scoped>\n",
              "    .dataframe tbody tr th:only-of-type {\n",
              "        vertical-align: middle;\n",
              "    }\n",
              "\n",
              "    .dataframe tbody tr th {\n",
              "        vertical-align: top;\n",
              "    }\n",
              "\n",
              "    .dataframe thead th {\n",
              "        text-align: right;\n",
              "    }\n",
              "</style>\n",
              "<table border=\"1\" class=\"dataframe\">\n",
              "  <thead>\n",
              "    <tr style=\"text-align: right;\">\n",
              "      <th></th>\n",
              "      <th>tweets</th>\n",
              "      <th>pred</th>\n",
              "      <th>prob</th>\n",
              "    </tr>\n",
              "  </thead>\n",
              "  <tbody>\n",
              "    <tr>\n",
              "      <th>0</th>\n",
              "      <td>Just happened a terrible car crash</td>\n",
              "      <td>disaster</td>\n",
              "      <td>0.739746</td>\n",
              "    </tr>\n",
              "    <tr>\n",
              "      <th>1</th>\n",
              "      <td>Heard about #earthquake is different cities, s...</td>\n",
              "      <td>disaster</td>\n",
              "      <td>0.923340</td>\n",
              "    </tr>\n",
              "    <tr>\n",
              "      <th>2</th>\n",
              "      <td>there is a forest fire at spot pond, geese are...</td>\n",
              "      <td>disaster</td>\n",
              "      <td>0.858887</td>\n",
              "    </tr>\n",
              "    <tr>\n",
              "      <th>3</th>\n",
              "      <td>Apocalypse lighting. #Spokane #wildfires</td>\n",
              "      <td>disaster</td>\n",
              "      <td>0.930176</td>\n",
              "    </tr>\n",
              "    <tr>\n",
              "      <th>4</th>\n",
              "      <td>Typhoon Soudelor kills 28 in China and Taiwan</td>\n",
              "      <td>disaster</td>\n",
              "      <td>0.968750</td>\n",
              "    </tr>\n",
              "    <tr>\n",
              "      <th>5</th>\n",
              "      <td>We're shaking...It's an earthquake</td>\n",
              "      <td>disaster</td>\n",
              "      <td>0.646484</td>\n",
              "    </tr>\n",
              "    <tr>\n",
              "      <th>6</th>\n",
              "      <td>They'd probably still show more life than Arse...</td>\n",
              "      <td>No disaster</td>\n",
              "      <td>0.083862</td>\n",
              "    </tr>\n",
              "    <tr>\n",
              "      <th>7</th>\n",
              "      <td>Hey! How are you?</td>\n",
              "      <td>No disaster</td>\n",
              "      <td>0.075317</td>\n",
              "    </tr>\n",
              "    <tr>\n",
              "      <th>8</th>\n",
              "      <td>What a nice hat?</td>\n",
              "      <td>No disaster</td>\n",
              "      <td>0.068054</td>\n",
              "    </tr>\n",
              "    <tr>\n",
              "      <th>9</th>\n",
              "      <td>Fuck off!</td>\n",
              "      <td>No disaster</td>\n",
              "      <td>0.085571</td>\n",
              "    </tr>\n",
              "    <tr>\n",
              "      <th>10</th>\n",
              "      <td>No I don't like cold!</td>\n",
              "      <td>No disaster</td>\n",
              "      <td>0.126221</td>\n",
              "    </tr>\n",
              "    <tr>\n",
              "      <th>11</th>\n",
              "      <td>NOOOOOOOOO! Don't do that!</td>\n",
              "      <td>No disaster</td>\n",
              "      <td>0.128296</td>\n",
              "    </tr>\n",
              "    <tr>\n",
              "      <th>12</th>\n",
              "      <td>No don't tell me that!</td>\n",
              "      <td>No disaster</td>\n",
              "      <td>0.136475</td>\n",
              "    </tr>\n",
              "    <tr>\n",
              "      <th>13</th>\n",
              "      <td>What if?!</td>\n",
              "      <td>No disaster</td>\n",
              "      <td>0.191895</td>\n",
              "    </tr>\n",
              "    <tr>\n",
              "      <th>14</th>\n",
              "      <td>Awesome!</td>\n",
              "      <td>No disaster</td>\n",
              "      <td>0.066223</td>\n",
              "    </tr>\n",
              "    <tr>\n",
              "      <th>15</th>\n",
              "      <td>Birmingham Wholesale Market is ablaze BBC News...</td>\n",
              "      <td>disaster</td>\n",
              "      <td>0.911133</td>\n",
              "    </tr>\n",
              "    <tr>\n",
              "      <th>16</th>\n",
              "      <td>@sunkxssedharry will you wear shorts for race ...</td>\n",
              "      <td>No disaster</td>\n",
              "      <td>0.159668</td>\n",
              "    </tr>\n",
              "    <tr>\n",
              "      <th>17</th>\n",
              "      <td>#PreviouslyOnDoyinTv: Toke MakinwaÛªs marriag...</td>\n",
              "      <td>No disaster</td>\n",
              "      <td>0.474121</td>\n",
              "    </tr>\n",
              "    <tr>\n",
              "      <th>18</th>\n",
              "      <td>Check these out: http://t.co/rOI2NSmEJJ http:/...</td>\n",
              "      <td>No disaster</td>\n",
              "      <td>0.056427</td>\n",
              "    </tr>\n",
              "    <tr>\n",
              "      <th>19</th>\n",
              "      <td>PSA: IÛªm splitting my personalities.\\n\\n?? t...</td>\n",
              "      <td>No disaster</td>\n",
              "      <td>0.327393</td>\n",
              "    </tr>\n",
              "  </tbody>\n",
              "</table>\n",
              "</div>\n",
              "      <button class=\"colab-df-convert\" onclick=\"convertToInteractive('df-c7c2fac8-3b55-48a8-ad46-64c4e8172edb')\"\n",
              "              title=\"Convert this dataframe to an interactive table.\"\n",
              "              style=\"display:none;\">\n",
              "        \n",
              "  <svg xmlns=\"http://www.w3.org/2000/svg\" height=\"24px\"viewBox=\"0 0 24 24\"\n",
              "       width=\"24px\">\n",
              "    <path d=\"M0 0h24v24H0V0z\" fill=\"none\"/>\n",
              "    <path d=\"M18.56 5.44l.94 2.06.94-2.06 2.06-.94-2.06-.94-.94-2.06-.94 2.06-2.06.94zm-11 1L8.5 8.5l.94-2.06 2.06-.94-2.06-.94L8.5 2.5l-.94 2.06-2.06.94zm10 10l.94 2.06.94-2.06 2.06-.94-2.06-.94-.94-2.06-.94 2.06-2.06.94z\"/><path d=\"M17.41 7.96l-1.37-1.37c-.4-.4-.92-.59-1.43-.59-.52 0-1.04.2-1.43.59L10.3 9.45l-7.72 7.72c-.78.78-.78 2.05 0 2.83L4 21.41c.39.39.9.59 1.41.59.51 0 1.02-.2 1.41-.59l7.78-7.78 2.81-2.81c.8-.78.8-2.07 0-2.86zM5.41 20L4 18.59l7.72-7.72 1.47 1.35L5.41 20z\"/>\n",
              "  </svg>\n",
              "      </button>\n",
              "      \n",
              "  <style>\n",
              "    .colab-df-container {\n",
              "      display:flex;\n",
              "      flex-wrap:wrap;\n",
              "      gap: 12px;\n",
              "    }\n",
              "\n",
              "    .colab-df-convert {\n",
              "      background-color: #E8F0FE;\n",
              "      border: none;\n",
              "      border-radius: 50%;\n",
              "      cursor: pointer;\n",
              "      display: none;\n",
              "      fill: #1967D2;\n",
              "      height: 32px;\n",
              "      padding: 0 0 0 0;\n",
              "      width: 32px;\n",
              "    }\n",
              "\n",
              "    .colab-df-convert:hover {\n",
              "      background-color: #E2EBFA;\n",
              "      box-shadow: 0px 1px 2px rgba(60, 64, 67, 0.3), 0px 1px 3px 1px rgba(60, 64, 67, 0.15);\n",
              "      fill: #174EA6;\n",
              "    }\n",
              "\n",
              "    [theme=dark] .colab-df-convert {\n",
              "      background-color: #3B4455;\n",
              "      fill: #D2E3FC;\n",
              "    }\n",
              "\n",
              "    [theme=dark] .colab-df-convert:hover {\n",
              "      background-color: #434B5C;\n",
              "      box-shadow: 0px 1px 3px 1px rgba(0, 0, 0, 0.15);\n",
              "      filter: drop-shadow(0px 1px 2px rgba(0, 0, 0, 0.3));\n",
              "      fill: #FFFFFF;\n",
              "    }\n",
              "  </style>\n",
              "\n",
              "      <script>\n",
              "        const buttonEl =\n",
              "          document.querySelector('#df-c7c2fac8-3b55-48a8-ad46-64c4e8172edb button.colab-df-convert');\n",
              "        buttonEl.style.display =\n",
              "          google.colab.kernel.accessAllowed ? 'block' : 'none';\n",
              "\n",
              "        async function convertToInteractive(key) {\n",
              "          const element = document.querySelector('#df-c7c2fac8-3b55-48a8-ad46-64c4e8172edb');\n",
              "          const dataTable =\n",
              "            await google.colab.kernel.invokeFunction('convertToInteractive',\n",
              "                                                     [key], {});\n",
              "          if (!dataTable) return;\n",
              "\n",
              "          const docLinkHtml = 'Like what you see? Visit the ' +\n",
              "            '<a target=\"_blank\" href=https://colab.research.google.com/notebooks/data_table.ipynb>data table notebook</a>'\n",
              "            + ' to learn more about interactive tables.';\n",
              "          element.innerHTML = '';\n",
              "          dataTable['output_type'] = 'display_data';\n",
              "          await google.colab.output.renderOutput(dataTable, element);\n",
              "          const docLink = document.createElement('div');\n",
              "          docLink.innerHTML = docLinkHtml;\n",
              "          element.appendChild(docLink);\n",
              "        }\n",
              "      </script>\n",
              "    </div>\n",
              "  </div>\n",
              "  "
            ]
          },
          "metadata": {},
          "execution_count": 87
        }
      ]
    },
    {
      "cell_type": "code",
      "source": [],
      "metadata": {
        "id": "NPev40JLCmKA"
      },
      "execution_count": null,
      "outputs": []
    }
  ]
}