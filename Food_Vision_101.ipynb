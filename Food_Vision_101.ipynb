{
  "cells": [
    {
      "cell_type": "markdown",
      "metadata": {
        "id": "view-in-github",
        "colab_type": "text"
      },
      "source": [
        "<a href=\"https://colab.research.google.com/github/hamednasr/TensorFlow-Projects/blob/main/Food_Vision_101.ipynb\" target=\"_parent\"><img src=\"https://colab.research.google.com/assets/colab-badge.svg\" alt=\"Open In Colab\"/></a>"
      ]
    },
    {
      "cell_type": "markdown",
      "metadata": {
        "id": "oAhtF6OoBUF_"
      },
      "source": [
        "# 101 Food Vision Classification\n",
        "### classification of food dataset with over 100000 food images into 101 differenet kinds of foods! "
      ]
    },
    {
      "cell_type": "markdown",
      "metadata": {
        "id": "RU-JliOBoXNx"
      },
      "source": [
        "## import libraries:"
      ]
    },
    {
      "cell_type": "code",
      "execution_count": 81,
      "metadata": {
        "id": "YTlljtnOoWpE"
      },
      "outputs": [],
      "source": [
        "import tensorflow as tf\n",
        "import tensorflow_datasets as tfds\n",
        "from tensorflow.keras import mixed_precision\n",
        "import matplotlib.pyplot as plt\n",
        "from sklearn.metrics import confusion_matrix, ConfusionMatrixDisplay , accuracy_score\n",
        "import numpy as np"
      ]
    },
    {
      "cell_type": "markdown",
      "metadata": {
        "id": "5QG4KfXO4dwc"
      },
      "source": []
    },
    {
      "cell_type": "markdown",
      "metadata": {
        "id": "Dpto3c5VGARt"
      },
      "source": [
        "## checking the GPU to see if it supports mixed precision"
      ]
    },
    {
      "cell_type": "code",
      "execution_count": 2,
      "metadata": {
        "colab": {
          "base_uri": "https://localhost:8080/"
        },
        "id": "O2LMaZ9hBIO9",
        "outputId": "ad134c90-b202-43a0-d060-0d930396cdb2"
      },
      "outputs": [
        {
          "output_type": "stream",
          "name": "stdout",
          "text": [
            "Sat Aug 27 05:22:05 2022       \n",
            "+-----------------------------------------------------------------------------+\n",
            "| NVIDIA-SMI 460.32.03    Driver Version: 460.32.03    CUDA Version: 11.2     |\n",
            "|-------------------------------+----------------------+----------------------+\n",
            "| GPU  Name        Persistence-M| Bus-Id        Disp.A | Volatile Uncorr. ECC |\n",
            "| Fan  Temp  Perf  Pwr:Usage/Cap|         Memory-Usage | GPU-Util  Compute M. |\n",
            "|                               |                      |               MIG M. |\n",
            "|===============================+======================+======================|\n",
            "|   0  Tesla T4            Off  | 00000000:00:04.0 Off |                    0 |\n",
            "| N/A   64C    P8    11W /  70W |      0MiB / 15109MiB |      0%      Default |\n",
            "|                               |                      |                  N/A |\n",
            "+-------------------------------+----------------------+----------------------+\n",
            "                                                                               \n",
            "+-----------------------------------------------------------------------------+\n",
            "| Processes:                                                                  |\n",
            "|  GPU   GI   CI        PID   Type   Process name                  GPU Memory |\n",
            "|        ID   ID                                                   Usage      |\n",
            "|=============================================================================|\n",
            "|  No running processes found                                                 |\n",
            "+-----------------------------------------------------------------------------+\n"
          ]
        }
      ],
      "source": [
        "!nvidia-smi"
      ]
    },
    {
      "cell_type": "code",
      "execution_count": 34,
      "metadata": {
        "colab": {
          "base_uri": "https://localhost:8080/"
        },
        "id": "DDQpbHPgIcz4",
        "outputId": "676e7eed-dfc2-4645-dc3f-e533cc05df15"
      },
      "outputs": [
        {
          "output_type": "stream",
          "name": "stdout",
          "text": [
            "--2022-08-27 05:43:13--  https://raw.githubusercontent.com/mrdbourke/tensorflow-deep-learning/main/extras/helper_functions.py\n",
            "Resolving raw.githubusercontent.com (raw.githubusercontent.com)... 185.199.108.133, 185.199.109.133, 185.199.111.133, ...\n",
            "Connecting to raw.githubusercontent.com (raw.githubusercontent.com)|185.199.108.133|:443... connected.\n",
            "HTTP request sent, awaiting response... 200 OK\n",
            "Length: 10246 (10K) [text/plain]\n",
            "Saving to: ‘helper_functions.py’\n",
            "\n",
            "helper_functions.py 100%[===================>]  10.01K  --.-KB/s    in 0s      \n",
            "\n",
            "2022-08-27 05:43:14 (87.0 MB/s) - ‘helper_functions.py’ saved [10246/10246]\n",
            "\n"
          ]
        }
      ],
      "source": [
        "!wget https://raw.githubusercontent.com/mrdbourke/tensorflow-deep-learning/main/extras/helper_functions.py"
      ]
    },
    {
      "cell_type": "code",
      "execution_count": 35,
      "metadata": {
        "id": "4Jan0HmuHuaw"
      },
      "outputs": [],
      "source": [
        "from helper_functions import create_tensorboard_callback, plot_loss_curves, compare_historys "
      ]
    },
    {
      "cell_type": "markdown",
      "metadata": {
        "id": "hBbsM-KR_9c0"
      },
      "source": [
        "## Tensorflow Datasets"
      ]
    },
    {
      "cell_type": "code",
      "execution_count": null,
      "metadata": {
        "colab": {
          "base_uri": "https://localhost:8080/"
        },
        "id": "ZJEKVB3Bxmt7",
        "outputId": "aaadbdcc-f913-4f41-8ef0-bbe3b5c9e08e"
      },
      "outputs": [
        {
          "data": {
            "text/plain": [
              "['abstract_reasoning',\n",
              " 'accentdb',\n",
              " 'aeslc',\n",
              " 'aflw2k3d',\n",
              " 'ag_news_subset',\n",
              " 'ai2_arc',\n",
              " 'ai2_arc_with_ir',\n",
              " 'amazon_us_reviews',\n",
              " 'anli',\n",
              " 'answer_equivalence']"
            ]
          },
          "execution_count": 108,
          "metadata": {},
          "output_type": "execute_result"
        }
      ],
      "source": [
        "dataset_list = tfds.list_builders()\n",
        "dataset_list [:10]"
      ]
    },
    {
      "cell_type": "markdown",
      "metadata": {
        "id": "KrqtXWfHIr95"
      },
      "source": [
        "## importing food 101 dataset"
      ]
    },
    {
      "cell_type": "code",
      "execution_count": 4,
      "metadata": {
        "id": "S7PSAn5hx48g",
        "colab": {
          "base_uri": "https://localhost:8080/",
          "height": 169,
          "referenced_widgets": [
            "0089b057e0094b4a9cbe6358e7623ccc",
            "e5ef34ed9f774ad888ec9e186b7b9cee",
            "e732a43a50114a6f95a015191a052360",
            "3cbe094b3cf548f0ba664f31c964203c",
            "a7ce6b3251e743658065b6ebd4ebc030",
            "9a32d5bb07c84e69b150437ccad6917c",
            "ffa1f7f0200c4fbe83a80728b3bdd3e2",
            "190e30b6f8ab438885ec64200c079b41",
            "f1405dc52bc9447ab5c94c7563871d23",
            "9ce2789d1f0b40fbaa907995b78e6f43",
            "b6252ede37dd43ae94dc8ff7423be4f2",
            "49aad43e2e474914821887e6ed9367a6",
            "44ddee286ff4476a99a4b641bdf365bf",
            "f8a6db352e584de4b1bb39a0a84596af",
            "3d008d45cdd5441b8305a01e2bd887b2",
            "0c55bae256914c36b8f35b8b03a1b8b8",
            "f57352106b0d45098691e64c4aa715f9",
            "f349d96b309f41f39aef6e33c7634c03",
            "c4fc826ea5be482ba53d80f479ea6a4b",
            "1729c41290dd4d089823086dfcf47d61",
            "91042be83e3c4304935ce5c8f25dfb90",
            "3aa5d9bd933f4847a9ea68b3903310ed",
            "63465cde5d7e494bad0bff204cefc4c4",
            "c9c0c55aa719430a88f0b875cb37e522",
            "121ae522f7174d61b152d416cbda79c5",
            "200c90d291674c469281fb056d59e195",
            "5b203cde3de24b159465b55289151c2e",
            "92881a1459b64260bbed4a5dcf554580",
            "315cf8cc6dba440386c6938688c894e5",
            "e83f7c0a086a488985f83e330727a3ad",
            "940059b09b864513974fe6aedf10410a",
            "71e0d501d2c14d349916f08ce7656840",
            "04679f17da37482cab054644664cf28c",
            "4b1b0e0de39e45299e1b1918bfe7b8db",
            "d6d7099a68184ae18f03b751044dfb95",
            "ae087459ca8a429da50a6a46e1ae0ad2",
            "a0a5f61de5fd4561945d616d321b988b",
            "d5cc6ee501814920ae3e5f4225d6e4c6",
            "c3ec6f9499b648e8a869b493bee25bef",
            "a044c5f7f5d245d6a1190e0037908119",
            "cca4f11a546b4342bc1e4a21a2d1cdf2",
            "ca56f5d4385c4733bbca3c99bf5695d5",
            "7dcb5e81cf304034a2cc65e57cb6c087",
            "069b8c7f966a4a7ca2d1f84ba9360542",
            "a12fbe654d054b2c852d299f962c0f6b",
            "f6d57ff0afb44619993b87edfa4d02cd",
            "78ea38ea0ea547d5af41849299f1b573",
            "e9b4de12c82040d0bc404ec71b7f8f60",
            "9ada79d3e5824382b078cbef06b5cae4",
            "62399b3616414bd7b62ec4e1881165af",
            "148dd44e1f4b4bddbbcaf06b44cca701",
            "58b962d544b4473e9f3023a8d0a71a0d",
            "71945c01f3a4484fb8616a5aac5950be",
            "cc0d1c614b4643fbb321e9bbb62bcf76",
            "a4047d06f4fa43948a2be3c8c700b973",
            "5fa0bfd4d3f8483699435cff25b61915",
            "ba6d9b6c2f304f8f99bea0c0674e091b",
            "6913b3327176415fa1612dd6dbe4a71b",
            "ec55ced012b14238aebf2c608620be89",
            "16795420dedb4404a7e8954d8412c5dc",
            "06859f2894ed4165acbcf0e46dc6b03e",
            "1420d9e3dd894d72a4089cc7a3412320",
            "0aef0921101740e48a88c84d6d9d165e",
            "bdca036a5b6e4668965a08d6852d8b15",
            "5ebc2907411f4d2f94b8a975c036e3b0",
            "d4fb0b21671049519ee9add724de4b73",
            "19a914d3160c418893593cb5b34474de",
            "546e8a5eb750438aa2a26250c31adbcd",
            "95095d0b21274302a6f772d7f6ddacec",
            "ba2b2552226844fc9310de06d546ed99",
            "386ec96f08e14d77abb4419c61c0257b",
            "b0b4171e9e974d339f17e1cb82157354",
            "1923cc0643a24676a7678abae84a12b6",
            "5c7dd1233a1f4936b13040409c754df3",
            "8a673356875a422d9bda2775b84d92f3",
            "88662f07534d4ebca0b836913dbfe0f4",
            "3313a93dc6404f6ea7653562a1915f0a",
            "aa60539c5f3746ba8281bb42f3ca0519",
            "692f37beb4cc49079318881af5a2b953",
            "e4b28eeb75b947e6ba89b8bed5492851",
            "da21629b17154c37b47bb9eca4c9ec6d",
            "3a5f667024c54a05b6aac62c2109b604",
            "87a9e5656bf04ee78743404f47b31b89",
            "1a29dd3388a24c46a171a3428e334884",
            "437a8df28f604a199e97221648b94366",
            "85c6c34d5c774a85a38e93fa2988014d",
            "97bd6793ce634ef1823dffdcdfce4156",
            "e42b8dd675bd4fae9bdd9bef916b71ee"
          ]
        },
        "outputId": "f03cca6e-260d-438c-d9fe-97f181332aa6"
      },
      "outputs": [
        {
          "output_type": "stream",
          "name": "stdout",
          "text": [
            "\u001b[1mDownloading and preparing dataset 4.65 GiB (download: 4.65 GiB, generated: Unknown size, total: 4.65 GiB) to ~/tensorflow_datasets/food101/2.0.0...\u001b[0m\n"
          ]
        },
        {
          "output_type": "display_data",
          "data": {
            "text/plain": [
              "Dl Completed...: 0 url [00:00, ? url/s]"
            ],
            "application/vnd.jupyter.widget-view+json": {
              "version_major": 2,
              "version_minor": 0,
              "model_id": "0089b057e0094b4a9cbe6358e7623ccc"
            }
          },
          "metadata": {}
        },
        {
          "output_type": "display_data",
          "data": {
            "text/plain": [
              "Dl Size...: 0 MiB [00:00, ? MiB/s]"
            ],
            "application/vnd.jupyter.widget-view+json": {
              "version_major": 2,
              "version_minor": 0,
              "model_id": "49aad43e2e474914821887e6ed9367a6"
            }
          },
          "metadata": {}
        },
        {
          "output_type": "display_data",
          "data": {
            "text/plain": [
              "Extraction completed...: 0 file [00:00, ? file/s]"
            ],
            "application/vnd.jupyter.widget-view+json": {
              "version_major": 2,
              "version_minor": 0,
              "model_id": "63465cde5d7e494bad0bff204cefc4c4"
            }
          },
          "metadata": {}
        },
        {
          "output_type": "display_data",
          "data": {
            "text/plain": [
              "Generating splits...:   0%|          | 0/2 [00:00<?, ? splits/s]"
            ],
            "application/vnd.jupyter.widget-view+json": {
              "version_major": 2,
              "version_minor": 0,
              "model_id": "4b1b0e0de39e45299e1b1918bfe7b8db"
            }
          },
          "metadata": {}
        },
        {
          "output_type": "display_data",
          "data": {
            "text/plain": [
              "Generating train examples...:   0%|          | 0/75750 [00:00<?, ? examples/s]"
            ],
            "application/vnd.jupyter.widget-view+json": {
              "version_major": 2,
              "version_minor": 0,
              "model_id": "a12fbe654d054b2c852d299f962c0f6b"
            }
          },
          "metadata": {}
        },
        {
          "output_type": "display_data",
          "data": {
            "text/plain": [
              "Shuffling ~/tensorflow_datasets/food101/2.0.0.incomplete9OXS37/food101-train.tfrecord*...:   0%|          | 0/…"
            ],
            "application/vnd.jupyter.widget-view+json": {
              "version_major": 2,
              "version_minor": 0,
              "model_id": "5fa0bfd4d3f8483699435cff25b61915"
            }
          },
          "metadata": {}
        },
        {
          "output_type": "display_data",
          "data": {
            "text/plain": [
              "Generating validation examples...:   0%|          | 0/25250 [00:00<?, ? examples/s]"
            ],
            "application/vnd.jupyter.widget-view+json": {
              "version_major": 2,
              "version_minor": 0,
              "model_id": "19a914d3160c418893593cb5b34474de"
            }
          },
          "metadata": {}
        },
        {
          "output_type": "display_data",
          "data": {
            "text/plain": [
              "Shuffling ~/tensorflow_datasets/food101/2.0.0.incomplete9OXS37/food101-validation.tfrecord*...:   0%|         …"
            ],
            "application/vnd.jupyter.widget-view+json": {
              "version_major": 2,
              "version_minor": 0,
              "model_id": "aa60539c5f3746ba8281bb42f3ca0519"
            }
          },
          "metadata": {}
        },
        {
          "output_type": "stream",
          "name": "stdout",
          "text": [
            "\u001b[1mDataset food101 downloaded and prepared to ~/tensorflow_datasets/food101/2.0.0. Subsequent calls will reuse this data.\u001b[0m\n"
          ]
        }
      ],
      "source": [
        "(train_data,test_data), ds_info = tfds.load('food101',\n",
        "                                            split=['train','validation'],\n",
        "                                            shuffle_files=True,\n",
        "                                            as_supervised=True,\n",
        "                                            with_info=True,\n",
        "                                            batch_size=32)"
      ]
    },
    {
      "cell_type": "code",
      "execution_count": 5,
      "metadata": {
        "colab": {
          "base_uri": "https://localhost:8080/"
        },
        "id": "yfErRrpo6Wnm",
        "outputId": "9985cb38-a0b7-4737-adc5-688d55804d12"
      },
      "outputs": [
        {
          "output_type": "execute_result",
          "data": {
            "text/plain": [
              "<PrefetchDataset element_spec=(TensorSpec(shape=(None, None, None, 3), dtype=tf.uint8, name=None), TensorSpec(shape=(None,), dtype=tf.int64, name=None))>"
            ]
          },
          "metadata": {},
          "execution_count": 5
        }
      ],
      "source": [
        "test_data"
      ]
    },
    {
      "cell_type": "code",
      "execution_count": 6,
      "metadata": {
        "colab": {
          "base_uri": "https://localhost:8080/"
        },
        "id": "2Rf98dnf00TR",
        "outputId": "caf01e8d-89ba-44a2-eee3-c74b6cfae142"
      },
      "outputs": [
        {
          "output_type": "execute_result",
          "data": {
            "text/plain": [
              "(2368, 790)"
            ]
          },
          "metadata": {},
          "execution_count": 6
        }
      ],
      "source": [
        "len(train_data), len(test_data)"
      ]
    },
    {
      "cell_type": "code",
      "execution_count": 7,
      "metadata": {
        "colab": {
          "base_uri": "https://localhost:8080/"
        },
        "id": "gGrfFbpXH6Lc",
        "outputId": "5af41758-0b0b-4c9e-caa1-a7611ea65fb0"
      },
      "outputs": [
        {
          "output_type": "stream",
          "name": "stdout",
          "text": [
            "(32, 512, 512, 3) tf.Tensor(\n",
            "[93 83 98 40 60 13 36 92 21 25 29 81 66 81  1 92 83 80 45 28 23 30 72 45\n",
            " 94 92 46 18 99 75 16 40], shape=(32,), dtype=int64)\n"
          ]
        }
      ],
      "source": [
        "for images , labels in test_data:\n",
        "  print(images.shape, labels)\n",
        "  break"
      ]
    },
    {
      "cell_type": "code",
      "execution_count": 8,
      "metadata": {
        "colab": {
          "base_uri": "https://localhost:8080/",
          "height": 287
        },
        "id": "RCgXyDhst1hp",
        "outputId": "20e80e83-fe2d-490c-acea-4e00e4025966"
      },
      "outputs": [
        {
          "output_type": "stream",
          "name": "stdout",
          "text": [
            "(512, 512, 3) <dtype: 'uint8'>\n"
          ]
        },
        {
          "output_type": "display_data",
          "data": {
            "text/plain": [
              "<Figure size 432x288 with 1 Axes>"
            ],
            "image/png": "[encoded data removed]"
          },
          "metadata": {
            "needs_background": "light"
          }
        }
      ],
      "source": [
        "for image , label in test_data.take(1):\n",
        "  img = image[0]\n",
        "  print(img.shape, img.dtype)\n",
        "  # print(tf.reduce_max(img))\n",
        "  # img = tf.image.rot90(img, k=1)\n",
        "  plt.imshow(img)\n"
      ]
    },
    {
      "cell_type": "code",
      "execution_count": 9,
      "metadata": {
        "colab": {
          "base_uri": "https://localhost:8080/"
        },
        "id": "ZesxsL-YIWvK",
        "outputId": "3b328d47-c11e-44b7-9c4a-c7e71adb504a"
      },
      "outputs": [
        {
          "output_type": "execute_result",
          "data": {
            "text/plain": [
              "tfds.core.DatasetInfo(\n",
              "    name='food101',\n",
              "    full_name='food101/2.0.0',\n",
              "    description=\"\"\"\n",
              "    This dataset consists of 101 food categories, with 101'000 images. For each class, 250 manually reviewed test images are provided as well as 750 training images. On purpose, the training images were not cleaned, and thus still contain some amount of noise. This comes mostly in the form of intense colors and sometimes wrong labels. All images were rescaled to have a maximum side length of 512 pixels.\n",
              "    \"\"\",\n",
              "    homepage='https://data.vision.ee.ethz.ch/cvl/datasets_extra/food-101/',\n",
              "    data_path='~/tensorflow_datasets/food101/2.0.0',\n",
              "    file_format=tfrecord,\n",
              "    download_size=4.65 GiB,\n",
              "    dataset_size=4.77 GiB,\n",
              "    features=FeaturesDict({\n",
              "        'image': Image(shape=(None, None, 3), dtype=tf.uint8),\n",
              "        'label': ClassLabel(shape=(), dtype=tf.int64, num_classes=101),\n",
              "    }),\n",
              "    supervised_keys=('image', 'label'),\n",
              "    disable_shuffling=False,\n",
              "    splits={\n",
              "        'train': <SplitInfo num_examples=75750, num_shards=32>,\n",
              "        'validation': <SplitInfo num_examples=25250, num_shards=16>,\n",
              "    },\n",
              "    citation=\"\"\"@inproceedings{bossard14,\n",
              "      title = {Food-101 -- Mining Discriminative Components with Random Forests},\n",
              "      author = {Bossard, Lukas and Guillaumin, Matthieu and Van Gool, Luc},\n",
              "      booktitle = {European Conference on Computer Vision},\n",
              "      year = {2014}\n",
              "    }\"\"\",\n",
              ")"
            ]
          },
          "metadata": {},
          "execution_count": 9
        }
      ],
      "source": [
        "ds_info"
      ]
    },
    {
      "cell_type": "code",
      "execution_count": 10,
      "metadata": {
        "colab": {
          "base_uri": "https://localhost:8080/"
        },
        "id": "vTydCkqp7X-4",
        "outputId": "780b9f3f-f0b2-47b0-fff9-f68d4ed55cc2"
      },
      "outputs": [
        {
          "output_type": "execute_result",
          "data": {
            "text/plain": [
              "('image', 'label')"
            ]
          },
          "metadata": {},
          "execution_count": 10
        }
      ],
      "source": [
        "ds_info.supervised_keys"
      ]
    },
    {
      "cell_type": "code",
      "execution_count": 11,
      "metadata": {
        "colab": {
          "base_uri": "https://localhost:8080/"
        },
        "id": "9d6UJRlf9xKp",
        "outputId": "61f542d1-149f-40b1-b5f1-8ca1912bea14"
      },
      "outputs": [
        {
          "output_type": "execute_result",
          "data": {
            "text/plain": [
              "FeaturesDict({\n",
              "    'image': Image(shape=(None, None, 3), dtype=tf.uint8),\n",
              "    'label': ClassLabel(shape=(), dtype=tf.int64, num_classes=101),\n",
              "})"
            ]
          },
          "metadata": {},
          "execution_count": 11
        }
      ],
      "source": [
        "ds_info.features"
      ]
    },
    {
      "cell_type": "code",
      "execution_count": 12,
      "metadata": {
        "colab": {
          "base_uri": "https://localhost:8080/"
        },
        "id": "r5U7EDexWjNB",
        "outputId": "38ccf20c-c9e1-46d8-b62f-8b3abe7c1c39"
      },
      "outputs": [
        {
          "output_type": "execute_result",
          "data": {
            "text/plain": [
              "Image(shape=(None, None, 3), dtype=tf.uint8)"
            ]
          },
          "metadata": {},
          "execution_count": 12
        }
      ],
      "source": [
        "ds_info.features['image']"
      ]
    },
    {
      "cell_type": "code",
      "execution_count": 13,
      "metadata": {
        "colab": {
          "base_uri": "https://localhost:8080/"
        },
        "id": "iSCi09iG-oHR",
        "outputId": "a13d02a4-66cd-4b5c-d383-ce459d652099"
      },
      "outputs": [
        {
          "output_type": "execute_result",
          "data": {
            "text/plain": [
              "['apple_pie',\n",
              " 'baby_back_ribs',\n",
              " 'baklava',\n",
              " 'beef_carpaccio',\n",
              " 'beef_tartare',\n",
              " 'beet_salad',\n",
              " 'beignets',\n",
              " 'bibimbap',\n",
              " 'bread_pudding',\n",
              " 'breakfast_burrito']"
            ]
          },
          "metadata": {},
          "execution_count": 13
        }
      ],
      "source": [
        "class_names = ds_info.features['label'].names\n",
        "class_names[:10]"
      ]
    },
    {
      "cell_type": "code",
      "execution_count": 14,
      "metadata": {
        "colab": {
          "base_uri": "https://localhost:8080/"
        },
        "id": "vI-a5o15YI-5",
        "outputId": "06825c09-4230-41b0-ff83-1f56a845a8f8"
      },
      "outputs": [
        {
          "output_type": "execute_result",
          "data": {
            "text/plain": [
              "<PrefetchDataset element_spec=(TensorSpec(shape=(None, None, None, 3), dtype=tf.uint8, name=None), TensorSpec(shape=(None,), dtype=tf.int64, name=None))>"
            ]
          },
          "metadata": {},
          "execution_count": 14
        }
      ],
      "source": [
        "train_data"
      ]
    },
    {
      "cell_type": "code",
      "execution_count": 15,
      "metadata": {
        "id": "JFrWbwkxvBqY"
      },
      "outputs": [],
      "source": [
        "# def preprocess_img(image, image_size = 224):\n",
        "#   new_image = tf.image.Resize(image, size= (image_size, image_size))\n",
        "#   tf.cast(new_image, dtype = tf.float32)\n",
        "#   return new_image "
      ]
    },
    {
      "cell_type": "code",
      "execution_count": 16,
      "metadata": {
        "colab": {
          "base_uri": "https://localhost:8080/"
        },
        "id": "HUO6oz3KMcJ7",
        "outputId": "91b71c3a-0517-4178-cda5-a61cc22077bd"
      },
      "outputs": [
        {
          "output_type": "execute_result",
          "data": {
            "text/plain": [
              "<PrefetchDataset element_spec=(TensorSpec(shape=(None, None, None, 3), dtype=tf.uint8, name=None), TensorSpec(shape=(None,), dtype=tf.int64, name=None))>"
            ]
          },
          "metadata": {},
          "execution_count": 16
        }
      ],
      "source": [
        "train_data"
      ]
    },
    {
      "cell_type": "code",
      "execution_count": 17,
      "metadata": {
        "colab": {
          "base_uri": "https://localhost:8080/"
        },
        "id": "nh01HmwnWRrm",
        "outputId": "28bea532-a794-4161-a93c-47a48a31b1b3"
      },
      "outputs": [
        {
          "output_type": "execute_result",
          "data": {
            "text/plain": [
              "<TakeDataset element_spec=(TensorSpec(shape=(None, None, None, 3), dtype=tf.uint8, name=None), TensorSpec(shape=(None,), dtype=tf.int64, name=None))>"
            ]
          },
          "metadata": {},
          "execution_count": 17
        }
      ],
      "source": [
        "train_data.take(1)"
      ]
    },
    {
      "cell_type": "code",
      "execution_count": 17,
      "metadata": {
        "id": "ow__egdSVfEe"
      },
      "outputs": [],
      "source": []
    },
    {
      "cell_type": "code",
      "execution_count": 18,
      "metadata": {
        "colab": {
          "base_uri": "https://localhost:8080/"
        },
        "id": "b6jS5cDiWzPI",
        "outputId": "8ac82eb6-bdad-47e9-b682-7ea875c836e1"
      },
      "outputs": [
        {
          "output_type": "stream",
          "name": "stdout",
          "text": [
            "shape: (32, 512, 512, 3)\n",
            "  tyep: <dtype: 'uint8'>\n",
            "  label : [ 23  84  44  84  34  11  61  19  67  61  30  79  46  21  89  24  77  77\n",
            "   0 100  54  83  23  95   9  45   6   5  54  70  85  92]\n"
          ]
        }
      ],
      "source": [
        "for image , label in train_data.take(1):\n",
        "  print(f'''shape: {image.shape}\n",
        "  tyep: {image.dtype}\n",
        "  label : {label}''')\n",
        "  #class name : {class_names[label.numpy()]}''')"
      ]
    },
    {
      "cell_type": "code",
      "execution_count": 19,
      "metadata": {
        "colab": {
          "base_uri": "https://localhost:8080/"
        },
        "id": "al6xFWYdBiUH",
        "outputId": "b6977681-6ef7-43ff-ab4b-543b08184d29"
      },
      "outputs": [
        {
          "output_type": "execute_result",
          "data": {
            "text/plain": [
              "<tf.Tensor: shape=(512, 512, 3), dtype=uint8, numpy=\n",
              "array([[[189, 165, 121],\n",
              "        [185, 161, 117],\n",
              "        [181, 157, 113],\n",
              "        ...,\n",
              "        [111,  72,  33],\n",
              "        [103,  64,  25],\n",
              "        [ 94,  55,  16]],\n",
              "\n",
              "       [[186, 162, 118],\n",
              "        [183, 159, 115],\n",
              "        [180, 156, 112],\n",
              "        ...,\n",
              "        [122,  83,  40],\n",
              "        [113,  74,  31],\n",
              "        [105,  66,  23]],\n",
              "\n",
              "       [[180, 156, 112],\n",
              "        [178, 154, 110],\n",
              "        [177, 153, 109],\n",
              "        ...,\n",
              "        [132,  94,  45],\n",
              "        [124,  87,  35],\n",
              "        [120,  83,  31]],\n",
              "\n",
              "       ...,\n",
              "\n",
              "       [[207, 204, 159],\n",
              "        [205, 201, 154],\n",
              "        [204, 196, 147],\n",
              "        ...,\n",
              "        [231, 225, 191],\n",
              "        [231, 225, 189],\n",
              "        [231, 226, 188]],\n",
              "\n",
              "       [[207, 204, 159],\n",
              "        [205, 201, 154],\n",
              "        [204, 196, 147],\n",
              "        ...,\n",
              "        [230, 224, 190],\n",
              "        [230, 224, 188],\n",
              "        [229, 223, 187]],\n",
              "\n",
              "       [[206, 203, 158],\n",
              "        [204, 200, 153],\n",
              "        [203, 195, 146],\n",
              "        ...,\n",
              "        [229, 223, 189],\n",
              "        [228, 222, 186],\n",
              "        [228, 222, 186]]], dtype=uint8)>"
            ]
          },
          "metadata": {},
          "execution_count": 19
        }
      ],
      "source": [
        "image[0]"
      ]
    },
    {
      "cell_type": "code",
      "execution_count": 20,
      "metadata": {
        "colab": {
          "base_uri": "https://localhost:8080/",
          "height": 287
        },
        "id": "yogZ4GslNLeW",
        "outputId": "a1c7aec6-d38a-41e9-b5ce-1ad0ae2d4218"
      },
      "outputs": [
        {
          "output_type": "execute_result",
          "data": {
            "text/plain": [
              "<matplotlib.image.AxesImage at 0x7f8f2707ca50>"
            ]
          },
          "metadata": {},
          "execution_count": 20
        },
        {
          "output_type": "display_data",
          "data": {
            "text/plain": [
              "<Figure size 432x288 with 1 Axes>"
            ],
            "image/png": "[encoded data removed]"
          },
          "metadata": {
            "needs_background": "light"
          }
        }
      ],
      "source": [
        "plt.imshow(image[0])"
      ]
    },
    {
      "cell_type": "code",
      "execution_count": 21,
      "metadata": {
        "colab": {
          "base_uri": "https://localhost:8080/"
        },
        "id": "6Taf4nNJV2a2",
        "outputId": "ff471f6c-87e7-4b63-e1ef-5bcdbac15984"
      },
      "outputs": [
        {
          "output_type": "execute_result",
          "data": {
            "text/plain": [
              "<PrefetchDataset element_spec=(TensorSpec(shape=(None, None, None, 3), dtype=tf.uint8, name=None), TensorSpec(shape=(None,), dtype=tf.int64, name=None))>"
            ]
          },
          "metadata": {},
          "execution_count": 21
        }
      ],
      "source": [
        "train_data"
      ]
    },
    {
      "cell_type": "code",
      "execution_count": 22,
      "metadata": {
        "id": "KSDVi2B5Hetx"
      },
      "outputs": [],
      "source": [
        "# Make a function for preprocessing images\n",
        "# def preprocess_img(image, label, img_shape=224):\n",
        "#   \"\"\"\n",
        "#   Converts image datatype from 'uint8' -> 'float32' and reshapes image to\n",
        "#   [img_shape, img_shape, color_channels]\n",
        "#   \"\"\"\n",
        "#   image = tf.image.resize(image, [img_shape, img_shape]) # reshape to img_shape\n",
        "#   return tf.cast(image, tf.float32), label # return (float32_image, label) tuple"
      ]
    },
    {
      "cell_type": "code",
      "execution_count": 23,
      "metadata": {
        "id": "9RdQoMXzH0fI"
      },
      "outputs": [],
      "source": [
        "# train_data = train_data.map(map_func=preprocess_img, num_parallel_calls=tf.data.AUTOTUNE)\n",
        "# train_data = train_data.shuffle(buffer_size=1000).batch(batch_size=32).prefetch(buffer_size=tf.data.AUTOTUNE)\n",
        "\n",
        "# test_data = test_data.map(preprocess_img, num_parallel_calls=tf.data.AUTOTUNE)\n",
        "# test_data = test_data.batch(32).prefetch(tf.data.AUTOTUNE)"
      ]
    },
    {
      "cell_type": "code",
      "execution_count": 24,
      "metadata": {
        "colab": {
          "base_uri": "https://localhost:8080/"
        },
        "id": "3ZERf7OuWLtd",
        "outputId": "a4fcd681-6c5f-4396-c58f-5ea7437be250"
      },
      "outputs": [
        {
          "output_type": "execute_result",
          "data": {
            "text/plain": [
              "(<PrefetchDataset element_spec=(TensorSpec(shape=(None, None, None, 3), dtype=tf.uint8, name=None), TensorSpec(shape=(None,), dtype=tf.int64, name=None))>,\n",
              " <PrefetchDataset element_spec=(TensorSpec(shape=(None, None, None, 3), dtype=tf.uint8, name=None), TensorSpec(shape=(None,), dtype=tf.int64, name=None))>)"
            ]
          },
          "metadata": {},
          "execution_count": 24
        }
      ],
      "source": [
        "train_data = train_data.prefetch(tf.data.AUTOTUNE)\n",
        "test_data = test_data.prefetch(tf.data.AUTOTUNE)\n",
        "train_data, test_data"
      ]
    },
    {
      "cell_type": "markdown",
      "metadata": {
        "id": "D4xljvXG3-XS"
      },
      "source": [
        "## data augmentation"
      ]
    },
    {
      "cell_type": "code",
      "execution_count": 25,
      "metadata": {
        "id": "VScSEGPYJ_En"
      },
      "outputs": [],
      "source": [
        "data_augmentation = tf.keras.Sequential([\n",
        "                    tf.keras.layers.Resizing(224,224),\n",
        "                    # tf.keras.layers.Rescaling(1/255), # efficientnet has built-in rescaling\n",
        "                    tf.keras.layers.RandomFlip('horizontal'),\n",
        "                    tf.keras.layers.RandomRotation(0.1)],\n",
        "                    # tf.keras.layers.RandomZoom(0.2),\n",
        "                    # tf.keras.layers.RandomHeight(0.2),\n",
        "                    # tf.keras.layers.RandomWidth(0.2)], \n",
        "                    name =\"data_augmentation\")"
      ]
    },
    {
      "cell_type": "markdown",
      "metadata": {
        "id": "YdAMxvN5fZ4d"
      },
      "source": [
        "## Model Callbacks"
      ]
    },
    {
      "cell_type": "code",
      "execution_count": 26,
      "metadata": {
        "id": "ozpc8jpDXcd0"
      },
      "outputs": [],
      "source": [
        "checkpointPath = './checkpoints/feature-extract'\n",
        "modelCheckpoint = tf.keras.callbacks.ModelCheckpoint(checkpointPath, \n",
        "                                                     monitor='val_accuracy', \n",
        "                                                     save_best_only=True,\n",
        "                                                     save_weights_only=True)"
      ]
    },
    {
      "cell_type": "markdown",
      "metadata": {
        "id": "Te6eNyWkkhb0"
      },
      "source": [
        "## Turn on Mixed Precision mode\n",
        "to take advantage of GPU acceleration even more"
      ]
    },
    {
      "cell_type": "code",
      "execution_count": 27,
      "metadata": {
        "id": "mLfnxuy8gRN4"
      },
      "outputs": [],
      "source": [
        "mixed_precision.set_global_policy('mixed_float16')"
      ]
    },
    {
      "cell_type": "code",
      "execution_count": 28,
      "metadata": {
        "colab": {
          "base_uri": "https://localhost:8080/"
        },
        "id": "sMxkc-Hbkwkr",
        "outputId": "3be438f0-630a-42d2-8f1b-4d1ed2385b8a"
      },
      "outputs": [
        {
          "output_type": "execute_result",
          "data": {
            "text/plain": [
              "<Policy \"mixed_float16\">"
            ]
          },
          "metadata": {},
          "execution_count": 28
        }
      ],
      "source": [
        "mixed_precision.global_policy()"
      ]
    },
    {
      "cell_type": "markdown",
      "metadata": {
        "id": "LnGzl52QG7-S"
      },
      "source": [
        "## Model Creation"
      ]
    },
    {
      "cell_type": "code",
      "execution_count": 29,
      "metadata": {
        "colab": {
          "base_uri": "https://localhost:8080/"
        },
        "id": "_sLjrzUXrWEX",
        "outputId": "8df08026-ee13-4b66-b130-aaa4de80e0d9"
      },
      "outputs": [
        {
          "output_type": "stream",
          "name": "stdout",
          "text": [
            "Downloading data from https://storage.googleapis.com/keras-applications/efficientnetb0_notop.h5\n",
            "16711680/16705208 [==============================] - 0s 0us/step\n",
            "16719872/16705208 [==============================] - 0s 0us/step\n"
          ]
        }
      ],
      "source": [
        "base_model = tf.keras.applications.EfficientNetB0(include_top=False, pooling='avg')\n",
        "base_model.trainable = False\n",
        "\n",
        "inputs = tf.keras.layers.Input(shape=(224,224,3), name = 'input_layer')\n",
        "\n",
        "x = data_augmentation(inputs)\n",
        "\n",
        "x = base_model(x , training =False)\n",
        "\n",
        "x =  tf.keras.layers.Dense(101)(x)\n",
        "\n",
        "outputs = tf.keras.layers.Activation('softmax', dtype = tf.float32, name = 'softmax_float32')(x)\n",
        "\n",
        "model = tf.keras.Model(inputs,outputs)\n",
        "\n",
        "model.compile(loss = tf.keras.losses.SparseCategoricalCrossentropy(),\n",
        "              optimizer = tf .keras. optimizers.Adam(),\n",
        "              metrics = ['accuracy'])"
      ]
    },
    {
      "cell_type": "code",
      "execution_count": 30,
      "metadata": {
        "colab": {
          "base_uri": "https://localhost:8080/"
        },
        "id": "NXKB1_OVxn8i",
        "outputId": "b0422dab-183a-4258-cadb-8a3dc943415b"
      },
      "outputs": [
        {
          "output_type": "stream",
          "name": "stdout",
          "text": [
            "Model: \"model\"\n",
            "_________________________________________________________________\n",
            " Layer (type)                Output Shape              Param #   \n",
            "=================================================================\n",
            " input_layer (InputLayer)    [(None, 224, 224, 3)]     0         \n",
            "                                                                 \n",
            " data_augmentation (Sequenti  (None, 224, 224, 3)      0         \n",
            " al)                                                             \n",
            "                                                                 \n",
            " efficientnetb0 (Functional)  (None, 1280)             4049571   \n",
            "                                                                 \n",
            " dense (Dense)               (None, 101)               129381    \n",
            "                                                                 \n",
            " softmax_float32 (Activation  (None, 101)              0         \n",
            " )                                                               \n",
            "                                                                 \n",
            "=================================================================\n",
            "Total params: 4,178,952\n",
            "Trainable params: 129,381\n",
            "Non-trainable params: 4,049,571\n",
            "_________________________________________________________________\n"
          ]
        }
      ],
      "source": [
        "model.summary()"
      ]
    },
    {
      "cell_type": "code",
      "execution_count": 31,
      "metadata": {
        "colab": {
          "base_uri": "https://localhost:8080/"
        },
        "id": "ZDR5DAVTxpkn",
        "outputId": "44a8e1e1-647b-4a8f-91a5-99a97b58cfd8"
      },
      "outputs": [
        {
          "output_type": "stream",
          "name": "stdout",
          "text": [
            "input_layer float32 <Policy \"float32\">\n",
            "data_augmentation float32 <Policy \"float32\">\n",
            "efficientnetb0 float32 <Policy \"mixed_float16\">\n",
            "dense float32 <Policy \"mixed_float16\">\n",
            "softmax_float32 float32 <Policy \"float32\">\n"
          ]
        }
      ],
      "source": [
        "for layer in model.layers:\n",
        "  print(layer.name, layer.dtype , layer.dtype_policy)"
      ]
    },
    {
      "cell_type": "markdown",
      "metadata": {
        "id": "wgV6jCGMyp4j"
      },
      "source": [
        "## Feature Extraction Model Training"
      ]
    },
    {
      "cell_type": "code",
      "execution_count": 32,
      "metadata": {
        "id": "5nz5x5ar7kDD"
      },
      "outputs": [],
      "source": [
        "# !rm -rf './tensorboard'"
      ]
    },
    {
      "cell_type": "code",
      "execution_count": 36,
      "metadata": {
        "colab": {
          "base_uri": "https://localhost:8080/"
        },
        "id": "sf3LIiBpx672",
        "outputId": "48a08fdf-1ed4-4da5-be34-8d3db7902064"
      },
      "outputs": [
        {
          "output_type": "stream",
          "name": "stdout",
          "text": [
            "Saving TensorBoard log files to: tensorboard/featureEx/20220827-054346\n",
            "Epoch 1/5\n",
            "2368/2368 [==============================] - 197s 76ms/step - loss: 2.0254 - accuracy: 0.5095 - val_loss: 1.3295 - val_accuracy: 0.6500\n",
            "Epoch 2/5\n",
            "2368/2368 [==============================] - 174s 73ms/step - loss: 1.5156 - accuracy: 0.6137 - val_loss: 1.2406 - val_accuracy: 0.6609\n",
            "Epoch 3/5\n",
            "2368/2368 [==============================] - 175s 74ms/step - loss: 1.3840 - accuracy: 0.6415 - val_loss: 1.2286 - val_accuracy: 0.6703\n",
            "Epoch 4/5\n",
            "2368/2368 [==============================] - 173s 73ms/step - loss: 1.2961 - accuracy: 0.6636 - val_loss: 1.2447 - val_accuracy: 0.6516\n",
            "Epoch 5/5\n",
            "2368/2368 [==============================] - 175s 74ms/step - loss: 1.2422 - accuracy: 0.6743 - val_loss: 1.1954 - val_accuracy: 0.6672\n"
          ]
        }
      ],
      "source": [
        "history_featureEx = model.fit(train_data, \n",
        "                    epochs = 5,\n",
        "                    validation_data=test_data,\n",
        "                    validation_steps=20,\n",
        "                    callbacks = [create_tensorboard_callback('tensorboard','featureEx'),modelCheckpoint])"
      ]
    },
    {
      "cell_type": "markdown",
      "source": [
        "## Model Evaluation"
      ],
      "metadata": {
        "id": "9ZSSt96SM5OH"
      }
    },
    {
      "cell_type": "code",
      "execution_count": 37,
      "metadata": {
        "id": "XCDBswpZ5h-e",
        "colab": {
          "base_uri": "https://localhost:8080/"
        },
        "outputId": "0560367f-c6d5-4bfb-f0e8-3e56d3810137"
      },
      "outputs": [
        {
          "output_type": "stream",
          "name": "stdout",
          "text": [
            "790/790 [==============================] - 59s 75ms/step - loss: 1.1505 - accuracy: 0.6862\n"
          ]
        },
        {
          "output_type": "execute_result",
          "data": {
            "text/plain": [
              "[1.150470495223999, 0.6862178444862366]"
            ]
          },
          "metadata": {},
          "execution_count": 37
        }
      ],
      "source": [
        "model.evaluate(test_data)"
      ]
    },
    {
      "cell_type": "markdown",
      "source": [
        "## Save and Load the model"
      ],
      "metadata": {
        "id": "MjMQnByfNAvu"
      }
    },
    {
      "cell_type": "code",
      "source": [
        "model.save('model.h5')"
      ],
      "metadata": {
        "id": "gmrklr0zJilF"
      },
      "execution_count": 38,
      "outputs": []
    },
    {
      "cell_type": "code",
      "source": [
        "finetune_model = tf.keras.models.load_model('model.h5')"
      ],
      "metadata": {
        "id": "2vUcgSkSJibv"
      },
      "execution_count": 41,
      "outputs": []
    },
    {
      "cell_type": "code",
      "source": [
        "finetune_model.summary()"
      ],
      "metadata": {
        "id": "Sogn67NXJiUo",
        "colab": {
          "base_uri": "https://localhost:8080/"
        },
        "outputId": "339d8437-1a6c-49ba-f99c-3a3e45dbfcf8"
      },
      "execution_count": 42,
      "outputs": [
        {
          "output_type": "stream",
          "name": "stdout",
          "text": [
            "Model: \"model\"\n",
            "_________________________________________________________________\n",
            " Layer (type)                Output Shape              Param #   \n",
            "=================================================================\n",
            " input_layer (InputLayer)    [(None, 224, 224, 3)]     0         \n",
            "                                                                 \n",
            " data_augmentation (Sequenti  (None, 224, 224, 3)      0         \n",
            " al)                                                             \n",
            "                                                                 \n",
            " efficientnetb0 (Functional)  (None, 1280)             4049571   \n",
            "                                                                 \n",
            " dense (Dense)               (None, 101)               129381    \n",
            "                                                                 \n",
            " softmax_float32 (Activation  (None, 101)              0         \n",
            " )                                                               \n",
            "                                                                 \n",
            "=================================================================\n",
            "Total params: 4,178,952\n",
            "Trainable params: 129,381\n",
            "Non-trainable params: 4,049,571\n",
            "_________________________________________________________________\n"
          ]
        }
      ]
    },
    {
      "cell_type": "code",
      "source": [
        "for layer in finetune_model.layers[2].layers:\n",
        "  print(layer.name, layer.dtype, layer.dtype_policy)"
      ],
      "metadata": {
        "id": "-JxXmquxNHmf",
        "colab": {
          "base_uri": "https://localhost:8080/"
        },
        "outputId": "62abffe9-6da3-4cca-8e82-fca858894d2c"
      },
      "execution_count": 43,
      "outputs": [
        {
          "output_type": "stream",
          "name": "stdout",
          "text": [
            "input_1 float32 <Policy \"float32\">\n",
            "rescaling float32 <Policy \"mixed_float16\">\n",
            "normalization float32 <Policy \"mixed_float16\">\n",
            "stem_conv_pad float32 <Policy \"mixed_float16\">\n",
            "stem_conv float32 <Policy \"mixed_float16\">\n",
            "stem_bn float32 <Policy \"mixed_float16\">\n",
            "stem_activation float32 <Policy \"mixed_float16\">\n",
            "block1a_dwconv float32 <Policy \"mixed_float16\">\n",
            "block1a_bn float32 <Policy \"mixed_float16\">\n",
            "block1a_activation float32 <Policy \"mixed_float16\">\n",
            "block1a_se_squeeze float32 <Policy \"mixed_float16\">\n",
            "block1a_se_reshape float32 <Policy \"mixed_float16\">\n",
            "block1a_se_reduce float32 <Policy \"mixed_float16\">\n",
            "block1a_se_expand float32 <Policy \"mixed_float16\">\n",
            "block1a_se_excite float32 <Policy \"mixed_float16\">\n",
            "block1a_project_conv float32 <Policy \"mixed_float16\">\n",
            "block1a_project_bn float32 <Policy \"mixed_float16\">\n",
            "block2a_expand_conv float32 <Policy \"mixed_float16\">\n",
            "block2a_expand_bn float32 <Policy \"mixed_float16\">\n",
            "block2a_expand_activation float32 <Policy \"mixed_float16\">\n",
            "block2a_dwconv_pad float32 <Policy \"mixed_float16\">\n",
            "block2a_dwconv float32 <Policy \"mixed_float16\">\n",
            "block2a_bn float32 <Policy \"mixed_float16\">\n",
            "block2a_activation float32 <Policy \"mixed_float16\">\n",
            "block2a_se_squeeze float32 <Policy \"mixed_float16\">\n",
            "block2a_se_reshape float32 <Policy \"mixed_float16\">\n",
            "block2a_se_reduce float32 <Policy \"mixed_float16\">\n",
            "block2a_se_expand float32 <Policy \"mixed_float16\">\n",
            "block2a_se_excite float32 <Policy \"mixed_float16\">\n",
            "block2a_project_conv float32 <Policy \"mixed_float16\">\n",
            "block2a_project_bn float32 <Policy \"mixed_float16\">\n",
            "block2b_expand_conv float32 <Policy \"mixed_float16\">\n",
            "block2b_expand_bn float32 <Policy \"mixed_float16\">\n",
            "block2b_expand_activation float32 <Policy \"mixed_float16\">\n",
            "block2b_dwconv float32 <Policy \"mixed_float16\">\n",
            "block2b_bn float32 <Policy \"mixed_float16\">\n",
            "block2b_activation float32 <Policy \"mixed_float16\">\n",
            "block2b_se_squeeze float32 <Policy \"mixed_float16\">\n",
            "block2b_se_reshape float32 <Policy \"mixed_float16\">\n",
            "block2b_se_reduce float32 <Policy \"mixed_float16\">\n",
            "block2b_se_expand float32 <Policy \"mixed_float16\">\n",
            "block2b_se_excite float32 <Policy \"mixed_float16\">\n",
            "block2b_project_conv float32 <Policy \"mixed_float16\">\n",
            "block2b_project_bn float32 <Policy \"mixed_float16\">\n",
            "block2b_drop float32 <Policy \"mixed_float16\">\n",
            "block2b_add float32 <Policy \"mixed_float16\">\n",
            "block3a_expand_conv float32 <Policy \"mixed_float16\">\n",
            "block3a_expand_bn float32 <Policy \"mixed_float16\">\n",
            "block3a_expand_activation float32 <Policy \"mixed_float16\">\n",
            "block3a_dwconv_pad float32 <Policy \"mixed_float16\">\n",
            "block3a_dwconv float32 <Policy \"mixed_float16\">\n",
            "block3a_bn float32 <Policy \"mixed_float16\">\n",
            "block3a_activation float32 <Policy \"mixed_float16\">\n",
            "block3a_se_squeeze float32 <Policy \"mixed_float16\">\n",
            "block3a_se_reshape float32 <Policy \"mixed_float16\">\n",
            "block3a_se_reduce float32 <Policy \"mixed_float16\">\n",
            "block3a_se_expand float32 <Policy \"mixed_float16\">\n",
            "block3a_se_excite float32 <Policy \"mixed_float16\">\n",
            "block3a_project_conv float32 <Policy \"mixed_float16\">\n",
            "block3a_project_bn float32 <Policy \"mixed_float16\">\n",
            "block3b_expand_conv float32 <Policy \"mixed_float16\">\n",
            "block3b_expand_bn float32 <Policy \"mixed_float16\">\n",
            "block3b_expand_activation float32 <Policy \"mixed_float16\">\n",
            "block3b_dwconv float32 <Policy \"mixed_float16\">\n",
            "block3b_bn float32 <Policy \"mixed_float16\">\n",
            "block3b_activation float32 <Policy \"mixed_float16\">\n",
            "block3b_se_squeeze float32 <Policy \"mixed_float16\">\n",
            "block3b_se_reshape float32 <Policy \"mixed_float16\">\n",
            "block3b_se_reduce float32 <Policy \"mixed_float16\">\n",
            "block3b_se_expand float32 <Policy \"mixed_float16\">\n",
            "block3b_se_excite float32 <Policy \"mixed_float16\">\n",
            "block3b_project_conv float32 <Policy \"mixed_float16\">\n",
            "block3b_project_bn float32 <Policy \"mixed_float16\">\n",
            "block3b_drop float32 <Policy \"mixed_float16\">\n",
            "block3b_add float32 <Policy \"mixed_float16\">\n",
            "block4a_expand_conv float32 <Policy \"mixed_float16\">\n",
            "block4a_expand_bn float32 <Policy \"mixed_float16\">\n",
            "block4a_expand_activation float32 <Policy \"mixed_float16\">\n",
            "block4a_dwconv_pad float32 <Policy \"mixed_float16\">\n",
            "block4a_dwconv float32 <Policy \"mixed_float16\">\n",
            "block4a_bn float32 <Policy \"mixed_float16\">\n",
            "block4a_activation float32 <Policy \"mixed_float16\">\n",
            "block4a_se_squeeze float32 <Policy \"mixed_float16\">\n",
            "block4a_se_reshape float32 <Policy \"mixed_float16\">\n",
            "block4a_se_reduce float32 <Policy \"mixed_float16\">\n",
            "block4a_se_expand float32 <Policy \"mixed_float16\">\n",
            "block4a_se_excite float32 <Policy \"mixed_float16\">\n",
            "block4a_project_conv float32 <Policy \"mixed_float16\">\n",
            "block4a_project_bn float32 <Policy \"mixed_float16\">\n",
            "block4b_expand_conv float32 <Policy \"mixed_float16\">\n",
            "block4b_expand_bn float32 <Policy \"mixed_float16\">\n",
            "block4b_expand_activation float32 <Policy \"mixed_float16\">\n",
            "block4b_dwconv float32 <Policy \"mixed_float16\">\n",
            "block4b_bn float32 <Policy \"mixed_float16\">\n",
            "block4b_activation float32 <Policy \"mixed_float16\">\n",
            "block4b_se_squeeze float32 <Policy \"mixed_float16\">\n",
            "block4b_se_reshape float32 <Policy \"mixed_float16\">\n",
            "block4b_se_reduce float32 <Policy \"mixed_float16\">\n",
            "block4b_se_expand float32 <Policy \"mixed_float16\">\n",
            "block4b_se_excite float32 <Policy \"mixed_float16\">\n",
            "block4b_project_conv float32 <Policy \"mixed_float16\">\n",
            "block4b_project_bn float32 <Policy \"mixed_float16\">\n",
            "block4b_drop float32 <Policy \"mixed_float16\">\n",
            "block4b_add float32 <Policy \"mixed_float16\">\n",
            "block4c_expand_conv float32 <Policy \"mixed_float16\">\n",
            "block4c_expand_bn float32 <Policy \"mixed_float16\">\n",
            "block4c_expand_activation float32 <Policy \"mixed_float16\">\n",
            "block4c_dwconv float32 <Policy \"mixed_float16\">\n",
            "block4c_bn float32 <Policy \"mixed_float16\">\n",
            "block4c_activation float32 <Policy \"mixed_float16\">\n",
            "block4c_se_squeeze float32 <Policy \"mixed_float16\">\n",
            "block4c_se_reshape float32 <Policy \"mixed_float16\">\n",
            "block4c_se_reduce float32 <Policy \"mixed_float16\">\n",
            "block4c_se_expand float32 <Policy \"mixed_float16\">\n",
            "block4c_se_excite float32 <Policy \"mixed_float16\">\n",
            "block4c_project_conv float32 <Policy \"mixed_float16\">\n",
            "block4c_project_bn float32 <Policy \"mixed_float16\">\n",
            "block4c_drop float32 <Policy \"mixed_float16\">\n",
            "block4c_add float32 <Policy \"mixed_float16\">\n",
            "block5a_expand_conv float32 <Policy \"mixed_float16\">\n",
            "block5a_expand_bn float32 <Policy \"mixed_float16\">\n",
            "block5a_expand_activation float32 <Policy \"mixed_float16\">\n",
            "block5a_dwconv float32 <Policy \"mixed_float16\">\n",
            "block5a_bn float32 <Policy \"mixed_float16\">\n",
            "block5a_activation float32 <Policy \"mixed_float16\">\n",
            "block5a_se_squeeze float32 <Policy \"mixed_float16\">\n",
            "block5a_se_reshape float32 <Policy \"mixed_float16\">\n",
            "block5a_se_reduce float32 <Policy \"mixed_float16\">\n",
            "block5a_se_expand float32 <Policy \"mixed_float16\">\n",
            "block5a_se_excite float32 <Policy \"mixed_float16\">\n",
            "block5a_project_conv float32 <Policy \"mixed_float16\">\n",
            "block5a_project_bn float32 <Policy \"mixed_float16\">\n",
            "block5b_expand_conv float32 <Policy \"mixed_float16\">\n",
            "block5b_expand_bn float32 <Policy \"mixed_float16\">\n",
            "block5b_expand_activation float32 <Policy \"mixed_float16\">\n",
            "block5b_dwconv float32 <Policy \"mixed_float16\">\n",
            "block5b_bn float32 <Policy \"mixed_float16\">\n",
            "block5b_activation float32 <Policy \"mixed_float16\">\n",
            "block5b_se_squeeze float32 <Policy \"mixed_float16\">\n",
            "block5b_se_reshape float32 <Policy \"mixed_float16\">\n",
            "block5b_se_reduce float32 <Policy \"mixed_float16\">\n",
            "block5b_se_expand float32 <Policy \"mixed_float16\">\n",
            "block5b_se_excite float32 <Policy \"mixed_float16\">\n",
            "block5b_project_conv float32 <Policy \"mixed_float16\">\n",
            "block5b_project_bn float32 <Policy \"mixed_float16\">\n",
            "block5b_drop float32 <Policy \"mixed_float16\">\n",
            "block5b_add float32 <Policy \"mixed_float16\">\n",
            "block5c_expand_conv float32 <Policy \"mixed_float16\">\n",
            "block5c_expand_bn float32 <Policy \"mixed_float16\">\n",
            "block5c_expand_activation float32 <Policy \"mixed_float16\">\n",
            "block5c_dwconv float32 <Policy \"mixed_float16\">\n",
            "block5c_bn float32 <Policy \"mixed_float16\">\n",
            "block5c_activation float32 <Policy \"mixed_float16\">\n",
            "block5c_se_squeeze float32 <Policy \"mixed_float16\">\n",
            "block5c_se_reshape float32 <Policy \"mixed_float16\">\n",
            "block5c_se_reduce float32 <Policy \"mixed_float16\">\n",
            "block5c_se_expand float32 <Policy \"mixed_float16\">\n",
            "block5c_se_excite float32 <Policy \"mixed_float16\">\n",
            "block5c_project_conv float32 <Policy \"mixed_float16\">\n",
            "block5c_project_bn float32 <Policy \"mixed_float16\">\n",
            "block5c_drop float32 <Policy \"mixed_float16\">\n",
            "block5c_add float32 <Policy \"mixed_float16\">\n",
            "block6a_expand_conv float32 <Policy \"mixed_float16\">\n",
            "block6a_expand_bn float32 <Policy \"mixed_float16\">\n",
            "block6a_expand_activation float32 <Policy \"mixed_float16\">\n",
            "block6a_dwconv_pad float32 <Policy \"mixed_float16\">\n",
            "block6a_dwconv float32 <Policy \"mixed_float16\">\n",
            "block6a_bn float32 <Policy \"mixed_float16\">\n",
            "block6a_activation float32 <Policy \"mixed_float16\">\n",
            "block6a_se_squeeze float32 <Policy \"mixed_float16\">\n",
            "block6a_se_reshape float32 <Policy \"mixed_float16\">\n",
            "block6a_se_reduce float32 <Policy \"mixed_float16\">\n",
            "block6a_se_expand float32 <Policy \"mixed_float16\">\n",
            "block6a_se_excite float32 <Policy \"mixed_float16\">\n",
            "block6a_project_conv float32 <Policy \"mixed_float16\">\n",
            "block6a_project_bn float32 <Policy \"mixed_float16\">\n",
            "block6b_expand_conv float32 <Policy \"mixed_float16\">\n",
            "block6b_expand_bn float32 <Policy \"mixed_float16\">\n",
            "block6b_expand_activation float32 <Policy \"mixed_float16\">\n",
            "block6b_dwconv float32 <Policy \"mixed_float16\">\n",
            "block6b_bn float32 <Policy \"mixed_float16\">\n",
            "block6b_activation float32 <Policy \"mixed_float16\">\n",
            "block6b_se_squeeze float32 <Policy \"mixed_float16\">\n",
            "block6b_se_reshape float32 <Policy \"mixed_float16\">\n",
            "block6b_se_reduce float32 <Policy \"mixed_float16\">\n",
            "block6b_se_expand float32 <Policy \"mixed_float16\">\n",
            "block6b_se_excite float32 <Policy \"mixed_float16\">\n",
            "block6b_project_conv float32 <Policy \"mixed_float16\">\n",
            "block6b_project_bn float32 <Policy \"mixed_float16\">\n",
            "block6b_drop float32 <Policy \"mixed_float16\">\n",
            "block6b_add float32 <Policy \"mixed_float16\">\n",
            "block6c_expand_conv float32 <Policy \"mixed_float16\">\n",
            "block6c_expand_bn float32 <Policy \"mixed_float16\">\n",
            "block6c_expand_activation float32 <Policy \"mixed_float16\">\n",
            "block6c_dwconv float32 <Policy \"mixed_float16\">\n",
            "block6c_bn float32 <Policy \"mixed_float16\">\n",
            "block6c_activation float32 <Policy \"mixed_float16\">\n",
            "block6c_se_squeeze float32 <Policy \"mixed_float16\">\n",
            "block6c_se_reshape float32 <Policy \"mixed_float16\">\n",
            "block6c_se_reduce float32 <Policy \"mixed_float16\">\n",
            "block6c_se_expand float32 <Policy \"mixed_float16\">\n",
            "block6c_se_excite float32 <Policy \"mixed_float16\">\n",
            "block6c_project_conv float32 <Policy \"mixed_float16\">\n",
            "block6c_project_bn float32 <Policy \"mixed_float16\">\n",
            "block6c_drop float32 <Policy \"mixed_float16\">\n",
            "block6c_add float32 <Policy \"mixed_float16\">\n",
            "block6d_expand_conv float32 <Policy \"mixed_float16\">\n",
            "block6d_expand_bn float32 <Policy \"mixed_float16\">\n",
            "block6d_expand_activation float32 <Policy \"mixed_float16\">\n",
            "block6d_dwconv float32 <Policy \"mixed_float16\">\n",
            "block6d_bn float32 <Policy \"mixed_float16\">\n",
            "block6d_activation float32 <Policy \"mixed_float16\">\n",
            "block6d_se_squeeze float32 <Policy \"mixed_float16\">\n",
            "block6d_se_reshape float32 <Policy \"mixed_float16\">\n",
            "block6d_se_reduce float32 <Policy \"mixed_float16\">\n",
            "block6d_se_expand float32 <Policy \"mixed_float16\">\n",
            "block6d_se_excite float32 <Policy \"mixed_float16\">\n",
            "block6d_project_conv float32 <Policy \"mixed_float16\">\n",
            "block6d_project_bn float32 <Policy \"mixed_float16\">\n",
            "block6d_drop float32 <Policy \"mixed_float16\">\n",
            "block6d_add float32 <Policy \"mixed_float16\">\n",
            "block7a_expand_conv float32 <Policy \"mixed_float16\">\n",
            "block7a_expand_bn float32 <Policy \"mixed_float16\">\n",
            "block7a_expand_activation float32 <Policy \"mixed_float16\">\n",
            "block7a_dwconv float32 <Policy \"mixed_float16\">\n",
            "block7a_bn float32 <Policy \"mixed_float16\">\n",
            "block7a_activation float32 <Policy \"mixed_float16\">\n",
            "block7a_se_squeeze float32 <Policy \"mixed_float16\">\n",
            "block7a_se_reshape float32 <Policy \"mixed_float16\">\n",
            "block7a_se_reduce float32 <Policy \"mixed_float16\">\n",
            "block7a_se_expand float32 <Policy \"mixed_float16\">\n",
            "block7a_se_excite float32 <Policy \"mixed_float16\">\n",
            "block7a_project_conv float32 <Policy \"mixed_float16\">\n",
            "block7a_project_bn float32 <Policy \"mixed_float16\">\n",
            "top_conv float32 <Policy \"mixed_float16\">\n",
            "top_bn float32 <Policy \"mixed_float16\">\n",
            "top_activation float32 <Policy \"mixed_float16\">\n",
            "avg_pool float32 <Policy \"mixed_float16\">\n"
          ]
        }
      ]
    },
    {
      "cell_type": "code",
      "source": [
        "finetune_model.evaluate(test_data)"
      ],
      "metadata": {
        "id": "gIW7nhlWJiRR",
        "colab": {
          "base_uri": "https://localhost:8080/"
        },
        "outputId": "e3733e73-a8fe-47aa-cc2e-eff9fd37835d"
      },
      "execution_count": 44,
      "outputs": [
        {
          "output_type": "stream",
          "name": "stdout",
          "text": [
            "790/790 [==============================] - 58s 72ms/step - loss: 1.1505 - accuracy: 0.6862\n"
          ]
        },
        {
          "output_type": "execute_result",
          "data": {
            "text/plain": [
              "[1.1505277156829834, 0.6862178444862366]"
            ]
          },
          "metadata": {},
          "execution_count": 44
        }
      ]
    },
    {
      "cell_type": "markdown",
      "source": [
        "## Fine-tuning Training \n",
        "Unfreezing 30 last layers of the model"
      ],
      "metadata": {
        "id": "7PMCjdhFPy4S"
      }
    },
    {
      "cell_type": "code",
      "source": [
        "for layer in finetune_model.layers[2].layers[-30:]:\n",
        "  layer.trainable = True"
      ],
      "metadata": {
        "id": "MnuKoHYBJiOC"
      },
      "execution_count": 45,
      "outputs": []
    },
    {
      "cell_type": "code",
      "source": [
        "for layer in finetune_model.layers[2].layers:\n",
        "  print(layer.name , layer.trainable)"
      ],
      "metadata": {
        "id": "ecSMWEgmQ2V4",
        "colab": {
          "base_uri": "https://localhost:8080/"
        },
        "outputId": "fbf1a3fc-9d1e-4343-c2a5-6e6c91f78e7a"
      },
      "execution_count": 46,
      "outputs": [
        {
          "output_type": "stream",
          "name": "stdout",
          "text": [
            "input_1 True\n",
            "rescaling False\n",
            "normalization False\n",
            "stem_conv_pad False\n",
            "stem_conv False\n",
            "stem_bn False\n",
            "stem_activation False\n",
            "block1a_dwconv False\n",
            "block1a_bn False\n",
            "block1a_activation False\n",
            "block1a_se_squeeze False\n",
            "block1a_se_reshape False\n",
            "block1a_se_reduce False\n",
            "block1a_se_expand False\n",
            "block1a_se_excite False\n",
            "block1a_project_conv False\n",
            "block1a_project_bn False\n",
            "block2a_expand_conv False\n",
            "block2a_expand_bn False\n",
            "block2a_expand_activation False\n",
            "block2a_dwconv_pad False\n",
            "block2a_dwconv False\n",
            "block2a_bn False\n",
            "block2a_activation False\n",
            "block2a_se_squeeze False\n",
            "block2a_se_reshape False\n",
            "block2a_se_reduce False\n",
            "block2a_se_expand False\n",
            "block2a_se_excite False\n",
            "block2a_project_conv False\n",
            "block2a_project_bn False\n",
            "block2b_expand_conv False\n",
            "block2b_expand_bn False\n",
            "block2b_expand_activation False\n",
            "block2b_dwconv False\n",
            "block2b_bn False\n",
            "block2b_activation False\n",
            "block2b_se_squeeze False\n",
            "block2b_se_reshape False\n",
            "block2b_se_reduce False\n",
            "block2b_se_expand False\n",
            "block2b_se_excite False\n",
            "block2b_project_conv False\n",
            "block2b_project_bn False\n",
            "block2b_drop False\n",
            "block2b_add False\n",
            "block3a_expand_conv False\n",
            "block3a_expand_bn False\n",
            "block3a_expand_activation False\n",
            "block3a_dwconv_pad False\n",
            "block3a_dwconv False\n",
            "block3a_bn False\n",
            "block3a_activation False\n",
            "block3a_se_squeeze False\n",
            "block3a_se_reshape False\n",
            "block3a_se_reduce False\n",
            "block3a_se_expand False\n",
            "block3a_se_excite False\n",
            "block3a_project_conv False\n",
            "block3a_project_bn False\n",
            "block3b_expand_conv False\n",
            "block3b_expand_bn False\n",
            "block3b_expand_activation False\n",
            "block3b_dwconv False\n",
            "block3b_bn False\n",
            "block3b_activation False\n",
            "block3b_se_squeeze False\n",
            "block3b_se_reshape False\n",
            "block3b_se_reduce False\n",
            "block3b_se_expand False\n",
            "block3b_se_excite False\n",
            "block3b_project_conv False\n",
            "block3b_project_bn False\n",
            "block3b_drop False\n",
            "block3b_add False\n",
            "block4a_expand_conv False\n",
            "block4a_expand_bn False\n",
            "block4a_expand_activation False\n",
            "block4a_dwconv_pad False\n",
            "block4a_dwconv False\n",
            "block4a_bn False\n",
            "block4a_activation False\n",
            "block4a_se_squeeze False\n",
            "block4a_se_reshape False\n",
            "block4a_se_reduce False\n",
            "block4a_se_expand False\n",
            "block4a_se_excite False\n",
            "block4a_project_conv False\n",
            "block4a_project_bn False\n",
            "block4b_expand_conv False\n",
            "block4b_expand_bn False\n",
            "block4b_expand_activation False\n",
            "block4b_dwconv False\n",
            "block4b_bn False\n",
            "block4b_activation False\n",
            "block4b_se_squeeze False\n",
            "block4b_se_reshape False\n",
            "block4b_se_reduce False\n",
            "block4b_se_expand False\n",
            "block4b_se_excite False\n",
            "block4b_project_conv False\n",
            "block4b_project_bn False\n",
            "block4b_drop False\n",
            "block4b_add False\n",
            "block4c_expand_conv False\n",
            "block4c_expand_bn False\n",
            "block4c_expand_activation False\n",
            "block4c_dwconv False\n",
            "block4c_bn False\n",
            "block4c_activation False\n",
            "block4c_se_squeeze False\n",
            "block4c_se_reshape False\n",
            "block4c_se_reduce False\n",
            "block4c_se_expand False\n",
            "block4c_se_excite False\n",
            "block4c_project_conv False\n",
            "block4c_project_bn False\n",
            "block4c_drop False\n",
            "block4c_add False\n",
            "block5a_expand_conv False\n",
            "block5a_expand_bn False\n",
            "block5a_expand_activation False\n",
            "block5a_dwconv False\n",
            "block5a_bn False\n",
            "block5a_activation False\n",
            "block5a_se_squeeze False\n",
            "block5a_se_reshape False\n",
            "block5a_se_reduce False\n",
            "block5a_se_expand False\n",
            "block5a_se_excite False\n",
            "block5a_project_conv False\n",
            "block5a_project_bn False\n",
            "block5b_expand_conv False\n",
            "block5b_expand_bn False\n",
            "block5b_expand_activation False\n",
            "block5b_dwconv False\n",
            "block5b_bn False\n",
            "block5b_activation False\n",
            "block5b_se_squeeze False\n",
            "block5b_se_reshape False\n",
            "block5b_se_reduce False\n",
            "block5b_se_expand False\n",
            "block5b_se_excite False\n",
            "block5b_project_conv False\n",
            "block5b_project_bn False\n",
            "block5b_drop False\n",
            "block5b_add False\n",
            "block5c_expand_conv False\n",
            "block5c_expand_bn False\n",
            "block5c_expand_activation False\n",
            "block5c_dwconv False\n",
            "block5c_bn False\n",
            "block5c_activation False\n",
            "block5c_se_squeeze False\n",
            "block5c_se_reshape False\n",
            "block5c_se_reduce False\n",
            "block5c_se_expand False\n",
            "block5c_se_excite False\n",
            "block5c_project_conv False\n",
            "block5c_project_bn False\n",
            "block5c_drop False\n",
            "block5c_add False\n",
            "block6a_expand_conv False\n",
            "block6a_expand_bn False\n",
            "block6a_expand_activation False\n",
            "block6a_dwconv_pad False\n",
            "block6a_dwconv False\n",
            "block6a_bn False\n",
            "block6a_activation False\n",
            "block6a_se_squeeze False\n",
            "block6a_se_reshape False\n",
            "block6a_se_reduce False\n",
            "block6a_se_expand False\n",
            "block6a_se_excite False\n",
            "block6a_project_conv False\n",
            "block6a_project_bn False\n",
            "block6b_expand_conv False\n",
            "block6b_expand_bn False\n",
            "block6b_expand_activation False\n",
            "block6b_dwconv False\n",
            "block6b_bn False\n",
            "block6b_activation False\n",
            "block6b_se_squeeze False\n",
            "block6b_se_reshape False\n",
            "block6b_se_reduce False\n",
            "block6b_se_expand False\n",
            "block6b_se_excite False\n",
            "block6b_project_conv False\n",
            "block6b_project_bn False\n",
            "block6b_drop False\n",
            "block6b_add False\n",
            "block6c_expand_conv False\n",
            "block6c_expand_bn False\n",
            "block6c_expand_activation False\n",
            "block6c_dwconv False\n",
            "block6c_bn False\n",
            "block6c_activation False\n",
            "block6c_se_squeeze False\n",
            "block6c_se_reshape False\n",
            "block6c_se_reduce False\n",
            "block6c_se_expand False\n",
            "block6c_se_excite False\n",
            "block6c_project_conv False\n",
            "block6c_project_bn False\n",
            "block6c_drop False\n",
            "block6c_add False\n",
            "block6d_expand_conv False\n",
            "block6d_expand_bn False\n",
            "block6d_expand_activation True\n",
            "block6d_dwconv True\n",
            "block6d_bn True\n",
            "block6d_activation True\n",
            "block6d_se_squeeze True\n",
            "block6d_se_reshape True\n",
            "block6d_se_reduce True\n",
            "block6d_se_expand True\n",
            "block6d_se_excite True\n",
            "block6d_project_conv True\n",
            "block6d_project_bn True\n",
            "block6d_drop True\n",
            "block6d_add True\n",
            "block7a_expand_conv True\n",
            "block7a_expand_bn True\n",
            "block7a_expand_activation True\n",
            "block7a_dwconv True\n",
            "block7a_bn True\n",
            "block7a_activation True\n",
            "block7a_se_squeeze True\n",
            "block7a_se_reshape True\n",
            "block7a_se_reduce True\n",
            "block7a_se_expand True\n",
            "block7a_se_excite True\n",
            "block7a_project_conv True\n",
            "block7a_project_bn True\n",
            "top_conv True\n",
            "top_bn True\n",
            "top_activation True\n",
            "avg_pool True\n"
          ]
        }
      ]
    },
    {
      "cell_type": "code",
      "source": [
        "for layer in finetune_model.layers:\n",
        "  print(layer.name , layer.dtype_policy)"
      ],
      "metadata": {
        "id": "PkVxy8gfQ2QM",
        "colab": {
          "base_uri": "https://localhost:8080/"
        },
        "outputId": "dd26e8ba-5855-4d8f-a7e0-94a8408e8ef8"
      },
      "execution_count": 47,
      "outputs": [
        {
          "output_type": "stream",
          "name": "stdout",
          "text": [
            "input_layer <Policy \"float32\">\n",
            "data_augmentation <Policy \"mixed_float16\">\n",
            "efficientnetb0 <Policy \"mixed_float16\">\n",
            "dense <Policy \"mixed_float16\">\n",
            "softmax_float32 <Policy \"float32\">\n"
          ]
        }
      ]
    },
    {
      "cell_type": "markdown",
      "source": [
        "## Earlystopping & Checkpoint Callbacks for Fine-tuning "
      ],
      "metadata": {
        "id": "ED1QPuY2Sapl"
      }
    },
    {
      "cell_type": "code",
      "source": [
        "modelEarlyStopping = tf.keras.callbacks.EarlyStopping(\n",
        "                                                      monitor='val_accuracy',\n",
        "                                                      min_delta=0.0001,\n",
        "                                                      patience=5,\n",
        "                                                      verbose=1,\n",
        "                                                      mode='min'\n",
        "                                                      )"
      ],
      "metadata": {
        "id": "QkvdKrtyQ2Nt"
      },
      "execution_count": 55,
      "outputs": []
    },
    {
      "cell_type": "code",
      "source": [
        "checkpointPath = './checkpoint/fine-tune'\n",
        "modelCheckpoint = tf.keras.callbacks.ModelCheckpoint(\n",
        "                                                  checkpointPath,\n",
        "                                                  monitor='val_loss',\n",
        "                                                  verbose=0,\n",
        "                                                  save_best_only=True,\n",
        "                                                  save_weights_only=True,\n",
        "                                                    )   "
      ],
      "metadata": {
        "id": "VaZVpBhupkxK"
      },
      "execution_count": 49,
      "outputs": []
    },
    {
      "cell_type": "markdown",
      "source": [
        "## Compile and Train Fine tune model"
      ],
      "metadata": {
        "id": "3ylJyV4OsicU"
      }
    },
    {
      "cell_type": "code",
      "source": [
        "finetune_model.compile(loss = tf.keras.losses.SparseCategoricalCrossentropy(),\n",
        "                    optimizer = tf.keras.optimizers.Adam(learning_rate=0.0001),\n",
        "                    metrics = ['accuracy'])"
      ],
      "metadata": {
        "id": "4GJ8c5CBqrrO"
      },
      "execution_count": 51,
      "outputs": []
    },
    {
      "cell_type": "code",
      "source": [
        "finetune_model.summary()"
      ],
      "metadata": {
        "colab": {
          "base_uri": "https://localhost:8080/"
        },
        "id": "qUhQIaoDtQxB",
        "outputId": "8a3447b2-6604-4e90-b8cb-8f94207dc26c"
      },
      "execution_count": 52,
      "outputs": [
        {
          "output_type": "stream",
          "name": "stdout",
          "text": [
            "Model: \"model\"\n",
            "_________________________________________________________________\n",
            " Layer (type)                Output Shape              Param #   \n",
            "=================================================================\n",
            " input_layer (InputLayer)    [(None, 224, 224, 3)]     0         \n",
            "                                                                 \n",
            " data_augmentation (Sequenti  (None, 224, 224, 3)      0         \n",
            " al)                                                             \n",
            "                                                                 \n",
            " efficientnetb0 (Functional)  (None, 1280)             4049571   \n",
            "                                                                 \n",
            " dense (Dense)               (None, 101)               129381    \n",
            "                                                                 \n",
            " softmax_float32 (Activation  (None, 101)              0         \n",
            " )                                                               \n",
            "                                                                 \n",
            "=================================================================\n",
            "Total params: 4,178,952\n",
            "Trainable params: 1,623,237\n",
            "Non-trainable params: 2,555,715\n",
            "_________________________________________________________________\n"
          ]
        }
      ]
    },
    {
      "cell_type": "code",
      "source": [
        "history_finetune = finetune_model.fit(train_data,\n",
        "                                      epochs= 100,\n",
        "                                      validation_data = test_data,\n",
        "                                      validation_steps = int(0.10*len(test_data)),\n",
        "                                      callbacks = [create_tensorboard_callback('tensorboard','finetune'),\n",
        "                                                 modelCheckpoint,\n",
        "                                                 modelEarlyStopping])"
      ],
      "metadata": {
        "colab": {
          "base_uri": "https://localhost:8080/"
        },
        "id": "ODLzKdsetArc",
        "outputId": "f916e13c-be13-4cfd-9294-b52d6c936a62"
      },
      "execution_count": 61,
      "outputs": [
        {
          "output_type": "stream",
          "name": "stdout",
          "text": [
            "Saving TensorBoard log files to: tensorboard/finetune/20220827-061024\n",
            "Epoch 1/100\n",
            "2368/2368 [==============================] - 205s 83ms/step - loss: 1.0839 - accuracy: 0.7122 - val_loss: 1.0213 - val_accuracy: 0.7267\n",
            "Epoch 2/100\n",
            "2368/2368 [==============================] - 193s 81ms/step - loss: 0.9181 - accuracy: 0.7514 - val_loss: 0.9849 - val_accuracy: 0.7334\n",
            "Epoch 3/100\n",
            "2368/2368 [==============================] - 189s 80ms/step - loss: 0.7948 - accuracy: 0.7818 - val_loss: 0.9632 - val_accuracy: 0.7421\n",
            "Epoch 4/100\n",
            "2368/2368 [==============================] - 194s 82ms/step - loss: 0.6951 - accuracy: 0.8069 - val_loss: 0.9865 - val_accuracy: 0.7401\n",
            "Epoch 5/100\n",
            "2368/2368 [==============================] - 187s 79ms/step - loss: 0.6068 - accuracy: 0.8293 - val_loss: 1.0016 - val_accuracy: 0.7449\n",
            "Epoch 6/100\n",
            "2368/2368 [==============================] - 188s 79ms/step - loss: 0.5230 - accuracy: 0.8524 - val_loss: 1.0353 - val_accuracy: 0.7445\n",
            "Epoch 6: early stopping\n"
          ]
        }
      ]
    },
    {
      "cell_type": "code",
      "source": [],
      "metadata": {
        "id": "zN7E6wUoKi8v"
      },
      "execution_count": null,
      "outputs": []
    }
  ],
  "metadata": {
    "accelerator": "GPU",
    "colab": {
      "collapsed_sections": [],
      "name": "Food Vision 101.ipynb",
      "provenance": [],
      "authorship_tag": "ABX9TyM7ll8OGrxl4pTZQhkhjofh",
      "include_colab_link": true
    },
    "gpuClass": "standard",
    "kernelspec": {
      "display_name": "Python 3",
      "name": "python3"
    },
    "language_info": {
      "name": "python"
    },
    "widgets": {
      "application/vnd.jupyter.widget-state+json": {
        "0089b057e0094b4a9cbe6358e7623ccc": {
          "model_module": "@jupyter-widgets/controls",
          "model_name": "HBoxModel",
          "model_module_version": "1.5.0",
          "state": {
            "_dom_classes": [],
            "_model_module": "@jupyter-widgets/controls",
            "_model_module_version": "1.5.0",
            "_model_name": "HBoxModel",
            "_view_count": null,
            "_view_module": "@jupyter-widgets/controls",
            "_view_module_version": "1.5.0",
            "_view_name": "HBoxView",
            "box_style": "",
            "children": [
              "IPY_MODEL_e5ef34ed9f774ad888ec9e186b7b9cee",
              "IPY_MODEL_e732a43a50114a6f95a015191a052360",
              "IPY_MODEL_3cbe094b3cf548f0ba664f31c964203c"
            ],
            "layout": "IPY_MODEL_a7ce6b3251e743658065b6ebd4ebc030"
          }
        },
        "e5ef34ed9f774ad888ec9e186b7b9cee": {
          "model_module": "@jupyter-widgets/controls",
          "model_name": "HTMLModel",
          "model_module_version": "1.5.0",
          "state": {
            "_dom_classes": [],
            "_model_module": "@jupyter-widgets/controls",
            "_model_module_version": "1.5.0",
            "_model_name": "HTMLModel",
            "_view_count": null,
            "_view_module": "@jupyter-widgets/controls",
            "_view_module_version": "1.5.0",
            "_view_name": "HTMLView",
            "description": "",
            "description_tooltip": null,
            "layout": "IPY_MODEL_9a32d5bb07c84e69b150437ccad6917c",
            "placeholder": "​",
            "style": "IPY_MODEL_ffa1f7f0200c4fbe83a80728b3bdd3e2",
            "value": "Dl Completed...: 100%"
          }
        },
        "e732a43a50114a6f95a015191a052360": {
          "model_module": "@jupyter-widgets/controls",
          "model_name": "FloatProgressModel",
          "model_module_version": "1.5.0",
          "state": {
            "_dom_classes": [],
            "_model_module": "@jupyter-widgets/controls",
            "_model_module_version": "1.5.0",
            "_model_name": "FloatProgressModel",
            "_view_count": null,
            "_view_module": "@jupyter-widgets/controls",
            "_view_module_version": "1.5.0",
            "_view_name": "ProgressView",
            "bar_style": "success",
            "description": "",
            "description_tooltip": null,
            "layout": "IPY_MODEL_190e30b6f8ab438885ec64200c079b41",
            "max": 1,
            "min": 0,
            "orientation": "horizontal",
            "style": "IPY_MODEL_f1405dc52bc9447ab5c94c7563871d23",
            "value": 1
          }
        },
        "3cbe094b3cf548f0ba664f31c964203c": {
          "model_module": "@jupyter-widgets/controls",
          "model_name": "HTMLModel",
          "model_module_version": "1.5.0",
          "state": {
            "_dom_classes": [],
            "_model_module": "@jupyter-widgets/controls",
            "_model_module_version": "1.5.0",
            "_model_name": "HTMLModel",
            "_view_count": null,
            "_view_module": "@jupyter-widgets/controls",
            "_view_module_version": "1.5.0",
            "_view_name": "HTMLView",
            "description": "",
            "description_tooltip": null,
            "layout": "IPY_MODEL_9ce2789d1f0b40fbaa907995b78e6f43",
            "placeholder": "​",
            "style": "IPY_MODEL_b6252ede37dd43ae94dc8ff7423be4f2",
            "value": " 1/1 [04:44&lt;00:00, 205.24s/ url]"
          }
        },
        "a7ce6b3251e743658065b6ebd4ebc030": {
          "model_module": "@jupyter-widgets/base",
          "model_name": "LayoutModel",
          "model_module_version": "1.2.0",
          "state": {
            "_model_module": "@jupyter-widgets/base",
            "_model_module_version": "1.2.0",
            "_model_name": "LayoutModel",
            "_view_count": null,
            "_view_module": "@jupyter-widgets/base",
            "_view_module_version": "1.2.0",
            "_view_name": "LayoutView",
            "align_content": null,
            "align_items": null,
            "align_self": null,
            "border": null,
            "bottom": null,
            "display": null,
            "flex": null,
            "flex_flow": null,
            "grid_area": null,
            "grid_auto_columns": null,
            "grid_auto_flow": null,
            "grid_auto_rows": null,
            "grid_column": null,
            "grid_gap": null,
            "grid_row": null,
            "grid_template_areas": null,
            "grid_template_columns": null,
            "grid_template_rows": null,
            "height": null,
            "justify_content": null,
            "justify_items": null,
            "left": null,
            "margin": null,
            "max_height": null,
            "max_width": null,
            "min_height": null,
            "min_width": null,
            "object_fit": null,
            "object_position": null,
            "order": null,
            "overflow": null,
            "overflow_x": null,
            "overflow_y": null,
            "padding": null,
            "right": null,
            "top": null,
            "visibility": null,
            "width": null
          }
        },
        "9a32d5bb07c84e69b150437ccad6917c": {
          "model_module": "@jupyter-widgets/base",
          "model_name": "LayoutModel",
          "model_module_version": "1.2.0",
          "state": {
            "_model_module": "@jupyter-widgets/base",
            "_model_module_version": "1.2.0",
            "_model_name": "LayoutModel",
            "_view_count": null,
            "_view_module": "@jupyter-widgets/base",
            "_view_module_version": "1.2.0",
            "_view_name": "LayoutView",
            "align_content": null,
            "align_items": null,
            "align_self": null,
            "border": null,
            "bottom": null,
            "display": null,
            "flex": null,
            "flex_flow": null,
            "grid_area": null,
            "grid_auto_columns": null,
            "grid_auto_flow": null,
            "grid_auto_rows": null,
            "grid_column": null,
            "grid_gap": null,
            "grid_row": null,
            "grid_template_areas": null,
            "grid_template_columns": null,
            "grid_template_rows": null,
            "height": null,
            "justify_content": null,
            "justify_items": null,
            "left": null,
            "margin": null,
            "max_height": null,
            "max_width": null,
            "min_height": null,
            "min_width": null,
            "object_fit": null,
            "object_position": null,
            "order": null,
            "overflow": null,
            "overflow_x": null,
            "overflow_y": null,
            "padding": null,
            "right": null,
            "top": null,
            "visibility": null,
            "width": null
          }
        },
        "ffa1f7f0200c4fbe83a80728b3bdd3e2": {
          "model_module": "@jupyter-widgets/controls",
          "model_name": "DescriptionStyleModel",
          "model_module_version": "1.5.0",
          "state": {
            "_model_module": "@jupyter-widgets/controls",
            "_model_module_version": "1.5.0",
            "_model_name": "DescriptionStyleModel",
            "_view_count": null,
            "_view_module": "@jupyter-widgets/base",
            "_view_module_version": "1.2.0",
            "_view_name": "StyleView",
            "description_width": ""
          }
        },
        "190e30b6f8ab438885ec64200c079b41": {
          "model_module": "@jupyter-widgets/base",
          "model_name": "LayoutModel",
          "model_module_version": "1.2.0",
          "state": {
            "_model_module": "@jupyter-widgets/base",
            "_model_module_version": "1.2.0",
            "_model_name": "LayoutModel",
            "_view_count": null,
            "_view_module": "@jupyter-widgets/base",
            "_view_module_version": "1.2.0",
            "_view_name": "LayoutView",
            "align_content": null,
            "align_items": null,
            "align_self": null,
            "border": null,
            "bottom": null,
            "display": null,
            "flex": null,
            "flex_flow": null,
            "grid_area": null,
            "grid_auto_columns": null,
            "grid_auto_flow": null,
            "grid_auto_rows": null,
            "grid_column": null,
            "grid_gap": null,
            "grid_row": null,
            "grid_template_areas": null,
            "grid_template_columns": null,
            "grid_template_rows": null,
            "height": null,
            "justify_content": null,
            "justify_items": null,
            "left": null,
            "margin": null,
            "max_height": null,
            "max_width": null,
            "min_height": null,
            "min_width": null,
            "object_fit": null,
            "object_position": null,
            "order": null,
            "overflow": null,
            "overflow_x": null,
            "overflow_y": null,
            "padding": null,
            "right": null,
            "top": null,
            "visibility": null,
            "width": "20px"
          }
        },
        "f1405dc52bc9447ab5c94c7563871d23": {
          "model_module": "@jupyter-widgets/controls",
          "model_name": "ProgressStyleModel",
          "model_module_version": "1.5.0",
          "state": {
            "_model_module": "@jupyter-widgets/controls",
            "_model_module_version": "1.5.0",
            "_model_name": "ProgressStyleModel",
            "_view_count": null,
            "_view_module": "@jupyter-widgets/base",
            "_view_module_version": "1.2.0",
            "_view_name": "StyleView",
            "bar_color": null,
            "description_width": ""
          }
        },
        "9ce2789d1f0b40fbaa907995b78e6f43": {
          "model_module": "@jupyter-widgets/base",
          "model_name": "LayoutModel",
          "model_module_version": "1.2.0",
          "state": {
            "_model_module": "@jupyter-widgets/base",
            "_model_module_version": "1.2.0",
            "_model_name": "LayoutModel",
            "_view_count": null,
            "_view_module": "@jupyter-widgets/base",
            "_view_module_version": "1.2.0",
            "_view_name": "LayoutView",
            "align_content": null,
            "align_items": null,
            "align_self": null,
            "border": null,
            "bottom": null,
            "display": null,
            "flex": null,
            "flex_flow": null,
            "grid_area": null,
            "grid_auto_columns": null,
            "grid_auto_flow": null,
            "grid_auto_rows": null,
            "grid_column": null,
            "grid_gap": null,
            "grid_row": null,
            "grid_template_areas": null,
            "grid_template_columns": null,
            "grid_template_rows": null,
            "height": null,
            "justify_content": null,
            "justify_items": null,
            "left": null,
            "margin": null,
            "max_height": null,
            "max_width": null,
            "min_height": null,
            "min_width": null,
            "object_fit": null,
            "object_position": null,
            "order": null,
            "overflow": null,
            "overflow_x": null,
            "overflow_y": null,
            "padding": null,
            "right": null,
            "top": null,
            "visibility": null,
            "width": null
          }
        },
        "b6252ede37dd43ae94dc8ff7423be4f2": {
          "model_module": "@jupyter-widgets/controls",
          "model_name": "DescriptionStyleModel",
          "model_module_version": "1.5.0",
          "state": {
            "_model_module": "@jupyter-widgets/controls",
            "_model_module_version": "1.5.0",
            "_model_name": "DescriptionStyleModel",
            "_view_count": null,
            "_view_module": "@jupyter-widgets/base",
            "_view_module_version": "1.2.0",
            "_view_name": "StyleView",
            "description_width": ""
          }
        },
        "49aad43e2e474914821887e6ed9367a6": {
          "model_module": "@jupyter-widgets/controls",
          "model_name": "HBoxModel",
          "model_module_version": "1.5.0",
          "state": {
            "_dom_classes": [],
            "_model_module": "@jupyter-widgets/controls",
            "_model_module_version": "1.5.0",
            "_model_name": "HBoxModel",
            "_view_count": null,
            "_view_module": "@jupyter-widgets/controls",
            "_view_module_version": "1.5.0",
            "_view_name": "HBoxView",
            "box_style": "",
            "children": [
              "IPY_MODEL_44ddee286ff4476a99a4b641bdf365bf",
              "IPY_MODEL_f8a6db352e584de4b1bb39a0a84596af",
              "IPY_MODEL_3d008d45cdd5441b8305a01e2bd887b2"
            ],
            "layout": "IPY_MODEL_0c55bae256914c36b8f35b8b03a1b8b8"
          }
        },
        "44ddee286ff4476a99a4b641bdf365bf": {
          "model_module": "@jupyter-widgets/controls",
          "model_name": "HTMLModel",
          "model_module_version": "1.5.0",
          "state": {
            "_dom_classes": [],
            "_model_module": "@jupyter-widgets/controls",
            "_model_module_version": "1.5.0",
            "_model_name": "HTMLModel",
            "_view_count": null,
            "_view_module": "@jupyter-widgets/controls",
            "_view_module_version": "1.5.0",
            "_view_name": "HTMLView",
            "description": "",
            "description_tooltip": null,
            "layout": "IPY_MODEL_f57352106b0d45098691e64c4aa715f9",
            "placeholder": "​",
            "style": "IPY_MODEL_f349d96b309f41f39aef6e33c7634c03",
            "value": "Dl Size...: 100%"
          }
        },
        "f8a6db352e584de4b1bb39a0a84596af": {
          "model_module": "@jupyter-widgets/controls",
          "model_name": "FloatProgressModel",
          "model_module_version": "1.5.0",
          "state": {
            "_dom_classes": [],
            "_model_module": "@jupyter-widgets/controls",
            "_model_module_version": "1.5.0",
            "_model_name": "FloatProgressModel",
            "_view_count": null,
            "_view_module": "@jupyter-widgets/controls",
            "_view_module_version": "1.5.0",
            "_view_name": "ProgressView",
            "bar_style": "success",
            "description": "",
            "description_tooltip": null,
            "layout": "IPY_MODEL_c4fc826ea5be482ba53d80f479ea6a4b",
            "max": 1,
            "min": 0,
            "orientation": "horizontal",
            "style": "IPY_MODEL_1729c41290dd4d089823086dfcf47d61",
            "value": 1
          }
        },
        "3d008d45cdd5441b8305a01e2bd887b2": {
          "model_module": "@jupyter-widgets/controls",
          "model_name": "HTMLModel",
          "model_module_version": "1.5.0",
          "state": {
            "_dom_classes": [],
            "_model_module": "@jupyter-widgets/controls",
            "_model_module_version": "1.5.0",
            "_model_name": "HTMLModel",
            "_view_count": null,
            "_view_module": "@jupyter-widgets/controls",
            "_view_module_version": "1.5.0",
            "_view_name": "HTMLView",
            "description": "",
            "description_tooltip": null,
            "layout": "IPY_MODEL_91042be83e3c4304935ce5c8f25dfb90",
            "placeholder": "​",
            "style": "IPY_MODEL_3aa5d9bd933f4847a9ea68b3903310ed",
            "value": " 4764/4764 [04:44&lt;00:00, 23.93 MiB/s]"
          }
        },
        "0c55bae256914c36b8f35b8b03a1b8b8": {
          "model_module": "@jupyter-widgets/base",
          "model_name": "LayoutModel",
          "model_module_version": "1.2.0",
          "state": {
            "_model_module": "@jupyter-widgets/base",
            "_model_module_version": "1.2.0",
            "_model_name": "LayoutModel",
            "_view_count": null,
            "_view_module": "@jupyter-widgets/base",
            "_view_module_version": "1.2.0",
            "_view_name": "LayoutView",
            "align_content": null,
            "align_items": null,
            "align_self": null,
            "border": null,
            "bottom": null,
            "display": null,
            "flex": null,
            "flex_flow": null,
            "grid_area": null,
            "grid_auto_columns": null,
            "grid_auto_flow": null,
            "grid_auto_rows": null,
            "grid_column": null,
            "grid_gap": null,
            "grid_row": null,
            "grid_template_areas": null,
            "grid_template_columns": null,
            "grid_template_rows": null,
            "height": null,
            "justify_content": null,
            "justify_items": null,
            "left": null,
            "margin": null,
            "max_height": null,
            "max_width": null,
            "min_height": null,
            "min_width": null,
            "object_fit": null,
            "object_position": null,
            "order": null,
            "overflow": null,
            "overflow_x": null,
            "overflow_y": null,
            "padding": null,
            "right": null,
            "top": null,
            "visibility": null,
            "width": null
          }
        },
        "f57352106b0d45098691e64c4aa715f9": {
          "model_module": "@jupyter-widgets/base",
          "model_name": "LayoutModel",
          "model_module_version": "1.2.0",
          "state": {
            "_model_module": "@jupyter-widgets/base",
            "_model_module_version": "1.2.0",
            "_model_name": "LayoutModel",
            "_view_count": null,
            "_view_module": "@jupyter-widgets/base",
            "_view_module_version": "1.2.0",
            "_view_name": "LayoutView",
            "align_content": null,
            "align_items": null,
            "align_self": null,
            "border": null,
            "bottom": null,
            "display": null,
            "flex": null,
            "flex_flow": null,
            "grid_area": null,
            "grid_auto_columns": null,
            "grid_auto_flow": null,
            "grid_auto_rows": null,
            "grid_column": null,
            "grid_gap": null,
            "grid_row": null,
            "grid_template_areas": null,
            "grid_template_columns": null,
            "grid_template_rows": null,
            "height": null,
            "justify_content": null,
            "justify_items": null,
            "left": null,
            "margin": null,
            "max_height": null,
            "max_width": null,
            "min_height": null,
            "min_width": null,
            "object_fit": null,
            "object_position": null,
            "order": null,
            "overflow": null,
            "overflow_x": null,
            "overflow_y": null,
            "padding": null,
            "right": null,
            "top": null,
            "visibility": null,
            "width": null
          }
        },
        "f349d96b309f41f39aef6e33c7634c03": {
          "model_module": "@jupyter-widgets/controls",
          "model_name": "DescriptionStyleModel",
          "model_module_version": "1.5.0",
          "state": {
            "_model_module": "@jupyter-widgets/controls",
            "_model_module_version": "1.5.0",
            "_model_name": "DescriptionStyleModel",
            "_view_count": null,
            "_view_module": "@jupyter-widgets/base",
            "_view_module_version": "1.2.0",
            "_view_name": "StyleView",
            "description_width": ""
          }
        },
        "c4fc826ea5be482ba53d80f479ea6a4b": {
          "model_module": "@jupyter-widgets/base",
          "model_name": "LayoutModel",
          "model_module_version": "1.2.0",
          "state": {
            "_model_module": "@jupyter-widgets/base",
            "_model_module_version": "1.2.0",
            "_model_name": "LayoutModel",
            "_view_count": null,
            "_view_module": "@jupyter-widgets/base",
            "_view_module_version": "1.2.0",
            "_view_name": "LayoutView",
            "align_content": null,
            "align_items": null,
            "align_self": null,
            "border": null,
            "bottom": null,
            "display": null,
            "flex": null,
            "flex_flow": null,
            "grid_area": null,
            "grid_auto_columns": null,
            "grid_auto_flow": null,
            "grid_auto_rows": null,
            "grid_column": null,
            "grid_gap": null,
            "grid_row": null,
            "grid_template_areas": null,
            "grid_template_columns": null,
            "grid_template_rows": null,
            "height": null,
            "justify_content": null,
            "justify_items": null,
            "left": null,
            "margin": null,
            "max_height": null,
            "max_width": null,
            "min_height": null,
            "min_width": null,
            "object_fit": null,
            "object_position": null,
            "order": null,
            "overflow": null,
            "overflow_x": null,
            "overflow_y": null,
            "padding": null,
            "right": null,
            "top": null,
            "visibility": null,
            "width": "20px"
          }
        },
        "1729c41290dd4d089823086dfcf47d61": {
          "model_module": "@jupyter-widgets/controls",
          "model_name": "ProgressStyleModel",
          "model_module_version": "1.5.0",
          "state": {
            "_model_module": "@jupyter-widgets/controls",
            "_model_module_version": "1.5.0",
            "_model_name": "ProgressStyleModel",
            "_view_count": null,
            "_view_module": "@jupyter-widgets/base",
            "_view_module_version": "1.2.0",
            "_view_name": "StyleView",
            "bar_color": null,
            "description_width": ""
          }
        },
        "91042be83e3c4304935ce5c8f25dfb90": {
          "model_module": "@jupyter-widgets/base",
          "model_name": "LayoutModel",
          "model_module_version": "1.2.0",
          "state": {
            "_model_module": "@jupyter-widgets/base",
            "_model_module_version": "1.2.0",
            "_model_name": "LayoutModel",
            "_view_count": null,
            "_view_module": "@jupyter-widgets/base",
            "_view_module_version": "1.2.0",
            "_view_name": "LayoutView",
            "align_content": null,
            "align_items": null,
            "align_self": null,
            "border": null,
            "bottom": null,
            "display": null,
            "flex": null,
            "flex_flow": null,
            "grid_area": null,
            "grid_auto_columns": null,
            "grid_auto_flow": null,
            "grid_auto_rows": null,
            "grid_column": null,
            "grid_gap": null,
            "grid_row": null,
            "grid_template_areas": null,
            "grid_template_columns": null,
            "grid_template_rows": null,
            "height": null,
            "justify_content": null,
            "justify_items": null,
            "left": null,
            "margin": null,
            "max_height": null,
            "max_width": null,
            "min_height": null,
            "min_width": null,
            "object_fit": null,
            "object_position": null,
            "order": null,
            "overflow": null,
            "overflow_x": null,
            "overflow_y": null,
            "padding": null,
            "right": null,
            "top": null,
            "visibility": null,
            "width": null
          }
        },
        "3aa5d9bd933f4847a9ea68b3903310ed": {
          "model_module": "@jupyter-widgets/controls",
          "model_name": "DescriptionStyleModel",
          "model_module_version": "1.5.0",
          "state": {
            "_model_module": "@jupyter-widgets/controls",
            "_model_module_version": "1.5.0",
            "_model_name": "DescriptionStyleModel",
            "_view_count": null,
            "_view_module": "@jupyter-widgets/base",
            "_view_module_version": "1.2.0",
            "_view_name": "StyleView",
            "description_width": ""
          }
        },
        "63465cde5d7e494bad0bff204cefc4c4": {
          "model_module": "@jupyter-widgets/controls",
          "model_name": "HBoxModel",
          "model_module_version": "1.5.0",
          "state": {
            "_dom_classes": [],
            "_model_module": "@jupyter-widgets/controls",
            "_model_module_version": "1.5.0",
            "_model_name": "HBoxModel",
            "_view_count": null,
            "_view_module": "@jupyter-widgets/controls",
            "_view_module_version": "1.5.0",
            "_view_name": "HBoxView",
            "box_style": "",
            "children": [
              "IPY_MODEL_c9c0c55aa719430a88f0b875cb37e522",
              "IPY_MODEL_121ae522f7174d61b152d416cbda79c5",
              "IPY_MODEL_200c90d291674c469281fb056d59e195"
            ],
            "layout": "IPY_MODEL_5b203cde3de24b159465b55289151c2e"
          }
        },
        "c9c0c55aa719430a88f0b875cb37e522": {
          "model_module": "@jupyter-widgets/controls",
          "model_name": "HTMLModel",
          "model_module_version": "1.5.0",
          "state": {
            "_dom_classes": [],
            "_model_module": "@jupyter-widgets/controls",
            "_model_module_version": "1.5.0",
            "_model_name": "HTMLModel",
            "_view_count": null,
            "_view_module": "@jupyter-widgets/controls",
            "_view_module_version": "1.5.0",
            "_view_name": "HTMLView",
            "description": "",
            "description_tooltip": null,
            "layout": "IPY_MODEL_92881a1459b64260bbed4a5dcf554580",
            "placeholder": "​",
            "style": "IPY_MODEL_315cf8cc6dba440386c6938688c894e5",
            "value": "Extraction completed...: 100%"
          }
        },
        "121ae522f7174d61b152d416cbda79c5": {
          "model_module": "@jupyter-widgets/controls",
          "model_name": "FloatProgressModel",
          "model_module_version": "1.5.0",
          "state": {
            "_dom_classes": [],
            "_model_module": "@jupyter-widgets/controls",
            "_model_module_version": "1.5.0",
            "_model_name": "FloatProgressModel",
            "_view_count": null,
            "_view_module": "@jupyter-widgets/controls",
            "_view_module_version": "1.5.0",
            "_view_name": "ProgressView",
            "bar_style": "success",
            "description": "",
            "description_tooltip": null,
            "layout": "IPY_MODEL_e83f7c0a086a488985f83e330727a3ad",
            "max": 1,
            "min": 0,
            "orientation": "horizontal",
            "style": "IPY_MODEL_940059b09b864513974fe6aedf10410a",
            "value": 1
          }
        },
        "200c90d291674c469281fb056d59e195": {
          "model_module": "@jupyter-widgets/controls",
          "model_name": "HTMLModel",
          "model_module_version": "1.5.0",
          "state": {
            "_dom_classes": [],
            "_model_module": "@jupyter-widgets/controls",
            "_model_module_version": "1.5.0",
            "_model_name": "HTMLModel",
            "_view_count": null,
            "_view_module": "@jupyter-widgets/controls",
            "_view_module_version": "1.5.0",
            "_view_name": "HTMLView",
            "description": "",
            "description_tooltip": null,
            "layout": "IPY_MODEL_71e0d501d2c14d349916f08ce7656840",
            "placeholder": "​",
            "style": "IPY_MODEL_04679f17da37482cab054644664cf28c",
            "value": " 1/1 [04:44&lt;00:00, 284.38s/ file]"
          }
        },
        "5b203cde3de24b159465b55289151c2e": {
          "model_module": "@jupyter-widgets/base",
          "model_name": "LayoutModel",
          "model_module_version": "1.2.0",
          "state": {
            "_model_module": "@jupyter-widgets/base",
            "_model_module_version": "1.2.0",
            "_model_name": "LayoutModel",
            "_view_count": null,
            "_view_module": "@jupyter-widgets/base",
            "_view_module_version": "1.2.0",
            "_view_name": "LayoutView",
            "align_content": null,
            "align_items": null,
            "align_self": null,
            "border": null,
            "bottom": null,
            "display": null,
            "flex": null,
            "flex_flow": null,
            "grid_area": null,
            "grid_auto_columns": null,
            "grid_auto_flow": null,
            "grid_auto_rows": null,
            "grid_column": null,
            "grid_gap": null,
            "grid_row": null,
            "grid_template_areas": null,
            "grid_template_columns": null,
            "grid_template_rows": null,
            "height": null,
            "justify_content": null,
            "justify_items": null,
            "left": null,
            "margin": null,
            "max_height": null,
            "max_width": null,
            "min_height": null,
            "min_width": null,
            "object_fit": null,
            "object_position": null,
            "order": null,
            "overflow": null,
            "overflow_x": null,
            "overflow_y": null,
            "padding": null,
            "right": null,
            "top": null,
            "visibility": null,
            "width": null
          }
        },
        "92881a1459b64260bbed4a5dcf554580": {
          "model_module": "@jupyter-widgets/base",
          "model_name": "LayoutModel",
          "model_module_version": "1.2.0",
          "state": {
            "_model_module": "@jupyter-widgets/base",
            "_model_module_version": "1.2.0",
            "_model_name": "LayoutModel",
            "_view_count": null,
            "_view_module": "@jupyter-widgets/base",
            "_view_module_version": "1.2.0",
            "_view_name": "LayoutView",
            "align_content": null,
            "align_items": null,
            "align_self": null,
            "border": null,
            "bottom": null,
            "display": null,
            "flex": null,
            "flex_flow": null,
            "grid_area": null,
            "grid_auto_columns": null,
            "grid_auto_flow": null,
            "grid_auto_rows": null,
            "grid_column": null,
            "grid_gap": null,
            "grid_row": null,
            "grid_template_areas": null,
            "grid_template_columns": null,
            "grid_template_rows": null,
            "height": null,
            "justify_content": null,
            "justify_items": null,
            "left": null,
            "margin": null,
            "max_height": null,
            "max_width": null,
            "min_height": null,
            "min_width": null,
            "object_fit": null,
            "object_position": null,
            "order": null,
            "overflow": null,
            "overflow_x": null,
            "overflow_y": null,
            "padding": null,
            "right": null,
            "top": null,
            "visibility": null,
            "width": null
          }
        },
        "315cf8cc6dba440386c6938688c894e5": {
          "model_module": "@jupyter-widgets/controls",
          "model_name": "DescriptionStyleModel",
          "model_module_version": "1.5.0",
          "state": {
            "_model_module": "@jupyter-widgets/controls",
            "_model_module_version": "1.5.0",
            "_model_name": "DescriptionStyleModel",
            "_view_count": null,
            "_view_module": "@jupyter-widgets/base",
            "_view_module_version": "1.2.0",
            "_view_name": "StyleView",
            "description_width": ""
          }
        },
        "e83f7c0a086a488985f83e330727a3ad": {
          "model_module": "@jupyter-widgets/base",
          "model_name": "LayoutModel",
          "model_module_version": "1.2.0",
          "state": {
            "_model_module": "@jupyter-widgets/base",
            "_model_module_version": "1.2.0",
            "_model_name": "LayoutModel",
            "_view_count": null,
            "_view_module": "@jupyter-widgets/base",
            "_view_module_version": "1.2.0",
            "_view_name": "LayoutView",
            "align_content": null,
            "align_items": null,
            "align_self": null,
            "border": null,
            "bottom": null,
            "display": null,
            "flex": null,
            "flex_flow": null,
            "grid_area": null,
            "grid_auto_columns": null,
            "grid_auto_flow": null,
            "grid_auto_rows": null,
            "grid_column": null,
            "grid_gap": null,
            "grid_row": null,
            "grid_template_areas": null,
            "grid_template_columns": null,
            "grid_template_rows": null,
            "height": null,
            "justify_content": null,
            "justify_items": null,
            "left": null,
            "margin": null,
            "max_height": null,
            "max_width": null,
            "min_height": null,
            "min_width": null,
            "object_fit": null,
            "object_position": null,
            "order": null,
            "overflow": null,
            "overflow_x": null,
            "overflow_y": null,
            "padding": null,
            "right": null,
            "top": null,
            "visibility": null,
            "width": "20px"
          }
        },
        "940059b09b864513974fe6aedf10410a": {
          "model_module": "@jupyter-widgets/controls",
          "model_name": "ProgressStyleModel",
          "model_module_version": "1.5.0",
          "state": {
            "_model_module": "@jupyter-widgets/controls",
            "_model_module_version": "1.5.0",
            "_model_name": "ProgressStyleModel",
            "_view_count": null,
            "_view_module": "@jupyter-widgets/base",
            "_view_module_version": "1.2.0",
            "_view_name": "StyleView",
            "bar_color": null,
            "description_width": ""
          }
        },
        "71e0d501d2c14d349916f08ce7656840": {
          "model_module": "@jupyter-widgets/base",
          "model_name": "LayoutModel",
          "model_module_version": "1.2.0",
          "state": {
            "_model_module": "@jupyter-widgets/base",
            "_model_module_version": "1.2.0",
            "_model_name": "LayoutModel",
            "_view_count": null,
            "_view_module": "@jupyter-widgets/base",
            "_view_module_version": "1.2.0",
            "_view_name": "LayoutView",
            "align_content": null,
            "align_items": null,
            "align_self": null,
            "border": null,
            "bottom": null,
            "display": null,
            "flex": null,
            "flex_flow": null,
            "grid_area": null,
            "grid_auto_columns": null,
            "grid_auto_flow": null,
            "grid_auto_rows": null,
            "grid_column": null,
            "grid_gap": null,
            "grid_row": null,
            "grid_template_areas": null,
            "grid_template_columns": null,
            "grid_template_rows": null,
            "height": null,
            "justify_content": null,
            "justify_items": null,
            "left": null,
            "margin": null,
            "max_height": null,
            "max_width": null,
            "min_height": null,
            "min_width": null,
            "object_fit": null,
            "object_position": null,
            "order": null,
            "overflow": null,
            "overflow_x": null,
            "overflow_y": null,
            "padding": null,
            "right": null,
            "top": null,
            "visibility": null,
            "width": null
          }
        },
        "04679f17da37482cab054644664cf28c": {
          "model_module": "@jupyter-widgets/controls",
          "model_name": "DescriptionStyleModel",
          "model_module_version": "1.5.0",
          "state": {
            "_model_module": "@jupyter-widgets/controls",
            "_model_module_version": "1.5.0",
            "_model_name": "DescriptionStyleModel",
            "_view_count": null,
            "_view_module": "@jupyter-widgets/base",
            "_view_module_version": "1.2.0",
            "_view_name": "StyleView",
            "description_width": ""
          }
        },
        "4b1b0e0de39e45299e1b1918bfe7b8db": {
          "model_module": "@jupyter-widgets/controls",
          "model_name": "HBoxModel",
          "model_module_version": "1.5.0",
          "state": {
            "_dom_classes": [],
            "_model_module": "@jupyter-widgets/controls",
            "_model_module_version": "1.5.0",
            "_model_name": "HBoxModel",
            "_view_count": null,
            "_view_module": "@jupyter-widgets/controls",
            "_view_module_version": "1.5.0",
            "_view_name": "HBoxView",
            "box_style": "",
            "children": [
              "IPY_MODEL_d6d7099a68184ae18f03b751044dfb95",
              "IPY_MODEL_ae087459ca8a429da50a6a46e1ae0ad2",
              "IPY_MODEL_a0a5f61de5fd4561945d616d321b988b"
            ],
            "layout": "IPY_MODEL_d5cc6ee501814920ae3e5f4225d6e4c6"
          }
        },
        "d6d7099a68184ae18f03b751044dfb95": {
          "model_module": "@jupyter-widgets/controls",
          "model_name": "HTMLModel",
          "model_module_version": "1.5.0",
          "state": {
            "_dom_classes": [],
            "_model_module": "@jupyter-widgets/controls",
            "_model_module_version": "1.5.0",
            "_model_name": "HTMLModel",
            "_view_count": null,
            "_view_module": "@jupyter-widgets/controls",
            "_view_module_version": "1.5.0",
            "_view_name": "HTMLView",
            "description": "",
            "description_tooltip": null,
            "layout": "IPY_MODEL_c3ec6f9499b648e8a869b493bee25bef",
            "placeholder": "​",
            "style": "IPY_MODEL_a044c5f7f5d245d6a1190e0037908119",
            "value": "Generating splits...: 100%"
          }
        },
        "ae087459ca8a429da50a6a46e1ae0ad2": {
          "model_module": "@jupyter-widgets/controls",
          "model_name": "FloatProgressModel",
          "model_module_version": "1.5.0",
          "state": {
            "_dom_classes": [],
            "_model_module": "@jupyter-widgets/controls",
            "_model_module_version": "1.5.0",
            "_model_name": "FloatProgressModel",
            "_view_count": null,
            "_view_module": "@jupyter-widgets/controls",
            "_view_module_version": "1.5.0",
            "_view_name": "ProgressView",
            "bar_style": "",
            "description": "",
            "description_tooltip": null,
            "layout": "IPY_MODEL_cca4f11a546b4342bc1e4a21a2d1cdf2",
            "max": 2,
            "min": 0,
            "orientation": "horizontal",
            "style": "IPY_MODEL_ca56f5d4385c4733bbca3c99bf5695d5",
            "value": 2
          }
        },
        "a0a5f61de5fd4561945d616d321b988b": {
          "model_module": "@jupyter-widgets/controls",
          "model_name": "HTMLModel",
          "model_module_version": "1.5.0",
          "state": {
            "_dom_classes": [],
            "_model_module": "@jupyter-widgets/controls",
            "_model_module_version": "1.5.0",
            "_model_name": "HTMLModel",
            "_view_count": null,
            "_view_module": "@jupyter-widgets/controls",
            "_view_module_version": "1.5.0",
            "_view_name": "HTMLView",
            "description": "",
            "description_tooltip": null,
            "layout": "IPY_MODEL_7dcb5e81cf304034a2cc65e57cb6c087",
            "placeholder": "​",
            "style": "IPY_MODEL_069b8c7f966a4a7ca2d1f84ba9360542",
            "value": " 2/2 [03:15&lt;00:00, 91.07s/ splits]"
          }
        },
        "d5cc6ee501814920ae3e5f4225d6e4c6": {
          "model_module": "@jupyter-widgets/base",
          "model_name": "LayoutModel",
          "model_module_version": "1.2.0",
          "state": {
            "_model_module": "@jupyter-widgets/base",
            "_model_module_version": "1.2.0",
            "_model_name": "LayoutModel",
            "_view_count": null,
            "_view_module": "@jupyter-widgets/base",
            "_view_module_version": "1.2.0",
            "_view_name": "LayoutView",
            "align_content": null,
            "align_items": null,
            "align_self": null,
            "border": null,
            "bottom": null,
            "display": null,
            "flex": null,
            "flex_flow": null,
            "grid_area": null,
            "grid_auto_columns": null,
            "grid_auto_flow": null,
            "grid_auto_rows": null,
            "grid_column": null,
            "grid_gap": null,
            "grid_row": null,
            "grid_template_areas": null,
            "grid_template_columns": null,
            "grid_template_rows": null,
            "height": null,
            "justify_content": null,
            "justify_items": null,
            "left": null,
            "margin": null,
            "max_height": null,
            "max_width": null,
            "min_height": null,
            "min_width": null,
            "object_fit": null,
            "object_position": null,
            "order": null,
            "overflow": null,
            "overflow_x": null,
            "overflow_y": null,
            "padding": null,
            "right": null,
            "top": null,
            "visibility": null,
            "width": null
          }
        },
        "c3ec6f9499b648e8a869b493bee25bef": {
          "model_module": "@jupyter-widgets/base",
          "model_name": "LayoutModel",
          "model_module_version": "1.2.0",
          "state": {
            "_model_module": "@jupyter-widgets/base",
            "_model_module_version": "1.2.0",
            "_model_name": "LayoutModel",
            "_view_count": null,
            "_view_module": "@jupyter-widgets/base",
            "_view_module_version": "1.2.0",
            "_view_name": "LayoutView",
            "align_content": null,
            "align_items": null,
            "align_self": null,
            "border": null,
            "bottom": null,
            "display": null,
            "flex": null,
            "flex_flow": null,
            "grid_area": null,
            "grid_auto_columns": null,
            "grid_auto_flow": null,
            "grid_auto_rows": null,
            "grid_column": null,
            "grid_gap": null,
            "grid_row": null,
            "grid_template_areas": null,
            "grid_template_columns": null,
            "grid_template_rows": null,
            "height": null,
            "justify_content": null,
            "justify_items": null,
            "left": null,
            "margin": null,
            "max_height": null,
            "max_width": null,
            "min_height": null,
            "min_width": null,
            "object_fit": null,
            "object_position": null,
            "order": null,
            "overflow": null,
            "overflow_x": null,
            "overflow_y": null,
            "padding": null,
            "right": null,
            "top": null,
            "visibility": null,
            "width": null
          }
        },
        "a044c5f7f5d245d6a1190e0037908119": {
          "model_module": "@jupyter-widgets/controls",
          "model_name": "DescriptionStyleModel",
          "model_module_version": "1.5.0",
          "state": {
            "_model_module": "@jupyter-widgets/controls",
            "_model_module_version": "1.5.0",
            "_model_name": "DescriptionStyleModel",
            "_view_count": null,
            "_view_module": "@jupyter-widgets/base",
            "_view_module_version": "1.2.0",
            "_view_name": "StyleView",
            "description_width": ""
          }
        },
        "cca4f11a546b4342bc1e4a21a2d1cdf2": {
          "model_module": "@jupyter-widgets/base",
          "model_name": "LayoutModel",
          "model_module_version": "1.2.0",
          "state": {
            "_model_module": "@jupyter-widgets/base",
            "_model_module_version": "1.2.0",
            "_model_name": "LayoutModel",
            "_view_count": null,
            "_view_module": "@jupyter-widgets/base",
            "_view_module_version": "1.2.0",
            "_view_name": "LayoutView",
            "align_content": null,
            "align_items": null,
            "align_self": null,
            "border": null,
            "bottom": null,
            "display": null,
            "flex": null,
            "flex_flow": null,
            "grid_area": null,
            "grid_auto_columns": null,
            "grid_auto_flow": null,
            "grid_auto_rows": null,
            "grid_column": null,
            "grid_gap": null,
            "grid_row": null,
            "grid_template_areas": null,
            "grid_template_columns": null,
            "grid_template_rows": null,
            "height": null,
            "justify_content": null,
            "justify_items": null,
            "left": null,
            "margin": null,
            "max_height": null,
            "max_width": null,
            "min_height": null,
            "min_width": null,
            "object_fit": null,
            "object_position": null,
            "order": null,
            "overflow": null,
            "overflow_x": null,
            "overflow_y": null,
            "padding": null,
            "right": null,
            "top": null,
            "visibility": null,
            "width": null
          }
        },
        "ca56f5d4385c4733bbca3c99bf5695d5": {
          "model_module": "@jupyter-widgets/controls",
          "model_name": "ProgressStyleModel",
          "model_module_version": "1.5.0",
          "state": {
            "_model_module": "@jupyter-widgets/controls",
            "_model_module_version": "1.5.0",
            "_model_name": "ProgressStyleModel",
            "_view_count": null,
            "_view_module": "@jupyter-widgets/base",
            "_view_module_version": "1.2.0",
            "_view_name": "StyleView",
            "bar_color": null,
            "description_width": ""
          }
        },
        "7dcb5e81cf304034a2cc65e57cb6c087": {
          "model_module": "@jupyter-widgets/base",
          "model_name": "LayoutModel",
          "model_module_version": "1.2.0",
          "state": {
            "_model_module": "@jupyter-widgets/base",
            "_model_module_version": "1.2.0",
            "_model_name": "LayoutModel",
            "_view_count": null,
            "_view_module": "@jupyter-widgets/base",
            "_view_module_version": "1.2.0",
            "_view_name": "LayoutView",
            "align_content": null,
            "align_items": null,
            "align_self": null,
            "border": null,
            "bottom": null,
            "display": null,
            "flex": null,
            "flex_flow": null,
            "grid_area": null,
            "grid_auto_columns": null,
            "grid_auto_flow": null,
            "grid_auto_rows": null,
            "grid_column": null,
            "grid_gap": null,
            "grid_row": null,
            "grid_template_areas": null,
            "grid_template_columns": null,
            "grid_template_rows": null,
            "height": null,
            "justify_content": null,
            "justify_items": null,
            "left": null,
            "margin": null,
            "max_height": null,
            "max_width": null,
            "min_height": null,
            "min_width": null,
            "object_fit": null,
            "object_position": null,
            "order": null,
            "overflow": null,
            "overflow_x": null,
            "overflow_y": null,
            "padding": null,
            "right": null,
            "top": null,
            "visibility": null,
            "width": null
          }
        },
        "069b8c7f966a4a7ca2d1f84ba9360542": {
          "model_module": "@jupyter-widgets/controls",
          "model_name": "DescriptionStyleModel",
          "model_module_version": "1.5.0",
          "state": {
            "_model_module": "@jupyter-widgets/controls",
            "_model_module_version": "1.5.0",
            "_model_name": "DescriptionStyleModel",
            "_view_count": null,
            "_view_module": "@jupyter-widgets/base",
            "_view_module_version": "1.2.0",
            "_view_name": "StyleView",
            "description_width": ""
          }
        },
        "a12fbe654d054b2c852d299f962c0f6b": {
          "model_module": "@jupyter-widgets/controls",
          "model_name": "HBoxModel",
          "model_module_version": "1.5.0",
          "state": {
            "_dom_classes": [],
            "_model_module": "@jupyter-widgets/controls",
            "_model_module_version": "1.5.0",
            "_model_name": "HBoxModel",
            "_view_count": null,
            "_view_module": "@jupyter-widgets/controls",
            "_view_module_version": "1.5.0",
            "_view_name": "HBoxView",
            "box_style": "",
            "children": [
              "IPY_MODEL_f6d57ff0afb44619993b87edfa4d02cd",
              "IPY_MODEL_78ea38ea0ea547d5af41849299f1b573",
              "IPY_MODEL_e9b4de12c82040d0bc404ec71b7f8f60"
            ],
            "layout": "IPY_MODEL_9ada79d3e5824382b078cbef06b5cae4"
          }
        },
        "f6d57ff0afb44619993b87edfa4d02cd": {
          "model_module": "@jupyter-widgets/controls",
          "model_name": "HTMLModel",
          "model_module_version": "1.5.0",
          "state": {
            "_dom_classes": [],
            "_model_module": "@jupyter-widgets/controls",
            "_model_module_version": "1.5.0",
            "_model_name": "HTMLModel",
            "_view_count": null,
            "_view_module": "@jupyter-widgets/controls",
            "_view_module_version": "1.5.0",
            "_view_name": "HTMLView",
            "description": "",
            "description_tooltip": null,
            "layout": "IPY_MODEL_62399b3616414bd7b62ec4e1881165af",
            "placeholder": "​",
            "style": "IPY_MODEL_148dd44e1f4b4bddbbcaf06b44cca701",
            "value": "Generating train examples...: 100%"
          }
        },
        "78ea38ea0ea547d5af41849299f1b573": {
          "model_module": "@jupyter-widgets/controls",
          "model_name": "FloatProgressModel",
          "model_module_version": "1.5.0",
          "state": {
            "_dom_classes": [],
            "_model_module": "@jupyter-widgets/controls",
            "_model_module_version": "1.5.0",
            "_model_name": "FloatProgressModel",
            "_view_count": null,
            "_view_module": "@jupyter-widgets/controls",
            "_view_module_version": "1.5.0",
            "_view_name": "ProgressView",
            "bar_style": "",
            "description": "",
            "description_tooltip": null,
            "layout": "IPY_MODEL_58b962d544b4473e9f3023a8d0a71a0d",
            "max": 75750,
            "min": 0,
            "orientation": "horizontal",
            "style": "IPY_MODEL_71945c01f3a4484fb8616a5aac5950be",
            "value": 75750
          }
        },
        "e9b4de12c82040d0bc404ec71b7f8f60": {
          "model_module": "@jupyter-widgets/controls",
          "model_name": "HTMLModel",
          "model_module_version": "1.5.0",
          "state": {
            "_dom_classes": [],
            "_model_module": "@jupyter-widgets/controls",
            "_model_module_version": "1.5.0",
            "_model_name": "HTMLModel",
            "_view_count": null,
            "_view_module": "@jupyter-widgets/controls",
            "_view_module_version": "1.5.0",
            "_view_name": "HTMLView",
            "description": "",
            "description_tooltip": null,
            "layout": "IPY_MODEL_cc0d1c614b4643fbb321e9bbb62bcf76",
            "placeholder": "​",
            "style": "IPY_MODEL_a4047d06f4fa43948a2be3c8c700b973",
            "value": " 75737/75750 [01:45&lt;00:00, 823.12 examples/s]"
          }
        },
        "9ada79d3e5824382b078cbef06b5cae4": {
          "model_module": "@jupyter-widgets/base",
          "model_name": "LayoutModel",
          "model_module_version": "1.2.0",
          "state": {
            "_model_module": "@jupyter-widgets/base",
            "_model_module_version": "1.2.0",
            "_model_name": "LayoutModel",
            "_view_count": null,
            "_view_module": "@jupyter-widgets/base",
            "_view_module_version": "1.2.0",
            "_view_name": "LayoutView",
            "align_content": null,
            "align_items": null,
            "align_self": null,
            "border": null,
            "bottom": null,
            "display": null,
            "flex": null,
            "flex_flow": null,
            "grid_area": null,
            "grid_auto_columns": null,
            "grid_auto_flow": null,
            "grid_auto_rows": null,
            "grid_column": null,
            "grid_gap": null,
            "grid_row": null,
            "grid_template_areas": null,
            "grid_template_columns": null,
            "grid_template_rows": null,
            "height": null,
            "justify_content": null,
            "justify_items": null,
            "left": null,
            "margin": null,
            "max_height": null,
            "max_width": null,
            "min_height": null,
            "min_width": null,
            "object_fit": null,
            "object_position": null,
            "order": null,
            "overflow": null,
            "overflow_x": null,
            "overflow_y": null,
            "padding": null,
            "right": null,
            "top": null,
            "visibility": null,
            "width": null
          }
        },
        "62399b3616414bd7b62ec4e1881165af": {
          "model_module": "@jupyter-widgets/base",
          "model_name": "LayoutModel",
          "model_module_version": "1.2.0",
          "state": {
            "_model_module": "@jupyter-widgets/base",
            "_model_module_version": "1.2.0",
            "_model_name": "LayoutModel",
            "_view_count": null,
            "_view_module": "@jupyter-widgets/base",
            "_view_module_version": "1.2.0",
            "_view_name": "LayoutView",
            "align_content": null,
            "align_items": null,
            "align_self": null,
            "border": null,
            "bottom": null,
            "display": null,
            "flex": null,
            "flex_flow": null,
            "grid_area": null,
            "grid_auto_columns": null,
            "grid_auto_flow": null,
            "grid_auto_rows": null,
            "grid_column": null,
            "grid_gap": null,
            "grid_row": null,
            "grid_template_areas": null,
            "grid_template_columns": null,
            "grid_template_rows": null,
            "height": null,
            "justify_content": null,
            "justify_items": null,
            "left": null,
            "margin": null,
            "max_height": null,
            "max_width": null,
            "min_height": null,
            "min_width": null,
            "object_fit": null,
            "object_position": null,
            "order": null,
            "overflow": null,
            "overflow_x": null,
            "overflow_y": null,
            "padding": null,
            "right": null,
            "top": null,
            "visibility": null,
            "width": null
          }
        },
        "148dd44e1f4b4bddbbcaf06b44cca701": {
          "model_module": "@jupyter-widgets/controls",
          "model_name": "DescriptionStyleModel",
          "model_module_version": "1.5.0",
          "state": {
            "_model_module": "@jupyter-widgets/controls",
            "_model_module_version": "1.5.0",
            "_model_name": "DescriptionStyleModel",
            "_view_count": null,
            "_view_module": "@jupyter-widgets/base",
            "_view_module_version": "1.2.0",
            "_view_name": "StyleView",
            "description_width": ""
          }
        },
        "58b962d544b4473e9f3023a8d0a71a0d": {
          "model_module": "@jupyter-widgets/base",
          "model_name": "LayoutModel",
          "model_module_version": "1.2.0",
          "state": {
            "_model_module": "@jupyter-widgets/base",
            "_model_module_version": "1.2.0",
            "_model_name": "LayoutModel",
            "_view_count": null,
            "_view_module": "@jupyter-widgets/base",
            "_view_module_version": "1.2.0",
            "_view_name": "LayoutView",
            "align_content": null,
            "align_items": null,
            "align_self": null,
            "border": null,
            "bottom": null,
            "display": null,
            "flex": null,
            "flex_flow": null,
            "grid_area": null,
            "grid_auto_columns": null,
            "grid_auto_flow": null,
            "grid_auto_rows": null,
            "grid_column": null,
            "grid_gap": null,
            "grid_row": null,
            "grid_template_areas": null,
            "grid_template_columns": null,
            "grid_template_rows": null,
            "height": null,
            "justify_content": null,
            "justify_items": null,
            "left": null,
            "margin": null,
            "max_height": null,
            "max_width": null,
            "min_height": null,
            "min_width": null,
            "object_fit": null,
            "object_position": null,
            "order": null,
            "overflow": null,
            "overflow_x": null,
            "overflow_y": null,
            "padding": null,
            "right": null,
            "top": null,
            "visibility": null,
            "width": null
          }
        },
        "71945c01f3a4484fb8616a5aac5950be": {
          "model_module": "@jupyter-widgets/controls",
          "model_name": "ProgressStyleModel",
          "model_module_version": "1.5.0",
          "state": {
            "_model_module": "@jupyter-widgets/controls",
            "_model_module_version": "1.5.0",
            "_model_name": "ProgressStyleModel",
            "_view_count": null,
            "_view_module": "@jupyter-widgets/base",
            "_view_module_version": "1.2.0",
            "_view_name": "StyleView",
            "bar_color": null,
            "description_width": ""
          }
        },
        "cc0d1c614b4643fbb321e9bbb62bcf76": {
          "model_module": "@jupyter-widgets/base",
          "model_name": "LayoutModel",
          "model_module_version": "1.2.0",
          "state": {
            "_model_module": "@jupyter-widgets/base",
            "_model_module_version": "1.2.0",
            "_model_name": "LayoutModel",
            "_view_count": null,
            "_view_module": "@jupyter-widgets/base",
            "_view_module_version": "1.2.0",
            "_view_name": "LayoutView",
            "align_content": null,
            "align_items": null,
            "align_self": null,
            "border": null,
            "bottom": null,
            "display": null,
            "flex": null,
            "flex_flow": null,
            "grid_area": null,
            "grid_auto_columns": null,
            "grid_auto_flow": null,
            "grid_auto_rows": null,
            "grid_column": null,
            "grid_gap": null,
            "grid_row": null,
            "grid_template_areas": null,
            "grid_template_columns": null,
            "grid_template_rows": null,
            "height": null,
            "justify_content": null,
            "justify_items": null,
            "left": null,
            "margin": null,
            "max_height": null,
            "max_width": null,
            "min_height": null,
            "min_width": null,
            "object_fit": null,
            "object_position": null,
            "order": null,
            "overflow": null,
            "overflow_x": null,
            "overflow_y": null,
            "padding": null,
            "right": null,
            "top": null,
            "visibility": null,
            "width": null
          }
        },
        "a4047d06f4fa43948a2be3c8c700b973": {
          "model_module": "@jupyter-widgets/controls",
          "model_name": "DescriptionStyleModel",
          "model_module_version": "1.5.0",
          "state": {
            "_model_module": "@jupyter-widgets/controls",
            "_model_module_version": "1.5.0",
            "_model_name": "DescriptionStyleModel",
            "_view_count": null,
            "_view_module": "@jupyter-widgets/base",
            "_view_module_version": "1.2.0",
            "_view_name": "StyleView",
            "description_width": ""
          }
        },
        "5fa0bfd4d3f8483699435cff25b61915": {
          "model_module": "@jupyter-widgets/controls",
          "model_name": "HBoxModel",
          "model_module_version": "1.5.0",
          "state": {
            "_dom_classes": [],
            "_model_module": "@jupyter-widgets/controls",
            "_model_module_version": "1.5.0",
            "_model_name": "HBoxModel",
            "_view_count": null,
            "_view_module": "@jupyter-widgets/controls",
            "_view_module_version": "1.5.0",
            "_view_name": "HBoxView",
            "box_style": "",
            "children": [
              "IPY_MODEL_ba6d9b6c2f304f8f99bea0c0674e091b",
              "IPY_MODEL_6913b3327176415fa1612dd6dbe4a71b",
              "IPY_MODEL_ec55ced012b14238aebf2c608620be89"
            ],
            "layout": "IPY_MODEL_16795420dedb4404a7e8954d8412c5dc"
          }
        },
        "ba6d9b6c2f304f8f99bea0c0674e091b": {
          "model_module": "@jupyter-widgets/controls",
          "model_name": "HTMLModel",
          "model_module_version": "1.5.0",
          "state": {
            "_dom_classes": [],
            "_model_module": "@jupyter-widgets/controls",
            "_model_module_version": "1.5.0",
            "_model_name": "HTMLModel",
            "_view_count": null,
            "_view_module": "@jupyter-widgets/controls",
            "_view_module_version": "1.5.0",
            "_view_name": "HTMLView",
            "description": "",
            "description_tooltip": null,
            "layout": "IPY_MODEL_06859f2894ed4165acbcf0e46dc6b03e",
            "placeholder": "​",
            "style": "IPY_MODEL_1420d9e3dd894d72a4089cc7a3412320",
            "value": "Shuffling ~/tensorflow_datasets/food101/2.0.0.incomplete9OXS37/food101-train.tfrecord*...: 100%"
          }
        },
        "6913b3327176415fa1612dd6dbe4a71b": {
          "model_module": "@jupyter-widgets/controls",
          "model_name": "FloatProgressModel",
          "model_module_version": "1.5.0",
          "state": {
            "_dom_classes": [],
            "_model_module": "@jupyter-widgets/controls",
            "_model_module_version": "1.5.0",
            "_model_name": "FloatProgressModel",
            "_view_count": null,
            "_view_module": "@jupyter-widgets/controls",
            "_view_module_version": "1.5.0",
            "_view_name": "ProgressView",
            "bar_style": "",
            "description": "",
            "description_tooltip": null,
            "layout": "IPY_MODEL_0aef0921101740e48a88c84d6d9d165e",
            "max": 75750,
            "min": 0,
            "orientation": "horizontal",
            "style": "IPY_MODEL_bdca036a5b6e4668965a08d6852d8b15",
            "value": 75750
          }
        },
        "ec55ced012b14238aebf2c608620be89": {
          "model_module": "@jupyter-widgets/controls",
          "model_name": "HTMLModel",
          "model_module_version": "1.5.0",
          "state": {
            "_dom_classes": [],
            "_model_module": "@jupyter-widgets/controls",
            "_model_module_version": "1.5.0",
            "_model_name": "HTMLModel",
            "_view_count": null,
            "_view_module": "@jupyter-widgets/controls",
            "_view_module_version": "1.5.0",
            "_view_name": "HTMLView",
            "description": "",
            "description_tooltip": null,
            "layout": "IPY_MODEL_5ebc2907411f4d2f94b8a975c036e3b0",
            "placeholder": "​",
            "style": "IPY_MODEL_d4fb0b21671049519ee9add724de4b73",
            "value": " 75516/75750 [00:29&lt;00:00, 2870.15 examples/s]"
          }
        },
        "16795420dedb4404a7e8954d8412c5dc": {
          "model_module": "@jupyter-widgets/base",
          "model_name": "LayoutModel",
          "model_module_version": "1.2.0",
          "state": {
            "_model_module": "@jupyter-widgets/base",
            "_model_module_version": "1.2.0",
            "_model_name": "LayoutModel",
            "_view_count": null,
            "_view_module": "@jupyter-widgets/base",
            "_view_module_version": "1.2.0",
            "_view_name": "LayoutView",
            "align_content": null,
            "align_items": null,
            "align_self": null,
            "border": null,
            "bottom": null,
            "display": null,
            "flex": null,
            "flex_flow": null,
            "grid_area": null,
            "grid_auto_columns": null,
            "grid_auto_flow": null,
            "grid_auto_rows": null,
            "grid_column": null,
            "grid_gap": null,
            "grid_row": null,
            "grid_template_areas": null,
            "grid_template_columns": null,
            "grid_template_rows": null,
            "height": null,
            "justify_content": null,
            "justify_items": null,
            "left": null,
            "margin": null,
            "max_height": null,
            "max_width": null,
            "min_height": null,
            "min_width": null,
            "object_fit": null,
            "object_position": null,
            "order": null,
            "overflow": null,
            "overflow_x": null,
            "overflow_y": null,
            "padding": null,
            "right": null,
            "top": null,
            "visibility": null,
            "width": null
          }
        },
        "06859f2894ed4165acbcf0e46dc6b03e": {
          "model_module": "@jupyter-widgets/base",
          "model_name": "LayoutModel",
          "model_module_version": "1.2.0",
          "state": {
            "_model_module": "@jupyter-widgets/base",
            "_model_module_version": "1.2.0",
            "_model_name": "LayoutModel",
            "_view_count": null,
            "_view_module": "@jupyter-widgets/base",
            "_view_module_version": "1.2.0",
            "_view_name": "LayoutView",
            "align_content": null,
            "align_items": null,
            "align_self": null,
            "border": null,
            "bottom": null,
            "display": null,
            "flex": null,
            "flex_flow": null,
            "grid_area": null,
            "grid_auto_columns": null,
            "grid_auto_flow": null,
            "grid_auto_rows": null,
            "grid_column": null,
            "grid_gap": null,
            "grid_row": null,
            "grid_template_areas": null,
            "grid_template_columns": null,
            "grid_template_rows": null,
            "height": null,
            "justify_content": null,
            "justify_items": null,
            "left": null,
            "margin": null,
            "max_height": null,
            "max_width": null,
            "min_height": null,
            "min_width": null,
            "object_fit": null,
            "object_position": null,
            "order": null,
            "overflow": null,
            "overflow_x": null,
            "overflow_y": null,
            "padding": null,
            "right": null,
            "top": null,
            "visibility": null,
            "width": null
          }
        },
        "1420d9e3dd894d72a4089cc7a3412320": {
          "model_module": "@jupyter-widgets/controls",
          "model_name": "DescriptionStyleModel",
          "model_module_version": "1.5.0",
          "state": {
            "_model_module": "@jupyter-widgets/controls",
            "_model_module_version": "1.5.0",
            "_model_name": "DescriptionStyleModel",
            "_view_count": null,
            "_view_module": "@jupyter-widgets/base",
            "_view_module_version": "1.2.0",
            "_view_name": "StyleView",
            "description_width": ""
          }
        },
        "0aef0921101740e48a88c84d6d9d165e": {
          "model_module": "@jupyter-widgets/base",
          "model_name": "LayoutModel",
          "model_module_version": "1.2.0",
          "state": {
            "_model_module": "@jupyter-widgets/base",
            "_model_module_version": "1.2.0",
            "_model_name": "LayoutModel",
            "_view_count": null,
            "_view_module": "@jupyter-widgets/base",
            "_view_module_version": "1.2.0",
            "_view_name": "LayoutView",
            "align_content": null,
            "align_items": null,
            "align_self": null,
            "border": null,
            "bottom": null,
            "display": null,
            "flex": null,
            "flex_flow": null,
            "grid_area": null,
            "grid_auto_columns": null,
            "grid_auto_flow": null,
            "grid_auto_rows": null,
            "grid_column": null,
            "grid_gap": null,
            "grid_row": null,
            "grid_template_areas": null,
            "grid_template_columns": null,
            "grid_template_rows": null,
            "height": null,
            "justify_content": null,
            "justify_items": null,
            "left": null,
            "margin": null,
            "max_height": null,
            "max_width": null,
            "min_height": null,
            "min_width": null,
            "object_fit": null,
            "object_position": null,
            "order": null,
            "overflow": null,
            "overflow_x": null,
            "overflow_y": null,
            "padding": null,
            "right": null,
            "top": null,
            "visibility": null,
            "width": null
          }
        },
        "bdca036a5b6e4668965a08d6852d8b15": {
          "model_module": "@jupyter-widgets/controls",
          "model_name": "ProgressStyleModel",
          "model_module_version": "1.5.0",
          "state": {
            "_model_module": "@jupyter-widgets/controls",
            "_model_module_version": "1.5.0",
            "_model_name": "ProgressStyleModel",
            "_view_count": null,
            "_view_module": "@jupyter-widgets/base",
            "_view_module_version": "1.2.0",
            "_view_name": "StyleView",
            "bar_color": null,
            "description_width": ""
          }
        },
        "5ebc2907411f4d2f94b8a975c036e3b0": {
          "model_module": "@jupyter-widgets/base",
          "model_name": "LayoutModel",
          "model_module_version": "1.2.0",
          "state": {
            "_model_module": "@jupyter-widgets/base",
            "_model_module_version": "1.2.0",
            "_model_name": "LayoutModel",
            "_view_count": null,
            "_view_module": "@jupyter-widgets/base",
            "_view_module_version": "1.2.0",
            "_view_name": "LayoutView",
            "align_content": null,
            "align_items": null,
            "align_self": null,
            "border": null,
            "bottom": null,
            "display": null,
            "flex": null,
            "flex_flow": null,
            "grid_area": null,
            "grid_auto_columns": null,
            "grid_auto_flow": null,
            "grid_auto_rows": null,
            "grid_column": null,
            "grid_gap": null,
            "grid_row": null,
            "grid_template_areas": null,
            "grid_template_columns": null,
            "grid_template_rows": null,
            "height": null,
            "justify_content": null,
            "justify_items": null,
            "left": null,
            "margin": null,
            "max_height": null,
            "max_width": null,
            "min_height": null,
            "min_width": null,
            "object_fit": null,
            "object_position": null,
            "order": null,
            "overflow": null,
            "overflow_x": null,
            "overflow_y": null,
            "padding": null,
            "right": null,
            "top": null,
            "visibility": null,
            "width": null
          }
        },
        "d4fb0b21671049519ee9add724de4b73": {
          "model_module": "@jupyter-widgets/controls",
          "model_name": "DescriptionStyleModel",
          "model_module_version": "1.5.0",
          "state": {
            "_model_module": "@jupyter-widgets/controls",
            "_model_module_version": "1.5.0",
            "_model_name": "DescriptionStyleModel",
            "_view_count": null,
            "_view_module": "@jupyter-widgets/base",
            "_view_module_version": "1.2.0",
            "_view_name": "StyleView",
            "description_width": ""
          }
        },
        "19a914d3160c418893593cb5b34474de": {
          "model_module": "@jupyter-widgets/controls",
          "model_name": "HBoxModel",
          "model_module_version": "1.5.0",
          "state": {
            "_dom_classes": [],
            "_model_module": "@jupyter-widgets/controls",
            "_model_module_version": "1.5.0",
            "_model_name": "HBoxModel",
            "_view_count": null,
            "_view_module": "@jupyter-widgets/controls",
            "_view_module_version": "1.5.0",
            "_view_name": "HBoxView",
            "box_style": "",
            "children": [
              "IPY_MODEL_546e8a5eb750438aa2a26250c31adbcd",
              "IPY_MODEL_95095d0b21274302a6f772d7f6ddacec",
              "IPY_MODEL_ba2b2552226844fc9310de06d546ed99"
            ],
            "layout": "IPY_MODEL_386ec96f08e14d77abb4419c61c0257b"
          }
        },
        "546e8a5eb750438aa2a26250c31adbcd": {
          "model_module": "@jupyter-widgets/controls",
          "model_name": "HTMLModel",
          "model_module_version": "1.5.0",
          "state": {
            "_dom_classes": [],
            "_model_module": "@jupyter-widgets/controls",
            "_model_module_version": "1.5.0",
            "_model_name": "HTMLModel",
            "_view_count": null,
            "_view_module": "@jupyter-widgets/controls",
            "_view_module_version": "1.5.0",
            "_view_name": "HTMLView",
            "description": "",
            "description_tooltip": null,
            "layout": "IPY_MODEL_b0b4171e9e974d339f17e1cb82157354",
            "placeholder": "​",
            "style": "IPY_MODEL_1923cc0643a24676a7678abae84a12b6",
            "value": "Generating validation examples...: 100%"
          }
        },
        "95095d0b21274302a6f772d7f6ddacec": {
          "model_module": "@jupyter-widgets/controls",
          "model_name": "FloatProgressModel",
          "model_module_version": "1.5.0",
          "state": {
            "_dom_classes": [],
            "_model_module": "@jupyter-widgets/controls",
            "_model_module_version": "1.5.0",
            "_model_name": "FloatProgressModel",
            "_view_count": null,
            "_view_module": "@jupyter-widgets/controls",
            "_view_module_version": "1.5.0",
            "_view_name": "ProgressView",
            "bar_style": "",
            "description": "",
            "description_tooltip": null,
            "layout": "IPY_MODEL_5c7dd1233a1f4936b13040409c754df3",
            "max": 25250,
            "min": 0,
            "orientation": "horizontal",
            "style": "IPY_MODEL_8a673356875a422d9bda2775b84d92f3",
            "value": 25250
          }
        },
        "ba2b2552226844fc9310de06d546ed99": {
          "model_module": "@jupyter-widgets/controls",
          "model_name": "HTMLModel",
          "model_module_version": "1.5.0",
          "state": {
            "_dom_classes": [],
            "_model_module": "@jupyter-widgets/controls",
            "_model_module_version": "1.5.0",
            "_model_name": "HTMLModel",
            "_view_count": null,
            "_view_module": "@jupyter-widgets/controls",
            "_view_module_version": "1.5.0",
            "_view_name": "HTMLView",
            "description": "",
            "description_tooltip": null,
            "layout": "IPY_MODEL_88662f07534d4ebca0b836913dbfe0f4",
            "placeholder": "​",
            "style": "IPY_MODEL_3313a93dc6404f6ea7653562a1915f0a",
            "value": " 25226/25250 [00:55&lt;00:00, 529.92 examples/s]"
          }
        },
        "386ec96f08e14d77abb4419c61c0257b": {
          "model_module": "@jupyter-widgets/base",
          "model_name": "LayoutModel",
          "model_module_version": "1.2.0",
          "state": {
            "_model_module": "@jupyter-widgets/base",
            "_model_module_version": "1.2.0",
            "_model_name": "LayoutModel",
            "_view_count": null,
            "_view_module": "@jupyter-widgets/base",
            "_view_module_version": "1.2.0",
            "_view_name": "LayoutView",
            "align_content": null,
            "align_items": null,
            "align_self": null,
            "border": null,
            "bottom": null,
            "display": null,
            "flex": null,
            "flex_flow": null,
            "grid_area": null,
            "grid_auto_columns": null,
            "grid_auto_flow": null,
            "grid_auto_rows": null,
            "grid_column": null,
            "grid_gap": null,
            "grid_row": null,
            "grid_template_areas": null,
            "grid_template_columns": null,
            "grid_template_rows": null,
            "height": null,
            "justify_content": null,
            "justify_items": null,
            "left": null,
            "margin": null,
            "max_height": null,
            "max_width": null,
            "min_height": null,
            "min_width": null,
            "object_fit": null,
            "object_position": null,
            "order": null,
            "overflow": null,
            "overflow_x": null,
            "overflow_y": null,
            "padding": null,
            "right": null,
            "top": null,
            "visibility": null,
            "width": null
          }
        },
        "b0b4171e9e974d339f17e1cb82157354": {
          "model_module": "@jupyter-widgets/base",
          "model_name": "LayoutModel",
          "model_module_version": "1.2.0",
          "state": {
            "_model_module": "@jupyter-widgets/base",
            "_model_module_version": "1.2.0",
            "_model_name": "LayoutModel",
            "_view_count": null,
            "_view_module": "@jupyter-widgets/base",
            "_view_module_version": "1.2.0",
            "_view_name": "LayoutView",
            "align_content": null,
            "align_items": null,
            "align_self": null,
            "border": null,
            "bottom": null,
            "display": null,
            "flex": null,
            "flex_flow": null,
            "grid_area": null,
            "grid_auto_columns": null,
            "grid_auto_flow": null,
            "grid_auto_rows": null,
            "grid_column": null,
            "grid_gap": null,
            "grid_row": null,
            "grid_template_areas": null,
            "grid_template_columns": null,
            "grid_template_rows": null,
            "height": null,
            "justify_content": null,
            "justify_items": null,
            "left": null,
            "margin": null,
            "max_height": null,
            "max_width": null,
            "min_height": null,
            "min_width": null,
            "object_fit": null,
            "object_position": null,
            "order": null,
            "overflow": null,
            "overflow_x": null,
            "overflow_y": null,
            "padding": null,
            "right": null,
            "top": null,
            "visibility": null,
            "width": null
          }
        },
        "1923cc0643a24676a7678abae84a12b6": {
          "model_module": "@jupyter-widgets/controls",
          "model_name": "DescriptionStyleModel",
          "model_module_version": "1.5.0",
          "state": {
            "_model_module": "@jupyter-widgets/controls",
            "_model_module_version": "1.5.0",
            "_model_name": "DescriptionStyleModel",
            "_view_count": null,
            "_view_module": "@jupyter-widgets/base",
            "_view_module_version": "1.2.0",
            "_view_name": "StyleView",
            "description_width": ""
          }
        },
        "5c7dd1233a1f4936b13040409c754df3": {
          "model_module": "@jupyter-widgets/base",
          "model_name": "LayoutModel",
          "model_module_version": "1.2.0",
          "state": {
            "_model_module": "@jupyter-widgets/base",
            "_model_module_version": "1.2.0",
            "_model_name": "LayoutModel",
            "_view_count": null,
            "_view_module": "@jupyter-widgets/base",
            "_view_module_version": "1.2.0",
            "_view_name": "LayoutView",
            "align_content": null,
            "align_items": null,
            "align_self": null,
            "border": null,
            "bottom": null,
            "display": null,
            "flex": null,
            "flex_flow": null,
            "grid_area": null,
            "grid_auto_columns": null,
            "grid_auto_flow": null,
            "grid_auto_rows": null,
            "grid_column": null,
            "grid_gap": null,
            "grid_row": null,
            "grid_template_areas": null,
            "grid_template_columns": null,
            "grid_template_rows": null,
            "height": null,
            "justify_content": null,
            "justify_items": null,
            "left": null,
            "margin": null,
            "max_height": null,
            "max_width": null,
            "min_height": null,
            "min_width": null,
            "object_fit": null,
            "object_position": null,
            "order": null,
            "overflow": null,
            "overflow_x": null,
            "overflow_y": null,
            "padding": null,
            "right": null,
            "top": null,
            "visibility": null,
            "width": null
          }
        },
        "8a673356875a422d9bda2775b84d92f3": {
          "model_module": "@jupyter-widgets/controls",
          "model_name": "ProgressStyleModel",
          "model_module_version": "1.5.0",
          "state": {
            "_model_module": "@jupyter-widgets/controls",
            "_model_module_version": "1.5.0",
            "_model_name": "ProgressStyleModel",
            "_view_count": null,
            "_view_module": "@jupyter-widgets/base",
            "_view_module_version": "1.2.0",
            "_view_name": "StyleView",
            "bar_color": null,
            "description_width": ""
          }
        },
        "88662f07534d4ebca0b836913dbfe0f4": {
          "model_module": "@jupyter-widgets/base",
          "model_name": "LayoutModel",
          "model_module_version": "1.2.0",
          "state": {
            "_model_module": "@jupyter-widgets/base",
            "_model_module_version": "1.2.0",
            "_model_name": "LayoutModel",
            "_view_count": null,
            "_view_module": "@jupyter-widgets/base",
            "_view_module_version": "1.2.0",
            "_view_name": "LayoutView",
            "align_content": null,
            "align_items": null,
            "align_self": null,
            "border": null,
            "bottom": null,
            "display": null,
            "flex": null,
            "flex_flow": null,
            "grid_area": null,
            "grid_auto_columns": null,
            "grid_auto_flow": null,
            "grid_auto_rows": null,
            "grid_column": null,
            "grid_gap": null,
            "grid_row": null,
            "grid_template_areas": null,
            "grid_template_columns": null,
            "grid_template_rows": null,
            "height": null,
            "justify_content": null,
            "justify_items": null,
            "left": null,
            "margin": null,
            "max_height": null,
            "max_width": null,
            "min_height": null,
            "min_width": null,
            "object_fit": null,
            "object_position": null,
            "order": null,
            "overflow": null,
            "overflow_x": null,
            "overflow_y": null,
            "padding": null,
            "right": null,
            "top": null,
            "visibility": null,
            "width": null
          }
        },
        "3313a93dc6404f6ea7653562a1915f0a": {
          "model_module": "@jupyter-widgets/controls",
          "model_name": "DescriptionStyleModel",
          "model_module_version": "1.5.0",
          "state": {
            "_model_module": "@jupyter-widgets/controls",
            "_model_module_version": "1.5.0",
            "_model_name": "DescriptionStyleModel",
            "_view_count": null,
            "_view_module": "@jupyter-widgets/base",
            "_view_module_version": "1.2.0",
            "_view_name": "StyleView",
            "description_width": ""
          }
        },
        "aa60539c5f3746ba8281bb42f3ca0519": {
          "model_module": "@jupyter-widgets/controls",
          "model_name": "HBoxModel",
          "model_module_version": "1.5.0",
          "state": {
            "_dom_classes": [],
            "_model_module": "@jupyter-widgets/controls",
            "_model_module_version": "1.5.0",
            "_model_name": "HBoxModel",
            "_view_count": null,
            "_view_module": "@jupyter-widgets/controls",
            "_view_module_version": "1.5.0",
            "_view_name": "HBoxView",
            "box_style": "",
            "children": [
              "IPY_MODEL_692f37beb4cc49079318881af5a2b953",
              "IPY_MODEL_e4b28eeb75b947e6ba89b8bed5492851",
              "IPY_MODEL_da21629b17154c37b47bb9eca4c9ec6d"
            ],
            "layout": "IPY_MODEL_3a5f667024c54a05b6aac62c2109b604"
          }
        },
        "692f37beb4cc49079318881af5a2b953": {
          "model_module": "@jupyter-widgets/controls",
          "model_name": "HTMLModel",
          "model_module_version": "1.5.0",
          "state": {
            "_dom_classes": [],
            "_model_module": "@jupyter-widgets/controls",
            "_model_module_version": "1.5.0",
            "_model_name": "HTMLModel",
            "_view_count": null,
            "_view_module": "@jupyter-widgets/controls",
            "_view_module_version": "1.5.0",
            "_view_name": "HTMLView",
            "description": "",
            "description_tooltip": null,
            "layout": "IPY_MODEL_87a9e5656bf04ee78743404f47b31b89",
            "placeholder": "​",
            "style": "IPY_MODEL_1a29dd3388a24c46a171a3428e334884",
            "value": "Shuffling ~/tensorflow_datasets/food101/2.0.0.incomplete9OXS37/food101-validation.tfrecord*...:  97%"
          }
        },
        "e4b28eeb75b947e6ba89b8bed5492851": {
          "model_module": "@jupyter-widgets/controls",
          "model_name": "FloatProgressModel",
          "model_module_version": "1.5.0",
          "state": {
            "_dom_classes": [],
            "_model_module": "@jupyter-widgets/controls",
            "_model_module_version": "1.5.0",
            "_model_name": "FloatProgressModel",
            "_view_count": null,
            "_view_module": "@jupyter-widgets/controls",
            "_view_module_version": "1.5.0",
            "_view_name": "ProgressView",
            "bar_style": "",
            "description": "",
            "description_tooltip": null,
            "layout": "IPY_MODEL_437a8df28f604a199e97221648b94366",
            "max": 25250,
            "min": 0,
            "orientation": "horizontal",
            "style": "IPY_MODEL_85c6c34d5c774a85a38e93fa2988014d",
            "value": 25250
          }
        },
        "da21629b17154c37b47bb9eca4c9ec6d": {
          "model_module": "@jupyter-widgets/controls",
          "model_name": "HTMLModel",
          "model_module_version": "1.5.0",
          "state": {
            "_dom_classes": [],
            "_model_module": "@jupyter-widgets/controls",
            "_model_module_version": "1.5.0",
            "_model_name": "HTMLModel",
            "_view_count": null,
            "_view_module": "@jupyter-widgets/controls",
            "_view_module_version": "1.5.0",
            "_view_name": "HTMLView",
            "description": "",
            "description_tooltip": null,
            "layout": "IPY_MODEL_97bd6793ce634ef1823dffdcdfce4156",
            "placeholder": "​",
            "style": "IPY_MODEL_e42b8dd675bd4fae9bdd9bef916b71ee",
            "value": " 24438/25250 [00:04&lt;00:00, 5845.73 examples/s]"
          }
        },
        "3a5f667024c54a05b6aac62c2109b604": {
          "model_module": "@jupyter-widgets/base",
          "model_name": "LayoutModel",
          "model_module_version": "1.2.0",
          "state": {
            "_model_module": "@jupyter-widgets/base",
            "_model_module_version": "1.2.0",
            "_model_name": "LayoutModel",
            "_view_count": null,
            "_view_module": "@jupyter-widgets/base",
            "_view_module_version": "1.2.0",
            "_view_name": "LayoutView",
            "align_content": null,
            "align_items": null,
            "align_self": null,
            "border": null,
            "bottom": null,
            "display": null,
            "flex": null,
            "flex_flow": null,
            "grid_area": null,
            "grid_auto_columns": null,
            "grid_auto_flow": null,
            "grid_auto_rows": null,
            "grid_column": null,
            "grid_gap": null,
            "grid_row": null,
            "grid_template_areas": null,
            "grid_template_columns": null,
            "grid_template_rows": null,
            "height": null,
            "justify_content": null,
            "justify_items": null,
            "left": null,
            "margin": null,
            "max_height": null,
            "max_width": null,
            "min_height": null,
            "min_width": null,
            "object_fit": null,
            "object_position": null,
            "order": null,
            "overflow": null,
            "overflow_x": null,
            "overflow_y": null,
            "padding": null,
            "right": null,
            "top": null,
            "visibility": null,
            "width": null
          }
        },
        "87a9e5656bf04ee78743404f47b31b89": {
          "model_module": "@jupyter-widgets/base",
          "model_name": "LayoutModel",
          "model_module_version": "1.2.0",
          "state": {
            "_model_module": "@jupyter-widgets/base",
            "_model_module_version": "1.2.0",
            "_model_name": "LayoutModel",
            "_view_count": null,
            "_view_module": "@jupyter-widgets/base",
            "_view_module_version": "1.2.0",
            "_view_name": "LayoutView",
            "align_content": null,
            "align_items": null,
            "align_self": null,
            "border": null,
            "bottom": null,
            "display": null,
            "flex": null,
            "flex_flow": null,
            "grid_area": null,
            "grid_auto_columns": null,
            "grid_auto_flow": null,
            "grid_auto_rows": null,
            "grid_column": null,
            "grid_gap": null,
            "grid_row": null,
            "grid_template_areas": null,
            "grid_template_columns": null,
            "grid_template_rows": null,
            "height": null,
            "justify_content": null,
            "justify_items": null,
            "left": null,
            "margin": null,
            "max_height": null,
            "max_width": null,
            "min_height": null,
            "min_width": null,
            "object_fit": null,
            "object_position": null,
            "order": null,
            "overflow": null,
            "overflow_x": null,
            "overflow_y": null,
            "padding": null,
            "right": null,
            "top": null,
            "visibility": null,
            "width": null
          }
        },
        "1a29dd3388a24c46a171a3428e334884": {
          "model_module": "@jupyter-widgets/controls",
          "model_name": "DescriptionStyleModel",
          "model_module_version": "1.5.0",
          "state": {
            "_model_module": "@jupyter-widgets/controls",
            "_model_module_version": "1.5.0",
            "_model_name": "DescriptionStyleModel",
            "_view_count": null,
            "_view_module": "@jupyter-widgets/base",
            "_view_module_version": "1.2.0",
            "_view_name": "StyleView",
            "description_width": ""
          }
        },
        "437a8df28f604a199e97221648b94366": {
          "model_module": "@jupyter-widgets/base",
          "model_name": "LayoutModel",
          "model_module_version": "1.2.0",
          "state": {
            "_model_module": "@jupyter-widgets/base",
            "_model_module_version": "1.2.0",
            "_model_name": "LayoutModel",
            "_view_count": null,
            "_view_module": "@jupyter-widgets/base",
            "_view_module_version": "1.2.0",
            "_view_name": "LayoutView",
            "align_content": null,
            "align_items": null,
            "align_self": null,
            "border": null,
            "bottom": null,
            "display": null,
            "flex": null,
            "flex_flow": null,
            "grid_area": null,
            "grid_auto_columns": null,
            "grid_auto_flow": null,
            "grid_auto_rows": null,
            "grid_column": null,
            "grid_gap": null,
            "grid_row": null,
            "grid_template_areas": null,
            "grid_template_columns": null,
            "grid_template_rows": null,
            "height": null,
            "justify_content": null,
            "justify_items": null,
            "left": null,
            "margin": null,
            "max_height": null,
            "max_width": null,
            "min_height": null,
            "min_width": null,
            "object_fit": null,
            "object_position": null,
            "order": null,
            "overflow": null,
            "overflow_x": null,
            "overflow_y": null,
            "padding": null,
            "right": null,
            "top": null,
            "visibility": null,
            "width": null
          }
        },
        "85c6c34d5c774a85a38e93fa2988014d": {
          "model_module": "@jupyter-widgets/controls",
          "model_name": "ProgressStyleModel",
          "model_module_version": "1.5.0",
          "state": {
            "_model_module": "@jupyter-widgets/controls",
            "_model_module_version": "1.5.0",
            "_model_name": "ProgressStyleModel",
            "_view_count": null,
            "_view_module": "@jupyter-widgets/base",
            "_view_module_version": "1.2.0",
            "_view_name": "StyleView",
            "bar_color": null,
            "description_width": ""
          }
        },
        "97bd6793ce634ef1823dffdcdfce4156": {
          "model_module": "@jupyter-widgets/base",
          "model_name": "LayoutModel",
          "model_module_version": "1.2.0",
          "state": {
            "_model_module": "@jupyter-widgets/base",
            "_model_module_version": "1.2.0",
            "_model_name": "LayoutModel",
            "_view_count": null,
            "_view_module": "@jupyter-widgets/base",
            "_view_module_version": "1.2.0",
            "_view_name": "LayoutView",
            "align_content": null,
            "align_items": null,
            "align_self": null,
            "border": null,
            "bottom": null,
            "display": null,
            "flex": null,
            "flex_flow": null,
            "grid_area": null,
            "grid_auto_columns": null,
            "grid_auto_flow": null,
            "grid_auto_rows": null,
            "grid_column": null,
            "grid_gap": null,
            "grid_row": null,
            "grid_template_areas": null,
            "grid_template_columns": null,
            "grid_template_rows": null,
            "height": null,
            "justify_content": null,
            "justify_items": null,
            "left": null,
            "margin": null,
            "max_height": null,
            "max_width": null,
            "min_height": null,
            "min_width": null,
            "object_fit": null,
            "object_position": null,
            "order": null,
            "overflow": null,
            "overflow_x": null,
            "overflow_y": null,
            "padding": null,
            "right": null,
            "top": null,
            "visibility": null,
            "width": null
          }
        },
        "e42b8dd675bd4fae9bdd9bef916b71ee": {
          "model_module": "@jupyter-widgets/controls",
          "model_name": "DescriptionStyleModel",
          "model_module_version": "1.5.0",
          "state": {
            "_model_module": "@jupyter-widgets/controls",
            "_model_module_version": "1.5.0",
            "_model_name": "DescriptionStyleModel",
            "_view_count": null,
            "_view_module": "@jupyter-widgets/base",
            "_view_module_version": "1.2.0",
            "_view_name": "StyleView",
            "description_width": ""
          }
        }
      }
    }
  },
  "nbformat": 4,
  "nbformat_minor": 0
}