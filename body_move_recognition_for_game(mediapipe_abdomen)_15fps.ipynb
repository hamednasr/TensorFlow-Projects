{
  "cells": [
    {
      "cell_type": "markdown",
      "metadata": {
        "id": "view-in-github",
        "colab_type": "text"
      },
      "source": [
        "<a href=\"https://colab.research.google.com/github/hamednasr/TensorFlow-Projects/blob/main/body_move_recognition_for_game(mediapipe_abdomen)_15fps.ipynb\" target=\"_parent\"><img src=\"https://colab.research.google.com/assets/colab-badge.svg\" alt=\"Open In Colab\"/></a>"
      ]
    },
    {
      "cell_type": "markdown",
      "source": [
        "# Body Movement Recognition"
      ],
      "metadata": {
        "id": "bn3eyWQ3tacC"
      }
    },
    {
      "cell_type": "markdown",
      "source": [
        "First of all, I gathered data via camera. The video clips each has set to capture 15 frames for each movement. Coordinates of the body were gathered. I recorded four types of body movements (right, left, jump, crouch) as training data. There were 100 piece of video for each movement (total of 400 video clips). I captured the body coordinations and created a CNN-LSTM Deep learning model with tensorflow and mediapipe . Then trained the model with 400 video clips. The output model was very robust and efficient in classification of body movements with test accuracy of 98%. This model was ordered by Mars game studio. "
      ],
      "metadata": {
        "id": "M-zsAHmxtYyK"
      }
    },
    {
      "cell_type": "code",
      "execution_count": null,
      "metadata": {
        "colab": {
          "base_uri": "https://localhost:8080/"
        },
        "id": "wGc6l0c6lUqS",
        "outputId": "d96e5211-0a67-465c-854b-928320643cd7"
      },
      "outputs": [
        {
          "name": "stdout",
          "output_type": "stream",
          "text": [
            "Looking in indexes: https://pypi.org/simple, https://us-python.pkg.dev/colab-wheels/public/simple/\n",
            "Collecting mediapipe\n",
            "  Downloading mediapipe-0.8.10.1-cp37-cp37m-manylinux_2_17_x86_64.manylinux2014_x86_64.whl (32.9 MB)\n",
            "\u001b[K     |████████████████████████████████| 32.9 MB 186 kB/s \n",
            "\u001b[?25hRequirement already satisfied: absl-py in /usr/local/lib/python3.7/dist-packages (from mediapipe) (1.2.0)\n",
            "Requirement already satisfied: matplotlib in /usr/local/lib/python3.7/dist-packages (from mediapipe) (3.2.2)\n",
            "Requirement already satisfied: attrs>=19.1.0 in /usr/local/lib/python3.7/dist-packages (from mediapipe) (22.1.0)\n",
            "Requirement already satisfied: opencv-contrib-python in /usr/local/lib/python3.7/dist-packages (from mediapipe) (4.6.0.66)\n",
            "Requirement already satisfied: numpy in /usr/local/lib/python3.7/dist-packages (from mediapipe) (1.21.6)\n",
            "Requirement already satisfied: protobuf<4,>=3.11 in /usr/local/lib/python3.7/dist-packages (from mediapipe) (3.17.3)\n",
            "Requirement already satisfied: six>=1.9 in /usr/local/lib/python3.7/dist-packages (from protobuf<4,>=3.11->mediapipe) (1.15.0)\n",
            "Requirement already satisfied: cycler>=0.10 in /usr/local/lib/python3.7/dist-packages (from matplotlib->mediapipe) (0.11.0)\n",
            "Requirement already satisfied: pyparsing!=2.0.4,!=2.1.2,!=2.1.6,>=2.0.1 in /usr/local/lib/python3.7/dist-packages (from matplotlib->mediapipe) (3.0.9)\n",
            "Requirement already satisfied: python-dateutil>=2.1 in /usr/local/lib/python3.7/dist-packages (from matplotlib->mediapipe) (2.8.2)\n",
            "Requirement already satisfied: kiwisolver>=1.0.1 in /usr/local/lib/python3.7/dist-packages (from matplotlib->mediapipe) (1.4.4)\n",
            "Requirement already satisfied: typing-extensions in /usr/local/lib/python3.7/dist-packages (from kiwisolver>=1.0.1->matplotlib->mediapipe) (4.1.1)\n",
            "Installing collected packages: mediapipe\n",
            "Successfully installed mediapipe-0.8.10.1\n"
          ]
        }
      ],
      "source": [
        "pip install mediapipe"
      ]
    },
    {
      "cell_type": "code",
      "execution_count": null,
      "metadata": {
        "id": "iP-4n1Vokrfq",
        "outputId": "3f0315bd-c97b-4aad-ed8f-67f886e45254"
      },
      "outputs": [
        {
          "name": "stderr",
          "output_type": "stream",
          "text": [
            "C:\\Users\\hmdna\\AppData\\Local\\Temp\\ipykernel_13416\\3869536394.py:6: DeprecationWarning: `set_matplotlib_formats` is deprecated since IPython 7.23, directly use `matplotlib_inline.backend_inline.set_matplotlib_formats()`\n",
            "  display.set_matplotlib_formats('svg')\n"
          ]
        }
      ],
      "source": [
        "import tensorflow as tf\n",
        "import numpy as np\n",
        "import mediapipe as mp\n",
        "from matplotlib import pyplot as plt\n",
        "from IPython import display\n",
        "display.set_matplotlib_formats('svg')\n",
        "import cv2\n",
        "import os\n",
        "import time\n",
        "from sklearn.model_selection import train_test_split\n",
        "from sklearn.metrics import confusion_matrix, ConfusionMatrixDisplay, classification_report"
      ]
    },
    {
      "cell_type": "code",
      "execution_count": null,
      "metadata": {
        "id": "f3Dmwollkrfz"
      },
      "outputs": [],
      "source": [
        "mp_holistic = mp.solutions.holistic\n",
        "mp_drawing = mp.solutions.drawing_utils"
      ]
    },
    {
      "cell_type": "code",
      "execution_count": null,
      "metadata": {
        "id": "sDAqclYXkrf2"
      },
      "outputs": [],
      "source": [
        "def mediapipe_detection(image,model):\n",
        "    results = model.process(image)\n",
        "    return image, results"
      ]
    },
    {
      "cell_type": "code",
      "execution_count": null,
      "metadata": {
        "id": "yCYmXxsSkrf3"
      },
      "outputs": [],
      "source": [
        "# 11: left_shoulder\n",
        "# 12: right_shoulder\n",
        "# 23: left_hip\n",
        "# 24: right_hip\n",
        "abdomen_connections = ((11,12),(23,24),(11,23),(12,24))"
      ]
    },
    {
      "cell_type": "code",
      "execution_count": null,
      "metadata": {
        "id": "H9ZPj0Vykrf4"
      },
      "outputs": [],
      "source": [
        "def draw_abdomen_landmarks(img,results):\n",
        "\n",
        "    mp_drawing.draw_landmarks(img, \n",
        "                            results.pose_landmarks,\n",
        "                            abdomen_connections,\n",
        "                            landmark_drawing_spec=mp_drawing.DrawingSpec(color=(0, 0, 255), thickness=1, circle_radius=0),\n",
        "                            connection_drawing_spec=mp_drawing.DrawingSpec(color=(0, 255, 0), thickness=2, circle_radius=2))\n",
        "  "
      ]
    },
    {
      "cell_type": "code",
      "execution_count": null,
      "metadata": {
        "id": "cmskQCUPkrf5"
      },
      "outputs": [],
      "source": [
        "cap = cv2.VideoCapture(0)\n",
        "\n",
        "#initiate holistic model:\n",
        "with mp_holistic.Holistic(min_detection_confidence=0.5,min_tracking_confidence=0.5) as holistic:\n",
        "    \n",
        "    while cap.isOpened():\n",
        "        ret, frame = cap.read()\n",
        "\n",
        "        frame, results = mediapipe_detection(frame,holistic)\n",
        "\n",
        "        draw_abdomen_landmarks(frame,results)\n",
        "        \n",
        "        cv2.imshow('Webcam Feed', frame)\n",
        "\n",
        "        if cv2.waitKey(10) & 0xFF == ord('q'):\n",
        "            break\n",
        "\n",
        "cap.release()\n",
        "cv2.destroyAllWindows()"
      ]
    },
    {
      "cell_type": "code",
      "execution_count": null,
      "metadata": {
        "id": "r6UWnlUOkrf6",
        "scrolled": false
      },
      "outputs": [],
      "source": [
        "img = cv2.cvtColor(frame, cv2.COLOR_BGR2RGB)\n",
        "plt.imshow(img)"
      ]
    },
    {
      "cell_type": "code",
      "execution_count": null,
      "metadata": {
        "id": "kFgxsilgkrf7",
        "outputId": "4ecdd84c-877c-41cb-8a25-d9f54b02bfa6"
      },
      "outputs": [
        {
          "data": {
            "text/plain": [
              "mediapipe.framework.formats.landmark_pb2.NormalizedLandmarkList"
            ]
          },
          "execution_count": 9,
          "metadata": {},
          "output_type": "execute_result"
        }
      ],
      "source": [
        "type(results.pose_landmarks)"
      ]
    },
    {
      "cell_type": "code",
      "execution_count": null,
      "metadata": {
        "id": "_fyMK-uEkrf8",
        "outputId": "fd980638-8aaa-4fcf-9a9f-24592676c9a1"
      },
      "outputs": [
        {
          "data": {
            "text/plain": [
              "33"
            ]
          },
          "execution_count": 10,
          "metadata": {},
          "output_type": "execute_result"
        }
      ],
      "source": [
        "len(results.pose_landmarks.landmark)"
      ]
    },
    {
      "cell_type": "code",
      "execution_count": null,
      "metadata": {
        "id": "BOdcQuKqkrf9",
        "outputId": "b3e77976-6272-4b63-a9a4-a8046602d40f"
      },
      "outputs": [
        {
          "data": {
            "text/plain": [
              "landmark {\n",
              "  x: 0.2963802\n",
              "  y: 0.17960198\n",
              "  z: -0.96730804\n",
              "  visibility: 0.9955002\n",
              "}\n",
              "landmark {\n",
              "  x: 0.29128003\n",
              "  y: 0.12156619\n",
              "  z: -0.92643356\n",
              "  visibility: 0.99337274\n",
              "}\n",
              "landmark {\n",
              "  x: 0.2945406\n",
              "  y: 0.12155226\n",
              "  z: -0.92658216\n",
              "  visibility: 0.9932982\n",
              "}\n",
              "landmark {\n",
              "  x: 0.29662764\n",
              "  y: 0.12087137\n",
              "  z: -0.9271431\n",
              "  visibility: 0.9910687\n",
              "}\n",
              "landmark {\n",
              "  x: 0.2687113\n",
              "  y: 0.11835237\n",
              "  z: -1.0247139\n",
              "  visibility: 0.99498093\n",
              "}\n",
              "landmark {\n",
              "  x: 0.25533795\n",
              "  y: 0.11447575\n",
              "  z: -1.0251346\n",
              "  visibility: 0.9954348\n",
              "}\n",
              "landmark {\n",
              "  x: 0.24084511\n",
              "  y: 0.11195073\n",
              "  z: -1.0255781\n",
              "  visibility: 0.99392503\n",
              "}\n",
              "landmark {\n",
              "  x: 0.2518012\n",
              "  y: 0.13207798\n",
              "  z: -0.6312796\n",
              "  visibility: 0.99427766\n",
              "}\n",
              "landmark {\n",
              "  x: 0.18448886\n",
              "  y: 0.12044091\n",
              "  z: -1.0759981\n",
              "  visibility: 0.9967786\n",
              "}\n",
              "landmark {\n",
              "  x: 0.27284756\n",
              "  y: 0.23746867\n",
              "  z: -0.842497\n",
              "  visibility: 0.99549276\n",
              "}\n",
              "landmark {\n",
              "  x: 0.24887197\n",
              "  y: 0.23676838\n",
              "  z: -0.9703867\n",
              "  visibility: 0.9979105\n",
              "}\n",
              "landmark {\n",
              "  x: 0.20367387\n",
              "  y: 0.37592706\n",
              "  z: -0.24645527\n",
              "  visibility: 0.9931852\n",
              "}\n",
              "landmark {\n",
              "  x: -0.0034174812\n",
              "  y: 0.36276314\n",
              "  z: -1.0130101\n",
              "  visibility: 0.9957778\n",
              "}\n",
              "landmark {\n",
              "  x: 0.23791587\n",
              "  y: 0.7280796\n",
              "  z: 0.38956824\n",
              "  visibility: 0.17230171\n",
              "}\n",
              "landmark {\n",
              "  x: -0.08069905\n",
              "  y: 0.5826774\n",
              "  z: -0.9253834\n",
              "  visibility: 0.2932298\n",
              "}\n",
              "landmark {\n",
              "  x: 0.40786952\n",
              "  y: 0.86528164\n",
              "  z: 0.55496186\n",
              "  visibility: 0.5920618\n",
              "}\n",
              "landmark {\n",
              "  x: -0.07719342\n",
              "  y: 0.90189993\n",
              "  z: -0.76572615\n",
              "  visibility: 0.2798558\n",
              "}\n",
              "landmark {\n",
              "  x: 0.459325\n",
              "  y: 0.9086723\n",
              "  z: 0.5933328\n",
              "  visibility: 0.6001869\n",
              "}\n",
              "landmark {\n",
              "  x: -0.089305714\n",
              "  y: 0.9803408\n",
              "  z: -0.79913855\n",
              "  visibility: 0.37666795\n",
              "}\n",
              "landmark {\n",
              "  x: 0.4613967\n",
              "  y: 0.8931752\n",
              "  z: 0.50389934\n",
              "  visibility: 0.6221864\n",
              "}\n",
              "landmark {\n",
              "  x: -0.07602006\n",
              "  y: 0.960427\n",
              "  z: -0.8540552\n",
              "  visibility: 0.42537516\n",
              "}\n",
              "landmark {\n",
              "  x: 0.44346794\n",
              "  y: 0.89934283\n",
              "  z: 0.5190321\n",
              "  visibility: 0.613279\n",
              "}\n",
              "landmark {\n",
              "  x: -0.07152144\n",
              "  y: 0.93582916\n",
              "  z: -0.7880469\n",
              "  visibility: 0.43137372\n",
              "}\n",
              "landmark {\n",
              "  x: 0.14574091\n",
              "  y: 1.0922993\n",
              "  z: 0.22149713\n",
              "  visibility: 0.20070012\n",
              "}\n",
              "landmark {\n",
              "  x: -0.014867142\n",
              "  y: 1.1406726\n",
              "  z: -0.22080381\n",
              "  visibility: 0.195306\n",
              "}\n",
              "landmark {\n",
              "  x: 0.22973077\n",
              "  y: 1.5370471\n",
              "  z: 0.84313554\n",
              "  visibility: 0.013214459\n",
              "}\n",
              "landmark {\n",
              "  x: 0.06359754\n",
              "  y: 1.5718905\n",
              "  z: 0.3277636\n",
              "  visibility: 0.050816495\n",
              "}\n",
              "landmark {\n",
              "  x: 0.24726447\n",
              "  y: 1.9798032\n",
              "  z: 1.6378634\n",
              "  visibility: 0.002873218\n",
              "}\n",
              "landmark {\n",
              "  x: 0.062411387\n",
              "  y: 2.0679886\n",
              "  z: 1.033309\n",
              "  visibility: 0.012982885\n",
              "}\n",
              "landmark {\n",
              "  x: 0.21823457\n",
              "  y: 2.0515625\n",
              "  z: 1.7086375\n",
              "  visibility: 0.004227354\n",
              "}\n",
              "landmark {\n",
              "  x: 0.016969819\n",
              "  y: 2.143254\n",
              "  z: 1.099396\n",
              "  visibility: 0.015291489\n",
              "}\n",
              "landmark {\n",
              "  x: 0.3790592\n",
              "  y: 2.1116834\n",
              "  z: 1.5514075\n",
              "  visibility: 0.022056663\n",
              "}\n",
              "landmark {\n",
              "  x: 0.19712031\n",
              "  y: 2.179294\n",
              "  z: 0.81400156\n",
              "  visibility: 0.01794373\n",
              "}"
            ]
          },
          "execution_count": 11,
          "metadata": {},
          "output_type": "execute_result"
        }
      ],
      "source": [
        "results.pose_landmarks"
      ]
    },
    {
      "cell_type": "code",
      "execution_count": null,
      "metadata": {
        "id": "PuD61H6-krf-",
        "outputId": "507af033-b133-4ad5-d04b-cbdf67483d74"
      },
      "outputs": [
        {
          "data": {
            "text/plain": [
              "(x: 0.20367387\n",
              " y: 0.37592706\n",
              " z: -0.24645527\n",
              " visibility: 0.9931852,\n",
              " x: -0.0034174812\n",
              " y: 0.36276314\n",
              " z: -1.0130101\n",
              " visibility: 0.9957778)"
            ]
          },
          "execution_count": 12,
          "metadata": {},
          "output_type": "execute_result"
        }
      ],
      "source": [
        "results.pose_landmarks.landmark[11], results.pose_landmarks.landmark[12]"
      ]
    },
    {
      "cell_type": "code",
      "execution_count": null,
      "metadata": {
        "id": "vJZhitAokrf-",
        "outputId": "377b1c9a-b2f2-4a81-ef34-52aa0e1c4926"
      },
      "outputs": [
        {
          "data": {
            "text/plain": [
              "(x: 0.14574091\n",
              " y: 1.0922993\n",
              " z: 0.22149713\n",
              " visibility: 0.20070012,\n",
              " x: -0.014867142\n",
              " y: 1.1406726\n",
              " z: -0.22080381\n",
              " visibility: 0.195306)"
            ]
          },
          "execution_count": 13,
          "metadata": {},
          "output_type": "execute_result"
        }
      ],
      "source": [
        "results.pose_landmarks.landmark[23], results.pose_landmarks.landmark[24]"
      ]
    },
    {
      "cell_type": "code",
      "execution_count": null,
      "metadata": {
        "id": "wpW0D1qgkrgA"
      },
      "outputs": [],
      "source": [
        "def abdomen_keypoints(results):\n",
        "    if results.pose_landmarks:\n",
        "        abdomen=[]\n",
        "        for i in [11,12,23,24]:\n",
        "            abdomen.append(results.pose_landmarks.landmark[i])\n",
        "        keypoints = np.array([[r.x, r.y, r.z] for r in abdomen]).flatten()\n",
        "    else:\n",
        "        keypoints = np.zeros(3*4)\n",
        "    \n",
        "    return keypoints"
      ]
    },
    {
      "cell_type": "markdown",
      "metadata": {
        "id": "Ukzl2FonkrgB"
      },
      "source": [
        "# data record:"
      ]
    },
    {
      "cell_type": "markdown",
      "metadata": {
        "id": "quZdUPQOkrgD"
      },
      "source": [
        "## jump:"
      ]
    },
    {
      "cell_type": "code",
      "execution_count": null,
      "metadata": {
        "id": "En-aHhU5krgE"
      },
      "outputs": [],
      "source": [
        "data_path = 'bodymove_data_abd_15fps'\n",
        "no_videos = 100\n",
        "sequences_length = 15"
      ]
    },
    {
      "cell_type": "code",
      "execution_count": null,
      "metadata": {
        "id": "MIpOyzsdkrgF"
      },
      "outputs": [],
      "source": [
        "for video in range(no_videos):\n",
        "    try:\n",
        "        os.makedirs(os.path.join(data_path,'jump',str(video)))  \n",
        "    except:\n",
        "        pass   "
      ]
    },
    {
      "cell_type": "code",
      "execution_count": null,
      "metadata": {
        "id": "d1clG-IlkrgG"
      },
      "outputs": [],
      "source": [
        "cap = cv2.VideoCapture(0)\n",
        "\n",
        "with mp_holistic.Holistic(min_detection_confidence=0.4,min_tracking_confidence=0.4) as holistic:\n",
        "\n",
        "    for video in range(no_videos):\n",
        "\n",
        "        ret, frame = cap.read()\n",
        "        cv2.putText(frame,'COLLECTION START for JUMP',(100,200),\n",
        "                    cv2.FONT_HERSHEY_COMPLEX,1,(0,0,255),4,cv2.LINE_AA)\n",
        "        cv2.putText(frame,f'collecting frames for jump video numer {video}',(15,12),\n",
        "                    cv2.FONT_HERSHEY_COMPLEX,.5,(0,255,0),1,cv2.LINE_AA)\n",
        "        cv2.imshow('Webcam Feed', frame)\n",
        "        cv2.waitKey(2000)\n",
        "\n",
        "        for frame_num in range(sequences_length):            \n",
        "            ret, frame = cap.read()\n",
        "\n",
        "            image, results = mediapipe_detection(frame,holistic)\n",
        "\n",
        "            draw_abdomen_landmarks(image,results)        \n",
        "\n",
        "            keypoints = abdomen_keypoints(results)\n",
        "#             print(keypoints)\n",
        "\n",
        "            cv2.putText(image,f'collecting frames for jump video numer {video}',(15,12),\n",
        "            cv2.FONT_HERSHEY_COMPLEX,0.5,(0,255,0),1,cv2.LINE_AA)\n",
        "            cv2.imshow('Webcam Feed', image)\n",
        "\n",
        "            npy_path = os.path.join(data_path,'jump',str(video),str(frame_num))\n",
        "            np.save(npy_path,keypoints)\n",
        "            cv2.waitKey(1)\n",
        "\n",
        "        if cv2.waitKey(500) & 0xFF == ord('q'):\n",
        "            break\n",
        "\n",
        "cap.release()\n",
        "cv2.destroyAllWindows()"
      ]
    },
    {
      "cell_type": "markdown",
      "metadata": {
        "id": "nZKS-qoikrgH"
      },
      "source": [
        "## crouch:"
      ]
    },
    {
      "cell_type": "code",
      "execution_count": null,
      "metadata": {
        "id": "vh73usrjkrgI"
      },
      "outputs": [],
      "source": [
        "data_path = 'bodymove_data_abd_15fps'\n",
        "no_videos = 100\n",
        "sequences_length = 15"
      ]
    },
    {
      "cell_type": "code",
      "execution_count": null,
      "metadata": {
        "id": "XmDqWBpfkrgI"
      },
      "outputs": [],
      "source": [
        "for video in range(no_videos):\n",
        "    try:\n",
        "        os.makedirs(os.path.join(data_path,'crouch',str(video)))  \n",
        "    except:\n",
        "        pass   "
      ]
    },
    {
      "cell_type": "code",
      "execution_count": null,
      "metadata": {
        "id": "nBocOtqhkrgI"
      },
      "outputs": [],
      "source": [
        "cap = cv2.VideoCapture(0)\n",
        "\n",
        "with mp_holistic.Holistic(min_detection_confidence=0.4,min_tracking_confidence=0.4) as holistic:\n",
        "\n",
        "    for video in range(no_videos):\n",
        "\n",
        "        ret, frame = cap.read()\n",
        "        cv2.putText(frame,'COLLECTION START for CROUCH',(100,200),\n",
        "                    cv2.FONT_HERSHEY_COMPLEX,1,(0,0,255),4,cv2.LINE_AA)\n",
        "        cv2.putText(frame,f'collecting frames for crouch video numer {video}',(15,12),\n",
        "                    cv2.FONT_HERSHEY_COMPLEX,.5,(0,255,0),1,cv2.LINE_AA)\n",
        "        cv2.imshow('Webcam Feed', frame)\n",
        "        cv2.waitKey(2000)\n",
        "\n",
        "        for frame_num in range(sequences_length):            \n",
        "            ret, frame = cap.read()\n",
        "\n",
        "            image, results = mediapipe_detection(frame,holistic)\n",
        "\n",
        "            draw_abdomen_landmarks(image,results)        \n",
        "\n",
        "            keypoints = abdomen_keypoints(results)\n",
        "#             print(keypoints)\n",
        "\n",
        "            cv2.putText(image,f'collecting frames for crouch video numer {video}',(15,12),\n",
        "            cv2.FONT_HERSHEY_COMPLEX,0.5,(0,255,0),1,cv2.LINE_AA)\n",
        "            cv2.imshow('Webcam Feed', image)\n",
        "\n",
        "            npy_path = os.path.join(data_path,'crouch',str(video),str(frame_num))\n",
        "            np.save(npy_path,keypoints)\n",
        "            cv2.waitKey(1)\n",
        "\n",
        "        if cv2.waitKey(500) & 0xFF == ord('q'):\n",
        "            break\n",
        "\n",
        "cap.release()\n",
        "cv2.destroyAllWindows()"
      ]
    },
    {
      "cell_type": "markdown",
      "metadata": {
        "id": "LeKGYNX0krgJ"
      },
      "source": [
        "## right:"
      ]
    },
    {
      "cell_type": "code",
      "execution_count": null,
      "metadata": {
        "id": "dOscBKNPkrgK"
      },
      "outputs": [],
      "source": [
        "data_path = 'bodymove_data_abd_15fps'\n",
        "no_videos = 100\n",
        "sequences_length = 15"
      ]
    },
    {
      "cell_type": "code",
      "execution_count": null,
      "metadata": {
        "id": "MA_iowoNkrgK"
      },
      "outputs": [],
      "source": [
        "for video in range(no_videos):\n",
        "    try:\n",
        "        os.makedirs(os.path.join(data_path,'right',str(video)))  \n",
        "    except:\n",
        "        pass   "
      ]
    },
    {
      "cell_type": "code",
      "execution_count": null,
      "metadata": {
        "id": "1JiyNlMekrgL"
      },
      "outputs": [],
      "source": [
        "cap = cv2.VideoCapture(0)\n",
        "\n",
        "with mp_holistic.Holistic(min_detection_confidence=0.4,min_tracking_confidence=0.4) as holistic:\n",
        "\n",
        "    for video in range(no_videos):\n",
        "\n",
        "        ret, frame = cap.read()\n",
        "        cv2.putText(frame,'COLLECTION START for right',(100,200),\n",
        "                    cv2.FONT_HERSHEY_COMPLEX,1,(0,0,255),4,cv2.LINE_AA)\n",
        "        cv2.putText(frame,f'collecting frames for right video numer {video}',(15,12),\n",
        "                    cv2.FONT_HERSHEY_COMPLEX,.5,(0,255,0),1,cv2.LINE_AA)\n",
        "        cv2.imshow('Webcam Feed', frame)\n",
        "        cv2.waitKey(2000)\n",
        "\n",
        "        for frame_num in range(sequences_length):            \n",
        "            ret, frame = cap.read()\n",
        "\n",
        "            image, results = mediapipe_detection(frame,holistic)\n",
        "\n",
        "            draw_abdomen_landmarks(image,results)        \n",
        "\n",
        "            keypoints = abdomen_keypoints(results)\n",
        "#             print(keypoints)\n",
        "\n",
        "            cv2.putText(image,f'collecting frames for right video numer {video}',(15,12),\n",
        "            cv2.FONT_HERSHEY_COMPLEX,0.5,(0,255,0),1,cv2.LINE_AA)\n",
        "            cv2.imshow('Webcam Feed', image)\n",
        "\n",
        "            npy_path = os.path.join(data_path,'right',str(video),str(frame_num))\n",
        "            np.save(npy_path,keypoints)\n",
        "            cv2.waitKey(1)\n",
        "\n",
        "        if cv2.waitKey(500) & 0xFF == ord('q'):\n",
        "            break\n",
        "\n",
        "cap.release()\n",
        "cv2.destroyAllWindows()"
      ]
    },
    {
      "cell_type": "markdown",
      "metadata": {
        "id": "MzjxXgPJkrgL"
      },
      "source": [
        "## left:"
      ]
    },
    {
      "cell_type": "code",
      "execution_count": null,
      "metadata": {
        "id": "ubGtADoVkrgL"
      },
      "outputs": [],
      "source": [
        "data_path = 'bodymove_data_abd_15fps'\n",
        "no_videos = 100\n",
        "sequences_length = 15"
      ]
    },
    {
      "cell_type": "code",
      "execution_count": null,
      "metadata": {
        "id": "6tWO3R5_krgM"
      },
      "outputs": [],
      "source": [
        "for video in range(no_videos):\n",
        "    try:\n",
        "        os.makedirs(os.path.join(data_path,'left',str(video)))  \n",
        "    except:\n",
        "        pass   "
      ]
    },
    {
      "cell_type": "code",
      "execution_count": null,
      "metadata": {
        "id": "UgXnMxRkkrgM"
      },
      "outputs": [],
      "source": [
        "cap = cv2.VideoCapture(0)\n",
        "\n",
        "with mp_holistic.Holistic(min_detection_confidence=0.4,min_tracking_confidence=0.4) as holistic:\n",
        "\n",
        "    for video in range(no_videos):\n",
        "\n",
        "        ret, frame = cap.read()\n",
        "        cv2.putText(frame,'COLLECTION START for left',(100,200),\n",
        "                    cv2.FONT_HERSHEY_COMPLEX,1,(0,0,255),4,cv2.LINE_AA)\n",
        "        cv2.putText(frame,f'collecting frames for left video numer {video}',(15,12),\n",
        "                    cv2.FONT_HERSHEY_COMPLEX,.5,(0,255,0),1,cv2.LINE_AA)\n",
        "        cv2.imshow('Webcam Feed', frame)\n",
        "        cv2.waitKey(2000)\n",
        "\n",
        "        for frame_num in range(sequences_length):            \n",
        "            ret, frame = cap.read()\n",
        "\n",
        "            image, results = mediapipe_detection(frame,holistic)\n",
        "\n",
        "            draw_abdomen_landmarks(image,results)        \n",
        "\n",
        "            keypoints = abdomen_keypoints(results)\n",
        "#             print(keypoints)\n",
        "\n",
        "            cv2.putText(image,f'collecting frames for left video numer {video}',(15,12),\n",
        "            cv2.FONT_HERSHEY_COMPLEX,0.5,(0,255,0),1,cv2.LINE_AA)\n",
        "            cv2.imshow('Webcam Feed', image)\n",
        "\n",
        "            npy_path = os.path.join(data_path,'left',str(video),str(frame_num))\n",
        "            np.save(npy_path,keypoints)\n",
        "            cv2.waitKey(1)\n",
        "\n",
        "        if cv2.waitKey(500) & 0xFF == ord('q'):\n",
        "            break\n",
        "\n",
        "cap.release()\n",
        "cv2.destroyAllWindows()"
      ]
    },
    {
      "cell_type": "markdown",
      "metadata": {
        "id": "KpkD6ZGIkrgN"
      },
      "source": [
        "# preprocess data, create labels and train, test split:"
      ]
    },
    {
      "cell_type": "code",
      "execution_count": null,
      "metadata": {
        "id": "riL01AVFkrgN",
        "outputId": "c5a664ed-0377-4185-f096-81efa299edb0"
      },
      "outputs": [
        {
          "data": {
            "text/plain": [
              "array(['jump', 'crouch', 'right', 'left'], dtype='<U6')"
            ]
          },
          "execution_count": 15,
          "metadata": {},
          "output_type": "execute_result"
        }
      ],
      "source": [
        "data_path = 'bodymove_data_abd_15fps'\n",
        "no_videos = 100\n",
        "sequences_length = 15\n",
        "\n",
        "actions = np.array(['jump','crouch','right','left'])\n",
        "actions"
      ]
    },
    {
      "cell_type": "code",
      "execution_count": null,
      "metadata": {
        "id": "-fQPz2zWkrgO",
        "outputId": "8fe787fa-6ce7-4ccb-c018-b088bda273cc"
      },
      "outputs": [
        {
          "data": {
            "text/plain": [
              "{'jump': 0, 'crouch': 1, 'right': 2, 'left': 3}"
            ]
          },
          "execution_count": 16,
          "metadata": {},
          "output_type": "execute_result"
        }
      ],
      "source": [
        "label_map = {label:num for num, label in enumerate(actions)}\n",
        "label_map"
      ]
    },
    {
      "cell_type": "code",
      "execution_count": null,
      "metadata": {
        "id": "jJe9b71lkrgQ"
      },
      "outputs": [],
      "source": [
        "sequences = []\n",
        "labels = []\n",
        "\n",
        "for action in actions:\n",
        "  for video in range(no_videos):\n",
        "    window = []\n",
        "    for frame_num in range(sequences_length):\n",
        "      res = np.load(os.path.join(data_path,action,str(video),f'{frame_num}.npy'))\n",
        "#       print(res)\n",
        "      window.append(np.delete(res, [3,7,11,15]))\n",
        "#       window.append(res)\n",
        "      \n",
        "    sequences.append(window)\n",
        "    labels.append(label_map[action])"
      ]
    },
    {
      "cell_type": "code",
      "execution_count": null,
      "metadata": {
        "id": "RrZ6K6uIkrgR",
        "outputId": "9b11cd8a-bb35-43c9-ef5b-9dd989c7573e"
      },
      "outputs": [
        {
          "name": "stdout",
          "output_type": "stream",
          "text": [
            "(15, 12)\n",
            "(400, 15, 12)\n",
            "(400,)\n"
          ]
        }
      ],
      "source": [
        "print(np.array(window).shape)\n",
        "print(np.array(sequences).shape)\n",
        "print(np.array(labels).shape)"
      ]
    },
    {
      "cell_type": "code",
      "execution_count": null,
      "metadata": {
        "id": "yYt7B_tvkrgR"
      },
      "outputs": [],
      "source": [
        "X = np.array(sequences)\n",
        "y = np.array(labels)"
      ]
    },
    {
      "cell_type": "code",
      "execution_count": null,
      "metadata": {
        "id": "-ySnZBezkrgR",
        "outputId": "36ec68c9-de12-461f-ce9b-e1bbaec24a31"
      },
      "outputs": [
        {
          "data": {
            "text/plain": [
              "(400, 15, 12)"
            ]
          },
          "execution_count": 20,
          "metadata": {},
          "output_type": "execute_result"
        }
      ],
      "source": [
        "X.shape"
      ]
    },
    {
      "cell_type": "code",
      "execution_count": null,
      "metadata": {
        "id": "cV4QCjzwkrgS",
        "outputId": "1542da1c-2a84-4814-bb33-ad5817f0ad9a"
      },
      "outputs": [
        {
          "data": {
            "text/plain": [
              "array([0, 0, 0, 0, 0, 0, 0, 0, 0, 0, 0, 0, 0, 0, 0, 0, 0, 0, 0, 0, 0, 0,\n",
              "       0, 0, 0, 0, 0, 0, 0, 0, 0, 0, 0, 0, 0, 0, 0, 0, 0, 0, 0, 0, 0, 0,\n",
              "       0, 0, 0, 0, 0, 0, 0, 0, 0, 0, 0, 0, 0, 0, 0, 0, 0, 0, 0, 0, 0, 0,\n",
              "       0, 0, 0, 0, 0, 0, 0, 0, 0, 0, 0, 0, 0, 0, 0, 0, 0, 0, 0, 0, 0, 0,\n",
              "       0, 0, 0, 0, 0, 0, 0, 0, 0, 0, 0, 0, 1, 1, 1, 1, 1, 1, 1, 1, 1, 1,\n",
              "       1, 1, 1, 1, 1, 1, 1, 1, 1, 1, 1, 1, 1, 1, 1, 1, 1, 1, 1, 1, 1, 1,\n",
              "       1, 1, 1, 1, 1, 1, 1, 1, 1, 1, 1, 1, 1, 1, 1, 1, 1, 1, 1, 1, 1, 1,\n",
              "       1, 1, 1, 1, 1, 1, 1, 1, 1, 1, 1, 1, 1, 1, 1, 1, 1, 1, 1, 1, 1, 1,\n",
              "       1, 1, 1, 1, 1, 1, 1, 1, 1, 1, 1, 1, 1, 1, 1, 1, 1, 1, 1, 1, 1, 1,\n",
              "       1, 1, 2, 2, 2, 2, 2, 2, 2, 2, 2, 2, 2, 2, 2, 2, 2, 2, 2, 2, 2, 2,\n",
              "       2, 2, 2, 2, 2, 2, 2, 2, 2, 2, 2, 2, 2, 2, 2, 2, 2, 2, 2, 2, 2, 2,\n",
              "       2, 2, 2, 2, 2, 2, 2, 2, 2, 2, 2, 2, 2, 2, 2, 2, 2, 2, 2, 2, 2, 2,\n",
              "       2, 2, 2, 2, 2, 2, 2, 2, 2, 2, 2, 2, 2, 2, 2, 2, 2, 2, 2, 2, 2, 2,\n",
              "       2, 2, 2, 2, 2, 2, 2, 2, 2, 2, 2, 2, 2, 2, 3, 3, 3, 3, 3, 3, 3, 3,\n",
              "       3, 3, 3, 3, 3, 3, 3, 3, 3, 3, 3, 3, 3, 3, 3, 3, 3, 3, 3, 3, 3, 3,\n",
              "       3, 3, 3, 3, 3, 3, 3, 3, 3, 3, 3, 3, 3, 3, 3, 3, 3, 3, 3, 3, 3, 3,\n",
              "       3, 3, 3, 3, 3, 3, 3, 3, 3, 3, 3, 3, 3, 3, 3, 3, 3, 3, 3, 3, 3, 3,\n",
              "       3, 3, 3, 3, 3, 3, 3, 3, 3, 3, 3, 3, 3, 3, 3, 3, 3, 3, 3, 3, 3, 3,\n",
              "       3, 3, 3, 3])"
            ]
          },
          "execution_count": 21,
          "metadata": {},
          "output_type": "execute_result"
        }
      ],
      "source": [
        "y"
      ]
    },
    {
      "cell_type": "code",
      "execution_count": null,
      "metadata": {
        "id": "qFEj7ikykrgS"
      },
      "outputs": [],
      "source": [
        "X_train, X_test, y_train, y_test = train_test_split(X, y, test_size=0.2)"
      ]
    },
    {
      "cell_type": "code",
      "execution_count": null,
      "metadata": {
        "id": "xJKQCvu8krgS",
        "outputId": "68b715f5-02e7-4aa9-8663-799508b55da5"
      },
      "outputs": [
        {
          "data": {
            "text/plain": [
              "((320, 15, 12), (80, 15, 12))"
            ]
          },
          "execution_count": 23,
          "metadata": {},
          "output_type": "execute_result"
        }
      ],
      "source": [
        "X_train.shape, X_test.shape"
      ]
    },
    {
      "cell_type": "code",
      "execution_count": null,
      "metadata": {
        "id": "wDNS032qkrgT",
        "outputId": "60fe2506-4f66-4c64-a17d-f74f1a2c95cd"
      },
      "outputs": [
        {
          "data": {
            "text/plain": [
              "((320, 15, 12), (80, 15, 12))"
            ]
          },
          "execution_count": 24,
          "metadata": {},
          "output_type": "execute_result"
        }
      ],
      "source": [
        "X_train.shape, X_test.shape"
      ]
    },
    {
      "cell_type": "markdown",
      "metadata": {
        "id": "22E8CKd0krgT"
      },
      "source": [
        "# create and train deep learning model:"
      ]
    },
    {
      "cell_type": "markdown",
      "metadata": {
        "id": "tdKmalGxkrgT"
      },
      "source": [
        "## create DL model:"
      ]
    },
    {
      "cell_type": "code",
      "execution_count": null,
      "metadata": {
        "id": "oilOmGw3krgT"
      },
      "outputs": [],
      "source": [
        "tensorboard=tf.keras.callbacks.TensorBoard(log_dir='logs')"
      ]
    },
    {
      "cell_type": "code",
      "execution_count": null,
      "metadata": {
        "id": "QvKanKAzkrgT"
      },
      "outputs": [],
      "source": [
        "model = tf.keras.models.Sequential([\n",
        "                    tf.keras.layers.LSTM(128,activation='relu', return_sequences=True,input_shape=(15,12)),\n",
        "#                     tf.keras.layers.LSTM(64,activation='relu', return_sequences=True),\n",
        "                    tf.keras.layers.LSTM(64,activation='relu', return_sequences=False),\n",
        "#                     tf.keras.layers.LSTM(64,activation='relu', return_sequences=False),\n",
        "#                     tf.keras.layers.Dense(64,activation='relu'),\n",
        "                    tf.keras.layers.Dense(32,activation='relu'),\n",
        "                    tf.keras.layers.Dense(actions.shape[0],activation='softmax')\n",
        "                    ])"
      ]
    },
    {
      "cell_type": "code",
      "execution_count": null,
      "metadata": {
        "id": "olZt69S0krgU"
      },
      "outputs": [],
      "source": [
        "model.compile(optimizer = tf.keras.optimizers.Adam(), \n",
        "              loss = 'sparse_categorical_crossentropy', \n",
        "              metrics='accuracy' )"
      ]
    },
    {
      "cell_type": "code",
      "execution_count": null,
      "metadata": {
        "id": "yawqOmJgkrgU",
        "outputId": "c8214e2e-9241-44d3-ee60-58e07addbd9f"
      },
      "outputs": [
        {
          "name": "stdout",
          "output_type": "stream",
          "text": [
            "Model: \"sequential_1\"\n",
            "_________________________________________________________________\n",
            " Layer (type)                Output Shape              Param #   \n",
            "=================================================================\n",
            " lstm_2 (LSTM)               (None, 15, 128)           72192     \n",
            "                                                                 \n",
            " lstm_3 (LSTM)               (None, 64)                49408     \n",
            "                                                                 \n",
            " dense_2 (Dense)             (None, 32)                2080      \n",
            "                                                                 \n",
            " dense_3 (Dense)             (None, 4)                 132       \n",
            "                                                                 \n",
            "=================================================================\n",
            "Total params: 123,812\n",
            "Trainable params: 123,812\n",
            "Non-trainable params: 0\n",
            "_________________________________________________________________\n"
          ]
        }
      ],
      "source": [
        "model.build()\n",
        "model.summary()"
      ]
    },
    {
      "cell_type": "markdown",
      "metadata": {
        "id": "iYUH8II_krgU"
      },
      "source": [
        "## train DL model:"
      ]
    },
    {
      "cell_type": "code",
      "execution_count": null,
      "metadata": {
        "id": "5PpE3370krgU",
        "outputId": "cda69ed8-120d-4fbf-e3a4-21513b64c22d"
      },
      "outputs": [
        {
          "name": "stdout",
          "output_type": "stream",
          "text": [
            "Epoch 1/100\n",
            "10/10 [==============================] - 3s 29ms/step - loss: 1.3859 - accuracy: 0.2469\n",
            "Epoch 2/100\n",
            "10/10 [==============================] - 0s 29ms/step - loss: 1.3800 - accuracy: 0.3219\n",
            "Epoch 3/100\n",
            "10/10 [==============================] - 0s 30ms/step - loss: 1.3726 - accuracy: 0.2969\n",
            "Epoch 4/100\n",
            "10/10 [==============================] - 0s 28ms/step - loss: 1.3500 - accuracy: 0.3938\n",
            "Epoch 5/100\n",
            "10/10 [==============================] - 0s 27ms/step - loss: 1.2564 - accuracy: 0.5000\n",
            "Epoch 6/100\n",
            "10/10 [==============================] - 0s 33ms/step - loss: 1.2047 - accuracy: 0.5219\n",
            "Epoch 7/100\n",
            "10/10 [==============================] - 0s 36ms/step - loss: 1.0510 - accuracy: 0.5688\n",
            "Epoch 8/100\n",
            "10/10 [==============================] - 0s 36ms/step - loss: 1.0490 - accuracy: 0.6219\n",
            "Epoch 9/100\n",
            "10/10 [==============================] - 0s 36ms/step - loss: 0.8463 - accuracy: 0.6875\n",
            "Epoch 10/100\n",
            "10/10 [==============================] - 0s 40ms/step - loss: 0.6862 - accuracy: 0.7750\n",
            "Epoch 11/100\n",
            "10/10 [==============================] - 0s 40ms/step - loss: 0.5427 - accuracy: 0.8219\n",
            "Epoch 12/100\n",
            "10/10 [==============================] - 0s 43ms/step - loss: 0.4785 - accuracy: 0.8750\n",
            "Epoch 13/100\n",
            "10/10 [==============================] - 0s 28ms/step - loss: 0.6775 - accuracy: 0.6938\n",
            "Epoch 14/100\n",
            "10/10 [==============================] - 0s 28ms/step - loss: 0.5001 - accuracy: 0.8750\n",
            "Epoch 15/100\n",
            "10/10 [==============================] - 0s 28ms/step - loss: 0.3339 - accuracy: 0.9094\n",
            "Epoch 16/100\n",
            "10/10 [==============================] - 0s 33ms/step - loss: 0.1647 - accuracy: 0.9656\n",
            "Epoch 17/100\n",
            "10/10 [==============================] - 0s 32ms/step - loss: 0.1432 - accuracy: 0.9531\n",
            "Epoch 18/100\n",
            "10/10 [==============================] - 0s 31ms/step - loss: 0.0700 - accuracy: 0.9844\n",
            "Epoch 19/100\n",
            "10/10 [==============================] - 1s 64ms/step - loss: 0.1695 - accuracy: 0.9438\n",
            "Epoch 20/100\n",
            "10/10 [==============================] - 0s 29ms/step - loss: 0.2312 - accuracy: 0.9344\n",
            "Epoch 21/100\n",
            "10/10 [==============================] - 0s 39ms/step - loss: 0.3686 - accuracy: 0.8687\n",
            "Epoch 22/100\n",
            "10/10 [==============================] - 0s 33ms/step - loss: 0.1908 - accuracy: 0.9469\n",
            "Epoch 23/100\n",
            "10/10 [==============================] - 0s 33ms/step - loss: 0.1029 - accuracy: 0.9719\n",
            "Epoch 24/100\n",
            "10/10 [==============================] - 0s 38ms/step - loss: 0.0245 - accuracy: 1.0000\n",
            "Epoch 25/100\n",
            "10/10 [==============================] - 0s 33ms/step - loss: 0.0125 - accuracy: 1.0000\n",
            "Epoch 26/100\n",
            "10/10 [==============================] - 0s 44ms/step - loss: 0.0094 - accuracy: 1.0000\n",
            "Epoch 27/100\n",
            "10/10 [==============================] - 0s 37ms/step - loss: 0.0143 - accuracy: 0.9969\n",
            "Epoch 28/100\n",
            "10/10 [==============================] - 0s 29ms/step - loss: 0.1010 - accuracy: 0.9656\n",
            "Epoch 29/100\n",
            "10/10 [==============================] - 0s 29ms/step - loss: 0.6956 - accuracy: 0.7656\n",
            "Epoch 30/100\n",
            "10/10 [==============================] - 0s 28ms/step - loss: 0.4865 - accuracy: 0.8844\n",
            "Epoch 31/100\n",
            "10/10 [==============================] - 0s 29ms/step - loss: 0.3008 - accuracy: 0.9656\n",
            "Epoch 32/100\n",
            "10/10 [==============================] - 0s 28ms/step - loss: 0.1000 - accuracy: 0.9781\n",
            "Epoch 33/100\n",
            "10/10 [==============================] - 0s 30ms/step - loss: 0.0542 - accuracy: 0.9844\n",
            "Epoch 34/100\n",
            "10/10 [==============================] - 0s 28ms/step - loss: 0.0376 - accuracy: 0.9906\n",
            "Epoch 35/100\n",
            "10/10 [==============================] - 0s 30ms/step - loss: 0.0206 - accuracy: 0.9969\n",
            "Epoch 36/100\n",
            "10/10 [==============================] - 0s 31ms/step - loss: 0.0293 - accuracy: 0.9969\n",
            "Epoch 37/100\n",
            "10/10 [==============================] - 0s 26ms/step - loss: 0.0246 - accuracy: 0.9937\n",
            "Epoch 38/100\n",
            "10/10 [==============================] - 0s 29ms/step - loss: 0.0100 - accuracy: 0.9969\n",
            "Epoch 39/100\n",
            "10/10 [==============================] - 0s 48ms/step - loss: 0.0047 - accuracy: 1.0000\n",
            "Epoch 40/100\n",
            "10/10 [==============================] - 1s 53ms/step - loss: 0.0062 - accuracy: 1.0000\n",
            "Epoch 41/100\n",
            "10/10 [==============================] - 0s 47ms/step - loss: 0.0190 - accuracy: 0.9937\n",
            "Epoch 42/100\n",
            "10/10 [==============================] - 1s 58ms/step - loss: 0.0299 - accuracy: 0.9875\n",
            "Epoch 43/100\n",
            "10/10 [==============================] - 1s 55ms/step - loss: 0.0073 - accuracy: 1.0000\n",
            "Epoch 44/100\n",
            "10/10 [==============================] - 1s 62ms/step - loss: 0.0082 - accuracy: 1.0000\n",
            "Epoch 45/100\n",
            "10/10 [==============================] - 1s 60ms/step - loss: 0.0037 - accuracy: 1.0000\n",
            "Epoch 46/100\n",
            "10/10 [==============================] - 0s 29ms/step - loss: 0.0015 - accuracy: 1.0000\n",
            "Epoch 47/100\n",
            "10/10 [==============================] - 0s 36ms/step - loss: 0.0014 - accuracy: 1.0000\n",
            "Epoch 48/100\n",
            "10/10 [==============================] - 0s 30ms/step - loss: 0.0011 - accuracy: 1.0000\n",
            "Epoch 49/100\n",
            "10/10 [==============================] - 0s 29ms/step - loss: 8.0397e-04 - accuracy: 1.0000\n",
            "Epoch 50/100\n",
            "10/10 [==============================] - 0s 36ms/step - loss: 7.6202e-04 - accuracy: 1.0000\n",
            "Epoch 51/100\n",
            "10/10 [==============================] - 0s 30ms/step - loss: 6.9429e-04 - accuracy: 1.0000\n",
            "Epoch 52/100\n",
            "10/10 [==============================] - 0s 34ms/step - loss: 5.5939e-04 - accuracy: 1.0000\n",
            "Epoch 53/100\n",
            "10/10 [==============================] - 0s 35ms/step - loss: 4.9897e-04 - accuracy: 1.0000\n",
            "Epoch 54/100\n",
            "10/10 [==============================] - 0s 34ms/step - loss: 4.5244e-04 - accuracy: 1.0000\n",
            "Epoch 55/100\n",
            "10/10 [==============================] - 0s 31ms/step - loss: 3.9568e-04 - accuracy: 1.0000\n",
            "Epoch 56/100\n",
            "10/10 [==============================] - 0s 29ms/step - loss: 3.7248e-04 - accuracy: 1.0000\n",
            "Epoch 57/100\n",
            "10/10 [==============================] - 0s 28ms/step - loss: 3.5352e-04 - accuracy: 1.0000\n",
            "Epoch 58/100\n",
            "10/10 [==============================] - 0s 27ms/step - loss: 3.1708e-04 - accuracy: 1.0000\n",
            "Epoch 59/100\n",
            "10/10 [==============================] - 0s 27ms/step - loss: 3.0389e-04 - accuracy: 1.0000\n",
            "Epoch 60/100\n",
            "10/10 [==============================] - 0s 27ms/step - loss: 2.8438e-04 - accuracy: 1.0000\n",
            "Epoch 61/100\n",
            "10/10 [==============================] - 0s 25ms/step - loss: 2.6526e-04 - accuracy: 1.0000\n",
            "Epoch 62/100\n",
            "10/10 [==============================] - 0s 27ms/step - loss: 2.5063e-04 - accuracy: 1.0000\n",
            "Epoch 63/100\n",
            "10/10 [==============================] - 0s 39ms/step - loss: 2.3023e-04 - accuracy: 1.0000\n",
            "Epoch 64/100\n",
            "10/10 [==============================] - 0s 29ms/step - loss: 2.2363e-04 - accuracy: 1.0000\n",
            "Epoch 65/100\n",
            "10/10 [==============================] - 0s 30ms/step - loss: 2.1088e-04 - accuracy: 1.0000\n",
            "Epoch 66/100\n",
            "10/10 [==============================] - 0s 26ms/step - loss: 1.9858e-04 - accuracy: 1.0000\n",
            "Epoch 67/100\n",
            "10/10 [==============================] - 0s 38ms/step - loss: 1.9051e-04 - accuracy: 1.0000\n",
            "Epoch 68/100\n",
            "10/10 [==============================] - 0s 29ms/step - loss: 1.7593e-04 - accuracy: 1.0000\n",
            "Epoch 69/100\n",
            "10/10 [==============================] - 0s 36ms/step - loss: 1.7194e-04 - accuracy: 1.0000\n",
            "Epoch 70/100\n",
            "10/10 [==============================] - 0s 30ms/step - loss: 1.6429e-04 - accuracy: 1.0000\n",
            "Epoch 71/100\n",
            "10/10 [==============================] - 0s 33ms/step - loss: 1.6875e-04 - accuracy: 1.0000\n",
            "Epoch 72/100\n",
            "10/10 [==============================] - 0s 34ms/step - loss: 1.4876e-04 - accuracy: 1.0000\n",
            "Epoch 73/100\n",
            "10/10 [==============================] - 0s 31ms/step - loss: 1.4314e-04 - accuracy: 1.0000\n",
            "Epoch 74/100\n",
            "10/10 [==============================] - 0s 44ms/step - loss: 1.3484e-04 - accuracy: 1.0000\n",
            "Epoch 75/100\n",
            "10/10 [==============================] - 0s 32ms/step - loss: 1.3009e-04 - accuracy: 1.0000\n",
            "Epoch 76/100\n",
            "10/10 [==============================] - 0s 31ms/step - loss: 1.2721e-04 - accuracy: 1.0000\n",
            "Epoch 77/100\n",
            "10/10 [==============================] - 0s 32ms/step - loss: 1.1973e-04 - accuracy: 1.0000\n",
            "Epoch 78/100\n",
            "10/10 [==============================] - 0s 29ms/step - loss: 1.1432e-04 - accuracy: 1.0000\n",
            "Epoch 79/100\n",
            "10/10 [==============================] - 1s 57ms/step - loss: 1.1109e-04 - accuracy: 1.0000\n",
            "Epoch 80/100\n"
          ]
        },
        {
          "name": "stdout",
          "output_type": "stream",
          "text": [
            "10/10 [==============================] - 0s 30ms/step - loss: 1.0627e-04 - accuracy: 1.0000\n",
            "Epoch 81/100\n",
            "10/10 [==============================] - 0s 29ms/step - loss: 1.0222e-04 - accuracy: 1.0000\n",
            "Epoch 82/100\n",
            "10/10 [==============================] - 0s 26ms/step - loss: 9.9822e-05 - accuracy: 1.0000\n",
            "Epoch 83/100\n",
            "10/10 [==============================] - 0s 28ms/step - loss: 9.5981e-05 - accuracy: 1.0000\n",
            "Epoch 84/100\n",
            "10/10 [==============================] - 0s 22ms/step - loss: 9.2527e-05 - accuracy: 1.0000\n",
            "Epoch 85/100\n",
            "10/10 [==============================] - 0s 31ms/step - loss: 8.8716e-05 - accuracy: 1.0000\n",
            "Epoch 86/100\n",
            "10/10 [==============================] - 0s 25ms/step - loss: 8.6636e-05 - accuracy: 1.0000\n",
            "Epoch 87/100\n",
            "10/10 [==============================] - 0s 29ms/step - loss: 8.2406e-05 - accuracy: 1.0000\n",
            "Epoch 88/100\n",
            "10/10 [==============================] - 0s 23ms/step - loss: 8.0068e-05 - accuracy: 1.0000\n",
            "Epoch 89/100\n",
            "10/10 [==============================] - 0s 26ms/step - loss: 7.8312e-05 - accuracy: 1.0000\n",
            "Epoch 90/100\n",
            "10/10 [==============================] - 0s 24ms/step - loss: 7.5676e-05 - accuracy: 1.0000\n",
            "Epoch 91/100\n",
            "10/10 [==============================] - 0s 23ms/step - loss: 7.3144e-05 - accuracy: 1.0000\n",
            "Epoch 92/100\n",
            "10/10 [==============================] - 0s 23ms/step - loss: 6.9102e-05 - accuracy: 1.0000\n",
            "Epoch 93/100\n",
            "10/10 [==============================] - 0s 24ms/step - loss: 7.5256e-05 - accuracy: 1.0000\n",
            "Epoch 94/100\n",
            "10/10 [==============================] - 0s 24ms/step - loss: 6.7491e-05 - accuracy: 1.0000\n",
            "Epoch 95/100\n",
            "10/10 [==============================] - 0s 24ms/step - loss: 6.3215e-05 - accuracy: 1.0000\n",
            "Epoch 96/100\n",
            "10/10 [==============================] - 0s 23ms/step - loss: 6.1620e-05 - accuracy: 1.0000\n",
            "Epoch 97/100\n",
            "10/10 [==============================] - 0s 25ms/step - loss: 6.0224e-05 - accuracy: 1.0000\n",
            "Epoch 98/100\n",
            "10/10 [==============================] - 0s 28ms/step - loss: 5.8097e-05 - accuracy: 1.0000\n",
            "Epoch 99/100\n",
            "10/10 [==============================] - 0s 32ms/step - loss: 5.6015e-05 - accuracy: 1.0000\n",
            "Epoch 100/100\n",
            "10/10 [==============================] - 0s 23ms/step - loss: 5.4574e-05 - accuracy: 1.0000\n"
          ]
        },
        {
          "data": {
            "text/plain": [
              "<keras.callbacks.History at 0x1906a50f1f0>"
            ]
          },
          "execution_count": 45,
          "metadata": {},
          "output_type": "execute_result"
        }
      ],
      "source": [
        "model.fit(X_train,y_train,epochs=100)"
      ]
    },
    {
      "cell_type": "code",
      "execution_count": null,
      "metadata": {
        "id": "fQz1q1BxkrgV",
        "outputId": "33abe70a-6fb0-48b4-fa32-58d7c5edad36"
      },
      "outputs": [
        {
          "name": "stdout",
          "output_type": "stream",
          "text": [
            "3/3 [==============================] - 1s 12ms/step - loss: 0.0496 - accuracy: 0.9875\n"
          ]
        },
        {
          "data": {
            "text/plain": [
              "[0.04960135370492935, 0.987500011920929]"
            ]
          },
          "execution_count": 46,
          "metadata": {},
          "output_type": "execute_result"
        }
      ],
      "source": [
        "model.evaluate(X_test,y_test)"
      ]
    },
    {
      "cell_type": "code",
      "execution_count": null,
      "metadata": {
        "id": "jdvPWJ0CkrgV",
        "outputId": "aaa1fce4-f431-4648-8605-673779f8c6f5"
      },
      "outputs": [
        {
          "name": "stdout",
          "output_type": "stream",
          "text": [
            "3/3 [==============================] - 1s 128ms/step\n"
          ]
        },
        {
          "data": {
            "text/plain": [
              "array([1, 3, 3, 3, 2, 2, 2, 3, 1, 0, 3, 0, 1, 1, 2, 1, 2, 3, 1, 3, 1, 1,\n",
              "       0, 2, 1, 3, 2, 3, 1, 2, 0, 3, 2, 3, 2, 3, 3, 1, 3, 0, 0, 3, 3, 3,\n",
              "       2, 2, 0, 1, 1, 3, 3, 0, 2, 1, 2, 2, 2, 0, 0, 1, 1, 3, 1, 1, 3, 2,\n",
              "       0, 0, 1, 3, 3, 1, 3, 0, 1, 1, 0, 3, 3, 3], dtype=int64)"
            ]
          },
          "execution_count": 47,
          "metadata": {},
          "output_type": "execute_result"
        }
      ],
      "source": [
        "y_pred = np.argmax(model.predict(X_test),axis=1)\n",
        "y_pred"
      ]
    },
    {
      "cell_type": "code",
      "execution_count": null,
      "metadata": {
        "id": "Xs9GSi28krgV",
        "outputId": "26ac6071-824e-4c36-b817-a2840bf4bbfc"
      },
      "outputs": [
        {
          "data": {
            "text/plain": [
              "array([1, 3, 3, 3, 2, 2, 2, 3, 1, 0, 3, 0, 1, 1, 2, 1, 2, 3, 1, 3, 1, 1,\n",
              "       0, 2, 1, 3, 2, 3, 1, 2, 0, 3, 2, 3, 2, 3, 3, 1, 3, 0, 3, 3, 3, 3,\n",
              "       2, 2, 0, 1, 1, 3, 3, 0, 2, 1, 2, 2, 2, 0, 0, 1, 1, 3, 1, 1, 3, 2,\n",
              "       0, 0, 1, 3, 3, 1, 3, 0, 1, 1, 0, 3, 3, 3])"
            ]
          },
          "execution_count": 48,
          "metadata": {},
          "output_type": "execute_result"
        }
      ],
      "source": [
        "y_test"
      ]
    },
    {
      "cell_type": "code",
      "execution_count": null,
      "metadata": {
        "id": "HDKoTJaBkrgV"
      },
      "outputs": [],
      "source": [
        "model.save('gameaction_mp_abd_15fps.h5')"
      ]
    },
    {
      "cell_type": "code",
      "execution_count": null,
      "metadata": {
        "id": "55_UxdC1krgW"
      },
      "outputs": [],
      "source": [
        "model.load_weights('gameaction_mp_abd_15fps.h5')  "
      ]
    },
    {
      "cell_type": "markdown",
      "metadata": {
        "id": "FEf22r7ukrgW"
      },
      "source": [
        "## evaluate DL model:"
      ]
    },
    {
      "cell_type": "code",
      "execution_count": null,
      "metadata": {
        "id": "QBqbozmpkrgW",
        "outputId": "efa56791-badb-4d92-801b-c3420b05d429"
      },
      "outputs": [
        {
          "data": {
            "text/plain": [
              "array([[13,  0,  0,  0],\n",
              "       [ 0, 22,  0,  0],\n",
              "       [ 0,  0, 17,  0],\n",
              "       [ 1,  0,  0, 27]], dtype=int64)"
            ]
          },
          "execution_count": 50,
          "metadata": {},
          "output_type": "execute_result"
        }
      ],
      "source": [
        "cm = confusion_matrix(y_test, y_pred)\n",
        "cm"
      ]
    },
    {
      "cell_type": "code",
      "execution_count": null,
      "metadata": {
        "id": "mrwb3sO3krgW",
        "outputId": "274ff3e1-2d04-4d98-f6fb-536c213dff1f",
        "scrolled": true
      },
      "outputs": [
        {
          "data": {
            "image/svg+xml": [
              "<?xml version=\"1.0\" encoding=\"utf-8\" standalone=\"no\"?>\n",
              "<!DOCTYPE svg PUBLIC \"-//W3C//DTD SVG 1.1//EN\"\n",
              "  \"http://www.w3.org/Graphics/SVG/1.1/DTD/svg11.dtd\">\n",
              "<svg xmlns:xlink=\"http://www.w3.org/1999/xlink\" width=\"333.531687pt\" height=\"286.194687pt\" viewBox=\"0 0 333.531687 286.194687\" xmlns=\"http://www.w3.org/2000/svg\" version=\"1.1\">\n",
              " <metadata>\n",
              "  <rdf:RDF xmlns:dc=\"http://purl.org/dc/elements/1.1/\" xmlns:cc=\"http://creativecommons.org/ns#\" xmlns:rdf=\"http://www.w3.org/1999/02/22-rdf-syntax-ns#\">\n",
              "   <cc:Work>\n",
              "    <dc:type rdf:resource=\"http://purl.org/dc/dcmitype/StillImage\"/>\n",
              "    <dc:date>2022-09-04T14:47:01.703668</dc:date>\n",
              "    <dc:format>image/svg+xml</dc:format>\n",
              "    <dc:creator>\n",
              "     <cc:Agent>\n",
              "      <dc:title>Matplotlib v3.5.1, https://matplotlib.org/</dc:title>\n",
              "     </cc:Agent>\n",
              "    </dc:creator>\n",
              "   </cc:Work>\n",
              "  </rdf:RDF>\n",
              " </metadata>\n",
              " <defs>\n",
              "  <style type=\"text/css\">*{stroke-linejoin: round; stroke-linecap: butt}</style>\n",
              " </defs>\n",
              " <g id=\"figure_1\">\n",
              "  <g id=\"patch_1\">\n",
              "   <path d=\"M 0 286.194687 \n",
              "L 333.531687 286.194687 \n",
              "L 333.531687 0 \n",
              "L 0 0 \n",
              "L 0 286.194687 \n",
              "z\n",
              "\" style=\"fill: none\"/>\n",
              "  </g>\n",
              "  <g id=\"axes_1\">\n",
              "   <g id=\"patch_2\">\n",
              "    <path d=\"M 61.554688 224.64 \n",
              "L 278.994687 224.64 \n",
              "L 278.994687 7.2 \n",
              "L 61.554688 7.2 \n",
              "z\n",
              "\" style=\"fill: #ffffff\"/>\n",
              "   </g>\n",
              "   <g clip-path=\"url(#p69bfdab4e5)\">\n",
              "    <image xlink:href=\"data:image/png;base64,\n",
              "iVBORw0KGgoAAAANSUhEUgAAANoAAADaCAYAAADAHVzbAAACzUlEQVR4nO3VsUkEUQBFUR2GAUuwAQsx2kpsQxbBbjY32gIswQY2FCPBRDPzCf79oOdU8JLLu/74ev+++oO2ZZs9gZ1uDnezJwyzzB4A/4HQICA0CAgNAkKDgNAgIDQICA0CQoOA0CAgNAgIDQJCg4DQICA0CAgNAkKDgNAgIDQICA0CQoOA0CAgNAgIDQJCg4DQICA0CAgNAkKDgNAgIDQICA0CQoOA0CAgNAgIDQJCg4DQICA0CAgNAkKDgNAgIDQICA0CQoOA0CAgNAgIDQJCg4DQICA0CAgNAkKDgNAgsG7LNnsDOx1OD7MnDPH58jZ7wjAeDQJCg4DQICA0CAgNAkKDgNAgIDQICA0CQoOA0CAgNAgIDQJCg4DQICA0CAgNAkKDgNAgIDQICA0CQoOA0CAgNAgIDQJCg4DQICA0CAgNAkKDgNAgIDQICA0CQoOA0CAgNAgIDQJCg4DQICA0CAgNAkKDgNAgIDQICA0CQoOA0CAgNAgIDQJCg4DQICA0CAgNAuvsAaPcPt7PnjDM5XiePYGdPBoEhAYBoUFAaBAQGgSEBgGhQUBoEBAaBIQGAaFBQGgQEBoEhAYBoUFAaBAQGgSEBgGhQUBoEBAaBIQGAaFBQGgQEBoEhAYBoUFAaBAQGgSEBgGhQUBoEBAaBIQGAaFBQGgQEBoEhAYBoUFAaBAQGgSEBgGhQUBoEBAaBIQGAaFBQGgQEBoEhAYBoUFAaBAQGgSEBoH16fV59oYhLsfz7Anwy6NBQGgQEBoEhAYBoUFAaBAQGgSEBgGhQUBoEBAaBIQGAaFBQGgQEBoEhAYBoUFAaBAQGgSEBgGhQUBoEBAaBIQGAaFBQGgQEBoEhAYBoUFAaBAQGgSEBgGhQUBoEBAaBIQGAaFBQGgQEBoEhAYBoUFAaBAQGgSEBgGhQUBoEBAaBIQGAaFBQGgQEBoEhAYBoUHgB3vMEQM/f6wZAAAAAElFTkSuQmCC\" id=\"imagead073ab343\" transform=\"scale(1 -1)translate(0 -218)\" x=\"61.554688\" y=\"-6.64\" width=\"218\" height=\"218\"/>\n",
              "   </g>\n",
              "   <g id=\"matplotlib.axis_1\">\n",
              "    <g id=\"xtick_1\">\n",
              "     <g id=\"line2d_1\">\n",
              "      <defs>\n",
              "       <path id=\"mf3563c668c\" d=\"M 0 0 \n",
              "L 0 3.5 \n",
              "\" style=\"stroke: #000000; stroke-width: 0.8\"/>\n",
              "      </defs>\n",
              "      <g>\n",
              "       <use xlink:href=\"#mf3563c668c\" x=\"88.734687\" y=\"224.64\" style=\"stroke: #000000; stroke-width: 0.8\"/>\n",
              "      </g>\n",
              "     </g>\n",
              "     <g id=\"text_1\">\n",
              "      <!-- jump -->\n",
              "      <g transform=\"translate(91.494062 256.844687)rotate(-90)scale(0.1 -0.1)\">\n",
              "       <defs>\n",
              "        <path id=\"DejaVuSans-6a\" d=\"M 603 3500 \n",
              "L 1178 3500 \n",
              "L 1178 -63 \n",
              "Q 1178 -731 923 -1031 \n",
              "Q 669 -1331 103 -1331 \n",
              "L -116 -1331 \n",
              "L -116 -844 \n",
              "L 38 -844 \n",
              "Q 366 -844 484 -692 \n",
              "Q 603 -541 603 -63 \n",
              "L 603 3500 \n",
              "z\n",
              "M 603 4863 \n",
              "L 1178 4863 \n",
              "L 1178 4134 \n",
              "L 603 4134 \n",
              "L 603 4863 \n",
              "z\n",
              "\" transform=\"scale(0.015625)\"/>\n",
              "        <path id=\"DejaVuSans-75\" d=\"M 544 1381 \n",
              "L 544 3500 \n",
              "L 1119 3500 \n",
              "L 1119 1403 \n",
              "Q 1119 906 1312 657 \n",
              "Q 1506 409 1894 409 \n",
              "Q 2359 409 2629 706 \n",
              "Q 2900 1003 2900 1516 \n",
              "L 2900 3500 \n",
              "L 3475 3500 \n",
              "L 3475 0 \n",
              "L 2900 0 \n",
              "L 2900 538 \n",
              "Q 2691 219 2414 64 \n",
              "Q 2138 -91 1772 -91 \n",
              "Q 1169 -91 856 284 \n",
              "Q 544 659 544 1381 \n",
              "z\n",
              "M 1991 3584 \n",
              "L 1991 3584 \n",
              "z\n",
              "\" transform=\"scale(0.015625)\"/>\n",
              "        <path id=\"DejaVuSans-6d\" d=\"M 3328 2828 \n",
              "Q 3544 3216 3844 3400 \n",
              "Q 4144 3584 4550 3584 \n",
              "Q 5097 3584 5394 3201 \n",
              "Q 5691 2819 5691 2113 \n",
              "L 5691 0 \n",
              "L 5113 0 \n",
              "L 5113 2094 \n",
              "Q 5113 2597 4934 2840 \n",
              "Q 4756 3084 4391 3084 \n",
              "Q 3944 3084 3684 2787 \n",
              "Q 3425 2491 3425 1978 \n",
              "L 3425 0 \n",
              "L 2847 0 \n",
              "L 2847 2094 \n",
              "Q 2847 2600 2669 2842 \n",
              "Q 2491 3084 2119 3084 \n",
              "Q 1678 3084 1418 2786 \n",
              "Q 1159 2488 1159 1978 \n",
              "L 1159 0 \n",
              "L 581 0 \n",
              "L 581 3500 \n",
              "L 1159 3500 \n",
              "L 1159 2956 \n",
              "Q 1356 3278 1631 3431 \n",
              "Q 1906 3584 2284 3584 \n",
              "Q 2666 3584 2933 3390 \n",
              "Q 3200 3197 3328 2828 \n",
              "z\n",
              "\" transform=\"scale(0.015625)\"/>\n",
              "        <path id=\"DejaVuSans-70\" d=\"M 1159 525 \n",
              "L 1159 -1331 \n",
              "L 581 -1331 \n",
              "L 581 3500 \n",
              "L 1159 3500 \n",
              "L 1159 2969 \n",
              "Q 1341 3281 1617 3432 \n",
              "Q 1894 3584 2278 3584 \n",
              "Q 2916 3584 3314 3078 \n",
              "Q 3713 2572 3713 1747 \n",
              "Q 3713 922 3314 415 \n",
              "Q 2916 -91 2278 -91 \n",
              "Q 1894 -91 1617 61 \n",
              "Q 1341 213 1159 525 \n",
              "z\n",
              "M 3116 1747 \n",
              "Q 3116 2381 2855 2742 \n",
              "Q 2594 3103 2138 3103 \n",
              "Q 1681 3103 1420 2742 \n",
              "Q 1159 2381 1159 1747 \n",
              "Q 1159 1113 1420 752 \n",
              "Q 1681 391 2138 391 \n",
              "Q 2594 391 2855 752 \n",
              "Q 3116 1113 3116 1747 \n",
              "z\n",
              "\" transform=\"scale(0.015625)\"/>\n",
              "       </defs>\n",
              "       <use xlink:href=\"#DejaVuSans-6a\"/>\n",
              "       <use xlink:href=\"#DejaVuSans-75\" x=\"27.783203\"/>\n",
              "       <use xlink:href=\"#DejaVuSans-6d\" x=\"91.162109\"/>\n",
              "       <use xlink:href=\"#DejaVuSans-70\" x=\"188.574219\"/>\n",
              "      </g>\n",
              "     </g>\n",
              "    </g>\n",
              "    <g id=\"xtick_2\">\n",
              "     <g id=\"line2d_2\">\n",
              "      <g>\n",
              "       <use xlink:href=\"#mf3563c668c\" x=\"143.094687\" y=\"224.64\" style=\"stroke: #000000; stroke-width: 0.8\"/>\n",
              "      </g>\n",
              "     </g>\n",
              "     <g id=\"text_2\">\n",
              "      <!-- crouch -->\n",
              "      <g transform=\"translate(145.854062 265.316562)rotate(-90)scale(0.1 -0.1)\">\n",
              "       <defs>\n",
              "        <path id=\"DejaVuSans-63\" d=\"M 3122 3366 \n",
              "L 3122 2828 \n",
              "Q 2878 2963 2633 3030 \n",
              "Q 2388 3097 2138 3097 \n",
              "Q 1578 3097 1268 2742 \n",
              "Q 959 2388 959 1747 \n",
              "Q 959 1106 1268 751 \n",
              "Q 1578 397 2138 397 \n",
              "Q 2388 397 2633 464 \n",
              "Q 2878 531 3122 666 \n",
              "L 3122 134 \n",
              "Q 2881 22 2623 -34 \n",
              "Q 2366 -91 2075 -91 \n",
              "Q 1284 -91 818 406 \n",
              "Q 353 903 353 1747 \n",
              "Q 353 2603 823 3093 \n",
              "Q 1294 3584 2113 3584 \n",
              "Q 2378 3584 2631 3529 \n",
              "Q 2884 3475 3122 3366 \n",
              "z\n",
              "\" transform=\"scale(0.015625)\"/>\n",
              "        <path id=\"DejaVuSans-72\" d=\"M 2631 2963 \n",
              "Q 2534 3019 2420 3045 \n",
              "Q 2306 3072 2169 3072 \n",
              "Q 1681 3072 1420 2755 \n",
              "Q 1159 2438 1159 1844 \n",
              "L 1159 0 \n",
              "L 581 0 \n",
              "L 581 3500 \n",
              "L 1159 3500 \n",
              "L 1159 2956 \n",
              "Q 1341 3275 1631 3429 \n",
              "Q 1922 3584 2338 3584 \n",
              "Q 2397 3584 2469 3576 \n",
              "Q 2541 3569 2628 3553 \n",
              "L 2631 2963 \n",
              "z\n",
              "\" transform=\"scale(0.015625)\"/>\n",
              "        <path id=\"DejaVuSans-6f\" d=\"M 1959 3097 \n",
              "Q 1497 3097 1228 2736 \n",
              "Q 959 2375 959 1747 \n",
              "Q 959 1119 1226 758 \n",
              "Q 1494 397 1959 397 \n",
              "Q 2419 397 2687 759 \n",
              "Q 2956 1122 2956 1747 \n",
              "Q 2956 2369 2687 2733 \n",
              "Q 2419 3097 1959 3097 \n",
              "z\n",
              "M 1959 3584 \n",
              "Q 2709 3584 3137 3096 \n",
              "Q 3566 2609 3566 1747 \n",
              "Q 3566 888 3137 398 \n",
              "Q 2709 -91 1959 -91 \n",
              "Q 1206 -91 779 398 \n",
              "Q 353 888 353 1747 \n",
              "Q 353 2609 779 3096 \n",
              "Q 1206 3584 1959 3584 \n",
              "z\n",
              "\" transform=\"scale(0.015625)\"/>\n",
              "        <path id=\"DejaVuSans-68\" d=\"M 3513 2113 \n",
              "L 3513 0 \n",
              "L 2938 0 \n",
              "L 2938 2094 \n",
              "Q 2938 2591 2744 2837 \n",
              "Q 2550 3084 2163 3084 \n",
              "Q 1697 3084 1428 2787 \n",
              "Q 1159 2491 1159 1978 \n",
              "L 1159 0 \n",
              "L 581 0 \n",
              "L 581 4863 \n",
              "L 1159 4863 \n",
              "L 1159 2956 \n",
              "Q 1366 3272 1645 3428 \n",
              "Q 1925 3584 2291 3584 \n",
              "Q 2894 3584 3203 3211 \n",
              "Q 3513 2838 3513 2113 \n",
              "z\n",
              "\" transform=\"scale(0.015625)\"/>\n",
              "       </defs>\n",
              "       <use xlink:href=\"#DejaVuSans-63\"/>\n",
              "       <use xlink:href=\"#DejaVuSans-72\" x=\"54.980469\"/>\n",
              "       <use xlink:href=\"#DejaVuSans-6f\" x=\"93.84375\"/>\n",
              "       <use xlink:href=\"#DejaVuSans-75\" x=\"155.025391\"/>\n",
              "       <use xlink:href=\"#DejaVuSans-63\" x=\"218.404297\"/>\n",
              "       <use xlink:href=\"#DejaVuSans-68\" x=\"273.384766\"/>\n",
              "      </g>\n",
              "     </g>\n",
              "    </g>\n",
              "    <g id=\"xtick_3\">\n",
              "     <g id=\"line2d_3\">\n",
              "      <g>\n",
              "       <use xlink:href=\"#mf3563c668c\" x=\"197.454687\" y=\"224.64\" style=\"stroke: #000000; stroke-width: 0.8\"/>\n",
              "      </g>\n",
              "     </g>\n",
              "     <g id=\"text_3\">\n",
              "      <!-- right -->\n",
              "      <g transform=\"translate(200.214062 255.135312)rotate(-90)scale(0.1 -0.1)\">\n",
              "       <defs>\n",
              "        <path id=\"DejaVuSans-69\" d=\"M 603 3500 \n",
              "L 1178 3500 \n",
              "L 1178 0 \n",
              "L 603 0 \n",
              "L 603 3500 \n",
              "z\n",
              "M 603 4863 \n",
              "L 1178 4863 \n",
              "L 1178 4134 \n",
              "L 603 4134 \n",
              "L 603 4863 \n",
              "z\n",
              "\" transform=\"scale(0.015625)\"/>\n",
              "        <path id=\"DejaVuSans-67\" d=\"M 2906 1791 \n",
              "Q 2906 2416 2648 2759 \n",
              "Q 2391 3103 1925 3103 \n",
              "Q 1463 3103 1205 2759 \n",
              "Q 947 2416 947 1791 \n",
              "Q 947 1169 1205 825 \n",
              "Q 1463 481 1925 481 \n",
              "Q 2391 481 2648 825 \n",
              "Q 2906 1169 2906 1791 \n",
              "z\n",
              "M 3481 434 \n",
              "Q 3481 -459 3084 -895 \n",
              "Q 2688 -1331 1869 -1331 \n",
              "Q 1566 -1331 1297 -1286 \n",
              "Q 1028 -1241 775 -1147 \n",
              "L 775 -588 \n",
              "Q 1028 -725 1275 -790 \n",
              "Q 1522 -856 1778 -856 \n",
              "Q 2344 -856 2625 -561 \n",
              "Q 2906 -266 2906 331 \n",
              "L 2906 616 \n",
              "Q 2728 306 2450 153 \n",
              "Q 2172 0 1784 0 \n",
              "Q 1141 0 747 490 \n",
              "Q 353 981 353 1791 \n",
              "Q 353 2603 747 3093 \n",
              "Q 1141 3584 1784 3584 \n",
              "Q 2172 3584 2450 3431 \n",
              "Q 2728 3278 2906 2969 \n",
              "L 2906 3500 \n",
              "L 3481 3500 \n",
              "L 3481 434 \n",
              "z\n",
              "\" transform=\"scale(0.015625)\"/>\n",
              "        <path id=\"DejaVuSans-74\" d=\"M 1172 4494 \n",
              "L 1172 3500 \n",
              "L 2356 3500 \n",
              "L 2356 3053 \n",
              "L 1172 3053 \n",
              "L 1172 1153 \n",
              "Q 1172 725 1289 603 \n",
              "Q 1406 481 1766 481 \n",
              "L 2356 481 \n",
              "L 2356 0 \n",
              "L 1766 0 \n",
              "Q 1100 0 847 248 \n",
              "Q 594 497 594 1153 \n",
              "L 594 3053 \n",
              "L 172 3053 \n",
              "L 172 3500 \n",
              "L 594 3500 \n",
              "L 594 4494 \n",
              "L 1172 4494 \n",
              "z\n",
              "\" transform=\"scale(0.015625)\"/>\n",
              "       </defs>\n",
              "       <use xlink:href=\"#DejaVuSans-72\"/>\n",
              "       <use xlink:href=\"#DejaVuSans-69\" x=\"41.113281\"/>\n",
              "       <use xlink:href=\"#DejaVuSans-67\" x=\"68.896484\"/>\n",
              "       <use xlink:href=\"#DejaVuSans-68\" x=\"132.373047\"/>\n",
              "       <use xlink:href=\"#DejaVuSans-74\" x=\"195.751953\"/>\n",
              "      </g>\n",
              "     </g>\n",
              "    </g>\n",
              "    <g id=\"xtick_4\">\n",
              "     <g id=\"line2d_4\">\n",
              "      <g>\n",
              "       <use xlink:href=\"#mf3563c668c\" x=\"251.814687\" y=\"224.64\" style=\"stroke: #000000; stroke-width: 0.8\"/>\n",
              "      </g>\n",
              "     </g>\n",
              "     <g id=\"text_4\">\n",
              "      <!-- left -->\n",
              "      <g transform=\"translate(254.574062 247.836875)rotate(-90)scale(0.1 -0.1)\">\n",
              "       <defs>\n",
              "        <path id=\"DejaVuSans-6c\" d=\"M 603 4863 \n",
              "L 1178 4863 \n",
              "L 1178 0 \n",
              "L 603 0 \n",
              "L 603 4863 \n",
              "z\n",
              "\" transform=\"scale(0.015625)\"/>\n",
              "        <path id=\"DejaVuSans-65\" d=\"M 3597 1894 \n",
              "L 3597 1613 \n",
              "L 953 1613 \n",
              "Q 991 1019 1311 708 \n",
              "Q 1631 397 2203 397 \n",
              "Q 2534 397 2845 478 \n",
              "Q 3156 559 3463 722 \n",
              "L 3463 178 \n",
              "Q 3153 47 2828 -22 \n",
              "Q 2503 -91 2169 -91 \n",
              "Q 1331 -91 842 396 \n",
              "Q 353 884 353 1716 \n",
              "Q 353 2575 817 3079 \n",
              "Q 1281 3584 2069 3584 \n",
              "Q 2775 3584 3186 3129 \n",
              "Q 3597 2675 3597 1894 \n",
              "z\n",
              "M 3022 2063 \n",
              "Q 3016 2534 2758 2815 \n",
              "Q 2500 3097 2075 3097 \n",
              "Q 1594 3097 1305 2825 \n",
              "Q 1016 2553 972 2059 \n",
              "L 3022 2063 \n",
              "z\n",
              "\" transform=\"scale(0.015625)\"/>\n",
              "        <path id=\"DejaVuSans-66\" d=\"M 2375 4863 \n",
              "L 2375 4384 \n",
              "L 1825 4384 \n",
              "Q 1516 4384 1395 4259 \n",
              "Q 1275 4134 1275 3809 \n",
              "L 1275 3500 \n",
              "L 2222 3500 \n",
              "L 2222 3053 \n",
              "L 1275 3053 \n",
              "L 1275 0 \n",
              "L 697 0 \n",
              "L 697 3053 \n",
              "L 147 3053 \n",
              "L 147 3500 \n",
              "L 697 3500 \n",
              "L 697 3744 \n",
              "Q 697 4328 969 4595 \n",
              "Q 1241 4863 1831 4863 \n",
              "L 2375 4863 \n",
              "z\n",
              "\" transform=\"scale(0.015625)\"/>\n",
              "       </defs>\n",
              "       <use xlink:href=\"#DejaVuSans-6c\"/>\n",
              "       <use xlink:href=\"#DejaVuSans-65\" x=\"27.783203\"/>\n",
              "       <use xlink:href=\"#DejaVuSans-66\" x=\"89.306641\"/>\n",
              "       <use xlink:href=\"#DejaVuSans-74\" x=\"122.761719\"/>\n",
              "      </g>\n",
              "     </g>\n",
              "    </g>\n",
              "    <g id=\"text_5\">\n",
              "     <!-- Predicted label -->\n",
              "     <g transform=\"translate(133.122344 276.915)scale(0.1 -0.1)\">\n",
              "      <defs>\n",
              "       <path id=\"DejaVuSans-50\" d=\"M 1259 4147 \n",
              "L 1259 2394 \n",
              "L 2053 2394 \n",
              "Q 2494 2394 2734 2622 \n",
              "Q 2975 2850 2975 3272 \n",
              "Q 2975 3691 2734 3919 \n",
              "Q 2494 4147 2053 4147 \n",
              "L 1259 4147 \n",
              "z\n",
              "M 628 4666 \n",
              "L 2053 4666 \n",
              "Q 2838 4666 3239 4311 \n",
              "Q 3641 3956 3641 3272 \n",
              "Q 3641 2581 3239 2228 \n",
              "Q 2838 1875 2053 1875 \n",
              "L 1259 1875 \n",
              "L 1259 0 \n",
              "L 628 0 \n",
              "L 628 4666 \n",
              "z\n",
              "\" transform=\"scale(0.015625)\"/>\n",
              "       <path id=\"DejaVuSans-64\" d=\"M 2906 2969 \n",
              "L 2906 4863 \n",
              "L 3481 4863 \n",
              "L 3481 0 \n",
              "L 2906 0 \n",
              "L 2906 525 \n",
              "Q 2725 213 2448 61 \n",
              "Q 2172 -91 1784 -91 \n",
              "Q 1150 -91 751 415 \n",
              "Q 353 922 353 1747 \n",
              "Q 353 2572 751 3078 \n",
              "Q 1150 3584 1784 3584 \n",
              "Q 2172 3584 2448 3432 \n",
              "Q 2725 3281 2906 2969 \n",
              "z\n",
              "M 947 1747 \n",
              "Q 947 1113 1208 752 \n",
              "Q 1469 391 1925 391 \n",
              "Q 2381 391 2643 752 \n",
              "Q 2906 1113 2906 1747 \n",
              "Q 2906 2381 2643 2742 \n",
              "Q 2381 3103 1925 3103 \n",
              "Q 1469 3103 1208 2742 \n",
              "Q 947 2381 947 1747 \n",
              "z\n",
              "\" transform=\"scale(0.015625)\"/>\n",
              "       <path id=\"DejaVuSans-20\" transform=\"scale(0.015625)\"/>\n",
              "       <path id=\"DejaVuSans-61\" d=\"M 2194 1759 \n",
              "Q 1497 1759 1228 1600 \n",
              "Q 959 1441 959 1056 \n",
              "Q 959 750 1161 570 \n",
              "Q 1363 391 1709 391 \n",
              "Q 2188 391 2477 730 \n",
              "Q 2766 1069 2766 1631 \n",
              "L 2766 1759 \n",
              "L 2194 1759 \n",
              "z\n",
              "M 3341 1997 \n",
              "L 3341 0 \n",
              "L 2766 0 \n",
              "L 2766 531 \n",
              "Q 2569 213 2275 61 \n",
              "Q 1981 -91 1556 -91 \n",
              "Q 1019 -91 701 211 \n",
              "Q 384 513 384 1019 \n",
              "Q 384 1609 779 1909 \n",
              "Q 1175 2209 1959 2209 \n",
              "L 2766 2209 \n",
              "L 2766 2266 \n",
              "Q 2766 2663 2505 2880 \n",
              "Q 2244 3097 1772 3097 \n",
              "Q 1472 3097 1187 3025 \n",
              "Q 903 2953 641 2809 \n",
              "L 641 3341 \n",
              "Q 956 3463 1253 3523 \n",
              "Q 1550 3584 1831 3584 \n",
              "Q 2591 3584 2966 3190 \n",
              "Q 3341 2797 3341 1997 \n",
              "z\n",
              "\" transform=\"scale(0.015625)\"/>\n",
              "       <path id=\"DejaVuSans-62\" d=\"M 3116 1747 \n",
              "Q 3116 2381 2855 2742 \n",
              "Q 2594 3103 2138 3103 \n",
              "Q 1681 3103 1420 2742 \n",
              "Q 1159 2381 1159 1747 \n",
              "Q 1159 1113 1420 752 \n",
              "Q 1681 391 2138 391 \n",
              "Q 2594 391 2855 752 \n",
              "Q 3116 1113 3116 1747 \n",
              "z\n",
              "M 1159 2969 \n",
              "Q 1341 3281 1617 3432 \n",
              "Q 1894 3584 2278 3584 \n",
              "Q 2916 3584 3314 3078 \n",
              "Q 3713 2572 3713 1747 \n",
              "Q 3713 922 3314 415 \n",
              "Q 2916 -91 2278 -91 \n",
              "Q 1894 -91 1617 61 \n",
              "Q 1341 213 1159 525 \n",
              "L 1159 0 \n",
              "L 581 0 \n",
              "L 581 4863 \n",
              "L 1159 4863 \n",
              "L 1159 2969 \n",
              "z\n",
              "\" transform=\"scale(0.015625)\"/>\n",
              "      </defs>\n",
              "      <use xlink:href=\"#DejaVuSans-50\"/>\n",
              "      <use xlink:href=\"#DejaVuSans-72\" x=\"58.552734\"/>\n",
              "      <use xlink:href=\"#DejaVuSans-65\" x=\"97.416016\"/>\n",
              "      <use xlink:href=\"#DejaVuSans-64\" x=\"158.939453\"/>\n",
              "      <use xlink:href=\"#DejaVuSans-69\" x=\"222.416016\"/>\n",
              "      <use xlink:href=\"#DejaVuSans-63\" x=\"250.199219\"/>\n",
              "      <use xlink:href=\"#DejaVuSans-74\" x=\"305.179688\"/>\n",
              "      <use xlink:href=\"#DejaVuSans-65\" x=\"344.388672\"/>\n",
              "      <use xlink:href=\"#DejaVuSans-64\" x=\"405.912109\"/>\n",
              "      <use xlink:href=\"#DejaVuSans-20\" x=\"469.388672\"/>\n",
              "      <use xlink:href=\"#DejaVuSans-6c\" x=\"501.175781\"/>\n",
              "      <use xlink:href=\"#DejaVuSans-61\" x=\"528.958984\"/>\n",
              "      <use xlink:href=\"#DejaVuSans-62\" x=\"590.238281\"/>\n",
              "      <use xlink:href=\"#DejaVuSans-65\" x=\"653.714844\"/>\n",
              "      <use xlink:href=\"#DejaVuSans-6c\" x=\"715.238281\"/>\n",
              "     </g>\n",
              "    </g>\n",
              "   </g>\n",
              "   <g id=\"matplotlib.axis_2\">\n",
              "    <g id=\"ytick_1\">\n",
              "     <g id=\"line2d_5\">\n",
              "      <defs>\n",
              "       <path id=\"md3378d989f\" d=\"M 0 0 \n",
              "L -3.5 0 \n",
              "\" style=\"stroke: #000000; stroke-width: 0.8\"/>\n",
              "      </defs>\n",
              "      <g>\n",
              "       <use xlink:href=\"#md3378d989f\" x=\"61.554688\" y=\"34.38\" style=\"stroke: #000000; stroke-width: 0.8\"/>\n",
              "      </g>\n",
              "     </g>\n",
              "     <g id=\"text_6\">\n",
              "      <!-- jump -->\n",
              "      <g transform=\"translate(29.35 38.179219)scale(0.1 -0.1)\">\n",
              "       <use xlink:href=\"#DejaVuSans-6a\"/>\n",
              "       <use xlink:href=\"#DejaVuSans-75\" x=\"27.783203\"/>\n",
              "       <use xlink:href=\"#DejaVuSans-6d\" x=\"91.162109\"/>\n",
              "       <use xlink:href=\"#DejaVuSans-70\" x=\"188.574219\"/>\n",
              "      </g>\n",
              "     </g>\n",
              "    </g>\n",
              "    <g id=\"ytick_2\">\n",
              "     <g id=\"line2d_6\">\n",
              "      <g>\n",
              "       <use xlink:href=\"#md3378d989f\" x=\"61.554688\" y=\"88.74\" style=\"stroke: #000000; stroke-width: 0.8\"/>\n",
              "      </g>\n",
              "     </g>\n",
              "     <g id=\"text_7\">\n",
              "      <!-- crouch -->\n",
              "      <g transform=\"translate(20.878125 92.539219)scale(0.1 -0.1)\">\n",
              "       <use xlink:href=\"#DejaVuSans-63\"/>\n",
              "       <use xlink:href=\"#DejaVuSans-72\" x=\"54.980469\"/>\n",
              "       <use xlink:href=\"#DejaVuSans-6f\" x=\"93.84375\"/>\n",
              "       <use xlink:href=\"#DejaVuSans-75\" x=\"155.025391\"/>\n",
              "       <use xlink:href=\"#DejaVuSans-63\" x=\"218.404297\"/>\n",
              "       <use xlink:href=\"#DejaVuSans-68\" x=\"273.384766\"/>\n",
              "      </g>\n",
              "     </g>\n",
              "    </g>\n",
              "    <g id=\"ytick_3\">\n",
              "     <g id=\"line2d_7\">\n",
              "      <g>\n",
              "       <use xlink:href=\"#md3378d989f\" x=\"61.554688\" y=\"143.1\" style=\"stroke: #000000; stroke-width: 0.8\"/>\n",
              "      </g>\n",
              "     </g>\n",
              "     <g id=\"text_8\">\n",
              "      <!-- right -->\n",
              "      <g transform=\"translate(31.059375 146.899219)scale(0.1 -0.1)\">\n",
              "       <use xlink:href=\"#DejaVuSans-72\"/>\n",
              "       <use xlink:href=\"#DejaVuSans-69\" x=\"41.113281\"/>\n",
              "       <use xlink:href=\"#DejaVuSans-67\" x=\"68.896484\"/>\n",
              "       <use xlink:href=\"#DejaVuSans-68\" x=\"132.373047\"/>\n",
              "       <use xlink:href=\"#DejaVuSans-74\" x=\"195.751953\"/>\n",
              "      </g>\n",
              "     </g>\n",
              "    </g>\n",
              "    <g id=\"ytick_4\">\n",
              "     <g id=\"line2d_8\">\n",
              "      <g>\n",
              "       <use xlink:href=\"#md3378d989f\" x=\"61.554688\" y=\"197.46\" style=\"stroke: #000000; stroke-width: 0.8\"/>\n",
              "      </g>\n",
              "     </g>\n",
              "     <g id=\"text_9\">\n",
              "      <!-- left -->\n",
              "      <g transform=\"translate(38.357812 201.259219)scale(0.1 -0.1)\">\n",
              "       <use xlink:href=\"#DejaVuSans-6c\"/>\n",
              "       <use xlink:href=\"#DejaVuSans-65\" x=\"27.783203\"/>\n",
              "       <use xlink:href=\"#DejaVuSans-66\" x=\"89.306641\"/>\n",
              "       <use xlink:href=\"#DejaVuSans-74\" x=\"122.761719\"/>\n",
              "      </g>\n",
              "     </g>\n",
              "    </g>\n",
              "    <g id=\"text_10\">\n",
              "     <!-- True label -->\n",
              "     <g transform=\"translate(14.798437 140.219219)rotate(-90)scale(0.1 -0.1)\">\n",
              "      <defs>\n",
              "       <path id=\"DejaVuSans-54\" d=\"M -19 4666 \n",
              "L 3928 4666 \n",
              "L 3928 4134 \n",
              "L 2272 4134 \n",
              "L 2272 0 \n",
              "L 1638 0 \n",
              "L 1638 4134 \n",
              "L -19 4134 \n",
              "L -19 4666 \n",
              "z\n",
              "\" transform=\"scale(0.015625)\"/>\n",
              "      </defs>\n",
              "      <use xlink:href=\"#DejaVuSans-54\"/>\n",
              "      <use xlink:href=\"#DejaVuSans-72\" x=\"46.333984\"/>\n",
              "      <use xlink:href=\"#DejaVuSans-75\" x=\"87.447266\"/>\n",
              "      <use xlink:href=\"#DejaVuSans-65\" x=\"150.826172\"/>\n",
              "      <use xlink:href=\"#DejaVuSans-20\" x=\"212.349609\"/>\n",
              "      <use xlink:href=\"#DejaVuSans-6c\" x=\"244.136719\"/>\n",
              "      <use xlink:href=\"#DejaVuSans-61\" x=\"271.919922\"/>\n",
              "      <use xlink:href=\"#DejaVuSans-62\" x=\"333.199219\"/>\n",
              "      <use xlink:href=\"#DejaVuSans-65\" x=\"396.675781\"/>\n",
              "      <use xlink:href=\"#DejaVuSans-6c\" x=\"458.199219\"/>\n",
              "     </g>\n",
              "    </g>\n",
              "   </g>\n",
              "   <g id=\"patch_3\">\n",
              "    <path d=\"M 61.554688 224.64 \n",
              "L 61.554688 7.2 \n",
              "\" style=\"fill: none; stroke: #000000; stroke-width: 0.8; stroke-linejoin: miter; stroke-linecap: square\"/>\n",
              "   </g>\n",
              "   <g id=\"patch_4\">\n",
              "    <path d=\"M 278.994687 224.64 \n",
              "L 278.994687 7.2 \n",
              "\" style=\"fill: none; stroke: #000000; stroke-width: 0.8; stroke-linejoin: miter; stroke-linecap: square\"/>\n",
              "   </g>\n",
              "   <g id=\"patch_5\">\n",
              "    <path d=\"M 61.554688 224.64 \n",
              "L 278.994687 224.64 \n",
              "\" style=\"fill: none; stroke: #000000; stroke-width: 0.8; stroke-linejoin: miter; stroke-linecap: square\"/>\n",
              "   </g>\n",
              "   <g id=\"patch_6\">\n",
              "    <path d=\"M 61.554688 7.2 \n",
              "L 278.994687 7.2 \n",
              "\" style=\"fill: none; stroke: #000000; stroke-width: 0.8; stroke-linejoin: miter; stroke-linecap: square\"/>\n",
              "   </g>\n",
              "   <g id=\"text_11\">\n",
              "    <!-- 13 -->\n",
              "    <g style=\"fill: #00441b\" transform=\"translate(82.372187 37.139375)scale(0.1 -0.1)\">\n",
              "     <defs>\n",
              "      <path id=\"DejaVuSans-31\" d=\"M 794 531 \n",
              "L 1825 531 \n",
              "L 1825 4091 \n",
              "L 703 3866 \n",
              "L 703 4441 \n",
              "L 1819 4666 \n",
              "L 2450 4666 \n",
              "L 2450 531 \n",
              "L 3481 531 \n",
              "L 3481 0 \n",
              "L 794 0 \n",
              "L 794 531 \n",
              "z\n",
              "\" transform=\"scale(0.015625)\"/>\n",
              "      <path id=\"DejaVuSans-33\" d=\"M 2597 2516 \n",
              "Q 3050 2419 3304 2112 \n",
              "Q 3559 1806 3559 1356 \n",
              "Q 3559 666 3084 287 \n",
              "Q 2609 -91 1734 -91 \n",
              "Q 1441 -91 1130 -33 \n",
              "Q 819 25 488 141 \n",
              "L 488 750 \n",
              "Q 750 597 1062 519 \n",
              "Q 1375 441 1716 441 \n",
              "Q 2309 441 2620 675 \n",
              "Q 2931 909 2931 1356 \n",
              "Q 2931 1769 2642 2001 \n",
              "Q 2353 2234 1838 2234 \n",
              "L 1294 2234 \n",
              "L 1294 2753 \n",
              "L 1863 2753 \n",
              "Q 2328 2753 2575 2939 \n",
              "Q 2822 3125 2822 3475 \n",
              "Q 2822 3834 2567 4026 \n",
              "Q 2313 4219 1838 4219 \n",
              "Q 1578 4219 1281 4162 \n",
              "Q 984 4106 628 3988 \n",
              "L 628 4550 \n",
              "Q 988 4650 1302 4700 \n",
              "Q 1616 4750 1894 4750 \n",
              "Q 2613 4750 3031 4423 \n",
              "Q 3450 4097 3450 3541 \n",
              "Q 3450 3153 3228 2886 \n",
              "Q 3006 2619 2597 2516 \n",
              "z\n",
              "\" transform=\"scale(0.015625)\"/>\n",
              "     </defs>\n",
              "     <use xlink:href=\"#DejaVuSans-31\"/>\n",
              "     <use xlink:href=\"#DejaVuSans-33\" x=\"63.623047\"/>\n",
              "    </g>\n",
              "   </g>\n",
              "   <g id=\"text_12\">\n",
              "    <!-- 0 -->\n",
              "    <g style=\"fill: #00441b\" transform=\"translate(139.913437 37.139375)scale(0.1 -0.1)\">\n",
              "     <defs>\n",
              "      <path id=\"DejaVuSans-30\" d=\"M 2034 4250 \n",
              "Q 1547 4250 1301 3770 \n",
              "Q 1056 3291 1056 2328 \n",
              "Q 1056 1369 1301 889 \n",
              "Q 1547 409 2034 409 \n",
              "Q 2525 409 2770 889 \n",
              "Q 3016 1369 3016 2328 \n",
              "Q 3016 3291 2770 3770 \n",
              "Q 2525 4250 2034 4250 \n",
              "z\n",
              "M 2034 4750 \n",
              "Q 2819 4750 3233 4129 \n",
              "Q 3647 3509 3647 2328 \n",
              "Q 3647 1150 3233 529 \n",
              "Q 2819 -91 2034 -91 \n",
              "Q 1250 -91 836 529 \n",
              "Q 422 1150 422 2328 \n",
              "Q 422 3509 836 4129 \n",
              "Q 1250 4750 2034 4750 \n",
              "z\n",
              "\" transform=\"scale(0.015625)\"/>\n",
              "     </defs>\n",
              "     <use xlink:href=\"#DejaVuSans-30\"/>\n",
              "    </g>\n",
              "   </g>\n",
              "   <g id=\"text_13\">\n",
              "    <!-- 0 -->\n",
              "    <g style=\"fill: #00441b\" transform=\"translate(194.273437 37.139375)scale(0.1 -0.1)\">\n",
              "     <use xlink:href=\"#DejaVuSans-30\"/>\n",
              "    </g>\n",
              "   </g>\n",
              "   <g id=\"text_14\">\n",
              "    <!-- 0 -->\n",
              "    <g style=\"fill: #00441b\" transform=\"translate(248.633437 37.139375)scale(0.1 -0.1)\">\n",
              "     <use xlink:href=\"#DejaVuSans-30\"/>\n",
              "    </g>\n",
              "   </g>\n",
              "   <g id=\"text_15\">\n",
              "    <!-- 0 -->\n",
              "    <g style=\"fill: #00441b\" transform=\"translate(85.553437 91.499375)scale(0.1 -0.1)\">\n",
              "     <use xlink:href=\"#DejaVuSans-30\"/>\n",
              "    </g>\n",
              "   </g>\n",
              "   <g id=\"text_16\">\n",
              "    <!-- 22 -->\n",
              "    <g style=\"fill: #f7fcf5\" transform=\"translate(136.732187 91.499375)scale(0.1 -0.1)\">\n",
              "     <defs>\n",
              "      <path id=\"DejaVuSans-32\" d=\"M 1228 531 \n",
              "L 3431 531 \n",
              "L 3431 0 \n",
              "L 469 0 \n",
              "L 469 531 \n",
              "Q 828 903 1448 1529 \n",
              "Q 2069 2156 2228 2338 \n",
              "Q 2531 2678 2651 2914 \n",
              "Q 2772 3150 2772 3378 \n",
              "Q 2772 3750 2511 3984 \n",
              "Q 2250 4219 1831 4219 \n",
              "Q 1534 4219 1204 4116 \n",
              "Q 875 4013 500 3803 \n",
              "L 500 4441 \n",
              "Q 881 4594 1212 4672 \n",
              "Q 1544 4750 1819 4750 \n",
              "Q 2544 4750 2975 4387 \n",
              "Q 3406 4025 3406 3419 \n",
              "Q 3406 3131 3298 2873 \n",
              "Q 3191 2616 2906 2266 \n",
              "Q 2828 2175 2409 1742 \n",
              "Q 1991 1309 1228 531 \n",
              "z\n",
              "\" transform=\"scale(0.015625)\"/>\n",
              "     </defs>\n",
              "     <use xlink:href=\"#DejaVuSans-32\"/>\n",
              "     <use xlink:href=\"#DejaVuSans-32\" x=\"63.623047\"/>\n",
              "    </g>\n",
              "   </g>\n",
              "   <g id=\"text_17\">\n",
              "    <!-- 0 -->\n",
              "    <g style=\"fill: #00441b\" transform=\"translate(194.273437 91.499375)scale(0.1 -0.1)\">\n",
              "     <use xlink:href=\"#DejaVuSans-30\"/>\n",
              "    </g>\n",
              "   </g>\n",
              "   <g id=\"text_18\">\n",
              "    <!-- 0 -->\n",
              "    <g style=\"fill: #00441b\" transform=\"translate(248.633437 91.499375)scale(0.1 -0.1)\">\n",
              "     <use xlink:href=\"#DejaVuSans-30\"/>\n",
              "    </g>\n",
              "   </g>\n",
              "   <g id=\"text_19\">\n",
              "    <!-- 0 -->\n",
              "    <g style=\"fill: #00441b\" transform=\"translate(85.553437 145.859375)scale(0.1 -0.1)\">\n",
              "     <use xlink:href=\"#DejaVuSans-30\"/>\n",
              "    </g>\n",
              "   </g>\n",
              "   <g id=\"text_20\">\n",
              "    <!-- 0 -->\n",
              "    <g style=\"fill: #00441b\" transform=\"translate(139.913437 145.859375)scale(0.1 -0.1)\">\n",
              "     <use xlink:href=\"#DejaVuSans-30\"/>\n",
              "    </g>\n",
              "   </g>\n",
              "   <g id=\"text_21\">\n",
              "    <!-- 17 -->\n",
              "    <g style=\"fill: #f7fcf5\" transform=\"translate(191.092187 145.859375)scale(0.1 -0.1)\">\n",
              "     <defs>\n",
              "      <path id=\"DejaVuSans-37\" d=\"M 525 4666 \n",
              "L 3525 4666 \n",
              "L 3525 4397 \n",
              "L 1831 0 \n",
              "L 1172 0 \n",
              "L 2766 4134 \n",
              "L 525 4134 \n",
              "L 525 4666 \n",
              "z\n",
              "\" transform=\"scale(0.015625)\"/>\n",
              "     </defs>\n",
              "     <use xlink:href=\"#DejaVuSans-31\"/>\n",
              "     <use xlink:href=\"#DejaVuSans-37\" x=\"63.623047\"/>\n",
              "    </g>\n",
              "   </g>\n",
              "   <g id=\"text_22\">\n",
              "    <!-- 0 -->\n",
              "    <g style=\"fill: #00441b\" transform=\"translate(248.633437 145.859375)scale(0.1 -0.1)\">\n",
              "     <use xlink:href=\"#DejaVuSans-30\"/>\n",
              "    </g>\n",
              "   </g>\n",
              "   <g id=\"text_23\">\n",
              "    <!-- 1 -->\n",
              "    <g style=\"fill: #00441b\" transform=\"translate(85.553437 200.219375)scale(0.1 -0.1)\">\n",
              "     <use xlink:href=\"#DejaVuSans-31\"/>\n",
              "    </g>\n",
              "   </g>\n",
              "   <g id=\"text_24\">\n",
              "    <!-- 0 -->\n",
              "    <g style=\"fill: #00441b\" transform=\"translate(139.913437 200.219375)scale(0.1 -0.1)\">\n",
              "     <use xlink:href=\"#DejaVuSans-30\"/>\n",
              "    </g>\n",
              "   </g>\n",
              "   <g id=\"text_25\">\n",
              "    <!-- 0 -->\n",
              "    <g style=\"fill: #00441b\" transform=\"translate(194.273437 200.219375)scale(0.1 -0.1)\">\n",
              "     <use xlink:href=\"#DejaVuSans-30\"/>\n",
              "    </g>\n",
              "   </g>\n",
              "   <g id=\"text_26\">\n",
              "    <!-- 27 -->\n",
              "    <g style=\"fill: #f7fcf5\" transform=\"translate(245.452187 200.219375)scale(0.1 -0.1)\">\n",
              "     <use xlink:href=\"#DejaVuSans-32\"/>\n",
              "     <use xlink:href=\"#DejaVuSans-37\" x=\"63.623047\"/>\n",
              "    </g>\n",
              "   </g>\n",
              "  </g>\n",
              "  <g id=\"axes_2\">\n",
              "   <g id=\"patch_7\">\n",
              "    <path d=\"M 295.734688 224.64 \n",
              "L 306.606688 224.64 \n",
              "L 306.606688 7.2 \n",
              "L 295.734688 7.2 \n",
              "z\n",
              "\" style=\"fill: #ffffff\"/>\n",
              "   </g>\n",
              "   <g id=\"patch_8\">\n",
              "    <path clip-path=\"url(#pdc5aef7abb)\" style=\"fill: #ffffff; stroke: #ffffff; stroke-width: 0.01; stroke-linejoin: miter\"/>\n",
              "   </g>\n",
              "   <image xlink:href=\"data:image/png;base64,\n",
              "iVBORw0KGgoAAAANSUhEUgAAAAsAAADZCAYAAAD2WsoCAAABLklEQVR4nN2YMQ7DMAwD1SL/f23Rqbb7Bd1wAOXMhECTFOPk9f19TjWfdxdYVfWc0x5cTxUA96F08hY598GizoQGPCCj0X88nRFnaEpKNjahASZPzMZmangHTMjzs4uo4RWjJp1od8YBQ+yeKd3AKiCT11kJNODCosnAQVYFbK086SzOKyX81x/QaiSUupjwR9gNS0ZzUKPBwo/s1taKqeFVQcaFCqmBTDHfsBEturbVoqaDXvgzOLehdDKzO4OzFyTPbjH8bSgOv5YNjzMMv+VgeWUO9gpKR+z2aHjgrdltgttYOvl2uxFnGP4MByeG3/tXQHRGr7aJdk/MBrxQtbHmD5yJ2YDhb2NNzqA24O2rlnWvA1//dDJSwzsgokFKZqTd96uh0fA2Bels0fgD9SAJ1rx43PUAAAAASUVORK5CYII=\" id=\"image3c5897300e\" transform=\"scale(1 -1)translate(0 -217)\" x=\"296\" y=\"-7\" width=\"11\" height=\"217\"/>\n",
              "   <g id=\"matplotlib.axis_3\">\n",
              "    <g id=\"ytick_5\">\n",
              "     <g id=\"line2d_9\">\n",
              "      <defs>\n",
              "       <path id=\"m483afeeab2\" d=\"M 0 0 \n",
              "L 3.5 0 \n",
              "\" style=\"stroke: #000000; stroke-width: 0.8\"/>\n",
              "      </defs>\n",
              "      <g>\n",
              "       <use xlink:href=\"#m483afeeab2\" x=\"306.606688\" y=\"224.64\" style=\"stroke: #000000; stroke-width: 0.8\"/>\n",
              "      </g>\n",
              "     </g>\n",
              "     <g id=\"text_27\">\n",
              "      <!-- 0 -->\n",
              "      <g transform=\"translate(313.606688 228.439219)scale(0.1 -0.1)\">\n",
              "       <use xlink:href=\"#DejaVuSans-30\"/>\n",
              "      </g>\n",
              "     </g>\n",
              "    </g>\n",
              "    <g id=\"ytick_6\">\n",
              "     <g id=\"line2d_10\">\n",
              "      <g>\n",
              "       <use xlink:href=\"#m483afeeab2\" x=\"306.606688\" y=\"184.373333\" style=\"stroke: #000000; stroke-width: 0.8\"/>\n",
              "      </g>\n",
              "     </g>\n",
              "     <g id=\"text_28\">\n",
              "      <!-- 5 -->\n",
              "      <g transform=\"translate(313.606688 188.172552)scale(0.1 -0.1)\">\n",
              "       <defs>\n",
              "        <path id=\"DejaVuSans-35\" d=\"M 691 4666 \n",
              "L 3169 4666 \n",
              "L 3169 4134 \n",
              "L 1269 4134 \n",
              "L 1269 2991 \n",
              "Q 1406 3038 1543 3061 \n",
              "Q 1681 3084 1819 3084 \n",
              "Q 2600 3084 3056 2656 \n",
              "Q 3513 2228 3513 1497 \n",
              "Q 3513 744 3044 326 \n",
              "Q 2575 -91 1722 -91 \n",
              "Q 1428 -91 1123 -41 \n",
              "Q 819 9 494 109 \n",
              "L 494 744 \n",
              "Q 775 591 1075 516 \n",
              "Q 1375 441 1709 441 \n",
              "Q 2250 441 2565 725 \n",
              "Q 2881 1009 2881 1497 \n",
              "Q 2881 1984 2565 2268 \n",
              "Q 2250 2553 1709 2553 \n",
              "Q 1456 2553 1204 2497 \n",
              "Q 953 2441 691 2322 \n",
              "L 691 4666 \n",
              "z\n",
              "\" transform=\"scale(0.015625)\"/>\n",
              "       </defs>\n",
              "       <use xlink:href=\"#DejaVuSans-35\"/>\n",
              "      </g>\n",
              "     </g>\n",
              "    </g>\n",
              "    <g id=\"ytick_7\">\n",
              "     <g id=\"line2d_11\">\n",
              "      <g>\n",
              "       <use xlink:href=\"#m483afeeab2\" x=\"306.606688\" y=\"144.106667\" style=\"stroke: #000000; stroke-width: 0.8\"/>\n",
              "      </g>\n",
              "     </g>\n",
              "     <g id=\"text_29\">\n",
              "      <!-- 10 -->\n",
              "      <g transform=\"translate(313.606688 147.905885)scale(0.1 -0.1)\">\n",
              "       <use xlink:href=\"#DejaVuSans-31\"/>\n",
              "       <use xlink:href=\"#DejaVuSans-30\" x=\"63.623047\"/>\n",
              "      </g>\n",
              "     </g>\n",
              "    </g>\n",
              "    <g id=\"ytick_8\">\n",
              "     <g id=\"line2d_12\">\n",
              "      <g>\n",
              "       <use xlink:href=\"#m483afeeab2\" x=\"306.606688\" y=\"103.84\" style=\"stroke: #000000; stroke-width: 0.8\"/>\n",
              "      </g>\n",
              "     </g>\n",
              "     <g id=\"text_30\">\n",
              "      <!-- 15 -->\n",
              "      <g transform=\"translate(313.606688 107.639219)scale(0.1 -0.1)\">\n",
              "       <use xlink:href=\"#DejaVuSans-31\"/>\n",
              "       <use xlink:href=\"#DejaVuSans-35\" x=\"63.623047\"/>\n",
              "      </g>\n",
              "     </g>\n",
              "    </g>\n",
              "    <g id=\"ytick_9\">\n",
              "     <g id=\"line2d_13\">\n",
              "      <g>\n",
              "       <use xlink:href=\"#m483afeeab2\" x=\"306.606688\" y=\"63.573333\" style=\"stroke: #000000; stroke-width: 0.8\"/>\n",
              "      </g>\n",
              "     </g>\n",
              "     <g id=\"text_31\">\n",
              "      <!-- 20 -->\n",
              "      <g transform=\"translate(313.606688 67.372552)scale(0.1 -0.1)\">\n",
              "       <use xlink:href=\"#DejaVuSans-32\"/>\n",
              "       <use xlink:href=\"#DejaVuSans-30\" x=\"63.623047\"/>\n",
              "      </g>\n",
              "     </g>\n",
              "    </g>\n",
              "    <g id=\"ytick_10\">\n",
              "     <g id=\"line2d_14\">\n",
              "      <g>\n",
              "       <use xlink:href=\"#m483afeeab2\" x=\"306.606688\" y=\"23.306667\" style=\"stroke: #000000; stroke-width: 0.8\"/>\n",
              "      </g>\n",
              "     </g>\n",
              "     <g id=\"text_32\">\n",
              "      <!-- 25 -->\n",
              "      <g transform=\"translate(313.606688 27.105885)scale(0.1 -0.1)\">\n",
              "       <use xlink:href=\"#DejaVuSans-32\"/>\n",
              "       <use xlink:href=\"#DejaVuSans-35\" x=\"63.623047\"/>\n",
              "      </g>\n",
              "     </g>\n",
              "    </g>\n",
              "   </g>\n",
              "   <g id=\"LineCollection_1\"/>\n",
              "   <g id=\"patch_9\">\n",
              "    <path d=\"M 295.734688 224.64 \n",
              "L 301.170688 224.64 \n",
              "L 306.606688 224.64 \n",
              "L 306.606688 7.2 \n",
              "L 301.170688 7.2 \n",
              "L 295.734688 7.2 \n",
              "L 295.734688 224.64 \n",
              "z\n",
              "\" style=\"fill: none; stroke: #000000; stroke-width: 0.8; stroke-linejoin: miter; stroke-linecap: square\"/>\n",
              "   </g>\n",
              "  </g>\n",
              " </g>\n",
              " <defs>\n",
              "  <clipPath id=\"p69bfdab4e5\">\n",
              "   <rect x=\"61.554688\" y=\"7.2\" width=\"217.44\" height=\"217.44\"/>\n",
              "  </clipPath>\n",
              "  <clipPath id=\"pdc5aef7abb\">\n",
              "   <rect x=\"295.734688\" y=\"7.2\" width=\"10.872\" height=\"217.44\"/>\n",
              "  </clipPath>\n",
              " </defs>\n",
              "</svg>\n"
            ],
            "text/plain": [
              "<Figure size 432x288 with 2 Axes>"
            ]
          },
          "metadata": {
            "needs_background": "light"
          },
          "output_type": "display_data"
        }
      ],
      "source": [
        "disp = ConfusionMatrixDisplay(cm , display_labels= actions)\n",
        "\n",
        "disp.plot(cmap='Greens' , xticks_rotation='vertical');"
      ]
    },
    {
      "cell_type": "code",
      "execution_count": null,
      "metadata": {
        "id": "L3acE3qakrgX",
        "outputId": "e061dd94-51f9-42ff-d8a2-24652e8d9693",
        "scrolled": true
      },
      "outputs": [
        {
          "name": "stdout",
          "output_type": "stream",
          "text": [
            "              precision    recall  f1-score   support\n",
            "\n",
            "           0       0.93      1.00      0.96        13\n",
            "           1       1.00      1.00      1.00        22\n",
            "           2       1.00      1.00      1.00        17\n",
            "           3       1.00      0.96      0.98        28\n",
            "\n",
            "    accuracy                           0.99        80\n",
            "   macro avg       0.98      0.99      0.99        80\n",
            "weighted avg       0.99      0.99      0.99        80\n",
            "\n"
          ]
        }
      ],
      "source": [
        "print(classification_report(y_test, y_pred))"
      ]
    },
    {
      "cell_type": "markdown",
      "metadata": {
        "id": "8AfnFRCVkrgX"
      },
      "source": [
        "# test a video sample:"
      ]
    },
    {
      "cell_type": "code",
      "execution_count": null,
      "metadata": {
        "id": "m40EqPgWkrgY"
      },
      "outputs": [],
      "source": [
        "no_videos = 10\n",
        "sequences_length = 15"
      ]
    },
    {
      "cell_type": "code",
      "execution_count": null,
      "metadata": {
        "id": "X1xm8ZxtkrgY"
      },
      "outputs": [],
      "source": [
        "# cap = cv2.VideoCapture(0)\n",
        "\n",
        "# with mp_holistic.Holistic(min_detection_confidence=0.4,min_tracking_confidence=0.4) as holistic:\n",
        "    \n",
        "#     videos=[]\n",
        "#     for video in range(no_videos):\n",
        "        \n",
        "#         window = []\n",
        "#         for frame_num in range(sequences_length):\n",
        "\n",
        "#             ret, frame = cap.read()\n",
        "\n",
        "#             image, results = mediapipe_detection(frame,holistic)\n",
        "\n",
        "#             draw_abdomen_landmarks(image,results)        \n",
        "\n",
        "#             keypoints = abdomen_keypoints(results)\n",
        "# #             print(keypoints)\n",
        "#             if frame_num==0:\n",
        "#                 cv2.putText(image,'COLLECTION START',(150,200),\n",
        "#                             cv2.FONT_HERSHEY_COMPLEX,1,(0,0,255),4,cv2.LINE_AA)\n",
        "#                 cv2.putText(image,f'collecting frames for left_jump video numer {video}',(15,12),\n",
        "#                             cv2.FONT_HERSHEY_COMPLEX,.5,(0,255,0),1,cv2.LINE_AA)\n",
        "#                 cv2.imshow('Webcam Feed', image)\n",
        "#                 cv2.waitKey(2000)\n",
        "\n",
        "#             else:\n",
        "#                 cv2.putText(image,f'collecting frames for left_jump video numer {video}',(15,12),\n",
        "#                 cv2.FONT_HERSHEY_COMPLEX,0.5,(0,255,0),1,cv2.LINE_AA)\n",
        "#                 cv2.waitKey(130)\n",
        "#                 cv2.imshow('Webcam Feed', image)\n",
        "\n",
        "#             window.append(keypoints)\n",
        "        \n",
        "#         videos.append(window)\n",
        "#         if cv2.waitKey(20) & 0xFF == ord('q'):\n",
        "#             break\n",
        "    \n",
        "#     inputv = np.array(videos)\n",
        "#     print(inputv.shape)\n",
        "#     pred = model.predict(inputv)\n",
        "#     print(pred)\n",
        "#     action = actions[np.argmax(pred,axis=1)]\n",
        "#     print(action)\n",
        "\n",
        "#     if np.max(pred)> threshold:\n",
        "\n",
        "#         ret, frame = cap.read()\n",
        "#         cv2.rectangle(frame,(0,0),(250,50),(245,117,16),-1)\n",
        "#         cv2.putText(frame, f'{action[0]}:{np.max(pred)}',\n",
        "#                           (3,30),cv2.FONT_HERSHEY_SIMPLEX,1.5,\n",
        "#                           (255,255,255),2,cv2.LINE_AA)\n",
        "#         cv2.imshow('Webcam Feed', frame)\n",
        "#         cv2.waitKey(2000)\n",
        "\n",
        "# #     if cv2.waitKey(10) & 0xFF == ord('q'):\n",
        "# #         break\n",
        "\n",
        "# cap.release()\n",
        "# cv2.destroyAllWindows()"
      ]
    },
    {
      "cell_type": "code",
      "execution_count": null,
      "metadata": {
        "id": "wIA9YAy5krgY"
      },
      "outputs": [],
      "source": [
        "# L, R, J, L, R, C, C, J, R, R,"
      ]
    },
    {
      "cell_type": "code",
      "execution_count": null,
      "metadata": {
        "id": "q_0nk9VqkrgY",
        "outputId": "26b44feb-7534-40c4-b004-b763d5dceab6"
      },
      "outputs": [
        {
          "name": "stdout",
          "output_type": "stream",
          "text": [
            "1/1 [==============================] - 0s 31ms/step\n",
            "1/1 [==============================] - 0s 16ms/step\n",
            "1/1 [==============================] - 0s 31ms/step\n",
            "1/1 [==============================] - 0s 31ms/step\n",
            "1/1 [==============================] - 0s 16ms/step\n",
            "1/1 [==============================] - 0s 16ms/step\n",
            "1/1 [==============================] - 0s 22ms/step\n",
            "1/1 [==============================] - 0s 22ms/step\n",
            "1/1 [==============================] - 0s 22ms/step\n",
            "1/1 [==============================] - 0s 16ms/step\n",
            "1/1 [==============================] - 0s 16ms/step\n",
            "1/1 [==============================] - 0s 22ms/step\n",
            "1/1 [==============================] - 0s 22ms/step\n",
            "1/1 [==============================] - 0s 16ms/step\n",
            "1/1 [==============================] - 0s 16ms/step\n",
            "1/1 [==============================] - 0s 16ms/step\n",
            "1/1 [==============================] - 0s 16ms/step\n",
            "1/1 [==============================] - 0s 31ms/step\n",
            "1/1 [==============================] - 0s 22ms/step\n",
            "1/1 [==============================] - 0s 16ms/step\n",
            "1/1 [==============================] - 0s 31ms/step\n",
            "1/1 [==============================] - 0s 22ms/step\n",
            "1/1 [==============================] - 0s 31ms/step\n",
            "1/1 [==============================] - 0s 31ms/step\n",
            "1/1 [==============================] - 0s 31ms/step\n",
            "1/1 [==============================] - 0s 22ms/step\n",
            "1/1 [==============================] - 0s 38ms/step\n",
            "1/1 [==============================] - 0s 16ms/step\n",
            "1/1 [==============================] - 0s 16ms/step\n",
            "1/1 [==============================] - 0s 31ms/step\n",
            "1/1 [==============================] - 0s 31ms/step\n",
            "1/1 [==============================] - 0s 22ms/step\n",
            "1/1 [==============================] - 0s 31ms/step\n",
            "1/1 [==============================] - 0s 16ms/step\n",
            "1/1 [==============================] - 0s 16ms/step\n",
            "1/1 [==============================] - 0s 31ms/step\n",
            "1/1 [==============================] - 0s 16ms/step\n",
            "1/1 [==============================] - 0s 16ms/step\n",
            "1/1 [==============================] - 0s 31ms/step\n",
            "1/1 [==============================] - 0s 16ms/step\n",
            "1/1 [==============================] - 0s 22ms/step\n",
            "1/1 [==============================] - 0s 31ms/step\n",
            "1/1 [==============================] - 0s 16ms/step\n",
            "1/1 [==============================] - 0s 16ms/step\n",
            "1/1 [==============================] - 0s 16ms/step\n",
            "1/1 [==============================] - 0s 136ms/step\n",
            "1/1 [==============================] - 0s 16ms/step\n",
            "1/1 [==============================] - 0s 16ms/step\n",
            "1/1 [==============================] - 0s 22ms/step\n",
            "1/1 [==============================] - 0s 16ms/step\n",
            "1/1 [==============================] - 0s 16ms/step\n",
            "1/1 [==============================] - 0s 22ms/step\n",
            "1/1 [==============================] - 0s 22ms/step\n",
            "1/1 [==============================] - 0s 22ms/step\n",
            "1/1 [==============================] - 0s 31ms/step\n",
            "1/1 [==============================] - 0s 22ms/step\n",
            "1/1 [==============================] - 0s 31ms/step\n",
            "1/1 [==============================] - 0s 16ms/step\n",
            "1/1 [==============================] - 0s 16ms/step\n",
            "1/1 [==============================] - 0s 16ms/step\n",
            "1/1 [==============================] - 0s 16ms/step\n",
            "1/1 [==============================] - 0s 16ms/step\n",
            "1/1 [==============================] - 0s 16ms/step\n",
            "1/1 [==============================] - 0s 16ms/step\n",
            "1/1 [==============================] - 0s 22ms/step\n",
            "1/1 [==============================] - 0s 22ms/step\n",
            "1/1 [==============================] - 0s 16ms/step\n",
            "1/1 [==============================] - 0s 16ms/step\n",
            "1/1 [==============================] - 0s 16ms/step\n",
            "1/1 [==============================] - 0s 16ms/step\n",
            "1/1 [==============================] - 0s 16ms/step\n",
            "1/1 [==============================] - 0s 16ms/step\n",
            "1/1 [==============================] - 0s 31ms/step\n",
            "1/1 [==============================] - 0s 31ms/step\n",
            "1/1 [==============================] - 0s 31ms/step\n",
            "1/1 [==============================] - 0s 16ms/step\n",
            "1/1 [==============================] - 0s 16ms/step\n",
            "1/1 [==============================] - 0s 22ms/step\n",
            "1/1 [==============================] - 0s 22ms/step\n",
            "1/1 [==============================] - 0s 16ms/step\n",
            "1/1 [==============================] - 0s 22ms/step\n",
            "1/1 [==============================] - 0s 31ms/step\n",
            "1/1 [==============================] - 0s 22ms/step\n",
            "1/1 [==============================] - 0s 16ms/step\n",
            "1/1 [==============================] - 0s 16ms/step\n",
            "1/1 [==============================] - 0s 16ms/step\n",
            "1/1 [==============================] - 0s 16ms/step\n",
            "1/1 [==============================] - 0s 16ms/step\n",
            "1/1 [==============================] - 0s 31ms/step\n",
            "1/1 [==============================] - 0s 31ms/step\n",
            "1/1 [==============================] - 0s 16ms/step\n",
            "1/1 [==============================] - 0s 31ms/step\n",
            "1/1 [==============================] - 0s 16ms/step\n",
            "1/1 [==============================] - 0s 16ms/step\n",
            "1/1 [==============================] - 0s 22ms/step\n",
            "1/1 [==============================] - 0s 16ms/step\n",
            "1/1 [==============================] - 0s 22ms/step\n",
            "1/1 [==============================] - 0s 22ms/step\n",
            "1/1 [==============================] - 0s 25ms/step\n",
            "1/1 [==============================] - 0s 24ms/step\n",
            "1/1 [==============================] - 0s 44ms/step\n",
            "1/1 [==============================] - 0s 31ms/step\n",
            "1/1 [==============================] - 0s 41ms/step\n",
            "1/1 [==============================] - 0s 16ms/step\n",
            "1/1 [==============================] - 0s 31ms/step\n",
            "1/1 [==============================] - 0s 31ms/step\n",
            "1/1 [==============================] - 0s 47ms/step\n",
            "1/1 [==============================] - 0s 22ms/step\n",
            "1/1 [==============================] - 0s 33ms/step\n",
            "1/1 [==============================] - 0s 32ms/step\n",
            "1/1 [==============================] - 0s 82ms/step\n",
            "1/1 [==============================] - 0s 28ms/step\n",
            "1/1 [==============================] - 0s 31ms/step\n",
            "1/1 [==============================] - 0s 31ms/step\n",
            "1/1 [==============================] - 0s 16ms/step\n",
            "1/1 [==============================] - 0s 31ms/step\n",
            "1/1 [==============================] - 0s 16ms/step\n",
            "1/1 [==============================] - 0s 31ms/step\n",
            "1/1 [==============================] - 0s 38ms/step\n",
            "1/1 [==============================] - 0s 47ms/step\n",
            "1/1 [==============================] - 0s 31ms/step\n",
            "1/1 [==============================] - 0s 38ms/step\n",
            "1/1 [==============================] - 0s 16ms/step\n",
            "1/1 [==============================] - 0s 31ms/step\n",
            "1/1 [==============================] - 0s 31ms/step\n",
            "1/1 [==============================] - 0s 31ms/step\n",
            "1/1 [==============================] - 0s 16ms/step\n",
            "1/1 [==============================] - 0s 16ms/step\n",
            "1/1 [==============================] - 0s 16ms/step\n",
            "1/1 [==============================] - 0s 31ms/step\n",
            "1/1 [==============================] - 0s 31ms/step\n",
            "1/1 [==============================] - 0s 16ms/step\n",
            "1/1 [==============================] - 0s 16ms/step\n",
            "1/1 [==============================] - 0s 16ms/step\n",
            "1/1 [==============================] - 0s 16ms/step\n",
            "1/1 [==============================] - 0s 16ms/step\n",
            "1/1 [==============================] - 0s 15ms/step\n",
            "1/1 [==============================] - 0s 22ms/step\n"
          ]
        }
      ],
      "source": [
        "threshold = 0.3\n",
        "\n",
        "cap = cv2.VideoCapture(0)\n",
        "\n",
        "with mp_holistic.Holistic(min_detection_confidence=0.4,min_tracking_confidence=0.4) as holistic:\n",
        "\n",
        "    while cap.isOpened():\n",
        "        \n",
        "        ret, frame = cap.read()\n",
        "        \n",
        "        cv2.putText(frame,'Recording in 2 Seconds...ready?',(20,30),\n",
        "                    cv2.FONT_HERSHEY_COMPLEX,1,(0,0,255),4,cv2.LINE_AA)\n",
        "        cv2.imshow('Webcam Feed', frame)\n",
        "        cv2.waitKey(2000)\n",
        "        \n",
        "        window = []\n",
        "        \n",
        "        for frame_num in range(sequences_length):\n",
        "\n",
        "            ret, frame = cap.read()\n",
        "                       \n",
        "            image, results = mediapipe_detection(frame,holistic)\n",
        "            cv2.putText(image,'collecting frames',(20,30),\n",
        "            cv2.FONT_HERSHEY_COMPLEX,1,(0,255,0),1,cv2.LINE_AA)\n",
        "            cv2.imshow('Webcam Feed', image)\n",
        "            \n",
        "            draw_abdomen_landmarks(image,results)        \n",
        "            keypoints = abdomen_keypoints(results)\n",
        "            window.append(keypoints)\n",
        "            cv2.waitKey(10)\n",
        "\n",
        "        inputv = np.expand_dims(np.array(window),axis=0)\n",
        "        pred = model.predict(inputv)\n",
        "        action = actions[np.argmax(pred,axis=1)]\n",
        "\n",
        "        \n",
        "        if np.max(pred)> threshold:\n",
        "    \n",
        "            ret, frame = cap.read()\n",
        "            cv2.rectangle(frame,(0,0),(250,50),(245,117,16),-1)\n",
        "            cv2.putText(frame, f'{action[0]}:{np.max(pred):.2f}',\n",
        "                              (3,30),cv2.FONT_HERSHEY_SIMPLEX,1.5,\n",
        "                              (255,255,255),2,cv2.LINE_AA)\n",
        "            cv2.imshow('Webcam Feed', frame)\n",
        "            cv2.waitKey(2000)\n",
        "        \n",
        "        if cv2.waitKey(300) & 0xFF == ord('q'):\n",
        "            break\n",
        "\n",
        "    \n",
        "cap.release()\n",
        "cv2.destroyAllWindows()"
      ]
    },
    {
      "cell_type": "code",
      "execution_count": null,
      "metadata": {
        "id": "MzrEYswV1bxC"
      },
      "outputs": [],
      "source": []
    },
    {
      "cell_type": "markdown",
      "metadata": {
        "id": "tnqAuL84krgZ"
      },
      "source": [
        "# real time detection:"
      ]
    },
    {
      "cell_type": "code",
      "execution_count": null,
      "metadata": {
        "id": "tjNwvLDukrgZ"
      },
      "outputs": [],
      "source": [
        "sequence = []\n",
        "sentence = []\n",
        "threshold = 0.7\n",
        "\n",
        "cap = cv2.VideoCapture(0)\n",
        "\n",
        "with mp_holistic.Holistic(min_detection_confidence=0.4,min_tracking_confidence=0.4) as holistic:\n",
        "\n",
        "    while cap.isOpened():\n",
        "\n",
        "        ret, frame = cap.read()\n",
        "\n",
        "        image, results = mediapipe_detection(frame,holistic)\n",
        "\n",
        "        draw_abdomen_landmarks(image,results)        \n",
        "\n",
        "        keypoints = abdomen_keypoints(results)\n",
        "\n",
        "        sequence.append(keypoints) \n",
        "        sequence = sequence[-15:]\n",
        "#         print(sequence)\n",
        "        \n",
        "        pred = model.predict(np.expand_dims(sequence,axis=0))\n",
        "#         print(pred)\n",
        "        action = actions[np.argmax(pred)]\n",
        "\n",
        "        if np.max(pred)> threshold: \n",
        "            cv2.rectangle(image,(0,0),(200,50),(245,117,16),-1)\n",
        "            cv2.putText(image, f'{action}:{np.max(pred):.2f}',\n",
        "                      (3,30),cv2.FONT_HERSHEY_SIMPLEX,1.5,\n",
        "                      (255,255,255),2,cv2.LINE_AA)\n",
        "\n",
        "        cv2.imshow('Webcam Feed', image)\n",
        "\n",
        "        if cv2.waitKey(10) & 0xFF == ord('q'):\n",
        "            break\n",
        "\n",
        "cap.release()\n",
        "cv2.destroyAllWindows()"
      ]
    },
    {
      "cell_type": "code",
      "execution_count": null,
      "metadata": {
        "id": "MbkIofGSkrgc"
      },
      "outputs": [],
      "source": []
    }
  ],
  "metadata": {
    "colab": {
      "provenance": [],
      "collapsed_sections": [
        "quZdUPQOkrgD",
        "nZKS-qoikrgH",
        "LeKGYNX0krgJ",
        "MzjxXgPJkrgL",
        "KpkD6ZGIkrgN",
        "22E8CKd0krgT",
        "tdKmalGxkrgT",
        "iYUH8II_krgU",
        "FEf22r7ukrgW",
        "8AfnFRCVkrgX",
        "tnqAuL84krgZ"
      ],
      "include_colab_link": true
    },
    "kernelspec": {
      "display_name": "Python 3 (ipykernel)",
      "language": "python",
      "name": "python3"
    },
    "language_info": {
      "codemirror_mode": {
        "name": "ipython",
        "version": 3
      },
      "file_extension": ".py",
      "mimetype": "text/x-python",
      "name": "python",
      "nbconvert_exporter": "python",
      "pygments_lexer": "ipython3",
      "version": "3.9.12"
    }
  },
  "nbformat": 4,
  "nbformat_minor": 0
}